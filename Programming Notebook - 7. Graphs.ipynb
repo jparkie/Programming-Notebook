{
 "cells": [
  {
   "cell_type": "markdown",
   "metadata": {},
   "source": [
    "# Programming Notebook\n",
    "*Author: Jacob Park*"
   ]
  },
  {
   "cell_type": "markdown",
   "metadata": {},
   "source": [
    "## Graphs"
   ]
  },
  {
   "cell_type": "markdown",
   "metadata": {},
   "source": [
    "A graph $G$ is a pair $(V, E)$ where $V$ is a set of vertices and $E$ is a set of edges."
   ]
  },
  {
   "cell_type": "markdown",
   "metadata": {},
   "source": [
    "### Implementation with Adjacency Lists"
   ]
  },
  {
   "cell_type": "code",
   "execution_count": 1,
   "metadata": {},
   "outputs": [
    {
     "data": {
      "text/plain": [
       "graphs.ListGraph"
      ]
     },
     "execution_count": 1,
     "metadata": {},
     "output_type": "execute_result"
    }
   ],
   "source": [
    "package graphs;\n",
    "\n",
    "import java.util.*;\n",
    "\n",
    "public class ListGraph {\n",
    "    \n",
    "    private final ArrayList<LinkedList<Integer>> adjacencyList;\n",
    "    private final int vertices;\n",
    "    \n",
    "    public ListGraph(int vertices) {\n",
    "        this.adjacencyList = new ArrayList<>(vertices);\n",
    "        this.vertices = vertices;\n",
    "        for (int vertex = 0; vertex < vertices; vertex++) {\n",
    "            this.adjacencyList.add(new LinkedList<>());\n",
    "        }\n",
    "    }\n",
    "    \n",
    "    public void addEdge(int v, int w) {\n",
    "        adjacencyList.get(v).add(w);\n",
    "    }\n",
    "    \n",
    "    public int getVertices() {\n",
    "        return vertices;\n",
    "    }\n",
    "    \n",
    "    public Iterable<Integer> getAdjacents(int v) {\n",
    "        return adjacencyList.get(v);\n",
    "    }\n",
    "    \n",
    "}"
   ]
  },
  {
   "cell_type": "markdown",
   "metadata": {},
   "source": [
    "### Implementation with Adjacency Matrix"
   ]
  },
  {
   "cell_type": "code",
   "execution_count": 2,
   "metadata": {},
   "outputs": [
    {
     "data": {
      "text/plain": [
       "graphs.MatrixGraph"
      ]
     },
     "execution_count": 2,
     "metadata": {},
     "output_type": "execute_result"
    }
   ],
   "source": [
    "package graphs;\n",
    "\n",
    "import java.util.*;\n",
    "\n",
    "public class MatrixGraph {\n",
    "    \n",
    "    private final boolean[][] adjacencyMatrix;\n",
    "    private final int vertices;\n",
    "    \n",
    "    public MatrixGraph(int vertices) {\n",
    "        this.adjacencyMatrix = new boolean[vertices][vertices];\n",
    "        this.vertices = vertices;\n",
    "    }\n",
    "    \n",
    "    public void addEdge(int v, int w) {\n",
    "        adjacencyMatrix[v][w] = true;\n",
    "    }\n",
    "    \n",
    "    public int getVertices() {\n",
    "        return vertices;\n",
    "    }\n",
    "    \n",
    "    public Iterable<Integer> getAdjacents(int v) {\n",
    "        boolean[] adjacencyVector = adjacencyMatrix[v];\n",
    "        LinkedList<Integer> adjacencyList = new LinkedList<>();\n",
    "        for (int vertex = 0; vertex < adjacencyVector.length; vertex++) {\n",
    "            if (adjacencyVector[vertex]) {\n",
    "                adjacencyList.add(vertex);\n",
    "            }\n",
    "        }\n",
    "        return adjacencyList;\n",
    "    }\n",
    "    \n",
    "}"
   ]
  },
  {
   "cell_type": "markdown",
   "metadata": {},
   "source": [
    "### Traversing with Depth-First Search"
   ]
  },
  {
   "cell_type": "code",
   "execution_count": 3,
   "metadata": {},
   "outputs": [
    {
     "data": {
      "text/plain": [
       "graphs.dfs.DepthFirstSearch"
      ]
     },
     "execution_count": 3,
     "metadata": {},
     "output_type": "execute_result"
    }
   ],
   "source": [
    "package graphs.dfs;\n",
    "\n",
    "import graphs.*;\n",
    "\n",
    "import java.util.*;\n",
    "import java.util.function.*;\n",
    "\n",
    "public class DepthFirstSearch {\n",
    "    \n",
    "    public static void depthFirstSearch(\n",
    "        ListGraph graph, \n",
    "        int v, \n",
    "        Consumer<Integer> action) {\n",
    "        Set<Integer> visitedSet = new HashSet<>();\n",
    "        Stack<Integer> stack = new Stack<>();\n",
    "        \n",
    "        stack.push(v);\n",
    "        \n",
    "        while (!stack.isEmpty()) {\n",
    "            int currentVertex = stack.pop();\n",
    "            \n",
    "            visitedSet.add(currentVertex);\n",
    "            \n",
    "            action.accept(currentVertex);\n",
    "            \n",
    "            Iterable<Integer> adjacents = graph.getAdjacents(currentVertex);\n",
    "            for (int adjacentVertex : adjacents) {\n",
    "                if (!visitedSet.contains(adjacentVertex)) {\n",
    "                    stack.push(adjacentVertex);\n",
    "                }\n",
    "            }\n",
    "        }\n",
    "    }\n",
    "    \n",
    "}"
   ]
  },
  {
   "cell_type": "code",
   "execution_count": 4,
   "metadata": {},
   "outputs": [
    {
     "name": "stdout",
     "output_type": "stream",
     "text": [
      "2\n",
      "3\n",
      "0\n",
      "1\n"
     ]
    },
    {
     "data": {
      "text/plain": [
       "null"
      ]
     },
     "execution_count": 4,
     "metadata": {},
     "output_type": "execute_result"
    }
   ],
   "source": [
    "package graphs.dfs;\n",
    "\n",
    "import graphs.*;\n",
    "\n",
    "ListGraph graph = new ListGraph(4);\n",
    "graph.addEdge(0, 1);\n",
    "graph.addEdge(0, 2);\n",
    "graph.addEdge(1, 2);\n",
    "graph.addEdge(2, 0);\n",
    "graph.addEdge(2, 3);\n",
    "graph.addEdge(3, 3);\n",
    "\n",
    "DepthFirstSearch.depthFirstSearch(graph, 2, (vertex) -> System.out.println(vertex));"
   ]
  },
  {
   "cell_type": "markdown",
   "metadata": {},
   "source": [
    "### Traversing with Breadth-First Search"
   ]
  },
  {
   "cell_type": "code",
   "execution_count": 5,
   "metadata": {},
   "outputs": [
    {
     "data": {
      "text/plain": [
       "graphs.bfs.BreadthFirstSearch"
      ]
     },
     "execution_count": 5,
     "metadata": {},
     "output_type": "execute_result"
    }
   ],
   "source": [
    "package graphs.bfs;\n",
    "\n",
    "import graphs.*;\n",
    "\n",
    "import java.util.*;\n",
    "import java.util.function.*;\n",
    "\n",
    "public class BreadthFirstSearch {\n",
    "    \n",
    "    public static void breadthFirstSearch(\n",
    "        ListGraph graph, \n",
    "        int v, \n",
    "        Consumer<Integer> action) {\n",
    "        Set<Integer> visitedSet = new HashSet<>();\n",
    "        Deque<Integer> queue = new ArrayDeque<>();\n",
    "        \n",
    "        queue.offer(v);\n",
    "        \n",
    "        while (!queue.isEmpty()) {\n",
    "            int currentVertex = queue.poll();\n",
    "            \n",
    "            visitedSet.add(currentVertex);\n",
    "            \n",
    "            action.accept(currentVertex);\n",
    "            \n",
    "            Iterable<Integer> adjacents = graph.getAdjacents(currentVertex);\n",
    "            for (int adjacentVertex : adjacents) {\n",
    "                if (!visitedSet.contains(adjacentVertex)) {\n",
    "                    queue.offer(adjacentVertex);\n",
    "                }\n",
    "            }\n",
    "        }\n",
    "    }\n",
    "    \n",
    "}"
   ]
  },
  {
   "cell_type": "code",
   "execution_count": 6,
   "metadata": {},
   "outputs": [
    {
     "name": "stdout",
     "output_type": "stream",
     "text": [
      "2\n",
      "0\n",
      "3\n",
      "1\n"
     ]
    },
    {
     "data": {
      "text/plain": [
       "null"
      ]
     },
     "execution_count": 6,
     "metadata": {},
     "output_type": "execute_result"
    }
   ],
   "source": [
    "package graphs.bfs;\n",
    "\n",
    "import graphs.*;\n",
    "\n",
    "ListGraph graph = new ListGraph(4);\n",
    "graph.addEdge(0, 1);\n",
    "graph.addEdge(0, 2);\n",
    "graph.addEdge(1, 2);\n",
    "graph.addEdge(2, 0);\n",
    "graph.addEdge(2, 3);\n",
    "graph.addEdge(3, 3);\n",
    "\n",
    "BreadthFirstSearch.breadthFirstSearch(graph, 2, (vertex) -> System.out.println(vertex));"
   ]
  },
  {
   "cell_type": "markdown",
   "metadata": {},
   "source": [
    "### Shortest Paths with Dijkstra's Algorithm ($O(|E| + |V|\\log(|V|))$)"
   ]
  },
  {
   "cell_type": "code",
   "execution_count": 7,
   "metadata": {},
   "outputs": [
    {
     "data": {
      "text/plain": [
       "graphs.dijkstra.Dijkstra"
      ]
     },
     "execution_count": 7,
     "metadata": {},
     "output_type": "execute_result"
    }
   ],
   "source": [
    "package graphs.dijkstra;\n",
    "\n",
    "import graphs.*;\n",
    "\n",
    "import java.util.*;\n",
    "\n",
    "public class Dijkstra {\n",
    "\n",
    "    private static class VertexDistancePair implements Comparable<VertexDistancePair> {\n",
    "\n",
    "        private final int vertex;\n",
    "        private final int distance;\n",
    "\n",
    "        public VertexDistancePair(int vertex, int distance) {\n",
    "            this.vertex = vertex;\n",
    "            this.distance = distance;\n",
    "        }\n",
    "\n",
    "        public int getVertex() {\n",
    "            return vertex;\n",
    "        }\n",
    "\n",
    "        public int getDistance() {\n",
    "            return distance;\n",
    "        }\n",
    "\n",
    "        @Override\n",
    "        public int compareTo(VertexDistancePair other) {\n",
    "            return Integer.compare(this.distance, other.distance);\n",
    "        }\n",
    "\n",
    "    }\n",
    "    \n",
    "    private static List<Integer> buildPath(Map<Integer, Integer> vertexTo, int destination) {\n",
    "        if (vertexTo.containsKey(destination)) {\n",
    "            LinkedList<Integer> path = new LinkedList<>(Collections.singletonList(destination));\n",
    "\n",
    "            int currentVertex = destination;\n",
    "            while (vertexTo.containsKey(currentVertex)) {\n",
    "                currentVertex = vertexTo.get(currentVertex);\n",
    "                path.addFirst(currentVertex);\n",
    "            }\n",
    "\n",
    "            return path;\n",
    "        } else {\n",
    "            return Collections.emptyList();\n",
    "        }\n",
    "    }\n",
    "\n",
    "    /*\n",
    "     * Shortest Paths with Positive-Weights Only:\n",
    "     *\n",
    "     * 1. Assume all vertices are an infinite distance away from the source.\n",
    "     * 2. Assume the source is zero distance away from the source.\n",
    "     * 3. Perform a breadth-first search using a priority queue by distance \n",
    "     *    instead of a regular queue.\n",
    "     * 4. For every unvisted adjacent vertex, relax its distance from \n",
    "     *    the source by taking the minimum of its current distance or \n",
    "     *    the distance from the source to the current vertex to \n",
    "     *    the adjacent vertex.\n",
    "     *\n",
    "     *    i.e. The shortest path can be greedily attained by choosing \n",
    "     *         to stay on the current path or to swap to a shorter path.\n",
    "     */\n",
    "    public static List<Integer> shortestPath(\n",
    "        ListGraph graph,\n",
    "        int[][] weights,\n",
    "        int source,\n",
    "        int destination) {\n",
    "        Map<Integer, Integer> distanceTo = new HashMap<>();\n",
    "        Map<Integer, Integer> vertexTo = new HashMap<>();\n",
    "        Set<Integer> visitedSet = new HashSet<>();\n",
    "        PriorityQueue<VertexDistancePair> priorityQueue = new PriorityQueue<>();\n",
    "\n",
    "        for (int vertex = 0; vertex < graph.getVertices(); vertex++) {\n",
    "            distanceTo.put(vertex, Integer.MAX_VALUE);\n",
    "        }\n",
    "        distanceTo.put(source, 0);\n",
    "\n",
    "        priorityQueue.offer(new VertexDistancePair(source, distanceTo.get(source)));\n",
    "\n",
    "        while (!priorityQueue.isEmpty()) {\n",
    "            int minimumVertex = priorityQueue.poll().getVertex();\n",
    "\n",
    "            visitedSet.add(minimumVertex);\n",
    "\n",
    "            Iterable<Integer> adjacents = graph.getAdjacents(minimumVertex);\n",
    "            for (int adjacentVertex : adjacents) {\n",
    "                if (!visitedSet.contains(adjacentVertex)) {\n",
    "                    int vDistance = distanceTo.get(minimumVertex);\n",
    "                    int wDistance = distanceTo.get(adjacentVertex);\n",
    "                    int edgeDistance = weights[minimumVertex][adjacentVertex];\n",
    "                    if (wDistance > vDistance + edgeDistance) {\n",
    "                        distanceTo.put(adjacentVertex, vDistance + edgeDistance);\n",
    "                        vertexTo.put(adjacentVertex, minimumVertex);\n",
    "                        priorityQueue.offer(new VertexDistancePair(adjacentVertex, distanceTo.get(adjacentVertex)));\n",
    "                    }\n",
    "                }\n",
    "            }\n",
    "        }\n",
    "\n",
    "        return buildPath(vertexTo, destination);\n",
    "    }\n",
    "\n",
    "}"
   ]
  },
  {
   "cell_type": "code",
   "execution_count": 8,
   "metadata": {},
   "outputs": [
    {
     "name": "stdout",
     "output_type": "stream",
     "text": [
      "[0, 4, 1, 2]\n"
     ]
    },
    {
     "data": {
      "text/plain": [
       "null"
      ]
     },
     "execution_count": 8,
     "metadata": {},
     "output_type": "execute_result"
    }
   ],
   "source": [
    "package graphs.dijkstra;\n",
    "\n",
    "import graphs.*;\n",
    "\n",
    "import java.util.*;\n",
    "\n",
    "ListGraph graph = new ListGraph(5);\n",
    "graph.addEdge(0, 1);\n",
    "graph.addEdge(0, 4);\n",
    "graph.addEdge(1, 2);\n",
    "graph.addEdge(1, 4);\n",
    "graph.addEdge(2, 3);\n",
    "graph.addEdge(3, 0);\n",
    "graph.addEdge(3, 2);\n",
    "graph.addEdge(4, 1);\n",
    "graph.addEdge(4, 2);\n",
    "graph.addEdge(4, 3);\n",
    "\n",
    "int[][] weights = new int[5][5];\n",
    "weights[0][1] = 10;\n",
    "weights[0][4] = 5;\n",
    "weights[1][2] = 1;\n",
    "weights[1][4] = 2;\n",
    "weights[2][3] = 4;\n",
    "weights[3][0] = 7;\n",
    "weights[3][2] = 6;\n",
    "weights[4][1] = 3;\n",
    "weights[4][2] = 9;\n",
    "weights[4][3] = 2;\n",
    "\n",
    "List<Integer> path = Dijkstra.shortestPath(graph, weights, 0, 2);\n",
    "\n",
    "System.out.println(path.toString());"
   ]
  },
  {
   "cell_type": "markdown",
   "metadata": {},
   "source": [
    "### Shortest Paths with Bellman-Ford Algorithm ($O(|V||E|)$)"
   ]
  },
  {
   "cell_type": "code",
   "execution_count": 9,
   "metadata": {},
   "outputs": [
    {
     "data": {
      "text/plain": [
       "graphs.bellman_ford.BellmanFord"
      ]
     },
     "execution_count": 9,
     "metadata": {},
     "output_type": "execute_result"
    }
   ],
   "source": [
    "package graphs.bellman_ford;\n",
    "\n",
    "import graphs.*;\n",
    "\n",
    "import java.util.*;\n",
    "\n",
    "public class BellmanFord {\n",
    "\n",
    "    private static List<Integer> buildPath(Map<Integer, Integer> vertexTo, int destination) {\n",
    "        if (vertexTo.containsKey(destination)) {\n",
    "            LinkedList<Integer> path = new LinkedList<>(Collections.singletonList(destination));\n",
    "\n",
    "            int currentVertex = destination;\n",
    "            while (vertexTo.containsKey(currentVertex)) {\n",
    "                currentVertex = vertexTo.get(currentVertex);\n",
    "                path.addFirst(currentVertex);\n",
    "            }\n",
    "\n",
    "            return path;\n",
    "        } else {\n",
    "            return Collections.emptyList();\n",
    "        }\n",
    "    }\n",
    "\n",
    "    /*\n",
    "     * Shortest Paths with Negative-Weights Allowed:\n",
    "     *\n",
    "     * 1. Assume all vertices are an infinite distance away from the source.\n",
    "     * 2. Assume the source is zero distance away from the source.\n",
    "     * 3. For every vertex and its adjacent vertex, relax its distance from \n",
    "     *    the source by taking the minimum of its current distance or \n",
    "     *    the distance from the source to the current vertex to \n",
    "     *    the adjacent vertex.\n",
    "     */\n",
    "    public static List<Integer> shortestPath(\n",
    "        ListGraph graph,\n",
    "        int[][] weights,\n",
    "        int source,\n",
    "        int destination) {\n",
    "        Map<Integer, Integer> distanceTo = new HashMap<>();\n",
    "        Map<Integer, Integer> vertexTo = new HashMap<>();\n",
    "\n",
    "        for (int vertex = 0; vertex < graph.getVertices(); vertex++) {\n",
    "            distanceTo.put(vertex, Integer.MAX_VALUE);\n",
    "        }\n",
    "        distanceTo.put(source, 0);\n",
    "\n",
    "        for (int vertex = 0; vertex < graph.getVertices(); vertex++) {\n",
    "            Iterable<Integer> adjacents = graph.getAdjacents(vertex);\n",
    "            for (int adjacentVertex : adjacents) {\n",
    "                int vDistance = distanceTo.get(vertex);\n",
    "                int wDistance = distanceTo.get(adjacentVertex);\n",
    "                int edgeDistance = weights[vertex][adjacentVertex];\n",
    "                if (wDistance > vDistance + edgeDistance) {\n",
    "                    distanceTo.put(adjacentVertex, vDistance + edgeDistance);\n",
    "                    vertexTo.put(adjacentVertex, vertex);\n",
    "                }\n",
    "            }\n",
    "        }\n",
    "\n",
    "        return buildPath(vertexTo, destination);\n",
    "    }\n",
    "\n",
    "}"
   ]
  },
  {
   "cell_type": "code",
   "execution_count": 10,
   "metadata": {},
   "outputs": [
    {
     "name": "stdout",
     "output_type": "stream",
     "text": [
      "[0, 4, 1, 2]\n"
     ]
    },
    {
     "data": {
      "text/plain": [
       "null"
      ]
     },
     "execution_count": 10,
     "metadata": {},
     "output_type": "execute_result"
    }
   ],
   "source": [
    "package graphs.bellman_ford;\n",
    "\n",
    "import graphs.*;\n",
    "\n",
    "import java.util.*;\n",
    "\n",
    "ListGraph graph = new ListGraph(5);\n",
    "graph.addEdge(0, 1);\n",
    "graph.addEdge(0, 4);\n",
    "graph.addEdge(1, 2);\n",
    "graph.addEdge(1, 4);\n",
    "graph.addEdge(2, 3);\n",
    "graph.addEdge(3, 0);\n",
    "graph.addEdge(3, 2);\n",
    "graph.addEdge(4, 1);\n",
    "graph.addEdge(4, 2);\n",
    "graph.addEdge(4, 3);\n",
    "\n",
    "int[][] weights = new int[5][5];\n",
    "weights[0][1] = 10;\n",
    "weights[0][4] = 5;\n",
    "weights[1][2] = 1;\n",
    "weights[1][4] = 2;\n",
    "weights[2][3] = 4;\n",
    "weights[3][0] = 7;\n",
    "weights[3][2] = 6;\n",
    "weights[4][1] = 3;\n",
    "weights[4][2] = 9;\n",
    "weights[4][3] = 2;\n",
    "\n",
    "List<Integer> path = BellmanFord.shortestPath(graph, weights, 0, 2);\n",
    "\n",
    "System.out.println(path.toString());"
   ]
  }
 ],
 "metadata": {
  "kernelspec": {
   "display_name": "Java",
   "language": "java",
   "name": "java"
  },
  "language_info": {
   "codemirror_mode": "text/x-java",
   "file_extension": ".java",
   "mimetype": "",
   "name": "Java",
   "nbconverter_exporter": "",
   "version": "1.8.0_144"
  }
 },
 "nbformat": 4,
 "nbformat_minor": 2
}
