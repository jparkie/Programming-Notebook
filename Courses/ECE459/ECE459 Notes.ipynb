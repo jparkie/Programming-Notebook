{
 "cells": [
  {
   "cell_type": "markdown",
   "metadata": {},
   "source": [
    "# ECE 459 - Programming for Performance"
   ]
  },
  {
   "cell_type": "markdown",
   "metadata": {},
   "source": [
    "## Programming for Performance"
   ]
  },
  {
   "cell_type": "markdown",
   "metadata": {},
   "source": [
    "### Performance\n",
    "\n",
    "- **Items Per Unit Time** (*Bandwidth - More Is Better*): A measure of how much work can be done simultaneously.\n",
    "- **Time Per Item** (*Latency - Lower is Better*): A measure of how much time it takes to do any one particular task."
   ]
  },
  {
   "cell_type": "markdown",
   "metadata": {},
   "source": [
    "### Improving Latency\n",
    "\n",
    "1. *Profile the Code.*\n",
    "2. *Do Less Work: Logging & Reporting.*\n",
    "3. *Be Prepared.*\n",
    "4. *Be Smarter: Better Asymptotic Performance & Smaller Constant Factors.*\n",
    "5. *Improve Hardware: CPU, Memory, Network, Storage.*\n",
    "6. *Assembly: Provide Compiler Hints & Vectorization.*"
   ]
  },
  {
   "cell_type": "markdown",
   "metadata": {},
   "source": [
    "### Improving Bandwidth\n",
    "\n",
    "1. *Parallelism: Algorithmic.*\n",
    "2. *Pipelining: Intra-CPU.*\n",
    "3. *Hardware: Inter-CPU.*"
   ]
  },
  {
   "cell_type": "markdown",
   "metadata": {},
   "source": [
    "### Difficulties with Parallelism\n",
    "\n",
    "1. All tasks are not inherently parallelizable; thus, an infinite number of CPUs will not improve bandwidth.\n",
    "2. All tasks can be composed of various parallel and sequential sub-tasks; thus, there is difficulty in identifying these different sub-tasks.\n",
    "3. Parallel tasks can often lack total ordering yet possess partial ordering; thus, parallel tasks can be harder to reason and to test.\n",
    "4. Parallel tasks are often difficult to cache.\n",
    "5. **Data Race**: When two threads/processes both attempt to simultaneously access the same data, and at least one of the accesses is a write. This can lead to incorrect intermediate states becoming visible to one of the participants.\n",
    "6. **Deadlock**: When none of the threads/processes can make progress on a task because of a cycle in the resource requests."
   ]
  },
  {
   "cell_type": "markdown",
   "metadata": {},
   "source": [
    "## Modern Processors"
   ]
  },
  {
   "cell_type": "markdown",
   "metadata": {},
   "source": [
    "### Modern Processors\n",
    "\n",
    "- **von Neumann Machine Architecture**: A program is comprised of both instructions and data, both of which are stored in the same memory, and the program executes sequentially, one statement at a time.\n",
    "- **CISC Machines**: Complex Instruction Set Computing.\n",
    "    - *Advantage*: Complex Features.\n",
    "    - *Disadvantage*: Difficult Pipelining.\n",
    "    - More Cycles / Instruction.\n",
    "- **RISC Machines**: Reduced Instruction Set Computing.\n",
    "    - *Advantage*: Easy Pipelining.\n",
    "    - *Disadvantage*: Complex Compilers.\n",
    "    - Less Cycles / Instruction.\n",
    "- *Old Optimization Goal #1*: ~~Minimize Page Faults~~ - Memory is Cheap.\n",
    "- *Old Optimization Goal #2*: ~~Minimize Instruction Count~~ - Storage is Cheap."
   ]
  },
  {
   "cell_type": "markdown",
   "metadata": {},
   "source": [
    "### CPU Walls\n",
    "\n",
    "- **Wall #1**: CPU clock speeds stopped getting faster than 3 GHz since 2005.\n",
    "- **Wall #2**: Branch prediction stopped at 95% efficiency.\n",
    "- **Wall #3**: Memory speeds have not increased; thus, runtime is dominated by cache misses.\n",
    "- **Wall #4**: CPU hardware is limited by the speed of light."
   ]
  },
  {
   "cell_type": "markdown",
   "metadata": {},
   "source": [
    "### Pipelining\n",
    "\n",
    "1. Fetch Instruction.\n",
    "2. Decode Instruction.\n",
    "3. Fetch Operands.\n",
    "4. Perform Operation .\n",
    "5. Write Result.\n",
    "\n",
    ">Pipelining allows the stages of various instructions to be executed in parallel.\n",
    "\n",
    "#### Hazards\n",
    "\n",
    "1. An instruction may need the result of a previous instruction.\n",
    "2. Multiple instructions can conflict over CPU resources.\n",
    "3. A fetch may be unable to identify the next instruction because of a branch.\n",
    "4. If a branch was mispredicted, the pipeline much be flushed."
   ]
  },
  {
   "cell_type": "markdown",
   "metadata": {},
   "source": [
    "### Other Modern Processor Features\n",
    "\n",
    "- **Miss Shadow**: A CPU can allow multiple *LOAD* instructions in parallel, even if a register is not ready, by continuing execution until the specific registers are used.\n",
    "- **Branch Prediction**: A CPU can predict what branch will be executed such that the CPU can eagerly pipeline the predicted instructions. If the CPU is wrong, then it flushes the pipeline.\n",
    "- **Dual Issue Instructions**: If two consecutive instructions take the same amount of cycles, use unrelated registers, and do not consume two of the same resource, then a CPU can execute the two instructions in parallel.\n",
    "- **Register Renaming**: A CPU can map registers specified within the instructions to different physical register to prevent pipeline hazards.\n",
    "    - This helps branch prediction to recover from mispredictions faster.\n",
    "    - This help handle cache misses.\n",
    "- **Out-of-Order Execution**: A CPU can execute instruction non-sequentially to improve the performance of other processor features."
   ]
  },
  {
   "cell_type": "markdown",
   "metadata": {},
   "source": [
    "### A Deeper Look at Cache Misses\n",
    "\n",
    "- All **memory addresses** are mapped to **pages**.\n",
    "    - **Cache Hit**: If a page is found in the cache.\n",
    "    - **Cache Miss**: If a page is not found in the cache.\n",
    "- A cache miss requires the page to be loaded from memory.\n",
    "- **Hit Ratio**: The percentage of the time that a page is found in the cache.\n",
    "\n",
    "#### Cache Levels Hierarchy (Fastest to Slowest)\n",
    "\n",
    "1. L1 Cache.\n",
    "2. L2 Cache.\n",
    "3. L3 Cache.\n",
    "\n",
    "#### Effective Access Time Formula (w/o Disk)\n",
    "\n",
    "$$\\text{Effective Access Time} = h \\times t_{c} + (1 - h) \\times t_{m}$$\n",
    "\n",
    "- Where $h$ is the hit ratio.\n",
    "- Where $t_{c}$ is the time required to load a page from cache.\n",
    "- Where $t_{m}$ is the time required to load a page from memory.\n",
    "\n",
    "#### Effective Access Time Formula (w/ Disk)\n",
    "\n",
    "$$\\text{Effective Access Time} = h \\times t_{c} + (1 - h)(p \\times t_{m} + (1 - p) \\times t_{d})$$\n",
    "\n",
    "- Where $h$ is the hit ratio.\n",
    "- Where $p$ is the probability that a page is in memory.\n",
    "- Where $t_{c}$ is the time required to load a page from cache.\n",
    "- Where $t_{m}$ is the time required to load a page from memory.\n",
    "- Where $t_{d}$ is the time required to load a page from disk."
   ]
  },
  {
   "cell_type": "markdown",
   "metadata": {},
   "source": [
    "## CPU Hardware, Branch Prediction"
   ]
  },
  {
   "cell_type": "markdown",
   "metadata": {},
   "source": [
    "### Multicore Processors\n",
    "\n",
    "- A **symmetric multiprocessor** contains multiple physical CPUs, and each physical CPU can have multiple cores (virtual CPUs).\n",
    "    - *Important Note 1: The various cores in a CPU share the same cache.*\n",
    "    - *Important Note 2: The various CPUs have approximately the same access time for resources.*\n",
    "- **Non-Uniform Memory Access** (*NUMA*): When various CPUs can access different resources at different speeds.\n",
    "- **Affinity**: To prevent task switches when two threads are executed on one CPU, affine each thread to different CPUs."
   ]
  },
  {
   "cell_type": "markdown",
   "metadata": {},
   "source": [
    "### Branch Prediction and Misprediction\n",
    "\n",
    "- **Branch Prediction**: When the compiler and the CPU analyze instructions to decide whether a branch is taken.\n",
    "- **Branch Hints**: In `gcc`, the `__builtin_expect()` function allows the program to provide the compiler hints."
   ]
  },
  {
   "cell_type": "markdown",
   "metadata": {},
   "source": [
    "### Branch Prediction Models\n",
    "\n",
    "- **Always-Wrong Prediction Model**:\n",
    "$$\\text{Average Cycles Per Instruction} = \\text{non-branch}\\% \\times n_{avg} + \\text{branch}\\% \\times n_{wrong}$$\n",
    "- **Always-Right Prediction Model**:\n",
    "$$\\text{Average Cycles Per Instruction} = \\text{non-branch}\\% \\times n_{avg} + \\text{branch}\\% \\times n_{right}$$\n",
    "- **General Prediction Model**:\n",
    "$$\\text{Average Cycles Per Instruction} = \\text{non-branch}\\% \\times n_{avg} + \\text{branch}\\% \\times (\\text{inaccuracy}\\% \\times n_{wrong} + \\text{accuracy}\\% \\times n_{right})$$"
   ]
  },
  {
   "cell_type": "markdown",
   "metadata": {},
   "source": [
    "### Static Schemes\n",
    "\n",
    "- **Backwards Taken, Forwards Not Taken** (*BTFNT*): A prediction model that optimizes branch predictions for loops, observing that loop branches are backwards."
   ]
  },
  {
   "cell_type": "markdown",
   "metadata": {},
   "source": [
    "### Dynamic Schemes\n",
    "\n",
    "- **1-Bit Scheme**: For every branch, record whether it was taken or not.\n",
    "    - Because not all branches can be stored, the lowest 6 bits of the memory address can be used to identify branches.\n",
    "    - **Aliasing**: When different branches map to the same entry in the branch prediction table.\n",
    "- **2-Bit Scheme**: For every branch, record whether it is usually taken.\n",
    "    - *Not Taken*: $00$ or $01$.\n",
    "    - *Taken*: $10$ or $11$.\n",
    "- **Two-Level Adaptive, Global**: From a branch address and a global history, an index is derived, which points to a table of 2-bit saturating counters; it's adaptive because a different history will yield a different table entry.\n",
    "- **Two-Level Adaptive, Local**: Similar to the two-level adaptive, local scheme, but the CPU keeps a separate history for each branch.\n",
    "- **gshare**: This dynamic scheme reduces the size of other dynamic schemes by combining a branch address and its history with an XOR."
   ]
  },
  {
   "cell_type": "markdown",
   "metadata": {},
   "source": [
    "## Cache Coherency"
   ]
  },
  {
   "cell_type": "markdown",
   "metadata": {},
   "source": [
    "### Cache Coherency\n",
    "\n",
    "- **Cache Coherency**: When the values in all caches are consistent; and to some extent, the system behaves as if all CPUs are using shared memory.\n",
    "- As modern CPUs have 3 or 4 cache levels, L3 cache is often used for cache coherency communication, and L4 cache is often used for integrated graphics."
   ]
  },
  {
   "cell_type": "markdown",
   "metadata": {},
   "source": [
    "### Snoopy Caches\n",
    "\n",
    "1. Every CPU knows whether its cached copy of data from main memory is shared or not.\n",
    "2. Thus, whenever a CPU issues a memory write, the other CPUs snoop to observe if the memory location is in their cache.\n",
    "3. If the memory location is in their cache, the other CPUs either *updates* or *invalidates* their cached copy."
   ]
  },
  {
   "cell_type": "markdown",
   "metadata": {},
   "source": [
    "### Write-Through Caches\n",
    "\n",
    "#### Algorithm\n",
    "\n",
    "1. All cache writes are done to main memory.\n",
    "2. All cache writes appear on the shared bus.\n",
    "3. If another CPU snoops and sees it has the same location in its cache, it will either update or invalidate the data.\n",
    "\n",
    "#### Variants\n",
    "\n",
    "- **Write No-Allocate**: When writing an invalidated location, the cache can be bypassed, and the write can go directly to memory.\n",
    "- **Write Broadcast**: When writing, all versions in all caches are updated.\n",
    "\n",
    "#### Protocol (State Machine)\n",
    "\n",
    "|  State  | Observed | Generated | Next State |\n",
    "|:-------:|:--------:|:---------:|:----------:|\n",
    "|  Valid  |   PrRd   |     ~     |    Valid   |\n",
    "|  Valid  |   PrWr   |   BusWr   |    Valid   |\n",
    "|  Valid  |   BusWr  |     ~     |   Invalid  |\n",
    "| Invalid |   PrWr   |   BusWr   |    Valid   |\n",
    "| Invalid |   PrRd   |   BusRd   |    Valid   |\n",
    "\n",
    "- Where **Valid** and **Invalid** are the two possible states for each cached memory location.\n",
    "- Where **Pr** is the processor.\n",
    "- Where **Bus** is the bus.\n",
    "- Where **Rd** is a read and **Wr** is a write."
   ]
  },
  {
   "cell_type": "markdown",
   "metadata": {},
   "source": [
    "### Write-Back Caches\n",
    "\n",
    "#### MSI Protocol\n",
    "\n",
    "|   State  | Observed | Generated | Next State |\n",
    "|:--------:|:--------:|:---------:|:----------:|\n",
    "| Modified |   PrRd   |     ~     |  Modified  |\n",
    "| Modified |   PrWr   |     ~     |  Modified  |\n",
    "| Modified |   BusRd  |   BusWB   |   Shared   |\n",
    "| Modified |  BusRdX  |   BusWB   |   Invalid  |\n",
    "|  Shared  |   PrRd   |     ~     |   Shared   |\n",
    "|  Shared  |   BusRd  |     ~     |   Shared   |\n",
    "|  Shared  |  BusRdX  |     ~     |   Invalid  |\n",
    "|  Shared  |   PrWr   |   BusRdX  |  Modified  |\n",
    "|  Invalid |   PrRd   |   BusRd   |   Shared   |\n",
    "|  Invalid |   PrWr   |   BusRdX  |  Modified  |\n",
    "\n",
    "- Where **Modified** is the state when only this cache has a valid copy; main memory is out-of-date.\n",
    "- Where **Shared** is the state when the location is unmodified, up-to-date with main memory.\n",
    "- Where **Invalid** is the same as before.\n",
    "- Where **BusWB** is a write-back and **BusRdX** is an exclusive read.\n",
    "- *Note: The initial state for a memory location, upon its first read is shared.*"
   ]
  },
  {
   "cell_type": "markdown",
   "metadata": {},
   "source": [
    "### MESI Protocol - Extension to MSI\n",
    "\n",
    "- **Exclusive** is the state when only this cache has a valid copy; main memory is up-to-date.\n",
    "- This protocol allows a processor to modify data exclusive to it, without having to communicate with the bus."
   ]
  },
  {
   "cell_type": "markdown",
   "metadata": {},
   "source": [
    "### MESIF Protocol - Extension to MESI\n",
    "\n",
    "- **Foward** is another shared state; however, the current cache is the only one that will respond to a request to transfer data.\n",
    "- This protocol reduces bus arbitration or bus contention by preventing multiple caches from answering."
   ]
  },
  {
   "cell_type": "markdown",
   "metadata": {},
   "source": [
    "### False Sharing\n",
    "\n",
    "- When a program has two unrelated data elements that are mapped to the same cache line, **false sharing** could occur; thus, an invalidation of one data element would invalidate the other data element."
   ]
  },
  {
   "cell_type": "markdown",
   "metadata": {},
   "source": [
    "### Volatile\n",
    "\n",
    "- In C, the `volatile` keyword provides the following features:\n",
    "    1. Allow access to memory mapped devices.\n",
    "    2. Allow uses of variables between `setjmp` and `longjmp`.\n",
    "    3. Allow uses of `sig_atomic_t` variables in signal handlers.\n",
    "- The `volatile` keyword does not prevent reordering of instructions."
   ]
  },
  {
   "cell_type": "markdown",
   "metadata": {},
   "source": [
    "## Concurrency and Parallelism"
   ]
  },
  {
   "cell_type": "markdown",
   "metadata": {},
   "source": [
    "### Amdahl's Law\n",
    "\n",
    "$$T_{p} = T_{s} \\times (S + \\frac{P}{N})$$\n",
    "$$\\text{Speed-Up} = \\frac{T_{s}}{T_{p}} = \\frac{1}{S + P/N} \\to \\frac{1}{1 - P}$$\n",
    "\n",
    "- Where $T_{p}$ is the parallel time.\n",
    "- Where $T_{s}$ is the serial time.\n",
    "- Where $S$ is the serial fraction of the program.\n",
    "- Where $P$ is the parallel fraction of the program.\n",
    "- Where $N$ is the number of processors.\n",
    "\n",
    "#### Assumptions\n",
    "\n",
    "1. The problem size is fixed.\n",
    "2. The program behaves the same on 1 processor as on $N$ processors.\n",
    "3. The runtimes can be accurately measured."
   ]
  },
  {
   "cell_type": "markdown",
   "metadata": {},
   "source": [
    "### Generalized Amdahl's Law\n",
    "\n",
    "- Where $f_{1}, f_{2}, ..., f_{n}$ are the fractions of time in part $n$ of a program.\n",
    "- Where $S_{f_{1}}, S_{f_{2}}, ..., S_{f_{n}}$ are the speed-ups for part $n$ of a program.\n",
    "\n",
    "$$\\text{Speed-Up} = \\cfrac{1}{\\frac{f_{1}}{S_{f_{1}}} + \\frac{f_{2}}{S_{f_{2}}} + ... + \\frac{f_{n}}{S_{f_{n}}}}$$"
   ]
  },
  {
   "cell_type": "markdown",
   "metadata": {},
   "source": [
    "### Parallelization Issues\n",
    "\n",
    "1. *Locking and Synchronization Points $\\implies$ Resource Contention.*\n",
    "2. *Centralized Memory Allocators.*\n",
    "3. *Overhead with Creating/Destroying Resources.*\n",
    "4. *Multiplexing Software Threads onto Hardware Threads.*\n",
    "    - **Kernel-Level Threading**: $1:1$.\n",
    "    - **User-Level Threading**: $N:1$.\n",
    "    - **Hybrid Threading**: $M:N$."
   ]
  },
  {
   "cell_type": "markdown",
   "metadata": {},
   "source": [
    "### Proccesses vs. Threads\n",
    "\n",
    "#### Processes\n",
    "\n",
    "1. Each process has its own virtual address space.\n",
    "2. Buffer overruns or other security holes do not expose other processes.\n",
    "3. If a process crashes, the others can continue.\n",
    "\n",
    "#### Threads\n",
    "\n",
    "1. Interprocess communication is more complicated and slower than interthread communication; must use operating system utilities.\n",
    "2. Processes have much higher startup, shutdown, and synchronization costs than threads.\n",
    "3. `pthreads` fix the issues of clone and provide a uniform interface for most systems."
   ]
  },
  {
   "cell_type": "markdown",
   "metadata": {},
   "source": [
    "### Parallelization Patterns\n",
    "\n",
    "1. *Multiple Independent Tasks $\\implies$ No Communication, Simple Scalability.*\n",
    "2. *Multiple Loosely-Coupled Tasks $\\implies$ Moderate Communication & Moderate Scalability.*\n",
    "3. *Multiple Copies of the Same Task $\\implies$ No Communication, Simple Scalability.*\n",
    "4. *Single Task, Multiple Threads (Divide-and-Conquer) $\\implies$ Complex Communication, Reduced Latency ~ Improved Throughput.*\n",
    "5. *Pipeline of Tasks $\\implies$ Moderate Communication, Constant Latency ~ Improved Throughput.*\n",
    "6. *Client-Server $\\implies$ Moderate Communication, Improved Throughput.*\n",
    "7. *Producer-Consumer $\\implies$ Simple Communication, Improved Throughput.*"
   ]
  },
  {
   "cell_type": "markdown",
   "metadata": {},
   "source": [
    "## Working with Threads\n",
    "\n",
    "*See Lecture 6 - Working with Threads for pthreads.*"
   ]
  },
  {
   "cell_type": "markdown",
   "metadata": {},
   "source": [
    "## Race Conditions & Synchronization"
   ]
  },
  {
   "cell_type": "markdown",
   "metadata": {},
   "source": [
    "### Race Conditions\n",
    "\n",
    "- A **race** occurs when you have two concurrent accesses to the same memory location, at least one of which is a *write*.\n",
    "\n",
    "#### Dependencies\n",
    "\n",
    "1. **RAW** (*Read After Write*): The read has to take place after the write, otherwise there's nothing to read, or an incorrect value will be read.\n",
    "2. **WAR** (*Write After Read*): A write cannot take place until the read has happened, to ensure the read takes the correct value.\n",
    "3. **WAW** (*Write After Write*): A write cannot take place because an earlier write needs to happen first. If we do them out of order, the final value may be stale or incorrect.\n",
    "4. **RAR** (*Read After Read*): No hazards.\n",
    "\n",
    "|     ~     | Read 2nd              | Write 2nd               |\n",
    "|----------:|-----------------------|-------------------------|\n",
    "|  Read 1st | RAR - No Dependency   | WAR - Antidependency    |\n",
    "| Write 1st | RAW - True Dependency | WAW - Output Dependency |\n",
    "\n",
    "- *WAR* and *WAW* inhibit parallelization, so copying data and immutable data can be employed to eliminate dependencies."
   ]
  },
  {
   "cell_type": "markdown",
   "metadata": {},
   "source": [
    "### Synchronization\n",
    "\n",
    "- **Mutual Exclusion**: Mutexes allow only one thread to be protected by a mutex at a time.\n",
    "    - Locks protect resources because only one thread can hold a lock at a time.\n",
    "    - Other threads trying to contending for the lock is blocked until the first thread releases the lock.\n",
    "    - **Critical Section**: The code between lock acquisition and lock release.\n",
    "- **Spinlocks**: A variant of mutexes where the waiting thread repeatedly tries to acquire the lock instead of sleeping.\n",
    "    - Spinlocks consume lots of CPU resources, expecting critical sections to finish quickly.\n",
    "- **Semaphores**: A synchronization primitive with a counter used to signal between threads.\n",
    "- **Barriers**: A synchronization primitive that ensures a collection of threads all reached the barrier.\n",
    "- **Reader/Writer Locks**: A synchronization primitive that allows any number of readers to be in the critical section simultaneously, but only one writer may be in the critical section exclusively.\n",
    "- **Lock-Free Code**: Complex synchronization abstractions that rely on CPU atomic operations to provide lock-free synchronization abstractions."
   ]
  },
  {
   "cell_type": "markdown",
   "metadata": {},
   "source": [
    "## Asynchronous I/O\n",
    "\n",
    "*See Lecture 8 - Asynchronous I/O for cURL.*"
   ]
  },
  {
   "cell_type": "markdown",
   "metadata": {},
   "source": [
    "## Of Asgard Hel\n",
    "\n",
    "*See Lecture 9 - Of Asgard Hel for Valgrind.*"
   ]
  },
  {
   "cell_type": "markdown",
   "metadata": {},
   "source": [
    "## Use of Locks, Reentrancy"
   ]
  },
  {
   "cell_type": "markdown",
   "metadata": {},
   "source": [
    "### Appropriate Locking\n",
    "\n",
    "- The critical section should be kept as small as possible because it improves performance, and the contention for the lock is expensive."
   ]
  },
  {
   "cell_type": "markdown",
   "metadata": {},
   "source": [
    "### Locking Granularity\n",
    "\n",
    "- **Coarse-Grained Locking**: When you lock large sections of your program with a single big lock.\n",
    "- **Fine-Grained Locking**: When you lock small sections of your program with multiple small locks."
   ]
  },
  {
   "cell_type": "markdown",
   "metadata": {},
   "source": [
    "### Lock Overhead\n",
    "\n",
    "1. The memory allocated for the lock.\n",
    "2. The time to create and to destroy the lock.\n",
    "3. The time to acquire and release the lock."
   ]
  },
  {
   "cell_type": "markdown",
   "metadata": {},
   "source": [
    "### Lock Contention\n",
    "\n",
    "1. Making dependent locking regions more granular reduces contention.\n",
    "2. Making independent locking regions to use different locks reduces contention."
   ]
  },
  {
   "cell_type": "markdown",
   "metadata": {},
   "source": [
    "### Deadlock Conditions\n",
    "\n",
    "1. **Mutual Exclusion**: A resource belongs to, at most, one process at a time.\n",
    "2. **Hold-and-Wait**: A process that is currently holding some resources may request additional resources and may be forced to wait for them.\n",
    "3. **No Preemption**: A resource cannot be \"taken\" from the process that holds it; only the process currently holding that resource may release it.\n",
    "4. **Circular-Wait**: A cycle in the resource allocation graph."
   ]
  },
  {
   "cell_type": "markdown",
   "metadata": {},
   "source": [
    "### Reentrancy\n",
    "\n",
    "- A function is **thread-safe** if it can be executed from more than one thread at the same time.\n",
    "- A function is **reentrant** if every invocation is independent of every other invocation; thus, a reentrant function is always thread-safe.\n",
    "    - A reentrant function can be invoked while the function is already executing, possibly from the same thread.\n",
    "    - A reentrant function can be restarted without affecting its output."
   ]
  },
  {
   "cell_type": "markdown",
   "metadata": {},
   "source": [
    "## Lock Convoys, Atomics, Lock-Freedom"
   ]
  },
  {
   "cell_type": "markdown",
   "metadata": {},
   "source": [
    "### Lock Convoys\n",
    "\n",
    "- A **lock convoy** occurs when 2+ threads at the same priority frequently contend for a synchronization object, even if they only hold that object for a very short amount of time; thus, the CPU spends all its time on context switches.\n",
    "    - *Side Effect 1: The threads apart of the convoy run for very short periods before blocking.*\n",
    "    - *Side Effect 2: The threads not apart of the convoy but of the same priority run for very long periods.*\n",
    "- **Diagnosis**: If a lock has a nonzero number of waiting threads, but none of the threads appears to own it, then there might be a lock convoy.\n",
    "- **Solution**: The use of **unfair locks** helps with lock convoys.\n",
    "    1. By not giving the lock to $B$ when $A$ releases the lock, the lock becomes unowned.\n",
    "    2. The scheduler chooses another thread to switch to after $A$.\n",
    "        - If it's $B$, then it gets the lock and continues.\n",
    "        - If it's $C$ and it does not request the lock, then it continues.\n",
    "        - If it's $C$ and it does request the lock, then it gets the lock and continues.\n",
    "    3. If the lock was fair and $B$ owned the lock, but it was at the back of the queue, then no one such as $C$ could acquire the lock and make progress; thus, unfair locks improve throughput."
   ]
  },
  {
   "cell_type": "markdown",
   "metadata": {},
   "source": [
    "### Lock Convoy Mitigations\n",
    "\n",
    "1. **Sleep**: If the threads not in the lock convoy call `sleep()` frequently, then the threads in the lock convoy have an increased probability to make progress.\n",
    "2. **Sharing**: If the program benefits from the use of reader-writer locks, then by sharing these locks, the threads in the lock convoy would contend with eachother less.\n",
    "3. **Caching**: If the threads in the lock convoy contend such that they can access a critical section guarding shared data, caching the shared data to reduce the critical section would improve throughput.\n",
    "4. **Try-Lock**: A try-lock synchronization primitive continually tries to acquire the lock, and if it fails, then it yields the CPU to some other thread.\n",
    "    - The use of a spin limit allows low priority threads to execute in a critical section; the threads can recover from contention without creating a convoy."
   ]
  },
  {
   "cell_type": "markdown",
   "metadata": {},
   "source": [
    "### The Thundering Herd Problem\n",
    "\n",
    "1. When some condition is fulfilled, it can trigger a large number of threads to wake and try to take some action.\n",
    "2. Likely, all the of threads cannot proceed, so some of the threads will get blocked.\n",
    "3. Thus, it is better to wake one thread at a time instead of all of the threads."
   ]
  },
  {
   "cell_type": "markdown",
   "metadata": {},
   "source": [
    "### The Lost Wakeup Problem\n",
    "\n",
    "- When calling `notify()` to wake a single thread instead of all the threads, it is possible that the `notify()` becomes lost."
   ]
  },
  {
   "cell_type": "markdown",
   "metadata": {},
   "source": [
    "### Atomics\n",
    "\n",
    "- **Atomic**: A lower-overhead alternative to locks that executes its operation indivisibly; other threads see the states before or after the operation, but nothing in between.\n",
    "    - *Operations: Reads, Writes, Read-Modify-Write, Compare-and-Swap.*\n",
    "- **ABA Problem**: A compare-and-swap operation can suffer false positives if it compares with a memory location with a value of $A$, but before it proceeds, the memory location changes from $A$ to $B$ to $A$."
   ]
  },
  {
   "cell_type": "markdown",
   "metadata": {},
   "source": [
    "### Lock-Freedom\n",
    "\n",
    "- A **non-blocking data structure** is one where none of the operations can result in being blocked.\n",
    "- A **lock-free data structure** is a thread-safe data structure that does not use locks.\n",
    "    - If any thread performing an operation gets suspended during the operation, then other threads accessing the data structure are still able to complete their tasks.\n",
    "- A **wait-free data structure** is a thread-safe data structure that ensures each thread will complete its operations in a bounded number of steps regardless of what any other threads do.\n",
    "- *Note: Lock-free algorithms aim to ensure that there is forward progress in a system; it's aim is not performance.*"
   ]
  },
  {
   "cell_type": "markdown",
   "metadata": {},
   "source": [
    "## Autoparallelization"
   ]
  },
  {
   "cell_type": "markdown",
   "metadata": {},
   "source": [
    "### Three Address Code\n",
    "\n",
    "- Compilers convert ASTs into an intermediate, portable, three-address code for analysis.\n",
    "$$\\text{result} := \\text{operand}_{1} \\text{ operator } \\text{operand}_{2}$$\n",
    "- The `gcc` flags `-fdump-tree-gimple` and `-fdump-tree-all` can be used to see all the three address code."
   ]
  },
  {
   "cell_type": "markdown",
   "metadata": {},
   "source": [
    "### `restrict` Qualifier\n",
    "\n",
    "- The `restrict` qualifier on a pointer `p` tells the compiler that it may assume that, in the scope of `p`, the program will not use any other pointer `q` to access the data at `*p`.\n",
    "- The `restrict` qualifier allows a compiler to optimize code, especially critical loops, better."
   ]
  },
  {
   "cell_type": "markdown",
   "metadata": {},
   "source": [
    "### Automatic Parallelization Compilers\n",
    "\n",
    "- `icc`: Intel C Compiler.\n",
    "- `cc`: Solaris Studio Compiler.\n",
    "- `gcc`: GNU C Compiler - Graphite.\n",
    "- `clang`: Clang Compiler - polly.\n",
    "- *Note: Most compilers's parallelization frameworks use OpenMP.*"
   ]
  },
  {
   "cell_type": "markdown",
   "metadata": {},
   "source": [
    "### Automatic Parallelization Loops\n",
    "\n",
    "#### Single Loop\n",
    "\n",
    "```c\n",
    "for (i = 0; i < 1000; i++)\n",
    "  x[i] = i + 3;\n",
    "```\n",
    "\n",
    "#### Nested Loops with Simple Dependency\n",
    "\n",
    "```c\n",
    "for (i = 0; i < 100; i++)\n",
    "  for (j = 0; j < 100; j++)\n",
    "    x[i][j] = x[i][j] + y[i - 1][j];\n",
    "```\n",
    "\n",
    "#### Single Loop with Not-Very-Simple Dependency\n",
    "\n",
    "```c\n",
    "for (i = 0; i < 10; i++)\n",
    "  x[2 *i + 1] = x[2 * i];\n",
    "```\n",
    "\n",
    "#### Single Loop with If Statement\n",
    "\n",
    "```c\n",
    "for (j = 0; j <= 10; j++)\n",
    "  if (j > 5) x[i] = i + 3;\n",
    "```\n",
    "\n",
    "#### Triangle Loop\n",
    "\n",
    "```c\n",
    "for (i = 0; i < 100; i++)\n",
    "  for (j = i; j < 100; j++)\n",
    "    x[i][j] = 5;\n",
    "```"
   ]
  },
  {
   "cell_type": "markdown",
   "metadata": {},
   "source": [
    "### Automatic Parallelization Tips\n",
    "\n",
    "1. Have a recognized loop style, e.g. for-loops with constant bounds.\n",
    "2. Have no dependencies between data ccessed in loop bodies for each iteration.\n",
    "3. Not conditionally change scalar variables read after the loop terminates, or change any scalar variable across iterations.\n",
    "4. Have enough work in the loop body to make parallelization profitable.\n",
    "5. Inline pure functions or convert functions to macros."
   ]
  },
  {
   "cell_type": "markdown",
   "metadata": {},
   "source": [
    "## OpenMP\n",
    "\n",
    "*See Lecture 13 - OpenMP for OpenMP.*"
   ]
  },
  {
   "cell_type": "markdown",
   "metadata": {},
   "source": [
    "## OpenMP Tasks\n",
    "\n",
    "*See Lecture 14 - OpenMP Tasks for OpenMP Tasks.*"
   ]
  },
  {
   "cell_type": "markdown",
   "metadata": {},
   "source": [
    "## Memory Consistency"
   ]
  },
  {
   "cell_type": "markdown",
   "metadata": {},
   "source": [
    "### OpenMP Memory Model\n",
    "\n",
    "- **Relaxed-Consistency, Shared-Memory Model**:\n",
    "    - All threads share a single store called *memory* which is not representative of RAM.\n",
    "    - Each thread can have its own temporary view of memory.\n",
    "    - Each thread's temporary view of memory is not required to be consistent with memory."
   ]
  },
  {
   "cell_type": "markdown",
   "metadata": {},
   "source": [
    "### Flush Directive\n",
    "\n",
    "- As updates from one thread may not be seen by the other, OpenMP's **flush** directive makes a thread's temporary view of memory consistent with the main memory, by enforcing an order on the memory operations of the variables.\n",
    "```\n",
    "#pragma omp flush [(list)]\n",
    "```\n",
    "    - Where the **flush-set** is the variables in the list.\n",
    "    - A flush directive can be reordered by the compiler, so all relevant variables must be provided in the flush-set.\n",
    "    \n",
    "#### Ordering Rules\n",
    "\n",
    "1. All read/write operations on the flush-set which happen before the flush complete before the flush executes.\n",
    "2. All read/write operations on the flush-set which happen after the flush complete after the flush executes.\n",
    "3. Flushes with overlapping flush-sets can not be reordered.\n",
    "\n",
    "#### Implicit Flush - Yes\n",
    "\n",
    "*See Lecture 15 - Memory Consistency.*\n",
    "\n",
    "#### Implicit Flush - No\n",
    "\n",
    "*See Lecture 15 - Memory Consistency.*"
   ]
  },
  {
   "cell_type": "markdown",
   "metadata": {},
   "source": [
    "### Common Performance Issues in OpenMP\n",
    "\n",
    "1. Unnecessary Flushing.\n",
    "2. Using Critical Sections/Locks vs. Atomics.\n",
    "3. Unnecessary Concurrent-Memory-Writing Protection.\n",
    "    - Local Thread Variables.\n",
    "    - Single/Master Access.\n",
    "4. Too Much Work in Critical Secitons.\n",
    "5. Too Many Entries into Critical Sections."
   ]
  },
  {
   "cell_type": "markdown",
   "metadata": {},
   "source": [
    "### Memory Consistency Models\n",
    "\n",
    "- **Reordering**: A compiler or a processor may reorder non-interfering memory operations within a thread to speed-up code.\n",
    "- **Sequential Consistency**: No Reordering of Loads/Stores.\n",
    "- **Sequential Consistency for Datarace-Free Programs**: No Data Races.\n",
    "- **Relaxed Consistency**: Loads Reordered After Loads/Stores + Stores Reordered After Loads/Stores.\n",
    "- **Weak Consistency**: Any Reordering is Possible."
   ]
  },
  {
   "cell_type": "markdown",
   "metadata": {},
   "source": [
    "### Memory Barriers\n",
    "\n",
    "- A **memory barrier** or **fence** prevents reordering or ensures that memory operations become visible in the right order.\n",
    "- A memory barrier ensures that no access occuring after the barrier becomes visible to the system until after all accesses before the barrier become visible.\n",
    "\n",
    "#### x86 Memory Barriers\n",
    "\n",
    "- `mfence`: All loads and stores before the barrier become visible before any loads and stores after the barrier become visible.\n",
    "- `sfence`: All stores before the barrier become visible before all stores after the barrier become visible.\n",
    "- `lfence`: All loads before the barrier become visible before all loads after the barrier become visible."
   ]
  },
  {
   "cell_type": "markdown",
   "metadata": {},
   "source": [
    "### C/C++ 11 Memory Model\n",
    "\n",
    "- *Before 11*: No Multi-Threaded Abstract Machine w/ Concurrency Primitives.\n",
    "- *After 11*: Yes Multi-Threaded Abstract Machine w/ Concurrency Primitives."
   ]
  },
  {
   "cell_type": "markdown",
   "metadata": {},
   "source": [
    "## Dependencies and Speculation"
   ]
  },
  {
   "cell_type": "markdown",
   "metadata": {},
   "source": [
    "### Dependencies\n",
    "\n",
    "- A **dependency** prevents parallelization when the computation $XY$ produces a different result from the computation $YX$.\n",
    "    - **Loop-Carried Dependency**: An iteration depends on the result of the previous iteration.\n",
    "    - **Memory-Carried Dependency**: The result of a computation depends on the order in which two memory accesses occur."
   ]
  },
  {
   "cell_type": "markdown",
   "metadata": {},
   "source": [
    "### Critical Paths\n",
    "\n",
    "- A **critical path** is the minimum amount of time to complete a task, taking dependencies into account."
   ]
  },
  {
   "cell_type": "markdown",
   "metadata": {},
   "source": [
    "### Speculative Execution\n",
    "\n",
    "- A thread can be initialized to compute a result that may or may not be needed.\n",
    "    - *No-Speculation*: $T = T_{1} + p T_{2}$\n",
    "    - *Yes-Speculation*: $T = \\max(T_{1}, T_{2}) + S$\n",
    "    - Where $S$ is the synchronization overhead.\n",
    "    - Where $p$ is the probability of executing $T_{2}$."
   ]
  },
  {
   "cell_type": "markdown",
   "metadata": {},
   "source": [
    "### Value Speculation\n",
    "\n",
    "- If there is a true dependency between the result of a computation and its successor and the result is predictable, speculatively execute the successor based on the predicted result.\n",
    "    - *No-Speculation*: $T = T_{1} + T_{2}$\n",
    "    - *Yes-Speculation*: $T = \\max(T_{1}, T_{2}) + S + p T_{2}$\n",
    "    - Where $S$ is the synchronization overhead.\n",
    "    - Where $p$ is the probability of the predicted result being incorrect."
   ]
  },
  {
   "cell_type": "markdown",
   "metadata": {},
   "source": [
    "### When Can We Speculate?\n",
    "\n",
    "- No Inter-Calls between Computation 1 and Computation 2.\n",
    "- Computation 2 Cannot Depend on Modified Values from Computation 1.\n",
    "- Computation 1 Must Be Deterministic."
   ]
  },
  {
   "cell_type": "markdown",
   "metadata": {},
   "source": [
    "### Software Transactional Memory\n",
    "\n",
    "- **Software Transactional Memory**: All the code within an atomic block executes completely, or aborts/rolls back in the event of a conflict with another transaction.\n",
    "\n",
    "#### Advantages\n",
    "\n",
    "- Simple.\n",
    "\n",
    "#### Disadvantage\n",
    "\n",
    "- Impossible to Rollback I/O.\n",
    "- Difficulty with Nested Transactions.\n",
    "- Transaction Size Limits."
   ]
  }
 ],
 "metadata": {
  "kernelspec": {
   "display_name": "Python 3",
   "language": "python",
   "name": "python3"
  },
  "language_info": {
   "codemirror_mode": {
    "name": "ipython",
    "version": 3
   },
   "file_extension": ".py",
   "mimetype": "text/x-python",
   "name": "python",
   "nbconvert_exporter": "python",
   "pygments_lexer": "ipython3",
   "version": "3.7.3"
  },
  "toc": {
   "base_numbering": 1,
   "nav_menu": {},
   "number_sections": false,
   "sideBar": false,
   "skip_h1_title": false,
   "title_cell": "Table of Contents",
   "title_sidebar": "Contents",
   "toc_cell": false,
   "toc_position": {},
   "toc_section_display": false,
   "toc_window_display": false
  }
 },
 "nbformat": 4,
 "nbformat_minor": 2
}
