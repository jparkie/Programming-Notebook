{
 "cells": [
  {
   "cell_type": "markdown",
   "metadata": {},
   "source": [
    "# ECE 453 - Software Testing, Quality Assurance, and Maintenance"
   ]
  },
  {
   "cell_type": "markdown",
   "metadata": {},
   "source": [
    "## Introduction"
   ]
  },
  {
   "cell_type": "markdown",
   "metadata": {},
   "source": [
    "### Testing and Verification\n",
    "\n",
    "- **Testing**: An ad-hoc software validation method that proves the existence of faults.\n",
    "- **Verification**: A formal software validation method that proves the software satisfies its specifications.\n",
    "- **Static Program Verification**: The algorithmic discovery of the properties of a program by inspection of its source text.\n",
    "- **Formal Methods**: The general area of research related to program specification and verification."
   ]
  },
  {
   "cell_type": "markdown",
   "metadata": {},
   "source": [
    "### Undecidability\n",
    "\n",
    "- **Undecidability**: A problem is undecidable if there does not exists a Turning machine that can solve it.\n",
    "- **Rice's Theorem**: For any non-trivial property of partial functions, no general and effective method can decide whether an algorithm computes a partial function with that property."
   ]
  },
  {
   "cell_type": "markdown",
   "metadata": {},
   "source": [
    "### User Effort vs Verification Assurance\n",
    "\n",
    "\n",
    "- *From Least Effort / Least Assurance to Most Effort / Most Assurance.*\n",
    "\n",
    "\n",
    "1. Testing\n",
    "2. Symbolic Execution: Automated Test-Case Generation\n",
    "3. Automated Verification\n",
    "4. Deductive Verification"
   ]
  },
  {
   "cell_type": "markdown",
   "metadata": {},
   "source": [
    "### Key Challenges\n",
    "\n",
    "- *Testing*: Coverage\n",
    "- *Symbolic Execution and Automated Verification*: Scalability \n",
    "- *Deductive Verification*: Usability\n",
    "- *Common Challenges*: Specification / Oracle"
   ]
  },
  {
   "cell_type": "markdown",
   "metadata": {},
   "source": [
    "## Fault, Error, and Failure"
   ]
  },
  {
   "cell_type": "markdown",
   "metadata": {},
   "source": [
    "### Definitions\n",
    "\n",
    "- **Fault**: A static defect in software.\n",
    "- **Error**: An incorrect internal state (*unobserved*).\n",
    "- **Failure**: An incorrect external behavior with respect to the expected external behavior (*observed*)."
   ]
  },
  {
   "cell_type": "markdown",
   "metadata": {},
   "source": [
    "### RIP Model\n",
    "\n",
    "- Three conditions must be present for an error to be observed: failure.\n",
    "  1. **Reachability**: The location or locations in the program that contain the fault must be reached.\n",
    "  2. **Infection**: After execution the location, the state of the program must be incorrect.\n",
    "  3. **Propagation**: The infected state must propagate to cause some output of the program to be incorrect."
   ]
  },
  {
   "cell_type": "markdown",
   "metadata": {},
   "source": [
    "### Addressing Faults\n",
    "\n",
    "1. **Fault Avoidance**: Better Design, Better Programming Languages, ...\n",
    "2. **Fault Detection**: Testing, Debugging, ...\n",
    "3. **Fault Tolerance**: Redundancy, Isolation, ..."
   ]
  },
  {
   "cell_type": "markdown",
   "metadata": {},
   "source": [
    "## Foundations: Syntax, Semantics, and Graphs"
   ]
  },
  {
   "cell_type": "markdown",
   "metadata": {},
   "source": [
    "### WHILE: A Simple Imperative Language\n",
    "\n",
    "#### Syntatic Entities\n",
    "\n",
    "##### Terminals\n",
    "\n",
    "\n",
    "- *Atomic Tokens*.\n",
    "\n",
    "\n",
    "1. **Integers**: $n \\in Z$\n",
    "2. **Booleans**: $\\text{true}, \\text{false} \\in B$\n",
    "3. **Locations (Program Variables)**: $x, y \\in L$\n",
    "\n",
    "##### Non-Terminals\n",
    "\n",
    "\n",
    "- *Composition of Tokens*.\n",
    "\n",
    "\n",
    "1. **Atomic Expressions**: $e \\in Aexp$\n",
    "2. **Boolean Expressions**: $b \\in Bexp$\n",
    "3. **Statements**: $c \\in Stmt$\n",
    "\n",
    "#### Syntax of Arithmetic Expressions\n",
    "\n",
    "$$\n",
    "\\begin{aligned}\n",
    "\\text{e } ::= &\\; n     &\\text{ for } n \\in Z \\\\\n",
    "      &\\vert -n &\\text{ for } n \\in Z \\\\\n",
    "      &\\vert x  &\\text{ for } x \\in L \\\\\n",
    "      &\\vert e_1 \\text{ aop } e_2 \\\\\n",
    "      &\\vert \\text{'('e')'} \\\\\n",
    "\\text{aop } ::= &\\; \\text{'*' } \\vert \\text{ '/' } \\vert \\text{ '-' } \\vert \\text{ '+'}\n",
    "\\end{aligned}\n",
    "$$\n",
    "\n",
    "- *No Declarations*\n",
    "- *Only Integer Variables*.\n",
    "- *No Side-Effects*.\n",
    "\n",
    "#### Syntax of Boolean Expressions\n",
    "\n",
    "$$\n",
    "\\begin{aligned}\n",
    "\\text{b } ::= &\\; \\text{'true'} \\\\\n",
    "    &\\vert \\text{'false'} \\\\\n",
    "    &\\vert \\text{'not' } b \\\\\n",
    "    &\\vert e_1 \\text{ rop } e_2 &\\text{ for } e_1, e_2 \\in Aexp \\\\\n",
    "    &\\vert e_1 \\text{ bop } e_2 &\\text{ for } e_1, e_2 \\in Bexp \\\\\n",
    "    &\\vert \\text{'('b')'} \\\\\n",
    "\\text{rop } ::= &\\; \\text{'<' } \\vert \\text{ '<=' } \\vert \\text{ '=' } \\vert \\text{ '>=' } \\vert \\text{ '>'} \\\\\n",
    "\\text{bop } ::= &\\; \\text{'and' } \\vert \\text{ 'or'}\n",
    "\\end{aligned}\n",
    "$$\n",
    "\n",
    "#### Syntax of Statements\n",
    "\n",
    "$$\n",
    "\\begin{aligned}\n",
    "\\text{s } ::= &\\; \\text{skip} \\\\\n",
    "    &\\vert x := e \\\\\n",
    "    &\\vert \\text{if } b \\text{ then } s \\;[\\text{else } s] \\\\\n",
    "    &\\vert \\text{while } b \\text{ do } s \\\\\n",
    "    &\\vert \\text{'\\{' } slist \\text{ '\\}'} \\\\\n",
    "    &\\vert \\text{print_state} \\\\\n",
    "    &\\vert \\text{assert } b \\\\\n",
    "    &\\vert \\text{assume } b \\\\\n",
    "    &\\vert \\text{havoc } v1, ..., vN \\\\\n",
    "\\text{slist } ::= &\\; s (\\text{';'} s)* \\\\\n",
    "\\text{prog } ::= &\\; \\text{slist} \n",
    "\\end{aligned}\n",
    "$$"
   ]
  },
  {
   "cell_type": "markdown",
   "metadata": {},
   "source": [
    "### Abstract Syntax Tree\n",
    "\n",
    "- An **abstract syntax tree** is a tree in which each node represents a syntactic entity."
   ]
  },
  {
   "cell_type": "markdown",
   "metadata": {},
   "source": [
    "### Visitor Design Pattern\n",
    "\n",
    "- An object-oriented design pattern that separates an algorithm from an element on which it operates.\n",
    "- **Assignment Notes**: In Python, the method handle is used to dynamic dispatch calls: `visit_Stmt()`."
   ]
  },
  {
   "cell_type": "markdown",
   "metadata": {},
   "source": [
    "### Non-Determinism vs. Randomness\n",
    "\n",
    "- A **deterministic** function always returns the same result on the same input.\n",
    "- A **non-deterministic** function may return different values on the same input.\n",
    "- A **random** function may choose a different value with a probability distribution.\n",
    "- A non-deterministic choice cannot be implemented."
   ]
  },
  {
   "cell_type": "markdown",
   "metadata": {},
   "source": [
    "### Syntax and Semantics\n",
    "\n",
    "- **Syntax**: Determines how things are expressed.\n",
    "- **Semantics**: Determines how syntax is interpreted to give meaning."
   ]
  },
  {
   "cell_type": "markdown",
   "metadata": {},
   "source": [
    "### Semantics of Programming Languages\n",
    "\n",
    "- **Denotational Semantics**: The meaning of a program is defined as the mathematical object it computes.\n",
    "- **Axiomatic Semantics**: The meaning of a program is defined in terms of its effect on the truth of logical assertions.\n",
    "- **Operational Semantics**: The meaning of a program is defined by formalizing the individual computation steps of the program."
   ]
  },
  {
   "cell_type": "markdown",
   "metadata": {},
   "source": [
    "### Semantics of WHILE\n",
    "\n",
    "- A **state** $s$ is a function from $L$ to $Z$.\n",
    "    - It assigns a value for every variable.\n",
    "- The set of all states is $Q = L \\to Z$.\n",
    "\n",
    "#### Notation\n",
    "\n",
    "- *Empty State*: $\\left[\\right]$\n",
    "- *State*: $\\left[x := 10, y := 15, z := 5\\right]$\n",
    "- *Substitution*: $s\\left[x := 10\\right]$"
   ]
  },
  {
   "cell_type": "markdown",
   "metadata": {},
   "source": [
    "### Judgement\n",
    "\n",
    "- $\\langle e, q \\rangle \\Downarrow n$ states that an *expression* $e$ in *state* $q$ has a *value* $n$.\n",
    "- *Note: Evaluate $n$ in a judgement $\\langle e, q \\rangle \\Downarrow n$.*"
   ]
  },
  {
   "cell_type": "markdown",
   "metadata": {},
   "source": [
    "### Inference Rules\n",
    "\n",
    "$$\n",
    "\\frac{F_1 ... F_n}{G} \\text{ where } H\n",
    "$$\n",
    "\n",
    "- An **inference rule** defines a relation between judgements $F_1, ..., F_n$ and $G$.\n",
    "    - The judgements $F_1, ..., F_n$ are the **premises** of the rule.\n",
    "    - The judgements $G$ is the **conclusion** of the rule.\n",
    "    - The formula $H$ is called the **side condition** of the rule.\n",
    "    - If $n = 0$, the rule is called an **axiom**. In this case, the line separating premises and conclusion may be omitted.\n",
    "- A **derivation** infers new facts from existing facts."
   ]
  },
  {
   "cell_type": "markdown",
   "metadata": {},
   "source": [
    "### Inference Rules for Aexp\n",
    "\n",
    "- *Note: Expression would not mutate state; side-effect free.*\n",
    "\n",
    "$$\n",
    "\\begin{aligned}\n",
    "&\\frac{}{\\langle n, q \\rangle \\Downarrow n} \\\\[1em]\n",
    "&\\frac{}{\\langle x, q \\rangle \\Downarrow q(x)} \\\\[1em]\n",
    "&\\frac{\\langle e_{1}, q \\rangle \\Downarrow n_{1} \\quad \\langle e_{2}, q \\rangle \\Downarrow n_{2}}{\\langle e_{1} + e_{2}, q \\rangle \\Downarrow (n_{1} + n_{2})} \\\\[1em]\n",
    "&\\frac{\\langle e_{1}, q \\rangle \\Downarrow n_{1} \\quad \\langle e_{2}, q \\rangle \\Downarrow n_{2}}{\\langle e_{1} - e_{2}, q \\rangle \\Downarrow (n_{1} - n_{2})} \\\\[1em]\n",
    "&\\frac{\\langle e_{1}, q \\rangle \\Downarrow n_{1} \\quad \\langle e_{2}, q \\rangle \\Downarrow n_{2}}{\\langle e_{1} * e_{2}, q \\rangle \\Downarrow (n_{1} * n_{2})}\n",
    "\\end{aligned}\n",
    "$$"
   ]
  },
  {
   "cell_type": "markdown",
   "metadata": {},
   "source": [
    "### Inference Rules for Bexp\n",
    "\n",
    "- *Note: Expression would not mutate state; side-effect free.*\n",
    "\n",
    "$$\n",
    "\\begin{aligned}\n",
    "&\\frac{}{\\langle \\text{true}, q \\rangle \\Downarrow \\text{true}} \\\\[1em]\n",
    "&\\frac{}{\\langle \\text{false}, q \\rangle \\Downarrow \\text{false}} \\\\[1em]\n",
    "&\\frac{\\langle e_{1}, q \\rangle \\Downarrow n_{1} \\quad \\langle e_{2}, q \\rangle \\Downarrow n_{2}}{\\langle e_{1} = e_{2}, q \\rangle \\Downarrow (n_{1} = n_{2})} \\\\[1em]\n",
    "&\\frac{\\langle e_{1}, q \\rangle \\Downarrow n_{1} \\quad \\langle e_{2}, q \\rangle \\Downarrow n_{2}}{\\langle e_{1} \\le e_{2}, q \\rangle \\Downarrow (n_{1} \\le n_{2})} \\\\[1em]\n",
    "&\\frac{\\langle b_{1}, q \\rangle \\Downarrow t_{1} \\quad \\langle b_{2}, q \\rangle \\Downarrow t_{2}}{\\langle b_{1} \\land b_{2}, q \\rangle \\Downarrow (t_{1} \\land t_{2})}\n",
    "\\end{aligned}\n",
    "$$"
   ]
  },
  {
   "cell_type": "markdown",
   "metadata": {},
   "source": [
    "### Semantics of Statements\n",
    "\n",
    "- $\\langle s, q \\rangle \\Downarrow q'$\n",
    "    - where $s$ is the **Program Statement**.\n",
    "    - where $q$ is the **Input Program State**.\n",
    "    - where $q'$ is the **Output Program State**.\n",
    "    \n",
    "$$\n",
    "\\begin{aligned}\n",
    "&\\frac{}{\\langle \\text{skip}, q \\rangle \\Downarrow q} \\\\[1em]\n",
    "&\\frac{}{\\langle \\text{print_state}, q \\rangle \\Downarrow q} \\\\[1em]\n",
    "&\\frac{\\langle s_{1}, q \\rangle \\Downarrow q'' \\quad \\langle s_{2}, q'' \\rangle \\Downarrow q'}{\\langle s_{1} \\text{ ; } s_{2}, q \\rangle \\Downarrow q'} \\\\[1em]\n",
    "&\\frac{\\langle e, q \\rangle \\Downarrow n}{\\langle x := e, q \\rangle \\Downarrow q[x := n]} \\\\[1em]\n",
    "&\\frac{\\langle b, q \\rangle \\Downarrow \\text{true} \\quad \\langle s_{1}, q \\rangle \\Downarrow q'}{\\langle \\text{if } b \\text{ then } s_{1} \\text{ else } s_{2}, q \\rangle \\Downarrow q'} \\\\[1em]\n",
    "&\\frac{\\langle b, q \\rangle \\Downarrow \\text{false} \\quad \\langle s_{2}, q \\rangle \\Downarrow q'}{\\langle \\text{if } b \\text{ then } s_{1} \\text{ else } s_{2}, q \\rangle \\Downarrow q'}\n",
    "\\end{aligned}\n",
    "$$"
   ]
  },
  {
   "cell_type": "markdown",
   "metadata": {},
   "source": [
    "### Derivation $\\implies$ Execution\n",
    "\n",
    "- **Top-Down**: Execution.\n",
    "- **Bottom-Up**: Explanation.\n",
    "\n",
    "> Show that $\\langle p := 0 \\text{ ; } x := 1 \\text{ ; } n := 2, [] \\rangle \\Downarrow [p := 0, x := 1, n := 2]$.\n",
    "\n",
    "$$\n",
    "\\cfrac{\\cfrac{}{\\cfrac{\\langle 0, [] \\rangle \\Downarrow 0}{\\langle p := 0, [] \\rangle \\Downarrow [p := 0]}} \\quad \\cfrac{}{\\cfrac{\\langle 1, [p := 0] \\rangle \\Downarrow 1}{\\langle x := 1, [p := 0] \\rangle \\Downarrow [p := 0, x := 1]}}}{\\cfrac{\\langle p := 0 \\text{ ; } x := 1, [] \\rangle \\Downarrow [p := 0, x:= 1] \\quad \\langle n := 2, [p := 0, x := 1] \\rangle \\Downarrow [p := 0, x := 1, n := 2]}{\\langle p := 0 \\text{ ; } x := 1 \\text{ ; } n := 2, [] \\rangle \\Downarrow [p := 0, x := 1, n := 2]}}\n",
    "$$"
   ]
  },
  {
   "cell_type": "markdown",
   "metadata": {},
   "source": [
    "### Semantics of Loops\n",
    "\n",
    "- Let $T$ be a special state, **top**, that represents divergence, such as an infinite loop.\n",
    "- Any statement in a divergent state is treated like \"skip\".\n",
    "\n",
    "$$\n",
    "\\begin{aligned}\n",
    "&\\frac{\\langle b, q \\rangle \\Downarrow \\text{false}}{\\langle \\text{while } b \\text{ do } s, q \\rangle \\Downarrow q}\\\\[1em]\n",
    "&\\frac{\\langle b, q \\rangle \\Downarrow \\text{true} \\quad \\langle s \\text{ ; while } b \\text{ do } s, q \\rangle \\Downarrow q'}{\\langle \\text{while } b \\text{ do } s, q \\rangle \\Downarrow q'}\\\\[1em]\n",
    "&\\frac{}{\\langle \\text{while true do } s, q \\rangle \\Downarrow T}\\\\[1em]\n",
    "&\\frac{}{\\langle s, T \\rangle \\Downarrow T}\\\\[1em]\n",
    "\\end{aligned}\n",
    "$$"
   ]
  },
  {
   "cell_type": "markdown",
   "metadata": {},
   "source": [
    "### Properties of Semantics\n",
    "\n",
    "- A semantic is **deterministic** if every program statement has exactly one possible derivation in any state.\n",
    "- Two statements are **semantically equivalent** if for every input state they derive the same output state.\n",
    "\n",
    "#### Structural Induction\n",
    "\n",
    "- To prove a property $P$ on a derivation tree.\n",
    "    1. *Base Case*: Prove $P$ for all of the axioms.\n",
    "    2. *Inductive Hypothesis*: Assume $P$ holds before every rule.\n",
    "    3. *Induction*: Prove that $P$ holds at the end of every rule.\n",
    "- Use structural induction to prove that the semantics are deterministic."
   ]
  },
  {
   "cell_type": "markdown",
   "metadata": {},
   "source": [
    "### Structural Operational Semantics (*Small-Step*)\n",
    "\n",
    "- *Execution of One Statement*: $\\langle s, q \\rangle \\implies \\langle t, q' \\rangle$\n",
    "    - where $s$ is the statement to execute.\n",
    "    - where $q$ is the input state.\n",
    "    - where $t$ is the rest of the program.\n",
    "    - where $q'$ is the output state."
   ]
  },
  {
   "cell_type": "markdown",
   "metadata": {},
   "source": [
    "### Small-Step Semantics for WHILE\n",
    "\n",
    "$$\n",
    "\\begin{aligned}\n",
    "&\\frac{}{\\langle \\text{skip}, q \\rangle \\implies q}\\\\[1em]\n",
    "&\\frac{\\langle s_{1}, q \\rangle \\implies q'}{\\langle s_{1} \\text{ ; } s_{2}, q \\rangle \\implies \\langle s_{2}, q' \\rangle}\\\\[1em]\n",
    "&\\frac{\\langle s_{1}, q \\rangle \\implies \\langle \\mathbf{s_{3}}, q' \\rangle}{\\langle s_{1} \\text{ ; } s_{2}, q \\rangle \\implies \\langle \\mathbf{s_{3}} \\text{ ; } s_{2}, q' \\rangle}\\\\[1em]\n",
    "&\\frac{\\langle b, q \\rangle \\Downarrow \\text{true}}{\\langle \\text{if } b \\text{ then } s_{1} \\text{ else } s_{2}, q \\rangle \\implies \\langle s_{1}, q \\rangle}\\\\[1em]\n",
    "&\\frac{\\langle b, q \\rangle \\Downarrow \\text{false}}{\\langle \\text{if } b \\text{ then } s_{1} \\text{ else } s_{2}, q \\rangle \\implies \\langle s_{2}, q \\rangle}\\\\[1em]\n",
    "&\\frac{}{\\langle \\text{while } b \\text{ do } s, q \\rangle \\implies \\langle \\text{if } b \\text{ then } (s \\text{ ;  while } b \\text{ do } s) \\text{ else skip}, q \\rangle}\n",
    "\\end{aligned}\n",
    "$$"
   ]
  },
  {
   "cell_type": "markdown",
   "metadata": {},
   "source": [
    "### Properties of Small Step Semantics\n",
    "\n",
    "- Small step semantics are a **transition system**: $TS = (S, R)$.\n",
    "    - where $S$ is a set of states: $\\langle s, q \\rangle$.\n",
    "    - where $R$ is a transition relation on a pair of states.\n",
    "        - $(x, y) \\in R \\iff (x \\implies y)$ is a true judgement in small-step semantics.\n",
    "- **Derivation Sequence**: A path $x_{1}, x_{2}, x_{3}, ....$ in $TS$ corresponds to a program execution.\n",
    "- Properties of small-step semantics are established by induction on the length of the derivation.\n",
    "- A small step semantic is deterministic if there is only one derivation for every configuration."
   ]
  },
  {
   "cell_type": "markdown",
   "metadata": {},
   "source": [
    "### Programming to Modeling\n",
    "\n",
    "- **Assertions**: `assert e` - Aborts an execution when $e$ is false, no-op otherwise.\n",
    "```cpp\n",
    "void assert(bool b) {\n",
    "    if (!b)\n",
    "        error();\n",
    "}\n",
    "```\n",
    "- **Non-Determinism**: `havoc x` - Assign a variable $x$ a non-deterministic value.\n",
    "```cpp\n",
    "void havoc(int &x) {\n",
    "    int y;\n",
    "    x = y;\n",
    "}\n",
    "```\n",
    "- **Assumptions**: `assume e` - Block execution if $e$ is false, no-op otherwise.\n",
    "```cpp\n",
    "void assume(bool e) {\n",
    "    while (!e);\n",
    "}\n",
    "```"
   ]
  },
  {
   "cell_type": "markdown",
   "metadata": {},
   "source": [
    "### Safety Specifications as Assertions\n",
    "\n",
    "- **Correct**: If all executions that satisfy all assumptions also satisfy all assertions.\n",
    "- **Incorrect**: If there exists an execution that satisfies all of the assumptions and violdates at least one assertion.\n",
    "- Assumptions $\\implies$ Pre-Conditions.\n",
    "- Assertions $\\implies$ Properties."
   ]
  },
  {
   "cell_type": "markdown",
   "metadata": {},
   "source": [
    "### Graphs, Paths, Cycle\n",
    "\n",
    "- A **graph**, $G = (N, E)$, is an ordered pair consisting of a node set, $N$, and an edge set, $E = \\{(n_{i}, n_{j})\\}$.\n",
    "    - **Directed**: If the pairs in $E$ are ordered.\n",
    "    - **Undirected**: If the pairs in $E$ are unordered.\n",
    "- A **path**, $P$, through a directed graph $G = (N, E)$ is a sequence of edges $\\left( (u_{1}, v_{1}), (u_{2}, v_{}), ... (u_{t}, v_{t}) \\right)$ such that the following is true.\n",
    "    - where $v_{k - 1} = u_{k}$ for all $1 < k \\le t$.\n",
    "    - where $u_{1}$ is the start node.\n",
    "    - where $u_{t}$ is the end node.\n",
    "    - The length of a path is the number of edges in the path.\n",
    "- A **cycle** in a graph $G$ is a path whose start node and end node are the same.\n",
    "- A **tree** is an acyclic, undirected graph.\n",
    "- A **directed acyclic graph (DAG)** is a directed graph without cycles.\n",
    "- Every tree is isomorphic to a prefix-closed subset of $N^{*}$ for some natural number $N$."
   ]
  },
  {
   "cell_type": "markdown",
   "metadata": {},
   "source": [
    "### Graphs as Models of Computation\n",
    "\n",
    "- A **computation tree** represents all possible executions of a system.\n",
    "    - *Node*: The state of the system represented by the valuation of all the variables.\n",
    "    - *Problem*: For many computations, the trees are too large.\n",
    "- A **control flow graph** represents the flow of execution in the program $G = (N, E, S, T)$.\n",
    "    - where $N$ is the nodes representing executable instructions.\n",
    "    - where $E$ is the edges representing the potential transfer of control.\n",
    "    - where $S$ is a designated start node.\n",
    "    - where $T$ is a designated terminal node.\n",
    "- An **infeasible path** is a path that does not correspond with an execution sequence."
   ]
  },
  {
   "cell_type": "markdown",
   "metadata": {},
   "source": [
    "## Structural Coverage"
   ]
  },
  {
   "cell_type": "markdown",
   "metadata": {},
   "source": [
    "### Testing\n",
    "\n",
    "- **Static Testing** $\\implies$ *Compile Time*:\n",
    "    - *Static Analysis*\n",
    "    - *Code Inspection*\n",
    "    - *Code Walk-Through*\n",
    "- **Dynamic Testing** $\\implies$ *Run Time*:\n",
    "    - *Black-Box Testing*\n",
    "    - *White-Box Testing*"
   ]
  },
  {
   "cell_type": "markdown",
   "metadata": {},
   "source": [
    "### Test Case\n",
    "\n",
    "- **Test Case**: *Input Values, Expected Results, Prefix Values, Postfix Values, Dependency Values.*\n",
    "- **Test Set**: *A Set of Test Cases.*\n",
    "- **Expected Results**: The results that will be produced when executing the test if and only if the program satisfies its intended behavior."
   ]
  },
  {
   "cell_type": "markdown",
   "metadata": {},
   "source": [
    "### Test Requirement\n",
    "\n",
    "- **Test Requirement**: A specific element of a software artifact that a test case must satisfy or cover.\n",
    "    - *Denoted $TR$*\n",
    "    \n",
    "#### Examples\n",
    "\n",
    "1. Functional (Black Box, Specification-Based)\n",
    "2. Structural (White Box)\n",
    "3. Model-Based\n",
    "4. Fault-Based"
   ]
  },
  {
   "cell_type": "markdown",
   "metadata": {},
   "source": [
    "### Coverage Criterion\n",
    "\n",
    "- **Coverage Criterion**: A rule or collection of rules that impose test requirements on a test set.\n",
    "    - *Generates $TR$*"
   ]
  },
  {
   "cell_type": "markdown",
   "metadata": {},
   "source": [
    "### Adequacy Criteria\n",
    "\n",
    "- **Adequacy Criterion**: Set of Test Requirements.\n",
    "- A test suite satisfies an adequacy criterion if:\n",
    "    - All the tests succeed.\n",
    "    - Every test requirement in the criterion is satisfied by at least one of the test cases in the test suite."
   ]
  },
  {
   "cell_type": "markdown",
   "metadata": {},
   "source": [
    "### Coverage Criteria\n",
    "\n",
    "> Basic Coverage $\\implies$ Advanced Coverage\n",
    "\n",
    "1. Line\n",
    "    - **Adequacy Criterion**: Each source code line must be executed at least once.\n",
    "    - **Coverage**: The percentage of source code lines executed.\n",
    "2. Statement\n",
    "    - **Adequacy Criterion**: Each statement (or node in the CFG) must be executed at least once.\n",
    "    - **Coverage**: The percentage of statements executed.\n",
    "3. Function\n",
    "4. Branch\n",
    "    - **Adequacy Criterion**: Each branch/decision, (or edge in the CFG) must be executed at least once.\n",
    "    - **Coverage**: The percentage of edges executed.\n",
    "    - **Test Case**: $O(n)$, where $n$ is the number of conditions.\n",
    "5. Decision/Condition\n",
    "6. Modified Decision/Condition\n",
    "7. Path\n",
    "    - **Adequancy Criterion**: Each path in the CFG must be executed at lease once.\n",
    "    - **Coverage**: The percentage of paths executed.\n",
    "    - **Test Case**: $O(2^{n})$, where $n$ is the number of conditions.\n",
    "8. Loop\n",
    "9. Mutation"
   ]
  },
  {
   "cell_type": "markdown",
   "metadata": {},
   "source": [
    "### Coverage Level\n",
    "\n",
    "- Given a set of test requirements $TR$,\n",
    "- Given a test set $T$,\n",
    "- The **coverage level** is the ratio of the number of test requirements satisfied by $T$ to the size of $TR$."
   ]
  },
  {
   "cell_type": "markdown",
   "metadata": {},
   "source": [
    "### Unit Testing\n",
    "\n",
    "- A **unit test** exercises a unit of functionality to test its behavior.\n",
    "- A **unit test framework** provides a standard mechanism for....\n",
    "    1. Specifying a Test (Setup, Execution, Expected Result, Teardown).\n",
    "    2. Executing a Test.\n",
    "    3. Generating Test Reports."
   ]
  },
  {
   "cell_type": "markdown",
   "metadata": {},
   "source": [
    "### Designing for Testing\n",
    "\n",
    "- Factor the program into meaningful units.\n",
    "- Each unit should have a well defined specification.\n",
    "    - What are legal inputs?\n",
    "    - What are legal outputs?\n",
    "    - How inputs and outputs are passed around?\n",
    "- Avoid monolithic design that reads standard input and writes standard output.\n",
    "- Additional functionality specifically for testing/debugging purposes."
   ]
  },
  {
   "cell_type": "markdown",
   "metadata": {},
   "source": [
    "### Subsumption\n",
    "\n",
    "- **Criteria Subsumption**: A test criterion $C_{1}$ subsumes $C_{2}$ if and only if every set of test cases satisfies $C_{1}$ also satisfies $C_{2}$."
   ]
  },
  {
   "cell_type": "markdown",
   "metadata": {},
   "source": [
    "### Syntactical and Semantic Reachability\n",
    "\n",
    "- A node $n$ is **syntactically** reachable from $m$ if there exists a path from $m$ to $n$.\n",
    "- A node $n$ is **semantically** reachhable if one of the paths from $n$ to $n$ can be reached on some input.\n",
    "- **Syntactic Reachability**: Control Flow Graph.\n",
    "- **Semantic Reachability**: Undecidable."
   ]
  },
  {
   "cell_type": "markdown",
   "metadata": {},
   "source": [
    "### Reachability\n",
    "\n",
    "- Let $reach_{G}(X)$ denote the sub-graph of $G$ that is syntactically reachable from $X$, where $X$ is either a node, an edge, a set of nodes, or a set of edges."
   ]
  },
  {
   "cell_type": "markdown",
   "metadata": {},
   "source": [
    "### Connect Test Cases and Test Paths\n",
    "\n",
    "- A $path_{G}$ is a mapping from test cases to test paths.\n",
    "$$path(T) = \\{path(t) \\mid t \\in T\\}$$\n",
    "- A test case has at least one test path.\n",
    "    - **Deterministic**: One Test Path.\n",
    "    - **Nondeterministic**: Many Test Paths."
   ]
  },
  {
   "cell_type": "markdown",
   "metadata": {},
   "source": [
    "### Node, Edge, Edge-Pair Coverage\n",
    "\n",
    "- **Node Coverage (NC)**: $TR$ contains each reachable node in $G$.\n",
    "    - *~Statement Coverage.*\n",
    "- **Edge Coverage (EC)**: $TR$ contains each reachable path of length up to $1$, inclusive, in $G$.\n",
    "    - *~Branch Coverage.*\n",
    "- **Edge-Pair Coverage (EPC)**: $TR$ contains each reachable path of length up to $2$, inclusive, in $G$."
   ]
  },
  {
   "cell_type": "markdown",
   "metadata": {},
   "source": [
    "### Simple Path\n",
    "\n",
    "- A path is **simple** if no node appears more than once in the path, except that the first and the last nodes may be the same.\n",
    "\n",
    "#### Properties\n",
    "\n",
    "- No Internal Loops.\n",
    "- Possibly Bounded Length.\n",
    "- Possible Create Any Path = Composition of Simple Paths.\n",
    "- Many Simple Paths Exist."
   ]
  },
  {
   "cell_type": "markdown",
   "metadata": {},
   "source": [
    "### Prime Path\n",
    "\n",
    "- A path is **prime** if it is simple and does not appear as a proper subpath of any other simple path.\n",
    "- **Prime Path Coverage (PPC)**: $TR$ contains each prime path in $G$.\n",
    "    - *Problem*: A prime path may be infeasible yet contains feasible simple paths.\n",
    "- **Complete Path Coverage (CPC)**: $TR$ contains all paths in $G$.\n",
    "- **Specified Path Coverage (SPC)**: $TR$ contains a specified set $S$ of paths."
   ]
  },
  {
   "cell_type": "markdown",
   "metadata": {},
   "source": [
    "### Graph Coverage Criteria Subsumption\n",
    "\n",
    "1. *Complete Path Coverage (CPC)* > *Prime Path Coverage (PPC)* > *Edge Coverage (EC)* > *Node Coverage (NC)*\n",
    "2. *Complete Path Coverage (CPC)* > *Edge-Pair Coverage (EPC)* > *Edge Coverage (EC)* > *Node Coverage (NC)*"
   ]
  },
  {
   "cell_type": "markdown",
   "metadata": {},
   "source": [
    "## Logic Coverage"
   ]
  },
  {
   "cell_type": "markdown",
   "metadata": {},
   "source": [
    "### Decisions\n",
    "\n",
    "- **Decisions**: A logical expression in a program.\n",
    "    - $P$ is a set of decisions (predicates) of the program.\n",
    "- **Conditions**: The leaves of a decision.\n",
    "    - $C_{p}$ is a set of conditions (atomic predicates) constructing a predicate $p$.\n",
    "    - $C$ is the set of all conditions in all of the decisions in $P$.\n",
    "$$C_{p} = \\{c \\mid c \\in p\\}$$\n",
    "$$C = \\cup_{p \\in P} C_{p}$$\n",
    "- **Logical Operators**: Connect conditions to construct a decision."
   ]
  },
  {
   "cell_type": "markdown",
   "metadata": {},
   "source": [
    "###  Decision, Condition, Combinatorial Coverage\n",
    "\n",
    "- **Decision Coverage (DC)**: For each $p \\in P$, $TR$ contains two requirements.\n",
    "    1. $p$ evaluates to true.\n",
    "    2. $p$ evaluates to false.\n",
    "    - *~Edge Coverage.*\n",
    "- **Condition Coverage (CC)**: For each $c \\in C$, $TR$ contains two requirements.\n",
    "    1. $c$ evaluates to true.\n",
    "    2. $c$ evaluates to false.\n",
    "- **Combinatorial Coverage (CoC) / Multiple Condition Coverage**: For each $p \\in P$, $TR$ has test requirements for the conditions in $C_{p}$ to evaluate to each possible combination of truth values."
   ]
  },
  {
   "cell_type": "markdown",
   "metadata": {},
   "source": [
    "### Active Condition Coverage\n",
    "\n",
    "- An **active condition** focuses on each condition that affects the final decision.\n",
    "    - *Active Conditions = Major Conditions.*\n",
    "    - *Non-Active Conditions = Minor Conditions.*\n",
    "- **Determination**: A major condition *determines* a decision with certain minor conditions.\n",
    "- **Active Condition Coverage (ACC)**: For each $p \\in P$ and making each condition $c_{i} \\in C_{p}$ major, choose assignments for minor conditions $c_{j}$, $j \\ne i$ such that $c_{i}$ determines $p$."
   ]
  },
  {
   "cell_type": "markdown",
   "metadata": {},
   "source": [
    "## Automated Test-Case Generation: Address Sanitizer"
   ]
  },
  {
   "cell_type": "markdown",
   "metadata": {},
   "source": [
    "### Automated Test-Case Generation\n",
    "\n",
    "1. **Black Box**: Random Test Cases.\n",
    "2. **Grey Box**: Coverage Guidance.\n",
    "3. **White Box**: Symbolic Reasoning."
   ]
  },
  {
   "cell_type": "markdown",
   "metadata": {},
   "source": [
    "### Valgrind\n",
    "\n",
    "- An instrumentation framework for dynamic analysis tools that interprets a program using a synthetic CPU."
   ]
  },
  {
   "cell_type": "markdown",
   "metadata": {},
   "source": [
    "### Memory Access Instrumentation\n",
    "\n",
    "- The compiler instruments each *STORE* and *LOAD* instruction with a check whether the memory being accessed is accessible."
   ]
  },
  {
   "cell_type": "markdown",
   "metadata": {},
   "source": [
    "### Memory Mapping and Alignment\n",
    "\n",
    "- *Virutal Memory* $\\implies$ *Mem* + *Shadow*\n",
    "    - **Mem**: Normal Application Memory.\n",
    "    - **Shadow**: Metadata Memory about Main Memory.\n",
    "- Poisoning a byte address of *Mem* requires writing a special value to its corresponding descriptor in *Shadow*.\n",
    "- Because most processors align memory using 8 bytes (i.e., *QWORDS*), *AddressSanitizer* maps each 8 bytes of *Mem* into 1 byte of *Shadow*.\n",
    "    - If all 8 bytes are accessible, $\\text{Shadow} = 0$.\n",
    "    - If all 8 bytes are inaccessible, $\\text{Shadow} < 0$.\n",
    "    - If the first $k$ bytes are only accessible, $\\text{Shadow} = k$."
   ]
  },
  {
   "cell_type": "markdown",
   "metadata": {},
   "source": [
    "### Redzones\n",
    "\n",
    "- **Redzones** are markers that mark boundaries of allocated memory segments on the heap."
   ]
  },
  {
   "cell_type": "markdown",
   "metadata": {},
   "source": [
    "## Automated Test-Case Generation: Fuzzing"
   ]
  },
  {
   "cell_type": "markdown",
   "metadata": {},
   "source": [
    "### Fuzzing\n",
    "\n",
    "- A set of automated testing techniques that tries to identify abnormal program behaviors by evaluation of how the tested program responds to various inputs."
   ]
  },
  {
   "cell_type": "markdown",
   "metadata": {},
   "source": [
    "### Challenges\n",
    "\n",
    "1. **Inputs**: Input Files or Byte Arrays\n",
    "2. **Detecting Abnormal Behavior**: Crashes, User-Defined Assertions, Hang Time, Memory Allocations\n",
    "3. **Ensuring Progression**: Program Counter, Lines of Source Code, Statements, Control Flow Graph, Functions, ....\n",
    "    - i.e., Coverage Feedback\n",
    "4. **Generating Interesting Inputs**: Bit Flips, Byte Flips, Byte Swaps, Byte Rotates, Arithmetic, Known Inputs, Composition, ....\n",
    "5. **Speed**: Fork After Initialization, Use Cheaper Resources, Many Inputs for Single Process, ...."
   ]
  },
  {
   "cell_type": "markdown",
   "metadata": {},
   "source": [
    "## SMT Solver Z3"
   ]
  },
  {
   "cell_type": "markdown",
   "metadata": {},
   "source": [
    "### Satisfiability Modulo Theory (SMT)\n",
    "\n",
    "- **Satisfiability**: The problem of determining whether a formula $F$ has a model.\n",
    "    - If $F$ is **propositional**, a model is a truth assignment to Boolean variables.\n",
    "    - If $F$ is **first-order formula**, a model assigns values to variables and interpretation to all the function and predicate symbols.\n",
    "- **SAT Solvers**: Check satisfiability of propositional formulas.\n",
    "- **SMT Solvers**: Check satisfiability of formulas in a decidable first-order theory."
   ]
  },
  {
   "cell_type": "markdown",
   "metadata": {},
   "source": [
    "## Symbolic Execution"
   ]
  },
  {
   "cell_type": "markdown",
   "metadata": {},
   "source": [
    "### Symbolic Execution High-Level Algorithm\n",
    "\n",
    "1. Execute Program with Symbolic Inputs.\n",
    "2. Fork Execution at Each Branch.\n",
    "3. Record Branching Conditions.\n",
    "4. Decide Path Feasibility with Constraint Solver.\n",
    "5. Generates Test Cases with Constraint Solver."
   ]
  },
  {
   "cell_type": "markdown",
   "metadata": {},
   "source": [
    "### Symbolic Execution\n",
    "\n",
    "- **Symbolic Execution**: A static analysis of programs by tracking symbolic values.\n",
    "- **Symbolic Path Condition**: A path condition for a path $P$ is a formula $PC$ such that $PC$ is satisfiable if and only if $P$ is executable.\n",
    "- The forking of the execution at each branch allows constraints to be built that characterize conditions for executing paths, and the effects of the execution on program state."
   ]
  },
  {
   "cell_type": "markdown",
   "metadata": {},
   "source": [
    "### Symbolic State\n",
    "\n",
    "- A **symbolic state** is a pair $S = (Env, PC)$, where ...\n",
    "    - $Env = L \\to E$ is an **environment** that maps program variables to symbolic expressions (first-order logic terms).\n",
    "    - $PC$ is a **path condition** that is a first-order logic formula.\n",
    "- A concrete state $M : L \\to Z$ satisfies a symbolic state $S = (Env, PC)$ if and only if ...\n",
    "$$M |= (Env, PC) \\text{ iff } \\left( (\\land_{v \\in L} M(v) = Env(v)) \\land PC \\text{ is } SAT \\right)$$"
   ]
  },
  {
   "cell_type": "markdown",
   "metadata": {},
   "source": [
    "### Functional Representation of an Executable Component\n",
    "\n",
    "- A symbolic execution creates a functional representation of a path in a CFG.\n",
    "- $D[P_{i}]$ is the domain for a path $P_{i}$ that represents the inputs that force the program to take the path.\n",
    "- $C[P_{i}]$ is the computation for a path $P_{i}$ that represents the result of executing the path.\n",
    "- A program $P$ is composed of partial functions representing the executable paths: $P = \\{P_{1}, ..., P_{r}\\}$ where $P_{i} : X_{i} \\to Y$."
   ]
  },
  {
   "cell_type": "markdown",
   "metadata": {},
   "source": [
    "### Finding Bugs with Symbolic Execution\n",
    "\n",
    "1. Enumerate Paths with Symbolic Execution.\n",
    "2. Translate Any Safety Property to Reachability (Assertions).\n",
    "3. Treat Assertions as Error Conditions."
   ]
  },
  {
   "cell_type": "markdown",
   "metadata": {},
   "source": [
    "## Dynamic Symbolic Execution"
   ]
  },
  {
   "cell_type": "markdown",
   "metadata": {},
   "source": [
    "### Dynamic Symbolic Execution\n",
    "\n",
    "1. Execute the program with a concrete state and a symbolic state in parallel.\n",
    "2. Generate a new concrete state using a constraint solver."
   ]
  },
  {
   "cell_type": "markdown",
   "metadata": {},
   "source": [
    "### EXE Algorithm\n",
    "\n",
    "*See Slides 6 to 21 in Dynamic Symbolic Execution.*"
   ]
  },
  {
   "cell_type": "markdown",
   "metadata": {},
   "source": [
    "### DART Algorithm\n",
    "\n",
    "*See Slides 22 to 64 in Dynamic Symbolic Execution.*"
   ]
  },
  {
   "cell_type": "markdown",
   "metadata": {},
   "source": [
    "## Semantics of Symbolic Execution"
   ]
  },
  {
   "cell_type": "markdown",
   "metadata": {},
   "source": [
    "### Notation\n",
    "\n",
    "- $L$ is a set of program variables.\n",
    "- $q$ is a concrete state that maps program variables $L$ to integers $\\mathbb{Z}$.\n",
    "- $Q : L \\to \\mathbb{Z}$ is the set of all states."
   ]
  },
  {
   "cell_type": "markdown",
   "metadata": {},
   "source": [
    "### Symbolic States and Path Conditions\n",
    "\n",
    "- A **symbolic state** $q$ is a map from program variables to symbolic expressions.\n",
    "- A **path condition** $pc$ is a formula over symbolic expressions.\n",
    "- A **judgment** in symbolic execution has the following form.\n",
    "$$\\langle s, q, pc \\rangle \\Downarrow q', pc'$$\n",
    "    - where $s$ is the **Program Statement**.\n",
    "    - where $q$ is the **Input Symbolic Environment**.\n",
    "    - where $q'$ is the **Output Symbolic Environment**.\n",
    "    - where $pc$ is the **Input Path Condition**.\n",
    "    - where $pc'$ is the **Output Path Condition**.\n",
    "- A path condition $pc'$ is **satisfiable** if and only if there is a concrete input state $c$ and concrete output state $c'$ such that $s$ started in state $c$ reaches $c'$, i.e., $\\langle s, c \\rangle \\Downarrow c'$"
   ]
  },
  {
   "cell_type": "markdown",
   "metadata": {},
   "source": [
    "### Symbolic Semantics for WHILE: Expressions\n",
    "\n",
    "$$\n",
    "\\begin{aligned}\n",
    "&\\frac{}{\\langle n, q \\rangle \\Downarrow n} n \\in \\mathbb{Z} \\\\[1em]\n",
    "&\\frac{}{\\langle v, q \\rangle \\Downarrow q(v)} v \\in L \\\\[1em]\n",
    "&\\frac{\\langle a_{1}, q \\rangle \\Downarrow n_{1} \\quad \\langle a_{2}, q \\rangle \\Downarrow n_{2}}{\\langle a_{1} + a_{2}, q \\rangle \\Downarrow \\text{Plus}(n_{1}, n_{2})} \\\\[1em]\n",
    "&\\frac{\\langle a_{1}, q \\rangle \\Downarrow n_{1} \\quad \\langle a_{2}, q \\rangle \\Downarrow n_{2}}{\\langle a_{1} * a_{2}, q \\rangle \\Downarrow \\text{Times}(n_{1}, n_{2})} \\\\[1em]\n",
    "&\\frac{\\langle a_{1}, q \\rangle \\Downarrow n_{1} \\quad \\langle a_{2}, q \\rangle \\Downarrow n_{2}}{\\langle a_{1} < a_{2}, q \\rangle \\Downarrow \\text{Lt}(n_{1}, n_{2})} \\\\[1em]\n",
    "&\\frac{\\langle a_{1}, q \\rangle \\Downarrow n_{1} \\quad \\langle a_{2}, q \\rangle \\Downarrow n_{2}}{\\langle a_{1} > a_{2}, q \\rangle \\Downarrow \n",
    "\\text{Gt}(n_{1}, n_{2})} \\\\[1em]\n",
    "&\\frac{\\langle b_{1}, q \\rangle \\Downarrow r_{1} \\quad \\langle b_{2}, q \\rangle \\Downarrow r_{2}}{\\langle b_{1} \\land b_{2}, q \\rangle \\Downarrow \\text{And}(r_{1}, r_{2})} \\\\[1em]\n",
    "&\\frac{\\langle b_{1}, q \\rangle \\Downarrow r_{1} \\quad \\langle b_{2}, q \\rangle \\Downarrow r_{2}}{\\langle b_{1} \\lor b_{2}, q \\rangle \\Downarrow \\text{Or}(r_{1}, r_{2})} \\\\[1em]\n",
    "\\end{aligned}\n",
    "$$"
   ]
  },
  {
   "cell_type": "markdown",
   "metadata": {},
   "source": [
    "### Symbolic Semantics for WHILE: Statements\n",
    "\n",
    "$$\n",
    "\\begin{aligned}\n",
    "&\\frac{}{\\langle \\text{skip}, q, pc \\rangle \\Downarrow q, pc} \\\\[1em]\n",
    "&\\frac{}{\\langle \\text{print_state}, q, pc \\rangle \\Downarrow q, pc} \\\\[1em]\n",
    "&\\frac{\\langle s_{1}, q, pc \\rangle \\Downarrow q'', pc'' \\quad \\langle s_{2}, q'', pc'' \\rangle \\Downarrow q', pc'}{\\langle s_{1} \\text{ ; } s_{2}, q, pc \\rangle \\Downarrow q', pc'} \\\\[1em]\n",
    "&\\frac{\\langle e, q \\rangle \\Downarrow r}{\\langle x := e, q, pc \\rangle \\Downarrow q[x := r], pc} \\\\[1em]\n",
    "&\\frac{R \\text{ is a fresh symbolic constant}}{\\langle \\text{havoc } x, q, pc \\rangle \\Downarrow q[x := R], pc} \\\\[1em]\n",
    "&\\frac{\\langle b, q \\rangle \\Downarrow r \\quad pc \\land r \\text{ is SAT } \\quad \\langle s_{1}, q, pc \\land r \\rangle \\Downarrow q', pc'}{\\langle \\text{if } b \\text{ then } s_{1} \\text{ else } s_{2}, q, pc \\rangle \\Downarrow q', pc'} \\\\[1em]\n",
    "&\\frac{\\langle b, q \\rangle \\Downarrow r \\quad pc \\land \\lnot r \\text{ is SAT } \\quad \\langle s_{2}, q, pc \\land \\lnot r \\rangle \\Downarrow q', pc'}{\\langle \\text{if } b \\text{ then } s_{1} \\text{ else } s_{2}, q, pc \\rangle \\Downarrow q', pc'} \\\\[1em]\n",
    "&\\frac{\\langle b, q \\rangle \\Downarrow r \\quad pc \\land \\lnot r \\text{ is SAT}}{\\langle \\text{while } b \\text{ do } s, q, pc \\rangle \\Downarrow q, pc \\land \\lnot r}\\\\[1em]\n",
    "&\\frac{\\langle b, q \\rangle \\Downarrow r \\quad pc \\land r \\text{ is SAT } \\quad \\langle s \\text{ ; while } b \\text{ do } s, q, pc \\land r \\rangle \\Downarrow q', pc'}{\\langle \\text{while } b \\text{ do } s, q, pc \\rangle \\Downarrow q', pc'}\\\\[1em]\n",
    "\\end{aligned}\n",
    "$$"
   ]
  },
  {
   "cell_type": "markdown",
   "metadata": {},
   "source": [
    "### Concolic Semantics for WHILE: Notation\n",
    "\n",
    "- $Sym(L)$ are the symbolic program variables.\n",
    "- $Con(L)$ are the concrete program variables.\n",
    "- A **concolic state** is a triple: $q = \\langle c, s, pc \\rangle$.\n",
    "    - where $con(q) = c$ is the **Concrete State**.\n",
    "    - where $sym(q) = s$ is the **Symbolic State**.\n",
    "    - where $pc(q) = pc$ is the **Path Condition**.\n",
    "- Every variable $v \\in sym(q)$ has a **concrete shadow** $con(q)(v)$; i.e., concrete state can evaluate all variables."
   ]
  },
  {
   "cell_type": "markdown",
   "metadata": {},
   "source": [
    "### Equivalence of Concrete States\n",
    "\n",
    "- Two concrete states $c_{1}$ and $c_{2}$ are equivalent, $c_{1} \\equiv_{con} c_{2}$, whenever they agree on concrete variables:\n",
    "$$c_{1} \\equiv_{con} c_{2} \\iff \\forall a \\in Con(L) \\cdot c_{1}(a) = c_{2}(a)$$"
   ]
  },
  {
   "cell_type": "markdown",
   "metadata": {},
   "source": [
    "### Containment of Concrete States\n",
    "\n",
    "- $c \\models \\langle s, pc \\rangle$ means that concrete $c$ is contained in symbolic $\\langle s, pc \\rangle$."
   ]
  },
  {
   "cell_type": "markdown",
   "metadata": {},
   "source": [
    "### Concolic Semantics of Expressions\n",
    "\n",
    "- Expressions that do not depend on symbolic variables are evaluated concretely.\n",
    "- Expressions that depend on symbolic variables are evaluated symbolically (i.e. AST).\n",
    "\n",
    "$$\\frac{con(a) \\quad \\langle a, con(q) \\rangle \\Downarrow v}{\\langle a, q \\rangle \\Downarrow v}$$\n",
    "\n",
    "$$\\frac{sym(a) \\quad \\langle a, sym(q) \\rangle \\Downarrow v}{\\langle a, q \\rangle \\Downarrow v}$$"
   ]
  },
  {
   "cell_type": "markdown",
   "metadata": {},
   "source": [
    "### Concolic Semantics of Simple Statements\n",
    "\n",
    "- For most statements, the semantics are extended by applying both symbolic and concrete operational semantics in parallel.\n",
    "- The last pre-condition ensures that the concrete and symbolic states are chosen consistently.\n",
    "\n",
    "$$\\frac{\\langle s, con(q) \\rangle \\Downarrow c \\quad \\langle s, sym(q), pc(q) \\rangle \\Downarrow s', pc' \\quad c \\models \\langle s', pc' \\rangle}{\\langle s, q \\rangle \\Downarrow \\langle c, s', pc' \\rangle}$$"
   ]
  },
  {
   "cell_type": "markdown",
   "metadata": {},
   "source": [
    "### Concolic Semantics of Assignment\n",
    "\n",
    "- Assignment of values to concrete variables is limited to concrete values only.\n",
    "- *Impossible*: To assign symbolic variables to concrete variables.\n",
    "\n",
    "$$\\frac{\\langle e, q \\rangle \\Downarrow n \\quad con(x) \\quad n \\in \\mathbb{Z}}{\\langle x := e, q \\rangle \\Downarrow q[x := n]}$$"
   ]
  },
  {
   "cell_type": "markdown",
   "metadata": {},
   "source": [
    "### Concolic Semantics of If-Statement\n",
    "\n",
    "- At an if-statement, concolic execution can chose to switch to the branch that is not consistent with current concrete state, as long as the concrete state can be adjusted.\n",
    "\n",
    "$$\\frac{\\langle b, con(q) \\rangle \\Downarrow \\text{true} \\quad \\langle b, q \\rangle \\Downarrow r \\quad pc(q) \\land \\lnot r \\text{ is SAT } \\quad c \\models \\langle sym(q), pc(q) \\land \\lnot r \\rangle \\quad c \\equiv_{con} con(q) \\quad \\langle s_{2}, \\langle c, sym(q), pc(q) \\land \\lnot r \\rangle \\rangle \\Downarrow q'}{\\langle \\text{if } b \\text{ then } s_{1} \\text{ else } s_{2}, q \\rangle \\Downarrow q'}$$"
   ]
  },
  {
   "cell_type": "markdown",
   "metadata": {},
   "source": [
    "### Concolic Semantics of Concretization\n",
    "\n",
    "- **Concretization** turns symbolic variables into the values of their concrete shadows. The choice of concretization is captured in a concretization constraints in the path condition.\n",
    "- If $x$ is a symbolic variable with symbolic value $r$ and it is currently shadowed concretely by a concrete value $n$, then its value can be concretized to $n$ as long as the path condition is updated with $r = n$ to reflect the concretization.\n",
    "\n",
    "$$\\frac{sym(x) \\quad \\langle x, con(q) \\rangle \\Downarrow n \\quad \\langle x, sym(q) \\rangle \\Downarrow r \\quad \\langle s, \\langle con(q), sym(q)[x := n], pc(q) \\land r = n \\rangle \\rangle \\Downarrow q'}{\\langle s, q \\rangle \\Downarrow q'}$$"
   ]
  }
 ],
 "metadata": {
  "kernelspec": {
   "display_name": "Python 3",
   "language": "python",
   "name": "python3"
  },
  "language_info": {
   "codemirror_mode": {
    "name": "ipython",
    "version": 3
   },
   "file_extension": ".py",
   "mimetype": "text/x-python",
   "name": "python",
   "nbconvert_exporter": "python",
   "pygments_lexer": "ipython3",
   "version": "3.7.3"
  },
  "toc": {
   "base_numbering": 1,
   "nav_menu": {},
   "number_sections": false,
   "sideBar": false,
   "skip_h1_title": false,
   "title_cell": "Table of Contents",
   "title_sidebar": "Contents",
   "toc_cell": false,
   "toc_position": {},
   "toc_section_display": false,
   "toc_window_display": false
  }
 },
 "nbformat": 4,
 "nbformat_minor": 2
}
