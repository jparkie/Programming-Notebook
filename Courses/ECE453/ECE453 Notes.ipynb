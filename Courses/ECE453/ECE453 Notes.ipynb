{
 "cells": [
  {
   "cell_type": "markdown",
   "metadata": {},
   "source": [
    "# ECE 453 - Software Testing, Quality Assurance, and Maintenance"
   ]
  },
  {
   "cell_type": "markdown",
   "metadata": {},
   "source": [
    "## Introduction"
   ]
  },
  {
   "cell_type": "markdown",
   "metadata": {},
   "source": [
    "### Testing and Verification\n",
    "\n",
    "- **Testing**: An ad-hoc software validation method that proves the existence of faults.\n",
    "- **Verification**: A formal software validation method that proves the software satisfies its specifications.\n",
    "- **Static Program Verification**: The algorithmic discovery of the properties of a program by inspection of its source text.\n",
    "- **Formal Methods**: The general area of research related to program specification and verification."
   ]
  },
  {
   "cell_type": "markdown",
   "metadata": {},
   "source": [
    "### Undecidability\n",
    "\n",
    "- **Undecidability**: A problem is undecidable if there does not exists a Turning machine that can solve it.\n",
    "- **Rice's Theorem**: For any non-trivial property of partial functions, no general and effective method can decide whether an algorithm computes a partial function with that property."
   ]
  },
  {
   "cell_type": "markdown",
   "metadata": {},
   "source": [
    "### User Effort vs Verification Assurance\n",
    "\n",
    "\n",
    "- *From Least Effort / Least Assurance to Most Effort / Most Assurance.*\n",
    "\n",
    "\n",
    "1. Testing\n",
    "2. Symbolic Execution: Automated Test-Case Generation\n",
    "3. Automated Verification\n",
    "4. Deductive Verification"
   ]
  },
  {
   "cell_type": "markdown",
   "metadata": {},
   "source": [
    "### Key Challenges\n",
    "\n",
    "- *Testing*: Coverage\n",
    "- *Symbolic Execution and Automated Verification*: Scalability \n",
    "- *Deductive Verification*: Usability\n",
    "- *Common Challenges*: Specification / Oracle"
   ]
  },
  {
   "cell_type": "markdown",
   "metadata": {},
   "source": [
    "## Fault, Error, and Failure"
   ]
  },
  {
   "cell_type": "markdown",
   "metadata": {},
   "source": [
    "### Definitions\n",
    "\n",
    "- **Fault**: A static defect in software.\n",
    "- **Error**: An incorrect internal state (*unobserved*).\n",
    "- **Failure**: An incorrect external behavior with respect to the expected external behavior (*observed*)."
   ]
  },
  {
   "cell_type": "markdown",
   "metadata": {},
   "source": [
    "### RIP Model\n",
    "\n",
    "- Three conditions must be present for an error to be observed: failure.\n",
    "  1. **Reachability**: The location or locations in the program that contain the fault must be reached.\n",
    "  2. **Infection**: After execution the location, the state of the program must be incorrect.\n",
    "  3. **Propagation**: The infected state must propagate to cause some output of the program to be incorrect."
   ]
  },
  {
   "cell_type": "markdown",
   "metadata": {},
   "source": [
    "### Addressing Faults\n",
    "\n",
    "1. **Fault Avoidance**: Better Design, Better Programming Languages, ...\n",
    "2. **Fault Detection**: Testing, Debugging, ...\n",
    "3. **Fault Tolerance**: Redundancy, Isolation, ..."
   ]
  },
  {
   "cell_type": "markdown",
   "metadata": {},
   "source": [
    "## Foundations: Syntax, Semantics, and Graphs"
   ]
  },
  {
   "cell_type": "markdown",
   "metadata": {},
   "source": [
    "### WHILE: A Simple Imperative Language\n",
    "\n",
    "#### Syntatic Entities\n",
    "\n",
    "##### Terminals\n",
    "\n",
    "\n",
    "- *Atomic Tokens*.\n",
    "\n",
    "\n",
    "1. **Integers**: $n \\in Z$\n",
    "2. **Booleans**: $\\text{true}, \\text{false} \\in B$\n",
    "3. **Locations (Program Variables)**: $x, y \\in L$\n",
    "\n",
    "##### Non-Terminals\n",
    "\n",
    "\n",
    "- *Composition of Tokens*.\n",
    "\n",
    "\n",
    "1. **Atomic Expressions**: $e \\in Aexp$\n",
    "2. **Boolean Expressions**: $b \\in Bexp$\n",
    "3. **Statements**: $c \\in Stmt$\n",
    "\n",
    "#### Syntax of Arithmetic Expressions\n",
    "\n",
    "$$\n",
    "\\begin{aligned}\n",
    "\\text{e } ::= &\\; n     &\\text{ for } n \\in Z \\\\\n",
    "      &\\vert -n &\\text{ for } n \\in Z \\\\\n",
    "      &\\vert x  &\\text{ for } x \\in L \\\\\n",
    "      &\\vert e_1 \\text{ aop } e_2 \\\\\n",
    "      &\\vert \\text{'('e')'} \\\\\n",
    "\\text{aop } ::= &\\; \\text{'*' } \\vert \\text{ '/' } \\vert \\text{ '-' } \\vert \\text{ '+'}\n",
    "\\end{aligned}\n",
    "$$\n",
    "\n",
    "- *No Declarations*\n",
    "- *Only Integer Variables*.\n",
    "- *No Side-Effects*.\n",
    "\n",
    "#### Syntax of Boolean Expressions\n",
    "\n",
    "$$\n",
    "\\begin{aligned}\n",
    "\\text{b } ::= &\\; \\text{'true'} \\\\\n",
    "    &\\vert \\text{'false'} \\\\\n",
    "    &\\vert \\text{'not' } b \\\\\n",
    "    &\\vert e_1 \\text{ rop } e_2 &\\text{ for } e_1, e_2 \\in Aexp \\\\\n",
    "    &\\vert e_1 \\text{ bop } e_2 &\\text{ for } e_1, e_2 \\in Bexp \\\\\n",
    "    &\\vert \\text{'('b')'} \\\\\n",
    "\\text{rop } ::= &\\; \\text{'<' } \\vert \\text{ '<=' } \\vert \\text{ '=' } \\vert \\text{ '>=' } \\vert \\text{ '>'} \\\\\n",
    "\\text{bop } ::= &\\; \\text{'and' } \\vert \\text{ 'or'}\n",
    "\\end{aligned}\n",
    "$$\n",
    "\n",
    "#### Syntax of Statements\n",
    "\n",
    "$$\n",
    "\\begin{aligned}\n",
    "\\text{s } ::= &\\; \\text{skip} \\\\\n",
    "    &\\vert x := e \\\\\n",
    "    &\\vert \\text{if } b \\text{ then } s \\;[\\text{else } s] \\\\\n",
    "    &\\vert \\text{while } b \\text{ do } s \\\\\n",
    "    &\\vert \\text{'\\{' } slist \\text{ '\\}'} \\\\\n",
    "    &\\vert \\text{print_state} \\\\\n",
    "    &\\vert \\text{assert } b \\\\\n",
    "    &\\vert \\text{assume } b \\\\\n",
    "    &\\vert \\text{havoc } v1, ..., vN \\\\\n",
    "\\text{slist } ::= &\\; s (\\text{';'} s)* \\\\\n",
    "\\text{prog } ::= &\\; \\text{slist} \n",
    "\\end{aligned}\n",
    "$$"
   ]
  },
  {
   "cell_type": "markdown",
   "metadata": {},
   "source": [
    "### Abstract Syntax Tree\n",
    "\n",
    "- An **abstract syntax tree** is a tree in which each node represents a syntactic entity."
   ]
  },
  {
   "cell_type": "markdown",
   "metadata": {},
   "source": [
    "### Visitor Design Pattern\n",
    "\n",
    "- An object-oriented design pattern that separates an algorithm from an element on which it operates.\n",
    "- **Assignment Notes**: In Python, the method handle is used to dynamic dispatch calls: `visit_Stmt()`."
   ]
  },
  {
   "cell_type": "markdown",
   "metadata": {},
   "source": [
    "### Non-Determinism vs. Randomness\n",
    "\n",
    "- A **deterministic** function always returns the same result on the same input.\n",
    "- A **non-deterministic** function may return different values on the same input.\n",
    "- A **random** function may choose a different value with a probability distribution.\n",
    "- A non-deterministic choice cannot be implemented."
   ]
  },
  {
   "cell_type": "markdown",
   "metadata": {},
   "source": [
    "### Syntax and Semantics\n",
    "\n",
    "- **Syntax**: Determines how things are expressed.\n",
    "- **Semantics**: Determines how syntax is interpreted to give meaning."
   ]
  },
  {
   "cell_type": "markdown",
   "metadata": {},
   "source": [
    "### Semantics of Programming Languages\n",
    "\n",
    "- **Denotational Semantics**: The meaning of a program is defined as the mathematical object it computes.\n",
    "- **Axiomatic Semantics**: The meaning of a program is defined in terms of its effect on the truth of logical assertions.\n",
    "- **Operational Semantics**: The meaning of a program is defined by formalizing the individual computation steps of the program."
   ]
  },
  {
   "cell_type": "markdown",
   "metadata": {},
   "source": [
    "### Semantics of WHILE\n",
    "\n",
    "- A **state** $s$ is a function from $L$ to $Z$.\n",
    "    - It assigns a value for every variable.\n",
    "- The set of all states is $Q = L \\to Z$.\n",
    "\n",
    "#### Notation\n",
    "\n",
    "- *Empty State*: $\\left[\\right]$\n",
    "- *State*: $\\left[x := 10, y := 15, z := 5\\right]$\n",
    "- *Substitution*: $s\\left[x := 10\\right]$"
   ]
  },
  {
   "cell_type": "markdown",
   "metadata": {},
   "source": [
    "### Judgement\n",
    "\n",
    "- $\\langle e, q \\rangle \\Downarrow n$ states that an *expression* $e$ in *state* $q$ has a *value* $n$.\n",
    "- *Note: Evaluate $n$ in a judgement $\\langle e, q \\rangle \\Downarrow n$.*"
   ]
  },
  {
   "cell_type": "markdown",
   "metadata": {},
   "source": [
    "### Inference Rules\n",
    "\n",
    "$$\n",
    "\\frac{F_1 ... F_n}{G} \\text{ where } H\n",
    "$$\n",
    "\n",
    "- An **inference rule** defines a relation between judgements $F_1, ..., F_n$ and $G$.\n",
    "    - The judgements $F_1, ..., F_n$ are the **premises** of the rule.\n",
    "    - The judgements $G$ is the **conclusion** of the rule.\n",
    "    - The formula $H$ is called the **side condition** of the rule.\n",
    "    - If $n = 0$, the rule is called an **axiom**. In this case, the line separating premises and conclusion may be omitted.\n",
    "- A **derivation** infers new facts from existing facts."
   ]
  },
  {
   "cell_type": "markdown",
   "metadata": {},
   "source": [
    "### Inference Rules for Aexp\n",
    "\n",
    "- *Note: Expression would not mutate state; side-effect free.*\n",
    "\n",
    "$$\n",
    "\\begin{aligned}\n",
    "&\\frac{}{\\langle n, q \\rangle \\Downarrow n} \\\\[1em]\n",
    "&\\frac{}{\\langle x, q \\rangle \\Downarrow q(x)} \\\\[1em]\n",
    "&\\frac{\\langle e_{1}, q \\rangle \\Downarrow n_{1} \\quad \\langle e_{2}, q \\rangle \\Downarrow n_{2}}{\\langle e_{1} + e_{2}, q \\rangle \\Downarrow (n_{1} + n_{2})} \\\\[1em]\n",
    "&\\frac{\\langle e_{1}, q \\rangle \\Downarrow n_{1} \\quad \\langle e_{2}, q \\rangle \\Downarrow n_{2}}{\\langle e_{1} - e_{2}, q \\rangle \\Downarrow (n_{1} - n_{2})} \\\\[1em]\n",
    "&\\frac{\\langle e_{1}, q \\rangle \\Downarrow n_{1} \\quad \\langle e_{2}, q \\rangle \\Downarrow n_{2}}{\\langle e_{1} * e_{2}, q \\rangle \\Downarrow (n_{1} * n_{2})}\n",
    "\\end{aligned}\n",
    "$$"
   ]
  },
  {
   "cell_type": "markdown",
   "metadata": {},
   "source": [
    "### Inference Rules for Bexp\n",
    "\n",
    "- *Note: Expression would not mutate state; side-effect free.*\n",
    "\n",
    "$$\n",
    "\\begin{aligned}\n",
    "&\\frac{}{\\langle \\text{true}, q \\rangle \\Downarrow \\text{true}} \\\\[1em]\n",
    "&\\frac{}{\\langle \\text{false}, q \\rangle \\Downarrow \\text{false}} \\\\[1em]\n",
    "&\\frac{\\langle e_{1}, q \\rangle \\Downarrow n_{1} \\quad \\langle e_{2}, q \\rangle \\Downarrow n_{2}}{\\langle e_{1} = e_{2}, q \\rangle \\Downarrow (n_{1} = n_{2})} \\\\[1em]\n",
    "&\\frac{\\langle e_{1}, q \\rangle \\Downarrow n_{1} \\quad \\langle e_{2}, q \\rangle \\Downarrow n_{2}}{\\langle e_{1} \\le e_{2}, q \\rangle \\Downarrow (n_{1} \\le n_{2})} \\\\[1em]\n",
    "&\\frac{\\langle b_{1}, q \\rangle \\Downarrow t_{1} \\quad \\langle b_{2}, q \\rangle \\Downarrow t_{2}}{\\langle b_{1} \\land b_{2}, q \\rangle \\Downarrow (t_{1} \\land t_{2})}\n",
    "\\end{aligned}\n",
    "$$"
   ]
  },
  {
   "cell_type": "markdown",
   "metadata": {},
   "source": [
    "### Semantics of Statements\n",
    "\n",
    "- $\\langle s, q \\rangle \\Downarrow q'$\n",
    "    - where $s$ is the **Program Statement**.\n",
    "    - where $q$ is the **Input Program State**.\n",
    "    - where $q'$ is the **Output Program State**.\n",
    "    \n",
    "$$\n",
    "\\begin{aligned}\n",
    "&\\frac{}{\\langle \\text{skip}, q \\rangle \\Downarrow q} \\\\[1em]\n",
    "&\\frac{}{\\langle \\text{print_state}, q \\rangle \\Downarrow q} \\\\[1em]\n",
    "&\\frac{\\langle s_{1}, q \\rangle \\Downarrow q'' \\quad \\langle s_{2}, q'' \\rangle \\Downarrow q'}{\\langle s_{1} \\text{ ; } s_{2}, q \\rangle \\Downarrow q'} \\\\[1em]\n",
    "&\\frac{\\langle e, q \\rangle \\Downarrow n}{\\langle x := e, q \\rangle \\Downarrow q[x := n]} \\\\[1em]\n",
    "&\\frac{\\langle b, q \\rangle \\Downarrow \\text{true} \\quad \\langle s_{1}, q \\rangle \\Downarrow q'}{\\langle \\text{if } b \\text{ then } s_{1} \\text{ else } s_{2}, q \\rangle \\Downarrow q'} \\\\[1em]\n",
    "&\\frac{\\langle b, q \\rangle \\Downarrow \\text{false} \\quad \\langle s_{2}, q \\rangle \\Downarrow q'}{\\langle \\text{if } b \\text{ then } s_{1} \\text{ else } s_{2}, q \\rangle \\Downarrow q'}\n",
    "\\end{aligned}\n",
    "$$"
   ]
  },
  {
   "cell_type": "markdown",
   "metadata": {},
   "source": [
    "### Derivation $\\implies$ Execution\n",
    "\n",
    "- **Top-Down**: Execution.\n",
    "- **Bottom-Up**: Explanation.\n",
    "\n",
    "> Show that $\\langle p := 0 \\text{ ; } x := 1 \\text{ ; } n := 2, [] \\rangle \\Downarrow [p := 0, x := 1, n := 2]$.\n",
    "\n",
    "$$\n",
    "\\cfrac{\\cfrac{}{\\cfrac{\\langle 0, [] \\rangle \\Downarrow 0}{\\langle p := 0, [] \\rangle \\Downarrow [p := 0]}} \\quad \\cfrac{}{\\cfrac{\\langle 1, [p := 0] \\rangle \\Downarrow 1}{\\langle x := 1, [p := 0] \\rangle \\Downarrow [p := 0, x := 1]}}}{\\cfrac{\\langle p := 0 \\text{ ; } x := 1, [] \\rangle \\Downarrow [p := 0, x:= 1] \\quad \\langle n := 2, [p := 0, x := 1] \\rangle \\Downarrow [p := 0, x := 1, n := 2]}{\\langle p := 0 \\text{ ; } x := 1 \\text{ ; } n := 2, [] \\rangle \\Downarrow [p := 0, x := 1, n := 2]}}\n",
    "$$"
   ]
  },
  {
   "cell_type": "markdown",
   "metadata": {},
   "source": [
    "### Semantics of Loops\n",
    "\n",
    "- Let $T$ be a special state, **top**, that represents divergence, such as an infinite loop.\n",
    "- Any statement in a divergent state is treated like \"skip\".\n",
    "\n",
    "$$\n",
    "\\begin{aligned}\n",
    "&\\frac{\\langle b, q \\rangle \\Downarrow \\text{false}}{\\langle \\text{while } b \\text{ do } s, q \\rangle \\Downarrow q}\\\\[1em]\n",
    "&\\frac{\\langle b, q \\rangle \\Downarrow \\text{true} \\quad \\langle s \\text{ ; while } b \\text{ do } s, q \\rangle \\Downarrow q'}{\\langle \\text{while } b \\text{ do } s, q \\rangle \\Downarrow q'}\\\\[1em]\n",
    "&\\frac{}{\\langle \\text{while true do } s, q \\rangle \\Downarrow T}\\\\[1em]\n",
    "&\\frac{}{\\langle s, T \\rangle \\Downarrow T}\\\\[1em]\n",
    "\\end{aligned}\n",
    "$$"
   ]
  },
  {
   "cell_type": "markdown",
   "metadata": {},
   "source": [
    "### Properties of Semantics\n",
    "\n",
    "- A semantic is **deterministic** if every program statement has exactly one possible derivation in any state.\n",
    "- Two statements are **semantically equivalent** if for every input state they derive the same output state.\n",
    "\n",
    "#### Structural Induction\n",
    "\n",
    "- To prove a property $P$ on a derivation tree.\n",
    "    1. *Base Case*: Prove $P$ for all of the axioms.\n",
    "    2. *Inductive Hypothesis*: Assume $P$ holds before every rule.\n",
    "    3. *Induction*: Prove that $P$ holds at the end of every rule.\n",
    "- Use structural induction to prove that the semantics are deterministic."
   ]
  },
  {
   "cell_type": "markdown",
   "metadata": {},
   "source": [
    "### Structural Operational Semantics (*Small-Step*)\n",
    "\n",
    "- *Execution of One Statement*: $\\langle s, q \\rangle \\implies \\langle t, q' \\rangle$\n",
    "    - where $s$ is the statement to execute.\n",
    "    - where $q$ is the input state.\n",
    "    - where $t$ is the rest of the program.\n",
    "    - where $q'$ is the output state."
   ]
  },
  {
   "cell_type": "markdown",
   "metadata": {},
   "source": [
    "### Small-Step Semantics for WHILE\n",
    "\n",
    "$$\n",
    "\\begin{aligned}\n",
    "&\\frac{}{\\langle \\text{skip}, q \\rangle \\implies q}\\\\[1em]\n",
    "&\\frac{\\langle s_{1}, q \\rangle \\implies q'}{\\langle s_{1} \\text{ ; } s_{2}, q \\rangle \\implies \\langle s_{2}, q' \\rangle}\\\\[1em]\n",
    "&\\frac{\\langle s_{1}, q \\rangle \\implies \\langle \\mathbf{s_{3}}, q' \\rangle}{\\langle s_{1} \\text{ ; } s_{2}, q \\rangle \\implies \\langle \\mathbf{s_{3}} \\text{ ; } s_{2}, q' \\rangle}\\\\[1em]\n",
    "&\\frac{\\langle b, q \\rangle \\Downarrow \\text{true}}{\\langle \\text{if } b \\text{ then } s_{1} \\text{ else } s_{2}, q \\rangle \\implies \\langle s_{1}, q \\rangle}\\\\[1em]\n",
    "&\\frac{\\langle b, q \\rangle \\Downarrow \\text{false}}{\\langle \\text{if } b \\text{ then } s_{1} \\text{ else } s_{2}, q \\rangle \\implies \\langle s_{2}, q \\rangle}\\\\[1em]\n",
    "&\\frac{}{\\langle \\text{while } b \\text{ do } s, q \\rangle \\implies \\langle \\text{if } b \\text{ then } (s \\text{ ;  while } b \\text{ do } s) \\text{ else skip}, q \\rangle}\n",
    "\\end{aligned}\n",
    "$$"
   ]
  },
  {
   "cell_type": "markdown",
   "metadata": {},
   "source": [
    "### Properties of Small Step Semantics\n",
    "\n",
    "- Small step semantics are a **transition system**: $TS = (S, R)$.\n",
    "    - where $S$ is a set of states: $\\langle s, q \\rangle$.\n",
    "    - where $R$ is a transition relation on a pair of states.\n",
    "        - $(x, y) \\in R \\iff (x \\implies y)$ is a true judgement in small-step semantics.\n",
    "- **Derivation Sequence**: A path $x_{1}, x_{2}, x_{3}, ....$ in $TS$ corresponds to a program execution.\n",
    "- Properties of small-step semantics are established by induction on the length of the derivation.\n",
    "- A small step semantic is deterministic if there is only one derivation for every configuration."
   ]
  },
  {
   "cell_type": "markdown",
   "metadata": {},
   "source": [
    "### Programming to Modeling\n",
    "\n",
    "- **Assertions**: `assert e` - Aborts an execution when $e$ is false, no-op otherwise.\n",
    "```cpp\n",
    "void assert(bool b) {\n",
    "    if (!b)\n",
    "        error();\n",
    "}\n",
    "```\n",
    "- **Non-Determinism**: `havoc x` - Assign a variable $x$ a non-deterministic value.\n",
    "```cpp\n",
    "void havoc(int &x) {\n",
    "    int y;\n",
    "    x = y;\n",
    "}\n",
    "```\n",
    "- **Assumptions**: `assume e` - Block execution if $e$ is false, no-op otherwise.\n",
    "```cpp\n",
    "void assume(bool e) {\n",
    "    while (!e);\n",
    "}\n",
    "```"
   ]
  },
  {
   "cell_type": "markdown",
   "metadata": {},
   "source": [
    "### Safety Specifications as Assertions\n",
    "\n",
    "- **Correct**: If all executions that satisfy all assumptions also satisfy all assertions.\n",
    "- **Incorrect**: If there exists an execution that satisfies all of the assumptions and violdates at least one assertion.\n",
    "- Assumptions $\\implies$ Pre-Conditions.\n",
    "- Assertions $\\implies$ Properties."
   ]
  },
  {
   "cell_type": "markdown",
   "metadata": {},
   "source": [
    "### Graphs, Paths, Cycle\n",
    "\n",
    "- A **graph**, $G = (N, E)$, is an ordered pair consisting of a node set, $N$, and an edge set, $E = \\{(n_{i}, n_{j})\\}$.\n",
    "    - **Directed**: If the pairs in $E$ are ordered.\n",
    "    - **Undirected**: If the pairs in $E$ are unordered.\n",
    "- A **path**, $P$, through a directed graph $G = (N, E)$ is a sequence of edges $\\left( (u_{1}, v_{1}), (u_{2}, v_{}), ... (u_{t}, v_{t}) \\right)$ such that the following is true.\n",
    "    - where $v_{k - 1} = u_{k}$ for all $1 < k \\le t$.\n",
    "    - where $u_{1}$ is the start node.\n",
    "    - where $u_{t}$ is the end node.\n",
    "    - The length of a path is the number of edges in the path.\n",
    "- A **cycle** in a graph $G$ is a path whose start node and end node are the same.\n",
    "- A **tree** is an acyclic, undirected graph.\n",
    "- A **directed acyclic graph (DAG)** is a directed graph without cycles.\n",
    "- Every tree is isomorphic to a prefix-closed subset of $N^{*}$ for some natural number $N$."
   ]
  }
 ],
 "metadata": {
  "kernelspec": {
   "display_name": "Python 3",
   "language": "python",
   "name": "python3"
  },
  "language_info": {
   "codemirror_mode": {
    "name": "ipython",
    "version": 3
   },
   "file_extension": ".py",
   "mimetype": "text/x-python",
   "name": "python",
   "nbconvert_exporter": "python",
   "pygments_lexer": "ipython3",
   "version": "3.7.3"
  },
  "toc": {
   "base_numbering": 1,
   "nav_menu": {},
   "number_sections": false,
   "sideBar": false,
   "skip_h1_title": false,
   "title_cell": "Table of Contents",
   "title_sidebar": "Contents",
   "toc_cell": false,
   "toc_position": {},
   "toc_section_display": false,
   "toc_window_display": false
  }
 },
 "nbformat": 4,
 "nbformat_minor": 2
}
