{
 "cells": [
  {
   "cell_type": "markdown",
   "metadata": {},
   "source": [
    "# ECE 493 - Probabilistic Reasoning and Decision Making"
   ]
  },
  {
   "cell_type": "markdown",
   "metadata": {},
   "source": [
    "## Probability"
   ]
  },
  {
   "cell_type": "markdown",
   "metadata": {},
   "source": [
    "1. *See [Probability and Statistics for Computer Science](http://jacobpark.me/Programming-Notebook/Books/Probability%20and%20Statistics%20for%20Computer%20Science/Probability%20and%20Statistics%20for%20Computer%20Science.html).*\n",
    "2. *See [Stanford CS229 - Probability Review](https://ermongroup.github.io/cs228-notes/preliminaries/probabilityreview/).*"
   ]
  },
  {
   "cell_type": "markdown",
   "metadata": {},
   "source": [
    "## Bayesian Networks"
   ]
  },
  {
   "cell_type": "markdown",
   "metadata": {},
   "source": [
    "### Probabilistic Modeling\n",
    "\n",
    "- **Bayesian Networks**: A directed graph $G = (V, E)$ with\n",
    "    - A random variable $x_i$ for each node $i \\in V$\n",
    "    - A conditional probability distribution (CPD) $p(x_{i} \\vert x_{A_i})$ per node, specifying the probability of $x_i$ conditioned on its parent's values (i.e. ancestors).\n",
    "$$p(x_{1}, x_{2}, ..., x_{n}) = p(x_{1}) p(x_{2} \\mid x_{1}) ... p(x_{n} \\mid x_{n - 1}, ..., x_{2}, x_{1})$$\n",
    "- **Compact Bayesian Network**: Reduce Large Arity Factors with Ancestor Variables $x_{A_i}$\n",
    "$$p(x_{i} \\mid x_{i - 1}, ..., x_{1}) = p(x_{i} \\mid x_{A_i})$$\n",
    "    - *Allow*: $x_{A_i} \\subseteq \\{x_{i - 1}, ..., x_{1}\\}$\n",
    "- **Probability Tables**: Discrete Variables and $p(x_{i} \\mid x_{A_i})$ Factors\n",
    "    - *Rows*: Values of $x_{A_i}$\n",
    "    - *Columns*: Values of $x_i$\n",
    "    - *Entries*: Probabilities $p(x_{i} \\mid x_{A_i})$\n",
    "\n",
    "#### Space Complexity of Bayesian Networks\n",
    "\n",
    "- *Probability Table Space Complexity*: If each variable takes $d$ values and has at most $k$ ancestors: $O(d^{k + 1})$\n",
    "- *Compact Bayesian Network Space Complexity*: $O(nd^{k + 1})$\n",
    "- *Naive Bayesian Network Space Complexity*: $O(d^{n})$\n",
    "\n",
    "#### Interpretation of Bayesian Networks\n",
    "\n",
    "- A probability $p$ factorizes over a DAG $G$ if it can be decomposed into a product of factors, as specified by $G$.\n",
    "- A Bayesian network represents a probability distribution formed via a product of smaller, locally conditional probability distributions (one for each variable).\n",
    "- A Bayesian network introduces assumptions that certain variables are independent.\n",
    "\n",
    "#### Validity of Bayseian Networks\n",
    "\n",
    "1. Is the probability non-negative?\n",
    "2. Is the sum over all vaiables equivalent to one?\n",
    "3. Is the directed graph acyclic?"
   ]
  },
  {
   "cell_type": "markdown",
   "metadata": {},
   "source": [
    "### Graphical Representation\n",
    "\n",
    "- Directed Acyclic Graphs\n",
    "- *Vertices*: Variables $x_i$\n",
    "- *Edges*: Dependency Relationships"
   ]
  },
  {
   "cell_type": "markdown",
   "metadata": {},
   "source": [
    "### $3$-Variable Independencies in Directed Graphs\n",
    "\n",
    "- Let $I(p)$ be the set of all independencies that hold for a joint distribution $p$.\n",
    "- Let $G$ be a Bayesian network with three nodes: $A$, $B$, and $C$.\n",
    "\n",
    "#### Common Parent\n",
    "\n",
    "- If $G$ is of the form $A \\leftarrow B \\rightarrow C$,\n",
    "    - If $B$ is observed, then $A \\perp C \\mid B$\n",
    "    - If $B$ is unobserved, then $A \\not\\perp C$\n",
    "- **Intuition**: $B$ contains all the information that determines the outcomes of $A$ and $C$; once it is observed, there is nothing else that affects $A$'s and $C$s' outcomes.\n",
    "\n",
    "\n",
    "#### Cascade\n",
    "\n",
    "- If $G$ equals $A \\rightarrow B \\rightarrow C$,\n",
    "    - If $B$ is observed, then $A \\perp C \\mid B$\n",
    "    - If $B$ is unobserved, then $A \\not\\perp C$\n",
    "- **Intuition**: $B$ contains all the information that determines the outcomes of $C$; once it is observed, there is nothing else that affects $C$'s outcomes.\n",
    "    \n",
    "#### V-Structure\n",
    "\n",
    "- If $G$ is $A \\rightarrow C \\leftarrow B$, then knowing $C$ couples $A$ and $B$.\n",
    "    - If $C$ is unobserved, then $A \\perp B$\n",
    "    - If $C$ is observed, then $A \\not\\perp B \\mid C$"
   ]
  },
  {
   "cell_type": "markdown",
   "metadata": {},
   "source": [
    "### $n$-Variable Independencies in Directed Graphs\n",
    "\n",
    "#### $d$-separation (Directed)\n",
    "\n",
    "- $Q$ and $W$ are $d$-separated when variables $O$ are observed if they are not connected by an active path.\n",
    "\n",
    "#### Active Path\n",
    "\n",
    "- An undirected path in the Bayesian Network structure $G$ is called active given observed variables $O$ if for every consecutive triple of variables $X$, $Y$, $Z$ on the path, one of the following holds:\n",
    "    - $X \\leftarrow Y \\leftarrow Z$, and $Y$ is unobserved $Y \\not\\in O$\n",
    "    - $X \\rightarrow Y \\rightarrow Z$, and $Y$ is unobserved $Y \\not\\in O$\n",
    "    - $X \\leftarrow Y \\rightarrow Z$, and $Y$ is unobserved $Y \\not\\in O$\n",
    "    - $X \\rightarrow Y \\leftarrow Z$, and $Y$ or any of its descendants are observed"
   ]
  },
  {
   "cell_type": "markdown",
   "metadata": {},
   "source": [
    "### Independence Maps\n",
    "\n",
    "- Let $I(G) = \\{(X \\perp Y \\mid Z) : X, Y \\text{ are } d\\text{-sep given } Z\\}$ be a set of variables that are $d$-separated in $G$.\n",
    "- If $p$ factorizes over $G$, then $I(G) \\subseteq I(p)$, then $G$ is an $I$-map for $p$."
   ]
  },
  {
   "cell_type": "markdown",
   "metadata": {},
   "source": [
    "### Equivalence of Bayesian Networks\n",
    "\n",
    "- $G_1$ and $G_2$ are $I$-equivalent...\n",
    "    - If they encode the same dependencies: $I(G_1) = I(G_2)$.\n",
    "    - If they have the same skeleton and the same v-structures.\n",
    "    - If the $d$-separation between variables is the same."
   ]
  }
 ],
 "metadata": {
  "kernelspec": {
   "display_name": "Python 3",
   "language": "python",
   "name": "python3"
  },
  "language_info": {
   "codemirror_mode": {
    "name": "ipython",
    "version": 3
   },
   "file_extension": ".py",
   "mimetype": "text/x-python",
   "name": "python",
   "nbconvert_exporter": "python",
   "pygments_lexer": "ipython3",
   "version": "3.6.5"
  }
 },
 "nbformat": 4,
 "nbformat_minor": 2
}
