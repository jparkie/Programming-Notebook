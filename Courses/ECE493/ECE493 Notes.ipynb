{
 "cells": [
  {
   "cell_type": "markdown",
   "metadata": {},
   "source": [
    "# ECE 493 - Probabilistic Reasoning and Decision Making"
   ]
  },
  {
   "cell_type": "markdown",
   "metadata": {},
   "source": [
    "## Review of Probability Theory <span name=\"S01\"></span>"
   ]
  },
  {
   "cell_type": "markdown",
   "metadata": {},
   "source": [
    "### Probability <span name=\"S01-1\"></span>"
   ]
  },
  {
   "cell_type": "markdown",
   "metadata": {},
   "source": [
    "#### Definition\n",
    "\n",
    "- **Sample Space** ($\\Omega$): The set of all the outcomes of a random experiment.\n",
    "- **Event Space** ($F$): A set whose elements $A \\in F$ (called events) are subsets of $\\Omega$.\n",
    "\n",
    "##### Axioms of Probability\n",
    "\n",
    "1. $P(A) \\ge 0, \\forall A \\in F$.\n",
    "2. $P(\\cup_{i} A_{i}) = \\sum_{i} P(A_{i})$ if $A_{1}, A_{2}, ...$ are disjoint events.\n",
    "3. $P(\\Omega) = 1$.\n",
    "\n",
    "##### Properties of Probability\n",
    "\n",
    "- $A \\subseteq B \\implies P(A) \\le P(B)$.\n",
    "- $P(A \\cap B) \\le \\min(P(A), P(B))$.\n",
    "- **Union Bound**: $P(A \\cup B) \\le P(A) + P(B)$.\n",
    "- **Complement**: $P(\\Omega - A) = 1 - P(A)$.\n",
    "- **Law of Total Probability**: $\\sum_{i = 1}^{k} P(A_{i}) = 1$ if $A_{1}, ..., A_{k}$ are disjoint events and $\\cup_{i = 1}^{k} A_{i} = \\Omega$."
   ]
  },
  {
   "cell_type": "markdown",
   "metadata": {},
   "source": [
    "#### Conditional Probability\n",
    "\n",
    "- The **conditional probability** of $A$, conditioned on $B$, is the probability that $A$ occurs given that $B$ has definitely occured.\n",
    "$$\n",
    "\\begin{aligned}\n",
    "P(A \\mid B) \n",
    "&= \\frac{P(A \\cap B)}{P(B)} \\\\\n",
    "&= \\frac{P(B \\mid A) \\cdot P(A)}{P(B)}\n",
    "\\end{aligned}\n",
    "$$"
   ]
  },
  {
   "cell_type": "markdown",
   "metadata": {},
   "source": [
    "#### Chain Rule\n",
    "\n",
    "- Let $S_{1}, ..., S_{k}$ be events, $P(S_{i}) > 0$.\n",
    "$$\n",
    "\\begin{aligned}\n",
    "& P(S_{1} \\cap S_{2} \\cap \\cdots \\cap S_{k}) \\\\\n",
    "&= P(S_{1}) P(S_{2} \\mid S_{1}) P(S_{3} \\mid S_{2} \\cap S_{1}) \\cdots P(S_{k} \\mid S_{1} \\cap S_{2} \\cap \\cdots \\cap S_{k - 1})\n",
    "\\end{aligned}\n",
    "$$\n",
    "- If $k = 2$,\n",
    "$$P(S_{1} \\cap S_{2}) = P(S_{1}) P(S_{2} \\mid S_{1})$$"
   ]
  },
  {
   "cell_type": "markdown",
   "metadata": {},
   "source": [
    "#### Independence\n",
    "\n",
    "- Two events $A$ and $B$ are independent if and only if\n",
    "$$\n",
    "\\begin{aligned}\n",
    "P(A \\cap B) &= P(A) P(B) \\\\\n",
    "P(A \\vert B) &= P(A) \\\\\n",
    "P(B \\vert A) &= P(B)\n",
    "\\end{aligned}\n",
    "$$\n",
    "\n",
    "##### Pairwise Independence\n",
    "\n",
    "- Events $A_{1}, ..., A_{k}$ are pairwise independent if each pair is independent.\n",
    "\n",
    "##### Conditional Independence\n",
    "\n",
    "- Events $A_{1}, ..., A_{k}$ are conditionally independent conditioned on event $B$ if\n",
    "$$P(A_{1} \\cap ... \\cap A_{k} \\mid B) = P(A_{1} \\mid B) ... P(A_{k} \\mid B)$$"
   ]
  },
  {
   "cell_type": "markdown",
   "metadata": {},
   "source": [
    "### Random Variables <span name=\"S01-2\"></span>"
   ]
  },
  {
   "cell_type": "markdown",
   "metadata": {},
   "source": [
    "#### Definition\n",
    "\n",
    "- A **random variable** $X$ is a function $X : \\Omega \\to \\mathbb{R}$."
   ]
  },
  {
   "cell_type": "markdown",
   "metadata": {},
   "source": [
    "#### Cumulative Distribution Functions\n",
    "\n",
    "- A **cumulative distribution function** (CDF) is a function $F_{X} : \\mathbb{R} \\to [0, 1]$ such that $F_{X}(x) = P(X \\le x)$.\n",
    "\n",
    "##### Properties of Cumulative Distribution Functions\n",
    "\n",
    "- $0 \\le F_{X}(x) \\le 1$.\n",
    "- $\\lim_{x \\to -\\infty} F_{X}(x) = 0$.\n",
    "- $\\lim_{x \\to +\\infty} F_{X}(x) = 1$.\n",
    "- $x \\le y \\implies F_{X}(x) \\le F_{X}(y)$."
   ]
  },
  {
   "cell_type": "markdown",
   "metadata": {},
   "source": [
    "#### Probability Mass Functions (Discrete)\n",
    "\n",
    "- A **probability mass function** (PMF) is a function $p_{X} : \\Omega \\to \\mathbb{R}$ such that $p_{X}(x) = P(X = x)$.\n",
    "\n",
    "##### Properties of Probability Mass Functions\n",
    "\n",
    "- $0 \\le p_{X}(x) \\le 1$.\n",
    "- $\\sum_{x \\in \\text{Values}(X)} p_{X}(x) = 1$.\n",
    "- $\\sum_{x \\in A} p_{X}(x) = P(X \\in A)$."
   ]
  },
  {
   "cell_type": "markdown",
   "metadata": {},
   "source": [
    "#### Probability Density Functions (Continuous)\n",
    "\n",
    "- A **probability density function** (PDF)  is a function $f_{X}(x) : \\Omega \\to \\mathbb{R}$ such that $f_{X}(x) = \\frac{dF_{X}(x)}{dx}$.\n",
    "\n",
    "##### Properties of Probability Density Functions\n",
    "\n",
    "- $f_{X}(x) \\ge 0$.\n",
    "- $\\int_{-\\infty}^{\\infty} f_{X}(x) = 1$.\n",
    "- $\\int_{x \\in A} f_{X}(x) dx = P(X \\in A)$."
   ]
  },
  {
   "cell_type": "markdown",
   "metadata": {},
   "source": [
    "#### Expectation\n",
    "\n",
    "- Suppose that $X$ is a discrete random variable with PMF $p_{X}(x)$ and $g : \\mathbb{R} \\to \\mathbb{R}$ is an arbitrary function. The **expected value** of $g(X)$ is the following.\n",
    "$$\\mathbb{E}[g(X)] = \\sum_{x \\in \\text{Values}(X)} g(x) p_{X}(x)$$\n",
    "- Suppose that $X$ is a continuous random variable with PDF $f_{X}(x)$ and $g : \\mathbb{R} \\to \\mathbb{R}$ is an arbitrary function. The **expected value** of $g(X)$ is the following.\n",
    "$$\\mathbb{E}[g(X)] = \\int_{-\\infty}^{\\infty} g(x) f_{X}(x) dx$$\n",
    "\n",
    "##### Properties of Expectation\n",
    "\n",
    "- $\\mathbb{E}[a] = a$ for any constant $a \\in \\mathbb{R}$.\n",
    "- $\\mathbb{E}[a \\cdot f(X)] = a \\cdot \\mathbb{E}[f(X)]$ for any constant $a \\in \\mathbb{R}$.\n",
    "- $\\mathbb{E}[f(X) + g(X)] = \\mathbb{E}[f(X)] + \\mathbb{E}[g(X)]$."
   ]
  },
  {
   "cell_type": "markdown",
   "metadata": {},
   "source": [
    "#### Variance\n",
    "\n",
    "- The **variance** of a random variable $X$ is a measure of how concentrated the distribution of a random variable $X$ is around its mean.\n",
    "$$\n",
    "\\begin{aligned}\n",
    "\\text{Var}[X] &= \\mathbb{E}[(X - \\mathbb{E}[X])^{2}] \\\\\n",
    "&= \\mathbb{E}[X^{2}] - \\mathbb{E}[X]^{2}\n",
    "\\end{aligned}\n",
    "$$\n",
    "\n",
    "##### Properties of Variance\n",
    "\n",
    "- $\\text{Var}[a] = 0$ for any constant $a \\in \\mathbb{R}$.\n",
    "- $\\text{Var}[a \\cdot f(x)] = a^{2} \\cdot \\text{Var}[f(x)]$ for any constant $a \\in \\mathbb{R}$."
   ]
  },
  {
   "cell_type": "markdown",
   "metadata": {},
   "source": [
    "### Two Random Variables <span name=\"S01-3\"></span>"
   ]
  },
  {
   "cell_type": "markdown",
   "metadata": {},
   "source": [
    "#### Joint and Marginal Distributions\n",
    "\n",
    "- The **joint cumulative distribution function** of $X$ and $Y$ is defined by the following.\n",
    "$$F_{XY}(x, y) = P(X \\le x, Y \\le y)$$\n",
    "- The **marginal cumulative distribution functions** of $F_{XY}(x, y)$ is defined by the following.\n",
    "$$\n",
    "\\begin{aligned}\n",
    "F_{X}(x) &= \\lim_{y \\to \\infty} F_{XY}(x, y) \\\\\n",
    "F_{Y}(y) &= \\lim_{x \\to \\infty} F_{XY}(x, y)\n",
    "\\end{aligned}\n",
    "$$\n",
    "\n",
    "##### Properties of Joint Distributions\n",
    "\n",
    "- $0 \\le F_{XY}(x, y) \\le 1$.\n",
    "- $\\lim_{x,y \\to \\infty} F_{XY}(x, y) = 1$.\n",
    "- $\\lim_{x,y \\to -\\infty} F_{XY}(x, y) = 0$."
   ]
  },
  {
   "cell_type": "markdown",
   "metadata": {},
   "source": [
    "#### Joint and Marginal Probability Mass Functions\n",
    "\n",
    "- If $X$ and $Y$ are discrete random variables, then the **joint probability mass function** $p_{XY} : \\text{Values}(X) \\times \\text{Values}(Y) \\to [0, 1]$ is defined by the following.\n",
    "$$p_{XY}(x, y) = P(X = x, Y = y)$$\n",
    "- The **marginal probability mass functions** of $p_{XY}$ are defined by the following.\n",
    "$$\n",
    "\\begin{aligned}\n",
    "p_{X}(x) &= \\sum_{y} p_{XY}(x, y) \\\\\n",
    "p_{Y}(y) &= \\sum_{x} p_{XY}(x, y)\n",
    "\\end{aligned}\n",
    "$$"
   ]
  },
  {
   "cell_type": "markdown",
   "metadata": {},
   "source": [
    "#### Joint and Marginal Probability Density Functions\n",
    "\n",
    "- If $X$ and $Y$ are continuous random variables, then the **joint probability density function** $f_{XY} : \\text{Values}(X) \\times \\text{Values}(Y) \\to \\mathbb{R}$ is defined by the following.\n",
    "$$f_{XY}(x, y) = \\frac{\\partial^{2} F_{XY}(x, y)}{\\partial x \\partial y}$$\n",
    "- The **marginal probability density functions** of $f_{XY}$ are defined by the following.\n",
    "$$\n",
    "\\begin{aligned}\n",
    "f_{X}(x) &= \\int_{-\\infty}^{\\infty} f_{XY}(x, y) dy\\\\\n",
    "f_{Y}(y) &= \\int_{-\\infty}^{\\infty} f_{XY}(x, y) dx\n",
    "\\end{aligned}\n",
    "$$"
   ]
  },
  {
   "cell_type": "markdown",
   "metadata": {},
   "source": [
    "#### Conditional Distributions\n",
    "\n",
    "- The **conditional probability mass function** of $Y$ given $X$ is defined by the following.\n",
    "$$p_{Y \\mid X}(y \\mid x) = \\frac{p_{XY}(x, y)}{p_{X}(x)}$$\n",
    "- The **conditional probability density function** of $Y$ given $X$ is defined by the following.\n",
    "$$f_{Y \\mid X}(y \\mid x) = \\frac{f_{XY}(x, y)}{f_{X}(x)}$$"
   ]
  },
  {
   "cell_type": "markdown",
   "metadata": {},
   "source": [
    "#### Chain Rule\n",
    "\n",
    "$$\n",
    "\\begin{aligned}\n",
    "& p_{X_{1}, ..., X_{n}}(x_{1}, ..., x_{n}) \\\\\n",
    "&= p_{X_{1}}(x_{1}) p_{X_{2} \\mid X_{1}}(x_{2} \\mid x_{1}) ... p_{X_{n} \\mid X_{1}, ..., X_{n - 1}}(x_{n} \\mid x_{1}, ..., x_{n - 1})\n",
    "\\end{aligned}\n",
    "$$"
   ]
  },
  {
   "cell_type": "markdown",
   "metadata": {},
   "source": [
    "#### Bayes' Rule\n",
    "\n",
    "- For discrete random variables $X$ and $Y$,\n",
    "$$P_{Y \\mid X}(y \\mid x) = \\frac{P_{XY}(x, y)}{P_{X}(x)} = \\frac{P_{X \\mid Y}(x \\mid y) P_{Y}(y)}{\\sum_{y' \\in \\text{Values}(Y) P_{X \\mid Y}(x \\mid y') P_{Y}(y')}}$$\n",
    "- For continuous random variables $X$ and $Y$,\n",
    "$$f_{Y \\mid X}(y \\mid x) = \\frac{f_{XY}(x, y)}{f_{X}(x)} = \\frac{f_{X \\mid Y}(x \\mid y) f_{Y}(y)}{\\int_{-\\infty}^{\\infty} f_{X \\mid Y}(x \\mid y') f_Y(y') dy'}$$"
   ]
  },
  {
   "cell_type": "markdown",
   "metadata": {},
   "source": [
    "#### Independence\n",
    "\n",
    "- For discrete random variables, $p_{XY}(x, y) = p_{X}(x) p_{Y}(y)$ for all $x \\in \\text{Values}(X)$, $y \\in \\text{Values}(Y)$.\n",
    "- For discrete random variables, $p_{Y \\mid X}(y \\mid x) = p_{Y}(y)$ whenever $p_{X}(x) \\ne 0$ for all $y \\in \\text{Values}(Y)$.\n",
    "- For continuous random variables, $f_{XY}(x, y) = f_{X}(x) f_{Y}(y)$ for all $x \\in \\mathbb{R}$, $y \\in \\mathbb{R}$.\n",
    "- For continuous random variables, $f_{Y \\mid X}(y \\mid x) = f_{Y}(y)$ whenever $f_{X}(x) \\ne 0$ for all $y \\in \\mathbb{R}$.\n",
    "\n",
    "##### Independence Lemma\n",
    "\n",
    "- If $X$ and $Y$ are independent, then for any subsets $A, B \\subseteq \\mathbb{R}$,\n",
    "$$P(X \\in A, Y \\in B) = P(X \\in A) P(Y \\in B)$$"
   ]
  },
  {
   "cell_type": "markdown",
   "metadata": {},
   "source": [
    "#### Expectation and Covariance\n",
    "\n",
    "- Suppose that $X$ and $Y$ are random variables, and $g : \\mathbb{R}^{2} \\to \\mathbb{R}$ is a function of these two random variables. The **expected value** of $g(X, Y)$ is the following.\n",
    "$$\n",
    "\\begin{aligned}\n",
    "\\mathbb{E}[g(X,Y)] &= \\sum_{x \\in \\text{Values}(X)} \\sum_{y \\in \\text{Values}(Y)} g(x, y) p_{XY}(x, y) \\\\\n",
    "\\mathbb{E}[g(X,Y)] &= \\int_{-\\infty}^{\\infty} \\int_{-\\infty}^{\\infty} g(x, y) f_{XY}(x, y) dx dy\n",
    "\\end{aligned}\n",
    "$$\n",
    "- The **covariance** of two random variables $X$ and $Y$ is defined by the following.\n",
    "$$\n",
    "\\begin{aligned}\n",
    "\\text{Cov}[X, Y] &= \\mathbb{E}[(X - \\mathbb{E}[X])(Y - \\mathbb{E}[Y])] \\\\\n",
    "&= \\mathbb{E}[XY] - \\mathbb{E}[X] \\mathbb{E}[Y]\n",
    "\\end{aligned}\n",
    "$$\n",
    "\n",
    "##### Properties of Expectation and Covariance\n",
    "\n",
    "- $\\mathbb{E}[f(X, Y) + g(X,Y)] = \\mathbb{E}[f(X, Y)] + \\mathbb{E}[g(X, Y)]$.\n",
    "- $\\text{Var}[X + Y] = \\text{Var}[X] + \\text{Var}[Y] + 2\\text{Cov}[X, Y]$.\n",
    "- If $X$ and $Y$ are independent, then $\\text{Cov}[X, Y] = 0$.\n",
    "- If $X$ and $Y$ are independent, then $\\mathbb{E}[f(X)g(Y)] = \\mathbb{E}[f(X)] \\mathbb{E}[g(Y)]$."
   ]
  },
  {
   "cell_type": "markdown",
   "metadata": {},
   "source": [
    "## Representation <span name=\"S02\"></span>"
   ]
  },
  {
   "cell_type": "markdown",
   "metadata": {},
   "source": [
    "- **Problem**: *How do we express a probability distribution $p(x_{1}, x_{2}, ..., x_{n})$ that models some real-world phenomenon?*\n",
    "    - *Naive Complexity*: $O(d^{n})$\n",
    "- **Solution**: *Representation with Probabilistic Graphical Models + Verifying Independence Assumptions*"
   ]
  },
  {
   "cell_type": "markdown",
   "metadata": {},
   "source": [
    "### Bayesian Networks (Directed Probabilistic Graphical Model) <span name=\"S02-1\"></span>"
   ]
  },
  {
   "cell_type": "markdown",
   "metadata": {},
   "source": [
    "#### Definition - What is a Bayesian network?\n",
    "\n",
    "- A **Bayesian network** is a directed graph $G$ with the following:\n",
    "    - *Nodes*: A random variable $x_{i}$.\n",
    "    - *Edges*: A conditional probability distribution (CPD) $p(x_{i} \\mid x_{A_{i}})$ per node, specifying the probability of $x_i$ conditioned on its parent's values."
   ]
  },
  {
   "cell_type": "markdown",
   "metadata": {},
   "source": [
    "#### Representation - How does a Bayesian network express a probability distribution?\n",
    "\n",
    "1. Let $p$ be a probability distribution.\n",
    "2. A naive representation of $p$ can be derived using the chain rule:\n",
    "$$p(x_{1}, x_{2}, ..., x_{n}) = p(x_{1}) p(x_{2} \\mid x_{1}) \\cdots p(x_{n} \\mid x_{n - 1}, ..., x_{2}, x_{1})$$\n",
    "3. A Bayesian network representation of $p$ compacts the naive representation by having each factor in the right hand side depend only on a small number of **ancestor variables** $x_{A_{i}}$:\n",
    "$$p(x_{i} \\mid x_{i - 1}, ..., x_{2}, x_{1}) = p(x_{i} \\mid x_{A_{i}})$$\n",
    "    - e.g., Approximate $p(x_{5} \\mid x_{4}, x_{3}, x_{2}, x_{1})$ with $p(x_{5} \\mid x_{A_{5}})$ where $x_{A_{5}} = \\{x_{4}, x_{3}\\}$."
   ]
  },
  {
   "cell_type": "markdown",
   "metadata": {},
   "source": [
    "#### Space Complexity - How compact is a Bayesian network?\n",
    "\n",
    "- Consider each of the factors $p(x_{i} \\mid x_{A_{i}})$ as a **probability table**:\n",
    "    - *Rows*: Values of $x_{i}$\n",
    "    - *Columns*: Values of $x_{A_{i}}$\n",
    "    - *Cells*: Values of $p(x_{i} \\mid x_{A_{i}})$\n",
    "- If each discrete random variable takes $d$ possible values and has at most $k$ ancestors, then each probability table has at most $O(d^{k + 1})$ entries.\n",
    "- **Naive Representation Space Complexity**: $O(d^n)$\n",
    "- **Bayesian Networks Representation Space Complexity**: $O(n \\cdot d^{k + 1})$\n",
    "$$\\approx \\text{Bayesian Networks Representation} \\le \\text{Naive Representation}$$"
   ]
  },
  {
   "cell_type": "markdown",
   "metadata": {},
   "source": [
    "#### Independence Assumptions - Why are the independence assumptions of a Bayesian network important to identify?\n",
    "\n",
    "- A Bayesian network expresses a probability distribution $p$ via products of smaller, local conditional probability distributions (one for each variable).\n",
    "- These smaller, local conditional probability distributions introduces assumptions into the model of $p$ that certain variables are independent.\n",
    "- **Important Note**: Which independence assumptions are we exactly making by using a Bayesian network?\n",
    "    - *Correctness: Are these independence assumptions correct?*\n",
    "    - *Efficiency: Do these independence assumptions efficiently compact the representation?*"
   ]
  },
  {
   "cell_type": "markdown",
   "metadata": {},
   "source": [
    "#### $3$-Variable Independencies in Directed Graphs - How do you identify independent variables in a $3$-variable Bayesian network?\n",
    "\n",
    "- Let $x \\perp y$ indicate that variables $x$ and $y$ are independent.\n",
    "- Let $G$ be a Bayesian network with three nodes: $A$, $B$, and $C$.\n",
    "\n",
    "##### Common Parent\n",
    "\n",
    "- If $G$ is of the form $A \\leftarrow B \\rightarrow C$,\n",
    "    - If $B$ is observed, then $A \\perp C \\mid B$\n",
    "    - If $B$ is unobserved, then $A \\not\\perp C$\n",
    "- **Intuition**: $B$ contains all the information that determines the outcomes of $A$ and $C$; once it is observed, there is nothing else that affects $A$'s and $C$s' outcomes.\n",
    "\n",
    "##### Cascade\n",
    "\n",
    "- If $G$ equals $A \\rightarrow B \\rightarrow C$,\n",
    "    - If $B$ is observed, then $A \\perp C \\mid B$\n",
    "    - If $B$ is unobserved, then $A \\not\\perp C$\n",
    "- **Intuition**: $B$ contains all the information that determines the outcomes of $C$; once it is observed, there is nothing else that affects $C$'s outcomes.\n",
    "\n",
    "##### V-Structure\n",
    "\n",
    "- If $G$ is $A \\rightarrow C \\leftarrow B$, then knowing $C$ couples $A$ and $B$.\n",
    "    - If $C$ is unobserved, then $A \\perp B$\n",
    "    - If $C$ is observed, then $A \\not\\perp B \\mid C$"
   ]
  },
  {
   "cell_type": "markdown",
   "metadata": {},
   "source": [
    "#### $n$-Variable Independencies in Directed Graphs - How do you identify independent variables in a $n$-variable Bayesian network?\n",
    "\n",
    "- Let $I(p)$ be the set of all independencies that hold for a probability distribution $p$.\n",
    "- Let $I(G) = \\{(X \\perp Y \\mid Z) : X, Y \\text{ are } d\\text{-sep given } Z\\}$ be a set of variables that are $d$-separated in $G$.\n",
    "- If the probability distribution $p$ factorizes over $G$, then $I(G) \\subseteq I(p)$ and $G$ is an $I$-map (**independence map**) for $p$.\n",
    "- **Important Note 1**: Thus, variables that are $d$-separated in $G$ are independent in $p$.\n",
    "- **Important Note 2**: However, a probability distribution $q$ can factorize over $G$, yet have independencies that are not captured in $G$.\n",
    "- **Important Caveat**: A Bayesian network cannot perfectly represent all probability distributions.\n",
    "\n",
    "##### $d$-separation (a.k.a. Directed Separation)\n",
    "\n",
    "- $Q$ and $W$ are **$d$-separated** when variables $O$ are observed if they are **NOT CONNECTED** by an active path.\n",
    "\n",
    "##### Active Path\n",
    "\n",
    "- An undirected path in the Bayesian Network structure $G$ is called **active** given observed variables $O$ if for **EVERY CONSECUTIVE TRIPLE** of variables $X$, $Y$, $Z$ on the path, one of the following holds:\n",
    "    - **Evidential Trail**: $X \\leftarrow Y \\leftarrow Z$, and $Y$ is unobserved $Y \\not\\in O$\n",
    "    - **Causal Trail**: $X \\rightarrow Y \\rightarrow Z$, and $Y$ is unobserved $Y \\not\\in O$\n",
    "    - **Common Cause**: $X \\leftarrow Y \\rightarrow Z$, and $Y$ is unobserved $Y \\not\\in O$\n",
    "    - **Common Effect**: $X \\rightarrow Y \\leftarrow Z$, and $Y$ or any of its descendants are observed"
   ]
  },
  {
   "cell_type": "markdown",
   "metadata": {},
   "source": [
    "#### Equivalence - When are two Bayesian networks $I$-equivalent?\n",
    "\n",
    "- $G_1$ and $G_2$ are **$I$-equivalent**...\n",
    "    - If they encode the same dependencies: $I(G_1) = I(G_2)$.\n",
    "    - If they have the same skeleton and the same v-structures.\n",
    "    - If the $d$-separation between variables is the same.\n",
    "    \n",
    "##### Skeleton\n",
    "\n",
    "![Skeleton](images/BN_1.png)\n",
    "\n",
    "- A **skeleton** is an undirected graph obtained by dropping the directionality of the arrows.\n",
    "    - (a) is Cascade\n",
    "    - (b) is Cascade\n",
    "    - (c) is Common Parent\n",
    "    - (d) is V-Structure\n",
    "    - (a), (b), (c), and (d) have the same skeleton."
   ]
  },
  {
   "cell_type": "markdown",
   "metadata": {},
   "source": [
    "#### Example Problem 1 - $d$-separation\n",
    "\n",
    "![Problem 1 - $d$-separation](images/BN_P1.png)\n",
    "\n",
    "##### Question\n",
    "\n",
    "- Are $X_{1}$ and $X_{6}$ $d$-separated given $\\{X_{2}, X_{3}\\}$?\n",
    "\n",
    "##### Solution\n",
    "\n",
    "1. **Path**: $X_{1} \\rightarrow X_{2} \\rightarrow X_{6}$\n",
    "    1. *Consecutive Triple*: $X_{1} \\rightarrow X_{2} \\rightarrow X_{6}$\n",
    "        - Although $X_{2}$ is observed, the *common effect* does not hold.\n",
    "    2. As not all the consecutive triples hold, this path is not *active*.\n",
    "2. **Path**: $X_{1} \\rightarrow X_{3} \\rightarrow X_{5} \\rightarrow X_{6}$\n",
    "    1. *Consecutive Triple*: $X_{1} \\rightarrow X_{3} \\rightarrow X_{5}$\n",
    "        - Although $X_{3}$ is observed, the *common effect* does not hold.\n",
    "    2. *Consecutive Triple*: $X_{3} \\rightarrow X_{5} \\rightarrow X_{6}$\n",
    "        - As $X_{5}$ is unobserved, the *causal trail* does hold.\n",
    "    3. As not all the consecutive triples hold, this path is not *active*.\n",
    "3. As there are no active paths between $X_{1}$ and $X_{6}$, they are $d$-separated given $\\{X_{2}, X_{3}\\}$."
   ]
  },
  {
   "cell_type": "markdown",
   "metadata": {},
   "source": [
    "#### Example Problem 2 - $d$-separation\n",
    "\n",
    "![Problem 2 - $d$-separation](images/BN_P2.png)\n",
    "\n",
    "##### Question\n",
    "\n",
    "- Are $X_{2}$ and $X_{3}$ $d$-separated given $\\{X_{1}, X_{6}\\}$?\n",
    "\n",
    "##### Solution\n",
    "\n",
    "1. **Path**: $X_{2} \\leftarrow X_{1} \\rightarrow X_{3}$\n",
    "    1. *Consecutive Triple*: $X_{2} \\leftarrow X_{1} \\rightarrow X_{3}$\n",
    "        - Although $X_{1}$ is observed, the *common effect* does not hold.\n",
    "    2. As not all the consecutive triples hold, this path is not *active*.\n",
    "2. **Path**: $X_{2} \\rightarrow X_{6} \\leftarrow X_{5} \\leftarrow X_{3}$\n",
    "    1. *Consecutive Triple*: $X_{2} \\rightarrow X_{6} \\leftarrow X_{5}$\n",
    "        - As $X_{6}$ is observed, the *common effect* does hold.\n",
    "    2. *Consecutive Triple*: $X_{6} \\leftarrow X_{5} \\leftarrow X_{3}$\n",
    "        - As $X_{5}$ is unobserved. the *causal trail* does hold.\n",
    "    3. As all the consecutive triples hold, this path is *active*.\n",
    "3. As there exists an active path between $X_{2}$ and $X_{3}$, they are not $d$-separated given $\\{X_{1}, X_{6}\\}$."
   ]
  },
  {
   "cell_type": "markdown",
   "metadata": {},
   "source": [
    "### Markov Random Fields (Undirected Probabilistic Graphical Model) <span name=\"S02-2\"></span>"
   ]
  },
  {
   "cell_type": "markdown",
   "metadata": {},
   "source": [
    "#### Definition - What is a Markov random field?\n",
    "\n",
    "- A **Markov random field** is an undirected graph $G$ with the following:\n",
    "    - *Nodes*: A random variable $x_{i}$.\n",
    "    - *Fully Connected Subgraphs*: An optional factor $\\phi_{c}(x_{c})$ per clique, specifying the level of coupling (**potentials**) between all the dependent variables within the clique.\n",
    "- **Important Note**:\n",
    ">...SPECIFYING THE LEVEL OF COUPLING BETWEEN ALL THE DEPENDENT VARIABLES WITHIN THE CLIQUE..."
   ]
  },
  {
   "cell_type": "markdown",
   "metadata": {},
   "source": [
    "#### Representation - How does a Markov random field express a probability distribution?\n",
    "\n",
    "1. Let $p$ be a probability distribution.\n",
    "2. A Markov random field representation of $p$ is the following:\n",
    "$$p(x_{1}, x_{2}, ..., x_{n}) = \\frac{1}{Z} \\prod_{c \\in C} \\phi_{c}(x_{c})$$\n",
    "    - Where $C$ is the set of cliques of $G$.\n",
    "    - Where $\\phi_{c}$ is a **factor** (nonnegative function) over the variables in a clique.\n",
    "    - Where $Z$ is a **normalizing constant** that ensures that $p$ sums to one.\n",
    "$$Z = \\sum_{x_{1}, x_{2}, ..., x_{n}} \\prod_{c \\in C} \\phi_{c}(x_{c})$$"
   ]
  },
  {
   "cell_type": "markdown",
   "metadata": {},
   "source": [
    "#### Space Complexity - How compact is a Markov random field?\n",
    "\n",
    "##### Factor Product\n",
    "\n",
    "- Let $A$, $B$, and $C$ be three disjoint sets of variables.\n",
    "- Let $\\phi_{1}(A, B)$ and $\\phi_{2}(B, C)$ be two factors.\n",
    "- Let $\\phi_{3}(A, B, C)$ be the **factor product**.\n",
    "$$\\phi_{3}(A, B, C) = \\phi_{1}(A, B) \\cdot \\phi_{2}(B, C)$$\n",
    "    - Where the two factors are multiplied for common values of $B$.\n",
    "\n",
    "##### Binary Factor Tables\n",
    "\n",
    "- Each of the optional factors $\\phi_{c}(x_{c})$ can be expressed as a product of **binary factor tables** $\\phi(X, Y)$:\n",
    "    - *Rows*: Values of $X$\n",
    "    - *Columns*: Values of $Y$\n",
    "    - *Cells*: Values of $\\phi(X, Y)$\n",
    "- If each variable takes $d$ values, each binary factor table has at most $O(d^{2})$ entries.\n",
    "- **Markov Random Fields Representation Space Complexity**: $O(E \\cdot d^{2})$\n",
    "    - Where $E$ is the number of edges in a Markov random field.\n",
    "$$\\approx \\text{Markov Random Field Representation} \\le \\text{Naive Representation}$$"
   ]
  },
  {
   "cell_type": "markdown",
   "metadata": {},
   "source": [
    "#### Markov Random Fields vs. Bayesian Networks - What are the advantages and disadvantages of Markov random fields?\n",
    "\n",
    "##### Advantages\n",
    "\n",
    "- *Applicable for Variable Dependencies Without Natural Directionality*\n",
    "- *Succinctly Express Dependencies Not Easily Expressible in Bayesian Networks*\n",
    "\n",
    "##### Disadvantages\n",
    "\n",
    "- *Cannot Express Dependencies Easily Expressible in Bayesian Networks*\n",
    "    - *e.g., V-Structures*\n",
    "- *Computing Normalization Constant $Z$ Is NP-Hard*\n",
    "- *Generally Require Approximation Techniques*\n",
    "- *Difficult to Interpret*\n",
    "- *Easier to Construct Bayesian Networks*"
   ]
  },
  {
   "cell_type": "markdown",
   "metadata": {},
   "source": [
    "#### Moralization - What is moralization?\n",
    "\n",
    "![Moralization](images/MRF_1.png)\n",
    "\n",
    "- Bayesian networks are a special case of Markov random fields with factors corresponding to conditional probability distributions and a normalizing constant of one.\n",
    "- **Moralization**: Bayesian Network $\\to$ Markov Random Field\n",
    "    1. Add side edges to all parents of a given node.\n",
    "    2. Remove the directionality of all the edges."
   ]
  },
  {
   "cell_type": "markdown",
   "metadata": {},
   "source": [
    "#### $n$-Variable Independencies in Undirected Graphs - How do you identify independent variables in a $n$-variable Markov random field?\n",
    "\n",
    "1. If variables $X$ and $Y$ are connected by a path of unobserved variables, then $X$ and $Y$ are dependent.\n",
    "2. If variable $X$'s neighbors are all observed, then $X$ is independent of all the other variables.\n",
    "3. If a set of observed variables forms a cut-set between two halves of the graph, then variables in one half are independent from ones in the other.\n",
    "\n",
    "##### Cut-Set Variable Independencies\n",
    "\n",
    "![Cut-Set Variable Independencies](images/MRF_2.png)\n",
    "\n",
    "##### Markov Blanket\n",
    "\n",
    "- The **Markov blanket** $U$ of a variable $X$ is the minimal set of nodes such that $X$ is independent from the rest of the graph if $U$ is observed.\n",
    "$$X \\perp (\\mathcal{X} - \\{X\\} - U) \\mid U$$\n",
    "- In an undirected graph, the Markov blanket is a node's neighborhood."
   ]
  },
  {
   "cell_type": "markdown",
   "metadata": {},
   "source": [
    "#### Conditional Random Fields - What are conditional random fields?\n",
    "\n",
    "##### Definition\n",
    "\n",
    "- A **conditional random field** is a Markov random field over variables $\\mathcal{X} \\cup \\mathcal{Y}$ which specifies a conditional distribution:\n",
    "$$\n",
    "\\begin{aligned}\n",
    "P(y \\mid x) &= \\frac{1}{Z(x)} \\prod_{c \\in C} \\phi_{c}(x_{c}, y_{c}) \\\\\n",
    "Z(x) &= \\sum_{y \\in \\mathcal{Y}} \\prod_{c \\in C} \\phi_{c}(x_{c}, y_{c})\n",
    "\\end{aligned}\n",
    "$$\n",
    "    - Where $x \\in \\mathcal{X}$ and $y \\in \\mathcal{Y}$ are **VECTOR-VALUED** variables.\n",
    "    - Where $Z(x)$ is the partition function.\n",
    "- **Important Note 1**: A conditional random field results in an instantiation of a new Markov random field for each input $x$.\n",
    "- **Important Note 2**: A conditional random field is useful for structured prediction in which the output labels are predicted considering the neighboring input samples.\n",
    "    - *See [Stanford CS228 - Markov Random Fields: Conditional Random Fields (OCR Example)](https://ermongroup.github.io/cs228-notes/representation/undirected/#conditional-random-fields).*\n",
    "\n",
    "##### Features\n",
    "\n",
    "- Assume the factors $\\phi_{c}(x_{c}, y_{c})$ are of the following form:\n",
    "$$\\phi_{c}(x_{c}, y_{c}) = \\exp(w_{c}^{T} f_{c}(x_{c}, y_{c}))$$\n",
    "    - Where $f_{c}(x_{c}, y_{c})$ can be an arbitrary set of features describing the compatibility between $x_{c}$ and $y_{c}$.\n",
    "    - Where $w_{c}^{T}$ is the transposed weight matrix.\n",
    "- Accordingly, $f_{c}(x_{c}, y_{c})$ allows arbitrarily complex features.\n",
    "    - e.g., $f(x, y_{i})$ are features that depend on the entirety of input samples $x$.\n",
    "    - e.g., $f(y_{i}, y_{i + 1})$ are features that depend on successive pairs of output labels $y$."
   ]
  },
  {
   "cell_type": "markdown",
   "metadata": {},
   "source": [
    "#### Conditonal Random Fields vs. Markov Random Fields - Why is a conditional random field a special case of Markov random fields?\n",
    "\n",
    "- If we were to model $p(x, y)$ using a Markov random field, then we need to fit two probability distributions to the data: $p(y \\mid x)$ and $p(x)$.\n",
    "    - *Remember Baye's Rule*: $p(x, y) = p(y \\mid x) \\cdot p(x)$\n",
    "- However, if all we are interested in is predicting $y$ given $x$, then modeling $p(x)$ is expensive and unnecessary.\n",
    "$$\\text{Prediction} \\implies \\text{CRF} > \\text{MRF}$$"
   ]
  },
  {
   "cell_type": "markdown",
   "metadata": {},
   "source": [
    "#### Factor Graphs - What is a factor graph? Why does a factor graph exist?\n",
    "\n",
    "![Factor Graph](images/MRF_3.png)\n",
    "\n",
    "- A **factor graph** is a bipartite graph where one group is the variables in the distribution being modeled, and the other group is the factors defined on these variables.\n",
    "    - *Edges Between Factors and Variables*\n",
    "- **Side Note**: A **bipartite graph** is a graph whose vertices are divided into two disjoint and independent sets.\n",
    "    - *Set 1: Variables*\n",
    "    - *Set 2: Factors*\n",
    "- **Important Note**: Use a factor graph to identify what variables a factor depends on when computing probability distributions."
   ]
  },
  {
   "cell_type": "markdown",
   "metadata": {},
   "source": [
    "## Inference <span name=\"S03\"></span>\n",
    "\n",
    "- **Problem**: *Given a probabilistic model, how do we obtain answers to relevant questions about the world?*\n",
    "    - **Marginal Inference**: *What is the probability of a given variable in our model after we sum everything else out?*\n",
    "$$p(y = 1) = \\sum_{x_{1}} \\sum_{x_{2}} \\cdots \\sum_{x_{n}} p(y = 1, x_{1}, x_{2}, ..., x_{n})$$\n",
    "        - e.g., What is the overall probability that an email is spam?\n",
    "        - *Perspective*: We desire to infer the general probability of some real-world phenomenon being observed.\n",
    "            - i.e., You care more about spam as a whole than specific instances of spam.\n",
    "    - **Maximum A Posteriori**: *What is the most likely assignment of variables?*\n",
    "$$\\max_{x_{1}, ..., x_{n}} p(y = 1, x_{1}, x_{2}, ..., x_{n})$$\n",
    "        - e.g., What is the set of words such that an email has the maximum probability of being spam?\n",
    "        - *Perspective*: We desire to infer the set of conditions that maximizes the probability of some real-world phenomenon being observed.\n",
    "            - i.e., You care more about identifying indicators of spam than detecting spam.\n",
    "    - *Naive Complexity*: NP-Hard **(DIFFICULT PROBLEM)**\n",
    "- **Solution**: *Exact Inference Algorithms & Approximate Inference Algorithms*"
   ]
  },
  {
   "cell_type": "markdown",
   "metadata": {},
   "source": [
    "### Vairable Elimination (Exact Inference Algorithm) <span name=\"S03-1\"></span>"
   ]
  },
  {
   "cell_type": "markdown",
   "metadata": {},
   "source": [
    "#### Motivation - Why does the variable elimination algorithm exist?\n",
    "\n",
    "- Let $x_{i}$ be a discrete random variable that takes $k$ possible values.\n",
    "- **Problem**: *Marginal Inference*\n",
    "$$p(y = 1) = \\sum_{x_{1}} \\sum_{x_{2}} \\cdots \\sum_{x_{n}} p(y = 1, x_{1}, x_{2}, ..., x_{n})$$\n",
    "- **Naive Solution's Time Complexity** (*Exponential*): $O(k^{n})$\n",
    "    - *See [Rule of Product in Combinatorics](https://en.wikipedia.org/wiki/Rule_of_product)*\n",
    "- **Variable Elimination Solution's Time Complexity** (*Non-Exponential*): $O(n \\cdot k^{M + 1})$\n",
    "    - *See Below*.\n",
    "$$\\therefore \\text{Variable Elimination Solution} \\ll \\text{Naive Solution}$$"
   ]
  },
  {
   "cell_type": "markdown",
   "metadata": {},
   "source": [
    "#### Factors - How should a probabilistic graphical model express a probability distribution?\n",
    "\n",
    "- **Assumption**: *Probabilistic Graphical Models = Product of Factors*\n",
    "$$p(x_{1}, ..., x_{n}) = \\prod_{c \\in C} \\phi_{c}(x_{c})$$\n",
    "- **Representation**: A factor can be represented as a *multi-dimensional table* with a cell for each assignment of $x_{c}$.\n",
    "- *Bayesian Networks*: $\\phi$ is Conditional Probability Distribution\n",
    "- *Markov Random Fields*: $\\phi$ is Potentials"
   ]
  },
  {
   "cell_type": "markdown",
   "metadata": {},
   "source": [
    "#### Factor Product - What is the product operation?\n",
    "\n",
    "![Example of Factor Product](images/VE_1.png)\n",
    "\n",
    "- Let $A$, $B$, and $C$ be three disjoint sets of variables.\n",
    "- Let $\\phi_{1}(A, B)$ and $\\phi_{2}(B, C)$ be two factors.\n",
    "- Let $\\phi_{3}(A, B, C)$ be the **factor product**.\n",
    "$$\\phi_{3}(A, B, C) = \\phi_{1}(A, B) \\cdot \\phi_{2}(B, C)$$\n",
    "    - Where the two factors are multiplied for common values of $B$."
   ]
  },
  {
   "cell_type": "markdown",
   "metadata": {},
   "source": [
    "#### Factor Marginalization - What is the marginalization operation?\n",
    "\n",
    "![Example of Factor Marginalization](images/VE_2.png)\n",
    "\n",
    "- Let $A$, and $B$ be two disjoint sets of variables.\n",
    "- Let $\\phi(A, B)$ be a factor.\n",
    "- Let $\\tau(A)$ be the **factor marginalization** of $B$ in $\\phi$.\n",
    "$$\\tau(A) = \\sum_{B} \\phi(A, B)$$\n",
    "- **Important Note**: $\\tau$ does not need necessarily correspond to a probability distribution."
   ]
  },
  {
   "cell_type": "markdown",
   "metadata": {},
   "source": [
    "#### Ordering - What is an ordering?\n",
    "\n",
    "- An **ordering** $O$ is the sequence of variables by which they will be eliminated.\n",
    "- Although any ordering can be used, different orderings may dramatically alter the running time of the variable elimination algorithm.\n",
    "- **Important Note**: *Finding Best Ordering = NP-Hard*"
   ]
  },
  {
   "cell_type": "markdown",
   "metadata": {},
   "source": [
    "#### Algorithm - How does the variable elimination algorithm work?\n",
    "\n",
    "- For each variable $X_{i}$ (ordered according to $O$),\n",
    "    1. Multiply all factors $\\Phi_{i}$ containing $X_{i}$.\n",
    "    2. Marginalize out $X_{i}$ to obtain a new factor $\\tau$.\n",
    "    3. Replace the factors $\\Phi_{i}$ with $\\tau$."
   ]
  },
  {
   "cell_type": "markdown",
   "metadata": {},
   "source": [
    "#### Time Complexity - What is the time complexity of variable elimination?\n",
    "\n",
    "- **Time Complexity**: $O(n \\cdot k^{M + 1})$\n",
    "    - Where $n$ is the number of variables.\n",
    "    - Where $M$ is the maximum number of dimensions of any factor $\\tau$ formed during the elimination process."
   ]
  },
  {
   "cell_type": "markdown",
   "metadata": {},
   "source": [
    "#### Ordering Heuristics - How should you choose an ordering for variable elimination?\n",
    "\n",
    "- **Minimum Neighbors**: Choose a variable with the fewest dependent variables.\n",
    "- **Minimum Weight**: Choose variables to minimize the product of the cardinalities of its dependent variables.\n",
    "- **Minimum Fill**: Choose vertices to minimize the size of the factor that will be added to the graph."
   ]
  },
  {
   "cell_type": "markdown",
   "metadata": {},
   "source": [
    "#### Evidence - How do you perform marginal inference given some evidence using variable elimination?\n",
    "\n",
    "- Given a probability distribution $P(X, Y, E)$ with unobserved variables $X$, query variables $Y$, and observed evidence variables $E$, $P(Y \\mid E = e)$ can be calculated using variable elimination.\n",
    "$$P(Y \\mid E = e) = \\frac{P(Y, E = e)}{P(E = e)}$$\n",
    "\n",
    "##### Variable Elimination with Evidence\n",
    "\n",
    "1. Set every factor $\\phi(X', Y', E')$ with values specified by $E = e$.\n",
    "2. Compute $P(Y, E = e)$ by performing variable elimination over $X$.\n",
    "3. Compute $P(E = e)$ by performing variable elimination over $Y$."
   ]
  },
  {
   "cell_type": "markdown",
   "metadata": {},
   "source": [
    "#### Example Problem 1 - Variable Elimination\n",
    "\n",
    "![Problem 1 - Variable Elimination](images/VE_P1.png)\n",
    "\n",
    "- A Bayesian network that models a student's grade on an exam:\n",
    "    - $g$ is a ternary variable of the student's grade.\n",
    "    - $d$ is a binary variable of the exam's difficulty.\n",
    "    - $i$ is a binary variable of the student's intelligence.\n",
    "    - $l$ is a binary variable of the quality of a reference letter from the professor who taught the course.\n",
    "    - $s$ is a binary variable of the student's SAT score.\n",
    "$$p(l, g, i, d, s) = p(l \\mid g) \\cdot p(s \\mid i) \\cdot p(i) \\cdot p(g \\mid i, d) \\cdot p(d)$$\n",
    "\n",
    "##### Question (Marginal Inference)\n",
    "\n",
    "- What is the probability distribution of the quality of a reference letter from the professor who taught the course?\n",
    "$$p(l) = \\sum_{g} \\sum_{i} \\sum_{d} \\sum_{s} p(l, g, i, d, s)$$\n",
    "\n",
    "##### Solution (Variable Elimination)\n",
    "\n",
    "1. Order the variables according to the topological sort of the Bayesian network.\n",
    "$$d, i, s, g$$\n",
    "2. Eliminate $d$ with a new factor $\\tau_{1}$:\n",
    "$$\n",
    "\\begin{aligned}\n",
    "\\tau_{1}(g, i) &= \\sum_{d} p(g \\mid i, d) \\cdot p(d) \\\\\n",
    "p(l, g, i, s) &= p(l \\mid g) \\cdot p(s \\mid i) \\cdot p(i) \\cdot \\tau_{1}(g, i)\n",
    "\\end{aligned}\n",
    "$$\n",
    "3. Eliminate $i$ with a new factor $\\tau_{2}$:\n",
    "$$\n",
    "\\begin{aligned}\n",
    "\\tau_{2}(g, s) &= \\sum_{i} p(s \\mid i) \\cdot p(i) \\cdot \\tau_{1}(g, i) \\\\\n",
    "p(l, g, s) &= p(l \\mid g) \\cdot \\tau_{2}(g, s)\n",
    "\\end{aligned}\n",
    "$$\n",
    "4. Eliminate $s$ with a new factor $\\tau_{3}$:\n",
    "$$\n",
    "\\begin{aligned}\n",
    "\\tau_{3}(g) &= \\sum_{s} \\tau_{2}(g, s) \\\\\n",
    "p(l, g) &= p(l \\mid g) \\cdot \\tau_{3}(g)\n",
    "\\end{aligned}\n",
    "$$\n",
    "5. Eliminate $g$ with a new factor $\\tau_{4}$:\n",
    "$$\n",
    "\\begin{aligned}\n",
    "\\tau_{4}(l) &= \\sum_{g} p(l \\mid g) \\cdot \\tau_{3}(g) \\\\\n",
    "p(l) &= \\tau_{4}(l)\n",
    "\\end{aligned}\n",
    "$$\n",
    "6. Expanding $\\tau_{i}$:\n",
    "$$p(l) = \\sum_{g} p(l \\mid g) \\cdot \\sum_{s} \\sum_{i} p(s \\mid i) \\cdot p(i) \\cdot \\sum_{d} p(g \\mid i, d) \\cdot p(d)$$\n",
    "\n",
    "##### Time Complexity\n",
    "\n",
    "- **Naive Solution**: $O(k^{4})$\n",
    "- **Variable Elimination Solution**: $O(4 \\cdot k^{3})$\n",
    "    - Step 2. takes $O(k^{3})$ steps as the factor product $p(g \\mid i, d) \\cdot p(d)$ has a $3$-dimensional table representation, and the factor marginalization of $d$ can execute concurrently with the factor product.\n",
    "    - Step 3. takes $O(k^{3})$ steps as the factor product $p(s \\mid i) \\cdot p(i) \\cdot \\tau_{1}(g, i)$ has a $3$-dimensional table representation, and the factor marginalization of $i$ can execute concurrently with the factor product.\n",
    "    - Step 4. takes $O(k)$ steps for the factor marginalization of $s$.\n",
    "    - Step 5. takes $O(k^{2})$ steps as the factor product $p(l \\mid g) \\cdot \\tau_{3}(g)$ has a $2$-dimensional table representation, and the factor marginalization of $g$ can execute concurrently with the factor product.\n",
    "    - As $O(k^{3})$ is the largest step, with $4$ steps, the time complexity is at most $O(4 \\cdot k^{3})$.\n",
    "    - **Thus, with $n = 4$ and $M = 2$, the time complexity is at most $O(n \\cdot k^{M + 1}) = O(4 \\cdot k^{3})$.**"
   ]
  },
  {
   "cell_type": "markdown",
   "metadata": {},
   "source": [
    "### MAP Inference <span name=\"S03-2\"></span>"
   ]
  },
  {
   "cell_type": "markdown",
   "metadata": {},
   "source": [
    "#### Overview - What is MAP inference?\n",
    "\n",
    "- *See [Inference](#S03).*\n",
    "- Given a probabilistic graphical model $p(x_{1}, ..., x_{n}) = \\prod_{c \\in C} \\phi_{c}(x_{c})$, MAP inference corresponds to the following optimization problem:\n",
    "$$\\max_{x} \\log p(x) = \\max_{x} \\sum_{c \\in C} \\theta_{c}(x_{c}) - \\log Z$$\n",
    "    - Where $\\theta_{c}(x_{c}) = \\log \\phi_{c}(x_{c})$.\n",
    "    \n",
    "##### Derivation - Why is the MAP inference optmization problem expressed the way it is?\n",
    "\n",
    "\n",
    "1. All probabilistic graphical models (as BNs and CRFs are special cases of MRFs) have the following representation:\n",
    "$$p(x) = \\frac{1}{Z} \\prod_{c \\in C} \\phi_{c}(x_{c})$$\n",
    "    - Where $Z$ is NP-Hard.\n",
    "2. MAP inference desires to infer the set of conditions that maximizes the probability of some real-world phenomenon being observed.\n",
    "$$\\max_{x} p(x) = \\max_{x} \\frac{1}{Z} \\prod_{c \\in C} \\phi_{c}(x_{c})$$\n",
    "3. As $Z$ is expensive to calculate, maximize $\\log p(x)$ instead of $p(x)$.\n",
    "$$\\max_{x} \\log p(x) = \\max_{x} \\log \\left[ \\frac{1}{Z} \\prod_{c \\in C} \\phi_{c}(x_{c}) \\right]$$\n",
    "4. Simplify using logarithmic identities.\n",
    "    - $\\log(x \\times y) = \\log(x) + \\log(y)$\n",
    "    - $\\log(x \\div y) = \\log(x) - \\log(y)$\n",
    "$$\\max_{x} \\log p(x) = \\max_{x} \\left[ \\sum_{c} \\log \\phi_{c}(x_{c}) - \\log Z \\right]$$\n",
    "5. Simplify using maximum identities.\n",
    "    - $\\max_{x}(x \\pm 1) = \\max_{x}(x) \\pm 1$\n",
    "$$\\max_{x} \\log p(x) = \\max_{x} \\sum_{c} \\log \\phi_{c}(x_{c}) - \\log Z$$\n",
    "6. Let $\\theta_{c}(x_{c}) = \\log \\phi_{c}(x_{c})$.\n",
    "$$\\max_{x} \\log p(x) = \\max_{x} \\sum_{c \\in C} \\theta_{c}(x_{c}) - \\log Z$$\n",
    "\n",
    "\n",
    "- As $\\log Z$ is outside the scope of the maximization, if you desire to infer the set of conditions that maximizes the probability of some real-world phenomenon being observed, then solve the following optimization problem:\n",
    "$$\\arg \\max_{x} \\log p(x) = \\arg \\max_{x} \\sum_{c \\in C} \\theta_{c}(x_{c})$$\n",
    "- **Important Note 1**: Without $Z$, this optimization problem suggests that MAP inference is computationally cheaper than marginal inference questions.\n",
    "- **Important Note 2**: As maximization and summation both distribute over products, techniques used to solve marginal inference problems can be used to solve MAP inference problems."
   ]
  },
  {
   "cell_type": "markdown",
   "metadata": {},
   "source": [
    "#### Graph Cuts - How can MAP inference problems be solved using graph cuts?\n",
    "\n",
    "- A **graph cut** of an undirected graph $G = (V, E)$ is a partition of $V$ into two disjoint sets $V_{s}$ and $V_{t}$.\n",
    "- The **min-cut** problem is to find the partition $V_{s}, V_{t}$ that minimize the cost of the graph cut.\n",
    "    - The cost of a graph cut is the sum of the nonnegative costs of the edges that cross between the two partitions:\n",
    "$$\\text{cost}(V_{s}, V_{t}) = \\sum_{v_{1} \\in V_{s}, v_{2} \\in V_{t}} \\text{cost}(v_{1}, v_{2})$$\n",
    "    - **Time Complexity 1**: $O(\\lvert E \\rvert \\lvert V \\rvert \\log \\lvert V \\rvert)$\n",
    "    - **Time Complexity 2**: $O({\\lvert V \\rvert}^{3})$\n",
    "- A MAP inference problem can be reduced into the min-cut problem in certain restricted cases of MRFs with binary variables."
   ]
  },
  {
   "cell_type": "markdown",
   "metadata": {},
   "source": [
    "#### Linear Programming - How can MAP inference problems be solved using linear programming?\n",
    "\n",
    "- An approximate approach to computing the MAP values is to use Integer Linear Programming by introducing:\n",
    "    - An indicator variable per variable in the PGM.\n",
    "    - An indicator variable per edge/clique in the PGM.\n",
    "    - Constraints on consistent values in cliques."
   ]
  },
  {
   "cell_type": "markdown",
   "metadata": {},
   "source": [
    "#### Local Search - How can MAP inference problems be solved using local search?\n",
    "\n",
    "- A heuristic solution that starts with an arbitrary assignment and performs modifications on the joint assignment that locally increase the probability."
   ]
  },
  {
   "cell_type": "markdown",
   "metadata": {},
   "source": [
    "#### Branch and Bound - How can MAP inference problems be solved using branch and bound?\n",
    "\n",
    "- An exhaustive solution that searches over the space of assignments while pruning branches that can be provably shown not to contain a MAP assignment."
   ]
  },
  {
   "cell_type": "markdown",
   "metadata": {},
   "source": [
    "#### Simulated Annealing - How can MAP inference problems be solved using simulated annealing?\n",
    "\n",
    "- A sampling solution that expresses a probability distribution with the following:\n",
    "$$p_{t}(x) \\propto \\exp\\left( \\frac{1}{t} \\sum_{c \\in C} \\theta_{c}(x_{c}) \\right)$$\n",
    "    - Where $t$ is temperature.\n",
    "        - $t \\to \\infty$ $\\implies$ $p_{t}$ approaches a continuous uniform distribution.\n",
    "        - $t \\to 0$ $\\implies$ $p_{t}$ approaches a continuous exponential distribution with a significant peak of $\\arg \\max_{x} \\sum_{c \\in C} \\theta_{c}(x_{c})$.\n",
    "- As the peak is a MAP assignment, a sampling algorithm starting with a high temperature which gradually decreases can eventually find the peak, given a sufficiently slow cooling rate."
   ]
  },
  {
   "cell_type": "markdown",
   "metadata": {},
   "source": [
    "### Sampling-Based Inference <span name=\"S03-3\"></span>"
   ]
  },
  {
   "cell_type": "markdown",
   "metadata": {},
   "source": [
    "#### Motivation - Why does sampling-based inference algorithms exist?\n",
    "\n",
    "- **Exact Inference Algorithms**: Slow/NP-Hard\n",
    "- **Approximate Inference Algorithms**: Marginal Inference, MAP Inference, Expectations\n",
    "\n",
    "##### Expectations $\\mathbb{E}[f(X)]$ - Why do we want to estimate expectations of random variables?\n",
    "\n",
    "- Abstractly, approximate inference algorithms want to estimate the probability of some real-world phenomenon.\n",
    "- Mathematically, estimating a probability $p(x)$ is a **SPECIALIZATION** of estimating an expectation $\\mathbb{E}_{x \\sim p}[f(x)] = \\sum_{x} f(x)p(x)$\n",
    "- If $f(x) = \\mathbb{I}_{\\lvert x \\rvert}$, where $\\mathbb{I}_{\\lvert x \\rvert}$ is an indicator function for event $x$,\n",
    "$$\\mathbb{E}_{x \\sim p}[\\mathbb{I}_{\\lvert x \\rvert}] = p(x)$$"
   ]
  },
  {
   "cell_type": "markdown",
   "metadata": {},
   "source": [
    "#### Multinomial Sampling - How do you sample a discrete CPD?\n",
    "\n",
    "\n",
    "1. Let $p$ be a multinomial probability distribution with event values $\\{x^{1}, ..., x^{k}\\}$ and event probabilities $\\{\\theta_{1}, ..., \\theta_{k}\\}$.\n",
    "2. Generate a sample $s$ uniformly from the interval $[0, 1]$.\n",
    "3. Partition the interval into $k$ subintervals:\n",
    "$$[0, \\theta_{1}), [\\theta_{1}, \\theta_{1} + \\theta_{2}), ..., \\left[ \\sum_{j = 1}^{i - 1} \\theta_{j}, \\sum_{j = 1}^{i} \\theta_{j} \\right)$$\n",
    "4. If $s$ is in the $i$th interval, then the sampled value is $x^{i}$.\n",
    "\n",
    "\n",
    "- **Time Complexity**: $O(\\log k)$ - *Using Binary Search*\n",
    "- *Remember Baye's Rule*: $p(y \\mid x) = \\frac{p(x, y)}{p(x)}$\n",
    "    - $p(x, y)$ is a multinomial probability distribution."
   ]
  },
  {
   "cell_type": "markdown",
   "metadata": {},
   "source": [
    "#### Forward Sampling - How do you sample a discrete Bayesian network?\n",
    "\n",
    "\n",
    "1. Let $G$ be a Bayesian network representing a probability distribution $p(x_{1}, ..., x_{n})$.\n",
    "2. Sample the variables in a topological order.\n",
    "3. Sample the successor variables by conditioning these node's CPDs to the values sampled by their ancestors.\n",
    "4. Repeat until all $n$ variables have been sampled.\n",
    "\n",
    "\n",
    "- **Time Complexity**: $O(n)$"
   ]
  },
  {
   "cell_type": "markdown",
   "metadata": {},
   "source": [
    "#### Monte-Carlo Integration/Estimation - How do you take a large number of samples to estimate expectations?\n",
    "\n",
    "- *Monte-Carlo $\\approx$ Large Number of Samples*\n",
    "$$\\mathbb{E}_{x \\sim p}[f(x)] \\approx I_{T} = \\frac{1}{T} \\sum_{t = 1}^{T} f(x^{t})$$\n",
    "    - Where $x^{1}, ..., x^{T}$ are [i.i.d.](https://en.wikipedia.org/wiki/Independent_and_identically_distributed_random_variables) samples drawn according to $p$.\n",
    "$$\n",
    "\\begin{aligned}\n",
    "\\mathbb{E}_{x^{1}, ..., x^{T} \\sim^{\\text{i.i.d.}} p}[I_{T}] &=  \\mathbb{E}_{x \\sim p}[f(x)] \\\\\n",
    "\\text{Var}_{x^{1}, ..., x^{T} \\sim^{\\text{i.i.d.}} p}[I_{T}] &= \\frac{1}{T} \\text{Var}_{x \\sim p}[f(x)]\n",
    "\\end{aligned}\n",
    "$$\n",
    "    - Where the Monte-Carlo estimate $I_T$\n",
    "    \n",
    "##### Implications - What is important about Monte-Carlo estimations?\n",
    "\n",
    "1. $I_{T}$ is an unbiased estimator for $\\mathbb{E}_{x \\sim p}[f(x)]$.\n",
    "2. Referencing the [Weak Law of Large Numbers](https://en.wikipedia.org/wiki/Law_of_large_numbers), if $T \\to \\infty$, then $I_{T} \\to \\mathbb{E}_{x \\sim p}[f(x)]$."
   ]
  },
  {
   "cell_type": "markdown",
   "metadata": {},
   "source": [
    "#### Rejection Sampling - How does rejection sampling work?\n",
    "\n",
    "- Compute a target probability distribution $p(x)$ by sampling a proposal probability distribution $q(x)$, rejecting samples inconsistent with $p(x)$, and applying the Monte-Carlo estimation.\n",
    "    - **Examples**: *See [Rejection Sampling](https://ermongroup.github.io/cs228-notes/inference/sampling/)*\n",
    "    - **Disadvantage**: *Ignores Many Samples*"
   ]
  },
  {
   "cell_type": "markdown",
   "metadata": {},
   "source": [
    "#### Importance Sampling - How does importance sampling work?\n",
    "\n",
    "- Compute a target probability distribution $p(x)$ by sampling a proposal probability distribution $q(x)$, reweighing samples with $w(x) = \\frac{p(x)}{q(x)}$, and applying the Monte-Carlo estimation.\n",
    "$$\n",
    "\\begin{aligned}\n",
    "\\mathbb{E}_{x \\sim p}[f(x)] &= \\sum_{x} f(x)p(x) \\\\\n",
    "&= \\sum_{x} f(x)\\frac{p(x)}{q(x)}q(x) \\\\\n",
    "&= \\mathbb{E}_{x \\sim q}[f(x)w(x)] \\\\\n",
    "&\\approx \\frac{1}{T} \\sum_{t = 1}^{T} f(x^{t})w(x^{t})\n",
    "\\end{aligned}\n",
    "$$\n",
    "    - **Examples**: *See [Importance Sampling](https://ermongroup.github.io/cs228-notes/inference/sampling/)*\n",
    "    - **Advantage**: *Uses All Samples*"
   ]
  },
  {
   "cell_type": "markdown",
   "metadata": {},
   "source": [
    "#### Normalized Importance Sampling - How does normalized importance sampling work?\n",
    "\n",
    "1. Let $p(x)$ be unknown.\n",
    "2. Let $\\tilde{p}(x) = Z \\cdot p(x)$ be known.\n",
    "3. The weight $w(x) = \\frac{\\tilde{p}(x)}{q(x)}$ is invalid for unnormalized importance sampling.\n",
    "4. The **normalizing constant** of the distribution $\\tilde{p}(x)$ is the following:\n",
    "$$\\mathbb{E}_{x \\sim q}[w(x)] = \\sum_{x} q(x)\\frac{\\tilde{p}(x)}{q(x)} = \\sum_{x} \\tilde{p}(x) = Z$$\n",
    "5. The **normalized importance sampling estimator** is the following:\n",
    "$$\n",
    "\\begin{aligned}\n",
    "\\mathbb{E}_{x \\sim p}[f(x)] &= \\sum_{x} f(x)p(x) \\\\\n",
    "&= \\sum_{x} f(x)\\frac{p(x)}{q(x)}q(x) \\\\\n",
    "&= \\frac{1}{Z} \\sum_{x} f(x)\\frac{\\tilde{p}(x)}{q(x)}q(x) \\\\\n",
    "&= \\frac{1}{Z} \\mathbb{E}_{x \\sim q}[f(x)w(x)] \\\\\n",
    "&= \\frac{\\mathbb{E}_{x \\sim q}[f(x)w(x)]}{\\mathbb{E}_{x \\sim q}[w(x)]}\n",
    "\\end{aligned}\n",
    "$$"
   ]
  },
  {
   "cell_type": "markdown",
   "metadata": {},
   "source": [
    "#### Markov Chain - What is a Markov chain?\n",
    "\n",
    "- **Markov Chain**: A sequence of random variables $S_{0}, S_{1}, S_{2}, ...$ with each random variable $S_{i} \\in \\{1, 2, ..., d\\}$ taking one of $d$ possible values.\n",
    "    - *Initial State*: $P(S_{0})$\n",
    "    - *Subsequent States*: $P(S_{i} \\mid S_{i - 1})$\n",
    "- **Markov Assumption**: $S_{i}$ cannot depend directly on $S_{j}$ where $j < i - 1$."
   ]
  },
  {
   "cell_type": "markdown",
   "metadata": {},
   "source": [
    "#### Stationary Distribution - Why is it important for a stationary distribution to exist?\n",
    "\n",
    "- Let $T_{ij} = P(S_{\\text{new}} = i \\mid S_{\\text{prev}} = j)$ be a $d \\times d$ transition probability matrix.\n",
    "- If the initial state $S_{0}$ is drawn from a vector probabilities $p_{0}$, the probability $p_{t}$ of ending in **EACH STATE** after $t$ steps is the following:\n",
    "$$p_{t} = T^{t} p_{0}$$\n",
    "    - Where $T^{t}$ is matrix exponentiation.\n",
    "- **Stationary Distribution**: If it exists, the limit $\\pi = \\lim_{t \\to \\infty} p_{t}$.\n",
    "- **Important Note 1**: A Markov chain whose states are joint assignments to the variables in a probabilistic graphical model $p$ has a stationary distribution equal to $p$.\n",
    "\n",
    "##### Existence of Stationary Distribution\n",
    "\n",
    "- **Irreducibility**: It is possible to get from any state $x$ to any other state $x'$ with probability $>0$ in a finite number of steps.\n",
    "- **Aperiodicity**: It is possible to return to any state at any time, i.e. there exists an $n$ such that for all $i$ and all $n' \\ge n$, $P(s_{n'} = i \\mid s_{0} = i) > 0$.\n",
    "- **Important Note 2**: An irreducible and aperiodic finite-state Markov chain has a stationary distribution."
   ]
  },
  {
   "cell_type": "markdown",
   "metadata": {},
   "source": [
    "#### Markov Chain Monte Carlo - How do you sample from a MCMC?\n",
    "\n",
    "1. Let $T$ be a **transition operator** specifying a Markov chain whose stationary distribution is $p$.\n",
    "2. Le $x_{0}$ be an initial assignment to the variables of $p$.\n",
    "3. Run the Markov chain from $x_{0}$ for $B$ *burn-in* steps.\n",
    "    - If $B$ is sufficiently large, $\\pi \\to p$.\n",
    "4. Run the Markov chain for $N$ *sampling* steps and collect all the states that it visits.\n",
    "    - The collection of states form samples from $p$.\n",
    "\n",
    "##### Applications of Markov Chain Monte Carlo\n",
    "\n",
    "1. Use samples for Monte Carlo integration to estimate expectations.\n",
    "2. Use samples to perform marginal inference.\n",
    "3. Use the sample with the highest probability to perform MAP inference."
   ]
  },
  {
   "cell_type": "markdown",
   "metadata": {},
   "source": [
    "#### Gibbs Sampling - How do you construct a MCMC?\n",
    "\n",
    "\n",
    "1. Let $x_{1}, ..., x_{n}$ be an ordered set of variables.\n",
    "2. Let $x^{0} = (x_{1}^{0}, ..., x_{n}^{0})$ be a starting configuration.\n",
    "3. Repeat until convergence for $t = 1, 2, ...$,\n",
    "    1. Set $x \\gets x^{t - 1}$.\n",
    "    2. For each variable $x_{i}$,\n",
    "        1. Sample $x_{i}' \\sim p(x_{i} \\mid x_{-i})$.\n",
    "            - Where $x_{-i}$ is all variables in $x$ except $x_{i}$\n",
    "        2. Update $x \\gets (x_{1}, ..., x_{i}', ..., x_{n})$.\n",
    "    3. Set $x^{t} \\gets x$\n",
    "    \n",
    "\n",
    "- **Important Note 1**: When $x_{i}$ is updated, its new value is immediately used for sampling other variables $x_{j}$.\n",
    "- **Important Note 2**: Every iteration of $x^{t}$ is a new sample from $p$."
   ]
  },
  {
   "cell_type": "markdown",
   "metadata": {},
   "source": [
    "## Learning <span name=\"S04\"></span>"
   ]
  },
  {
   "cell_type": "markdown",
   "metadata": {},
   "source": [
    "- **Problem**: *Given a dataset $D$ of $m$ i.i.d. samples from some underlying distribution $p^{\\ast}$, how do you fit the best model, given a family of models $M$, to make useful predictions?*\n",
    "    - **Parameter Learning**: *Where the graph structure is known, and we want to estimate the factors.*\n",
    "    - **Structure Learning**: *Where we want to estimate the graph, i,e. determine from data how the variables depend on each other.*\n",
    "- **Solution**: *Best Approximation of $p^{\\ast}$*\n",
    "    - **Density Estimation**: *We are interested in the full distribution.*\n",
    "    - **Specific Prediction Tasks**: *We are using the distribution to make a prediction.*\n",
    "        - e.g. Is this email spam or not?\n",
    "    - **Structure or Knowledge Discovery**: *We are interested in the model itself.*\n",
    "        - e.g. How do some genes interact with each other?"
   ]
  },
  {
   "cell_type": "markdown",
   "metadata": {},
   "source": [
    "### Maximum Likelihood Estimation <span name=\"S04-01\"></span>"
   ]
  },
  {
   "cell_type": "markdown",
   "metadata": {},
   "source": [
    "#### Motivation - Why does maximum likelihood estimation exist?\n",
    "\n",
    "- **Goal**: How do we approximate $p$ as close as possible to $p^{\\ast}$?\n",
    "- **Approach**: When the KL divergence between $p$ and $p^{\\ast}$ is minimal, $p$ is as close as possible to $p^{\\ast}$.\n",
    "\n",
    "\n",
    "##### KL Divergence - What is KL divergence?\n",
    "\n",
    "- **KL Divergence**: How different is one probability distribution from another probability distribution?\n",
    "$$KL(p^{\\ast} \\parallel p) = \\sum_{x} p^{\\ast}(x) \\log \\frac{p^{\\ast}(x)}{p(x)} = -H(p^{\\ast}) - \\mathbb{E}_{x \\sim p^{\\ast}}[\\log p(x)]$$\n",
    "\n",
    "##### Minimal KL Divergence - When is KL divergence minimal?\n",
    "\n",
    "- **General Idea**: *Minimizing KL Divergence* $\\Longleftrightarrow$ *Maximizing Likelihood*\n",
    "$$\\min KL(p^{\\ast} \\parallel p) \\Longleftrightarrow \\max \\mathbb{E}_{x \\sim p^{\\ast}}[\\log p(x)]$$\n",
    "- Because $p^{\\ast}$ is unknown, approximate the log-likelihood with the emperical log-likelihood using a Monte-Carlo estimate.\n",
    "$$\\mathbb{E}_{x \\sim p^{\\ast}}[\\log p(x)] \\approx \\frac{1}{\\lvert D \\rvert} \\sum_{x \\in D} \\log p(x)$$\n",
    "\n",
    "##### Maximum Likelihood Learning - How do you fit the best model using maximum likelihood learning?\n",
    "\n",
    "- Given a family of models $M$, to fit the best model $p$, compute the following.\n",
    "$$\\max_{p \\in M} \\mathbb{E}_{x \\sim p^{\\ast}}[\\log p(x)] \\approx \\max_{p \\in M} \\frac{1}{\\lvert D \\rvert} \\sum_{x \\in D} \\log p(x)$$"
   ]
  },
  {
   "cell_type": "markdown",
   "metadata": {},
   "source": [
    "#### Definition - What is maximum likelihood estimation?\n",
    "\n",
    "- **Maximum Likelihood Estimation**: Given a data set $D$, choose parameters $\\hat{\\theta}$ that satisfy the following.\n",
    "$$\\max_{\\theta \\in \\Theta} L(\\theta, D)$$\n",
    "    - i.e., Maximize the parameters $\\theta$ to best fit the data set $D$."
   ]
  },
  {
   "cell_type": "markdown",
   "metadata": {},
   "source": [
    "#### Loss Function - What is a loss function?\n",
    "\n",
    "- **Loss Function** ($L(x, p)$): A measure of the loss that a model distribution $p$ makes on a particular instance $x$.\n",
    "    - e.g., *MLE Loss Function*: $L(x, p) = -\\log p(x)$\n",
    "- **Important Note**: Assuming instances are sampled from some distribution $p^{\\ast}$, to fit the best model, **MINIMIZE** the expected loss.\n",
    "$$\\mathbb{E}_{x \\sim p^{\\ast}}[L(x, p)] \\approx \\frac{1}{\\lvert D \\rvert} \\sum_{x \\in D} L(x, p)$$"
   ]
  },
  {
   "cell_type": "markdown",
   "metadata": {},
   "source": [
    "#### Likelihood Function - What is a likelihood function?\n",
    "\n",
    "- **Likelihood Function** ($L(\\theta, D)$): The probability of observing the i.i.d. samples $D$ for all permissible values of the parameters $\\theta$.\n",
    "\n",
    "##### Example - Likelihood Function\n",
    "\n",
    "1. Let $p(x)$ be a probability distribution where $x \\in \\{h, t\\}$ such that $p(x = h) = \\theta$ and $p(x = t) = 1 - \\theta$.\n",
    "2. Let $D = \\{h, h, t, h, t\\}$ be observed i.i.d. samples.\n",
    "4. Accordingly, $p(x)$ models the outcome of a biased coin where parameter $\\theta$ represents the probability of flipping heads and $1 - \\theta$ represents the probability of flipping tails.\n",
    "3. Express the likelihood function as the following.\n",
    "$$L(\\theta, D) = \\theta \\cdot \\theta \\cdot (1 - \\theta) \\cdot \\theta \\cdot (1 - \\theta) = \\theta^{3} \\cdot (1 - \\theta)^{2}$$"
   ]
  },
  {
   "cell_type": "markdown",
   "metadata": {},
   "source": [
    "#### Maximum Likelihood Learning - How does maximum likelihood learning estimate the CPDs in Bayesian networks?\n",
    "\n",
    "\n",
    "1. Let $p(x) = \\prod_{i = 1}^{n} \\theta_{x_{i} \\mid x_{pa(i)}}$ be a Bayesian network.\n",
    "    - Where $\\theta_{x_{i} \\mid x_{pa(i)}}$ are parameters (CPDs) with **UNKNOWN VALUES**.\n",
    "2. Let $D = \\{x^{(1)}, x^{(2)}, ..., x^{(m)}\\}$ be i.i.d. samples.\n",
    "3. Let $L(\\theta, D) = \\prod_{i = 1}^{n} \\prod_{j = 1}^{m} \\theta_{x_{i}^{j} \\mid x_{pa(i)}^{j}}$ be the likelihood function.\n",
    "4. Log and collect like terms of the likelihood function.\n",
    "$$\\log L(\\theta, D) = \\sum_{i = 1}^{n} \\sum_{x_{pa(i)}} \\sum_{x_{i}} \\#(x_{i}, x_{pa(i)}) \\cdot \\log \\theta_{x_{i} \\mid x_{pa(i)}}$$\n",
    "5. Maximize the (log) likelihood function by decomposing it into separate maximizations for the local conditional distributions.\n",
    "\n",
    "\n",
    "- **Important Note**: The maximum-likelihood estimates of the parameters (CPDs) have closed-form solutions.\n",
    "$$\\theta_{x_{i} \\mid x_{pa(i)}}^{\\ast} = \\frac{\\#(x_{i}, x_{pa(i)})}{\\#(x_{pa(i)})}$$"
   ]
  },
  {
   "cell_type": "markdown",
   "metadata": {},
   "source": [
    "### Bayesian Learning <span name=\"S04-02\"></span>"
   ]
  },
  {
   "cell_type": "markdown",
   "metadata": {},
   "source": [
    "#### Motivation - What are some problems with maximum likelihood estimation?\n",
    "\n",
    "- A maximum likelihood estimate does not change as more data is observed because it assumes that the only source of uncertainty is explained by the parameters that are being fitted.\n",
    "- **Problem 1**: *Cannot Improve Confidence*\n",
    "- **Problem 2**: *Cannot Incorporate Prior Knowledge*"
   ]
  },
  {
   "cell_type": "markdown",
   "metadata": {},
   "source": [
    "#### Definitions - What are a *prior* and a *posterior*?\n",
    "\n",
    "- **Bayesian Learning**: Explicitly model uncertainty over both variables $X$ and parameters $\\theta$ by letting parameters be random variables.\n",
    "- A **prior** is the earlier probability distribution of parameter $\\theta$ **BEFORE** observing data $D$.\n",
    "- A **posterior** is the later probability distribution of parameter $\\theta$ **AFTER** observing data $D$.\n",
    "$$p(\\theta \\mid D) = \\frac{p(D \\mid \\theta) p(\\theta)}{p(D)} \n",
    "\\propto p(D \\mid \\theta) p(\\theta)$$\n",
    "$$posterior \\propto likelihood \\times prior$$\n",
    "- **Important Note 1**: Bayes' rule allows prior knowledge to be incorporated into a model's parameters.\n",
    "- **Important Note 2**: Using Bayes' rule, the numerator is easy to calculate, but the denominator is difficult to calculate.\n",
    "- **Important Note 3**: The expected value of the posterior $p(\\theta \\mid D)$ is the estimate of the parameter $\\theta$ that causes $p$ to be as close as possible to $p^{\\ast}$."
   ]
  },
  {
   "cell_type": "markdown",
   "metadata": {},
   "source": [
    "#### Conjugate Priors - What is a *conjugate prior*?\n",
    "\n",
    "- A parametric family $\\phi$ is **conjugate** for the likelihood $P(D \\mid \\theta)$ if:\n",
    "$$P(\\theta) \\in \\phi \\implies P(\\theta \\mid D) \\in \\phi$$\n",
    "- **Important Note**: If the normalizing constant of $\\phi$ is known, then the denominator in Bayes' rule is easy to calculate."
   ]
  },
  {
   "cell_type": "markdown",
   "metadata": {},
   "source": [
    "#### Beta Distribution - What is the Beta distribution?\n",
    "\n",
    "![Examples of Beta Distribution](images/BL_1.png)\n",
    "\n",
    "- A **Beta distribution** is parameterized by two hyperparameters $\\alpha \\in \\mathbb{R}$, and $\\beta \\in \\mathbb{R}$ with the following continuous probability distribution.\n",
    "$$\\theta \\sim \\text{Beta}(\\alpha, \\beta) \\implies p(\\theta) = \\frac{\\theta^{\\alpha - 1} (1 - \\theta)^{\\beta - 1}}{B(\\alpha, \\beta)}$$\n",
    "    - Where $\\theta \\in (0, 1)$.\n",
    "    - Where the constant $\\alpha$ intuitively corresponds to the number of **SUCCESSES** outcomes.\n",
    "    - Where the constant $\\beta$ intuitively corresponds to the number of **FAILURES** outcomes.\n",
    "    - Where the constant $B(\\alpha, \\beta)$ is a normalizing constant defined by the following.\n",
    "$$B(\\alpha, \\beta) = \\frac{\\Gamma(\\alpha) \\Gamma(\\beta)}{\\Gamma(\\alpha + \\beta)}$$\n",
    "    - Where the Gamma function $\\Gamma(x)$ is the continuous generalization of the factorial function defined by the following.\n",
    "$$\\Gamma(x) = \\int_{0}^{\\infty} t^{x - 1} e^{-t} dt$$\n",
    "- **Expected Value**: $$\\mathbb{E}[X] = \\frac{\\alpha}{\\alpha + \\beta}$$"
   ]
  },
  {
   "cell_type": "markdown",
   "metadata": {},
   "source": [
    "#### Conjugate Priors and Beta Distribution - How do you calculate a posterior with data observed from a binary process?\n",
    "\n",
    "> Think Coin Toss\n",
    "\n",
    "- The beta distribution is the conjugate prior for the following probability distributions:\n",
    "    - **Bernoulli**: A discrete Bernoulli random variable, $X$, is the outcome from a single experiment from which this outcome is classified as either a success, $X = 1$ with probability $p$, or a failure, $X = 0$ with probability $1 - p$.\n",
    "$$\n",
    "X \\sim \\text{Bernoulli}(p) \\implies P(\\{X = x\\}) = \n",
    "\\begin{cases}\n",
    "1 - p & \\text{if } x = 0 \\\\\n",
    "p     & \\text{if } x = 1\n",
    "\\end{cases}\n",
    "$$\n",
    "    - **Binomial**: A discrete binomial random variable, $X$, is the number of successful outcomes from a sequence of $n$ independent experiments in which each experiment has an outcome classified as either a success with probability $p$ or a failure with probability $1 - p$\n",
    "$$\n",
    "X \\sim \\text{Binomial}(n, p) \\implies P(\\{X = x\\}) = \\binom{n}{x} p^x (1 - p)^{n - x}\n",
    "$$\n",
    "    - **Geometric**: A discrete geometric random variable, $X$, is the number of Bernoulli trials with probability $p$ needed to get one success.\n",
    "$$\n",
    "X \\sim \\text{Geometric}(p) \\implies P(\\{X = x\\}) = (1 - p)^{x - 1} p\n",
    "$$\n",
    "    - **Negative Binomial**: A discrete negative binomial random variable, $X$, is the number of successes in a sequence of independent and identically distributed Bernoulli trials before $r$ failures.\n",
    "$$\n",
    "X \\sim \\text{Negative-Binomial}(r, p) \\implies P(\\{X = x\\}) = \\binom{x + r - 1}{x} p^x (1 - p)^r\n",
    "$$\n",
    "- **Important Note**: To best fit a binary model with a probability distribution $p \\approx p^{\\ast}$, the beta distribution can be used by the following.\n",
    "    1. Assign $\\text{Beta}(\\alpha, \\beta)$ as a prior to $p$.\n",
    "    2. Observe $n$ data points generated by a binary process with unknown, underlying $p^{\\ast}$.\n",
    "        - If $X_{i} \\sim \\text{Bernoulli}(p^{\\ast})$, then the posterior is $\\text{Beta}(\\alpha + \\sum_{i = 1}^{n} x_{i}, \\beta + n - \\sum_{i = 1}^{n} x_{i})$.\n",
    "        - If $X_{i} \\sim \\text{Binomial}(N, p^{\\ast})$, then the posterior is $\\text{Beta}(\\alpha + \\sum_{i = 1}^{n} x_{i}, \\beta + \\sum_{i = 1}^{n} N_{i} - \\sum_{i = 1}^{n} x_{i})$.\n",
    "        - If $X_{i} \\sim \\text{Geometric}(p^{\\ast})$, then the posterior is $\\text{Beta}(\\alpha + n, \\beta + \\sum_{i = 1}^{n} x_{i} - n)$.\n",
    "        - If $X_{i} \\sim \\text{Negative-Binomial}(r, p^{\\ast})$, then the posterior is $\\text{Beta}(\\alpha + \\sum_{i = 1}^{n} x_{i}, \\beta + rn)$."
   ]
  },
  {
   "cell_type": "markdown",
   "metadata": {},
   "source": [
    "#### Dirichlet Distribution (Multivariate Beta Distribution) - What is the Dirichlet distribution?\n",
    "\n",
    "- A **Dirichlet distribution** is parameterized by the following hyperparameters $\\pmb{\\alpha} = (\\alpha_{1}, ..., \\alpha_{K}) \\in \\mathbb{R}^{K}$ with the following continuous probability distribution.\n",
    "$$\\theta \\sim \\text{Dirichlet}(\\pmb{\\alpha}) \\implies p(\\theta) = \\frac{1}{B(\\pmb{\\alpha})} \\prod_{i = 1}^{K} \\theta_{i}^{\\alpha_{i} - 1}$$\n",
    "    - Where $\\theta_{i} \\in (0, 1)$ and $\\sum_{i = 1}^{K} \\theta_{i} = 1$.\n",
    "    - Where the constant $\\alpha_{i}$ intuitively corresponds to the number of outcomes for category $i$.\n",
    "    - Where the constant $B(\\pmb{\\alpha})$ is a normalizing constant defined by the following.\n",
    "$$B(\\pmb{\\alpha}) = \\frac{\\prod_{i = 1}^{K} \\Gamma(\\alpha_{i})}{\\Gamma(\\sum_{i = 1}^{K} \\alpha_{i})}$$\n",
    "    - Where the Gamma function $\\Gamma(x)$ is the continuous generalization of the factorial function defined by the following.\n",
    "$$\\Gamma(x) = \\int_{0}^{\\infty} t^{x - 1} e^{-t} dt$$\n",
    "- **Expected Value**: $$\\mathbb{E}[X_{i}] = \\frac{\\alpha_{i}}{\\sum_{k} \\alpha_{k}}$$"
   ]
  },
  {
   "cell_type": "markdown",
   "metadata": {},
   "source": [
    "#### Conjugate Priors and Dirichlet Distribution - How do you calculate a posterior with data observed from a categorical process?\n",
    "\n",
    "> Think $K$-Sided Dice Roll\n",
    "\n",
    "- The Dirichlet distribution is the conjugate prior for the following probability distributions:\n",
    "    - **Categorical** (*Generalized Bernoulli*): A discrete categorical random variable, $X$, is the outcome from a single experiment from which this outcome is classified as one of $K$ categories with probability $p_{i} > 0$ and $\\sum_{i = 1}^{K} p_{i} = 1$.\n",
    "$$\n",
    "X \\sim \\text{Categorical}(\\pmb{p}) \\implies P(\\{X = i\\}) = p_{i}\n",
    "$$\n",
    "    - **Multinomial** (*Generalized Binomial*): A discrete multinomial random variable, $X$, is the number of outcomes from a sequence of $n$ independent experiments in which each experiment has an outcome classified as one of $K$ categories with probability $p_{i} > 0$ and $\\sum_{i = 1}^{K} p_{i} = 1$.\n",
    "$$\n",
    "X \\sim \\text{Multinomial}(n, \\pmb{p}) \\implies P(\\{\\pmb{X} = \\pmb{x}\\}) = \\frac{n!}{x_{1}! ... x_{k}!} p_{1}^{x_{1}} ... p_{k}^{x_{k}}\n",
    "$$\n",
    "- **Important Note**: To best fit a categorical model with a probability distribution $\\pmb{p} \\approx \\pmb{p}^{\\ast}$, the Dirichlet distribution can be used by the following.\n",
    "    1. Assign $\\text{Dirichlet}(\\pmb{\\alpha})$ as a prior to $\\pmb{p}$.\n",
    "    2. Observe $n$ data points generated by a categorical process with unknown, underlying $\\pmb{p}^{\\ast}$.\n",
    "        - If $X_{i} \\sim \\text{Categorical}(\\pmb{p}^{\\ast})$, then the posterior is $\\text{Dirichlet}(\\pmb{\\alpha} + (c_{1}, ..., c_{K}))$.\n",
    "            - Where $c_{i}$ is the number of observations in category $i$.\n",
    "        - If $X_{i} \\sim \\text{Multinomial}(N, \\pmb{p}^{\\ast})$, then the posterior is $\\text{Dirichlet}(\\pmb{\\alpha} + \\sum_{i = 1}^{n} \\pmb{x_{i}})$."
   ]
  },
  {
   "cell_type": "markdown",
   "metadata": {},
   "source": [
    "#### Gamma Distribution - What is the Gamma distribution?\n",
    "\n",
    "- A **Gamma distribution** is parameterized by two hyperparameters $\\alpha \\in \\mathbb{R}$, and $\\beta \\in \\mathbb{R}$ with the following continuous probability distribution.\n",
    "$$\\theta \\sim \\text{Gamma}(\\alpha, \\beta) \\implies p(\\theta) = \\frac{\\beta^{\\alpha}}{\\Gamma(\\alpha)} \\theta^{\\alpha - 1} e^{-\\beta \\theta}$$\n",
    "    - Where $\\theta \\in (0, \\infty)$.\n",
    "    - Where the constants $\\alpha$ and $\\beta$ intuitively corresponds to $\\alpha$ total occurrences in $\\beta$ intervals.\n",
    "    - Where the Gamma function $\\Gamma(x)$ is the continuous generalization of the factorial function defined by the following.\n",
    "$$\\Gamma(x) = \\int_{0}^{\\infty} t^{x - 1} e^{-t} dt$$\n",
    "- **Expected Value**: $$\\mathbb{E}[X] = \\frac{\\alpha}{\\beta}$$"
   ]
  },
  {
   "cell_type": "markdown",
   "metadata": {},
   "source": [
    "#### Conjugate Priors and Gamma Distribution - How do you calculate a posterior with data observed from a Poisson point process?\n",
    "\n",
    "> Think Rate (Events/Second)\n",
    "\n",
    "- The Gamma distribution is the conjugate prior for the following probability distributions:\n",
    "    - **Poisson**: A discrete Poisson random variable, $X$, is the number of events occuring in a fixed interval of time or at a fixed rate.\n",
    "$$\n",
    "X \\sim \\text{Poisson}(\\lambda) \\implies P(\\{X = x\\}) = e^{-\\lambda} \\frac{\\lambda^x}{x!}\n",
    "$$\n",
    "    - **Exponential**: A continuous exponential random variable, $X$, is the time between events in a Poisson point process.\n",
    "$$\n",
    "X \\sim \\text{Exponential}(\\lambda) \\implies P(\\{X = x\\}) = \\lambda e^{-\\lambda x}\n",
    "$$\n",
    "- **Important Note**: To best fit a Poisson point model with a probability distribution $p \\approx p^{\\ast}$, the Gamma distribution can be used by the following.\n",
    "    1. Assign $\\text{Gamma}(\\alpha, \\beta)$ as a prior to $p$.\n",
    "    2. Observe $n$ data points generated by a Poisson point process with unknown, underlying $p^{\\ast}$.\n",
    "        - If $X_{i} \\sim \\text{Poisson}(\\lambda^{\\ast})$, then the posterior is $\\text{Gamma}(\\alpha + \\sum_{i = 1}^{n} x_{i}, \\beta + n)$.\n",
    "        - If $X_{i} \\sim \\text{Exponential}(\\lambda^{\\ast})$, then the posterior is $\\text{Gamma}(\\alpha + n, \\beta + \\sum_{i = 1}^{n} x_{i})$."
   ]
  },
  {
   "cell_type": "markdown",
   "metadata": {},
   "source": [
    "## Decision Making Under Uncertainty <span name=\"S05\"></span>"
   ]
  },
  {
   "cell_type": "markdown",
   "metadata": {},
   "source": [
    "### A/B Testing <span name=\"S05-01\"></span>"
   ]
  },
  {
   "cell_type": "markdown",
   "metadata": {},
   "source": [
    "- *See [Bayesian Methods for Hackers: Probabilistic Programming and Bayesian Inference](https://camdavidsonpilon.github.io/Probabilistic-Programming-and-Bayesian-Methods-for-Hackers)*\n",
    "    - *[Chapter 1: Introduction to Bayesian Methods](http://nbviewer.jupyter.org/github/CamDavidsonPilon/Probabilistic-Programming-and-Bayesian-Methods-for-Hackers/blob/master/Chapter1_Introduction/Ch1_Introduction_PyMC3.ipynb)*\n",
    "    - *[Chapter 2: A little more on PyMC](http://nbviewer.jupyter.org/github/CamDavidsonPilon/Probabilistic-Programming-and-Bayesian-Methods-for-Hackers/blob/master/Chapter2_MorePyMC/Ch2_MorePyMC_PyMC3.ipynb)*\n",
    "    - *[Chapter 6: Getting our prior-ities straight](http://nbviewer.jupyter.org/github/CamDavidsonPilon/Probabilistic-Programming-and-Bayesian-Methods-for-Hackers/blob/master/Chapter6_Priorities/Ch6_Priors_PyMC3.ipynb)*"
   ]
  },
  {
   "cell_type": "markdown",
   "metadata": {},
   "source": [
    "#### Definition - What is A/B Testing?\n",
    "\n",
    "- A randomized experiment with two variants, $A$ and $B$, that determines which of the two variants is more effective with their respective cohorts at achieving successes in $n$ trials."
   ]
  },
  {
   "cell_type": "markdown",
   "metadata": {},
   "source": [
    "#### Bayesian Learning and A/B Testing - How do you determine which of $A$ and $B$ are better after observing $n_{A}$ and $n_{B}$ trials?\n",
    "\n",
    "1. Let $0 < p_{A} < 1$ be the unknown probability that $A$ is truly effective.\n",
    "2. Let $0 < p_{B} < 1$ be the unknown probability that $B$ is truly effective.\n",
    "3. Let $\\delta = A - B$ be the measure whether $A$ is more effective than $B$.\n",
    "4. Let $\\text{Beta}(1, 1)$ be the initial prior for $p_{A}$.\n",
    "    - Use different values for $\\alpha$ and $\\beta$ to inject a subjective prior belief about $p_{A}$.\n",
    "5. Let $\\text{Beta}(1, 1)$ be the initial prior for $p_{B}$.\n",
    "    - Use different values for $\\alpha$ and $\\beta$ to inject a subjective prior belief about $p_{B}$.\n",
    "6. Observe $n_{A}$ data points generated by a Bernoulli process with unknown, underlying $p_{A}$.\n",
    "7. Observe $n_{B}$ data points generated by a Bernoulli process with unknown, underlying $p_{B}$.\n",
    "8. Update the posterior $p_{A}$ given $n_{A}$ using Bayesian learning.\n",
    "9. Update the posterior $p_{B}$ given $n_{B}$ using Bayesian learning.\n",
    "10. Approximate the joint distribution of $\\delta$ using a MCMC constructed using MCMCs of posteriors $p_{A}$ and $p_{B}$.\n",
    "    - Count the number of samples greater than 0 for the probability that $A$ is better than $B$; i.e. the area under the curve after 0.\n",
    "    - Count the number of samples less than 0 for the probability that $A$ is worse than $B$; i.e. the area under the curve before 0."
   ]
  },
  {
   "cell_type": "markdown",
   "metadata": {},
   "source": [
    "### Multi-Armed Bandits <span name=\"S05-02\"></span>"
   ]
  },
  {
   "cell_type": "markdown",
   "metadata": {},
   "source": [
    "- *See [Reinforcement Learning: An Introduction](http://incompleteideas.net/book/the-book-2nd.html)*\n",
    "    - *Chapter 2: Multi-armed Bandits*"
   ]
  },
  {
   "cell_type": "markdown",
   "metadata": {},
   "source": [
    "#### Definition - What is the Multi-armed bandit problem?\n",
    "\n",
    "- A fixed limited set of resources must be allocated between competing (alternative) actions in a way that maximizes their expected reward, when each action's properties are only partially known at the time of allocation, and may become better understood as time passes or by allocating resources to the action."
   ]
  },
  {
   "cell_type": "markdown",
   "metadata": {},
   "source": [
    "#### Exploration-Exploitation Tradeoff Dilemma - What is the exploration-exploitation tradeoff dilemma?\n",
    "\n",
    "- **Exploitation**: If we have chosen an action that yields a pretty good reward, do we keep choosing it to maintain a pretty good reward?\n",
    "- **Exploration**: Otherwise, do we choose other actions in hopes of finding an even-better action?"
   ]
  },
  {
   "cell_type": "markdown",
   "metadata": {},
   "source": [
    "#### Learning Rule as Averaging - What is the standard form of learning rules?\n",
    "\n",
    "$$\n",
    "\\begin{aligned}\n",
    "\\text{New Estimate} \\gets \\text{Old Estimate} + \\text{Step Size} \\cdot \\left[ \\text{Target} - \\text{Old Estimate} \\right]\n",
    "\\end{aligned}\n",
    "$$"
   ]
  },
  {
   "cell_type": "markdown",
   "metadata": {},
   "source": [
    "#### $\\epsilon$-Greedy Bandits Algorithm - How do you choose actions using the $\\epsilon$-greedy bandits algorithm?\n",
    "\n",
    "1. Let $A_{t}$ be the action chosen from $k$ possibilities at time step $t$.\n",
    "2. Let $R_{t}$ be the independent and identically distributed reward yielded by action $A_{t}$.\n",
    "3. Let $Q_{t}(a)$ be the expected reward from choosing action $a$ until time step $t$.\n",
    "4. Let $N_{t}(a)$ be the number of times action $a$ was chosen until time step $t$.\n",
    "5. Initialize $Q_{0}(a) \\gets 0, \\forall a \\in \\{1, ..., k\\}$.\n",
    "6. Initialize $N_{0}(a) \\gets 0, \\forall a \\in \\{1, ..., k\\}$.\n",
    "7. Repeat for $t = 0, 1, 2, ...$,\n",
    "    1. **Set $A_{t} \\gets \\max_{a} Q_{t}(a)$ with probability $1 - \\epsilon$.**\n",
    "    2. **Set $A_{t} \\gets \\text{random}(a)$ with probability $\\epsilon$.**\n",
    "    3. Sample $R_{t} \\gets \\text{bandit}(A_{t})$.\n",
    "    4. Update $N_{t + 1}(A_{t}) \\gets N_{t}(A_{t}) + 1$.\n",
    "    5. Update $Q_{t + 1}(A_{t}) \\gets Q_{t}(A_{t}) + \\frac{1}{N_{t}(A_{t})}[R_{t} - Q_{t}(A_{t})]$."
   ]
  },
  {
   "cell_type": "markdown",
   "metadata": {},
   "source": [
    "#### $\\epsilon$-Greedy Action Selection - How does $\\epsilon$-greedy action selection work?\n",
    "\n",
    "$$\n",
    "A_{t} \\gets\n",
    "\\begin{cases}\n",
    "\\max_{a} Q_{t}(a) & \\text{ with probability } 1 - \\epsilon \\\\\n",
    "\\text{random}(a)  & \\text{ with probability } \\epsilon\n",
    "\\end{cases}\n",
    "$$\n",
    "\n",
    "- Balances exploration and exploitation by choosing randomly a small fraction of the time.\n",
    "- **Problem**: Indiscriminately, with no preference for those that are nearly greedy or particularly uncertain, selects non-greedy actions."
   ]
  },
  {
   "cell_type": "markdown",
   "metadata": {},
   "source": [
    "#### Upper-Confidence-Bound Action Selection - How does upper-confidence-bound action selection work?\n",
    "\n",
    "$$\n",
    "A_{t} \\gets \\max_{a} \\left[ Q_{t}(a) + c \\cdot \\sqrt{\\frac{\\log t}{N_{t}(a)}} \\right]\n",
    "$$\n",
    "\n",
    "- Balances exploration and exploitation by choosing deterministically but achieving exploration by subtly favoring at each step the actions that have so far received fewer samples.\n",
    "    - $\\sqrt{\\frac{\\log t}{N_{t}(a)}}$ is a measure of the uncertainty or variance in the estimate of $a$’s value.\n",
    "    - $c > 0$ determines the confidence level by controlling the degree of exploration.\n",
    "    - $\\log t$ increases the uncertainty in the estimate of $a$’s value as $a$ is exploited less.\n",
    "    - $N_{t}(a)$ decreases the uncertainty in the estimate of $a$’s value as $a$ is exploited more.\n",
    "- **Solution for $\\epsilon$-Greedy Action Selection's Problem**: As $\\log t$'s increases get smaller over time, but are unbounded; all actions will eventually be selected, but actions with lower value estimates or that have already been selected frequently, will be selected with decreasing frequency over time."
   ]
  },
  {
   "cell_type": "markdown",
   "metadata": {},
   "source": [
    "#### Thompson Sampling Bandits Algorithm - How do you choose actions using the Thompson sampling bandits algorithm?\n",
    "\n",
    "1. Let $A_{t}$ be the action chosen from $k$ possibilities at time step $t$.\n",
    "2. Let $R_{t}$ be the independent and identically distributed reward yielded by action $A_{t}$.\n",
    "3. Let $p_{t}(a)$ be the initially unknown probabilitites of the rewards yielded by choosing action $a$ until time step $t$.\n",
    "4. Repeat for $t = 0, 1, 2, ...$,\n",
    "    1. Sample a random variable $X_{a}$ using $p_{t}(a)$ for each $a \\in \\{1, ..., k\\}$.\n",
    "    2. Set $A_{t} \\gets \\max_{a} X_{a}$.\n",
    "    3. Sample $R_{t} \\gets \\text{bandit}(A_{t})$.\n",
    "    4. Update $p_{t + 1}(A_{t} \\mid R_{t}) \\propto p_{t}(R_{t} \\mid A_{t}) p_{t}(A_{t})$.\n",
    "        - *i.e., According to Bayesian learning.*"
   ]
  },
  {
   "cell_type": "markdown",
   "metadata": {},
   "source": [
    "#### Thompson Sampling Action Selection - How does Thompson sampling action selection work?\n",
    "\n",
    "$$\n",
    "\\begin{aligned}\n",
    "X_{a} &\\sim p_{t}(a) \\\\\n",
    "A_{t} &\\gets \\max_{a} X_{a}\n",
    "\\end{aligned}\n",
    "$$\n",
    "\n",
    "- Balances exploration and exploitation by sampling actions in proportion to the belief they are optimal.\n",
    "- **Solution for $\\epsilon$-Greedy Action Selection's Problem**: As TS selects actions according to **SAMPLES** from posterior distributions of the unknown probabilities that each respective action is optimal, TS explores to resolve uncertainty where there is a chance that resolution will help the agent identify the optimal action, but avoids probing where feedback would not be helpful.\n",
    "\n",
    "##### Example: Thompson Sampling Intuition\n",
    "\n",
    "![Thompson Sampling Action Selection Example](images/TS_1.png)\n",
    "\n",
    "- The wider a posterior distribution, there is more uncertainty in probability that an action is optimal, so it still has the chance of generating the best sample at time $t$ which leads to further exploration to reduce uncertainty.\n",
    "- The narrower a posterior distribution, there is less uncertainty in probability that an action is optimal, so either its action will be exploited more (if more certainty in its *optimality*) or explored less (if more certainty in its *sub-optimality*)."
   ]
  },
  {
   "cell_type": "markdown",
   "metadata": {},
   "source": [
    "#### Upper-Confidence-Bounds and Thompson Sampling\n",
    "\n",
    "- Both heuristics explore the actions that are currently predicted to be optimal, and they are optimistic about action if there is too little information.\n",
    "- **Bayesian Optimization**: Both optimize Bayesian regret and their bounds can be converted between each other."
   ]
  },
  {
   "cell_type": "markdown",
   "metadata": {},
   "source": [
    "#### Limitations of Thompson Sampling\n",
    "\n",
    "1. **Problems Not Requiring Exploration**: Some problems are better solved by a greedy algorithm.\n",
    "2. **Problems Not Requiring Exploitation**: Some problems do not need a balance between exploration and exploitation.\n",
    "3. **Time Sensitivity**: Some time-sensitive problems favor intensification of exploitation than a balance between exploration and exploitation.\n",
    "4. **Problems Requiring Careful Assessment of Information Gain**: Some problems require a more careful assessment of the information actions provide instead of favoring the most promising actions."
   ]
  },
  {
   "cell_type": "markdown",
   "metadata": {},
   "source": [
    "### Markov Decision Processes <span name=\"S05-03\"></span>"
   ]
  },
  {
   "cell_type": "markdown",
   "metadata": {},
   "source": [
    "#### Agent-Environment Interface - How does an agent interact with its environment?\n",
    "\n",
    "![Agent-Environment Interface](images/MDP_1.png)\n",
    "\n",
    "- At discrete time steps $t = 0, 1, 2, 3, ...$,\n",
    "    1. The agent observes the state from the environment, at step $t$: $S_{t} \\in \\mathcal{S}$.\n",
    "    2. The agent produces an action upon the environment, at step $t$: $A_{t} \\in \\mathcal{A}(S_{t})$.\n",
    "    3. The agent gets a resulting reward from the environment: $R_{t + 1} \\in \\mathcal{R} \\subset \\mathbb{R}$.\n",
    "    4. The environment transitions into the next state as a result of the agent's action: $S_{t + 1} \\in \\mathcal{S}^{+}$."
   ]
  },
  {
   "cell_type": "markdown",
   "metadata": {},
   "source": [
    "#### Markov Property - What is the Markov property?\n",
    "\n",
    "- A state $S_{t}$ is **Markov** if and only if,\n",
    "$$\\mathbb{P}[S_{t + 1} \\mid S_t] = \\mathbb{P}[S_{t + 1} \\mid S_{1}, ..., S_{t}]$$\n",
    "- **Important Note**: i.e., the future is independent of the past given the present."
   ]
  },
  {
   "cell_type": "markdown",
   "metadata": {},
   "source": [
    "#### Markov Process/Chain - What is a Markov process/chain?\n",
    "\n",
    "![Markov Process Example](images/MDP_2.png)\n",
    "\n",
    "- A **Markov process/chain** is a tuple $\\langle \\mathcal{S}, \\mathcal{P} \\rangle$,\n",
    "    - $\\mathcal{S}$ is a finite set of states.\n",
    "    - $\\mathcal{P}$ is a *state transition probability matrix*, $\\mathcal{P}_{ss'} = \\mathbb{P}[S_{t + 1} = s' \\mid S_{t} = s]$.\n",
    "- **Important Note**: i.e., a memoryless random process."
   ]
  },
  {
   "cell_type": "markdown",
   "metadata": {},
   "source": [
    "#### Markov Reward Process - What is a Markov reward process?\n",
    "\n",
    "![Markov Reward Process Example](images/MDP_3.png)\n",
    "\n",
    "- A **Markov reward process** is a tuple $\\langle \\mathcal{S}, \\mathcal{P}, \\mathcal{R}, \\gamma \\rangle$\n",
    "    - $\\mathcal{S}$ is a finite set of states.\n",
    "    - $\\mathcal{P}$ is a *state transition probability matrix*, $\\mathcal{P}_{ss'} = \\mathbb{P}[S_{t + 1} = s' \\mid S_{t} = s]$.\n",
    "    - $\\mathcal{R}$ is a reward function, $\\mathcal{R}_{s} = \\mathbb{E}[R_{t + 1} \\mid S_{t} = s]$.\n",
    "    - $\\gamma \\in [0, 1]$ is a discount factor."
   ]
  },
  {
   "cell_type": "markdown",
   "metadata": {},
   "source": [
    "#### Markov Decision Process - What is a Markov decision process?\n",
    "\n",
    "![Markov Decision Process Example](images/MDP_4.png)\n",
    "\n",
    "- A **Markov decision process** is a tuple $\\langle \\mathcal{S}, \\mathcal{A}, \\mathcal{P}, \\mathcal{R}, \\gamma \\rangle$\n",
    "    - $\\mathcal{S}$ is a finite set of states.\n",
    "    - $\\mathcal{A}$ is a finite set of actions.\n",
    "    - $\\mathcal{P}$ is a *state transition probability matrix*, $\\mathcal{P}_{ss'}^{a} = \\mathbb{P}[S_{t + 1} = s' \\mid S_{t} = s, A_{t} = a]$.\n",
    "    - $\\mathcal{R}$ is a reward function, $\\mathcal{R}_{s}^{a} = \\mathbb{E}[R_{t + 1} \\mid S_{t} = s, A_{t} = a]$.\n",
    "    - $\\gamma \\in [0, 1]$ is a discount factor.\n",
    "- **Important Note**: A majority of reinforcement learning problems can be formalized as MDPs."
   ]
  },
  {
   "cell_type": "markdown",
   "metadata": {},
   "source": [
    "#### Policy - What is a policy?\n",
    "\n",
    "- A **policy** $\\pi$ is a distribution over actions given states,\n",
    "$$\\pi(a \\mid s) = \\mathbb{P}[A_{t} = a \\mid S_{t} = s]$$\n",
    "- **Important Note 1**: A policy fully defines the behavior of an agent.\n",
    "- **Important Note 2**: Reinforcement learning methods specify how an agent changes its policy according to history."
   ]
  },
  {
   "cell_type": "markdown",
   "metadata": {},
   "source": [
    "#### Return - What is a return?\n",
    "\n",
    "- The **return** $G_{t}$ is some measure of reward from time-step $t$.\n",
    "$$G_{t} = R_{t + 1} + \\gamma \\cdot R_{t + 2} + ... = \\sum_{k = 0}^{\\infty} \\gamma^{k} R_{t + k + 1}$$\n",
    "- **Important Note**: Reinforcement learning methods seek to maximize the *expected return* $\\mathbb{E}[G_{t}]$, on each time-step $t$.\n",
    "\n",
    "##### Variations of Reward\n",
    "\n",
    "- **Total Reward**: The sum of all future rewards for episodic tasks.\n",
    "    - $\\gamma = 1$.\n",
    "    - $R_{t} = 0, \\forall t > T$, where $T$ is the terminal time-step.\n",
    "- **Discounted Reward**: The sum of all future discounted rewards for continuous tasks.\n",
    "    - $\\gamma \\to 0$ implies *shortsighted* rewards.\n",
    "    - $\\gamma \\to 1$ implies *farsighted* rewards.\n",
    "    - Typically, $\\gamma = 0.9$.\n",
    "- **Important Note**: A discount factor avoids infinite returns in cyclic Markov processes."
   ]
  },
  {
   "cell_type": "markdown",
   "metadata": {},
   "source": [
    "#### Value Functions - What are the 4 value functions?\n",
    "\n",
    "![4 Ideal Value Functions](images/MDP_5.png)\n",
    "\n",
    "- The **state-value function** $v_{\\pi}(s)$ is the expected return starting from state $s$, and then following policy $\\pi$.\n",
    "$$v_{\\pi}(s) = \\mathbb{E}_{\\pi}[G_{t} \\mid S_{t} = s]$$\n",
    "- The **action-value function** $q_{\\pi}(s, a)$ is the expected return starting from state $s$, taking action $a$, and then following policy $\\pi$.\n",
    "$$q_{\\pi}(s, a) = \\mathbb{E}_{\\pi}[G_{t} \\mid S_{t} = s, A_{t} = a]$$\n",
    "- The **optimal state-value function** $v_{\\ast}(s)$ is the maximum value function over all policies.\n",
    "$$v_{\\ast}(s) = \\max_{\\pi} v_{\\pi}(s)$$\n",
    "- The **optimal action-value function** $q_{\\ast}(s, a)$ is the maximum action-value function over all policies.\n",
    "$$q_{\\ast}(s, a) = \\max_{\\pi} q_{\\pi}(s, a)$$\n",
    "- **Important Note 1**: The optimal value function specifies the best possible performance in the MDP.\n",
    "- **Important Note 2**: A MDP is solved when the optimal value function is known."
   ]
  },
  {
   "cell_type": "markdown",
   "metadata": {},
   "source": [
    "#### Optimal Policy - What is an optimal policy?\n",
    "\n",
    "- **FOR ANY MDP**,\n",
    "    1. There exists an **optimal policy** $\\pi_{\\ast}$ that is better than or equal to all other policies, $\\pi_{\\ast} \\ge \\pi, \\forall \\pi$.\n",
    "$$\\pi \\ge \\pi' \\text{ if } v_{\\pi}(s) \\ge v_{\\pi'}(s), \\forall s$$\n",
    "    2. All optimal policies achieve the same optimal value function, $v_{\\pi_{\\ast}}(s) = v_{\\ast}(s)$.\n",
    "    3. All optimal policies achieve the same optimal action-value function, $q_{\\pi_{\\ast}}(s, a) = q_{\\ast}(s, a)$.\n",
    "\n",
    "##### Finding a Deterministic Optimal Policy\n",
    "\n",
    "$$\n",
    "\\pi_{\\ast}(a \\mid s) =\n",
    "\\begin{cases}\n",
    "1 &\\text{ if } a = \\max_{a \\in \\mathcal{A}} q_{\\ast}(s, a)\\\\\n",
    "0 &\\text{ otherwise}\n",
    "\\end{cases}\n",
    "$$\n",
    "- **Important Note**: The optimal policy $\\pi_{\\ast}$ is greedy with respect to $q_{\\ast}$ or $v_{\\ast}$.\n",
    "> *i.e., Deterministic Decision Making Under Uncertainty*"
   ]
  },
  {
   "cell_type": "markdown",
   "metadata": {},
   "source": [
    "#### Bellman Equation - What are the Bellman equations for the 4 value functions?\n",
    "\n",
    "##### State-Value Function\n",
    "\n",
    "$$\n",
    "\\begin{aligned}\n",
    "v_{\\pi}(s)\n",
    "&= \\mathbb{E}_{\\pi}[G_{t} \\mid S_{t} = s]\\\\\n",
    "&= \\mathbb{E}_{\\pi}[R_{t + 1} + \\gamma \\cdot v_{\\pi}(S_{t + 1}) \\mid S_{t} = s]\\\\\n",
    "&= \\sum_{a \\in \\mathcal{A}} \\pi(a \\mid s) q_{\\pi}(s, a)\\\\\n",
    "&= \\sum_{a \\in \\mathcal{A}} \\pi(a \\mid s) \\left( \\mathcal{R}_{s}^{a} + \\gamma \\sum_{s' \\in \\mathcal{S}} \\mathcal{P}_{ss'}^{a} v_{\\pi}(s') \\right)\\\\\n",
    "v_{\\pi}(s)\n",
    "&= \\sum_{a} \\pi(a \\mid s) \\left[ \\sum_{s', r} p(s', r \\mid s, a) \\left[ r + \\gamma \\cdot v_{\\pi}(s') \\right] \\right] \n",
    "\\end{aligned}\n",
    "$$\n",
    "\n",
    "##### Action-Value Function\n",
    "\n",
    "$$\n",
    "\\begin{aligned}\n",
    "q_{\\pi}(s, a)\n",
    "&= \\mathbb{E}_{\\pi}[G_{t} \\mid S_{t} = s, A_{t} = a]\\\\\n",
    "&= \\mathbb{E}_{\\pi}[R_{t + 1} + \\gamma \\cdot q_{\\pi}(S_{t + 1}, A_{t + 1}) \\mid S_{t} = s, A_{t} = a]\\\\\n",
    "&= \\mathcal{R}_{s}^{a} + \\gamma \\sum_{s' \\in \\mathcal{S}} \\mathcal{P}_{ss'}^{a} v_{\\pi}(s')\\\\\n",
    "&= \\mathcal{R}_{s}^{a} + \\gamma \\sum_{s' \\in \\mathcal{S}} \\mathcal{P}_{ss'}^{a} \\left( \\sum_{a' \\in \\mathcal{A}} \\pi(a' \\mid s') q_{\\pi}(s', a') \\right)\\\\\n",
    "q_{\\pi}(s, a)\n",
    "&= \\sum_{s', r} p(s', r \\mid s, a) \\left[ r + \\gamma \\cdot v_{\\pi}(s') \\right]\n",
    "\\end{aligned}\n",
    "$$\n",
    "\n",
    "##### Optimal State-Value Function\n",
    "\n",
    "$$\n",
    "\\begin{aligned}\n",
    "v_{\\ast}(s)\n",
    "&= \\max_{a} q_{\\ast}(s, a)\\\\\n",
    "&= \\max_{a} \\left( \\mathcal{R}_{s}^{a} + \\gamma \\sum_{s' \\in \\mathcal{S}} \\mathcal{P}_{ss'}^{a} v_{\\ast}(s') \\right)\\\\\n",
    "v_{\\ast}(s)\n",
    "&= \\max_{a} \\sum_{s', r} p(s', r \\mid s, a) \\left[ r + \\gamma \\cdot v_{\\ast}(s') \\right]\n",
    "\\end{aligned}\n",
    "$$\n",
    "\n",
    "##### Optimal Action-Value Function\n",
    "\n",
    "$$\n",
    "\\begin{aligned}\n",
    "q_{\\ast}(s, a)\n",
    "&= \\mathcal{R}_{s}^{a} + \\gamma \\sum_{s' \\in \\mathcal{S}} \\mathcal{P}_{ss'}^{a} v_{\\ast}(s') \\\\\n",
    "&= \\mathcal{R}_{s}^{a} + \\gamma \\sum_{s' \\in \\mathcal{S}} \\mathcal{P}_{ss'}^{a} \\left( \\max_{a'} q_{\\ast}(s', a') \\right)\\\\\n",
    "q_{\\ast}(s, a)\n",
    "&= \\sum_{s', r} p(s', r \\mid s, a) \\left[ r + \\gamma \\cdot \\max_{a'} q_{\\ast}(s', a') \\right]\n",
    "\\end{aligned}\n",
    "$$"
   ]
  },
  {
   "cell_type": "markdown",
   "metadata": {},
   "source": [
    "## Reinforcement Learning <span name=\"S06\"></span>"
   ]
  },
  {
   "cell_type": "markdown",
   "metadata": {},
   "source": [
    "### Dynamic Programming <span name=\"S06-01\"></span>"
   ]
  },
  {
   "cell_type": "markdown",
   "metadata": {},
   "source": [
    "#### Motivation - Why do you use dynamic programming to solve MDPs?\n",
    "\n",
    "- MDPs have optimal substructure and overlapping subproblems in the recursive decomposition of Bellman equations.\n",
    "- Appropriately, dynamic programming is used for *planning* in a MDP to predict and to control.\n",
    "    - **Prediction**: Given a MDP $\\langle \\mathcal{S}, \\mathcal{A}, \\mathcal{P}, \\mathcal{R}, \\gamma \\rangle$ and a policy $\\pi$, output a value function $v_{\\pi}$.\n",
    "    - **Control**: Given a MDP $\\langle \\mathcal{S}, \\mathcal{A}, \\mathcal{P}, \\mathcal{R}, \\gamma \\rangle$, output the optimal value function $v_{\\ast}$ and the optimal policy $\\pi_{\\ast}$.\n",
    "- *Caveats 1: Requires Full Knowledge of MDP.*\n",
    "- *Caveats 2: Polynomial Time, Yet Astronomically Large Number of States.*"
   ]
  },
  {
   "cell_type": "markdown",
   "metadata": {},
   "source": [
    "#### Policy Evaluation - How do you use dynamic programming to perform prediction?\n",
    "\n",
    "![Policy Evaluation Algorithm](images/DP_RL_1.png)"
   ]
  },
  {
   "cell_type": "markdown",
   "metadata": {},
   "source": [
    "#### Policy Improvement Theorem - How does policy iteration converge to the optimal policy?\n",
    "\n",
    "![Policy Improvement Theorem](images/DP_RL_2.png)\n",
    "\n",
    "- Given a policy $\\pi$,\n",
    "    1. **Evaluate** the policy $\\pi$,\n",
    "$$v_{\\pi}(s) = \\mathbb{E}_{\\pi}[G_{t} \\mid S_{t} = s]$$\n",
    "    2. **Improve** the policy by acting greedily with respect to $v_{\\pi}$.\n",
    "$$\\pi' = \\text{Greedy}(v_{\\pi})$$\n",
    "- The process of **policy iteration** has $\\pi'$ converge to $\\pi_{\\ast}$ in a finite number of steps."
   ]
  },
  {
   "cell_type": "markdown",
   "metadata": {},
   "source": [
    "#### Policy Iteration - How do you use dynamic programming to perform control?\n",
    "\n",
    "![Policy Iteration Algorithm](images/DP_RL_3.png)"
   ]
  },
  {
   "cell_type": "markdown",
   "metadata": {},
   "source": [
    "#### Backup Operations - What are sweeps and backups?\n",
    "\n",
    "![Backup and Sweeps](images/DP_RL_4.png)\n",
    "\n",
    "- A **backup** is a one-step lookahead, iterative application of the Bellman equation.\n",
    "- A **sweep** is the iterative application of the backup operation to each state.\n",
    "- **Full Policy-Evaluation Backup**:\n",
    "$$v_{k + 1}(s) = \\sum_{a} \\pi(a \\mid s) \\sum_{s', r} p(s', r \\mid s, a) \\left[ r + \\gamma \\cdot v_{k}(s') \\right], \\forall s \\in S$$\n",
    "- **Full Value-Iteration Backup**:\n",
    "$$v_{k + 1}(s) = \\max_{a} \\sum_{s', r} p(s', r \\mid s, a) \\left[ r + \\gamma \\cdot v_{k}(s') \\right], \\forall s \\in S$$"
   ]
  },
  {
   "cell_type": "markdown",
   "metadata": {},
   "source": [
    "#### Value Iteration - How do you use dynamic programming to output a deterministic policy?\n",
    "\n",
    "![Value Iteration Algorithm](images/DP_RL_5.png)"
   ]
  },
  {
   "cell_type": "markdown",
   "metadata": {},
   "source": [
    "#### Backup Diagram - N/A\n",
    "\n",
    "![Dynamic Programming Backup Diagram](images/DP_RL_6.png)\n",
    "\n",
    "- **Important Note**: DP considers all the choices at each state, so it suffers a performance dilemma."
   ]
  },
  {
   "cell_type": "markdown",
   "metadata": {},
   "source": [
    "### Monte-Carlo Reinforcement Learning <span name=\"S06-02\"></span>"
   ]
  },
  {
   "cell_type": "markdown",
   "metadata": {},
   "source": [
    "#### Motivation - Why does Monte-Carlo reinforcement learning exist?\n",
    "\n",
    "- **Goal**: How do you learn $v_{\\pi}$ from episodes of experience under policy $\\pi$?\n",
    "    - *i.e. Model-Free Prediction*\n",
    "- **Approach**: Apply Monte-Carlo methods to learn $v_{\\pi}$ as the *empirical mean return* instead of *expected return*.\n",
    "    - **Advantages**: *No Bootstrapping, Model-Free, Time Complexity Independent from Number of States*\n",
    "    - **Disadvantages**: *All Episodes Must Terminate*"
   ]
  },
  {
   "cell_type": "markdown",
   "metadata": {},
   "source": [
    "#### First-Visit Monte-Carlo Policy Evaluation - How does first-visit Monte-Carlo policy evaluation perform prediction?\n",
    "\n",
    "- To evaluate state $s$, the **first** time-step $t$ that state $s$ is visted in an episode,\n",
    "    1. Increment counter $N(s) \\gets N(s) + 1$.\n",
    "    2. Increment total return $S(s) \\gets S(s) + G_{t}$.\n",
    "    3. Value is estimated by mean return $V(s) = \\frac{S(s)}{N(s)}$.\n",
    "- By the weak law of large numbers, $V(s) \\to v_{\\pi}(s)$ as $N(s) \\to \\infty$."
   ]
  },
  {
   "cell_type": "markdown",
   "metadata": {},
   "source": [
    "#### Every-Visit Monte-Carlo Policy Evaluation - How does every-visit Monte-Carlo policy evaluation perform prediction?\n",
    "\n",
    "- To evaluate state $s$, the **every** time-step $t$ that state $s$ is visted in an episode,\n",
    "    1. Increment counter $N(s) \\gets N(s) + 1$.\n",
    "    2. Increment total return $S(s) \\gets S(s) + G_{t}$.\n",
    "    3. Value is estimated by mean return $V(s) = \\frac{S(s)}{N(s)}$.\n",
    "- By the weak law of large numbers, $V(s) \\to v_{\\pi}(s)$ as $N(s) \\to \\infty$."
   ]
  },
  {
   "cell_type": "markdown",
   "metadata": {},
   "source": [
    "#### Backup Diagram - N/A\n",
    "\n",
    "![Monte-Carlo Backup Diagram](images/MC_RL_1.png)\n",
    "\n",
    "- **Important Note**: MC considers only one choice at each state, so it suffers from an explore/exploit dilemma."
   ]
  },
  {
   "cell_type": "markdown",
   "metadata": {},
   "source": [
    "#### Monte-Carlo Exploring Starts - How do you use Monte-Carlo Exploring Starts method to perform control?\n",
    "\n",
    "![Monte-Carlo Exploring Starts Methods](images/MC_RL_2.png)\n",
    "\n",
    "- **Exploring Starts**: Requires every state-action pair to have a non-zero probability of being the starting pair.\n",
    "    - **Advantages**: *Asymptotically Converges*\n",
    "    - **Disadvantages**: *Restricts Modelling*"
   ]
  },
  {
   "cell_type": "markdown",
   "metadata": {},
   "source": [
    "#### On-Policy Monte-Carlo - How do you use On-Policy Monte-Carlo method to perform control?\n",
    "\n",
    "![On-Policy Monte-Carlo Method](images/MC_RL_3.png)\n",
    "\n",
    "- **On-Policy Learning**: Learn about policy $\\pi$ from experience sampled from $\\pi$.\n",
    "    - *i.e. Learn on the job.*\n",
    "- **Soft Policy**: Requires every state-action pair to have a non-zero probability.\n",
    "    - **Advantages**: *Removes Exploring Starts*"
   ]
  },
  {
   "cell_type": "markdown",
   "metadata": {},
   "source": [
    "#### Off-Policy Monte Carlo - How do you use Off-Policy Monte-Carlo method to perform control?\n",
    "\n",
    "![Off-Policy Monte-Carlo Method 1](images/MC_RL_4.png)\n",
    "\n",
    "![Off-Policy Monte-Carlo Method 2](images/MC_RL_5.png)\n",
    "\n",
    "- **Off-Policy Learning**: Learn about policy $\\pi$ from experience sampled from behavior policy $b$.\n",
    "    - *i.e. Look over someone's shoulder.*\n",
    "- **Behavior Policy**: Requires $b$ generates behavior that covers, or includes, $\\pi$.\n",
    "$$b(a \\mid s) > 0 \\implies \\pi(a \\mid s) > 0, \\forall a \\in \\mathcal{A}, s \\in \\mathcal{S}$$\n",
    "    - **Question**: How do you extract/emphasize $\\pi$ from $b$?\n",
    "    - **Answer**: Use importance sampling.\n",
    "- **Importance Sampling**: Weigh each return by the ratio of the probabilities of the trajectory under the two policies."
   ]
  },
  {
   "cell_type": "markdown",
   "metadata": {},
   "source": [
    "#### Importance Sampling - How do you calculate state-value function using importance sampling?\n",
    "\n",
    "- **Importance Sampling Ratio**: A relative probability of the trajectory under the two policies.\n",
    "$$\\rho_{t : T - 1} = \\prod_{k = t}^{T - 1} \\frac{\\pi(A_{k} \\mid S_{k})}{b(A_{k} \\mid S_{k})}$$\n",
    "$$\\mathbb{E}\\left[ \\frac{\\pi(A_{k} \\mid S_{k})}{b(A_{k} \\mid S_{k})} \\right] = 1$$"
   ]
  },
  {
   "cell_type": "markdown",
   "metadata": {},
   "source": [
    "#### Monte-Carlo Methods vs. Dynamic Programming - What are the advantages and disadvantages of Monte-Carlo methods?\n",
    "\n",
    "##### Advantages\n",
    "\n",
    "- *Learn Directly from Interactions with Environment*\n",
    "- *Does Not Require Full Models*\n",
    "- *Does Not Require Learning About All States (No Bootstrapping)*\n",
    "- *Less Harmed by Violating Markov Property*\n",
    "\n",
    "##### Disadvantages\n",
    "\n",
    "- *Requires Sufficient Exploration*\n",
    "- *Requires Exploring Starts or Soft Policies*"
   ]
  },
  {
   "cell_type": "markdown",
   "metadata": {},
   "source": [
    "### Temporal Difference Reinforcement Learning <span name=\"S06-03\"></span>"
   ]
  },
  {
   "cell_type": "markdown",
   "metadata": {},
   "source": [
    "#### Motivation - Why does temporal difference reinforcement learning exist?\n",
    "\n",
    "- **Goal**: How do you learn $v_{\\pi}$ from incomplete episodes of experience under policy $\\pi$?\n",
    "    - *i.e. Model-Free Prediction*\n",
    "- **Approach**: Update an estimate of $v_{\\pi}$ with an estimated return $G_{t}^{(n)}$ such as $G_{t}^{(1)} = R_{t + 1} + \\gamma \\cdot V(S_{t + 1})$.\n",
    "    - **Advantages**: *Model-Free, Time Complexity Independent from Number of States, Incomplete Episodes*\n",
    "    - **Disadvantages**: *Bootstrapping*"
   ]
  },
  {
   "cell_type": "markdown",
   "metadata": {},
   "source": [
    "#### TD(0) Policy Evaluation - How does TD(0) policy evaluation perform prediction?\n",
    "\n",
    "- Update value $V(S_{t})$ toward the estimated return $R_{t + 1} + \\gamma \\cdot V(S_{t + 1})$.\n",
    "$$V(S_{t}) \\gets V(S_{t}) + \\alpha \\left( R_{t + 1} + \\gamma \\cdot V(S_{t + 1}) - V(S_{t}) \\right)$$\n",
    "    - Where $\\alpha$ is a constant step-size.\n",
    "        - e.g., $\\alpha = \\frac{1}{N(s = S_{t})}$\n",
    "    - Where $R_{t + 1} + \\gamma \\cdot V(S_{t + 1})$ is the **TD target**.\n",
    "    - Where $\\delta_{t} = R_{t + 1} + \\gamma \\cdot V(S_{t + 1}) - V(S_{t})$ is the **TD error**."
   ]
  },
  {
   "cell_type": "markdown",
   "metadata": {},
   "source": [
    "#### Backup Diagram - N/A\n",
    "\n",
    "![Temporal Difference Backup Diagram](images/TD_RL_1.png)"
   ]
  },
  {
   "cell_type": "markdown",
   "metadata": {},
   "source": [
    "#### Temporal Difference vs. Monte-Carlo - What are the advantages and disadvantages of temporal difference methods?\n",
    "\n",
    "##### Advantages\n",
    "\n",
    "- *Learn Without/Before Final Outcome*\n",
    "- *Learn From Incomplete/Non-Terminating Sequences*\n",
    "- *Low Variance*\n",
    "- *Memory Efficienct*\n",
    "- *Exploits Markov Property $\\implies$ Less Error & Faster Convergence*\n",
    "\n",
    "##### Disadvantages\n",
    "\n",
    "- *Some Bias*\n",
    "- *More Sensitive to Initial Parameters*"
   ]
  },
  {
   "cell_type": "markdown",
   "metadata": {},
   "source": [
    "#### SARSA - How is on-policy TD control achieved?\n",
    "\n",
    "![SARSA Algorithm](images/TD_RL_2.png)"
   ]
  },
  {
   "cell_type": "markdown",
   "metadata": {},
   "source": [
    "#### Q-Learning - How is off-policy TD control achieved?\n",
    "\n",
    "![Q-Learning Algorithm](images/TD_RL_3.png)"
   ]
  },
  {
   "cell_type": "markdown",
   "metadata": {},
   "source": [
    "#### Expected SARSA - N/A\n",
    "\n",
    "$$\n",
    "\\begin{aligned}\n",
    "Q(S_{t}, A_{t}) &= Q(S_{t}, A_{t}) + \\alpha \\left[ R_{t + 1} + \\gamma \\cdot \\mathbb{E}[Q(S_{t + 1}, A_{t + 1}) \\mid S_{t + 1}] - Q(S_{t}, A_{t}) \\right] \\\\\n",
    "Q(S_{t}, A_{t}) &= Q(S_{t}, A_{t}) + \\alpha \\left[ R_{t + 1} + \\gamma \\cdot \\sum_{a} \\pi(a \\mid S_{t + 1})Q(S_{t + 1}, a) - Q(S_{t}, A_{t}) \\right]\n",
    "\\end{aligned}\n",
    "$$"
   ]
  },
  {
   "cell_type": "markdown",
   "metadata": {},
   "source": [
    "#### SARSA vs. Q-Learning - What are the similarities and differences between SARSA and Q-Learning?\n",
    "\n",
    "##### SARSA\n",
    "\n",
    "- *On-Policy*\n",
    "- *Chooses Action, Sees Result*\n",
    "- *Update It's Value Function With Result*\n",
    "- *Yes Guarantee Convergence*\n",
    "\n",
    "##### Q-Learning\n",
    "\n",
    "- *Off-Policy*\n",
    "- *Chooses Action, Sees Result*\n",
    "- *Update It's Value Function With Different Action*\n",
    "- *No Guarantee Convergence*"
   ]
  },
  {
   "cell_type": "markdown",
   "metadata": {},
   "source": [
    "### Multi-Step Reinforcement Learning <span name=\"S06-04\"></span>"
   ]
  },
  {
   "cell_type": "markdown",
   "metadata": {},
   "source": [
    "#### Unified View of Reinforcement Learning - How are MC and TD methods of reinforcement learning related?\n",
    "\n",
    "![Unified View of Reinforcement Learning](images/MS_RL_1.png)\n",
    "\n",
    "- **MC**: $n = \\infty$-Steps of Predictions.\n",
    "    - $G_{t} = R_{t + 1} + \\gamma \\cdot R_{t + 2} + \\gamma^{2} \\cdot R_{t + 3} + ... + \\gamma^{T - t - 1} \\cdot R_{T}$\n",
    "- **TD**: $n = 1$-Steps of Predictions.\n",
    "    - $G_{t : t + 1} = R_{t + 1} + \\gamma \\cdot V_{t}(S_{t + 1})$"
   ]
  },
  {
   "cell_type": "markdown",
   "metadata": {},
   "source": [
    "#### $n$-Step TD - How do you use $n$-step TD to perform prediction?\n",
    "\n",
    "![n-Step TD Algorithm](images/MS_RL_2.png)\n",
    "\n",
    "- **$n$-Step Return** (*Forwards*): $G_{t : t + n} = R_{t + 1} + \\gamma \\cdot R_{t + 2} + ... + \\gamma^{n - 1} \\cdot R_{t + n} + \\gamma^{n} \\cdot V_{t + n - 1}(S_{t + n})$\n",
    "- **$n$-Step TD** (*Backwards*): $V_{t + n}(S_{t}) = V_{t + n - 1}(S_{t}) + \\alpha \\left[ G_{t : t + n} - V_{t + n - 1}(S_{t}) \\right]$\n",
    "- **Important Note 1**: The last $n$ states must be kept in memory.\n",
    "- **Important Note 2**: Actual learning is delayed by $n$ steps."
   ]
  },
  {
   "cell_type": "markdown",
   "metadata": {},
   "source": [
    "#### On-Policy $n$-Step Control - How does the $n$-step method change on-policy control methods?\n",
    "\n",
    "##### $n$-Step SARSA\n",
    "\n",
    "$$\n",
    "\\begin{aligned}\n",
    "G_{t : t + n} &= R_{t + 1} + \\gamma \\cdot R_{t + 2} + ... + \\gamma^{n - 1} \\cdot R_{t + n} + \\gamma^{n} \\cdot Q_{t + n - 1}(S_{t + n}, A_{t + n}) \\\\\n",
    "Q_{t + n}(S_{t}, A_{t}) &= Q_{t + n - 1}(S_{t}, A_{t}) + \\alpha \\left[ G_{t : t + n} - Q_{t + n - 1}(S_{t}, A_{t}) \\right]\n",
    "\\end{aligned}\n",
    "$$\n",
    "\n",
    "##### $n$-Step Expected SARSA\n",
    "\n",
    "$$\n",
    "\\begin{aligned}\n",
    "G_{t : t + n} &= R_{t + 1} + \\gamma \\cdot R_{t + 2} + ... + \\gamma^{n - 1} \\cdot R_{t + n} + \\gamma^{n} \\cdot \\mathbb{E}[Q_{t + n - 1}(S_{t + n}, A_{t + n}) \\mid S_{t + n}] \\\\\n",
    "G_{t : t + n} &= R_{t + 1} + \\gamma \\cdot R_{t + 2} + ... + \\gamma^{n - 1} \\cdot R_{t + n} + \\gamma^{n} \\cdot \\sum_{a} \\pi(a \\mid S_{t + n})Q_{t + n - 1}(S_{t + n}, a) \\\\\n",
    "Q_{t + n}(S_{t}, A_{t}) &= Q_{t + n - 1}(S_{t}, A_{t}) + \\alpha \\left[ G_{t : t + n} - Q_{t + n - 1}(S_{t}, A_{t}) \\right]\n",
    "\\end{aligned}\n",
    "$$"
   ]
  },
  {
   "cell_type": "markdown",
   "metadata": {},
   "source": [
    "#### Off-Policy $n$-Step Control - How does the $n$-step method change off-policy control methods?\n",
    "\n",
    "##### Importance-Sampling Ratio\n",
    "\n",
    "$$\\rho_{t : h} = \\prod_{k = t}^{\\min(h, T - 1)} \\frac{\\pi(A_{k} \\mid S_{k})}{b(A_{k} \\mid S_{k})}$$\n",
    "\n",
    "##### Off-Policy $n$-Step TD\n",
    "\n",
    "$V_{t + n}(S_{t}) = V_{t + n - 1}(S_{t}) + \\alpha \\rho_{t : t + n - 1} \\left[ G_{t : t + n} - V_{t + n - 1}(S_{t}) \\right]$\n",
    "- Where $G_{t : t + n}$ is previously defined.\n",
    "\n",
    "##### Off-Policy $n$-Step SARSA\n",
    "\n",
    "$Q_{t + n}(S_{t}, A_{t}) = Q_{t + n - 1}(S_{t}, A_{t}) + \\alpha \\rho_{t + 1 : t + n - 1} \\left[ G_{t : t + n} - Q_{t + n - 1}(S_{t}, A_{t}) \\right]$\n",
    "- Where $G_{t : t + n}$ is previously defined.\n",
    "\n",
    "##### Off-Policy $n$-Step Expected SARSA\n",
    "\n",
    "$Q_{t + n}(S_{t}, A_{t}) = Q_{t + n - 1}(S_{t}, A_{t}) + \\alpha \\rho_{t + 1 : t + n - 2} \\left[ G_{t : t + n} - Q_{t + n - 1}(S_{t}, A_{t}) \\right]$\n",
    "- Where $G_{t : t + n}$ is previously defined."
   ]
  },
  {
   "cell_type": "markdown",
   "metadata": {},
   "source": [
    "#### $\\lambda$-Return - What is $\\lambda$-return?\n",
    "\n",
    "- **$\\lambda$-Return**: The return from averaging all $n$-step backups with $\\lambda^{n - 1}$ weights.\n",
    "$$R_{t}^{\\lambda} = (1 - \\lambda) \\sum_{n = 1}^{\\infty} \\lambda^{n - 1} R_{t}^{(n)}$$\n",
    "$$\\Delta V_{t}(s_t) = \\alpha \\left[ R_{t}^{\\lambda} - V_{t}(s_{t}) \\right]$$\n",
    "- If $\\lambda = 1$, TD$(1)$ is MC.\n",
    "- If $\\lambda = 1$, TD$(0)$ is TD$(0)$."
   ]
  },
  {
   "cell_type": "markdown",
   "metadata": {},
   "source": [
    "#### Eligibility Trace - How do you use eligibility traces to compute TD$(\\lambda)$?\n",
    "\n",
    "- **Eligibility Trace**: A backward view mechanism for implementing TD$(\\lambda)$ by decaying all traces by $\\gamma \\lambda$ and increment the race for the current state by 1, and accumulating the trace.\n",
    "$$\n",
    "e_{t}(s) =\n",
    "\\begin{cases}\n",
    "\\gamma \\lambda e_{t - 1}(s) &\\text{if } s \\ne s_{t} \\\\\n",
    "\\gamma \\lambda e_{t - 1}(s) + 1 &\\text{if } s = s_{t}\n",
    "\\end{cases}\n",
    "$$\n",
    "$$\\delta_{t} = r_{t + 1} + \\gamma V_{t}(s_{t + 1}) - V_{t}(s_{t})$$\n",
    "$$V_{t + 1}(s) = V_{t}(s) + \\alpha \\delta_{t} e_{t}(s)$$\n",
    "- **Important Note**: Although TD$(1)$ is MC, TD$(1)$ executes incrementally and online."
   ]
  },
  {
   "cell_type": "markdown",
   "metadata": {},
   "source": [
    "#### Online Tabular TD$(\\lambda)$ Algorithm - How does $\\lambda$ extend TD for prediction?\n",
    "\n",
    "![Online Tabular TD$(\\lambda)$ Algorithm](images/MS_RL_4.png)"
   ]
  },
  {
   "cell_type": "markdown",
   "metadata": {},
   "source": [
    "#### SARSA$(\\lambda)$ Algorithm - How does $\\lambda$ extend SARSA for on-policy control?\n",
    "\n",
    "![SARSA$(\\lambda)$ Algorithm](images/MS_RL_3.png)"
   ]
  },
  {
   "cell_type": "markdown",
   "metadata": {},
   "source": [
    "#### Watkin's Q$(\\lambda)$ Algorithm - How does Watkin's algorithm achieve off-policy control?\n",
    "\n",
    "![Watkin's Q$(\\lambda)$ Algorithm](images/MS_RL_5.png)\n",
    "\n",
    "1. Zero out eligibility trace after a non-greedy action.\n",
    "2. Take the maximum when backing up at the first non-greedy choice.\n",
    "\n",
    "$$\n",
    "e_{t}(s, a) =\n",
    "\\begin{cases}\n",
    "\\gamma \\lambda e_{t - 1}(s, a) + 1 &\\text{if } s = s_{t}, a = a_{t}, Q_{t - 1}(s_{t}, a_{t}) = \\max_{a} Q_{t - 1}(s_{t}, a) \\\\\n",
    "0 &\\text{if } Q_{t - 1}(s_{t}, a_{t}) \\ne \\max_{a} Q_{t - 1}(s_{t}, a) \\\\\n",
    "\\gamma \\lambda e_{t - 1}(s, a) &\\text{otherwise}\n",
    "\\end{cases}\n",
    "$$\n",
    "$$\\delta_{t} = r_{t + 1} + \\gamma \\max_{a'} Q_{t}(s_{t + 1}, a') - Q_{t}(s_{t}, a_{t})$$\n",
    "$$Q_{t + 1}(s, a) = Q_{t}(s, a) + \\alpha \\delta_{t} e_{t}(s, a)$$\n",
    "\n",
    "##### Peng's Q$(\\lambda)$ Variant\n",
    "\n",
    "1. Never zero out eligibility trace after a non-greedy action.\n",
    "2. Take the maximum when backing up at the last non-greedy choice.\n",
    "\n",
    "##### Naive Q$(\\lambda)$ Variant\n",
    "\n",
    "1. Never zero out eligibility trace after a non-greedy action.\n",
    "2. Take the maximum when backing up at current action."
   ]
  },
  {
   "cell_type": "markdown",
   "metadata": {},
   "source": [
    "### Value Function Approximation <span name=\"S06-05\"></span>"
   ]
  },
  {
   "cell_type": "markdown",
   "metadata": {},
   "source": [
    "#### Motivation - Why does value function approximation exist?\n",
    "\n",
    "- **Goal**: How do you represent a value function for a very large MDP whose states and/or actions cannot be all stored in memory inside a lookup table?\n",
    "- **Approach**: Estimate the value function with function approximation, generalizing from known states to unknown states and updating parameter $\\pmb{w}$ using MC or TD learning.\n",
    "$$\n",
    "\\begin{aligned}\n",
    "\\hat{v}(s, \\pmb{w}) &\\approx v_{\\pi}(s) \\\\\n",
    "\\hat{q}(s, a, \\pmb{w}) &\\approx q_{\\pi}(s, a) \\\\\n",
    "\\end{aligned}\n",
    "$$\n",
    "\n",
    "##### Differentiable Function Approximators\n",
    "\n",
    "- Linear Combination of Features\n",
    "- Neural Network"
   ]
  },
  {
   "cell_type": "markdown",
   "metadata": {},
   "source": [
    "#### Gradient Descent - What is gradient descent?\n",
    "\n",
    "- Let $J(\\pmb{w})$ be a differentiable function of parameter vector $\\pmb{w}$.\n",
    "- The **gradient** of $J(\\pmb{w})$ is the following.\n",
    "$$\n",
    "\\nabla_{\\pmb{w}} J(\\pmb{w}) =\n",
    "\\left(\n",
    "\\begin{array}{c}\n",
    "\\frac{\\partial J(\\pmb{w})}{\\partial \\pmb{w}_{1}} \\\\\n",
    "\\vdots \\\\\n",
    "\\frac{\\partial J(\\pmb{w})}{\\partial \\pmb{w}_{n}}\n",
    "\\end{array}\n",
    "\\right)\n",
    "$$\n",
    "- **Gradient Descent**: Adjust $\\pmb{w}$ in the direction of the negative gradient to find a local minimum of $J(\\pmb{w})$.\n",
    "$$\\Delta \\pmb{w} = -\\frac{1}{2} \\alpha \\nabla_{\\pmb{w}} J(\\pmb{w})$$\n",
    "    - Where $\\alpha$ is a step-size parameter."
   ]
  },
  {
   "cell_type": "markdown",
   "metadata": {},
   "source": [
    "#### Stochastic Gradient Descent - How do you use stochastic gradient descent to approximate the value function?\n",
    "\n",
    "1. Find a parameter vector $\\pmb{w}$ minimising mean-squared error between the *approximate value function* $\\hat{v}(s, \\pmb{w})$ and the *true value function* $v_{\\pi}(s)$.\n",
    "$$J(\\pmb{w}) = \\mathbb{E}_{\\pi}\\left[ \\left( v_{\\pi}(S) - \\hat{v}(S, \\pmb{w}) \\right)^{2} \\right]$$\n",
    "2. A gradient descent finds a local minimum of $J(\\pmb{w})$ such that the parameter vector $\\pmb{w}$ has the approximate value function close to the true value function.\n",
    "$$\\Delta \\pmb{w} = \\alpha \\mathbb{E}_{\\pi}\\left[ \\left( v_{\\pi}(S) - \\hat{v}(S, \\pmb{w}) \\right) \\nabla_{\\pmb{w}} \\hat{v}(S, \\pmb{w}) \\right]$$\n",
    "3. Stochastic gradient descent samples the gradient.\n",
    "$$\\Delta \\pmb{w} = \\alpha \\left( v_{\\pi}(S) - \\hat{v}(S, \\pmb{w}) \\right) \\nabla_{\\pmb{w}} \\hat{v}(S, \\pmb{w})$$"
   ]
  },
  {
   "cell_type": "markdown",
   "metadata": {},
   "source": [
    "#### Linear Value Function Approximation - What is one approximate value function representation?\n",
    "\n",
    "##### Linear Combination of Features\n",
    "\n",
    "$$\\hat{v}(S, \\pmb{w}) = \\pmb{x}(S)^{T} \\pmb{w} = \\sum_{j = 1}^{n} \\pmb{x}_{j}(S) \\pmb{w}_{j}$$\n",
    "- Where $\\pmb{x}$ is a feature vector constructed from the original perceptron, the Least-Mean-Square (LMS) algorithm, Support Vector Machines (SVMs), or etc....\n",
    "\n",
    "##### Properties\n",
    "\n",
    "1. The objective function is quadratic in parameters $\\pmb{w}$:\n",
    "$$J(\\pmb{w}) = \\mathbb{E}_{\\pi}\\left[ \\left( v_{\\pi}(S) - \\pmb{x}(S)^{T} \\pmb{w} \\right)^{2} \\right]$$\n",
    "2. The stochastic gradient descent converges on the **GLOBAL OPTIMUM**.\n",
    "3. The update rule is simple:\n",
    "$$\n",
    "\\begin{aligned}\n",
    "\\nabla_{\\pmb{w}} \\hat{v}(S, \\pmb{w}) &= \\pmb{x}(S) \\\\\n",
    "\\Delta \\pmb{w} &= \\alpha \\left( v_{\\pi}(S) - \\hat{v}(S, \\pmb{w}) \\right) \\pmb{x}(S) \\\\\n",
    "\\text{Update} &= \\text{Step-Size} \\times \\text{Prediction Error} \\times \\text{Feature Value}\n",
    "\\end{aligned}\n",
    "$$"
   ]
  },
  {
   "cell_type": "markdown",
   "metadata": {},
   "source": [
    "#### Incremental Prediction Algorithms - How do you substitute the true value function $v_{\\pi}(s)$ in linear value function approximation?\n",
    "\n",
    "- For MC, the substitute is the return $G_{t}$.\n",
    "$$\\Delta \\pmb{w} = \\alpha \\left( G_{t} - \\hat{v}(S_{t}, w) \\right) \\nabla_{\\pmb{w}} \\hat{v}(S_{t}, \\pmb{w})$$\n",
    "- For TD$(0)$, the substitute is the TD target $R_{t + 1} + \\gamma \\cdot \\hat{v}(S_{t + 1}, \\pmb{w})$.\n",
    "$$\\Delta \\pmb{w} = \\alpha \\left( R_{t + 1} + \\gamma \\cdot \\hat{v}(S_{t + 1}, \\pmb{w}) - \\hat{v}(S_{t}, w) \\right) \\nabla_{\\pmb{w}} \\hat{v}(S_{t}, \\pmb{w})$$\n",
    "- For TD$(\\lambda)$, the substitute is the $\\lambda$-return $G_{t}^{\\lambda}$.\n",
    "$$\\Delta \\pmb{w} = \\alpha \\left( G_{t}^{\\lambda} - \\hat{v}(S_{t}, w) \\right) \\nabla_{\\pmb{w}} \\hat{v}(S_{t}, \\pmb{w})$$"
   ]
  },
  {
   "cell_type": "markdown",
   "metadata": {},
   "source": [
    "#### Gradient MC - N/A\n",
    "\n",
    "![Gradient MC](images/VA_1.png)"
   ]
  },
  {
   "cell_type": "markdown",
   "metadata": {},
   "source": [
    "#### Gradient TD - N/A\n",
    "\n",
    "![Gradient TD](images/VA_2.png)"
   ]
  },
  {
   "cell_type": "markdown",
   "metadata": {},
   "source": [
    "#### Gradient On-Policy Control - N/A\n",
    "\n",
    "##### Learning Rule\n",
    "\n",
    "$$\\pmb{w}_{t + 1} = \\pmb{w}_{t} + \\alpha \\left[ U_{t} - \\hat{q}(S_{t}, A_{t}, \\pmb{w}_{t}) \\right] \\nabla \\hat{q}(S_{t}, A_{t}, \\pmb{w}_{t})$$\n",
    "\n",
    "1. **MC**: $U_{t} = G_{t}$\n",
    "2. **SARSA**: $U_{t} = R_{t + 1} + \\gamma \\cdot \\hat{q}(S_{t + 1}, A_{t + 1}, \\pmb{w}_{t})$\n",
    "3. **Expected SARSA**: $U_{t} = R_{t + 1} + \\gamma \\cdot \\sum_{\\alpha} \\pi(\\alpha \\mid S_{t + 1}) \\hat{q}(S_{t + 1}, \\alpha, \\pmb{w}_{t})$\n",
    "\n",
    "##### Example\n",
    "\n",
    "![Gradient On-Policy Control](images/VA_3.png)"
   ]
  }
 ],
 "metadata": {
  "kernelspec": {
   "display_name": "Python 3",
   "language": "python",
   "name": "python3"
  },
  "language_info": {
   "codemirror_mode": {
    "name": "ipython",
    "version": 3
   },
   "file_extension": ".py",
   "mimetype": "text/x-python",
   "name": "python",
   "nbconvert_exporter": "python",
   "pygments_lexer": "ipython3",
   "version": "3.7.3"
  },
  "toc": {
   "base_numbering": 1,
   "nav_menu": {},
   "number_sections": false,
   "sideBar": false,
   "skip_h1_title": false,
   "title_cell": "Table of Contents",
   "title_sidebar": "Contents",
   "toc_cell": false,
   "toc_position": {},
   "toc_section_display": false,
   "toc_window_display": false
  }
 },
 "nbformat": 4,
 "nbformat_minor": 2
}
