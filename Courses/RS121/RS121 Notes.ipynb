{
 "cells": [
  {
   "cell_type": "markdown",
   "metadata": {},
   "source": [
    "# RS 121 - Philosophy of Evil"
   ]
  },
  {
   "cell_type": "markdown",
   "metadata": {},
   "source": [
    "## 1.1 What is Evil?"
   ]
  },
  {
   "cell_type": "markdown",
   "metadata": {},
   "source": [
    "### Pre-Modern Ideas About Evil\n",
    "\n",
    "- *Evil* is a personal decision, a cosmological reality, a punishment for communal sin or infidelity.\n",
    "- Pre-modern thinkers do not separate natural disasters and human evil.\n",
    "    - Natural disasters are acts of God's judgement."
   ]
  },
  {
   "cell_type": "markdown",
   "metadata": {},
   "source": [
    "### Enlightenment Ideas About Evil\n",
    "\n",
    "- Enlightenment thinkers separate natural disasters and human evil.\n",
    "    - Evil is restricted to human action."
   ]
  },
  {
   "cell_type": "markdown",
   "metadata": {},
   "source": [
    "### Modern Ideas About Evil\n",
    "\n",
    "- *Evil* is the human actions that cause unjustified harm to one's human rights and dignities.\n",
    "- **Human Rights**: Individual Rights, Socio-Economic Rights, Community Rights, Animal Rights, Rights of the Earth, ....\n",
    "- **Grounds of Rights**: Ethnicity, Race, Religion, Gender, Disability, Sexual Orientation and Identity, Age, ...."
   ]
  },
  {
   "cell_type": "markdown",
   "metadata": {},
   "source": [
    "### Challenges to Modern Ideas About Evil\n",
    "\n",
    "1. **Persistence of Pre-Modern Attitudes**: God Judges.\n",
    "2. **Post-Modernism**: Defining Morality $\\implies$ Self-Policing / Steering Society."
   ]
  },
  {
   "cell_type": "markdown",
   "metadata": {},
   "source": [
    "### Post-Modernism: Cultural and Moral Pluralism\n",
    "\n",
    "- Because of relativism and pluralism, there are no foundations for real judgements about justice, only claims by individuals and groups to know justice.\n",
    "- Every claim to justice is a claim to power; the right to define reality and to regulate bodies and practices in society."
   ]
  },
  {
   "cell_type": "markdown",
   "metadata": {},
   "source": [
    "### Post-Modernism Reveals the Limits of Modern Thinking About Evil\n",
    "\n",
    "- **\"Abuse of Evil\"**: Dichotomizing the good and the evil into separate black boxes abusively oversimplifies the underlying context of ethical issues.\n",
    "- **\"Myth of Pure Evil\"**: Evil is intentional harm enacted by sadistic, inherently evil perpetrators upon innocent and good victims.\n",
    "- Post-modern thinkers reject this black and white conceptualization of evil that allows the good people to label other people evil, and then to enact violence upon them."
   ]
  },
  {
   "cell_type": "markdown",
   "metadata": {},
   "source": [
    "### Can We Still Talk About \"Evil\"?\n",
    "\n",
    "- *Adi Ophir*: Evil is preventable and unnecessary suffering that is built into the social order that people have created.\n",
    "- To be moral in the social order, one must commit to prevent the suffering of others."
   ]
  },
  {
   "cell_type": "markdown",
   "metadata": {},
   "source": [
    "### What is a Social Order?\n",
    "\n",
    "- **Social Order**: A mutually reinforcing system of culture (ideas, beliefs, symbols, values, attitudes, etc.) and structures (institutions, relations, roles, arrangements of power, wealth, and status, etc.) that support a particular manner of relating and behaving.\n",
    "- *e.g., Hunter-Gatherer Society, Tribal Society, Feudal Society, Urban Industrial Society (Capitalism, Socialism, Nazism).*"
   ]
  },
  {
   "cell_type": "markdown",
   "metadata": {},
   "source": [
    "### Social Order and Power\n",
    "\n",
    "- A social order is complex and dynamic.\n",
    "- A social order requires the exercise of power.\n",
    "    - **Direct Power** (*Weaker*): *Force*.\n",
    "    - **Indirect Power** (*Stronger*): *Acceptance of the Legitimacy of the Social Order*."
   ]
  },
  {
   "cell_type": "markdown",
   "metadata": {},
   "source": [
    "### Does Recognition of the Social Dimension of Evil Eclipse the Personal Dimension of Evil? No.\n",
    "\n",
    "1. People are still moral agents who can choose between good and evil.\n",
    "2. However, evil on the personal level is almost always tied to evil on the social level.\n",
    "3. The social meets the personal at the level of the institutions through which we are socialized."
   ]
  },
  {
   "cell_type": "markdown",
   "metadata": {},
   "source": [
    "### Stanford Prison Study, 1971\n",
    "\n",
    "- Evil is the intentional exercise of power to:\n",
    "    1. Harm people psychologically.\n",
    "    2. Hurt people physically.\n",
    "    3. Destroy (mortally).\n",
    "    4. Commit crimes against humanity."
   ]
  },
  {
   "cell_type": "markdown",
   "metadata": {},
   "source": [
    "### Systemic Evil\n",
    "\n",
    "- Evil comes out of the interaction between dispositional, situational, and systemic factors.\n",
    "    - *Bad Apples*: Dispositional Factors.\n",
    "    - *Bad Barrels*: Situational Factors.\n",
    "    - *Bad Barrel Makers*: Systemic Factors (Political, Economical, Social, Cultural, Legal, etc.)."
   ]
  },
  {
   "cell_type": "markdown",
   "metadata": {},
   "source": [
    "### The Personal Dimension of Evil\n",
    "\n",
    "1. Mindlessly taking the first step.\n",
    "2. Dehumanization of others.\n",
    "3. De-individuation of Self.\n",
    "4. Diffusion of personal responsibility.\n",
    "5. Blind obedience to authority.\n",
    "6. Uncritical conformity to group norms.\n",
    "7. Passive tolerance to evil through inaction or indifference."
   ]
  },
  {
   "cell_type": "markdown",
   "metadata": {},
   "source": [
    "## 1.2 What is Religion?"
   ]
  },
  {
   "cell_type": "markdown",
   "metadata": {},
   "source": [
    "### William James: Definition of Religion\n",
    "\n",
    "- Religion partitions the world into two realms: the sacred (*unseen order*) and the profane (*this-worldy*).\n",
    "    1. Discourse.\n",
    "    2. Practices.\n",
    "    3. Community.\n",
    "    4. Institutions.\n",
    " \n",
    "#### Sacred/Religious\n",
    " \n",
    " - Special\n",
    " - Ultimately Important\n",
    " - Other-Wordly\n",
    " - Transcendent\n",
    " \n",
    "#### Profane/Secular\n",
    "\n",
    "- Everyday\n",
    "- Important or Not\n",
    "- This-Wordly\n",
    "- Immanent"
   ]
  },
  {
   "cell_type": "markdown",
   "metadata": {},
   "source": [
    "### 1. Religion as Discourse\n",
    "\n",
    "- *Talk, Symbols, Stories, Myths, Artwork, Theology, Doctrine, Moral Reasoning $\\implies$ Unseen Order.*"
   ]
  },
  {
   "cell_type": "markdown",
   "metadata": {},
   "source": [
    "### 2. Practices\n",
    "\n",
    "1. **Ritual Practices**: Prescribed formulas that have shared meanings to promote religious discourse.\n",
    "    - *e.g., Worship, Praying, Puja, Meditation, ....\n",
    "2. **Ethical Practices**: Prescribed morality that promote how to live.\n",
    "    - *e.g., Gender Roles, Sexual Prohibition, ....*"
   ]
  },
  {
   "cell_type": "markdown",
   "metadata": {},
   "source": [
    "### 3. Community\n",
    "\n",
    "- People who practise religious discourse with others who share a common religious mentality."
   ]
  },
  {
   "cell_type": "markdown",
   "metadata": {},
   "source": [
    "### 4. Institutions\n",
    "\n",
    "- Institutions are stable patterns of behavior that define rules of thought and rules of relationships, all of which allow communities to thrive and to expand.\n",
    "    - *e.g., Schools, Markets, Towns, ....*"
   ]
  },
  {
   "cell_type": "markdown",
   "metadata": {},
   "source": [
    "### New Atheists\n",
    "\n",
    "- \"New Atheists\" believe that all religions dichotomize the world into the good and the evil.\n",
    "- Accordingly, these relgions inspire its members to violently suppress or kill their enemies.\n",
    "- However, most modern conflicts since the 20th century were caused by modern secular ideologies."
   ]
  },
  {
   "cell_type": "markdown",
   "metadata": {},
   "source": [
    "### Causes of Conflict vs. Religion\n",
    "\n",
    "1. Corruption, economic inequality and political instability have a greater impact on countries’ likelihood of conflict than religious differences.\n",
    "2. The proportion of atheists in a country does not impact levels of peace.\n",
    "3. Many Muslim-majority countries with Sunni and Shia demographic mixes are relatively peaceful.\n",
    "4. Only 14% of conflicts in 2013 were motivated by religion alone, however religion was one of multiple causes in 60% of conflicts.\n",
    "5. Two thirds of the conflicts had as their main cause opposition to a particular government or opposition to the economic, ideological, political or social system of a state.\n",
    "6. More peaceful countries tend to have fewer restrictions on religious behaviour and less hostility towards religion."
   ]
  },
  {
   "cell_type": "markdown",
   "metadata": {},
   "source": [
    "## 1.3 What is Unique About Evil in the Modern World?"
   ]
  },
  {
   "cell_type": "markdown",
   "metadata": {},
   "source": [
    "### The Uniqueness of Evil in the Modern World\n",
    "\n",
    "> The premise is that the modern world is a unique social order, and therefore, has a unique form of evil that comes from it."
   ]
  },
  {
   "cell_type": "markdown",
   "metadata": {},
   "source": [
    "### What is Unique in the Modern World?\n",
    "\n",
    "- Modern thinkers believe that society is a project that people can control.\n",
    "- **Myth of Progress**: Society was once at a lower state of social development, and it is moving to a higher state that is more moral, more prosperous, and more healthy."
   ]
  },
  {
   "cell_type": "markdown",
   "metadata": {},
   "source": [
    "### Zigmunt Bauman on Evil and Ideology\n",
    "\n",
    "- *Zigmunt Bauman*: If modern society is conceptualized as a project, then people (such as Hitler) can promote an evil without hatred.\n",
    "- The idea that one could pursue this creative project of radically restructuring society despite the huge cost in human lives without so much hating those people as just recognizing the necessity of getting rid of them."
   ]
  },
  {
   "cell_type": "markdown",
   "metadata": {},
   "source": [
    "### Modernity: The Revolutionary Society\n",
    "\n",
    "- Modern societies are revolutionary societies based on the idea that people can restructure the social order according to an abstract plan.\n",
    "- Accordingly, the political organization, the economic life, the social relations, gender relations, and familial relations are all available for restructuring in modern societies.\n",
    "- Industrial Revolution and Democratic Revolution $\\implies$ Modernity.\n",
    "    - *Industrial Revolution*: Empowers all people to be able to make economic changes in their society.\n",
    "    - *Democratic Revolution*: Empowers all people to be able to make political changes in their society.\n",
    "    - **Thus, modernity empowers all people to promote good and to promote evil.**"
   ]
  },
  {
   "cell_type": "markdown",
   "metadata": {},
   "source": [
    "### Globalization of the Free Market\n",
    "\n",
    "- The globalization of the free market allows modern societies to expand their influence over traditional societies.\n",
    "- Thus, traditional societies must modernize to compete or to defend themselves from other modern societies."
   ]
  },
  {
   "cell_type": "markdown",
   "metadata": {},
   "source": [
    "### New Forms of Evil\n",
    "\n",
    "1. Total War\n",
    "2. Arms Race\n",
    "3. Genocide\n",
    "4. Ecological Crisis\n",
    "5. Inaction Towards Hunger/Poverty\n",
    "6. Totalitarian Governments"
   ]
  },
  {
   "cell_type": "markdown",
   "metadata": {},
   "source": [
    "## 1.4 Social Dimension of Evil"
   ]
  },
  {
   "cell_type": "markdown",
   "metadata": {},
   "source": [
    "### Social Dimension of Evil\n",
    "\n",
    "#### Traditional\n",
    "\n",
    "- Individual\n",
    "- Communal\n",
    "- Cosmological\n",
    "\n",
    "#### Modern\n",
    "\n",
    "- Societal\n",
    "- Evil as an Order\n",
    "- Evil at the Level of Institutions, Culture, and Values"
   ]
  },
  {
   "cell_type": "markdown",
   "metadata": {},
   "source": [
    "### The Social Construction of Reality or the “World”\n",
    "\n",
    "- **Social Unconscious**: People act in the world not according to how it is, but how they conceive it to be.\n",
    "- Thus, Culture $\\implies$ Social Structures."
   ]
  },
  {
   "cell_type": "markdown",
   "metadata": {},
   "source": [
    "### Cultural Evolution Creates New Structures\n",
    "\n",
    "- Cultural evolution creates new social structures that creates new cultures, all of which creates a new understanding of the world.\n",
    "- Thus, Social Structures $\\implies$ Culture."
   ]
  },
  {
   "cell_type": "markdown",
   "metadata": {},
   "source": [
    "### Solzhenitsyn - Cultural Basis of New Forms of Evil\n",
    "\n",
    "- Ideologies are blueprints for social projects that react to evil.\n",
    "- However ideologies are always partial, distorted by self-interest, and potentially dangerous.\n",
    "- When people begin to arrange society according to a blueprint, they promote and encourage some types of people and neglect or even seek to eliminate others.\n",
    "- Ironically, ideologies become sources of harm, specifically evil."
   ]
  },
  {
   "cell_type": "markdown",
   "metadata": {},
   "source": [
    "## 1.5: Religious Responses to Evil in the Modern World"
   ]
  },
  {
   "cell_type": "markdown",
   "metadata": {},
   "source": [
    "### 1. Denial of Evil\n",
    "\n",
    "- Acceptance of and accommodation to modernity.\n",
    "- Develop a form of religiosity that fits in well with this new kind of society.\n",
    "    - *e.g., Health and Wealth Gospel Movement, ....*"
   ]
  },
  {
   "cell_type": "markdown",
   "metadata": {},
   "source": [
    "### 2. Isolationism from Modernity\n",
    "\n",
    "- Radical conservatism and condemnation of modernity.\n",
    "    - *e.g., Amish, Old Order Mennonites....*"
   ]
  },
  {
   "cell_type": "markdown",
   "metadata": {},
   "source": [
    "### 3. Compartmentalization\n",
    "\n",
    "- Compartmentalize lives into the sacred and the profane.\n",
    "- People believe that their religion is not relevant to their day-to-day lives."
   ]
  },
  {
   "cell_type": "markdown",
   "metadata": {},
   "source": [
    "### 4. Engagement\n",
    "\n",
    "- Critical engagement with modern society.\n",
    "- People want to define their lives according to their tradition, but they find it difficult to do so.\n",
    "- People try to innovate their religious tradition as a response to modern forms of evil.\n",
    "    - *e.g., Buddhist responses to the ecological crisis,....*"
   ]
  },
  {
   "cell_type": "markdown",
   "metadata": {},
   "source": [
    "## 2.1 The Shoah"
   ]
  },
  {
   "cell_type": "markdown",
   "metadata": {},
   "source": [
    "### Hitler, Nazism, and War\n",
    "\n",
    "\n",
    "- **Holocaust** / **Shoah**: From 1932 to 1945, the Nazi party, lead by Adolph Hitler, sought the elimination of all Jews in Europe.\n",
    "\n",
    "\n",
    "1. *1920s*: Because of Germany's censure of the media, Germany's loss of the First World War shocked its citizens, and the economical and national humiliation of the Treaty of Paris led Germans to blame an \"internal enemy\".\n",
    "2. *1930s*: Due to the Great Depression, Hitler's National Socialist Party rose to power, and they immediately persecuted Jews as the \"internal enemy\".\n",
    "    - *e.g., Nuremberg Laws....*\n",
    "3. *1930s*: Hitler's Nazi ideology (*social project*) was the creation of a German empire, Reich, that would be self-reliant, unlike WWI.\n",
    "4. *1940s*: Hitler planned mass killing and mass starvation of Eastern Europe for \"Lebensraum\" - \"Living Room\" to allow German colonizer-farmers to supply Germany's industries.\n",
    "    - The Slavs were considered by Nazis to be subhuman who would either die in the hunger campaign or would be enslaved to work for the Germans.\n",
    "5. *1940s*: The \"Final Solution\" became the official German policy to exterminate all Jews in Europe."
   ]
  },
  {
   "cell_type": "markdown",
   "metadata": {},
   "source": [
    "### How Were Jews Persecuted?\n",
    "\n",
    "1. **Spontaneous or Planned Mass Violence**: Kristallnacht - Anti-Jewish riots destroying businesses and synagogues.\n",
    "2. **Ghettos**: The Nazi restricted Jews to certain neighborhoods.\n",
    "3. **Einsatzgruppen (Death Squads)**: The Mobile Killing Units killed Jews in Poland, Ukraine, Belarus, and the Soviet Union.\n",
    "4. **Concentration/Slave/Transportation Camps**: Disease, slavery, starvation, violence, ...."
   ]
  },
  {
   "cell_type": "markdown",
   "metadata": {},
   "source": [
    "## 2.2 The Holocaust Chronology"
   ]
  },
  {
   "cell_type": "markdown",
   "metadata": {},
   "source": [
    "### Dehumanization of the Jews\n",
    "\n",
    "- To convince ordinary Germans to participate or to accept the violence against the Jewish community, the Nazis isolated and dehumanized the Jews, changing social structures, to change the traditional German culture that those who spoke German and lived in Germany were German citizens: \"Us\" vs. \"Other\"."
   ]
  },
  {
   "cell_type": "markdown",
   "metadata": {},
   "source": [
    "### Chronology of the Dehumanization and Destruction of the Jews\n",
    "\n",
    "1. **January, 1933**: Hitler Appointed Chancellor Of Germany\n",
    "    - Laws are passed prohibiting Jews from working in hospitals, schools, owning land, and participating in cultural life or sports.\n",
    "2. **September, 1935**: Nuremberg Laws Passed\n",
    "    - Jews are excluded from citizenship and are prohibited from marrying or having sexual relations with Germans.\n",
    "3. **March, 1938**: Anchluss Annexation Of Austria\n",
    "    - Licenses of Jewish doctors and lawyers are revoked. Jewish males must add \"Israel\" to their names, and females must add \"Sarah\" to theirs. Jewish children are banned from German schools.\n",
    "4. **November, 1938**: Kristallnacht\n",
    "5. **March, 1939**: Germany Annexes Part Of Czechoslovakia\n",
    "6. **September, 1939**: Germany Invades Poland\n",
    "7. **April, 1940**: Germany Invades Denmark And Norway\n",
    "8. **June, 1940**: Fall Of France\n",
    "    - Creation of sealed ghettos in Lodz and Warsaw in Poland.\n",
    "9. **December, 1941**: German Invasion Continues, Declares War On USA\n",
    "10. **January, 1942**:: The Final Solution\n",
    "    - Mass gassings at Auschwitz begin.\n",
    "    - Polish, Slovakian, Dutch, Belgian, Luxembourgian, Norwegian Jews deported to Auschwitz.\n",
    "11. **September, 1943**: Liquidation Of European Jews Continues\n",
    "    - Greek Jews deported to Treblinka; Krakow ghetto liquidated. Lithuanian Jews massacred; Italian Jews deported to Auschwitz.\n",
    "12. **June, 1944**: D-Day And The Acceleration Of Auschwitz\n",
    "    - Over 400,000 Hungarian Jews deported to Auschwitz.\n",
    "13. **January, 1945**: Death Marches Begin\n",
    "    -  The Nazis initiate death marches of Jews and non-Jewish slave labourers from killing centres and slave-labour camps towards Germany.\n",
    "14. **January, 1945**: Liberation\n",
    "    - Liberation of various concentration camps.\n",
    "15. **April, 1945**: Suicide Of Hitler And Surrender Of Germany"
   ]
  },
  {
   "cell_type": "markdown",
   "metadata": {},
   "source": [
    "## 2.3: Modernity and the Holocaust"
   ]
  },
  {
   "cell_type": "markdown",
   "metadata": {},
   "source": [
    "### Berger’s Model of Socialization\n",
    "\n",
    "1. People are taught a particular set of values and beliefs and attitudes.\n",
    "2. When people go out into society, they notice that society is structured according to those beliefs, attitudes, and values (i.e., *plausability structures*).\n",
    "3. Plausability structures make the ideology and the culture in which we grow up plausible to us.\n",
    "4. Then, people enter into a world in which the ideas and beliefs and values seem to them to be uniquely real.\n",
    "5. From that position, people then make decisions about the world. "
   ]
  },
  {
   "cell_type": "markdown",
   "metadata": {},
   "source": [
    "###  Zygmunt Bauman: Holocaust and Modern Society\n",
    "\n",
    "- *Zygmunt Bauman*: A Nazi ideology and Nazi social structures were required to actually perform the genocide of the Jews.\n",
    "- The Nazi project of isolation, oppression, and extermination required an enormous bureaucratic and technological infrastructure.\n",
    "    - Racial Policy, Imperial Policy, War Policy.\n",
    "    - Mass Communication $\\implies$ Propaganda.\n",
    "    - Armed Forces, Policy Agencies.\n",
    "    - Railways, Utilities, Businesses, Doctors, Architects, Engineers $\\implies$ Skills to Manufacture Death."
   ]
  },
  {
   "cell_type": "markdown",
   "metadata": {},
   "source": [
    "### The Role of Culture and Ideology\n",
    "\n",
    "- An ideology is most readily adopted by a population when it speaks directly to their traditional culture and experience. \n",
    "- Thus, it cannot be too far removed from their history, their culture, and everyday life.\n",
    "\n",
    "#### Medieval Europe\n",
    "\n",
    "- All European societies practised Christianity and tolerated Judaism, with great harassment, hostility, and suspicion.\n",
    "- In medieval Christendom, Jews were thought as Christ-killers, homeless/landless with the loss of Israel, and obsessed with money.\n",
    "- Jews were often subject to **pogroms** (religiously inspired attacks on Jews, their homes, places of business, and centres of worship) and exile.\n",
    "\n",
    "#### German Culture to Nazi Ideology\n",
    "\n",
    "- Anti-Semites reinforced the mythical and medieval symbol of Jews such that propagandists could say whatever they want of Jews.\n",
    "- After Germany’s defeat in World War I, Germans looked for someone to blame.\n",
    "- Thus, the Nazis resurrected all the medieval European myths about Jews to reinforce the ideology that the Jews were the enemy of the German people."
   ]
  },
  {
   "cell_type": "markdown",
   "metadata": {},
   "source": [
    "### Nazi Ideology\n",
    "\n",
    "- The goal of Nazism was to forge a new national community based on race.\n",
    "\n",
    "#### 1. Racism\n",
    "\n",
    "- Racism is the discredited belief that the various peoples of the earth can be scientifically classified into biologically-defined groups called “races,” and, furthermore, individuals within each race share genetic similarities that determine character.\n",
    "- Nazis believe that Aryans comingling with different races weakened the German population which led to their defeat in WWI.\n",
    "\n",
    "#### 2.  Eugenics\n",
    "\n",
    "- Eugenics is a pseudoscientific belief tied to racism that built on the idea that the character of a people was determined by the their genes and the fitness of a nation’s gene pool to its destiny.\n",
    "- Nazis were obsessed with racial purity and eugenics such that promoted fertility among Germans, and campaigned euthanasia, forced sterilization, and genocide to protect the German gene pool.\n",
    "\n",
    "#### 3. Social Darwinism\n",
    "\n",
    "- Social Darwinism believes competition, conflict, and war were the normal relations between peoples. Peace were merely pauses for the purpose of re-arming or gaining strategic advantage over one’s enemy. Morality and compassion were seen as weaknesses. Other races needed to be conquered or eliminated.\n",
    "- Nazis believed in a social-Darwinist ethic to promote eugenics-based social engineering.\n",
    "\n",
    "#### 4. Dualistic Philosophy\n",
    "\n",
    "- A dualistic philosophy divides the world in stark terms of good and evil, us and them.\n",
    "- Nazis believed that Germans were the master race, and they defined Jews against the supposed virtues of the Aryan race."
   ]
  },
  {
   "cell_type": "markdown",
   "metadata": {},
   "source": [
    "## 2.4: The Role of Technology, Bureauacracy and Reason"
   ]
  },
  {
   "cell_type": "markdown",
   "metadata": {},
   "source": [
    "### Instrumental Reasoning Defined\n",
    "\n",
    "- **Substantive Reasoning**: Questions regarding what we should do.\n",
    "- **Instrumental Reasoning**: Questions regarding how do we do something."
   ]
  },
  {
   "cell_type": "markdown",
   "metadata": {},
   "source": [
    "### The Role of Technology, Bureaucracy, and Instrumental Reason (Steven Katz)\n",
    "\n",
    "1. An cultural-ideological context for the Holocaust.\n",
    "2. The Holocaust was understood as a scientific, rational experiment in social engineering.\n",
    "3. The mentality of the technocrats, which they themselves called machbarkeit, allowed them to go beyond the limits of traditional morality."
   ]
  },
  {
   "cell_type": "markdown",
   "metadata": {},
   "source": [
    "### 1. Technology as Cultural-Ideological Context: The Impact of Technology Murderers\n",
    "\n",
    "- Technology has an anesthetizing property in the Holocaust; it removed people from the actual killing.\n",
    "- Technology allowed the Nazi ideology to seem natural and normal as the technology seemed bureaucratic like any other job.\n",
    "- Technology expands the conception of what people can and cannot do; thus, it allowed Nazis to perform mass murder on the scale of an entire continent."
   ]
  },
  {
   "cell_type": "markdown",
   "metadata": {},
   "source": [
    "### 2. Holocaust as Scientific, Rational Experiment in Social Engineering\n",
    "\n",
    "1. Slavery $\\implies$ Slow Extermination b/c Insufficient Calories.\n",
    "2. Medical Experiments on Inmates w/o Morality Constraints.\n",
    "3. Killing Efficiency.\n",
    "4. Technological Exploitation of the Dead."
   ]
  },
  {
   "cell_type": "markdown",
   "metadata": {},
   "source": [
    "### 3. Machbarkeit: Beyond Limits and Absolutes\n",
    "\n",
    "- A mentality among Nazi technocrats to operate without moral restraints."
   ]
  },
  {
   "cell_type": "markdown",
   "metadata": {},
   "source": [
    "## 2.5 Judaism: An Introduction"
   ]
  },
  {
   "cell_type": "markdown",
   "metadata": {},
   "source": [
    "### Introduction to Judaism\n",
    "\n",
    "- Judaism is the belief that the Jews are a chosen people, a people who have made a covenant, with God and have been recipients of the Torah, the law that God has given that would direct the every day lives of Jewish individuals and the Jewish community.\n",
    "- The Torah is also a sacred power, the power of God's love that helps Jews to fulfill God's commandments."
   ]
  },
  {
   "cell_type": "markdown",
   "metadata": {},
   "source": [
    "### Judaism: Sin and Redemption\n",
    "\n",
    "1. A Chosen People (Abraham, Genesis 12, 15, 17)\n",
    "2. A Rescued People (Moses, Exodus 20)\n",
    "3. A Separate People (Leviticus, Deuteronomy, etc.)\n",
    "4. A Holy People (Leviticus 16)\n",
    "5. A Successful People (Judges and Kings)\n",
    "6. A Wise People (Job 38)\n",
    "7. A Fallen People (The Prophets: Isaiah 40; Amos 5:18-24)"
   ]
  },
  {
   "cell_type": "markdown",
   "metadata": {},
   "source": [
    "### History of Judaism\n",
    "\n",
    "#### Pre-Middle Ages\n",
    "\n",
    "- *1500 BCE*: Founded Israel.\n",
    "- *800 BCE*: Conquered by the Assyrians.\n",
    "- *587 BCE*: Conquered by the Babylonians.\n",
    "    - Exilied; Jews spread throughout the Hellenistic and Roman Empires.\n",
    "- *538 BCE*: Babylonians Replaced by the Persians.\n",
    "    - Return; Jews build a second temple in Jerusalem.\n",
    "- *332 BCE*: Persians Replaced by the Greeks.\n",
    "- *215-164 BCE*: Antiochus IV Epiphanes banned Jewish rites and traditions.\n",
    "- *165 BCE*: Maccabean Revolts $\\implies$ Independent Jewish Kingdom.\n",
    "- *63 BCE*: Conquered by the Romans.\n",
    "- *135 CE*: Second Explusion of Jews.\n",
    "\n",
    "#### Middle Ages\n",
    "\n",
    "- *324-638 CE*: Byzantine Empire Persecuted Jews b/c Christianity.\n",
    "- *638 CE*: Islamic Empire Tolerated Jews.\n",
    "- *700-1492 CE*: Golden Age of Judaism in Muslim Spain.\n",
    "- *>1300 CE*: Persecution of Jews in Europe.\n",
    "\n",
    "#### Modern Period\n",
    "\n",
    "- *17th-18th Century*: Freedom and Equality to Jews.\n",
    "- *19th Century*: Civil Liberties to Jews.\n",
    "- *20th Century*: Holocaust."
   ]
  },
  {
   "cell_type": "markdown",
   "metadata": {},
   "source": [
    "### Types of Jewish Groups\n",
    "\n",
    "- Sadducees (Temple & Priests)\n",
    "- Pharisees (Ethics & Torah)\n",
    "- Zealots (Armed Rebellion vs. Romans)\n",
    "- Essenes (Cave Community & \"Real Israel\")\n",
    "- Rabbinic Judaism (Books/Learning)\n",
    "- Reform Judaism\n",
    "- Conservative Judaism\n",
    "- Orthodox Judaism\n",
    "- Ultra-Orthodox Judaism\n",
    "- Haskalah Judaism (Rational and Integrationist)\n",
    "- Hasidisic Judaism (Mystical and Emotive)\n",
    "- Zionism (Jewish State)"
   ]
  },
  {
   "cell_type": "markdown",
   "metadata": {},
   "source": [
    "## 2.6  Judaism and Responses to the Holocaust"
   ]
  },
  {
   "cell_type": "markdown",
   "metadata": {},
   "source": [
    "### Elie Wiesel's Challenge to Humanity: Remembrance\n",
    "\n",
    "- Wiesel believed the correct Jewish response to the Holocaust is remembrance of the victims.\n",
    "- Furthermore, Wiesel believed that inaction in a world of unspeakable evils is unethical."
   ]
  },
  {
   "cell_type": "markdown",
   "metadata": {},
   "source": [
    "### Elie Wiesel's Challenge to God\n",
    "\n",
    "- Contrary to traditional Judaism's submission to the will of God, Wiesel challenged the idea of Israel as God's chosen people by considering it a curse instead of a blessing.\n",
    "- Furthermore, Wiesel acts as the accuser and accuses God for forsaking the victims of the Holocaust.\n",
    "- Nonetheless, Wiesel argues that modern Judaism demands full awareness of the presence and absence of God."
   ]
  },
  {
   "cell_type": "markdown",
   "metadata": {},
   "source": [
    "## 3.1 Nine Jewish Responses to the Holocaust"
   ]
  },
  {
   "cell_type": "markdown",
   "metadata": {},
   "source": [
    "### 1. Holocaust is like other tragedies and raises the traditional issue of theodicy\n",
    "\n",
    "- **Theodicy**: If God is all-powerful and all-good, then how can evil exist?\n",
    "- Jews believe that God is both all-powerful and all-good.\n",
    "- Some Jews argued that the Holocause should be treated like other tragedies that challenge faith."
   ]
  },
  {
   "cell_type": "markdown",
   "metadata": {},
   "source": [
    "### 2. Holocaust as punishment for sins of Israel\n",
    "\n",
    "- **Deuteronomic Principle**: God rewards his Chosen People when Israel follows God's commands, punishes them when they do not.\n",
    "- Some Jews argued that the Holocause was a punishment to Jews for being too concerned with material gain and/or failing to observe Jewish law and ritual."
   ]
  },
  {
   "cell_type": "markdown",
   "metadata": {},
   "source": [
    "### 3. Israel as \"suffering servant,\" who suffers for redemption of humanity.\n",
    "\n",
    "- **Suffering Servant**: A servant tormented by the nations, but in the end is saved by God to bring the Messianic Age, which redeems all of humanity.\n",
    "- Some Jews imagined the Holocaust's suffering as confirmation of their status as God's holy people."
   ]
  },
  {
   "cell_type": "markdown",
   "metadata": {},
   "source": [
    "### 4. Holocause as test of faith, like the sacrifice of Isaac or Book of Job\n",
    "\n",
    "- In the Hebrew Bible, God tests the faith of individuals.\n",
    "    1. *e.g., Abraham's Sacrifice of His Son Isaac.*\n",
    "    2. *e.g., Job's Loss of Possessions, Family, Health.*\n",
    "- Some Jews interpreted the Holocaust as a test of faith.\n",
    "- Some Jews concluded, like Job, that it was not the place of humans to question God's wisdom and punishments."
   ]
  },
  {
   "cell_type": "markdown",
   "metadata": {},
   "source": [
    "### 5. Holocaust as temporary \"eclipse of God\"\n",
    "\n",
    "- **Eclipse of God**: Sometimes God is inexplicably removed from history.\n",
    "- Some Jews believed that they were to wait for the resumption of the I-Thou relationship with God."
   ]
  },
  {
   "cell_type": "markdown",
   "metadata": {},
   "source": [
    "### 6. Proof that God is dead\n",
    "\n",
    "- Some Jews believed that the Holocaust confirmed Nietzsche's famous assertion that God is dead."
   ]
  },
  {
   "cell_type": "markdown",
   "metadata": {},
   "source": [
    "### 7. Maximization of human evil, the price humans pay for freedom\n",
    "\n",
    "- **Kabbalistic Judaism**: God is all powerful but has chosen to withdraw from human affairs in order for humans to have the capacity to be free.\n",
    "- Some Jews believe that the Holocause was allowed to happen because God allowed human freedom and hence has permitted human evil.\n",
    "- Some Jews believe that they must commit themselves to stopping evil wherever they find it in the world."
   ]
  },
  {
   "cell_type": "markdown",
   "metadata": {},
   "source": [
    "### 8. Holocaust as revelation: \"Jews, survive!\"\n",
    "\n",
    "- Some Jews argue that the Holocaust is incomprehensible, so they should embrace life and ensure the survival of Jews and Judaism."
   ]
  },
  {
   "cell_type": "markdown",
   "metadata": {},
   "source": [
    "### 9. Holocause as \"inscrutable mystery\"\n",
    "\n",
    "- Some Jews argue that there is no point in trying to understand the madness of the Holocaust."
   ]
  },
  {
   "cell_type": "markdown",
   "metadata": {},
   "source": [
    "## 3.2 The State of Israel"
   ]
  },
  {
   "cell_type": "markdown",
   "metadata": {},
   "source": [
    "### The Creation of the State of Israel\n",
    "\n",
    "- *Late 19th Century*: Theodor Herzl promoted the idea of a modern Jewish nation-state in Palestine.\n",
    "- *1917*: Britain declared their support for a Jewish homeland in Palestine and acquired control over the territory at the end of WWI.\n",
    "- *1936*: Zionist settlers and indigenous Palestinian Arabs broke out in violence.\n",
    "- *1946*: Zionists attacked the British controlled Palestine.\n",
    "- *1947*: The UN voted to partition Palestine into the Jewish State of Israel and Arab State of Palestine.\n",
    "- *1948*: Zionists declared independence of the State of Israel."
   ]
  },
  {
   "cell_type": "markdown",
   "metadata": {},
   "source": [
    "### Decades of War\n",
    "\n",
    "- *1967*: Israel won againsts attacks by Egypt, Syria, and Jordan, and seizes some of their territories.\n",
    "- *1973*: Israel successively defended against surprise attacks from Egypt and Syria.\n",
    "- *1979*: Israel and Egypt signed a peace treaty."
   ]
  },
  {
   "cell_type": "markdown",
   "metadata": {},
   "source": [
    "## 3.3 Jewish Theology after the Holocaust"
   ]
  },
  {
   "cell_type": "markdown",
   "metadata": {},
   "source": [
    "### Richard Rubenstein: The End of the Covenant\n",
    "\n",
    "- Rubenstein believed that Jews could no longer believe in a God that would protect them.\n",
    "- Rubenstein believed that the Holocaust was not God's punishment.\n",
    "- Rubenstein argued that Jews should redefine God as a mystical source of being, yet they should maintain Jewish practices."
   ]
  },
  {
   "cell_type": "markdown",
   "metadata": {},
   "source": [
    "### Holocaust Theology: Wiesel, Fackenheim, and Greenberg\n",
    "\n",
    "#### Wiesel\n",
    "\n",
    "- Wiesel believed in the importance of the State of Israel to safeguard Jews after the Holocaust.\n",
    "    1. **Ethnic**: Jerusalem is central to Jews and Judaism.\n",
    "    2. **Religious**: Jerusalem is above politics as a Jewish spiritual home.\n",
    "    3. **Poetic**: Jews who have never been to Jerusalem have a claim to it as their home.\n",
    "    4. **Mystical**: The shared memory of Jerusalem unites all Jews.\n",
    "- Wiesel believed that Israel guaranteed that there were Jews to remember the dead of the Holocaust, and the Holocaust gave reason for Jews to support the State of Israel (in spite of the humanitarian concern to the Palestinian victims).\n",
    "\n",
    "#### Fackenheim\n",
    "\n",
    "- Fackenheim argued that small acts of courage, charity, and humanity in concentration camps were evidence of God's presence in the midst of evil.\n",
    "- Fackenheim argued that Jews had to adopt a 614th commandment: Jews are forbidden to give Hitler posthumous victories.\n",
    "- Fackenheim argued that the survival of the State of Israel is a holy moment and an affirmation of God's presence.\n",
    "\n",
    "#### Greenberg\n",
    "\n",
    "- Greenberg believed that the Holocaust was a sign that God had unilaterally broken the Covenant with the Jewish people.\n",
    "- Greenberg argued that the Covenant is voluntary.\n",
    "- Greenberg argued that the Holocaust and the State of Israel to be new revelations."
   ]
  },
  {
   "cell_type": "markdown",
   "metadata": {},
   "source": [
    "## 3.4 Post Holocaust Theology"
   ]
  },
  {
   "cell_type": "markdown",
   "metadata": {},
   "source": [
    "### New Circumstances in Israel and the Middle East\n",
    "\n",
    "- **Jewish Post-Holocaust Theology**: It accepts the legitimacy of the State of Israel, but Post-Holocaust theologians worry that Israeli Jews may lose their souls in their search for security and power.\n",
    "    - Injustices on Indigenous Palestinians.\n",
    "    - Wars with Arab States.\n",
    "    - Occupation of Arab Territories.\n",
    "    - Violent Security Measures.\n",
    "    - Discrimination Against Palestinians."
   ]
  },
  {
   "cell_type": "markdown",
   "metadata": {},
   "source": [
    "## Marc Ellis: Double Solidarity with Israel and Palestine\n",
    "\n",
    "- Ellis argues that Holocaust Theologians–like Israeli policy-makers and their Jewish supporters outside of Israel–still interpret the State of Israel from the perspective of the Holocaust.\n",
    "- Ellis argues that the Jews are no longer a vulnerable, poor population threatened with annihilation.\n",
    "- Ellis argues that the Jews develop a post-Holocaust identity that helps the weak."
   ]
  },
  {
   "cell_type": "markdown",
   "metadata": {},
   "source": [
    "### Michael Lerner\n",
    "\n",
    "- **Tikkun**: *To Transform the World.*\n",
    "- Lerner argues that religion can be authoritarian or humanistic.\n",
    "- Lerner argues that cruelty and violence originates from the indifference in recognizing other people as human beings like ourselves, all having the image of God."
   ]
  },
  {
   "cell_type": "markdown",
   "metadata": {},
   "source": [
    "## 3.5 Judaism and Tikkun"
   ]
  },
  {
   "cell_type": "markdown",
   "metadata": {},
   "source": [
    "### The Ten Commandments\n",
    "\n",
    "1. \"I am the LORD thy God,\"\n",
    "2. \"Thou shalt have no other gods before me nor make graven images or likenesses\"\n",
    "3. \"Not take the LORD's name in vain\"\n",
    "4. \"Remember the Sabbath day\"\n",
    "5. \"Honour thy father and thy mother\"\n",
    "6. \"Thou shalt not kill\"\n",
    "7. \"Thou shalt not commit adultery\"\n",
    "8. \"Thou shalt not steal\"\n",
    "9. \"Thou shalt not bear false witness\"\n",
    "10. \"Thou shalt not covet neighbour’s wife or possessions\""
   ]
  },
  {
   "cell_type": "markdown",
   "metadata": {},
   "source": [
    "### The Ten Commitments\n",
    "\n",
    "1. \"YHVH, the Power of Transformation and Healing, is the Ultimate Reality of the Universe and the Source of Transcendent Unity\"\n",
    "2. \"Idolatry\"\n",
    "3. \"Do not take God in Vain\"\n",
    "4. \"Observe the Sabbath\"\n",
    "5. \"Do not murder\"\n",
    "6. \"Do not steal\"\n",
    "7. \"Do not covet\""
   ]
  },
  {
   "cell_type": "markdown",
   "metadata": {},
   "source": [
    "## 3.6 Judaism, Modernity and the Holocaust"
   ]
  },
  {
   "cell_type": "markdown",
   "metadata": {},
   "source": [
    "### Rabbi Lerner’s Renewal Judaism\n",
    "\n",
    "1. The focus on evil and suffering. $\\implies$ God is the cure for modern evil.\n",
    "2. A Judaism of expressive individualism.\n",
    "3. Pluralism and inter-faith dialogue.\n",
    "4. The sociological imagination."
   ]
  }
 ],
 "metadata": {
  "kernelspec": {
   "display_name": "Python 3",
   "language": "python",
   "name": "python3"
  },
  "language_info": {
   "codemirror_mode": {
    "name": "ipython",
    "version": 3
   },
   "file_extension": ".py",
   "mimetype": "text/x-python",
   "name": "python",
   "nbconvert_exporter": "python",
   "pygments_lexer": "ipython3",
   "version": "3.7.3"
  },
  "toc": {
   "base_numbering": 1,
   "nav_menu": {},
   "number_sections": false,
   "sideBar": false,
   "skip_h1_title": false,
   "title_cell": "Table of Contents",
   "title_sidebar": "Contents",
   "toc_cell": false,
   "toc_position": {},
   "toc_section_display": false,
   "toc_window_display": false
  }
 },
 "nbformat": 4,
 "nbformat_minor": 2
}
