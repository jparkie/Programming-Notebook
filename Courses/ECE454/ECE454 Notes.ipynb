{
 "cells": [
  {
   "cell_type": "markdown",
   "metadata": {},
   "source": [
    "# ECE 454 - Distributed Computing"
   ]
  },
  {
   "cell_type": "markdown",
   "metadata": {},
   "source": [
    "## Introduction"
   ]
  },
  {
   "cell_type": "markdown",
   "metadata": {},
   "source": [
    "### Distributed System\n",
    "\n",
    "- **Distributed System**: A collection of autonomous computing elements that appears to its users as a single coherent system.\n",
    "\n",
    "#### Motivations for Distributed Systems\n",
    "\n",
    "1. Resource Sharing\n",
    "2. Simplify Processes by Integrating Multiple Systems\n",
    "3. Limitations in Centralized Systems: Weak/Unreliable\n",
    "4. Distributed/Mobile Users\n",
    "\n",
    "#### Goals for Distributed Systems\n",
    "\n",
    "1. Resource Sharing\n",
    "    - CPUs, Data, Peripherals, Storage.\n",
    "2. Transparency\n",
    "    - Access, Location, Migration, Relocation, Replication, Concurrency, Failure.\n",
    "3. Open\n",
    "    - Interoperability, Composability, Extensibility.\n",
    "4. Scalable\n",
    "    - Size, Geography, Administration.\n",
    "    \n",
    "#### Types of Distributed Systems\n",
    "\n",
    "- Web Services\n",
    "- High Performance Computing, Cluster Computing, Cloud Computing, Grid Computing\n",
    "- Transaction Processing\n",
    "- Enterprise Application Integration\n",
    "- Internet of Things, Sensor Networks"
   ]
  },
  {
   "cell_type": "markdown",
   "metadata": {},
   "source": [
    "### Middleware\n",
    "\n",
    "- **Middleware**: A layer of software that separates applications from the underlying platforms.\n",
    "    - Supports Heterogeneous Computers/Networks.\n",
    "    - *e.g.*: Communication, Transactions, Service Composition, Reliability.\n",
    "    - **Single-System View**"
   ]
  },
  {
   "cell_type": "markdown",
   "metadata": {},
   "source": [
    "### Scaling Techniques\n",
    "\n",
    "1. *Hiding Communication Latencies*: At Server vs. At Client?\n",
    "2. *Partitioning*\n",
    "3. *Replication*"
   ]
  },
  {
   "cell_type": "markdown",
   "metadata": {},
   "source": [
    "### Fallacies of Networked and Distributed Computing\n",
    "\n",
    "1. Network is reliable.\n",
    "2. Network is secure.\n",
    "3. Network is homogeneous.\n",
    "4. Topology is static.\n",
    "5. Latency is zero.\n",
    "6. Bandwidth is infinite.\n",
    "7. Transport cost is zero.\n",
    "8. There is only one administrator."
   ]
  },
  {
   "cell_type": "markdown",
   "metadata": {},
   "source": [
    "### Shared Memory vs. Message Passing\n",
    "\n",
    "- **Shared Memory**:\n",
    "    - Less Scalable\n",
    "    - Faster\n",
    "    - CPU-Intensive Problems\n",
    "    - Parallel Computing\n",
    "- **Message Passing**:\n",
    "    - More Scalable\n",
    "    - Slower\n",
    "    - Resource Sharing / Coordination Problems\n",
    "    - Distributed Computing\n",
    "- Apache Hadoop is an example of a hybrid computing framework that uses message passing at a broad-view and shared memory at a detailed-view."
   ]
  },
  {
   "cell_type": "markdown",
   "metadata": {},
   "source": [
    "### Cloud and Grid Computing\n",
    "\n",
    "- **IaaS**: Infrastructure as a Service\n",
    "    - VM Computation, Block File Storage\n",
    "- **PaaS**: Platform as a Service\n",
    "    - Software Frameworks, Databases\n",
    "- **SaaS**: Software as a Service\n",
    "    - Web Services, Business Apps"
   ]
  },
  {
   "cell_type": "markdown",
   "metadata": {},
   "source": [
    "### Transaction Processing Systems\n",
    "\n",
    "- **Transaction Processing Monitor**: Coordinates Distributed Transactions"
   ]
  },
  {
   "cell_type": "markdown",
   "metadata": {},
   "source": [
    "## Architectures"
   ]
  },
  {
   "cell_type": "markdown",
   "metadata": {},
   "source": [
    "### Definitions\n",
    "\n",
    "- **Component**: A modular unit with well-defined interfaces.\n",
    "- **Connector**: A mechanism that mediates communication, coordination, or cooperation among components.\n",
    "- **Software Architecture**: Organization of software components.\n",
    "- **System Architecture**: Instantiation of software architecture in which software components are placed on real machines.\n",
    "- **Autonomic System**: Adapts to its environment by monitoring its own behavior and reacting accordingly."
   ]
  },
  {
   "cell_type": "markdown",
   "metadata": {},
   "source": [
    "### Architectural Styles\n",
    "\n",
    "- Layered\n",
    "    - *Note: Assignment Topic*\n",
    "- Object-Based\n",
    "- Data-Centered\n",
    "- Event-Based"
   ]
  },
  {
   "cell_type": "markdown",
   "metadata": {},
   "source": [
    "### Layered Architecture\n",
    "\n",
    "![Layers](images/Architecture_1.png)\n",
    "\n",
    "- **Examples**:\n",
    "    - Database Server, Application Server, Client\n",
    "    - SSH Server, SSH Client\n",
    "- Requests Flow Down Stack\n",
    "- Responses Flow Up Stack\n",
    "- *Handle-Upcall*: Async Notification\n",
    "    - Subscribe with Handle\n",
    "    - Publish with Upcall"
   ]
  },
  {
   "cell_type": "markdown",
   "metadata": {},
   "source": [
    "### Client-Server Interactions\n",
    "\n",
    "![Client-Server Interactions](images/Architecture_2.png)\n",
    "\n",
    "- *Bolded Lines* = Busy\n",
    "- *Dashed Lines* = Idle\n",
    "- **Client**: Initiates with a Request\n",
    "- **Server**: Follows with a Response\n",
    "- **Total Round-Trip Time**: $(N - 1) \\times t_{\\text{Request-Response}}$\n",
    "    - Layering can reduce the amount of processing time per layer, but the additional communication overhead between the layers introduces diminishing returns.\n",
    "- An intermediate layer can be both a client and a server to the others."
   ]
  },
  {
   "cell_type": "markdown",
   "metadata": {},
   "source": [
    "### Multi-Tiered Architecture\n",
    "\n",
    "- Logical Software Layers $\\mapsto$ Physical Tiers\n",
    "    - *Trade-Offs*: Ease of Maintenance vs. Reliability"
   ]
  },
  {
   "cell_type": "markdown",
   "metadata": {},
   "source": [
    "### Horizontal vs. Vertical Distribution\n",
    "\n",
    "- **Vertical Distribution**: When the logical layers of a system are organized as separate physical tiers.\n",
    "    - *Performance*: High.\n",
    "    - *Scalability*: Low.\n",
    "    - *Dependability*: Low-Medium.\n",
    "- **Horizontal Distribution**: When one logical layer is split across multiple machines - **sharding**.\n",
    "    - *Performance*: Low.\n",
    "    - *Scalability*: High.\n",
    "    - *Dependability*: Medium-High."
   ]
  },
  {
   "cell_type": "markdown",
   "metadata": {},
   "source": [
    "### Object-Based Architecture\n",
    "\n",
    "- In an object-based architecture, components communicate using remote object references and method calls.\n",
    "\n",
    "#### Problems with Object-Based Architecture\n",
    "\n",
    "- Complex Communication Interfaces\n",
    "- Complex Communication Costs\n",
    "- Not Scalable\n",
    "- Not Language Agnostic"
   ]
  },
  {
   "cell_type": "markdown",
   "metadata": {},
   "source": [
    "### Data-Centered Architecture\n",
    "\n",
    "- In a data-centered architecture, components communicate by accessing a shared data repository."
   ]
  },
  {
   "cell_type": "markdown",
   "metadata": {},
   "source": [
    "### Event-Based Architecture\n",
    "\n",
    "![Publish/Subscribe Middleware](images/Architecture_3.png)\n",
    "\n",
    "- In an event-based architecture, components communicate by propagating events using a publish/subscribe system.\n",
    "\n",
    "#### Handling Asynchronous Delivery Failure\n",
    "\n",
    "- *At-Least Once Delivery*: Do Retransmit\n",
    "- *At-Most Once Delivery*: Do Not Retransmit\n",
    "- *Exactly Once Delivery*: Unknown/Unachievable"
   ]
  },
  {
   "cell_type": "markdown",
   "metadata": {},
   "source": [
    "### Peer-to-Peer Systems\n",
    "\n",
    "![Chord's Finger Table](images/Architecture_4.png)\n",
    "\n",
    "- In a peer-to-peer system, decentralized processes are organized in an overlay network that defines a set of communication channels.\n",
    "- In a peer-to-peer, distributed hash table, a keyspace is represented by a consistent hash ring on top of which nodes partition ranges amongst themselves.\n",
    "- The mappings of partition ranges to nodes are maintained by a finger table which can be queried in a logarithm process."
   ]
  },
  {
   "cell_type": "markdown",
   "metadata": {},
   "source": [
    "### Hybrid Architectures\n",
    "\n",
    "- BitTorrent is an example of a hybrid architecture combining a client-server architecture and a peer-to-peer architecture."
   ]
  },
  {
   "cell_type": "markdown",
   "metadata": {},
   "source": [
    "### Self-Management\n",
    "\n",
    "![Self-Management Systems](images/Architecture_5.png)\n",
    "\n",
    "- In self-management, systems use a feedback control loop that monitors system behaviors and adjusts system operations.\n",
    "- **Assignment Note**: Useful for Unknown Assignment"
   ]
  },
  {
   "cell_type": "markdown",
   "metadata": {},
   "source": [
    "## Processes"
   ]
  },
  {
   "cell_type": "markdown",
   "metadata": {},
   "source": [
    "### IPC\n",
    "\n",
    "- **Inter-Process Communication (IPC)**: Expensive b/c Context Switching"
   ]
  },
  {
   "cell_type": "markdown",
   "metadata": {},
   "source": [
    "### Threads\n",
    "\n",
    "- Typically, an operating system kernel support multi-threading through **lightweight processes (LWP)**.\n",
    "- **Assignment Note**: Do Not Spawn Too Many Threads"
   ]
  },
  {
   "cell_type": "markdown",
   "metadata": {},
   "source": [
    "### Multi-Threaded Servers\n",
    "\n",
    "- **Dispatcher/Worker Design**: A dispatcher thread receives requests from the network and feeds them to a pool of worker threads.\n",
    "- **Assignment Note**: Useful for Assignment 1 & Partition into Sequential Work and Parallel Work"
   ]
  },
  {
   "cell_type": "markdown",
   "metadata": {},
   "source": [
    "### Hardware and Software Interfaces\n",
    "\n",
    "![Hardware and Software Interfaces](images/Processes_1.png)"
   ]
  },
  {
   "cell_type": "markdown",
   "metadata": {},
   "source": [
    "### Virtualization\n",
    "\n",
    "![VMs](images/Processes_2.png)\n",
    "\n",
    "- **Advantage**:\n",
    "    - Portability\n",
    "    - Live Migration of VMs\n",
    "    - Replication for Availability/Fault Tolerance\n",
    "- **Disadvantage**:\n",
    "    - Performance"
   ]
  },
  {
   "cell_type": "markdown",
   "metadata": {},
   "source": [
    "### Server Clusters\n",
    "\n",
    "![Three Physical Tier](images/Processes_3.png)\n",
    "\n",
    "- **Assignment Note**: Useful for Assignment 2"
   ]
  },
  {
   "cell_type": "markdown",
   "metadata": {},
   "source": [
    "## Communication"
   ]
  },
  {
   "cell_type": "markdown",
   "metadata": {},
   "source": [
    "### Remote Procedure Calls\n",
    "\n",
    "- **Remote Procedure Calls**: A transient communication abstraction implemented using a client-server protocol.\n",
    "- **Client Stub**: Translate a RPC on the client.\n",
    "- **Server Stub**: Translate a RPC on the server."
   ]
  }
 ],
 "metadata": {
  "kernelspec": {
   "display_name": "Java",
   "language": "java",
   "name": "java"
  },
  "language_info": {
   "codemirror_mode": "text/x-java",
   "file_extension": ".java",
   "mimetype": "",
   "name": "Java",
   "nbconverter_exporter": "",
   "version": "1.8.0_144"
  }
 },
 "nbformat": 4,
 "nbformat_minor": 2
}
