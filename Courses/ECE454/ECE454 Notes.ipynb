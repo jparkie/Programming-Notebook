{
 "cells": [
  {
   "cell_type": "markdown",
   "metadata": {},
   "source": [
    "# ECE 454 - Distributed Computing"
   ]
  },
  {
   "cell_type": "markdown",
   "metadata": {},
   "source": [
    "## Introduction"
   ]
  },
  {
   "cell_type": "markdown",
   "metadata": {},
   "source": [
    "### Distributed System\n",
    "\n",
    "- **Distributed System**: A collection of autonomous computing elements that appears to its users as a single coherent system.\n",
    "\n",
    "#### Motivations for Distributed Systems\n",
    "\n",
    "1. Resource Sharing\n",
    "2. Simplify Processes by Integrating Multiple Systems\n",
    "3. Limitations in Centralized Systems: Weak/Unreliable\n",
    "4. Distributed/Mobile Users\n",
    "\n",
    "#### Goals for Distributed Systems\n",
    "\n",
    "1. Resource Sharing\n",
    "    - CPUs, Data, Peripherals, Storage.\n",
    "2. Transparency\n",
    "    - Access, Location, Migration, Relocation, Replication, Concurrency, Failure.\n",
    "3. Open\n",
    "    - Interoperability, Composability, Extensibility.\n",
    "4. Scalable\n",
    "    - Size, Geography, Administration.\n",
    "    \n",
    "#### Types of Distributed Systems\n",
    "\n",
    "- Web Services\n",
    "- High Performance Computing, Cluster Computing, Cloud Computing, Grid Computing\n",
    "- Transaction Processing\n",
    "- Enterprise Application Integration\n",
    "- Internet of Things, Sensor Networks"
   ]
  },
  {
   "cell_type": "markdown",
   "metadata": {},
   "source": [
    "### Middleware\n",
    "\n",
    "- **Middleware**: A layer of software that separates applications from the underlying platforms.\n",
    "    - Supports Heterogeneous Computers/Networks.\n",
    "    - *e.g.*: Communication, Transactions, Service Composition, Reliability.\n",
    "    - **Single-System View**"
   ]
  },
  {
   "cell_type": "markdown",
   "metadata": {},
   "source": [
    "### Scaling Techniques\n",
    "\n",
    "1. *Hiding Communication Latencies*: At Server vs. At Client?\n",
    "2. *Partitioning*\n",
    "3. *Replication*"
   ]
  },
  {
   "cell_type": "markdown",
   "metadata": {},
   "source": [
    "### Fallacies of Networked and Distributed Computing\n",
    "\n",
    "1. Network is reliable.\n",
    "2. Network is secure.\n",
    "3. Network is homogeneous.\n",
    "4. Topology is static.\n",
    "5. Latency is zero.\n",
    "6. Bandwidth is infinite.\n",
    "7. Transport cost is zero.\n",
    "8. There is only one administrator."
   ]
  },
  {
   "cell_type": "markdown",
   "metadata": {},
   "source": [
    "### Shared Memory vs. Message Passing\n",
    "\n",
    "- **Shared Memory**:\n",
    "    - Less Scalable\n",
    "    - CPU-Intensive Problems\n",
    "    - Parallel Computing\n",
    "- **Message Passing**:\n",
    "    - More Scalable\n",
    "    - Resource Sharing / Coordination Problems\n",
    "    - Distributed Computing"
   ]
  }
 ],
 "metadata": {
  "kernelspec": {
   "display_name": "Python 3",
   "language": "python",
   "name": "python3"
  },
  "language_info": {
   "codemirror_mode": {
    "name": "ipython",
    "version": 3
   },
   "file_extension": ".py",
   "mimetype": "text/x-python",
   "name": "python",
   "nbconvert_exporter": "python",
   "pygments_lexer": "ipython3",
   "version": "3.6.5"
  }
 },
 "nbformat": 4,
 "nbformat_minor": 2
}
