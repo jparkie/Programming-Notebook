{
 "cells": [
  {
   "cell_type": "markdown",
   "metadata": {},
   "source": [
    "# ECE 405 - Introduction to Quantum Mechanics"
   ]
  },
  {
   "cell_type": "markdown",
   "metadata": {},
   "source": [
    "## LaTeX Commands\n",
    "\n",
    "- $\\newcommand{\\bra}[1]{\\langle{#1}\\rvert}$ `$\\bra{+}$`: $\\bra{+}$\n",
    "- $\\newcommand{\\ket}[1]{\\lvert{#1}\\rangle}$ `$\\ket{+}$`: $\\ket{+}$\n",
    "- $\\newcommand{\\braket}[2]{\\langle{#1}\\vert{#2}\\rangle}$ `$\\braket{+}{+}$`: $\\braket{+}{+}$\n",
    "- $\\newcommand{\\amp}[1]{{\\lvert{#1}\\rvert}^{2}}$ `$\\amp{\\braket{\\pm}{\\psi}}$`: $\\amp{\\braket{\\pm}{\\psi}}$"
   ]
  },
  {
   "cell_type": "markdown",
   "metadata": {},
   "source": [
    "## Stern-Gerlach Experiments"
   ]
  },
  {
   "cell_type": "markdown",
   "metadata": {},
   "source": [
    "### Overview\n",
    "\n",
    "![Stern-Gerlach Experiment](images/F01_1.png)\n",
    "\n",
    "- Produced by an oven, a beam of neutral silver atoms was split into two in its passage through an inhomogenous magnetic field."
   ]
  },
  {
   "cell_type": "markdown",
   "metadata": {},
   "source": [
    "### Classical vs. Quantum Interpretation\n",
    "\n",
    "1. The experiment suggests an interaction between a neutral particle and a magnetic field.\n",
    "2. Accordingly, the particle possesses a magnetic moment $\\mathbf{\\mu}$ such that the potential energy of this interaction is $E = - \\mathbf{\\mu} \\cdot \\mathbf{B}$, which results in a force $\\mathbf{F} = \\nabla(\\mathbf{\\mu} \\cdot \\mathbf{B})$.\n",
    "3. Because the magnetic field gradient is in the $z$-direction, the force is perpendicular to the direction of motion and deflects the beam in proportion to the component of the magnetic moment in the direction of the magnetic field gradient.\n",
    "4. A charged particle in an atom has an **orbital angular momentum** $L$ and an **intrinsic angular momentum**, **spin**, $S$.\n",
    "$$\n",
    "\\begin{aligned}\n",
    "\\mathbf{\\mu} &= \\frac{q}{2m} \\mathbf{L} \\\\\n",
    "\\mathbf{\\mu} &= g \\frac{q}{2m} \\mathbf{S}\n",
    "\\end{aligned}\n",
    "$$\n",
    "    - where $q$ is the charge.\n",
    "    - where $m$ is the mass.\n",
    "    - where $g$ is the gyroscopic ratio.\n",
    "5. The magnetic moment of a neutral silver atom is the magnetic moment of its only outermost electron.\n",
    "$$\n",
    "\\begin{aligned}\n",
    "\\mathbf{\\mu} &= -g \\frac{e}{2m_{e}} \\mathbf{S} \\\\\n",
    "F_{z} &= -g \\frac{2}{2m_{e}} S_{z} \\frac{\\delta B_{z}}{\\delta z} \\\\\n",
    "S_{z} &= \\lvert \\mathbf{S} \\rvert \\cos \\theta\n",
    "\\end{aligned}\n",
    "$$\n",
    "6. Thus, the deflection of the beam in the Stern-Gerlach experiment is a measure of the component $S_{z}$ of the spin along the $z$-axis, which is the orientation of the magnetic field gradient.\n",
    "    - **Classical**: A continuous distribution of spin components from $-\\lvert \\mathbf{S} \\rvert$ to $+\\lvert \\mathbf{S} \\rvert$ was expected to be observed.\n",
    "    - **Quantum**: A discrete distribution of spin components $S_{z} = \\pm \\frac{\\hbar}{2}$ was actually observed.\n",
    "        - where $\\hbar = 6.5821 \\times 10^{-16} eV \\cdot s$ is Planck's constant $h$ divided by $2\\pi$.\n",
    "7. The result of the Stern-Gerlach experiment is evidence of the **quantization** of the electron's spin angular momentum component along an axis."
   ]
  },
  {
   "cell_type": "markdown",
   "metadata": {},
   "source": [
    "### Postulate 1\n",
    "\n",
    "- The state of a quantum mechanical system, including all the information you can know about it, is represented mathematically by a normalized ket $\\ket{\\psi}$."
   ]
  },
  {
   "cell_type": "markdown",
   "metadata": {},
   "source": [
    "### Stern-Gerlach Device\n",
    "\n",
    "![Stern-Gerlach Device](images/F01_2.png)\n",
    "\n",
    "- **Analyzer**: A Stern-Gerlach device labeled with the axis along which the magnetic field is oriented.\n",
    "- **Observable**: The physical quantity that is measured.\n",
    "- The up and down arrows indicate the two possible measurement results for the device: **spin up** and **spin down**, respectively.\n",
    "    - *Upper Output Beam Ket*: $\\ket{+} \\implies S_{z} = +\\frac{\\hbar}{2}$\n",
    "    - *Bottom Output Beam Ket*: $\\ket{-} \\implies S_{z} = -\\frac{\\hbar}{2}$\n",
    "    - *Input Beam Ket*: $\\ket{\\psi}$"
   ]
  },
  {
   "cell_type": "markdown",
   "metadata": {},
   "source": [
    "### Experiment 1\n",
    "\n",
    "![Experiment 1](images/F01_3.png)\n",
    "\n",
    "- **Key Observation**: The first analyzer (i.e., **state preparation device**) prepares the beam in a particular quantum state ($\\ket{+}$) and the second analyzer measures the resultant beam. By preparing the state with the first analyzer, the details of the source of atoms can be ignored."
   ]
  },
  {
   "cell_type": "markdown",
   "metadata": {},
   "source": [
    "### Experiment 2\n",
    "\n",
    "![Experiment 2](images/F01_4.png)\n",
    "\n",
    "- **Key Observation**: It is impossible to predict which of the second analyzer output ports any particular atom will come out."
   ]
  },
  {
   "cell_type": "markdown",
   "metadata": {},
   "source": [
    "### Experiment 3\n",
    "\n",
    "![Experiment 3](images/F01_5.png)\n",
    "\n",
    "- **Key Observation**: The second analyzer has disturbed the system such that the spin component along the $z$-axis does not have a unique value, even though we measured it with the first analyzer.\n",
    "- There is a fundamental incompatibility in trying to measure the spin component of the atom along two different directions; thus, $S_{x}$ and $S_{z}$ are **incompatible observables**."
   ]
  },
  {
   "cell_type": "markdown",
   "metadata": {},
   "source": [
    "### Experiment 4\n",
    "\n",
    "![Experiment 4](images/F01_6.png)\n",
    "\n",
    "- *Experiment 4a* ~ *Experiment 3*.\n",
    "- *Experiment 4b* ~ *Experiment 3* because *Experiment 2*.\n",
    "- **Key Observation**: By combining the two beams from the second analyzer, the quantum mechanical disturbance that was evident in Experiments 3, 4a, and 4b are avoided."
   ]
  },
  {
   "cell_type": "markdown",
   "metadata": {},
   "source": [
    "### Stern-Gerlach Experiments and Quantum Mechanics\n",
    "\n",
    "1. **Spin measurements are quantized.**\n",
    "    - The possible results of a spin component measurement are quantized. Only these discrete values are measured.\n",
    "2. **Quantum mechanics is probabilistic.**\n",
    "    - We cannot predict the results of experiments precisely. We can predict only the probability that a certain result is obtained in a measurement.\n",
    "    - *Experiment 2*.\n",
    "3. **Quantum measurements disturb the system.**\n",
    "    - Measuring one physical observable can \"destroy\" information about other observables.\n",
    "    - *Experiment 3 & 4*."
   ]
  },
  {
   "cell_type": "markdown",
   "metadata": {},
   "source": [
    "### Quantum State Vectors\n",
    "\n",
    "- **Kets** $\\implies$ **Quantum State Vectors** $\\implies$ **Hilbert Space**.\n",
    "\n",
    "#### Quantum Mechanical Basis Vectors\n",
    "\n",
    "- **Normalization**: $\\mathbf{\\hat{i}} \\cdot \\mathbf{\\hat{i}} = \\mathbf{\\hat{j}} \\cdot \\mathbf{\\hat{j}} = \\mathbf{\\hat{k}} \\cdot \\mathbf{\\hat{k}} = 1$\n",
    "    - $\\braket{+}{+} = 1$\n",
    "    - $\\braket{-}{-} = 1$\n",
    "- **Orthogonality**: $\\mathbf{\\hat{i}} \\cdot \\mathbf{\\hat{j}} = \\mathbf{\\hat{i}} \\cdot \\mathbf{\\hat{k}} = \\mathbf{\\hat{j}} \\cdot \\mathbf{\\hat{k}} = 0$\n",
    "    - $\\braket{+}{-} = 0$\n",
    "    - $\\braket{-}{+} = 0$\n",
    "- **Completeness**: $\\mathbf{A} = a_{x}\\mathbf{\\hat{i}} + a_{y}\\mathbf{\\hat{j}} + a_{z}\\mathbf{\\hat{k}}$\n",
    "    - $\\ket{\\psi} = a\\ket{+} + b\\ket{-}$\n",
    "- *Thus, all possible keys can be expressed as a linear combination of these quantum mechanical basis vectors.*\n",
    "    \n",
    "#### Kets (*Quantum State Vector*)(*Column Vectors*)\n",
    "\n",
    "- **Ket**:$\\ket{\\psi} = a\\ket{+} + b\\ket{-}$\n",
    "    - where $a$ and $b$ are complex scalar numbers.\n",
    "\n",
    "#### Bras (*Conjugate Quantum State Vector*)(*Row Vectors*)\n",
    "\n",
    "- **Bra**: $\\bra{\\psi} = a^{*}\\bra{+} + b^{*}\\bra{-}$\n",
    "    - where $a$ and $b$ are complex scalar conjugates.\n",
    "\n",
    "#### Inner Product\n",
    "\n",
    "- **Bracket**: $\\braket{bra}{ket} \\implies \\text{Dot Product}$\n",
    "    - *Note 1: A product of kets $\\ket{+}\\ket{+}$ is meaningless.*\n",
    "    - *Note 2: A product of bras $\\bra{+}\\bra{+}$ is meaningless.*\n",
    "- *Property 1: Distributive.*\n",
    "- *Property 2: Scalars Move Freely Through Bras/Kets.*\n",
    "- *Property 3: Normalization.*\n",
    "$$\n",
    "\\begin{aligned}\n",
    "\\braket{+}{\\psi} &= a \\\\\n",
    "\\braket{-}{\\psi} &= b \\\\\n",
    "\\braket{\\psi}{+} &= a^{*} \\\\\n",
    "\\braket{\\psi}{-} &= b^{*} \\\\\n",
    "\\braket{\\phi}{\\psi} &= \\braket{\\psi}{\\phi}^{*} \\\\\n",
    "\\braket{\\psi}{\\psi} &= 1 \\\\\n",
    "\\end{aligned}\n",
    "$$"
   ]
  },
  {
   "cell_type": "markdown",
   "metadata": {},
   "source": [
    "### Postulate 4 (Spin-1/2 System)\n",
    "\n",
    "- The probability of obtaining the value $\\pm\\frac{\\hbar}{2}$ in a measurement of the observable $S_{z}$ on a system in the state $\\ket{\\psi}$ is the following.\n",
    "$$P_{\\pm} = \\amp{\\braket{\\pm}{\\psi}}$$\n",
    "    - where $\\ket{\\pm}$ is the basis ket of $S_{z}$ corresponding to the result $\\pm\\frac{\\hbar}{2}$.\n",
    "    - where $\\amp{\\braket{\\pm}{\\psi}}$ is the probability amplitude.\n",
    "- *Note: $\\braket{out}{in} = \\braket{in}{out}^{*}$.*"
   ]
  },
  {
   "cell_type": "markdown",
   "metadata": {},
   "source": [
    "### Analysis of Experiment 1\n",
    "\n",
    "$$\n",
    "\\begin{aligned}\n",
    "\\mathcal{P}_{+} &= \\amp{\\braket{+}{+}} = 1\\\\\n",
    "\\mathcal{P}_{-} &= \\amp{\\braket{-}{+}} = 0\n",
    "\\end{aligned}\n",
    "$$\n",
    "\n",
    "1. The first analyzer prepared the second analyzer an input state of $\\ket{+}$.\n",
    "2. The second analyzer measured this input state $\\ket{+}$, so the probabilities can be calculated by evaluating the probability amplitudes for spin up and spin down."
   ]
  },
  {
   "cell_type": "markdown",
   "metadata": {},
   "source": [
    "### Analysis of Experiment 2\n",
    "\n",
    "1. The *spin up* and the *spin down* variants for the first analyzer yields the same experimental results.\n",
    "$$\n",
    "\\begin{aligned}\n",
    "\\mathcal{P}_{1, +x} &= \\amp{{}_{x}\\braket{+}{+}} = \\frac{1}{2}\\\\\n",
    "\\mathcal{P}_{1, -x} &= \\amp{{}_{x}\\braket{-}{+}} = \\frac{1}{2}\\\\\n",
    "\\mathcal{P}_{2, +x} &= \\amp{{}_{x}\\braket{+}{-}} = \\frac{1}{2}\\\\\n",
    "\\mathcal{P}_{2, -x} &= \\amp{{}_{x}\\braket{-}{-}} = \\frac{1}{2}\n",
    "\\end{aligned}\n",
    "$$\n",
    "2. The kets $\\ket{+}$ and $\\ket{-}$ are known as they are the basis kets of a spin-1/2 system; the kets $\\ket{+}_{x}$ and $\\ket{-}_{x}$ are unknown.\n",
    "3. Because of *completeness*, the kets $\\ket{+}_{x}$ and $\\ket{-}_{x}$ can be expressed by the following.\n",
    "$$\n",
    "\\begin{aligned}\n",
    "\\ket{+}_{x} &= a\\ket{+} + b\\ket{-} \\implies \\bra{+}_{x} = a^{*}\\bra{+} + b^{*}\\bra{-}\\\\\n",
    "\\ket{-}_{x} &= c\\ket{+} + d\\ket{-} \\implies \\bra{+}_{x} = c^{*}\\bra{+} + d^{*}\\bra{-}\n",
    "\\end{aligned}\n",
    "$$\n",
    "    - where $a$, $b$, $c$, and $d$ are unknown complex coefficients.\n",
    "4. Using the experimental results, the unknown complex coefficients can be determined.\n",
    "$$\n",
    "\\amp{a} = \\amp{b} = \\amp{c} = \\amp{d} = \\frac{1}{2}\n",
    "$$\n",
    "5. **Because each coefficient is complex, each has an amplitude and a phase. However, only the relative phase between different components of a quantum state vector is physically measurable. Thus, only one coefficient of each vector can be chosen to be real and positive without any loss of generality.**\n",
    "$$\n",
    "\\begin{aligned}\n",
    "\\ket{+}_{x} &= \\frac{1}{\\sqrt{2}}\\left[ \\ket{+} + e^{i\\alpha}\\ket{-} \\right]\\\\\n",
    "\\ket{-}_{x} &= \\frac{1}{\\sqrt{2}}\\left[ \\ket{+} + e^{i\\beta}\\ket{-} \\right]\n",
    "\\end{aligned}\n",
    "$$\n",
    "    - where $\\alpha$ and $\\beta$ are unknown relative phases.\n",
    "6. If Experiment 1 was performed with both analyzers aligned along the $x$-axis, the $\\ket{\\pm}_{x}$ form the $S_{x}$ basis.\n",
    "$$\n",
    "\\begin{aligned}\n",
    "{}_{x}\\braket{+}{+}_{x} &= 1\\\\\n",
    "{}_{x}\\braket{-}{+}_{x} &= 0\\\\\n",
    "\\end{aligned}\n",
    "$$\n",
    "7. Using the observation that the kets $\\ket{+}_{x}$ and $\\ket{-}_{x}$ are orthogonal, the following can be derived.\n",
    "$$\n",
    "e^{i\\alpha} = -e^{i\\beta}\n",
    "$$"
   ]
  }
 ],
 "metadata": {
  "kernelspec": {
   "display_name": "Python 3",
   "language": "python",
   "name": "python3"
  },
  "language_info": {
   "codemirror_mode": {
    "name": "ipython",
    "version": 3
   },
   "file_extension": ".py",
   "mimetype": "text/x-python",
   "name": "python",
   "nbconvert_exporter": "python",
   "pygments_lexer": "ipython3",
   "version": "3.7.3"
  },
  "toc": {
   "base_numbering": 1,
   "nav_menu": {},
   "number_sections": false,
   "sideBar": false,
   "skip_h1_title": false,
   "title_cell": "Table of Contents",
   "title_sidebar": "Contents",
   "toc_cell": false,
   "toc_position": {},
   "toc_section_display": false,
   "toc_window_display": false
  }
 },
 "nbformat": 4,
 "nbformat_minor": 2
}
