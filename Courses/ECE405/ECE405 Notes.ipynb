{
 "cells": [
  {
   "cell_type": "markdown",
   "metadata": {},
   "source": [
    "# ECE 405 - Introduction to Quantum Mechanics"
   ]
  },
  {
   "cell_type": "markdown",
   "metadata": {},
   "source": [
    "## LaTeX Commands\n",
    "\n",
    "- $\\newcommand{\\bra}[1]{\\langle{#1}\\rvert}$ `$\\bra{+}$`: $\\bra{+}$\n",
    "- $\\newcommand{\\ket}[1]{\\lvert{#1}\\rangle}$ `$\\ket{+}$`: $\\ket{+}$\n",
    "- $\\newcommand{\\braket}[2]{\\langle{#1}\\vert{#2}\\rangle}$ `$\\braket{+}{+}$`: $\\braket{+}{+}$\n",
    "- $\\newcommand{\\sandwich}[3]{\\langle{#1}\\vert{#2}\\vert{#3}\\rangle}$ `$\\sandwich{+}{A}{+}$`: $\\sandwich{+}{A}{+}$\n",
    "- $\\newcommand{\\amp}[1]{{\\lvert{#1}\\rvert}^{2}}$ `$\\amp{\\braket{\\pm}{\\psi}}$`: $\\amp{\\braket{\\pm}{\\psi}}$\n",
    "- $\\newcommand{\\det}[1]{\\text{det}\\lvert{#1}\\rvert}$ `$\\det{A - \\lambda I}$`: $\\det{A - \\lambda I}$"
   ]
  },
  {
   "cell_type": "markdown",
   "metadata": {},
   "source": [
    "## Stern-Gerlach Experiments"
   ]
  },
  {
   "cell_type": "markdown",
   "metadata": {},
   "source": [
    "### Overview\n",
    "\n",
    "![Stern-Gerlach Experiment](images/F01_1.png)\n",
    "\n",
    "- Produced by an oven, a beam of neutral silver atoms was split into two in its passage through an inhomogenous magnetic field."
   ]
  },
  {
   "cell_type": "markdown",
   "metadata": {},
   "source": [
    "### Classical vs. Quantum Interpretation\n",
    "\n",
    "1. The experiment suggests an interaction between a neutral particle and a magnetic field.\n",
    "2. Accordingly, the particle possesses a magnetic moment $\\mathbf{\\mu}$ such that the potential energy of this interaction is $E = - \\mathbf{\\mu} \\cdot \\mathbf{B}$, which results in a force $\\mathbf{F} = \\nabla(\\mathbf{\\mu} \\cdot \\mathbf{B})$.\n",
    "3. Because the magnetic field gradient is in the $z$-direction, the force is perpendicular to the direction of motion and deflects the beam in proportion to the component of the magnetic moment in the direction of the magnetic field gradient.\n",
    "4. A charged particle in an atom has an **orbital angular momentum** $L$ and an **intrinsic angular momentum**, **spin**, $S$.\n",
    "$$\n",
    "\\begin{aligned}\n",
    "\\mathbf{\\mu} &= \\frac{q}{2m} \\mathbf{L} \\\\\n",
    "\\mathbf{\\mu} &= g \\frac{q}{2m} \\mathbf{S}\n",
    "\\end{aligned}\n",
    "$$\n",
    "    - where $q$ is the charge.\n",
    "    - where $m$ is the mass.\n",
    "    - where $g$ is the gyroscopic ratio.\n",
    "5. The magnetic moment of a neutral silver atom is the magnetic moment of its only outermost electron.\n",
    "$$\n",
    "\\begin{aligned}\n",
    "\\mathbf{\\mu} &= -g \\frac{e}{2m_{e}} \\mathbf{S} \\\\\n",
    "F_{z} &= -g \\frac{2}{2m_{e}} S_{z} \\frac{\\delta B_{z}}{\\delta z} \\\\\n",
    "S_{z} &= \\lvert \\mathbf{S} \\rvert \\cos \\theta\n",
    "\\end{aligned}\n",
    "$$\n",
    "6. Thus, the deflection of the beam in the Stern-Gerlach experiment is a measure of the component $S_{z}$ of the spin along the $z$-axis, which is the orientation of the magnetic field gradient.\n",
    "    - **Classical**: A continuous distribution of spin components from $-\\lvert \\mathbf{S} \\rvert$ to $+\\lvert \\mathbf{S} \\rvert$ was expected to be observed.\n",
    "    - **Quantum**: A discrete distribution of spin components $S_{z} = \\pm \\frac{\\hbar}{2}$ was actually observed.\n",
    "        - where $\\hbar = 6.5821 \\times 10^{-16} eV \\cdot s$ is Planck's constant $h$ divided by $2\\pi$.\n",
    "7. The result of the Stern-Gerlach experiment is evidence of the **quantization** of the electron's spin angular momentum component along an axis."
   ]
  },
  {
   "cell_type": "markdown",
   "metadata": {},
   "source": [
    "### Stern-Gerlach Device\n",
    "\n",
    "![Stern-Gerlach Device](images/F01_2.png)\n",
    "\n",
    "- **Analyzer**: A Stern-Gerlach device labeled with the axis along which the magnetic field is oriented.\n",
    "- **Observable**: The physical quantity that is measured.\n",
    "- The up and down arrows indicate the two possible measurement results for the device: **spin up** and **spin down**, respectively.\n",
    "    - *Upper Output Beam Ket*: $\\ket{+} \\implies S_{z} = +\\frac{\\hbar}{2}$\n",
    "    - *Bottom Output Beam Ket*: $\\ket{-} \\implies S_{z} = -\\frac{\\hbar}{2}$\n",
    "    - *Input Beam Ket*: $\\ket{\\psi}$"
   ]
  },
  {
   "cell_type": "markdown",
   "metadata": {},
   "source": [
    "### Experiment 1\n",
    "\n",
    "![Experiment 1](images/F01_3.png)\n",
    "\n",
    "- **Key Observation**: The first analyzer (i.e., **state preparation device**) prepares the beam in a particular quantum state ($\\ket{+}$) and the second analyzer measures the resultant beam. By preparing the state with the first analyzer, the details of the source of atoms can be ignored."
   ]
  },
  {
   "cell_type": "markdown",
   "metadata": {},
   "source": [
    "### Experiment 2\n",
    "\n",
    "![Experiment 2](images/F01_4.png)\n",
    "\n",
    "- **Key Observation**: It is impossible to predict which of the second analyzer output ports any particular atom will come out."
   ]
  },
  {
   "cell_type": "markdown",
   "metadata": {},
   "source": [
    "### Experiment 3\n",
    "\n",
    "![Experiment 3](images/F01_5.png)\n",
    "\n",
    "- **Key Observation**: The second analyzer has disturbed the system such that the spin component along the $z$-axis does not have a unique value, even though we measured it with the first analyzer.\n",
    "- There is a fundamental incompatibility in trying to measure the spin component of the atom along two different directions; thus, $S_{x}$ and $S_{z}$ are **incompatible observables**."
   ]
  },
  {
   "cell_type": "markdown",
   "metadata": {},
   "source": [
    "### Experiment 4\n",
    "\n",
    "![Experiment 4](images/F01_6.png)\n",
    "\n",
    "- *Experiment 4a* ~ *Experiment 3*.\n",
    "- *Experiment 4b* ~ *Experiment 3* because *Experiment 2*.\n",
    "- **Key Observation**: By combining the two beams from the second analyzer, the quantum mechanical disturbance that was evident in Experiments 3, 4a, and 4b are avoided."
   ]
  },
  {
   "cell_type": "markdown",
   "metadata": {},
   "source": [
    "### Stern-Gerlach Experiments and Quantum Mechanics\n",
    "\n",
    "1. **Spin measurements are quantized.**\n",
    "    - The possible results of a spin component measurement are quantized. Only these discrete values are measured.\n",
    "2. **Quantum mechanics is probabilistic.**\n",
    "    - We cannot predict the results of experiments precisely. We can predict only the probability that a certain result is obtained in a measurement.\n",
    "    - *Experiment 2*.\n",
    "3. **Quantum measurements disturb the system.**\n",
    "    - Measuring one physical observable can \"destroy\" information about other observables.\n",
    "    - *Experiment 3 & 4*."
   ]
  },
  {
   "cell_type": "markdown",
   "metadata": {},
   "source": [
    "### Quantum State Vectors\n",
    "\n",
    "- **Kets** $\\implies$ **Quantum State Vectors** $\\implies$ **Hilbert Space**.\n",
    "\n",
    "#### Quantum Mechanical Basis Vectors\n",
    "\n",
    "- **Normalization**: $\\mathbf{\\hat{i}} \\cdot \\mathbf{\\hat{i}} = \\mathbf{\\hat{j}} \\cdot \\mathbf{\\hat{j}} = \\mathbf{\\hat{k}} \\cdot \\mathbf{\\hat{k}} = 1$\n",
    "    - $\\braket{+}{+} = 1$\n",
    "    - $\\braket{-}{-} = 1$\n",
    "- **Orthogonality**: $\\mathbf{\\hat{i}} \\cdot \\mathbf{\\hat{j}} = \\mathbf{\\hat{i}} \\cdot \\mathbf{\\hat{k}} = \\mathbf{\\hat{j}} \\cdot \\mathbf{\\hat{k}} = 0$\n",
    "    - $\\braket{+}{-} = 0$\n",
    "    - $\\braket{-}{+} = 0$\n",
    "- **Completeness**: $\\mathbf{A} = a_{x}\\mathbf{\\hat{i}} + a_{y}\\mathbf{\\hat{j}} + a_{z}\\mathbf{\\hat{k}}$\n",
    "    - $\\ket{\\psi} = a\\ket{+} + b\\ket{-}$\n",
    "- *Thus, all possible keys can be expressed as a linear combination of these quantum mechanical basis vectors.*\n",
    "    \n",
    "#### Kets (*Quantum State Vector*)(*Column Vectors*)\n",
    "\n",
    "- **Ket**:$\\ket{\\psi} = a\\ket{+} + b\\ket{-}$\n",
    "    - where $a$ and $b$ are complex scalar numbers.\n",
    "\n",
    "#### Bras (*Conjugate Quantum State Vector*)(*Row Vectors*)\n",
    "\n",
    "- **Bra**: $\\bra{\\psi} = a^{*}\\bra{+} + b^{*}\\bra{-}$\n",
    "    - where $a$ and $b$ are complex scalar conjugates.\n",
    "\n",
    "#### Inner Product\n",
    "\n",
    "- **Bracket**: $\\braket{bra}{ket} \\implies \\text{Dot Product}$\n",
    "    - *Note 1: A product of kets $\\ket{+}\\ket{+}$ is meaningless.*\n",
    "    - *Note 2: A product of bras $\\bra{+}\\bra{+}$ is meaningless.*\n",
    "- *Property 1: Distributive.*\n",
    "- *Property 2: Scalars Move Freely Through Bras/Kets.*\n",
    "- *Property 3: Normalization.*\n",
    "$$\n",
    "\\begin{aligned}\n",
    "\\braket{+}{\\psi} &= a \\\\\n",
    "\\braket{-}{\\psi} &= b \\\\\n",
    "\\braket{\\psi}{+} &= a^{*} \\\\\n",
    "\\braket{\\psi}{-} &= b^{*} \\\\\n",
    "\\braket{\\phi}{\\psi} &= \\braket{\\psi}{\\phi}^{*} \\\\\n",
    "\\braket{\\psi}{\\psi} &= 1 \\\\\n",
    "\\end{aligned}\n",
    "$$\n",
    "\n",
    "#### Cartesian Axes\n",
    "\n",
    "$$\n",
    "\\begin{aligned}\n",
    "\\ket{+} &= \\ket{+}\\\\\n",
    "\\ket{-} &= \\ket{-}\\\\\n",
    "\\ket{+}_{x} &= \\frac{1}{\\sqrt{2}}\\left[ \\ket{+} + \\ket{-} \\right]\\\\\n",
    "\\ket{-}_{x} &= \\frac{1}{\\sqrt{2}}\\left[ \\ket{+} - \\ket{-} \\right]\\\\\n",
    "\\ket{+}_{y} &= \\frac{1}{\\sqrt{2}}\\left[ \\ket{+} + i\\ket{-} \\right]\\\\\n",
    "\\ket{-}_{y} &= \\frac{1}{\\sqrt{2}}\\left[ \\ket{+} - i\\ket{-} \\right]\n",
    "\\end{aligned}\n",
    "$$"
   ]
  },
  {
   "cell_type": "markdown",
   "metadata": {},
   "source": [
    "### Probability in Spin-1/2 System\n",
    "\n",
    "- The probability of obtaining the value $\\pm\\frac{\\hbar}{2}$ in a measurement of the observable $S_{z}$ on a system in the state $\\ket{\\psi}$ is the following.\n",
    "$$P_{\\pm} = \\amp{\\braket{\\pm}{\\psi}}$$\n",
    "    - where $\\ket{\\pm}$ is the basis ket of $S_{z}$ corresponding to the result $\\pm\\frac{\\hbar}{2}$.\n",
    "    - where $\\amp{\\braket{\\pm}{\\psi}}$ is the probability amplitude.\n",
    "- *Note: $\\braket{out}{in} = \\braket{in}{out}^{*}$.*"
   ]
  },
  {
   "cell_type": "markdown",
   "metadata": {},
   "source": [
    "### Analysis of Experiment 1\n",
    "\n",
    "$$\n",
    "\\begin{aligned}\n",
    "\\mathcal{P}_{+} &= \\amp{\\braket{+}{+}} = 1\\\\\n",
    "\\mathcal{P}_{-} &= \\amp{\\braket{-}{+}} = 0\n",
    "\\end{aligned}\n",
    "$$\n",
    "\n",
    "1. The first analyzer prepared the second analyzer an input state of $\\ket{+}$.\n",
    "2. The second analyzer measured this input state $\\ket{+}$, so the probabilities can be calculated by evaluating the probability amplitudes for spin up and spin down."
   ]
  },
  {
   "cell_type": "markdown",
   "metadata": {},
   "source": [
    "### Analysis of Experiment 2\n",
    "\n",
    "1. The *spin up* and the *spin down* variants for the first analyzer yields the same experimental results.\n",
    "$$\n",
    "\\begin{aligned}\n",
    "\\mathcal{P}_{1, +x} &= \\amp{{}_{x}\\braket{+}{+}} = \\frac{1}{2}\\\\\n",
    "\\mathcal{P}_{1, -x} &= \\amp{{}_{x}\\braket{-}{+}} = \\frac{1}{2}\\\\\n",
    "\\mathcal{P}_{2, +x} &= \\amp{{}_{x}\\braket{+}{-}} = \\frac{1}{2}\\\\\n",
    "\\mathcal{P}_{2, -x} &= \\amp{{}_{x}\\braket{-}{-}} = \\frac{1}{2}\n",
    "\\end{aligned}\n",
    "$$\n",
    "2. The kets $\\ket{+}$ and $\\ket{-}$ are known as they are the basis kets of a spin-1/2 system; the kets $\\ket{+}_{x}$ and $\\ket{-}_{x}$ are unknown.\n",
    "3. Because of *completeness*, the kets $\\ket{+}_{x}$ and $\\ket{-}_{x}$ can be expressed by the following.\n",
    "$$\n",
    "\\begin{aligned}\n",
    "\\ket{+}_{x} &= a\\ket{+} + b\\ket{-} \\implies \\bra{+}_{x} = a^{*}\\bra{+} + b^{*}\\bra{-}\\\\\n",
    "\\ket{-}_{x} &= c\\ket{+} + d\\ket{-} \\implies \\bra{+}_{x} = c^{*}\\bra{+} + d^{*}\\bra{-}\n",
    "\\end{aligned}\n",
    "$$\n",
    "    - where $a$, $b$, $c$, and $d$ are unknown complex coefficients.\n",
    "4. Using the experimental results, the unknown complex coefficients can be determined.\n",
    "$$\n",
    "\\amp{a} = \\amp{b} = \\amp{c} = \\amp{d} = \\frac{1}{2}\n",
    "$$\n",
    "5. **Because each coefficient is complex, each has an amplitude and a phase. However, only the relative phase between different components of a quantum state vector is physically measurable. Thus, only one coefficient of each vector can be chosen to be real and positive without any loss of generality.**\n",
    "$$\n",
    "\\begin{aligned}\n",
    "\\ket{+}_{x} &= \\frac{1}{\\sqrt{2}}\\left[ \\ket{+} + e^{i\\alpha}\\ket{-} \\right]\\\\\n",
    "\\ket{-}_{x} &= \\frac{1}{\\sqrt{2}}\\left[ \\ket{+} + e^{i\\beta}\\ket{-} \\right]\n",
    "\\end{aligned}\n",
    "$$\n",
    "    - where $\\alpha$ and $\\beta$ are unknown relative phases.\n",
    "6. If Experiment 1 was performed with both analyzers aligned along the $x$-axis, the $\\ket{\\pm}_{x}$ form the $S_{x}$ basis.\n",
    "$$\n",
    "\\begin{aligned}\n",
    "{}_{x}\\braket{+}{+}_{x} &= 1\\\\\n",
    "{}_{x}\\braket{-}{+}_{x} &= 0\\\\\n",
    "\\end{aligned}\n",
    "$$\n",
    "7. Using the observation that the kets $\\ket{+}_{x}$ and $\\ket{-}_{x}$ are orthogonal, the following can be derived.\n",
    "$$e^{i\\alpha} = -e^{i\\beta}$$\n",
    "8. Accordingly, let $\\alpha = 0 \\implies e^{i\\alpha} = 1 \\land e^{i\\beta} = -1$.\n",
    "$$\n",
    "\\begin{aligned}\n",
    "\\ket{+}_{x} &= \\frac{1}{\\sqrt{2}}\\left[ \\ket{+} + \\ket{-} \\right]\\\\\n",
    "\\ket{-}_{x} &= \\frac{1}{\\sqrt{2}}\\left[ \\ket{+} - \\ket{-} \\right]\n",
    "\\end{aligned}\n",
    "$$"
   ]
  },
  {
   "cell_type": "markdown",
   "metadata": {},
   "source": [
    "### Matrix Notation\n",
    "\n",
    "$$\n",
    "\\begin{aligned}\n",
    "\\ket{+} &= \\begin{pmatrix}1 \\\\ 0\\end{pmatrix}\\\\\n",
    "\\ket{-} &= \\begin{pmatrix}0 \\\\ 1\\end{pmatrix}\\\\\n",
    "\\ket{+}_{x} &= \\frac{1}{\\sqrt{2}}\\begin{pmatrix}1 \\\\ 1\\end{pmatrix}\\\\\n",
    "\\ket{-}_{x} &= \\frac{1}{\\sqrt{2}}\\begin{pmatrix}1 \\\\ -1\\end{pmatrix}\\\\\n",
    "\\ket{+}_{x} &= \\frac{1}{\\sqrt{2}}\\begin{pmatrix}1 \\\\ i\\end{pmatrix}\\\\\n",
    "\\ket{-}_{x} &= \\frac{1}{\\sqrt{2}}\\begin{pmatrix}1 \\\\ -i\\end{pmatrix}\\\\\n",
    "\\ket{\\psi} &= \\begin{pmatrix}a \\\\ b\\end{pmatrix}\\\\\n",
    "\\bra{\\psi} &= \\left(a^{*} \\quad b^{*}\\right)\n",
    "\\end{aligned}\n",
    "$$"
   ]
  },
  {
   "cell_type": "markdown",
   "metadata": {},
   "source": [
    "### General Quantum Systems\n",
    "\n",
    "![General Quantum Mechanical Measurement](images/F01_15.png)\n",
    "\n",
    "$$\n",
    "\\begin{aligned}\n",
    "\\braket{a_{i}}{a_{j}} &= \\delta_{ij} \\quad \\text{orthonormality}\\\\\n",
    "\\ket{\\psi} &= \\sum_{i} \\braket{a_{i}}{\\psi}\\ket{a_{i}} \\quad \\text{completeness}\\\\\n",
    "\\delta_{ij} &= \\begin{cases}0 & i \\ne j \\\\ 1 & i = j\\end{cases}\\\\\n",
    "\\mathcal{P}_{a_{n}} &= \\amp{\\braket{a_{n}}{\\psi_{in}}}\n",
    "\\end{aligned}\n",
    "$$"
   ]
  },
  {
   "cell_type": "markdown",
   "metadata": {},
   "source": [
    "### Postulates of Quantum Mechanics\n",
    "\n",
    "1. The state of a quantum mechanical system, including all the information you can know about it, is represented mathematically by a normalized ket $\\ket{\\psi}$.\n",
    "2. A physical observable is represented mathematically by an operator $A$ that acts on kets.\n",
    "3. The only possible result of a measurement of an observable is one of the eigenvalues $a_{n}$ of the corresponding operator $A$.\n",
    "4. The probability of obtaining the eigenvalue $a_{n}$ in a measurement of the observable $A$ on the system in the state $\\ket{\\psi}$ is:\n",
    "$$\\mathcal{P}_{a_{n}} = \\amp{\\braket{a_{n}}{\\psi}}$$\n",
    "    - where $\\ket{a_{n}}$ is the normalized eigenvector of $A$ corresponding to the eigenvalue $a_{n}$.\n",
    "5. After a measurement of $A$ that yields the result $a_{n}$, the quantum system is in a new state that is the normalized projection of the original system ket onto the ket (or kets) corresponding to the result of the measurement:\n",
    "$$\\ket{\\psi'} = \\frac{P_{n}\\ket{\\psi}}{\\sqrt{\\sandwich{\\psi}{P_{n}}{\\psi}}}$$\n",
    "6. The time evolution of a quantum system is determined by the Hamiltonian or total energy operator $H(t)$ through a Schrodinger equation:\n",
    "$$i\\hbar\\frac{d}{dt}\\ket{\\psi(t)} = H(t)\\ket{\\psi(t)}$$"
   ]
  },
  {
   "cell_type": "markdown",
   "metadata": {},
   "source": [
    "## Operators and Measurement"
   ]
  },
  {
   "cell_type": "markdown",
   "metadata": {},
   "source": [
    "### Operators, Eigenvalues, and Eigenvectors\n",
    "\n",
    "- An **operator** is a mathematical object that acts or operates on a ket and transforms it into a new ket: $A\\ket{\\psi} = \\ket{\\phi}$.\n",
    "- An ket that is not changed by an operator, except for a possible multiplicative constant, is $A\\ket{\\psi} = a\\ket{\\psi}$.\n",
    "    - where $A$ is the operator.\n",
    "    - where $\\ket{\\psi}$ is the eigenvector.\n",
    "    - where $a$ is the eigenvalue.\n",
    "- In an **eigenvalue equation**, the *observable* is represented by an operator, the eigenvalue is one of the possible measurement results of the observable, and the eigenvector is the ket corresponding to the chosen eigenvalue of the operator.\n",
    "- **Important Note 1**: An operator is always diagonal in its own basis.\n",
    "- **Important Note 2**: Eigenvectors are unit vectors in their own basis."
   ]
  },
  {
   "cell_type": "markdown",
   "metadata": {},
   "source": [
    "### Matrices\n",
    "\n",
    "#### Matrix Addition\n",
    "\n",
    "$$C_{ij} = A_{ij} + B_{ij}$$\n",
    "\n",
    "$$A + B = \\begin{pmatrix}a & b\\\\ c & d\\end{pmatrix} + \\begin{pmatrix}e & f\\\\ g & h\\end{pmatrix} = \\begin{pmatrix}a + e & b + f\\\\ c + g & d + h\\end{pmatrix}$$\n",
    "\n",
    "#### Matrix Multiplication\n",
    "\n",
    "$$C_{ij} = \\sum^{n}_{k = 1} A_{ik} B_{kj}$$\n",
    "\n",
    "$$AB = \\begin{pmatrix}a & b\\\\ c & d\\end{pmatrix} \\begin{pmatrix}e & f\\\\ g & h\\end{pmatrix} = \\begin{pmatrix}ae + bg & af + bh\\\\ ce + dg & cf + dh \\end{pmatrix}$$\n",
    "\n",
    "- To find the matrix element $C_{ij}$ in the $i$th row and $j$th column of $C$, that the scalar product of the $i$th row of $A$ and the $j$th column of $B$.\n",
    "\n",
    "#### Determinant of a Matrix\n",
    "\n",
    "$$\\det{A} = \\begin{vmatrix}a & b\\\\ c & d\\end{vmatrix} = ad - bc$$"
   ]
  },
  {
   "cell_type": "markdown",
   "metadata": {},
   "source": [
    "### Matrix Representation of Operators\n",
    "\n",
    "$$\n",
    "\\begin{aligned}\n",
    "A &= \\begin{pmatrix}a & b\\\\ c & d\\end{pmatrix}\\\\\n",
    "A\\ket{+} &= \\begin{pmatrix}a & b\\\\ c & d\\end{pmatrix} \\begin{pmatrix}1 \\\\ 0\\end{pmatrix} = \\begin{pmatrix}a \\\\ c\\end{pmatrix}\\\\\n",
    "\\sandwich{+}{A}{+} &= \\begin{pmatrix}1 & 0\\end{pmatrix} \\begin{pmatrix}a \\\\ c\\end{pmatrix} = a\\\\\n",
    "A &= \\begin{pmatrix}\\sandwich{+}{A}{+} & \\sandwich{+}{A}{-}\\\\ \\sandwich{-}{A}{+} & \\sandwich{-}{A}{-}\\end{pmatrix}\\\\\n",
    "\\sandwich{\\text{bra}}{\\text{OPERATOR}}{\\text{ket}} &= \\sandwich{\\text{row}}{\\text{OPERATOR}}{\\text{column}}\n",
    "\\end{aligned}\n",
    "$$"
   ]
  },
  {
   "cell_type": "markdown",
   "metadata": {},
   "source": [
    "### Diagonalization of Operators\n",
    "\n",
    "1. Experimental Results $+$ Eigenvalue Equation $\\implies$ Matrix Representation.\n",
    "2. Matrix Represenation $\\implies$ Theoretical Results.\n",
    "\n",
    "#### General Operator in Two-State System\n",
    "\n",
    "$$\n",
    "\\begin{aligned}\n",
    "A\\ket{a_{n}} &= a_{n}\\ket{a_{n}}\\\\\n",
    "A\\ket{a_{n}} &= \\begin{pmatrix}A_{11} & A_{12}\\\\ A_{21} & A_{22}\\end{pmatrix} \\begin{pmatrix}c_{n1} \\\\ c_{n2}\\end{pmatrix} = a_{n}\\begin{pmatrix}c_{n1} \\\\ c_{n2}\\end{pmatrix}\\\\\n",
    "\\end{aligned}\n",
    "$$\n",
    "- where $A$ is the operator.\n",
    "- where $a_{n}$ is the corresponding eigenvalue.\n",
    "- where $\\ket{a_{n}}$ is the corresponding eigenvector.\n",
    "- where $c_{n1}$ and $c_{n2}$ are the unknown coefficients of the eigenvector $\\ket{a_{n}}$ for the eigenvalue $a_{n}$.\n",
    "\n",
    ">Solve for the eigenvalues and eigenvectors by solving $\\det{A - \\lambda I} = 0$.\n",
    "\n",
    "#### Two-State System Operators/Eigenvectors\n",
    "\n",
    "![Two-State System Operators/Eigenvectors](images/F02_38.png)"
   ]
  },
  {
   "cell_type": "markdown",
   "metadata": {},
   "source": [
    "### New Operators: Spin Component in a General Direction\n",
    "\n",
    "![Spin Component in a General Direction](images/F02_3.png)\n",
    "\n",
    "1. Let $S_{n}$ be the operator for th spin component along a general direction $\\mathbf{\\hat{n}}$.\n",
    "2. Let $\\mathbf{\\hat{n}}$ be a unit vector specified by the polar and azimuthal angles $\\theta$ and $\\phi$.\n",
    "$$\\mathbf{\\hat{n}} = \\mathbf{\\hat{i}}\\sin{\\theta}\\cos{\\phi} + \\mathbf{\\hat{j}}\\sin{\\theta}\\sin{\\phi} + \\mathbf{\\hat{k}}\\cos{\\theta}$$\n",
    "3. The spin component along this direction is obtained by projecting the spin vector $\\mathbf{S}$ onto this new unit vector.\n",
    "$$\n",
    "\\begin{aligned}\n",
    "S_{n} &= \\mathbf{S \\cdot \\hat{n}} = S_{x}\\sin{\\theta}\\cos{\\phi} + S_{y}\\sin{\\theta}\\sin{\\phi} + S_{z}\\cos{\\theta}\\\\\n",
    "S_{n} &= \\frac{\\hbar}{2}\\begin{pmatrix}\\cos{\\theta} & \\sin{\\theta}e^{-i\\phi}\\\\ \\sin{\\theta}e^{i\\phi} & -\\cos{\\theta} \\end{pmatrix}\n",
    "\\end{aligned}\n",
    "$$\n",
    "4. **Eigenvalues**: $\\pm\\frac{\\hbar}{2}$\n",
    "5. **Eigenvectors**:\n",
    "$$\n",
    "\\begin{aligned}\n",
    "\\ket{+}_{n} &= \\cos{\\frac{\\theta}{2}}\\ket{+} + \\sin{\\frac{\\theta}{2}}e^{i\\phi}\\ket{-}\\\\\n",
    "\\ket{-}_{n} &= \\sin{\\frac{\\theta}{2}}\\ket{+} - \\cos{\\frac{\\theta}{2}}e^{i\\phi}\\ket{-}\n",
    "\\end{aligned}\n",
    "$$\n",
    "6. **General State**:\n",
    "$$\\ket{\\psi} = \\lvert{a}\\rvert\\ket{+} + \\sqrt{1 - {\\lvert{a}\\rvert}^{2}}e^{i\\phi}\\ket{-}$$"
   ]
  }
 ],
 "metadata": {
  "kernelspec": {
   "display_name": "Python 3",
   "language": "python",
   "name": "python3"
  },
  "language_info": {
   "codemirror_mode": {
    "name": "ipython",
    "version": 3
   },
   "file_extension": ".py",
   "mimetype": "text/x-python",
   "name": "python",
   "nbconvert_exporter": "python",
   "pygments_lexer": "ipython3",
   "version": "3.7.3"
  },
  "toc": {
   "base_numbering": 1,
   "nav_menu": {},
   "number_sections": false,
   "sideBar": false,
   "skip_h1_title": false,
   "title_cell": "Table of Contents",
   "title_sidebar": "Contents",
   "toc_cell": false,
   "toc_position": {},
   "toc_section_display": false,
   "toc_window_display": false
  }
 },
 "nbformat": 4,
 "nbformat_minor": 2
}
