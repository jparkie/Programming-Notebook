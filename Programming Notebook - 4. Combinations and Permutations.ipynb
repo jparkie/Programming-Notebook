{
 "cells": [
  {
   "cell_type": "markdown",
   "metadata": {},
   "source": [
    "# Programming Notebook\n",
    "*Author: Jacob Park*"
   ]
  },
  {
   "cell_type": "markdown",
   "metadata": {},
   "source": [
    "## Combinations and Permutations"
   ]
  },
  {
   "cell_type": "markdown",
   "metadata": {},
   "source": [
    "### Generating Combinations"
   ]
  },
  {
   "cell_type": "code",
   "execution_count": 1,
   "metadata": {},
   "outputs": [
    {
     "data": {
      "text/plain": [
       "recursive_algorithms.generating_combinations.GeneratingCombinations"
      ]
     },
     "execution_count": 1,
     "metadata": {},
     "output_type": "execute_result"
    }
   ],
   "source": [
    "package recursive_algorithms.generating_combinations;\n",
    "\n",
    "import java.util.*;\n",
    "\n",
    "class GeneratingCombinations {\n",
    "    \n",
    "    /*\n",
    "     * The number of combinations of a set of n elements is 2^n.\n",
    "     *\n",
    "     * A combination can be formed by asking \"yes\" or \"no\" \n",
    "     * to whether an element should be included for all elements.\n",
    "     *\n",
    "     * 1. Output the buffer as a combination.\n",
    "     * 2. For every element in the list,\n",
    "     *    a. Add the element into the buffer to represent \"yes\".\n",
    "     *    b. Recurse with the tail list at the element.\n",
    "     *    c. Remove the element from the buffer to represent \"no\".\n",
    "     */\n",
    "    public static void generateCombinations(\n",
    "        List<Integer> list, \n",
    "        List<List<Integer>> results, \n",
    "        Deque<Integer> buffer\n",
    "    ) {\n",
    "        results.add(new ArrayList<>(buffer));\n",
    "        \n",
    "        for (int index = 0; index < list.size(); index++) {\n",
    "            List<Integer> tailList = list.subList(index + 1, list.size());\n",
    "            \n",
    "            buffer.addLast(list.get(index));\n",
    "            generateCombinations(tailList, results, buffer);\n",
    "            buffer.removeLast();\n",
    "        }\n",
    "    }\n",
    "    \n",
    "}"
   ]
  },
  {
   "cell_type": "code",
   "execution_count": 2,
   "metadata": {},
   "outputs": [
    {
     "name": "stdout",
     "output_type": "stream",
     "text": [
      "[]\n",
      "[0]\n",
      "[0, 1]\n",
      "[0, 1, 2]\n",
      "[0, 2]\n",
      "[1]\n",
      "[1, 2]\n",
      "[2]\n"
     ]
    },
    {
     "data": {
      "text/plain": [
       "null"
      ]
     },
     "execution_count": 2,
     "metadata": {},
     "output_type": "execute_result"
    }
   ],
   "source": [
    "package recursive_algorithms.generating_combinations;\n",
    "\n",
    "import java.util.*;\n",
    "\n",
    "List<Integer> list = new ArrayList(Arrays.asList(0, 1, 2));\n",
    "List<List<Integer>> results = new ArrayList<>();\n",
    "Deque<Integer> buffer = new ArrayDeque<>();\n",
    "\n",
    "GeneratingCombinations.generateCombinations(list, results, buffer);\n",
    "\n",
    "results.forEach(combination -> {\n",
    "    System.out.println(combination.toString());\n",
    "});"
   ]
  },
  {
   "cell_type": "markdown",
   "metadata": {},
   "source": [
    "### Generating Permutations"
   ]
  },
  {
   "cell_type": "code",
   "execution_count": 3,
   "metadata": {},
   "outputs": [
    {
     "data": {
      "text/plain": [
       "recursive_algorithms.generating_permutations.GeneratingPermutations"
      ]
     },
     "execution_count": 3,
     "metadata": {},
     "output_type": "execute_result"
    }
   ],
   "source": [
    "package recursive_algorithms.generating_permutations;\n",
    "\n",
    "import java.util.*;\n",
    "\n",
    "class GeneratingPermutations {\n",
    "    \n",
    "    /*\n",
    "     * The number of permutations of a set of n elements is n!.\n",
    "     *\n",
    "     * A permutation can be formed by asking \"yes\" or \"no\"\n",
    "     * to whether an element should be included at a remaining position\n",
    "     * for all elements.\n",
    "     *\n",
    "     * 1. If all elements in the list have been considered, \n",
    "     *    then output the buffer as a permutation.\n",
    "     * 2. For every element in the list,\n",
    "     *    a. Add the element into the buffer to represent \"yes\".\n",
    "     *    b. Recurse with the spliced list at the element.\n",
    "     *    c. Remove the element from the buffer to represent \"no\".\n",
    "     */\n",
    "    public static void generatePermutations(\n",
    "        List<Integer> list, \n",
    "        List<List<Integer>> results, \n",
    "        Deque<Integer> buffer\n",
    "    ) {\n",
    "        if (list.size() == 0) {\n",
    "            results.add(new ArrayList<>(buffer));\n",
    "            return;\n",
    "        }\n",
    "        \n",
    "        for (int index = 0; index < list.size(); index++) {\n",
    "            List<Integer> splicedList = new ArrayList<>(list);\n",
    "            splicedList.remove(index);\n",
    "            \n",
    "            buffer.addLast(list.get(index));\n",
    "            generatePermutations(splicedList, results, buffer);\n",
    "            buffer.removeLast();\n",
    "        }\n",
    "    }\n",
    "    \n",
    "}"
   ]
  },
  {
   "cell_type": "code",
   "execution_count": 4,
   "metadata": {},
   "outputs": [
    {
     "name": "stdout",
     "output_type": "stream",
     "text": [
      "[0, 1, 2]\n",
      "[0, 2, 1]\n",
      "[1, 0, 2]\n",
      "[1, 2, 0]\n",
      "[2, 0, 1]\n",
      "[2, 1, 0]\n"
     ]
    },
    {
     "data": {
      "text/plain": [
       "null"
      ]
     },
     "execution_count": 4,
     "metadata": {},
     "output_type": "execute_result"
    }
   ],
   "source": [
    "package recursive_algorithms.generating_permutations;\n",
    "\n",
    "import java.util.*;\n",
    "\n",
    "List<Integer> list = new ArrayList(Arrays.asList(0, 1, 2));\n",
    "List<List<Integer>> results = new ArrayList<>();\n",
    "Deque<Integer> buffer = new ArrayDeque<>();\n",
    "\n",
    "GeneratingPermutations.generatePermutations(list, results, buffer);\n",
    "\n",
    "results.forEach(permutation -> {\n",
    "    System.out.println(permutation.toString());\n",
    "});"
   ]
  },
  {
   "cell_type": "markdown",
   "metadata": {},
   "source": [
    "### Generating k-Combinations"
   ]
  },
  {
   "cell_type": "code",
   "execution_count": 5,
   "metadata": {},
   "outputs": [
    {
     "data": {
      "text/plain": [
       "recursive_algorithms.generating_combinations_k.GeneratingCombinationsK"
      ]
     },
     "execution_count": 5,
     "metadata": {},
     "output_type": "execute_result"
    }
   ],
   "source": [
    "package recursive_algorithms.generating_combinations_k;\n",
    "\n",
    "import java.util.*;\n",
    "\n",
    "class GeneratingCombinationsK {\n",
    "    \n",
    "    public static void generateCombinationsK(\n",
    "        List<Integer> list, \n",
    "        List<List<Integer>> results, \n",
    "        Deque<Integer> buffer,\n",
    "        int k\n",
    "    ) {\n",
    "        if (buffer.size() == k) {\n",
    "            results.add(new ArrayList<>(buffer));\n",
    "            return;\n",
    "        }\n",
    "        \n",
    "        for (int index = 0; index < list.size(); index++) {\n",
    "            List<Integer> tailList = list.subList(index + 1, list.size());\n",
    "            \n",
    "            buffer.addLast(list.get(index));\n",
    "            generateCombinationsK(tailList, results, buffer, k);\n",
    "            buffer.removeLast();\n",
    "        }\n",
    "    }\n",
    "    \n",
    "}"
   ]
  },
  {
   "cell_type": "code",
   "execution_count": 6,
   "metadata": {},
   "outputs": [
    {
     "name": "stdout",
     "output_type": "stream",
     "text": [
      "[0, 1]\n",
      "[0, 2]\n",
      "[1, 2]\n"
     ]
    },
    {
     "data": {
      "text/plain": [
       "null"
      ]
     },
     "execution_count": 6,
     "metadata": {},
     "output_type": "execute_result"
    }
   ],
   "source": [
    "package recursive_algorithms.generating_combinations_k;\n",
    "\n",
    "import java.util.*;\n",
    "\n",
    "List<Integer> list = new ArrayList(Arrays.asList(0, 1, 2));\n",
    "List<List<Integer>> results = new ArrayList<>();\n",
    "Deque<Integer> buffer = new ArrayDeque<>();\n",
    "\n",
    "GeneratingCombinationsK.generateCombinationsK(list, results, buffer, 2);\n",
    "\n",
    "results.forEach(combination -> {\n",
    "    System.out.println(combination.toString());\n",
    "});"
   ]
  },
  {
   "cell_type": "markdown",
   "metadata": {},
   "source": [
    "### Generating k-Permutations"
   ]
  },
  {
   "cell_type": "code",
   "execution_count": 7,
   "metadata": {},
   "outputs": [
    {
     "data": {
      "text/plain": [
       "recursive_algorithms.generating_permutations_k.GeneratingPermutationsK"
      ]
     },
     "execution_count": 7,
     "metadata": {},
     "output_type": "execute_result"
    }
   ],
   "source": [
    "package recursive_algorithms.generating_permutations_k;\n",
    "\n",
    "import java.util.*;\n",
    "\n",
    "class GeneratingPermutationsK {\n",
    "    \n",
    "    public static void generatePermutationsK(\n",
    "        List<Integer> list, \n",
    "        List<List<Integer>> results, \n",
    "        Deque<Integer> buffer,\n",
    "        int k\n",
    "    ) {\n",
    "        if (buffer.size() == k) {\n",
    "            results.add(new ArrayList<>(buffer));\n",
    "            return;\n",
    "        }\n",
    "        \n",
    "        for (int index = 0; index < list.size(); index++) {\n",
    "            List<Integer> splicedList = new ArrayList<>(list);\n",
    "            splicedList.remove(index);\n",
    "\n",
    "            buffer.addLast(list.get(index));\n",
    "            generatePermutationsK(splicedList, results, buffer, k);\n",
    "            buffer.removeLast();\n",
    "        }\n",
    "    }\n",
    "    \n",
    "}"
   ]
  },
  {
   "cell_type": "code",
   "execution_count": 8,
   "metadata": {},
   "outputs": [
    {
     "name": "stdout",
     "output_type": "stream",
     "text": [
      "[0, 1]\n",
      "[0, 2]\n",
      "[1, 0]\n",
      "[1, 2]\n",
      "[2, 0]\n",
      "[2, 1]\n"
     ]
    },
    {
     "data": {
      "text/plain": [
       "null"
      ]
     },
     "execution_count": 8,
     "metadata": {},
     "output_type": "execute_result"
    }
   ],
   "source": [
    "package recursive_algorithms.generating_permutations_k;\n",
    "\n",
    "import java.util.*;\n",
    "\n",
    "List<Integer> list = new ArrayList<>(Arrays.asList(0, 1, 2));\n",
    "List<List<Integer>> results = new ArrayList<>();\n",
    "Deque<Integer> buffer = new ArrayDeque<>();\n",
    "\n",
    "GeneratingPermutationsK.generatePermutationsK(list, results, buffer, 2);\n",
    "\n",
    "results.forEach(permutation -> {\n",
    "    System.out.println(permutation.toString());\n",
    "});"
   ]
  },
  {
   "cell_type": "markdown",
   "metadata": {},
   "source": [
    "### Generating Unique Combinations"
   ]
  },
  {
   "cell_type": "code",
   "execution_count": 9,
   "metadata": {},
   "outputs": [
    {
     "data": {
      "text/plain": [
       "recursive_algorithms.generating_unique_combinations.GeneratingUniqueCombinations"
      ]
     },
     "execution_count": 9,
     "metadata": {},
     "output_type": "execute_result"
    }
   ],
   "source": [
    "package recursive_algorithms.generating_unique_combinations;\n",
    "\n",
    "import java.util.*;\n",
    "\n",
    "public class GeneratingUniqueCombinations {\n",
    "\n",
    "    public static List<List<Integer>> generateUniqueCombinations(List<Integer> list) {\n",
    "        List<List<Integer>> results = new LinkedList<>();\n",
    "        Deque<Integer> buffer = new ArrayDeque<>();\n",
    "\n",
    "        Collections.sort(list);\n",
    "\n",
    "        generateUniqueCombinations(list, results, buffer);\n",
    "\n",
    "        return results;\n",
    "    }\n",
    "\n",
    "    private static void generateUniqueCombinations(\n",
    "        List<Integer> list,\n",
    "        List<List<Integer>> results,\n",
    "        Deque<Integer> buffer\n",
    "    ) {\n",
    "        results.add(new ArrayList<>(buffer));\n",
    "\n",
    "        for (int index = 0; index < list.size(); index++) {\n",
    "            if (index > 0 && list.get(index) == list.get(index - 1)) {\n",
    "                continue;\n",
    "            }\n",
    "\n",
    "            List<Integer> tailList = list.subList(index + 1, list.size());\n",
    "\n",
    "            buffer.addLast(list.get(index));\n",
    "            generateUniqueCombinations(tailList, results, buffer);\n",
    "            buffer.removeLast();\n",
    "        }\n",
    "    }\n",
    "    \n",
    "}"
   ]
  },
  {
   "cell_type": "code",
   "execution_count": 10,
   "metadata": {},
   "outputs": [
    {
     "name": "stdout",
     "output_type": "stream",
     "text": [
      "[]\n",
      "[0]\n",
      "[0, 0]\n",
      "[0, 0, 1]\n",
      "[0, 0, 1, 2]\n",
      "[0, 0, 2]\n",
      "[0, 1]\n",
      "[0, 1, 2]\n",
      "[0, 2]\n",
      "[1]\n",
      "[1, 2]\n",
      "[2]\n"
     ]
    },
    {
     "data": {
      "text/plain": [
       "null"
      ]
     },
     "execution_count": 10,
     "metadata": {},
     "output_type": "execute_result"
    }
   ],
   "source": [
    "package recursive_algorithms.generating_unique_combinations;\n",
    "\n",
    "import java.util.*;\n",
    "\n",
    "List<Integer> list = new ArrayList(Arrays.asList(0, 0, 1, 2));\n",
    "\n",
    "List<List<Integer>> results = GeneratingUniqueCombinations.generateUniqueCombinations(list);\n",
    "\n",
    "results.forEach(combination -> {\n",
    "    System.out.println(combination.toString());\n",
    "});"
   ]
  },
  {
   "cell_type": "markdown",
   "metadata": {},
   "source": [
    "### Generating Unique Permutations"
   ]
  },
  {
   "cell_type": "code",
   "execution_count": 11,
   "metadata": {},
   "outputs": [
    {
     "data": {
      "text/plain": [
       "recursive_algorithms.generating_unique_permutations.GeneratingUniquePermutations"
      ]
     },
     "execution_count": 11,
     "metadata": {},
     "output_type": "execute_result"
    }
   ],
   "source": [
    "package recursive_algorithms.generating_unique_permutations;\n",
    "\n",
    "import java.util.*;\n",
    "\n",
    "public class GeneratingUniquePermutations {\n",
    "\n",
    "    public static List<List<Integer>> generateUniquePermutations(List<Integer> list) {\n",
    "        List<List<Integer>> results = new LinkedList<>();\n",
    "        Deque<Integer> buffer = new ArrayDeque<>();\n",
    "\n",
    "        Collections.sort(list);\n",
    "\n",
    "        generateUniquePermutations(list, results, buffer);\n",
    "\n",
    "        return results;\n",
    "    }\n",
    "\n",
    "    private static void generateUniquePermutations(\n",
    "        List<Integer> list,\n",
    "        List<List<Integer>> results,\n",
    "        Deque<Integer> buffer\n",
    "    ) {\n",
    "        if (list.size() == 0) {\n",
    "            results.add(new ArrayList<>(buffer));\n",
    "            return;\n",
    "        }\n",
    "\n",
    "        for (int index = 0; index < list.size(); index++) {\n",
    "            if (index > 0 && list.get(index) == list.get(index - 1)) {\n",
    "                continue;\n",
    "            }\n",
    "\n",
    "            List<Integer> splicedList = new ArrayList<>(list);\n",
    "            splicedList.remove(index);\n",
    "\n",
    "            buffer.addLast(list.get(index));\n",
    "            generateUniquePermutations(splicedList, results, buffer);\n",
    "            buffer.removeLast();\n",
    "        }\n",
    "    }\n",
    "\n",
    "}"
   ]
  },
  {
   "cell_type": "code",
   "execution_count": 12,
   "metadata": {},
   "outputs": [
    {
     "name": "stdout",
     "output_type": "stream",
     "text": [
      "[0, 0, 1, 2]\n",
      "[0, 0, 2, 1]\n",
      "[0, 1, 0, 2]\n",
      "[0, 1, 2, 0]\n",
      "[0, 2, 0, 1]\n",
      "[0, 2, 1, 0]\n",
      "[1, 0, 0, 2]\n",
      "[1, 0, 2, 0]\n",
      "[1, 2, 0, 0]\n",
      "[2, 0, 0, 1]\n",
      "[2, 0, 1, 0]\n",
      "[2, 1, 0, 0]\n"
     ]
    },
    {
     "data": {
      "text/plain": [
       "null"
      ]
     },
     "execution_count": 12,
     "metadata": {},
     "output_type": "execute_result"
    }
   ],
   "source": [
    "package recursive_algorithms.generating_unique_permutations;\n",
    "\n",
    "import java.util.*;\n",
    "\n",
    "List<Integer> list = new ArrayList(Arrays.asList(0, 0, 1, 2));\n",
    "\n",
    "List<List<Integer>> results = GeneratingUniquePermutations.generateUniquePermutations(list);\n",
    "\n",
    "results.forEach(permutation -> {\n",
    "    System.out.println(permutation.toString());\n",
    "});"
   ]
  }
 ],
 "metadata": {
  "kernelspec": {
   "display_name": "Java",
   "language": "java",
   "name": "java"
  },
  "language_info": {
   "codemirror_mode": "text/x-java",
   "file_extension": ".java",
   "mimetype": "",
   "name": "Java",
   "nbconverter_exporter": "",
   "version": "1.8.0_144"
  }
 },
 "nbformat": 4,
 "nbformat_minor": 2
}
