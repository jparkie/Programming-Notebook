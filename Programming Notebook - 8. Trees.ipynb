{
 "cells": [
  {
   "cell_type": "markdown",
   "metadata": {},
   "source": [
    "# Programming Notebook\n",
    "*Author: Jacob Park*"
   ]
  },
  {
   "cell_type": "markdown",
   "metadata": {},
   "source": [
    "## Trees"
   ]
  },
  {
   "cell_type": "markdown",
   "metadata": {},
   "source": [
    "A tree is a connected acyclic graph that consists of $n$ nodes and $n - 1$ edges.\n",
    "\n",
    "- **Degree**: The number of children of a node $x$ in a rooted tree $T$.\n",
    "- **Depth**: The length of the simple path from the root $r$ to a node $x$.\n",
    "- **Height**: The number of edges on the longest simple downward path from the node to a leaf. The height of a tree is the height of its root."
   ]
  },
  {
   "cell_type": "markdown",
   "metadata": {},
   "source": [
    "### Binary Search Tree"
   ]
  },
  {
   "cell_type": "markdown",
   "metadata": {},
   "source": [
    "#### Implementation of Node"
   ]
  },
  {
   "cell_type": "code",
   "execution_count": 1,
   "metadata": {},
   "outputs": [
    {
     "data": {
      "text/plain": [
       "trees.binary_search_tree.BinarySearchTreeNode"
      ]
     },
     "execution_count": 1,
     "metadata": {},
     "output_type": "execute_result"
    }
   ],
   "source": [
    "package trees.binary_search_tree;\n",
    "\n",
    "public class BinarySearchTreeNode {\n",
    "\n",
    "    private int key;\n",
    "    private int value;\n",
    "    private BinarySearchTreeNode parent;\n",
    "    private BinarySearchTreeNode left;\n",
    "    private BinarySearchTreeNode right;\n",
    "\n",
    "    public BinarySearchTreeNode(int key, int value) {\n",
    "        this.key = key;\n",
    "        this.value = value;\n",
    "    }\n",
    "\n",
    "    public int getKey() {\n",
    "        return key;\n",
    "    }\n",
    "\n",
    "    public void setKey(int key) {\n",
    "        this.key = key;\n",
    "    }\n",
    "\n",
    "    public int getValue() {\n",
    "        return value;\n",
    "    }\n",
    "\n",
    "    public void setValue(int value) {\n",
    "        this.value = value;\n",
    "    }\n",
    "\n",
    "    public BinarySearchTreeNode getParent() {\n",
    "        return parent;\n",
    "    }\n",
    "\n",
    "    public void setParent(BinarySearchTreeNode parent) {\n",
    "        this.parent = parent;\n",
    "    }\n",
    "\n",
    "    public BinarySearchTreeNode getLeft() {\n",
    "        return left;\n",
    "    }\n",
    "\n",
    "    public void setLeft(BinarySearchTreeNode left) {\n",
    "        this.left = left;\n",
    "    }\n",
    "\n",
    "    public BinarySearchTreeNode getRight() {\n",
    "        return right;\n",
    "    }\n",
    "\n",
    "    public void setRight(BinarySearchTreeNode right) {\n",
    "        this.right = right;\n",
    "    }\n",
    "\n",
    "}"
   ]
  },
  {
   "cell_type": "markdown",
   "metadata": {},
   "source": [
    "#### Implementation of Pre-Order Traversal"
   ]
  },
  {
   "cell_type": "code",
   "execution_count": 2,
   "metadata": {},
   "outputs": [
    {
     "data": {
      "text/plain": [
       "trees.binary_search_tree.PreOrderTraversal"
      ]
     },
     "execution_count": 2,
     "metadata": {},
     "output_type": "execute_result"
    }
   ],
   "source": [
    "package trees.binary_search_tree;\n",
    "\n",
    "import java.util.function.*;\n",
    "\n",
    "public interface PreOrderTraversal {\n",
    "    \n",
    "    public default void preOrderTraversal(BinarySearchTreeNode node, BiConsumer<Integer, Integer> action) {\n",
    "        if (node == null) {\n",
    "            return;\n",
    "        }\n",
    "        action.accept(node.getKey(), node.getValue());\n",
    "        preOrderTraversal(node.getLeft(), action);\n",
    "        preOrderTraversal(node.getRight(), action);\n",
    "    }\n",
    "    \n",
    "}"
   ]
  },
  {
   "cell_type": "markdown",
   "metadata": {},
   "source": [
    "#### Implementation of In-Order Traversal"
   ]
  },
  {
   "cell_type": "code",
   "execution_count": 3,
   "metadata": {},
   "outputs": [
    {
     "data": {
      "text/plain": [
       "trees.binary_search_tree.InOrderTraversal"
      ]
     },
     "execution_count": 3,
     "metadata": {},
     "output_type": "execute_result"
    }
   ],
   "source": [
    "package trees.binary_search_tree;\n",
    "\n",
    "import java.util.function.*;\n",
    "\n",
    "public interface InOrderTraversal {\n",
    "    \n",
    "    public default void inOrderTraversal(BinarySearchTreeNode node, BiConsumer<Integer, Integer> action) {\n",
    "        if (node == null) {\n",
    "            return;\n",
    "        }\n",
    "        inOrderTraversal(node.getLeft(), action);\n",
    "        action.accept(node.getKey(), node.getValue());\n",
    "        inOrderTraversal(node.getRight(), action);\n",
    "    }\n",
    "    \n",
    "}"
   ]
  },
  {
   "cell_type": "markdown",
   "metadata": {},
   "source": [
    "#### Implementation of Post-Order Traversal"
   ]
  },
  {
   "cell_type": "code",
   "execution_count": 4,
   "metadata": {},
   "outputs": [
    {
     "data": {
      "text/plain": [
       "trees.binary_search_tree.PostOrderTraversal"
      ]
     },
     "execution_count": 4,
     "metadata": {},
     "output_type": "execute_result"
    }
   ],
   "source": [
    "package trees.binary_search_tree;\n",
    "\n",
    "import java.util.function.*;\n",
    "\n",
    "public interface PostOrderTraversal {\n",
    "    \n",
    "    public default void postOrderTraversal(BinarySearchTreeNode node, BiConsumer<Integer, Integer> action) {\n",
    "        if (node == null) {\n",
    "            return;\n",
    "        }\n",
    "        postOrderTraversal(node.getLeft(), action);\n",
    "        postOrderTraversal(node.getRight(), action);\n",
    "        action.accept(node.getKey(), node.getValue());\n",
    "    }\n",
    "    \n",
    "}"
   ]
  },
  {
   "cell_type": "markdown",
   "metadata": {},
   "source": [
    "#### Implementation of Search"
   ]
  },
  {
   "cell_type": "code",
   "execution_count": 5,
   "metadata": {},
   "outputs": [
    {
     "data": {
      "text/plain": [
       "trees.binary_search_tree.Search"
      ]
     },
     "execution_count": 5,
     "metadata": {},
     "output_type": "execute_result"
    }
   ],
   "source": [
    "package trees.binary_search_tree;\n",
    "\n",
    "import java.util.*;\n",
    "\n",
    "public interface Search {\n",
    "    \n",
    "    public default BinarySearchTreeNode searchNode(BinarySearchTreeNode node, int key) {\n",
    "        if (node == null) {\n",
    "            throw new NoSuchElementException();\n",
    "        }\n",
    "        if (key == node.getKey()) {\n",
    "            return node;\n",
    "        }\n",
    "        if (key < node.getKey()) {\n",
    "            return searchNode(node.getLeft(), key);\n",
    "        } else {\n",
    "            return searchNode(node.getRight(), key);\n",
    "        }\n",
    "    }\n",
    "    \n",
    "}"
   ]
  },
  {
   "cell_type": "markdown",
   "metadata": {},
   "source": [
    "#### Implementation of Minimum"
   ]
  },
  {
   "cell_type": "code",
   "execution_count": 6,
   "metadata": {},
   "outputs": [
    {
     "data": {
      "text/plain": [
       "trees.binary_search_tree.Minimum"
      ]
     },
     "execution_count": 6,
     "metadata": {},
     "output_type": "execute_result"
    }
   ],
   "source": [
    "package trees.binary_search_tree;\n",
    "\n",
    "import java.util.*;\n",
    "\n",
    "public interface Minimum {\n",
    "    \n",
    "    public default BinarySearchTreeNode minimumNode(BinarySearchTreeNode node) {\n",
    "        if (node == null) {\n",
    "            throw new NoSuchElementException();\n",
    "        }\n",
    "        while (node.getLeft() != null) {\n",
    "            node = node.getLeft();\n",
    "        }\n",
    "        return node;\n",
    "    }\n",
    "    \n",
    "}"
   ]
  },
  {
   "cell_type": "markdown",
   "metadata": {},
   "source": [
    "#### Implementation of Maximum"
   ]
  },
  {
   "cell_type": "code",
   "execution_count": 7,
   "metadata": {},
   "outputs": [
    {
     "data": {
      "text/plain": [
       "trees.binary_search_tree.Maximum"
      ]
     },
     "execution_count": 7,
     "metadata": {},
     "output_type": "execute_result"
    }
   ],
   "source": [
    "package trees.binary_search_tree;\n",
    "\n",
    "import java.util.*;\n",
    "\n",
    "public interface Maximum {\n",
    "    \n",
    "    public default BinarySearchTreeNode maximumNode(BinarySearchTreeNode node) {\n",
    "        if (node == null) {\n",
    "            throw new NoSuchElementException();\n",
    "        }\n",
    "        while (node.getRight() != null) {\n",
    "            node = node.getRight();\n",
    "        }\n",
    "        return node;\n",
    "    }\n",
    "    \n",
    "}"
   ]
  },
  {
   "cell_type": "markdown",
   "metadata": {},
   "source": [
    "#### Implementation of Successor"
   ]
  },
  {
   "cell_type": "code",
   "execution_count": 8,
   "metadata": {},
   "outputs": [
    {
     "data": {
      "text/plain": [
       "trees.binary_search_tree.Successor"
      ]
     },
     "execution_count": 8,
     "metadata": {},
     "output_type": "execute_result"
    }
   ],
   "source": [
    "package trees.binary_search_tree;\n",
    "\n",
    "import java.util.*;\n",
    "\n",
    "public interface Successor extends Minimum {\n",
    "    \n",
    "    public default BinarySearchTreeNode successorNode(BinarySearchTreeNode node) {\n",
    "        if (node == null) {\n",
    "            throw new NoSuchElementException();\n",
    "        }\n",
    "        if (node.getRight() != null) {\n",
    "            return minimumNode(node.getRight());\n",
    "        }\n",
    "        BinarySearchTreeNode parentNode = node.getParent();\n",
    "        BinarySearchTreeNode currentNode = node;\n",
    "        while (parentNode != null && currentNode == parentNode.getRight()) {\n",
    "            currentNode = parentNode;\n",
    "            parentNode = parentNode.getParent();\n",
    "        }\n",
    "        return parentNode;\n",
    "    }\n",
    "    \n",
    "}"
   ]
  },
  {
   "cell_type": "markdown",
   "metadata": {},
   "source": [
    "#### Implementation of Predecessor"
   ]
  },
  {
   "cell_type": "code",
   "execution_count": 9,
   "metadata": {},
   "outputs": [
    {
     "data": {
      "text/plain": [
       "trees.binary_search_tree.Predecessor"
      ]
     },
     "execution_count": 9,
     "metadata": {},
     "output_type": "execute_result"
    }
   ],
   "source": [
    "package trees.binary_search_tree;\n",
    "\n",
    "import java.util.*;\n",
    "\n",
    "public interface Predecessor extends Maximum {\n",
    "    \n",
    "    public default BinarySearchTreeNode predecessorNode(BinarySearchTreeNode node) {\n",
    "        if (node == null) {\n",
    "            throw new NoSuchElementException();\n",
    "        }\n",
    "        if (node.getLeft() != null) {\n",
    "            return maximumNode(node.getLeft());\n",
    "        }\n",
    "        BinarySearchTreeNode parentNode = node.getParent();\n",
    "        BinarySearchTreeNode currentNode = node;\n",
    "        while (parentNode != null && currentNode == parentNode.getLeft()) {\n",
    "            currentNode = parentNode;\n",
    "            parentNode = parentNode.getParent();\n",
    "        }\n",
    "        return parentNode;\n",
    "    }\n",
    "    \n",
    "}"
   ]
  },
  {
   "cell_type": "markdown",
   "metadata": {},
   "source": [
    "#### Implementation of Insert"
   ]
  },
  {
   "cell_type": "code",
   "execution_count": 10,
   "metadata": {},
   "outputs": [
    {
     "data": {
      "text/plain": [
       "trees.binary_search_tree.Insert"
      ]
     },
     "execution_count": 10,
     "metadata": {},
     "output_type": "execute_result"
    }
   ],
   "source": [
    "package trees.binary_search_tree;\n",
    "\n",
    "import java.util.*;\n",
    "\n",
    "public interface Insert {\n",
    "    \n",
    "    public default BinarySearchTreeNode insertNode(BinarySearchTreeNode rootNode, int key, int value) {\n",
    "        if (rootNode == null) {\n",
    "            return new BinarySearchTreeNode(key, value);\n",
    "        }\n",
    "        if (key < rootNode.getKey()) {\n",
    "            rootNode.setLeft(insertNode(rootNode.getLeft(), key, value));\n",
    "            rootNode.getLeft().setParent(rootNode);\n",
    "        } else {\n",
    "            rootNode.setRight(insertNode(rootNode.getRight(), key, value));\n",
    "            rootNode.getRight().setParent(rootNode);\n",
    "        }\n",
    "        return rootNode;\n",
    "    }\n",
    "    \n",
    "}"
   ]
  },
  {
   "cell_type": "markdown",
   "metadata": {},
   "source": [
    "#### Implementation of Delete"
   ]
  },
  {
   "cell_type": "code",
   "execution_count": 11,
   "metadata": {},
   "outputs": [
    {
     "data": {
      "text/plain": [
       "trees.binary_search_tree.Delete"
      ]
     },
     "execution_count": 11,
     "metadata": {},
     "output_type": "execute_result"
    }
   ],
   "source": [
    "package trees.binary_search_tree;\n",
    "\n",
    "import java.util.*;\n",
    "\n",
    "public interface Delete extends Minimum {\n",
    "    \n",
    "    public default BinarySearchTreeNode deleteNode(BinarySearchTreeNode rootNode, int key) {\n",
    "        if (rootNode == null) {\n",
    "            throw new NoSuchElementException();\n",
    "        }\n",
    "        if (key < rootNode.getKey()) {\n",
    "            rootNode.setLeft(deleteNode(rootNode.getLeft(), key));\n",
    "            if (rootNode.getLeft() != null) {\n",
    "                rootNode.getLeft().setParent(rootNode);\n",
    "            }\n",
    "            return rootNode;\n",
    "        } else if (key > rootNode.getKey()) {\n",
    "            rootNode.setRight(deleteNode(rootNode.getRight(), key));\n",
    "            if (rootNode.getRight() != null) {\n",
    "                rootNode.getRight().setParent(rootNode);\n",
    "            }\n",
    "            return rootNode;\n",
    "        } else {\n",
    "            if (rootNode.getLeft() == null && rootNode.getRight() == null) {\n",
    "                // Case 1: No Children / Leaf Node => Delete Self.\n",
    "                return null;\n",
    "            } else if (rootNode.getLeft() == null) {\n",
    "                // Case 2a: One Right Child => Replace Self with Right Child.\n",
    "                return rootNode.getRight();\n",
    "            } else if (rootNode.getRight() == null) {\n",
    "                // Case 2b: One Left Child => Replace Self with Left Child.\n",
    "                return rootNode.getLeft();\n",
    "            } else {\n",
    "                // Case 3: Two Children => Replace Self with Successor.\n",
    "                final BinarySearchTreeNode successorNode = minimumNode(rootNode.getRight());\n",
    "                rootNode.setKey(successorNode.getKey());\n",
    "                rootNode.setValue(successorNode.getValue());\n",
    "                rootNode.setRight(deleteNode(rootNode.getRight(), rootNode.getKey()));\n",
    "                if (rootNode.getRight() != null) {\n",
    "                    rootNode.getRight().setParent(rootNode);\n",
    "                }\n",
    "                return rootNode;\n",
    "            }\n",
    "        }\n",
    "    }\n",
    "    \n",
    "}"
   ]
  },
  {
   "cell_type": "markdown",
   "metadata": {},
   "source": [
    "#### Implementation of Binary Search Tree"
   ]
  },
  {
   "cell_type": "code",
   "execution_count": 12,
   "metadata": {},
   "outputs": [
    {
     "data": {
      "text/plain": [
       "trees.binary_search_tree.BinarySearchTree"
      ]
     },
     "execution_count": 12,
     "metadata": {},
     "output_type": "execute_result"
    }
   ],
   "source": [
    "package trees.binary_search_tree;\n",
    "\n",
    "import java.util.*;\n",
    "import java.util.function.*;\n",
    "\n",
    "public class BinarySearchTree implements \n",
    "    PreOrderTraversal, \n",
    "    InOrderTraversal, \n",
    "    PostOrderTraversal, \n",
    "    Search, \n",
    "    Minimum, \n",
    "    Maximum, \n",
    "    Successor, \n",
    "    Predecessor, \n",
    "    Insert, \n",
    "    Delete {\n",
    "\n",
    "    private BinarySearchTreeNode root;\n",
    "\n",
    "    public BinarySearchTree() { }\n",
    "\n",
    "    public void preOrderTraversal(BiConsumer<Integer, Integer> action) {\n",
    "        preOrderTraversal(root, action);\n",
    "    }\n",
    "\n",
    "    public void inOrderTraversal(BiConsumer<Integer, Integer> action) {\n",
    "        inOrderTraversal(root, action);\n",
    "    }\n",
    "\n",
    "    public void postOrderTraversal(BiConsumer<Integer, Integer> action) {\n",
    "        postOrderTraversal(root, action);\n",
    "    }\n",
    "\n",
    "    public int searchValue(int key) {\n",
    "        return searchNode(root, key).getValue();\n",
    "    }\n",
    "\n",
    "    public int minimumValue() {\n",
    "        return minimumNode(root).getValue();\n",
    "    }\n",
    "\n",
    "    public int maximumValue() {\n",
    "        return maximumNode(root).getValue();\n",
    "    }\n",
    "\n",
    "    public int successorKey(int key) {\n",
    "        final BinarySearchTreeNode resultNode = successorNode(searchNode(root, key));\n",
    "        if (resultNode == null) {\n",
    "            throw new NoSuchElementException();\n",
    "        }\n",
    "        return resultNode.getKey();\n",
    "    }\n",
    "\n",
    "    public int predecessorKey(int key) {\n",
    "        final BinarySearchTreeNode resultNode = predecessorNode(searchNode(root, key));\n",
    "        if (resultNode == null) {\n",
    "            throw new NoSuchElementException();\n",
    "        }\n",
    "        return resultNode.getKey();\n",
    "    }\n",
    "\n",
    "    public void insert(int key, int value) {\n",
    "        root = insertNode(root, key, value);\n",
    "    }\n",
    "\n",
    "    public void delete(int key) {\n",
    "        deleteNode(root, key);\n",
    "    }\n",
    "\n",
    "}"
   ]
  },
  {
   "cell_type": "code",
   "execution_count": 34,
   "metadata": {},
   "outputs": [
    {
     "name": "stdout",
     "output_type": "stream",
     "text": [
      "Pre-Order Traversal: 50,30,20,40,70,60,80,Nil\n",
      "In-Order Traversal: 20,30,40,50,60,70,80,Nil\n",
      "Post-Order Traversal: 20,40,30,60,80,70,50,Nil\n",
      "Search Value 40: 40\n",
      "Minimum Value: 20\n",
      "Maximum Value: 80\n",
      "Successor Key 40: 50\n",
      "Predecessor Key 40: 30\n",
      "Delete Key 20: 50,30,40,70,60,80,Nil\n",
      "Delete Key 30: 50,40,70,60,80,Nil\n",
      "Delete Key 50: 60,40,70,80,Nil\n"
     ]
    },
    {
     "data": {
      "text/plain": [
       "null"
      ]
     },
     "execution_count": 34,
     "metadata": {},
     "output_type": "execute_result"
    }
   ],
   "source": [
    "package trees.binary_search_tree;\n",
    "\n",
    "BinarySearchTree tree = new BinarySearchTree();\n",
    "\n",
    "tree.insert(50, 50);\n",
    "tree.insert(30, 30);\n",
    "tree.insert(20, 20);\n",
    "tree.insert(40, 40);\n",
    "tree.insert(70, 70);\n",
    "tree.insert(60, 60);\n",
    "tree.insert(80, 80);\n",
    "\n",
    "System.out.print(\"Pre-Order Traversal: \");\n",
    "tree.preOrderTraversal((k,v) -> System.out.print(String.format(\"%d,\", k)));\n",
    "System.out.println(\"Nil\");\n",
    "\n",
    "System.out.print(\"In-Order Traversal: \");\n",
    "tree.inOrderTraversal((k,v) -> System.out.print(String.format(\"%d,\", k)));\n",
    "System.out.println(\"Nil\");\n",
    "\n",
    "System.out.print(\"Post-Order Traversal: \");\n",
    "tree.postOrderTraversal((k,v) -> System.out.print(String.format(\"%d,\", k)));\n",
    "System.out.println(\"Nil\");\n",
    "\n",
    "System.out.print(\"Search Value 40: \");\n",
    "System.out.println(tree.searchValue(40));\n",
    "\n",
    "System.out.print(\"Minimum Value: \");\n",
    "System.out.println(tree.minimumValue());\n",
    "\n",
    "System.out.print(\"Maximum Value: \");\n",
    "System.out.println(tree.maximumValue());\n",
    "\n",
    "System.out.print(\"Successor Key 40: \");\n",
    "System.out.println(tree.successorKey(40));\n",
    "\n",
    "System.out.print(\"Predecessor Key 40: \");\n",
    "System.out.println(tree.predecessorKey(40));\n",
    "\n",
    "System.out.print(\"Delete Key 20: \");\n",
    "tree.delete(20);\n",
    "tree.preOrderTraversal((k,v) -> System.out.print(String.format(\"%d,\", k)));\n",
    "System.out.println(\"Nil\");\n",
    "\n",
    "System.out.print(\"Delete Key 30: \");\n",
    "tree.delete(30);\n",
    "tree.preOrderTraversal((k,v) -> System.out.print(String.format(\"%d,\", k)));\n",
    "System.out.println(\"Nil\");\n",
    "\n",
    "System.out.print(\"Delete Key 50: \");\n",
    "tree.delete(50);\n",
    "tree.preOrderTraversal((k,v) -> System.out.print(String.format(\"%d,\", k)));\n",
    "System.out.println(\"Nil\");"
   ]
  },
  {
   "cell_type": "markdown",
   "metadata": {},
   "source": [
    "### Fenwick Tree\n",
    "[See Link](https://en.wikipedia.org/wiki/Fenwick_tree)."
   ]
  },
  {
   "cell_type": "code",
   "execution_count": 13,
   "metadata": {},
   "outputs": [
    {
     "data": {
      "text/plain": [
       "null"
      ]
     },
     "execution_count": 13,
     "metadata": {},
     "output_type": "execute_result"
    }
   ],
   "source": [
    "// TODO."
   ]
  },
  {
   "cell_type": "markdown",
   "metadata": {},
   "source": [
    "### Segment Tree\n",
    "[See Link](https://en.wikipedia.org/wiki/Segment_tree)."
   ]
  },
  {
   "cell_type": "code",
   "execution_count": 14,
   "metadata": {},
   "outputs": [
    {
     "data": {
      "text/plain": [
       "null"
      ]
     },
     "execution_count": 14,
     "metadata": {},
     "output_type": "execute_result"
    }
   ],
   "source": [
    "// TODO."
   ]
  },
  {
   "cell_type": "markdown",
   "metadata": {},
   "source": [
    "### Trie\n",
    "[See Link](https://en.wikipedia.org/wiki/Trie)."
   ]
  },
  {
   "cell_type": "code",
   "execution_count": 15,
   "metadata": {},
   "outputs": [
    {
     "data": {
      "text/plain": [
       "null"
      ]
     },
     "execution_count": 15,
     "metadata": {},
     "output_type": "execute_result"
    }
   ],
   "source": [
    "// TODO."
   ]
  }
 ],
 "metadata": {
  "kernelspec": {
   "display_name": "Java",
   "language": "java",
   "name": "java"
  },
  "language_info": {
   "codemirror_mode": "text/x-java",
   "file_extension": ".java",
   "mimetype": "",
   "name": "Java",
   "nbconverter_exporter": "",
   "version": "1.8.0_144"
  }
 },
 "nbformat": 4,
 "nbformat_minor": 2
}
