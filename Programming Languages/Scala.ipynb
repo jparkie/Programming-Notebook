{
 "cells": [
  {
   "cell_type": "markdown",
   "metadata": {},
   "source": [
    "# Scala\n",
    "*Author: Jacob Park*"
   ]
  },
  {
   "cell_type": "markdown",
   "metadata": {},
   "source": [
    "> Scala is a modern multi-paradigm programming language designed to express common programming patterns in a concise, elegant, and type-safe way. It smoothly integrates features of object-oriented and functional languages."
   ]
  },
  {
   "cell_type": "markdown",
   "metadata": {},
   "source": [
    "## Documentation\n",
    "\n",
    "- [Website](https://www.scala-lang.org/)\n",
    "- [Language Documentation](https://docs.scala-lang.org/)\n",
    "- [API Documentation](https://www.scala-lang.org/api/current/)\n",
    "- [Style Guide](https://docs.scala-lang.org/style/index.html)\n",
    "- [Specifications](https://www.scala-lang.org/files/archive/spec/2.12/)\n",
    "- [Source Code](https://github.com/scala/scala)\n",
    "- [Scala Improvement Process](https://docs.scala-lang.org/sips/index.html)"
   ]
  },
  {
   "cell_type": "markdown",
   "metadata": {},
   "source": [
    "## Development Environment\n",
    "\n",
    "- **IDE**: [IntelliJ IDEA](https://www.jetbrains.com/idea/)\n",
    "- **Editor Plugins**: [Anaconda](https://packagecontrol.io/packages/Anaconda)\n",
    "- **Build System**: [sbt](https://www.scala-sbt.org/)\n",
    "- **Code Formatter**: [scalafmt](https://scalameta.org/scalafmt/)\n",
    "- **Code Linter**: [scalastyle](http://www.scalastyle.org/)\n",
    "- **Code Coverage**: [scoverage](http://scoverage.org/)\n",
    "- **All Libraries**: [Scaladex](https://index.scala-lang.org)\n",
    "- **Curated Libraries**: [awesome-scala](https://github.com/lauris/awesome-scala)"
   ]
  },
  {
   "cell_type": "markdown",
   "metadata": {},
   "source": [
    "## Testing\n",
    "\n",
    "- **Test Library**: [scalatest](http://www.scalatest.org/)\n",
    "- **Mocking**: [mockito](https://site.mockito.org/)\n",
    "- **Property-Based Testing**: [scalacheck](http://www.scalacheck.org/)\n",
    "- **Containers-Based Testing**: [testcontainers](https://www.testcontainers.org/)\n",
    "- **Microbenchmarking**: [sbt-jmh](https://github.com/ktoso/sbt-jmh)"
   ]
  },
  {
   "cell_type": "markdown",
   "metadata": {},
   "source": [
    "## Productionizing Scala\n",
    "\n",
    "- **CLI**: [scopt](https://github.com/scopt/scopt)\n",
    "- **Configuration**: [HOCON Config](https://github.com/lightbend/config)\n",
    "- **Compile-Time Dependency Injection**: [macwire](https://github.com/adamw/macwire)\n",
    "- **Run-Time Dependency Injection**: [Airframe](https://github.com/wvlet/airframe)\n",
    "- **Metrics**: [metrics-scala](https://github.com/erikvanoosten/metrics-scala)\n",
    "- **JSON**: [circe](https://github.com/circe/circe)\n",
    "- **YAML**: [circe-yaml](https://github.com/circe/circe-yaml)\n",
    "- **JAR**: [sbt-assembly](https://github.com/sbt/sbt-assembly)\n",
    "- **Packaging**: [sbt-native-packager](https://github.com/sbt/sbt-native-packager)\n",
    "- **Release**: [sbt-release](https://github.com/sbt/sbt-release)\n",
    "- **Documentation**: [Scaladoc](https://docs.scala-lang.org/overviews/scaladoc/overview.html)\n",
    "- **Project Website**: [sbt-microsites](https://github.com/47deg/sbt-microsites)"
   ]
  }
 ],
 "metadata": {
  "kernelspec": {
   "display_name": "Python 3",
   "language": "python",
   "name": "python3"
  },
  "language_info": {
   "codemirror_mode": {
    "name": "ipython",
    "version": 3
   },
   "file_extension": ".py",
   "mimetype": "text/x-python",
   "name": "python",
   "nbconvert_exporter": "python",
   "pygments_lexer": "ipython3",
   "version": "3.6.5"
  }
 },
 "nbformat": 4,
 "nbformat_minor": 2
}
