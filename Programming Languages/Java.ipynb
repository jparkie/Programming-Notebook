{
 "cells": [
  {
   "cell_type": "markdown",
   "metadata": {},
   "source": [
    "# Java\n",
    "*Author: Jacob Park*"
   ]
  },
  {
   "cell_type": "markdown",
   "metadata": {},
   "source": [
    "> Java is a general-purpose computer-programming language that is concurrent, class-based, object-oriented, and specifically designed to have as few implementation dependencies as possible."
   ]
  },
  {
   "cell_type": "markdown",
   "metadata": {},
   "source": [
    "## Documentation\n",
    "\n",
    "- [Website](https://docs.oracle.com/javase/10/)\n",
    "- [Language Documentation](https://docs.oracle.com/javase/tutorial/index.html)\n",
    "- [API Documentation](https://docs.oracle.com/javase/10/docs/api/overview-summary.html)\n",
    "- [Style Guide](https://google.github.io/styleguide/javaguide.html)\n",
    "- [Specifications](https://docs.oracle.com/javase/specs/index.html)\n",
    "- [JDK Enhancement Process](http://openjdk.java.net/jeps/0)"
   ]
  },
  {
   "cell_type": "markdown",
   "metadata": {},
   "source": [
    "## Development Environment\n",
    "\n",
    "- **IDE**: [IntelliJ IDEA](https://www.jetbrains.com/idea/)\n",
    "- **Build System**: [maven](https://maven.apache.org/)\n",
    "- **Code Formatter**: [google-java-format](https://github.com/google/google-java-format)\n",
    "- **Code Linter**: [checkstyle](http://checkstyle.sourceforge.net/)\n",
    "- **Code Coverage**: [JaCoCo](https://www.eclemma.org/jacoco/)\n",
    "- **All Libraries**: [MVNrepository](https://mvnrepository.com/)\n",
    "- **Curated Libraries**: [awesome-java](https://github.com/akullpp/awesome-java)"
   ]
  },
  {
   "cell_type": "markdown",
   "metadata": {},
   "source": [
    "## Testing\n",
    "\n",
    "- **Test Library**: [JUnit5](https://junit.org/junit5/)\n",
    "- **Mocking**: [mockito](https://site.mockito.org/)\n",
    "- **Property-Based Testing**: [QuickTheories](https://github.com/ncredinburgh/QuickTheories)\n",
    "- **Containers-Based Testing**: [testcontainers](https://www.testcontainers.org/)\n",
    "- **Microbenchmarking**: [jmh](http://openjdk.java.net/projects/code-tools/jmh/)"
   ]
  },
  {
   "cell_type": "markdown",
   "metadata": {},
   "source": [
    "## Productionizing Java\n",
    "\n",
    "- **CLI**: [Commons CLI](http://commons.apache.org/proper/commons-cli/index.html)\n",
    "- **Compile-Time Dependency Injection**: [Dagger](https://google.github.io/dagger/)\n",
    "- **Run-Time Dependency Injection**: [Guice](https://github.com/google/guice)\n",
    "- **Metrics**: [Metrics](https://github.com/dropwizard/metrics)\n",
    "- **JSON**: [Jackson](https://github.com/FasterXML/jackson)\n",
    "- **YAML**: [Jackson](https://github.com/FasterXML/jackson-dataformats-text)\n",
    "- **JAR**: [Maven Shade](https://maven.apache.org/plugins/maven-shade-plugin/)\n",
    "- **Packaging**: [Maven Assembly](https://maven.apache.org/plugins/maven-assembly-plugin/)\n",
    "- **Release**: [Maven Release](https://maven.apache.org/maven-release/maven-release-plugin/)\n",
    "- **Documentation**: [Javadoc](https://docs.oracle.com/javase/10/javadoc/javadoc.htm)"
   ]
  }
 ],
 "metadata": {
  "kernelspec": {
   "display_name": "Java",
   "language": "java",
   "name": "java"
  },
  "language_info": {
   "codemirror_mode": "text/x-java",
   "file_extension": ".java",
   "mimetype": "",
   "name": "Java",
   "nbconverter_exporter": "",
   "version": "1.8.0_144"
  }
 },
 "nbformat": 4,
 "nbformat_minor": 2
}
