{
 "cells": [
  {
   "cell_type": "markdown",
   "metadata": {},
   "source": [
    "# Python 3\n",
    "*Author: Jacob Park*"
   ]
  },
  {
   "cell_type": "markdown",
   "metadata": {},
   "source": [
    "> Python is an easy to learn, powerful programming language. It has efficient high-level data structures and a simple but effective approach to object-oriented programming. Python’s elegant syntax and dynamic typing, together with its interpreted nature, make it an ideal language for scripting and rapid application development in many areas on most platforms."
   ]
  },
  {
   "cell_type": "markdown",
   "metadata": {},
   "source": [
    "## Documentation\n",
    "\n",
    "- [Website](https://www.scala-lang.org/)\n",
    "- [Language Documentation](https://docs.scala-lang.org/)\n",
    "- [API Documentation](https://www.scala-lang.org/api/current/)\n",
    "- [Style Guide](https://www.python.org/dev/peps/pep-0008/)\n",
    "- [Specifications](https://docs.python.org/3.7/reference/index.html)\n",
    "- [Source Code](https://github.com/python/cpython)\n",
    "- [Python Enhancement Proposals](https://www.python.org/dev/peps/)"
   ]
  },
  {
   "cell_type": "markdown",
   "metadata": {},
   "source": [
    "## Development Environment\n",
    "\n",
    "- **IDE**: [PyCharm](https://www.jetbrains.com/pycharm/)\n",
    "- **Editor Plugins**: [ENSIME](http://damnwidget.github.io/anaconda/)\n",
    "- **Build System**: [tox](https://tox.readthedocs.io/en/latest/) + [venv](https://docs.python.org/3/library/venv.html) + [pip](https://pip.pypa.io/en/stable/)\n",
    "- **Code Formatter**: [yapf](https://github.com/google/yapf)\n",
    "- **Code Linter**: [flake8](https://gitlab.com/pycqa/flake8)\n",
    "- **Code Coverage**: [Coverage.py](https://coverage.readthedocs.io/en/v4.5.x/)\n",
    "- **All Libraries**: [Python Package Index](https://pypi.org/)\n",
    "- **Curated Libraries**: [awesome-python](https://github.com/vinta/awesome-python)"
   ]
  },
  {
   "cell_type": "markdown",
   "metadata": {},
   "source": [
    "## Testing\n",
    "\n",
    "- **Test Library**: [pytest](https://docs.pytest.org/en/latest/)\n",
    "- **Mocking**: [unittest.mock](https://docs.python.org/3/library/unittest.mock.html)\n",
    "- **Property-Based Testing**: [Hypothesis](https://hypothesis.works/)\n",
    "- **Microbenchmarking**: [cProfile](https://docs.python.org/3/library/profile.html)"
   ]
  },
  {
   "cell_type": "markdown",
   "metadata": {},
   "source": [
    "## Productionizing Python 3\n",
    "\n",
    "- **CLI**: [argparse](https://docs.python.org/3/library/argparse.html)\n",
    "- **Configuration**: [configparser](https://docs.python.org/3/library/configparser.html)\n",
    "- **JSON**: [json](https://docs.python.org/3/library/json.html)\n",
    "- **YAML**: [PyYAML](https://pyyaml.org/)\n",
    "- **Wheels**: [Wheels](https://pythonwheels.com/)\n",
    "- **Packaging**: [setuptools](https://github.com/pypa/setuptools)\n",
    "- **Documentation**: [Sphinx](http://www.sphinx-doc.org/en/master/)"
   ]
  }
 ],
 "metadata": {
  "kernelspec": {
   "display_name": "Python 3",
   "language": "python",
   "name": "python3"
  },
  "language_info": {
   "codemirror_mode": {
    "name": "ipython",
    "version": 3
   },
   "file_extension": ".py",
   "mimetype": "text/x-python",
   "name": "python",
   "nbconvert_exporter": "python",
   "pygments_lexer": "ipython3",
   "version": "3.6.5"
  }
 },
 "nbformat": 4,
 "nbformat_minor": 2
}
