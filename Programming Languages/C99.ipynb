{
 "cells": [
  {
   "cell_type": "markdown",
   "metadata": {},
   "source": [
    "# C99\n",
    "*Author: Jacob Park*"
   ]
  },
  {
   "cell_type": "markdown",
   "metadata": {},
   "source": [
    "> C99 is the \"ISO/IEC 9899:1999\" version of the C programming language: a general-purpose, procedural programming language."
   ]
  },
  {
   "cell_type": "markdown",
   "metadata": {},
   "source": [
    "## Documentation\n",
    "\n",
    "- [Language Documentation](https://en.cppreference.com/w/c/language)\n",
    "- [C Standard Library Header Files](https://en.cppreference.com/w/c/header)\n",
    "- [C POSIX Header Files](https://pubs.opengroup.org/onlinepubs/9699919799/idx/head.html)\n",
    "- [GNU C Style Guide](https://www.gnu.org/prep/standards/html_node/Writing-C.html)"
   ]
  },
  {
   "cell_type": "markdown",
   "metadata": {},
   "source": [
    "## Development Environment\n",
    "\n",
    "- **Compiler**: [GCC](https://gcc.gnu.org/) or [Clang](https://clang.llvm.org/)\n",
    "- **IDE**: [VSCode](https://code.visualstudio.com/)\n",
    "- **Build System**: [CMake](https://cmake.org/)\n",
    "- **Code Analyzer**: [scan-build](https://clang-analyzer.llvm.org/scan-build.html)\n",
    "- **Code Formatter**: [ClangFormat](https://clang.llvm.org/docs/ClangFormat.html)\n",
    "- **Code Linter**: [clang-tidy](https://clang.llvm.org/extra/clang-tidy/index.html)\n",
    "- **Code Coverage**: [LCOV](http://ltp.sourceforge.net/coverage/lcov.php)\n",
    "- **Code Search**: [cscope](http://cscope.sourceforge.net/)\n",
    "- **Curated Libraries**: [awesome-c](https://github.com/kozross/awesome-c)\n",
    "- **Package Configs**: [pkg-config](https://www.freedesktop.org/wiki/Software/pkg-config/)"
   ]
  },
  {
   "cell_type": "markdown",
   "metadata": {},
   "source": [
    "## Testing\n",
    "\n",
    "- **Test Library**: [ctest](https://github.com/bvdberg/ctest)\n",
    "- **Property-Based Testing**: [pytest](https://docs.pytest.org/en/latest/) + [cffi](https://cffi.readthedocs.io/en/latest/)"
   ]
  },
  {
   "cell_type": "markdown",
   "metadata": {},
   "source": [
    "## Productionizing C99\n",
    "\n",
    "- **Benchmarking**: [b63](https://github.com/okuvshynov/b63)\n",
    "- **Debugger**: [cgdb](https://cgdb.github.io/)\n",
    "- **Documentation**: [Doxygen](http://doxygen.nl/)\n",
    "- **Dynamic Analysis**: [Dynamic Analysis](http://valgrind.org/)\n",
    "- **Profiler**: [gprof](https://sourceware.org/binutils/docs/gprof/)"
   ]
  },
  {
   "cell_type": "markdown",
   "metadata": {},
   "source": [
    "## Project Templates\n",
    "\n",
    "- **[jparkie/cookiecutter-c99](https://github.com/jparkie/cookiecutter-c99)**: Cookiecutter template for a C99 application."
   ]
  }
 ],
 "metadata": {
  "kernelspec": {
   "display_name": "Python 3",
   "language": "python",
   "name": "python3"
  },
  "language_info": {
   "codemirror_mode": {
    "name": "ipython",
    "version": 3
   },
   "file_extension": ".py",
   "mimetype": "text/x-python",
   "name": "python",
   "nbconvert_exporter": "python",
   "pygments_lexer": "ipython3",
   "version": "3.7.3"
  },
  "toc": {
   "base_numbering": 1,
   "nav_menu": {},
   "number_sections": false,
   "sideBar": false,
   "skip_h1_title": false,
   "title_cell": "Table of Contents",
   "title_sidebar": "Contents",
   "toc_cell": false,
   "toc_position": {},
   "toc_section_display": false,
   "toc_window_display": false
  }
 },
 "nbformat": 4,
 "nbformat_minor": 2
}
