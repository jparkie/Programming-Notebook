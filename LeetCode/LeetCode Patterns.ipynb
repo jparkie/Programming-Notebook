{
 "cells": [
  {
   "cell_type": "markdown",
   "metadata": {},
   "source": [
    "# LeetCode Patterns\n",
    "*Author: Jacob Park*"
   ]
  },
  {
   "cell_type": "markdown",
   "metadata": {},
   "source": [
    "## Arrays & Hashing"
   ]
  },
  {
   "cell_type": "markdown",
   "metadata": {},
   "source": [
    "#### Subarray vs. Subsequence vs. Subset\n",
    "\n",
    "- **Subarray**: A contiguous part of an array.\n",
    "    - e.g., `[0, 1, 2, 3, 4, 5, 6, 7, 8, 9]` to `[3, 4, 5, 6, 7]`.\n",
    "        - All *Elements* between 3 and 7.\n",
    "        - *Elements* retain their order from the original array.\n",
    "- **Subsequence**: A subarray allowing elements to be missing from the original array.\n",
    "    - e.g., `[0, 1, 2, 3, 4, 5, 6, 7, 8, 9]` to `[3, 5, 7]`.\n",
    "        - Some *Elements* between 3 and 7.\n",
    "        - *Elements* retain their order from the original array.\n",
    "- **Subset**:  A subsequence allowing elements to be ordered differently from the original array.\n",
    "    - e.g., `[0, 1, 2, 3, 4, 5, 6, 7, 8, 9]` to `[7, 3, 5]`.\n",
    "        - Some *Elements* between 3 and 7.\n",
    "        - *Elements* disregard their order from the original array."
   ]
  },
  {
   "cell_type": "markdown",
   "metadata": {},
   "source": [
    "#### Finding Duplicates\n",
    "\n",
    "1. Sort *Array* `A`.\n",
    "2. Iterate `A[index] == A[index - 1]` to find *Duplicates*."
   ]
  },
  {
   "cell_type": "markdown",
   "metadata": {},
   "source": [
    "#### Deleting Duplicates\n",
    "\n",
    "1. Sort *Array* `A`.\n",
    "2. Iterate `A[uniqueIndex] != A[index]` to `A[++uniqueIndex] = A[index]` to skip *Duplicates*."
   ]
  },
  {
   "cell_type": "markdown",
   "metadata": {},
   "source": [
    "#### Detect Permutations\n",
    "\n",
    "1. Sort *Arrays* `A` and `B`.\n",
    "2. If `Arrays.equal(A, B)`, then `A` and `B` are *Permutations*."
   ]
  },
  {
   "cell_type": "markdown",
   "metadata": {},
   "source": [
    "#### Constant Time Insertion (No Sorted Order)\n",
    "\n",
    "- Given an element to insert `x`, append `x` to the end of the *Array* `A`."
   ]
  },
  {
   "cell_type": "markdown",
   "metadata": {},
   "source": [
    "#### Constant Time Deletion (No Sorted Order)\n",
    "\n",
    "- Given an element to delete `x`, swap `x` with the end of the *Array* `A`, and delete `x` at the end of the array."
   ]
  },
  {
   "cell_type": "markdown",
   "metadata": {},
   "source": [
    "#### Conditionalize Iteration with Sentinels\n",
    "\n",
    "- Given an *Array* `A`, update `A[index] = CLOSED` to mark the element at `index` as *Closed*.\n",
    "- Given an *Array* `A`, update `A[index] = TOMBSTONE` to mark the element at `index` as *Deleted*.\n",
    "- Given an *Array* `A`, update `A[index] = VISITED` to mark the element at `index` as *Visited*."
   ]
  },
  {
   "cell_type": "markdown",
   "metadata": {},
   "source": [
    "#### Dense and Sorted Hash Table\n",
    "\n",
    "- Given an *Array* `A` such that `A[key] = value`, the `key`s are sorted from 0 to `A.length - 1`.\n",
    "    - e.g., *Counting Sort*."
   ]
  },
  {
   "cell_type": "markdown",
   "metadata": {},
   "source": [
    "## Two Pointers"
   ]
  },
  {
   "cell_type": "markdown",
   "metadata": {},
   "source": [
    "#### Start Index, End Index, Range/Subarray/Subsequence Termination Condition\n",
    "\n",
    "- Given an *Array* `A`, there exists *Two Pointers* problems in which there exists a `startIndex` and a `endIndex` defining a *Range*/*Subarray*/*Subsequence*.\n",
    "- A common **Termination Condition** is the following: `while (startIndex < endIndex)`."
   ]
  },
  {
   "cell_type": "markdown",
   "metadata": {},
   "source": [
    "#### Forward Index, Backward Index, Meet-in-the-Middle Termination Condition\n",
    "\n",
    "- Given an *Array* `A`, there exists *Two Pointer* problems in which there exists a `forwardIndex = 0` and a `backwardIndex = A.length - 1` iterating in opposite directions of `A` to bound a certain condition or value.\n",
    "    - e.g., *Quick Sort's Partition*.\n",
    "- A common **Termination Condition** is the following: `while (forwardIndex < backwardIndex)`."
   ]
  },
  {
   "cell_type": "markdown",
   "metadata": {},
   "source": [
    "#### Left Index, Right Index, Left/Right Subarrays\n",
    "\n",
    "- Given an *Array* `A`, there exists *Two Pointer* problems in which there exists a `leftIndex = 0` and a `rightIndex = A.length / 2` iterating in same directions of `A` to process 2 disjoint left/rigth subarrays of `A`.\n",
    "    - e.g., *Merge Sort's Merge*."
   ]
  },
  {
   "cell_type": "markdown",
   "metadata": {},
   "source": [
    "## Sliding Window"
   ]
  },
  {
   "cell_type": "markdown",
   "metadata": {},
   "source": [
    "#### Sliding by Lagging Start Index, Iterating End Index\n",
    "\n",
    "- Given an *Array* `A`, there exists *Sliding Window* problems in which there exists a `startIndex = 0` and a `endIndex = 0`, but only the `endIndex` iterates while the `startIndex` lags until the `endIndex` discovers that the `startIndex` needs to advance, jump, or reset towards the `endIndex`."
   ]
  },
  {
   "cell_type": "markdown",
   "metadata": {},
   "source": [
    "## Stack (LIFO)"
   ]
  },
  {
   "cell_type": "markdown",
   "metadata": {},
   "source": [
    "#### Parent ↔ Child Contexts\n",
    "\n",
    "- A `Push` represents a transition from a *Parent* to a *Child*.\n",
    "- A `Pop` represents a transition from a *Child* to a *Parent*."
   ]
  },
  {
   "cell_type": "markdown",
   "metadata": {},
   "source": [
    "#### Stack Search: Depth-First Search\n",
    "\n",
    "- Never Halts for Infinite-Depth.\n",
    "- Polynomial Space Complexity."
   ]
  },
  {
   "cell_type": "markdown",
   "metadata": {},
   "source": [
    "#### Monotonic Stack\n",
    "\n",
    "- Given an *Array* `A`, there exists *Stack* problems in which a *Monotonic Stack* `S` is optimal when retrieving the nearest smaller/larger element.\n",
    "- A **Monotonic Stack** `S` is a *Stack* whose elements are monotonically increasing or decreasing.\n",
    "- **Key Idea**: When an element is popped from a *Monotonic Stack*, it will never be utilized again.\n",
    "    \n",
    "##### Monotonic Increasing Stack\n",
    "\n",
    ">**Monotonic Increasing Stack**: *Increasing* ⇒ *Bottom (Oldest) to Top (Newest)*.\n",
    "\n",
    "1. Iterate *Array* `A`.\n",
    "2. Pop `S` while `!S.isEmpty() && S.peek() > A[index]`.\n",
    "3. Push `S`: `S.push(A[index])`.\n",
    "\n",
    "##### Monotonic Decreasing Stack\n",
    "\n",
    ">**Monotonic Decreasing Stack**: *Decreasing* ⇒ *Bottom (Oldest) to Top (Newest)*.\n",
    "\n",
    "1. Iterate *Array* `A`.\n",
    "2. Pop `S` while `!S.isEmpty() && S.peek() < A[index]`.\n",
    "3. Push `S`: `S.push(A[index])`."
   ]
  },
  {
   "cell_type": "markdown",
   "metadata": {},
   "source": [
    "## Queues (FIFO)"
   ]
  },
  {
   "cell_type": "markdown",
   "metadata": {},
   "source": [
    "#### Sibling Contexts\n",
    "\n",
    "- `Enqueue` and `Dequeue` represents transitions through *Siblings*."
   ]
  },
  {
   "cell_type": "markdown",
   "metadata": {},
   "source": [
    "#### Queue Search: Breadth-First Search\n",
    "\n",
    "- Always Halts for Infinite-Depth.\n",
    "- Exponential Space Complexity."
   ]
  },
  {
   "cell_type": "markdown",
   "metadata": {},
   "source": [
    "## Binary Search"
   ]
  },
  {
   "cell_type": "markdown",
   "metadata": {},
   "source": [
    "#### Partially Sorted/Rotated Arrays\n",
    "\n",
    "- Position *Binary Search* around **Inflection Point**: Up → Down || Down → Up."
   ]
  },
  {
   "cell_type": "markdown",
   "metadata": {},
   "source": [
    "## Linked List"
   ]
  },
  {
   "cell_type": "markdown",
   "metadata": {},
   "source": [
    "#### Finding Terminal Node\n",
    "\n",
    "- Given a *Linked List* `L`, iterate `node = node.next` while `node.next != null` for `node` to be the terminal node."
   ]
  },
  {
   "cell_type": "markdown",
   "metadata": {},
   "source": [
    "#### Finding Median Node with Fast Node and Slow Node\n",
    "\n",
    "- Given a *Linked List* `L`, iterate `fastNode = fastNode.next.next` and `slowNode = slowNode.next` while `fastNode != null && fastNode.next != null` for `slowNode` to be the median node."
   ]
  },
  {
   "cell_type": "markdown",
   "metadata": {},
   "source": [
    "#### Finding Nth Last Node with Fast Node and Slow Node\n",
    "\n",
    "- Given a *Linked List* `L`, iterate `fastNode = fastNode.next` `N` times, and then iterate `fastNode = fastNode.next` and `slowNode = slowNode.next` for `slowNode` to be the nth last node."
   ]
  },
  {
   "cell_type": "markdown",
   "metadata": {},
   "source": [
    "#### Finding Cycles with Fast Node and Slow Node\n",
    "\n",
    "- Given a *Linked List* `L`, iterate `fastNode = fastNode.next.next` and `slowNode = slowNode.next` while `fastNode != null && fastNode.next != null`; if `fastNode` catches `slowNode`, then there exists a cycle."
   ]
  },
  {
   "cell_type": "markdown",
   "metadata": {},
   "source": [
    "## Trees"
   ]
  },
  {
   "cell_type": "markdown",
   "metadata": {},
   "source": [
    "#### Pre-Order Traversal\n",
    "\n",
    "1. Accept.\n",
    "2. Recurse Left.\n",
    "3. Recurse Right."
   ]
  },
  {
   "cell_type": "markdown",
   "metadata": {},
   "source": [
    "#### In-Order Traversal\n",
    "\n",
    "1. Recurse Left.\n",
    "2. Accept.\n",
    "3. Recurse Right."
   ]
  },
  {
   "cell_type": "markdown",
   "metadata": {},
   "source": [
    "#### Post-Order Traversal\n",
    "\n",
    "1. Recurse Left.\n",
    "2. Recurse Right.\n",
    "3. Accept."
   ]
  },
  {
   "cell_type": "markdown",
   "metadata": {},
   "source": [
    "#### Level-Order Traversal\n",
    "\n",
    "- *Breadth-First Search* + *Queue*."
   ]
  },
  {
   "cell_type": "markdown",
   "metadata": {},
   "source": [
    "#### Finding Minimum\n",
    "\n",
    "- Given a *BST* `T`, recurse `node = node.left` while `node.left != null`."
   ]
  },
  {
   "cell_type": "markdown",
   "metadata": {},
   "source": [
    "#### Finding Maximum\n",
    "\n",
    "- Given a *BST* `T`, recurse `node = node.right` while `node.right != null`."
   ]
  },
  {
   "cell_type": "markdown",
   "metadata": {},
   "source": [
    "#### Finding Successor\n",
    "\n",
    "- Given a *BST* `T`,\n",
    "    1. If `node.right != null`, return the **minimum** of `node.right`.\n",
    "    2. Else, recurse `currentNode = parentNode` and `parentNode = parentNode.parent` while `parentNode != null` and `currentNode == parentNode.right`.\n",
    "- **Key Idea**: `currentNode == parentNode.right` ⇒ `currentNode` is greater than `parentNode`, so the `parentNode`, for which the condition fails, succeeds `node`."
   ]
  },
  {
   "cell_type": "markdown",
   "metadata": {},
   "source": [
    "#### Finding Predecessor\n",
    "\n",
    "- Given a *BST* `T`,\n",
    "    1. If `node.left != null`, return the **maximum** of `node.left`.\n",
    "    2. Else, recurse `currentNode = parentNode` and `parentNode = parentNode.parent` while `parentNode != null` and `currentNode == parentNode.left`.\n",
    "- **Key Idea**: `currentNode == parentNode.left` ⇒ `currentNode` is lesser than `parentNode`, so the `parentNode`, for which the condition fails, preceeds `node`."
   ]
  },
  {
   "cell_type": "markdown",
   "metadata": {},
   "source": [
    "#### Finding Lowest Common Ancestor\n",
    "\n",
    "- **Key Idea**: In a *BST* `T`, the *Lowest Common Ancestor* of `p` and `q` is the `root` for which `p` and `q` diverge in their binary searches."
   ]
  },
  {
   "cell_type": "markdown",
   "metadata": {},
   "source": [
    "#### Testing Equality\n",
    "\n",
    "1. Check *Nullness*.\n",
    "2. Check *Values*.\n",
    "3. Recurse Left **AND** Right."
   ]
  },
  {
   "cell_type": "markdown",
   "metadata": {},
   "source": [
    "#### Testing Subtree\n",
    "\n",
    "1. Check Equality.\n",
    "2. Recurse Left **OR** Right with Subtree."
   ]
  },
  {
   "cell_type": "markdown",
   "metadata": {},
   "source": [
    "#### Cumulative Queries ⇒ Fenwick Tree\n",
    "\n",
    "- A *Fenwick Tree* is used to answer cumulative queries about a data set.\n",
    "- **Insert**: $O\\left(\\log n\\right)$\n",
    "- **Search**: $O\\left(\\log n\\right)$"
   ]
  },
  {
   "cell_type": "markdown",
   "metadata": {},
   "source": [
    "#### Range Queries ⇒ Segment Tree\n",
    "\n",
    "- A *Segment Tree* is used to answer range queries about a data set.\n",
    "- **Insert**: $O\\left(\\log n\\right)$\n",
    "- **Search**: $O\\left(\\log n\\right)$"
   ]
  },
  {
   "cell_type": "markdown",
   "metadata": {},
   "source": [
    "#### $k$-Merge Heap ⇒ Tournament Tree\n",
    "\n",
    "- A *Tournament Tree* is used to merge a set of sorted iterators into a single sorted iterator.\n",
    "- **Search**: $O\\left(\\log k\\right)$"
   ]
  },
  {
   "cell_type": "markdown",
   "metadata": {},
   "source": [
    "## Tries"
   ]
  },
  {
   "cell_type": "markdown",
   "metadata": {},
   "source": [
    "#### Prefix Searching\n",
    "\n",
    "1. **Exact Prefix Search**: Given a *Prefix* `p`, iterate/recurse paths per the characters of `p`.\n",
    "2. **Fuzzy Prefix Search**: Given a *Prefix* `p`, iterate/recurse paths per the characters of `p` or *Depth-First Search* per the regular-expression constructs of `p`."
   ]
  },
  {
   "cell_type": "markdown",
   "metadata": {},
   "source": [
    "## Heap / Priority Queue"
   ]
  },
  {
   "cell_type": "markdown",
   "metadata": {},
   "source": [
    "#### Finding Top $k$ Elements\n",
    "\n",
    "1. Iterate Array A.\n",
    "2. Offer `PQ`: `PQ.offer(A[index])`.\n",
    "3. Pop `PQ` if `PQ.size() > k`: `PQ.poll()`. "
   ]
  },
  {
   "cell_type": "markdown",
   "metadata": {},
   "source": [
    "#### Two Heaps\n",
    "\n",
    "- Given a *Stream* `S`, there exists *Heap* problems in which the elements of `S` can be distributed between **Two Heaps**: a *Minimum Heap* and a *Maximum Heap*.\n",
    "- **Minimum Heap** (*Smallest Element*): e.g., *Lesser than Median*, *Buying Low*, ....\n",
    "- **Maximum Heap** (*Largest Element*): e.g., *Greater than Median*, *Selling High*, ...."
   ]
  },
  {
   "cell_type": "markdown",
   "metadata": {},
   "source": [
    "## Backtracking"
   ]
  },
  {
   "cell_type": "markdown",
   "metadata": {},
   "source": [
    "#### Designing Backtracking Algorithms\n",
    "\n",
    "```java\n",
    "public void backtrack(Problem p, Candidate c) {\n",
    "    if (rejectCandidate(p, c)) {\n",
    "        return;\n",
    "    }\n",
    "    if (acceptCandidate(p, c)) {\n",
    "        outputSolution(p, c);\n",
    "        return;\n",
    "    }\n",
    "\n",
    "    final Iterable<Candidate> extensions = extendCandidate(p, c);\n",
    "\n",
    "    for (Candidate e : extensions) {\n",
    "        backtrack(p, e);\n",
    "    }\n",
    "}\n",
    "```"
   ]
  },
  {
   "cell_type": "markdown",
   "metadata": {},
   "source": [
    "#### Optimizing with Branch-and-Bound/Pruning\n",
    "\n",
    "- **Key Idea**: Given a *Problem* `P` and a *Candidate* `C` **prune** the search space by rejecting *Extensions* that will violate a constraint."
   ]
  },
  {
   "cell_type": "markdown",
   "metadata": {},
   "source": [
    "## Graphs"
   ]
  },
  {
   "cell_type": "markdown",
   "metadata": {},
   "source": [
    "#### Depth-First Search\n",
    "\n",
    "> *Visited Set* + *Stack*.\n",
    "\n",
    "##### Immediate Applications\n",
    "\n",
    "- *Find Any Path from Source Vertex*.\n",
    "- *Find Lexicographical First Path from Source Vertex*.\n",
    "- *Check If Vertex `u` Is Ancestor of Vertex `v`: `enterTime[u] < enterTime[v] && exitTime[u] > exitTime[v]`*."
   ]
  },
  {
   "cell_type": "markdown",
   "metadata": {},
   "source": [
    "#### Breadth-First Search\n",
    "\n",
    "> *Visited Set* + *Queue*.\n",
    "\n",
    "##### Immediate Applications\n",
    "\n",
    "- *Find Shortest Unweighted Path from Source Vertex*.\n",
    "- *Find All Connected Components of Undirected Graph: Every Vertex + BFS + Persistent Visited Set*."
   ]
  },
  {
   "cell_type": "markdown",
   "metadata": {},
   "source": [
    "#### Reachability with BFS/DFS\n",
    "\n",
    "- Given a *Source Vertex* `S`, BFS/DFS from `S` will populate the `visitedSet` with all the vertices reachable by `S`."
   ]
  },
  {
   "cell_type": "markdown",
   "metadata": {},
   "source": [
    "#### Detect Cycles in Graphs with Coloring\n",
    "\n",
    "- For each *Vertex* `v`, *Depth-First Search*.\n",
    "    1. **Initial Color**: *White*.\n",
    "    2. **Entering Color**: *Gray*.\n",
    "    3. **Exiting Color**: *Black*.\n",
    "- If the *DFS* enters a *Gray Vertext*, then there exists a cycle.\n",
    "- **Note**: For *Undirected Graphs*, utilize a *Parents Map* to filter edges returning to parents."
   ]
  },
  {
   "cell_type": "markdown",
   "metadata": {},
   "source": [
    "#### Relaxation Condition\n",
    "\n",
    "- Given an *Edge* `E` from `u` to `v` with a *Weight* `w`, the relaxation though `E` is the following:\n",
    "\n",
    "```java\n",
    "if (distanceTo.get(w) > distanceTo.get(v) + weight)\n",
    "    distanceTo.put(w, distanceTo.get(v) + weight);\n",
    "}\n",
    "```"
   ]
  },
  {
   "cell_type": "markdown",
   "metadata": {},
   "source": [
    "#### Single-Source Shortest Paths: Dijkstra's Algorithm (*Positive Weights Only*)\n",
    "\n",
    "> *Distance Map* + *Priority Queue* + *Relaxation Condition*.\n",
    "\n",
    "1. Assume all vertices are an infinite distance from the source vertex.\n",
    "2. Assume the source vertex is zero distance from itself.\n",
    "3. Perform breadth-first search using a priority queue by distance.\n",
    "4. For every adjacent vertex visited, relax its edge."
   ]
  },
  {
   "cell_type": "markdown",
   "metadata": {},
   "source": [
    "#### Single-Source Shortest Paths: Bellman-Ford Algorithm (*All Weights*)\n",
    "\n",
    "> *Distance Map* + *Dynamic Programming* + *Relaxation Condition*.\n",
    "\n",
    "1. Assume all vertices are an infinite distance from the source vertex.\n",
    "2. Assume the source vertex is zero distance from itself.\n",
    "3. For every vertex, relax all the edges.\n",
    "4. Check for negative-weight cycles."
   ]
  },
  {
   "cell_type": "markdown",
   "metadata": {},
   "source": [
    "#### All-Pairs Shortest Paths: Floyd-Warshall Algorithm (All Weights)\n",
    "\n",
    "> *Distance Map* + *Dynamic Programming* + *Relaxation Condition*.\n",
    "\n",
    "1. Assume all pairs of vertices have an infinite distance from each other.\n",
    "2. Initialize the distance of each pair of vertices of an edge to the weight.\n",
    "3. Initialize the distance of each pair of identical vertices to zero.\n",
    "4. For every intermediary vertex, relax all pairs of vertices through a path with the intermediary vertex."
   ]
  },
  {
   "cell_type": "markdown",
   "metadata": {},
   "source": [
    "#### Union Find/Disjoint Set\n",
    "\n",
    "- A *Disjoint Set* is a collection of non-overlapping sets.\n",
    "- **Insert**: $O\\left(1\\right)$\n",
    "- **Search**: $O\\left(\\log n\\right)$"
   ]
  },
  {
   "cell_type": "markdown",
   "metadata": {},
   "source": [
    "#### Minimum Spanning Trees with Kruskal's Algorithm\n",
    "\n",
    "> *Greedy* + *Priority Queue* + *Disjoint Set*.\n",
    "\n",
    "1. Assign every vertex into its own component.\n",
    "2. Greedily, by increasing weight, connect two components by including the connecting edge into the *MST*."
   ]
  },
  {
   "cell_type": "markdown",
   "metadata": {},
   "source": [
    "#### Topological Sort\n",
    "\n",
    "> *Every Vertex* + *DFS* + *White/Gray/Black Graph Coloring*.\n",
    "\n",
    "- Given a directed graph, list the vertices in order such that all its directed edges point from a vertex earlier in the order to a vertex later in the order."
   ]
  },
  {
   "cell_type": "markdown",
   "metadata": {},
   "source": [
    "## Dynamic Programming"
   ]
  },
  {
   "cell_type": "markdown",
   "metadata": {},
   "source": [
    "TODO."
   ]
  },
  {
   "cell_type": "markdown",
   "metadata": {},
   "source": [
    "## Greedy"
   ]
  },
  {
   "cell_type": "markdown",
   "metadata": {},
   "source": [
    "TODO."
   ]
  },
  {
   "cell_type": "markdown",
   "metadata": {},
   "source": [
    "## Intervals"
   ]
  },
  {
   "cell_type": "markdown",
   "metadata": {},
   "source": [
    "TODO."
   ]
  }
 ],
 "metadata": {
  "kernelspec": {
   "display_name": "Java",
   "language": "java",
   "name": "java"
  },
  "language_info": {
   "codemirror_mode": "text/x-java",
   "file_extension": ".java",
   "mimetype": "",
   "name": "Java",
   "nbconverter_exporter": "",
   "version": "1.8.0_152-release"
  },
  "toc": {
   "base_numbering": 1,
   "nav_menu": {},
   "number_sections": false,
   "sideBar": false,
   "skip_h1_title": false,
   "title_cell": "Table of Contents",
   "title_sidebar": "Contents",
   "toc_cell": false,
   "toc_position": {},
   "toc_section_display": false,
   "toc_window_display": false
  }
 },
 "nbformat": 4,
 "nbformat_minor": 2
}
