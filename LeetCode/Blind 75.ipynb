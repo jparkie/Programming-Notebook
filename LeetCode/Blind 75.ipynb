{
 "cells": [
  {
   "cell_type": "markdown",
   "metadata": {},
   "source": [
    "# Blind 75\n",
    "*Author: Jacob Park*"
   ]
  },
  {
   "cell_type": "markdown",
   "metadata": {},
   "source": [
    "## Arrays & Hashing"
   ]
  },
  {
   "cell_type": "markdown",
   "metadata": {},
   "source": [
    "### 217. [Contains Duplicate](https://leetcode.com/problems/contains-duplicate/) (*Easy*)\n",
    "\n",
    "Given an integer array `nums`, return `true` if any value appears **at least twice** in the array, and return `false` if every element is distinct.\n",
    "\n",
    "#### Constraints\n",
    "\n",
    "- `1 <= nums.length <= 1e5`\n",
    "- `-1e9 <= nums[i] <= 1e9`"
   ]
  },
  {
   "cell_type": "code",
   "execution_count": 1,
   "metadata": {},
   "outputs": [
    {
     "data": {
      "text/plain": [
       "LC_217.Solution"
      ]
     },
     "execution_count": 1,
     "metadata": {},
     "output_type": "execute_result"
    }
   ],
   "source": [
    "package LC_217;\n",
    "\n",
    "import java.lang.Math;\n",
    "import java.util.*;\n",
    "import java.util.Arrays.*;\n",
    "import java.util.Collections.*;\n",
    "import java.util.Map.Entry;\n",
    "\n",
    "\n",
    "// Time: O(n)\n",
    "// HashSet => Space: O(n)\n",
    "// Sort => Space: O(1)\n",
    "class Solution {\n",
    "\n",
    "    public boolean containsDuplicate(int[] nums) {\n",
    "        final Set<Integer> uniqueElements = new HashSet<Integer>();\n",
    "\n",
    "        for (final int element : nums) {\n",
    "            if (!uniqueElements.add(element)) {\n",
    "                return true;\n",
    "            }\n",
    "        }\n",
    "\n",
    "        return false;\n",
    "    }\n",
    "\n",
    "}"
   ]
  },
  {
   "cell_type": "markdown",
   "metadata": {},
   "source": [
    "### 242. [Valid Anagram](https://leetcode.com/problems/valid-anagram/) (*Easy*)\n",
    "\n",
    "Given two strings `s` and `t`, return `true` if `t` is an anagram of `s`, and `false` otherwise.\n",
    "\n",
    "An **Anagram** is a word or phrase formed by rearranging the letters of a different word or phrase, typically using all the original letters exactly once.\n",
    "\n",
    "#### Constraints\n",
    "\n",
    "- `1 <= s.length, t.length <= 5 * 1e4`\n",
    "- `s` and `t` consist of lowercase English letters.\n",
    "\n",
    "#### Follow Ups\n",
    "\n",
    "- What if the inputs contain Unicode characters? How would you adapt your solution to such a case?"
   ]
  },
  {
   "cell_type": "code",
   "execution_count": 2,
   "metadata": {},
   "outputs": [
    {
     "data": {
      "text/plain": [
       "LC_242.Solution"
      ]
     },
     "execution_count": 2,
     "metadata": {},
     "output_type": "execute_result"
    }
   ],
   "source": [
    "package LC_242;\n",
    "\n",
    "import java.lang.Math;\n",
    "import java.util.*;\n",
    "import java.util.Arrays.*;\n",
    "import java.util.Collections.*;\n",
    "import java.util.Map.Entry;\n",
    "\n",
    "// Time: O(n)\n",
    "// ASCII HashMap => Space: O(1)\n",
    "// Unicode Sort => Space: O(1)\n",
    "// Hint: Anagram is Permutation.\n",
    "class Solution {\n",
    "\n",
    "    public boolean isAnagram(String s, String t) {\n",
    "        if (s.length() != t.length()) {\n",
    "            return false;\n",
    "        }\n",
    "\n",
    "        final int[] counts = new int[26];\n",
    "        for (int index = 0; index < s.length(); index++) {\n",
    "            counts[s.charAt(index) - 'a']++;\n",
    "            counts[t.charAt(index) - 'a']--;\n",
    "        }\n",
    "        for (int count : counts) {\n",
    "            if (count != 0) {\n",
    "                return false;\n",
    "            }\n",
    "        }\n",
    "\n",
    "        return true;\n",
    "    }\n",
    "\n",
    "}"
   ]
  },
  {
   "cell_type": "markdown",
   "metadata": {},
   "source": [
    "### 1. [Two Sum](https://leetcode.com/problems/two-sum/) (*Easy*)\n",
    "\n",
    "Given an array of integers `nums` and an integer `target`, return indices of the two numbers such that they add up to `target`.\n",
    "\n",
    "You may assume that each input would have **exactly one solution**, and you may not use the same element twice.\n",
    "\n",
    "You can return the answer in any order.\n",
    "\n",
    "#### Constraints\n",
    "\n",
    "- `2 <= nums.length <= 1e4`\n",
    "- `-1e9 <= nums[i] <= 1e9`\n",
    "- `-1e9 <= target <= 1e9`\n",
    "- **Only one valid answer exists.**\n",
    "\n",
    "#### Follow Ups\n",
    "\n",
    "- Can you come up with an algorithm that is less than `O(n^2)` time complexity?"
   ]
  },
  {
   "cell_type": "code",
   "execution_count": 3,
   "metadata": {},
   "outputs": [
    {
     "data": {
      "text/plain": [
       "LC_1.Solution"
      ]
     },
     "execution_count": 3,
     "metadata": {},
     "output_type": "execute_result"
    }
   ],
   "source": [
    "package LC_1;\n",
    "\n",
    "import java.lang.Math;\n",
    "import java.util.*;\n",
    "import java.util.Arrays.*;\n",
    "import java.util.Collections.*;\n",
    "import java.util.Map.Entry;\n",
    "\n",
    "// Time: O(n)\n",
    "// HashMap => Space: O(n)\n",
    "// Sort + Two Pointers => Space: O(1)\n",
    "class Solution {\n",
    "\n",
    "    public int[] twoSum(int[] nums, int target) {\n",
    "        final Map<Integer, Integer> summandIndexMap = new HashMap<>();\n",
    "        for (int index = 0; index < nums.length; index++) {\n",
    "            final int leftSummand = nums[index];\n",
    "            final int rightSummand = target - leftSummand;\n",
    "            if (summandIndexMap.containsKey(rightSummand)) {\n",
    "                return new int[] {\n",
    "                    index,\n",
    "                    summandIndexMap.get(rightSummand)\n",
    "                };\n",
    "            }\n",
    "            summandIndexMap.put(leftSummand, index);\n",
    "        }\n",
    "\n",
    "        return new int[] {};\n",
    "    }\n",
    "\n",
    "}"
   ]
  },
  {
   "cell_type": "markdown",
   "metadata": {},
   "source": [
    "### 49. [Group Anagrams](https://leetcode.com/problems/group-anagrams/) (*Easy*)\n",
    "\n",
    "Given an array of strings `strs`, group **the anagrams** together. You can return the answer in **any order**.\n",
    "\n",
    "An **Anagram** is a word or phrase formed by rearranging the letters of a different word or phrase, typically using all the original letters exactly once.\n",
    "\n",
    "#### Constraints\n",
    "\n",
    "- `1 <= strs.length <= 1e4`\n",
    "- `0 <= strs[i].length <= 100`\n",
    "- `strs[i]` consists of lowercase English letters."
   ]
  },
  {
   "cell_type": "code",
   "execution_count": 4,
   "metadata": {},
   "outputs": [
    {
     "data": {
      "text/plain": [
       "LC_49.Solution"
      ]
     },
     "execution_count": 4,
     "metadata": {},
     "output_type": "execute_result"
    }
   ],
   "source": [
    "package LC_49;\n",
    "\n",
    "import java.lang.Math;\n",
    "import java.util.*;\n",
    "import java.util.Arrays.*;\n",
    "import java.util.Collections.*;\n",
    "import java.util.Map.Entry;\n",
    "\n",
    "// Time: O(n * k \\log k)\n",
    "// HashMap => Space: O(n * k)\n",
    "// Hint: Canonicalize/Normalize/Standardize Anagrams/Permutations + Group By.\n",
    "class Solution {\n",
    "\n",
    "    public List<List<String>> groupAnagrams(String[] strs) {\n",
    "        final Map<String, List<String>> standardStringMap = new HashMap<>();\n",
    "\n",
    "        for (String string : strs) {\n",
    "            // Canonicalize/Normalize/Standardize Anagrams/Permutations.\n",
    "            final char[] characters = string.toCharArray();\n",
    "            Arrays.sort(characters);\n",
    "            final String standardString = new String(characters);\n",
    "            // Group By.\n",
    "            if (!standardStringMap.containsKey(standardString)) {\n",
    "                standardStringMap.put(standardString, new LinkedList<>());\n",
    "            }\n",
    "            standardStringMap.get(standardString).add(string);\n",
    "        }\n",
    "\n",
    "        return new ArrayList<>(standardStringMap.values());\n",
    "    }\n",
    "    \n",
    "}"
   ]
  },
  {
   "cell_type": "markdown",
   "metadata": {},
   "source": [
    "### 347. [Top K Frequent Elements](https://leetcode.com/problems/top-k-frequent-elements/) (*Medium*)\n",
    "\n",
    "Given an integer array `nums` and an integer `k`, return the `k` most frequent elements. You may return the answer in **any order**.\n",
    "\n",
    "#### Constraints\n",
    "\n",
    "- `1 <= nums.length <= 1e5`\n",
    "- `-1e4 <= nums[i] <= 1e4`\n",
    "- `k` is in the range `[1, the number of unique elements in the array]`.\n",
    "- It is **guaranteed** that the answer is **unique**.\n",
    "\n",
    "#### Follow Ups\n",
    "\n",
    "- Your algorithm's time complexity must be better than `O(n log n)`, where `n` is the array's size."
   ]
  },
  {
   "cell_type": "code",
   "execution_count": 5,
   "metadata": {},
   "outputs": [
    {
     "data": {
      "text/plain": [
       "LC_347.Solution1"
      ]
     },
     "execution_count": 5,
     "metadata": {},
     "output_type": "execute_result"
    }
   ],
   "source": [
    "package LC_347;\n",
    "\n",
    "import java.lang.Math;\n",
    "import java.util.*;\n",
    "import java.util.Arrays.*;\n",
    "import java.util.Collections.*;\n",
    "import java.util.Map.Entry;\n",
    "\n",
    "// Time: O(n * \\log k)\n",
    "// Space: O(n)\n",
    "// Hint: Element-Frequency Map + Priority Queue.\n",
    "class Solution1 {\n",
    "\n",
    "    public int[] topKFrequent(int[] nums, int k) {\n",
    "        // Element-Frequency Map.\n",
    "        final Map<Integer, Integer> elementFrequencyMap = new HashMap<>();\n",
    "        for (int element : nums) {\n",
    "            final int currentCount = elementFrequencyMap.getOrDefault(element, 0);\n",
    "            final int newCount = currentCount + 1;\n",
    "            elementFrequencyMap.put(element, newCount);\n",
    "        }\n",
    "\n",
    "        // Top K w/ Priority Queue; Poll Smallest K+1th.\n",
    "        final PriorityQueue<Entry<Integer, Integer>> topKPQ = new PriorityQueue<>((x, y) -> Integer.compare(x.getValue(), y.getValue()));\n",
    "        for (Entry<Integer, Integer> elementFrequencyPair : elementFrequencyMap.entrySet()) {\n",
    "            topKPQ.offer(elementFrequencyPair);\n",
    "            if (topKPQ.size() > k) {\n",
    "                topKPQ.poll();\n",
    "            }\n",
    "        }\n",
    "\n",
    "        // Java's PriorityQueue utilizes Natural Ordering (Smallest -> Largest).\n",
    "        final int[] topK = new int[k];\n",
    "        for (int index = k - 1; index >= 0; index--) {\n",
    "            topK[index] = topKPQ.poll().getKey();\n",
    "        }\n",
    "        return topK;\n",
    "    }\n",
    "    \n",
    "}"
   ]
  },
  {
   "cell_type": "code",
   "execution_count": 6,
   "metadata": {},
   "outputs": [
    {
     "data": {
      "text/plain": [
       "LC_347.Solution2"
      ]
     },
     "execution_count": 6,
     "metadata": {},
     "output_type": "execute_result"
    }
   ],
   "source": [
    "package LC_347;\n",
    "\n",
    "import java.lang.Math;\n",
    "import java.util.*;\n",
    "import java.util.ArrayList;\n",
    "import java.util.Arrays.*;\n",
    "import java.util.Collections.*;\n",
    "import java.util.Map.Entry;\n",
    "\n",
    "// Time: O(n)\n",
    "// Space: O(n)\n",
    "// Hint: Element-Frequency Map + Bucket Sort.\n",
    "class Solution2 {\n",
    "\n",
    "    public int[] topKFrequent(int[] nums, int k) {\n",
    "        // Element-Frequency Map.\n",
    "        final Map<Integer, Integer> elementFrequencyMap = new HashMap<>();\n",
    "        for (int element : nums) {\n",
    "            final int currentCount = elementFrequencyMap.getOrDefault(element, 0);\n",
    "            final int newCount = currentCount + 1;\n",
    "            elementFrequencyMap.put(element, newCount);\n",
    "        }\n",
    "\n",
    "        // Bucket Sort.\n",
    "        final Map<Integer, List<Integer>> frequencyElementsMap = new HashMap<>();\n",
    "        for (Entry<Integer, Integer> elementFrequencyPair : elementFrequencyMap.entrySet()) {\n",
    "            final int element = elementFrequencyPair.getKey();\n",
    "            final int frequency = elementFrequencyPair.getValue();\n",
    "            if (!frequencyElementsMap.containsKey(frequency)) {\n",
    "                frequencyElementsMap.put(frequency, new LinkedList<>());\n",
    "            }\n",
    "            frequencyElementsMap.get(frequency).add(element);\n",
    "        }\n",
    "\n",
    "        // Iterate Largest to Smallest Frequency for Elements.\n",
    "        int index = 0;\n",
    "        final int[] topK = new int[k];\n",
    "        for (int frequency = nums.length; frequency >= 0; frequency--) {\n",
    "            if (frequencyElementsMap.containsKey(frequency)) {\n",
    "                final List<Integer> elements = frequencyElementsMap.get(frequency);\n",
    "                for (int element: elements) {\n",
    "                    topK[index++] = element;\n",
    "                    if (index == k) {\n",
    "                        return topK;\n",
    "                    }\n",
    "                }\n",
    "            }\n",
    "        }\n",
    "        return topK;\n",
    "    }\n",
    "    \n",
    "}"
   ]
  },
  {
   "cell_type": "markdown",
   "metadata": {},
   "source": [
    "### 238. [Product of Array Except Self](https://leetcode.com/problems/product-of-array-except-self/) (*Medium*)\n",
    "\n",
    "Given an integer array `nums`, return an array `answer` such that `answer[i]` is equal to the product of all the elements of `nums` except `nums[i]`.\n",
    "\n",
    "The product of any prefix or suffix of `nums` is **guaranteed** to fit in a **32-bit** integer.\n",
    "\n",
    "You must write an algorithm that runs in `O(n)` time and without using the division operation.\n",
    "\n",
    "#### Constraints\n",
    "\n",
    "- `2 <= nums.length <= 1e5`\n",
    "- `-30 <= nums[i] <= 30`\n",
    "- The product of any prefix or suffix of `nums` is **guaranteed** to fit in a **32-bit** integer.\n",
    "\n",
    "#### Follow Ups\n",
    "\n",
    "- Can you solve the problem in `O(1)` extra space complexity? (The output array **does not** count as extra space for space complexity analysis.)"
   ]
  },
  {
   "cell_type": "code",
   "execution_count": 7,
   "metadata": {},
   "outputs": [
    {
     "data": {
      "text/plain": [
       "LC_238.Solution"
      ]
     },
     "execution_count": 7,
     "metadata": {},
     "output_type": "execute_result"
    }
   ],
   "source": [
    "package LC_238;\n",
    "\n",
    "import java.lang.Math;\n",
    "import java.util.*;\n",
    "import java.util.ArrayList;\n",
    "import java.util.Arrays.*;\n",
    "import java.util.Collections.*;\n",
    "import java.util.Map.Entry;\n",
    "\n",
    "// Time: O(n)\n",
    "// Space: O(n)\n",
    "// Hint: Prefix Sums (Iterate & Fold w/ Previous Solution).\n",
    "class Solution {\n",
    "\n",
    "    public int[] productExceptSelf(int[] nums) {\n",
    "        final int[] products = new int[nums.length];\n",
    "        final int[] prefixes = new int[nums.length];\n",
    "        final int[] suffixes = new int[nums.length];\n",
    "\n",
    "        // Calculate Prefix Products at `i` without `i`th's Value.\n",
    "        prefixes[0] = 1;\n",
    "        for (int index = 1; index < nums.length; index++) {\n",
    "            prefixes[index] = prefixes[index - 1] * nums[index - 1];\n",
    "        }\n",
    "\n",
    "        // Calculate Suffix Products at `i` without `i`th's Value.\n",
    "        suffixes[nums.length - 1] = 1;\n",
    "        for (int index = nums.length - 2; index >= 0; index--) {\n",
    "            suffixes[index] = suffixes[index + 1] * nums[index + 1];\n",
    "        }\n",
    "\n",
    "        // Calculate Products.\n",
    "        for (int index = 0; index < nums.length; index++) {\n",
    "            products[index] = prefixes[index] * suffixes[index];\n",
    "        }\n",
    "        return products;\n",
    "    }\n",
    "    \n",
    "}"
   ]
  },
  {
   "cell_type": "markdown",
   "metadata": {},
   "source": [
    "### 128. [Longest Consecutive Sequence](https://leetcode.com/problems/longest-consecutive-sequence/) (*Medium*)\n",
    "\n",
    "Given an unsorted array of integers `nums`, return the length of the longest consecutive elements sequence.\n",
    "\n",
    "You must write an algorithm that runs in `O(n)` time.\n",
    "\n",
    "#### Constraints\n",
    "\n",
    "- `0 <= nums.length <= 1e5`\n",
    "- `-1e9 <= nums[i] <= 1e9`"
   ]
  },
  {
   "cell_type": "code",
   "execution_count": 8,
   "metadata": {},
   "outputs": [
    {
     "data": {
      "text/plain": [
       "LC_128.Solution"
      ]
     },
     "execution_count": 8,
     "metadata": {},
     "output_type": "execute_result"
    }
   ],
   "source": [
    "package LC_128;\n",
    "\n",
    "import java.lang.Math;\n",
    "import java.util.*;\n",
    "import java.util.ArrayList;\n",
    "import java.util.Arrays.*;\n",
    "import java.util.Collections.*;\n",
    "import java.util.Map.Entry;\n",
    "\n",
    "// Time: O(n)\n",
    "// Space: O(n)\n",
    "// Hint: Union Find: Root => First Element of Consecutive Sequence; Rank => Length of Consecutive Sequence.\n",
    "class Solution {\n",
    "\n",
    "    public int longestConsecutive(int[] nums) {\n",
    "        // Set Membership.\n",
    "        final Set<Integer> elements = new HashSet<>();\n",
    "        for (int element : nums) {\n",
    "            elements.add(element);\n",
    "        }\n",
    "\n",
    "        // Union Find.\n",
    "        int maximumLength = 0;\n",
    "        for (int element : nums) {\n",
    "            // If E succeeds E-1, then E-1 has already established a Component\n",
    "            // of Consecutive Elements.\n",
    "            // i.e., Sequence <=> Graph Isomorphism: [1,2,3] => {1 => 2, 2 => 3}.\n",
    "            if (elements.contains(element - 1)) {\n",
    "                continue;\n",
    "            }\n",
    "\n",
    "            // Initial Component of Length 1 w/ `element` as Root.\n",
    "            int currentLength = 1;\n",
    "            for (int nextElement = element + 1; elements.contains(nextElement); nextElement++) {\n",
    "                currentLength++;\n",
    "            }\n",
    "\n",
    "            // Maximize.\n",
    "            maximumLength = Math.max(maximumLength, currentLength);\n",
    "        }\n",
    "        return maximumLength;\n",
    "    }\n",
    "    \n",
    "}"
   ]
  },
  {
   "cell_type": "markdown",
   "metadata": {},
   "source": [
    "## Two Pointers"
   ]
  },
  {
   "cell_type": "markdown",
   "metadata": {},
   "source": [
    "### 125. Valid Palindrome (*Easy*)\n",
    "\n",
    "TODO."
   ]
  },
  {
   "cell_type": "markdown",
   "metadata": {},
   "source": [
    "### 15. 3Sum (*Medium*)\n",
    "\n",
    "TODO."
   ]
  },
  {
   "cell_type": "markdown",
   "metadata": {},
   "source": [
    "### 11. Container With Most Water (*Medium*)\n",
    "\n",
    "TODO."
   ]
  },
  {
   "cell_type": "markdown",
   "metadata": {},
   "source": [
    "## Sliding Window"
   ]
  },
  {
   "cell_type": "markdown",
   "metadata": {},
   "source": [
    "### 121. Best Time to Buy and Sell Stock (*Easy*)\n",
    "\n",
    "TODO."
   ]
  },
  {
   "cell_type": "markdown",
   "metadata": {},
   "source": [
    "### 3. Longest Substring Without Repeating Characters (*Medium*)\n",
    "\n",
    "TODO."
   ]
  },
  {
   "cell_type": "markdown",
   "metadata": {},
   "source": [
    "### 424. Longest Repeating Character Replacement (*Medium*)\n",
    "\n",
    "TODO."
   ]
  },
  {
   "cell_type": "markdown",
   "metadata": {},
   "source": [
    "### 76. Minimum Window Substring (*Hard*)\n",
    "\n",
    "TODO."
   ]
  },
  {
   "cell_type": "markdown",
   "metadata": {},
   "source": [
    "## Stack"
   ]
  },
  {
   "cell_type": "markdown",
   "metadata": {},
   "source": [
    "### 20. Valid Parentheses (*Easy*)\n",
    "\n",
    "TODO."
   ]
  },
  {
   "cell_type": "markdown",
   "metadata": {},
   "source": [
    "## Binary Search"
   ]
  },
  {
   "cell_type": "markdown",
   "metadata": {},
   "source": [
    "### 153. Find Minimum in Rotated Sorted Array (*Medium*)\n",
    "\n",
    "TODO."
   ]
  },
  {
   "cell_type": "markdown",
   "metadata": {},
   "source": [
    "### 33. Search in Rotated Sorted Array (*Medium*)\n",
    "\n",
    "TODO."
   ]
  },
  {
   "cell_type": "markdown",
   "metadata": {},
   "source": [
    "## Linked List"
   ]
  },
  {
   "cell_type": "markdown",
   "metadata": {},
   "source": [
    "### 206. Reverse Linked List (*Easy*)\n",
    "\n",
    "TODO."
   ]
  },
  {
   "cell_type": "markdown",
   "metadata": {},
   "source": [
    "### 21. Merged Two Sorted Lists (*Easy*)\n",
    "\n",
    "TODO."
   ]
  },
  {
   "cell_type": "markdown",
   "metadata": {},
   "source": [
    "### 143. Reorder List (*Medium*)\n",
    "\n",
    "TODO."
   ]
  },
  {
   "cell_type": "markdown",
   "metadata": {},
   "source": [
    "### 19. Remove Nth Node From End of List (*Medium*)\n",
    "\n",
    "TODO."
   ]
  },
  {
   "cell_type": "markdown",
   "metadata": {},
   "source": [
    "### 141. Linked List Cycle (*Easy*)\n",
    "\n",
    "TODO."
   ]
  },
  {
   "cell_type": "markdown",
   "metadata": {},
   "source": [
    "### 23. Merged k Sorted Lists (*Hard*)\n",
    "\n",
    "TODO."
   ]
  },
  {
   "cell_type": "markdown",
   "metadata": {},
   "source": [
    "## Trees"
   ]
  },
  {
   "cell_type": "markdown",
   "metadata": {},
   "source": [
    "### 226. Invert Binary Tree (*Easy*)\n",
    "\n",
    "TODO."
   ]
  },
  {
   "cell_type": "markdown",
   "metadata": {},
   "source": [
    "### 104. Maximum Depth of Binary Tree (*Easy*)\n",
    "\n",
    "TODO."
   ]
  },
  {
   "cell_type": "markdown",
   "metadata": {},
   "source": [
    "### 100. Same Tree (*Easy*)\n",
    "\n",
    "TODO."
   ]
  },
  {
   "cell_type": "markdown",
   "metadata": {},
   "source": [
    "### 572. Subtree of Another Tree (*Easy*)\n",
    "\n",
    "TODO."
   ]
  },
  {
   "cell_type": "markdown",
   "metadata": {},
   "source": [
    "### 235. Lowest Common Ancestor of a Binary Search Tree (*Medium*) \n",
    "\n",
    "TODO."
   ]
  },
  {
   "cell_type": "markdown",
   "metadata": {},
   "source": [
    "### 102. Binary Tree Level Order Traversal (*Medium*)\n",
    "\n",
    "TODO."
   ]
  },
  {
   "cell_type": "markdown",
   "metadata": {},
   "source": [
    "### 98. Validate Binary Search Tree (*Medium*)\n",
    "\n",
    "TODO."
   ]
  },
  {
   "cell_type": "markdown",
   "metadata": {},
   "source": [
    "### 230. Kth Smallest Element in a BST (*Medium*)\n",
    "\n",
    "TODO."
   ]
  },
  {
   "cell_type": "markdown",
   "metadata": {},
   "source": [
    "### 105. Construct Binary Tree from Preorder and Inorder Traversal (*Medium*)\n",
    "\n",
    "TODO."
   ]
  },
  {
   "cell_type": "markdown",
   "metadata": {},
   "source": [
    "### 124. Binary Tree Maximum Path Sum (*Hard*)\n",
    "\n",
    "TODO."
   ]
  },
  {
   "cell_type": "markdown",
   "metadata": {},
   "source": [
    "### 297. Serialize and Deserialize Binary Tree (*Hard*)\n",
    "\n",
    "TODO."
   ]
  },
  {
   "cell_type": "markdown",
   "metadata": {},
   "source": [
    "## Tries"
   ]
  },
  {
   "cell_type": "markdown",
   "metadata": {},
   "source": [
    "### 208. Implement Trie (Prefix Tree) (*Medium*)\n",
    "\n",
    "TODO."
   ]
  },
  {
   "cell_type": "markdown",
   "metadata": {},
   "source": [
    "### 211. Design Add and Search Words Data Structure (*Medium*)\n",
    "\n",
    "TODO."
   ]
  },
  {
   "cell_type": "markdown",
   "metadata": {},
   "source": [
    "### 212. Word Search II (*Hard*)\n",
    "\n",
    "TODO."
   ]
  },
  {
   "cell_type": "markdown",
   "metadata": {},
   "source": [
    "## Heap / Priority Queue"
   ]
  },
  {
   "cell_type": "markdown",
   "metadata": {},
   "source": [
    "### 295. Find Median from Data Stream (*Hard*)\n",
    "\n",
    "TODO."
   ]
  },
  {
   "cell_type": "markdown",
   "metadata": {},
   "source": [
    "## Backtracking"
   ]
  },
  {
   "cell_type": "markdown",
   "metadata": {},
   "source": [
    "### 39. Combination Sum (*Medium*)\n",
    "\n",
    "TODO."
   ]
  },
  {
   "cell_type": "markdown",
   "metadata": {},
   "source": [
    "### 79. Word Search (*Medium*)\n",
    "\n",
    "TODO."
   ]
  },
  {
   "cell_type": "markdown",
   "metadata": {},
   "source": [
    "## Graphs"
   ]
  },
  {
   "cell_type": "markdown",
   "metadata": {},
   "source": [
    "### 200. Number of Islands (*Medium*)\n",
    "\n",
    "TODO."
   ]
  },
  {
   "cell_type": "markdown",
   "metadata": {},
   "source": [
    "### 133. Clone Graph (*Medium*)\n",
    "\n",
    "TODO."
   ]
  },
  {
   "cell_type": "markdown",
   "metadata": {},
   "source": [
    "### 417. Pacific Atlantic Water Flow (*Medium*)\n",
    "\n",
    "TODO."
   ]
  },
  {
   "cell_type": "markdown",
   "metadata": {},
   "source": [
    "### 207. Course Schedule (*Medium*)\n",
    "\n",
    "TODO."
   ]
  },
  {
   "cell_type": "markdown",
   "metadata": {},
   "source": [
    "## 1-D Dynamic Programming"
   ]
  },
  {
   "cell_type": "markdown",
   "metadata": {},
   "source": [
    "### 70. Climbing Stairs (*Easy*)\n",
    "\n",
    "TODO."
   ]
  },
  {
   "cell_type": "markdown",
   "metadata": {},
   "source": [
    "### 198. House Robber (*Medium*)\n",
    "\n",
    "TODO."
   ]
  },
  {
   "cell_type": "markdown",
   "metadata": {},
   "source": [
    "### 213. House Robber II (*Medium*)\n",
    "\n",
    "TODO."
   ]
  },
  {
   "cell_type": "markdown",
   "metadata": {},
   "source": [
    "### 5. Longest Palindromic Substring (*Medium*)\n",
    "\n",
    "TODO."
   ]
  },
  {
   "cell_type": "markdown",
   "metadata": {},
   "source": [
    "### 647. Palindromic Substrings (*Medium*)\n",
    "\n",
    "TODO."
   ]
  },
  {
   "cell_type": "markdown",
   "metadata": {},
   "source": [
    "### 91. Decode Ways (*Medium*)\n",
    "\n",
    "TODO."
   ]
  },
  {
   "cell_type": "markdown",
   "metadata": {},
   "source": [
    "### 322. Coin Change (*Medium*)\n",
    "\n",
    "TODO."
   ]
  },
  {
   "cell_type": "markdown",
   "metadata": {},
   "source": [
    "### 152. Maximum Product Subarray (*Medium*)\n",
    "\n",
    "TODO."
   ]
  },
  {
   "cell_type": "markdown",
   "metadata": {},
   "source": [
    "### 139. Word Break (*Medium*)\n",
    "\n",
    "TODO."
   ]
  },
  {
   "cell_type": "markdown",
   "metadata": {},
   "source": [
    "### 300. Longest Increasing Subsequence (*Medium*)\n",
    "\n",
    "TODO."
   ]
  },
  {
   "cell_type": "markdown",
   "metadata": {},
   "source": [
    "## 2-D Dynamic Programming"
   ]
  },
  {
   "cell_type": "markdown",
   "metadata": {},
   "source": [
    "### 62. Unique Paths (*Medium*)\n",
    "\n",
    "TODO."
   ]
  },
  {
   "cell_type": "markdown",
   "metadata": {},
   "source": [
    "### 1143. Longest Common Subsequence (*Medium*)\n",
    "\n",
    "TODO."
   ]
  },
  {
   "cell_type": "markdown",
   "metadata": {},
   "source": [
    "## Greedy"
   ]
  },
  {
   "cell_type": "markdown",
   "metadata": {},
   "source": [
    "### 53. Maximum Subarray (*Medium*)\n",
    "\n",
    "TODO."
   ]
  },
  {
   "cell_type": "markdown",
   "metadata": {},
   "source": [
    "### 55. Jump Game (*Medium*)\n",
    "\n",
    "TODO."
   ]
  },
  {
   "cell_type": "markdown",
   "metadata": {},
   "source": [
    "## Intervals"
   ]
  },
  {
   "cell_type": "markdown",
   "metadata": {},
   "source": [
    "### 57. Insert Interval (*Medium*)\n",
    "\n",
    "TODO."
   ]
  },
  {
   "cell_type": "markdown",
   "metadata": {},
   "source": [
    "### 56. Merge Intervals (*Medium*)\n",
    "\n",
    "TODO."
   ]
  },
  {
   "cell_type": "markdown",
   "metadata": {},
   "source": [
    "### 435. Non-overlapping Intervals (*Medium*)\n",
    "\n",
    "TODO."
   ]
  },
  {
   "cell_type": "markdown",
   "metadata": {},
   "source": [
    "## Math & Geometry"
   ]
  },
  {
   "cell_type": "markdown",
   "metadata": {},
   "source": [
    "### 48. Rotate Image (*Medium*)\n",
    "\n",
    "TODO."
   ]
  },
  {
   "cell_type": "markdown",
   "metadata": {},
   "source": [
    "### 54. Spiral Matrix (*Medium*)\n",
    "\n",
    "TODO."
   ]
  },
  {
   "cell_type": "markdown",
   "metadata": {},
   "source": [
    "### 73. Set Matrix Zeroes (*Medium*)\n",
    "\n",
    "TODO."
   ]
  },
  {
   "cell_type": "markdown",
   "metadata": {},
   "source": [
    "## Bit Manipulation"
   ]
  },
  {
   "cell_type": "markdown",
   "metadata": {},
   "source": [
    "### 191. Number of 1 Bits (*Easy*)\n",
    "\n",
    "TODO."
   ]
  },
  {
   "cell_type": "markdown",
   "metadata": {},
   "source": [
    "### 338. Counting Bits (*Easy*)\n",
    "\n",
    "TODO."
   ]
  },
  {
   "cell_type": "markdown",
   "metadata": {},
   "source": [
    "### 190. Reverse Bits (*Easy*)\n",
    "\n",
    "TODO."
   ]
  },
  {
   "cell_type": "markdown",
   "metadata": {},
   "source": [
    "### 268. Missing Number (*Easy*)\n",
    "\n",
    "TODO."
   ]
  },
  {
   "cell_type": "markdown",
   "metadata": {},
   "source": [
    "### 371. Sum of Two Integers (*Medium*)\n",
    "\n",
    "TODO."
   ]
  }
 ],
 "metadata": {
  "kernelspec": {
   "display_name": "Java",
   "language": "java",
   "name": "java"
  },
  "language_info": {
   "codemirror_mode": "text/x-java",
   "file_extension": ".java",
   "mimetype": "",
   "name": "Java",
   "nbconverter_exporter": "",
   "version": "1.8.0_152-release"
  },
  "toc": {
   "base_numbering": 1,
   "nav_menu": {},
   "number_sections": false,
   "sideBar": false,
   "skip_h1_title": false,
   "title_cell": "Table of Contents",
   "title_sidebar": "Contents",
   "toc_cell": false,
   "toc_position": {},
   "toc_section_display": false,
   "toc_window_display": false
  }
 },
 "nbformat": 4,
 "nbformat_minor": 2
}
