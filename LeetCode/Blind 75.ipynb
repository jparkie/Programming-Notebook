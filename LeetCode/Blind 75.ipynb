{
 "cells": [
  {
   "cell_type": "markdown",
   "metadata": {},
   "source": [
    "# Blind 75\n",
    "*Author: Jacob Park*"
   ]
  },
  {
   "cell_type": "markdown",
   "metadata": {},
   "source": [
    "## Arrays & Hashing"
   ]
  },
  {
   "cell_type": "markdown",
   "metadata": {},
   "source": [
    "### 217. [Contains Duplicate](https://leetcode.com/problems/contains-duplicate/) (*Easy*)\n",
    "\n",
    "Given an integer array `nums`, return `true` if any value appears **at least twice** in the array, and return `false` if every element is distinct.\n",
    "\n",
    "#### Constraints\n",
    "\n",
    "- `1 <= nums.length <= 1e5`\n",
    "- `-1e9 <= nums[i] <= 1e9`"
   ]
  },
  {
   "cell_type": "code",
   "execution_count": 1,
   "metadata": {},
   "outputs": [
    {
     "data": {
      "text/plain": [
       "LC_217.Solution"
      ]
     },
     "execution_count": 1,
     "metadata": {},
     "output_type": "execute_result"
    }
   ],
   "source": [
    "package LC_217;\n",
    "\n",
    "import java.lang.Math;\n",
    "import java.util.*;\n",
    "import java.util.Arrays.*;\n",
    "import java.util.Collections.*;\n",
    "import java.util.Map.Entry;\n",
    "\n",
    "\n",
    "// Time: O(n)\n",
    "// HashSet => Space: O(n)\n",
    "// Sort => Space: O(1)\n",
    "class Solution {\n",
    "\n",
    "    public boolean containsDuplicate(int[] nums) {\n",
    "        final Set<Integer> uniqueElements = new HashSet<Integer>();\n",
    "\n",
    "        for (final int element : nums) {\n",
    "            if (!uniqueElements.add(element)) {\n",
    "                return true;\n",
    "            }\n",
    "        }\n",
    "\n",
    "        return false;\n",
    "    }\n",
    "\n",
    "}"
   ]
  },
  {
   "cell_type": "markdown",
   "metadata": {},
   "source": [
    "### 242. [Valid Anagram](https://leetcode.com/problems/valid-anagram/) (*Easy*)\n",
    "\n",
    "Given two strings `s` and `t`, return `true` if `t` is an anagram of `s`, and `false` otherwise.\n",
    "\n",
    "An **Anagram** is a word or phrase formed by rearranging the letters of a different word or phrase, typically using all the original letters exactly once.\n",
    "\n",
    "#### Constraints\n",
    "\n",
    "- `1 <= s.length, t.length <= 5 * 1e4`\n",
    "- `s` and `t` consist of lowercase English letters.\n",
    "\n",
    "#### Follow Ups\n",
    "\n",
    "- What if the inputs contain Unicode characters? How would you adapt your solution to such a case?"
   ]
  },
  {
   "cell_type": "code",
   "execution_count": 2,
   "metadata": {},
   "outputs": [
    {
     "data": {
      "text/plain": [
       "LC_242.Solution"
      ]
     },
     "execution_count": 2,
     "metadata": {},
     "output_type": "execute_result"
    }
   ],
   "source": [
    "package LC_242;\n",
    "\n",
    "import java.lang.Math;\n",
    "import java.util.*;\n",
    "import java.util.Arrays.*;\n",
    "import java.util.Collections.*;\n",
    "import java.util.Map.Entry;\n",
    "\n",
    "// Time: O(n)\n",
    "// ASCII HashMap => Space: O(1)\n",
    "// Unicode Sort => Space: O(1)\n",
    "// Hint: Anagram is Permutation.\n",
    "class Solution {\n",
    "\n",
    "    public boolean isAnagram(String s, String t) {\n",
    "        if (s.length() != t.length()) {\n",
    "            return false;\n",
    "        }\n",
    "\n",
    "        final int[] counts = new int[26];\n",
    "        for (int index = 0; index < s.length(); index++) {\n",
    "            counts[s.charAt(index) - 'a']++;\n",
    "            counts[t.charAt(index) - 'a']--;\n",
    "        }\n",
    "        for (int count : counts) {\n",
    "            if (count != 0) {\n",
    "                return false;\n",
    "            }\n",
    "        }\n",
    "\n",
    "        return true;\n",
    "    }\n",
    "\n",
    "}"
   ]
  },
  {
   "cell_type": "markdown",
   "metadata": {},
   "source": [
    "### 1. [Two Sum](https://leetcode.com/problems/two-sum/) (*Easy*)\n",
    "\n",
    "Given an array of integers `nums` and an integer `target`, return indices of the two numbers such that they add up to `target`.\n",
    "\n",
    "You may assume that each input would have **exactly one solution**, and you may not use the same element twice.\n",
    "\n",
    "You can return the answer in any order.\n",
    "\n",
    "#### Constraints\n",
    "\n",
    "- `2 <= nums.length <= 1e4`\n",
    "- `-1e9 <= nums[i] <= 1e9`\n",
    "- `-1e9 <= target <= 1e9`\n",
    "- **Only one valid answer exists.**\n",
    "\n",
    "#### Follow Ups\n",
    "\n",
    "- Can you come up with an algorithm that is less than `O(n^2)` time complexity?"
   ]
  },
  {
   "cell_type": "code",
   "execution_count": 3,
   "metadata": {},
   "outputs": [
    {
     "data": {
      "text/plain": [
       "LC_1.Solution"
      ]
     },
     "execution_count": 3,
     "metadata": {},
     "output_type": "execute_result"
    }
   ],
   "source": [
    "package LC_1;\n",
    "\n",
    "import java.lang.Math;\n",
    "import java.util.*;\n",
    "import java.util.Arrays.*;\n",
    "import java.util.Collections.*;\n",
    "import java.util.Map.Entry;\n",
    "\n",
    "// Time: O(n)\n",
    "// HashMap => Space: O(n)\n",
    "// Sort + Two Pointers => Space: O(1)\n",
    "class Solution {\n",
    "\n",
    "    public int[] twoSum(int[] nums, int target) {\n",
    "        final Map<Integer, Integer> summandIndexMap = new HashMap<>();\n",
    "        for (int index = 0; index < nums.length; index++) {\n",
    "            final int leftSummand = nums[index];\n",
    "            final int rightSummand = target - leftSummand;\n",
    "            if (summandIndexMap.containsKey(rightSummand)) {\n",
    "                return new int[] {\n",
    "                    index,\n",
    "                    summandIndexMap.get(rightSummand)\n",
    "                };\n",
    "            }\n",
    "            summandIndexMap.put(leftSummand, index);\n",
    "        }\n",
    "\n",
    "        return new int[] {};\n",
    "    }\n",
    "\n",
    "}"
   ]
  },
  {
   "cell_type": "markdown",
   "metadata": {},
   "source": [
    "### 49. [Group Anagrams](https://leetcode.com/problems/group-anagrams/) (*Easy*)\n",
    "\n",
    "Given an array of strings `strs`, group **the anagrams** together. You can return the answer in **any order**.\n",
    "\n",
    "An **Anagram** is a word or phrase formed by rearranging the letters of a different word or phrase, typically using all the original letters exactly once.\n",
    "\n",
    "#### Constraints\n",
    "\n",
    "- `1 <= strs.length <= 1e4`\n",
    "- `0 <= strs[i].length <= 100`\n",
    "- `strs[i]` consists of lowercase English letters."
   ]
  },
  {
   "cell_type": "code",
   "execution_count": 4,
   "metadata": {},
   "outputs": [
    {
     "data": {
      "text/plain": [
       "LC_49.Solution"
      ]
     },
     "execution_count": 4,
     "metadata": {},
     "output_type": "execute_result"
    }
   ],
   "source": [
    "package LC_49;\n",
    "\n",
    "import java.lang.Math;\n",
    "import java.util.*;\n",
    "import java.util.Arrays.*;\n",
    "import java.util.Collections.*;\n",
    "import java.util.Map.Entry;\n",
    "\n",
    "// Time: O(n * k \\log k)\n",
    "// HashMap => Space: O(n * k)\n",
    "// Hint: Canonicalize/Normalize/Standardize Anagrams/Permutations + Group By.\n",
    "class Solution {\n",
    "\n",
    "    public List<List<String>> groupAnagrams(String[] strs) {\n",
    "        final Map<String, List<String>> standardStringMap = new HashMap<>();\n",
    "\n",
    "        for (String string : strs) {\n",
    "            // Canonicalize/Normalize/Standardize Anagrams/Permutations.\n",
    "            final char[] characters = string.toCharArray();\n",
    "            Arrays.sort(characters);\n",
    "            final String standardString = new String(characters);\n",
    "            // Group By.\n",
    "            if (!standardStringMap.containsKey(standardString)) {\n",
    "                standardStringMap.put(standardString, new LinkedList<>());\n",
    "            }\n",
    "            standardStringMap.get(standardString).add(string);\n",
    "        }\n",
    "\n",
    "        return new ArrayList<>(standardStringMap.values());\n",
    "    }\n",
    "    \n",
    "}"
   ]
  },
  {
   "cell_type": "markdown",
   "metadata": {},
   "source": [
    "### 347. [Top K Frequent Elements](https://leetcode.com/problems/top-k-frequent-elements/) (*Medium*)\n",
    "\n",
    "Given an integer array `nums` and an integer `k`, return the `k` most frequent elements. You may return the answer in **any order**.\n",
    "\n",
    "#### Constraints\n",
    "\n",
    "- `1 <= nums.length <= 1e5`\n",
    "- `-1e4 <= nums[i] <= 1e4`\n",
    "- `k` is in the range `[1, the number of unique elements in the array]`.\n",
    "- It is **guaranteed** that the answer is **unique**.\n",
    "\n",
    "#### Follow Ups\n",
    "\n",
    "- Your algorithm's time complexity must be better than `O(n log n)`, where `n` is the array's size."
   ]
  },
  {
   "cell_type": "code",
   "execution_count": 5,
   "metadata": {},
   "outputs": [
    {
     "data": {
      "text/plain": [
       "LC_347.Solution1"
      ]
     },
     "execution_count": 5,
     "metadata": {},
     "output_type": "execute_result"
    }
   ],
   "source": [
    "package LC_347;\n",
    "\n",
    "import java.lang.Math;\n",
    "import java.util.*;\n",
    "import java.util.Arrays.*;\n",
    "import java.util.Collections.*;\n",
    "import java.util.Map.Entry;\n",
    "\n",
    "// Time: O(n * \\log k)\n",
    "// Space: O(n)\n",
    "// Hint: Element-Frequency Map + Priority Queue.\n",
    "class Solution1 {\n",
    "\n",
    "    public int[] topKFrequent(int[] nums, int k) {\n",
    "        // Element-Frequency Map.\n",
    "        final Map<Integer, Integer> elementFrequencyMap = new HashMap<>();\n",
    "        for (int element : nums) {\n",
    "            final int currentCount = elementFrequencyMap.getOrDefault(element, 0);\n",
    "            final int newCount = currentCount + 1;\n",
    "            elementFrequencyMap.put(element, newCount);\n",
    "        }\n",
    "\n",
    "        // Top K w/ Priority Queue; Poll Smallest K+1th.\n",
    "        final PriorityQueue<Entry<Integer, Integer>> topKPQ = new PriorityQueue<>((x, y) -> Integer.compare(x.getValue(), y.getValue()));\n",
    "        for (Entry<Integer, Integer> elementFrequencyPair : elementFrequencyMap.entrySet()) {\n",
    "            topKPQ.offer(elementFrequencyPair);\n",
    "            if (topKPQ.size() > k) {\n",
    "                topKPQ.poll();\n",
    "            }\n",
    "        }\n",
    "\n",
    "        // Java's PriorityQueue utilizes Natural Ordering (Smallest -> Largest).\n",
    "        final int[] topK = new int[k];\n",
    "        for (int index = k - 1; index >= 0; index--) {\n",
    "            topK[index] = topKPQ.poll().getKey();\n",
    "        }\n",
    "        return topK;\n",
    "    }\n",
    "    \n",
    "}"
   ]
  },
  {
   "cell_type": "code",
   "execution_count": 6,
   "metadata": {},
   "outputs": [
    {
     "data": {
      "text/plain": [
       "LC_347.Solution2"
      ]
     },
     "execution_count": 6,
     "metadata": {},
     "output_type": "execute_result"
    }
   ],
   "source": [
    "package LC_347;\n",
    "\n",
    "import java.lang.Math;\n",
    "import java.util.*;\n",
    "import java.util.ArrayList;\n",
    "import java.util.Arrays.*;\n",
    "import java.util.Collections.*;\n",
    "import java.util.Map.Entry;\n",
    "\n",
    "// Time: O(n)\n",
    "// Space: O(n)\n",
    "// Hint: Element-Frequency Map + Bucket Sort.\n",
    "class Solution2 {\n",
    "\n",
    "    public int[] topKFrequent(int[] nums, int k) {\n",
    "        // Element-Frequency Map.\n",
    "        final Map<Integer, Integer> elementFrequencyMap = new HashMap<>();\n",
    "        for (int element : nums) {\n",
    "            final int currentCount = elementFrequencyMap.getOrDefault(element, 0);\n",
    "            final int newCount = currentCount + 1;\n",
    "            elementFrequencyMap.put(element, newCount);\n",
    "        }\n",
    "\n",
    "        // Bucket Sort.\n",
    "        final Map<Integer, List<Integer>> frequencyElementsMap = new HashMap<>();\n",
    "        for (Entry<Integer, Integer> elementFrequencyPair : elementFrequencyMap.entrySet()) {\n",
    "            final int element = elementFrequencyPair.getKey();\n",
    "            final int frequency = elementFrequencyPair.getValue();\n",
    "            if (!frequencyElementsMap.containsKey(frequency)) {\n",
    "                frequencyElementsMap.put(frequency, new LinkedList<>());\n",
    "            }\n",
    "            frequencyElementsMap.get(frequency).add(element);\n",
    "        }\n",
    "\n",
    "        // Iterate Largest to Smallest Frequency for Elements.\n",
    "        int index = 0;\n",
    "        final int[] topK = new int[k];\n",
    "        for (int frequency = nums.length; frequency >= 0; frequency--) {\n",
    "            if (frequencyElementsMap.containsKey(frequency)) {\n",
    "                final List<Integer> elements = frequencyElementsMap.get(frequency);\n",
    "                for (int element: elements) {\n",
    "                    topK[index++] = element;\n",
    "                    if (index == k) {\n",
    "                        return topK;\n",
    "                    }\n",
    "                }\n",
    "            }\n",
    "        }\n",
    "        return topK;\n",
    "    }\n",
    "    \n",
    "}"
   ]
  },
  {
   "cell_type": "markdown",
   "metadata": {},
   "source": [
    "### 238. [Product of Array Except Self](https://leetcode.com/problems/product-of-array-except-self/) (*Medium*)\n",
    "\n",
    "Given an integer array `nums`, return an array `answer` such that `answer[i]` is equal to the product of all the elements of `nums` except `nums[i]`.\n",
    "\n",
    "The product of any prefix or suffix of `nums` is **guaranteed** to fit in a **32-bit** integer.\n",
    "\n",
    "You must write an algorithm that runs in `O(n)` time and without using the division operation.\n",
    "\n",
    "#### Constraints\n",
    "\n",
    "- `2 <= nums.length <= 1e5`\n",
    "- `-30 <= nums[i] <= 30`\n",
    "- The product of any prefix or suffix of `nums` is **guaranteed** to fit in a **32-bit** integer.\n",
    "\n",
    "#### Follow Ups\n",
    "\n",
    "- Can you solve the problem in `O(1)` extra space complexity? (The output array **does not** count as extra space for space complexity analysis.)"
   ]
  },
  {
   "cell_type": "code",
   "execution_count": 7,
   "metadata": {},
   "outputs": [
    {
     "data": {
      "text/plain": [
       "LC_238.Solution"
      ]
     },
     "execution_count": 7,
     "metadata": {},
     "output_type": "execute_result"
    }
   ],
   "source": [
    "package LC_238;\n",
    "\n",
    "import java.lang.Math;\n",
    "import java.util.*;\n",
    "import java.util.ArrayList;\n",
    "import java.util.Arrays.*;\n",
    "import java.util.Collections.*;\n",
    "import java.util.Map.Entry;\n",
    "\n",
    "// Time: O(n)\n",
    "// Space: O(n)\n",
    "// Hint: Prefix Sums (Iterate & Fold w/ Previous Solution).\n",
    "class Solution {\n",
    "\n",
    "    public int[] productExceptSelf(int[] nums) {\n",
    "        final int[] products = new int[nums.length];\n",
    "        final int[] prefixes = new int[nums.length];\n",
    "        final int[] suffixes = new int[nums.length];\n",
    "\n",
    "        // Calculate Prefix Products at `i` without `i`th's Value.\n",
    "        prefixes[0] = 1;\n",
    "        for (int index = 1; index < nums.length; index++) {\n",
    "            prefixes[index] = prefixes[index - 1] * nums[index - 1];\n",
    "        }\n",
    "\n",
    "        // Calculate Suffix Products at `i` without `i`th's Value.\n",
    "        suffixes[nums.length - 1] = 1;\n",
    "        for (int index = nums.length - 2; index >= 0; index--) {\n",
    "            suffixes[index] = suffixes[index + 1] * nums[index + 1];\n",
    "        }\n",
    "\n",
    "        // Calculate Products.\n",
    "        for (int index = 0; index < nums.length; index++) {\n",
    "            products[index] = prefixes[index] * suffixes[index];\n",
    "        }\n",
    "        return products;\n",
    "    }\n",
    "    \n",
    "}"
   ]
  },
  {
   "cell_type": "markdown",
   "metadata": {},
   "source": [
    "### 128. [Longest Consecutive Sequence](https://leetcode.com/problems/longest-consecutive-sequence/) (*Medium*)\n",
    "\n",
    "Given an unsorted array of integers `nums`, return the length of the longest consecutive elements sequence.\n",
    "\n",
    "You must write an algorithm that runs in `O(n)` time.\n",
    "\n",
    "#### Constraints\n",
    "\n",
    "- `0 <= nums.length <= 1e5`\n",
    "- `-1e9 <= nums[i] <= 1e9`"
   ]
  },
  {
   "cell_type": "code",
   "execution_count": 8,
   "metadata": {},
   "outputs": [
    {
     "data": {
      "text/plain": [
       "LC_128.Solution"
      ]
     },
     "execution_count": 8,
     "metadata": {},
     "output_type": "execute_result"
    }
   ],
   "source": [
    "package LC_128;\n",
    "\n",
    "import java.lang.Math;\n",
    "import java.util.*;\n",
    "import java.util.ArrayList;\n",
    "import java.util.Arrays.*;\n",
    "import java.util.Collections.*;\n",
    "import java.util.Map.Entry;\n",
    "\n",
    "// Time: O(n)\n",
    "// Space: O(n)\n",
    "// Hint: Union Find: Root => First Element of Consecutive Sequence; Rank => Length of Consecutive Sequence.\n",
    "class Solution {\n",
    "\n",
    "    public int longestConsecutive(int[] nums) {\n",
    "        // Set Membership.\n",
    "        final Set<Integer> elements = new HashSet<>();\n",
    "        for (int element : nums) {\n",
    "            elements.add(element);\n",
    "        }\n",
    "\n",
    "        // Union Find.\n",
    "        int maximumLength = 0;\n",
    "        for (int element : nums) {\n",
    "            // If E succeeds E-1, then E-1 has already established a Component\n",
    "            // of Consecutive Elements.\n",
    "            // i.e., Sequence <=> Graph Isomorphism: [1,2,3] => {1 => 2, 2 => 3}.\n",
    "            if (elements.contains(element - 1)) {\n",
    "                continue;\n",
    "            }\n",
    "\n",
    "            // Initial Component of Length 1 w/ `element` as Root.\n",
    "            int currentLength = 1;\n",
    "            for (int nextElement = element + 1; elements.contains(nextElement); nextElement++) {\n",
    "                currentLength++;\n",
    "            }\n",
    "\n",
    "            // Maximize.\n",
    "            maximumLength = Math.max(maximumLength, currentLength);\n",
    "        }\n",
    "        return maximumLength;\n",
    "    }\n",
    "    \n",
    "}"
   ]
  },
  {
   "cell_type": "markdown",
   "metadata": {},
   "source": [
    "## Two Pointers"
   ]
  },
  {
   "cell_type": "markdown",
   "metadata": {},
   "source": [
    "### 125. [Valid Palindrome](https://leetcode.com/problems/valid-palindrome/) (*Easy*)\n",
    "\n",
    "A phrase is a **palindrome** if, after converting all uppercase letters into lowercase letters and removing all non-alphanumeric characters, it reads the same forward and backward. Alphanumeric characters include letters and numbers.\n",
    "\n",
    "Given a string `s`, return `true` if it is a **palindrome**, or `false` otherwise.\n",
    "\n",
    "#### Constraints\n",
    "\n",
    "- `1 <= s.length <= 2 * 1e5`\n",
    "- `s` consists only of printable ASCII characters."
   ]
  },
  {
   "cell_type": "code",
   "execution_count": 9,
   "metadata": {},
   "outputs": [
    {
     "data": {
      "text/plain": [
       "LC_125.Solution"
      ]
     },
     "execution_count": 9,
     "metadata": {},
     "output_type": "execute_result"
    }
   ],
   "source": [
    "package LC_125;\n",
    "\n",
    "import java.lang.Math;\n",
    "import java.util.*;\n",
    "import java.util.ArrayList;\n",
    "import java.util.Arrays.*;\n",
    "import java.util.Collections.*;\n",
    "import java.util.Map.Entry;\n",
    "\n",
    "// Time: O(n)\n",
    "// Space: O(1)\n",
    "// Hint: Two Pointers (Forwards and Backwards).\n",
    "class Solution {\n",
    "\n",
    "    public boolean isPalindrome(String s) {\n",
    "        int leftIndex = 0;\n",
    "        int rightIndex = s.length() - 1;\n",
    "\n",
    "        while (leftIndex < rightIndex) {\n",
    "            while (leftIndex < rightIndex && !Character.isLetterOrDigit(s.charAt(leftIndex))) {\n",
    "                leftIndex++;\n",
    "            }\n",
    "            while (leftIndex < rightIndex && !Character.isLetterOrDigit(s.charAt(rightIndex))) {\n",
    "                rightIndex--;\n",
    "            }\n",
    "            final char leftCharacter = Character.toLowerCase(s.charAt(leftIndex));\n",
    "            final char rightCharacter = Character.toLowerCase(s.charAt(rightIndex));\n",
    "            if (leftCharacter != rightCharacter) {\n",
    "                return false;\n",
    "            }\n",
    "            leftIndex++;\n",
    "            rightIndex--;\n",
    "        }\n",
    "\n",
    "        return true;\n",
    "    }\n",
    "    \n",
    "}"
   ]
  },
  {
   "cell_type": "markdown",
   "metadata": {},
   "source": [
    "### 15. [3Sum](https://leetcode.com/problems/3sum/) (*Medium*)\n",
    "\n",
    "Given an integer array nums, return all the triplets `[nums[i], nums[j], nums[k]]` such that `i != j`, `i != k`, and `j != k`, and `nums[i] + nums[j] + nums[k] == 0`.\n",
    "\n",
    "Notice that the solution set must not contain duplicate triplets.\n",
    "\n",
    "#### Constraints\n",
    "\n",
    "- `3 <= nums.length <= 3000`\n",
    "- `-1e5 <= nums[i] <= 1e5`"
   ]
  },
  {
   "cell_type": "code",
   "execution_count": 10,
   "metadata": {},
   "outputs": [
    {
     "data": {
      "text/plain": [
       "LC_15.Solution"
      ]
     },
     "execution_count": 10,
     "metadata": {},
     "output_type": "execute_result"
    }
   ],
   "source": [
    "package LC_15;\n",
    "\n",
    "import java.lang.Math;\n",
    "import java.util.*;\n",
    "import java.util.ArrayList;\n",
    "import java.util.Arrays.*;\n",
    "import java.util.Collections.*;\n",
    "import java.util.Map.Entry;\n",
    "\n",
    "// Time: O(n^2)\n",
    "// Space: O(|ans|)\n",
    "// Hint: Generating Unique Combinations + Sorting + Two Pointers/Binary Search\n",
    "class Solution {\n",
    "\n",
    "   public List<List<Integer>> threeSum(int[] nums) {\n",
    "        final List<List<Integer>> solutions = new LinkedList<>();\n",
    "\n",
    "        // Sort for Generating Unique Combinations + Two Pointers.\n",
    "        Arrays.sort(nums);\n",
    "\n",
    "        for (int iIndex = 0; iIndex + 2 < nums.length; iIndex++) {\n",
    "            // Skip Duplicate num[iIndex]:\n",
    "            if (iIndex > 0 && nums[iIndex] == nums[iIndex - 1]) {\n",
    "                continue;\n",
    "            }\n",
    "            // Generating Unique Combinations: Assume nums[iIndex] as the first\n",
    "            // element of the triplet.\n",
    "\n",
    "            // Finding a Target Pair: \n",
    "            int jIndex = iIndex + 1;\n",
    "            int kIndex = nums.length - 1;\n",
    "            while (jIndex < kIndex) {\n",
    "                final int sum = nums[iIndex] + nums[jIndex] + nums[kIndex];\n",
    "                if (sum == 0) {\n",
    "                    solutions.add(Arrays.asList(nums[iIndex], nums[jIndex], nums[kIndex]));\n",
    "                    // Advance Next Pair:\n",
    "                    jIndex++;\n",
    "                    kIndex--;\n",
    "                    // Skip Duplicate num[jIndex]:\n",
    "                    while (jIndex < kIndex && nums[jIndex] == nums[jIndex - 1]) {\n",
    "                        jIndex++;\n",
    "                    }\n",
    "                    // Skip Duplicate num[kIndex]:\n",
    "                    while (jIndex < kIndex && nums[kIndex] == nums[kIndex + 1]) {\n",
    "                        kIndex--;\n",
    "                    }\n",
    "                } else if (sum < 0) {\n",
    "                    // Sorted nums => ~Binary Search, nums[jIndex] needs to be\n",
    "                    // larger if sum < 0, so increment jIndex.\n",
    "                    jIndex++;\n",
    "                } else {\n",
    "                    // Sorted nums => ~Binary Search, nums[kIndex] needs to be\n",
    "                    // smaller if sum > 0, so decrement kIndex.\n",
    "                    kIndex--;\n",
    "                }\n",
    "            }\n",
    "        }\n",
    "\n",
    "        return solutions;\n",
    "    }\n",
    "\n",
    "}"
   ]
  },
  {
   "cell_type": "markdown",
   "metadata": {},
   "source": [
    "### 11. [Container With Most Water](https://leetcode.com/problems/container-with-most-water/) (*Medium*)\n",
    "\n",
    "You are given an integer array `height` of length `n`. There are `n` vertical lines drawn such that the two endpoints of the `ith` line are `(i, 0)` and `(i, height[i])`.\n",
    "\n",
    "Find two lines that together with the x-axis form a container, such that the container contains the most water.\n",
    "\n",
    "Return the maximum amount of water a container can store.\n",
    "\n",
    "#### Constraints\n",
    "\n",
    "- `n == height.length`\n",
    "- `2 <= n <= 1e5`\n",
    "- `0 <= height[i] <= 1e4`"
   ]
  },
  {
   "cell_type": "code",
   "execution_count": 11,
   "metadata": {},
   "outputs": [
    {
     "data": {
      "text/plain": [
       "LC_11.Solution"
      ]
     },
     "execution_count": 11,
     "metadata": {},
     "output_type": "execute_result"
    }
   ],
   "source": [
    "package LC_11;\n",
    "\n",
    "import java.lang.Math;\n",
    "import java.util.*;\n",
    "import java.util.ArrayList;\n",
    "import java.util.Arrays.*;\n",
    "import java.util.Collections.*;\n",
    "import java.util.Map.Entry;\n",
    "\n",
    "// Time: O(n)\n",
    "// Space: O(1)\n",
    "// Hint: Two Pointers + Greedy\n",
    "// Note: Maximal Area ~ Maximal Width * Maximal Height b/ Water Spillage\n",
    "//       If Heights Mismatch => Start w/ Maximal Width and Adjust Pointers for\n",
    "//       Maximal Area.\n",
    "class Solution {\n",
    "\n",
    "    public int maxArea(int[] height) {\n",
    "        int maxArea = 0;\n",
    "\n",
    "        int lIndex = 0;\n",
    "        int rIndex = height.length - 1;\n",
    "        while (lIndex < rIndex) {\n",
    "            final int minHeight = Math.min(height[lIndex], height[rIndex]);\n",
    "            final int currentWidth = rIndex - lIndex;\n",
    "            final int currentArea = currentWidth * minHeight;\n",
    "            maxArea = Math.max(maxArea, currentArea);\n",
    "            if (height[lIndex] < height[rIndex]) {\n",
    "                lIndex++;\n",
    "            } else {\n",
    "                rIndex--;\n",
    "            }\n",
    "        }\n",
    "\n",
    "        return maxArea;\n",
    "    }\n",
    "\n",
    "}"
   ]
  },
  {
   "cell_type": "markdown",
   "metadata": {},
   "source": [
    "## Sliding Window"
   ]
  },
  {
   "cell_type": "markdown",
   "metadata": {},
   "source": [
    "### 121. [Best Time to Buy and Sell Stock](https://leetcode.com/problems/best-time-to-buy-and-sell-stock/) (*Easy*)\n",
    "\n",
    "You are given an array `prices` where `prices[i]` is the price of a given stock on the `ith` day.\n",
    "\n",
    "You want to maximize your profit by choosing a **single day** to buy one stock and choosing a **different day in the future** to sell that stock.\n",
    "\n",
    "Return the maximum profit you can achieve from this transaction. If you cannot achieve any profit, return `0`.\n",
    "\n",
    "#### Constraints\n",
    "\n",
    "- `1 <= prices.length <= 1e5`\n",
    "- `0 <= prices[i] <= 1e4`"
   ]
  },
  {
   "cell_type": "code",
   "execution_count": 12,
   "metadata": {},
   "outputs": [
    {
     "data": {
      "text/plain": [
       "LC_121.Solution"
      ]
     },
     "execution_count": 12,
     "metadata": {},
     "output_type": "execute_result"
    }
   ],
   "source": [
    "package LC_121;\n",
    "\n",
    "import java.lang.Math;\n",
    "import java.util.*;\n",
    "import java.util.ArrayList;\n",
    "import java.util.Arrays.*;\n",
    "import java.util.Collections.*;\n",
    "import java.util.Map.Entry;\n",
    "\n",
    "// Time: O(n)\n",
    "// Space: O(1)\n",
    "// Hint: Sliding Window (Start = Buy, End = Sell)\n",
    "// Note 1: If a profit is impossible, then return 0, so negative profits are\n",
    "// rejected by advancing the Start Index.\n",
    "// Note 2: Buy Day != Sell Day => End Index > Start Index.\n",
    "class Solution {\n",
    "\n",
    "    public int maxProfit(int[] prices) {\n",
    "        int buyIndex = 0;\n",
    "        int sellIndex = 1;\n",
    "        int maxProfit = 0;\n",
    "        while (sellIndex < prices.length) {\n",
    "            final int currentProfit = prices[sellIndex] - prices[buyIndex];\n",
    "            if (currentProfit > 0) {\n",
    "                maxProfit = Math.max(maxProfit, currentProfit);\n",
    "                sellIndex++;\n",
    "            } else {\n",
    "                buyIndex = sellIndex;\n",
    "                sellIndex = buyIndex + 1;\n",
    "            }\n",
    "        }\n",
    "        return maxProfit;\n",
    "    }\n",
    "    \n",
    "}"
   ]
  },
  {
   "cell_type": "markdown",
   "metadata": {},
   "source": [
    "### 3. [Longest Substring Without Repeating Characters](https://leetcode.com/problems/longest-substring-without-repeating-characters/) (*Medium*)\n",
    "\n",
    "Given a string `s`, find the length of the **longest substring** without repeating characters.\n",
    "\n",
    "A **substring** is a contiguous non-empty sequence of characters within a string.\n",
    "\n",
    "#### Constraints\n",
    "\n",
    "- `0 <= s.length <= 5 * 1e4`\n",
    "- `s` consists of English letters, digits, symbols and spaces."
   ]
  },
  {
   "cell_type": "code",
   "execution_count": 13,
   "metadata": {},
   "outputs": [
    {
     "data": {
      "text/plain": [
       "LC_3.Solution"
      ]
     },
     "execution_count": 13,
     "metadata": {},
     "output_type": "execute_result"
    }
   ],
   "source": [
    "package LC_3;\n",
    "\n",
    "import java.lang.Math;\n",
    "import java.util.*;\n",
    "import java.util.ArrayList;\n",
    "import java.util.Arrays.*;\n",
    "import java.util.Collections.*;\n",
    "import java.util.Map.Entry;\n",
    "\n",
    "// Time: O(n)\n",
    "// Space: O(1)\n",
    "// Hint: Sliding Window + Visited Set/Coloring\n",
    "class Solution {\n",
    "\n",
    "    public int lengthOfLongestSubstring(String s) {\n",
    "        int maxLength = 0;\n",
    "\n",
    "        final Set<Character> visitedCharacters = new HashSet<>();\n",
    "        for (int lIndex = 0, rIndex = 0; rIndex < s.length(); rIndex++) {\n",
    "            final char currentCharacter = s.charAt(rIndex);\n",
    "            // Sliding Window: Trim lIndex Until No Repeating Characters.\n",
    "            while (visitedCharacters.contains(currentCharacter)) {\n",
    "                visitedCharacters.remove(s.charAt(lIndex++));\n",
    "            }\n",
    "            // Update Visited Set:\n",
    "            visitedCharacters.add(currentCharacter);\n",
    "            // Update Max Length:\n",
    "            final int currentLength = rIndex - lIndex + 1;\n",
    "            maxLength = Math.max(maxLength, currentLength);\n",
    "        }\n",
    "\n",
    "        return maxLength;\n",
    "    }\n",
    "\n",
    "}"
   ]
  },
  {
   "cell_type": "markdown",
   "metadata": {},
   "source": [
    "### 424. [Longest Repeating Character Replacement](https://leetcode.com/problems/longest-repeating-character-replacement/) (*Medium*)\n",
    "\n",
    "You are given a string `s` and an integer `k`. You can choose any character of the string and change it to any other uppercase English character. You can perform this operation at most `k` times.\n",
    "\n",
    "Return the length of the longest substring containing the same letter you can get after performing the above operations.\n",
    "\n",
    "#### Constraints\n",
    "\n",
    "- `1 <= s.length <= 1e5`\n",
    "- `s` consists of only uppercase English letters.\n",
    "- `0 <= k <= s.length`"
   ]
  },
  {
   "cell_type": "code",
   "execution_count": 14,
   "metadata": {},
   "outputs": [
    {
     "data": {
      "text/plain": [
       "LC_424.Solution"
      ]
     },
     "execution_count": 14,
     "metadata": {},
     "output_type": "execute_result"
    }
   ],
   "source": [
    "package LC_424;\n",
    "\n",
    "import java.lang.Math;\n",
    "import java.util.*;\n",
    "import java.util.ArrayList;\n",
    "import java.util.Arrays.*;\n",
    "import java.util.Collections.*;\n",
    "import java.util.Map.Entry;\n",
    "\n",
    "// Time: O(n)\n",
    "// Space: O(1)\n",
    "// Hint: Sliding Window\n",
    "class Solution {\n",
    "\n",
    "    public int characterReplacement(String s, int k) {\n",
    "        int maxLength = 0;\n",
    "\n",
    "        int maxCount = 0;\n",
    "        final int[] characterCounts = new int[128];\n",
    "        for (int lIndex = 0, rIndex = 0; rIndex < s.length(); rIndex++) {\n",
    "            final char currentCharacter = s.charAt(rIndex);\n",
    "            // Update Max Candidate Character Count in Current Substring:\n",
    "            maxCount = Math.max(maxCount, ++characterCounts[currentCharacter]);\n",
    "            // Sliding Window: Trim lIndex Because Substring b/w [lIndex, rIndex]\n",
    "            // is Shorter than Possible Substring w/ currentCharacter to rIndex.\n",
    "            while ((maxCount + k) < (rIndex - lIndex + 1)) {\n",
    "                characterCounts[s.charAt(lIndex++)]--;\n",
    "            }\n",
    "            // Update Max Length:\n",
    "            maxLength = Math.max(maxLength, rIndex - lIndex + 1);\n",
    "        }\n",
    "\n",
    "        return maxLength;\n",
    "    }\n",
    "\n",
    "}"
   ]
  },
  {
   "cell_type": "markdown",
   "metadata": {},
   "source": [
    "### 76. Minimum Window Substring (*Hard*)\n",
    "\n",
    "TODO."
   ]
  },
  {
   "cell_type": "markdown",
   "metadata": {},
   "source": [
    "## Stack"
   ]
  },
  {
   "cell_type": "markdown",
   "metadata": {},
   "source": [
    "### 20. [Valid Parentheses](https://leetcode.com/problems/valid-parentheses/) (*Easy*)\n",
    "\n",
    "Given `a` string s containing just the characters `'('`, `')'`, `'{'`, `'}'`, `'['` and `']'`, determine if the input string is valid.\n",
    "\n",
    "An input string is valid if:\n",
    "1. Open brackets must be closed by the same type of brackets.\n",
    "2. Open brackets must be closed in the correct order.\n",
    "3. Every close bracket has a corresponding open bracket of the same type.\n",
    "\n",
    "#### Constraints\n",
    "\n",
    "- `1 <= s.length <= 1e4`\n",
    "- `s` consists of parentheses only `'()[]{}'`."
   ]
  },
  {
   "cell_type": "code",
   "execution_count": 15,
   "metadata": {},
   "outputs": [
    {
     "data": {
      "text/plain": [
       "LC_20.Solution"
      ]
     },
     "execution_count": 15,
     "metadata": {},
     "output_type": "execute_result"
    }
   ],
   "source": [
    "package LC_20;\n",
    "\n",
    "import java.lang.Math;\n",
    "import java.util.*;\n",
    "import java.util.ArrayList;\n",
    "import java.util.Arrays.*;\n",
    "import java.util.Collections.*;\n",
    "import java.util.Map.Entry;\n",
    "\n",
    "// Time: O(n)\n",
    "// Space: O(n)\n",
    "// Hint: Stack (Push = Open, Pop = Close)\n",
    "class Solution {\n",
    "\n",
    "    public boolean isValid(String s) {\n",
    "        final Deque<Character> stack = new ArrayDeque<>();\n",
    "\n",
    "        for (char character : s.toCharArray()) {\n",
    "            if (character == '(') {\n",
    "                stack.push(')');\n",
    "            } else if (character == '{') {\n",
    "                stack.push('}');\n",
    "            } else if (character == '[') {\n",
    "                stack.push(']');\n",
    "            } else if (stack.isEmpty()) {\n",
    "                // Dangling Close Parenthesis.\n",
    "                return false;\n",
    "            } else if (stack.pop() != character) {\n",
    "                // Incorrect Close Parenthesis.\n",
    "                return false;\n",
    "            }\n",
    "        }\n",
    "\n",
    "        // Dangling Parenthesis.\n",
    "        return stack.isEmpty();\n",
    "    }\n",
    "    \n",
    "}"
   ]
  },
  {
   "cell_type": "markdown",
   "metadata": {},
   "source": [
    "## Binary Search"
   ]
  },
  {
   "cell_type": "markdown",
   "metadata": {},
   "source": [
    "### 153. Find Minimum in Rotated Sorted Array (*Medium*)\n",
    "\n",
    "TODO."
   ]
  },
  {
   "cell_type": "markdown",
   "metadata": {},
   "source": [
    "### 33. Search in Rotated Sorted Array (*Medium*)\n",
    "\n",
    "TODO."
   ]
  },
  {
   "cell_type": "markdown",
   "metadata": {},
   "source": [
    "## Linked List"
   ]
  },
  {
   "cell_type": "markdown",
   "metadata": {},
   "source": [
    "### 206. [Reverse Linked List](https://leetcode.com/problems/reverse-linked-list/) (*Easy*)\n",
    "\n",
    "Given the `head` of a singly linked list, reverse the list, and return the reversed list.\n",
    "\n",
    "#### Constraints\n",
    "\n",
    "- The number of nodes in the list is the range `[0, 5000]`.\n",
    "- `-5000 <= Node.val <= 5000`.\n",
    "\n",
    "#### Follow Ups\n",
    "\n",
    "- A linked list can be reversed either iteratively or recursively. Could you implement both?"
   ]
  },
  {
   "cell_type": "code",
   "execution_count": 16,
   "metadata": {},
   "outputs": [
    {
     "data": {
      "text/plain": [
       "LC_206.Solution"
      ]
     },
     "execution_count": 16,
     "metadata": {},
     "output_type": "execute_result"
    }
   ],
   "source": [
    "package LC_206;\n",
    "\n",
    "import java.lang.Math;\n",
    "import java.util.*;\n",
    "import java.util.ArrayList;\n",
    "import java.util.Arrays.*;\n",
    "import java.util.Collections.*;\n",
    "import java.util.Map.Entry;\n",
    "\n",
    "// Time: O(n)\n",
    "// Space: O(1)\n",
    "// Hint: Multiple Pointers (Previous => Current => Next) to (Previous <= Current <= Next).\n",
    "class Solution {\n",
    "\n",
    "    public class ListNode {\n",
    "        int val;\n",
    "        ListNode next;\n",
    "        ListNode() {}\n",
    "        ListNode(int val) { this.val = val; }\n",
    "        ListNode(int val, ListNode next) { this.val = val; this.next = next; }\n",
    "    }\n",
    "\n",
    "    public ListNode reverseList(ListNode head) {\n",
    "        ListNode previousNode = null;\n",
    "        ListNode currentNode = head;\n",
    "        while (currentNode != null) {\n",
    "            final ListNode nextNode = currentNode.next;\n",
    "            // Reverse.\n",
    "            currentNode.next = previousNode;\n",
    "            // Iterate Forwards.\n",
    "            previousNode = currentNode;\n",
    "            currentNode = nextNode;\n",
    "        }\n",
    "        return previousNode;\n",
    "    }\n",
    "\n",
    "    public ListNode recursiveReverseList(ListNode head) {\n",
    "        // Base Case: Terminal Node is Reverse Head.\n",
    "        if (head == null || head.next == null) {\n",
    "            return head;\n",
    "        }\n",
    "        // Recursive Case: Recurse Forwards for Reverse Head.\n",
    "        final ListNode reverseHeadNode = recursiveReverseList(head.next);\n",
    "        // Reverse.\n",
    "        final ListNode currentNode = head;\n",
    "        final ListNode nextNode = currentNode.next;\n",
    "        nextNode.next = currentNode;\n",
    "        currentNode.next = null;\n",
    "        // Return Reversed Head.\n",
    "        return reverseHeadNode;\n",
    "    }\n",
    "\n",
    "}"
   ]
  },
  {
   "cell_type": "markdown",
   "metadata": {},
   "source": [
    "### 21. [Merged Two Sorted Lists](https://leetcode.com/problems/merge-two-sorted-lists/) (*Easy*)\n",
    "\n",
    "You are given the heads of two sorted linked lists `list1` and `list2`.\n",
    "\n",
    "Merge the two lists into one **sorted** list. The list should be made by splicing together the nodes of the first two lists.\n",
    "\n",
    "Return the head of the merged linked list.\n",
    "\n",
    "#### Constraints\n",
    "\n",
    "- The number of nodes in both lists is in the range `[0, 50]`.\n",
    "- `-100 <= Node.val <= 100`\n",
    "- Both `list1` and `list2` are sorted in **non-decreasing** order."
   ]
  },
  {
   "cell_type": "code",
   "execution_count": 17,
   "metadata": {},
   "outputs": [
    {
     "data": {
      "text/plain": [
       "LC_21.Solution"
      ]
     },
     "execution_count": 17,
     "metadata": {},
     "output_type": "execute_result"
    }
   ],
   "source": [
    "package LC_21;\n",
    "\n",
    "import java.lang.Math;\n",
    "import java.util.*;\n",
    "import java.util.ArrayList;\n",
    "import java.util.Arrays.*;\n",
    "import java.util.Collections.*;\n",
    "import java.util.Map.Entry;\n",
    "\n",
    "// Time: O(|list1| + |list2|)\n",
    "// Space: O(|list1| + |list2|)\n",
    "// Hint: Multiple Pointers + MergeSort.\n",
    "class Solution {\n",
    "\n",
    "    public class ListNode {\n",
    "        int val;\n",
    "        ListNode next;\n",
    "        ListNode() {}\n",
    "        ListNode(int val) { this.val = val; }\n",
    "        ListNode(int val, ListNode next) { this.val = val; this.next = next; }\n",
    "    }\n",
    "\n",
    "    public ListNode mergeTwoLists(ListNode list1, ListNode list2) {\n",
    "        final ListNode rootSentinel = new ListNode();\n",
    "        ListNode leftNode = list1;\n",
    "        ListNode rightNode = list2;\n",
    "        ListNode previousNode = rootSentinel;\n",
    "\n",
    "        // Iterate Minimum of Left/Right.\n",
    "        while (leftNode != null && rightNode != null) {\n",
    "            if (leftNode.val <= rightNode.val) {\n",
    "                previousNode.next = leftNode;\n",
    "                leftNode = leftNode.next;\n",
    "            } else {\n",
    "                previousNode.next = rightNode;\n",
    "                rightNode = rightNode.next;\n",
    "            }\n",
    "            previousNode = previousNode.next;\n",
    "        }\n",
    "        // Flush Left List.\n",
    "        if (leftNode != null) {\n",
    "            previousNode.next = leftNode;\n",
    "        }\n",
    "        // Flush Right List.\n",
    "        if (rightNode != null) {\n",
    "            previousNode.next = rightNode;\n",
    "        }\n",
    "\n",
    "        // Head Node.\n",
    "        return rootSentinel.next;\n",
    "    }\n",
    "\n",
    "}"
   ]
  },
  {
   "cell_type": "markdown",
   "metadata": {},
   "source": [
    "### 143. Reorder List (*Medium*)\n",
    "\n",
    "TODO."
   ]
  },
  {
   "cell_type": "markdown",
   "metadata": {},
   "source": [
    "### 19. Remove Nth Node From End of List (*Medium*)\n",
    "\n",
    "TODO."
   ]
  },
  {
   "cell_type": "markdown",
   "metadata": {},
   "source": [
    "### 141. [Linked List Cycle](http://localhost:8888/tree/Programming-Notebook/LeetCode) (*Easy*)\n",
    "\n",
    "Given `head`, the head of a linked list, determine if the linked list has a cycle in it.\n",
    "\n",
    "There is a cycle in a linked list if there is some node in the list that can be reached again by continuously following the `next` pointer. Internally, `pos` is used to denote the index of the node that tail's `next` pointer is connected to. Note that `pos` is not passed as a parameter.\n",
    "\n",
    "Return `true` if there is a cycle in the linked list. Otherwise, return `false`.\n",
    "\n",
    "#### Constraints\n",
    "\n",
    "- The number of the nodes in the list is in the range `[0, 104]`.\n",
    "- `-1e5 <= Node.val <= 1e5`\n",
    "- `pos` is `-1` or a **valid index** in the linked-list.\n",
    "\n",
    "#### Follow Ups\n",
    "\n",
    "- Can you solve it using `O(1)` (i.e. constant) memory?"
   ]
  },
  {
   "cell_type": "code",
   "execution_count": 18,
   "metadata": {},
   "outputs": [
    {
     "data": {
      "text/plain": [
       "LC_141.Solution"
      ]
     },
     "execution_count": 18,
     "metadata": {},
     "output_type": "execute_result"
    }
   ],
   "source": [
    "package LC_141;\n",
    "\n",
    "import java.lang.Math;\n",
    "import java.util.*;\n",
    "import java.util.ArrayList;\n",
    "import java.util.Arrays.*;\n",
    "import java.util.Collections.*;\n",
    "import java.util.Map.Entry;\n",
    "\n",
    "// Time: O(n)\n",
    "// Space: O(1)\n",
    "// Hint: Multiple Pointers (Slow + Fast Pointers)\n",
    "class Solution {\n",
    "\n",
    "    public class ListNode {\n",
    "        int val;\n",
    "        ListNode next;\n",
    "        ListNode() {}\n",
    "        ListNode(int val) { this.val = val; }\n",
    "        ListNode(int val, ListNode next) { this.val = val; this.next = next; }\n",
    "    }\n",
    "\n",
    "    public boolean hasCycle(ListNode head) {\n",
    "        ListNode slowNode = head;\n",
    "        ListNode fastNode = head;\n",
    "\n",
    "        while (fastNode != null && fastNode.next != null) {\n",
    "            fastNode = fastNode.next.next;\n",
    "            slowNode = slowNode.next;\n",
    "            if (fastNode == slowNode) {\n",
    "                return true;\n",
    "            }\n",
    "        }\n",
    "\n",
    "        return false;\n",
    "    }\n",
    "\n",
    "}"
   ]
  },
  {
   "cell_type": "markdown",
   "metadata": {},
   "source": [
    "### 23. Merged k Sorted Lists (*Hard*)\n",
    "\n",
    "TODO."
   ]
  },
  {
   "cell_type": "markdown",
   "metadata": {},
   "source": [
    "## Trees"
   ]
  },
  {
   "cell_type": "markdown",
   "metadata": {},
   "source": [
    "### 226. [Invert Binary Tree](https://leetcode.com/problems/invert-binary-tree/) (*Easy*)\n",
    "\n",
    "Given the `root` of a binary tree, invert the tree, and return its root.\n",
    "\n",
    "#### Constraints\n",
    "\n",
    "- The number of nodes in the tree is in the range `[0, 100]`.\n",
    "- `-100 <= Node.val <= 100`"
   ]
  },
  {
   "cell_type": "code",
   "execution_count": 19,
   "metadata": {},
   "outputs": [
    {
     "data": {
      "text/plain": [
       "LC_226.Solution"
      ]
     },
     "execution_count": 19,
     "metadata": {},
     "output_type": "execute_result"
    }
   ],
   "source": [
    "package LC_226;\n",
    "\n",
    "import java.lang.Math;\n",
    "import java.util.*;\n",
    "import java.util.ArrayList;\n",
    "import java.util.Arrays.*;\n",
    "import java.util.Collections.*;\n",
    "import java.util.Map.Entry;\n",
    "\n",
    "// Time: O(n)\n",
    "// Space: O(h)\n",
    "// Hint: Depth-First Traversal.\n",
    "class Solution {\n",
    "\n",
    "    public class TreeNode {\n",
    "        int val;\n",
    "        TreeNode left;\n",
    "        TreeNode right;\n",
    "        TreeNode() {}\n",
    "        TreeNode(int val) { this.val = val; }\n",
    "        TreeNode(int val, TreeNode left, TreeNode right) {\n",
    "            this.val = val;\n",
    "            this.left = left;\n",
    "            this.right = right;\n",
    "        }\n",
    "    }\n",
    "\n",
    "    public TreeNode invertTree(TreeNode root) {\n",
    "        if (root == null) {\n",
    "            return null;\n",
    "        }\n",
    "        final TreeNode currentLeft = root.left;\n",
    "        final TreeNode currentRight = root.right;\n",
    "        root.left = invertTree(currentRight);\n",
    "        root.right = invertTree(currentLeft);\n",
    "        return root;\n",
    "    }\n",
    "\n",
    "}"
   ]
  },
  {
   "cell_type": "markdown",
   "metadata": {},
   "source": [
    "### 104. [Maximum Depth of Binary Tree](https://leetcode.com/problems/maximum-depth-of-binary-tree/) (*Easy*)\n",
    "\n",
    "Given the `root` of a binary tree, return its maximum depth.\n",
    "\n",
    "A binary tree's **maximum depth** is the number of nodes along the longest path from the root node down to the farthest leaf node.\n",
    "\n",
    "#### Constraints\n",
    "\n",
    "- The number of nodes in the tree is in the range `[0, 1e4]`.\n",
    "- `-100 <= Node.val <= 100`"
   ]
  },
  {
   "cell_type": "code",
   "execution_count": 20,
   "metadata": {},
   "outputs": [
    {
     "data": {
      "text/plain": [
       "LC_104.Solution"
      ]
     },
     "execution_count": 20,
     "metadata": {},
     "output_type": "execute_result"
    }
   ],
   "source": [
    "package LC_104;\n",
    "\n",
    "import java.lang.Math;\n",
    "import java.util.*;\n",
    "import java.util.ArrayList;\n",
    "import java.util.Arrays.*;\n",
    "import java.util.Collections.*;\n",
    "import java.util.Map.Entry;\n",
    "\n",
    "// Time: O(n)\n",
    "// Space: O(1)\n",
    "// Hint: Depth-First Traversal.\n",
    "class Solution {\n",
    "\n",
    "    public class TreeNode {\n",
    "        int val;\n",
    "        TreeNode left;\n",
    "        TreeNode right;\n",
    "        TreeNode() {}\n",
    "        TreeNode(int val) { this.val = val; }\n",
    "        TreeNode(int val, TreeNode left, TreeNode right) {\n",
    "            this.val = val;\n",
    "            this.left = left;\n",
    "            this.right = right;\n",
    "        }\n",
    "    }\n",
    "\n",
    "    public int maxDepth(TreeNode root) {\n",
    "        if (root == null) {\n",
    "            return 0;\n",
    "        }\n",
    "        final int leftDepth = maxDepth(root.left);\n",
    "        final int rightDepth = maxDepth(root.right);\n",
    "        return 1 + Math.max(leftDepth, rightDepth);\n",
    "    }\n",
    "\n",
    "}"
   ]
  },
  {
   "cell_type": "markdown",
   "metadata": {},
   "source": [
    "### 100. [Same Tree](https://leetcode.com/problems/same-tree/) (*Easy*)\n",
    "\n",
    "Given the roots of two binary trees `p` and `q`, write a function to check if they are the same or not.\n",
    "\n",
    "Two binary trees are considered the same if they are structurally identical, and the nodes have the same value.\n",
    "\n",
    "#### Constraints\n",
    "\n",
    "- The number of nodes in both trees is in the range `[0, 100]`.\n",
    "- `-1e4 <= Node.val <= 1e4`"
   ]
  },
  {
   "cell_type": "code",
   "execution_count": 21,
   "metadata": {},
   "outputs": [
    {
     "data": {
      "text/plain": [
       "LC_100.Solution"
      ]
     },
     "execution_count": 21,
     "metadata": {},
     "output_type": "execute_result"
    }
   ],
   "source": [
    "package LC_100;\n",
    "\n",
    "import java.lang.Math;\n",
    "import java.util.*;\n",
    "import java.util.ArrayList;\n",
    "import java.util.Arrays.*;\n",
    "import java.util.Collections.*;\n",
    "import java.util.Map.Entry;\n",
    "\n",
    "// Time: O(n)\n",
    "// Space: O(h)\n",
    "// Hint: Depth-First Traversal.\n",
    "class Solution {\n",
    "\n",
    "    public class TreeNode {\n",
    "        int val;\n",
    "        TreeNode left;\n",
    "        TreeNode right;\n",
    "        TreeNode() {}\n",
    "        TreeNode(int val) { this.val = val; }\n",
    "        TreeNode(int val, TreeNode left, TreeNode right) {\n",
    "            this.val = val;\n",
    "            this.left = left;\n",
    "            this.right = right;\n",
    "        }\n",
    "    }\n",
    "\n",
    "    public boolean isSameTree(TreeNode p, TreeNode q) {\n",
    "        if (p == null && q == null) {\n",
    "            return true;\n",
    "        } else if (p == null || q == null) {\n",
    "            return false;\n",
    "        } else if (p.val != q.val) {\n",
    "            return false;\n",
    "        } else {\n",
    "            final boolean leftCheck = isSameTree(p.left, q.left);\n",
    "            final boolean rightCheck = isSameTree(p.right, q.right);\n",
    "            return leftCheck && rightCheck;\n",
    "        }\n",
    "    }\n",
    "\n",
    "}"
   ]
  },
  {
   "cell_type": "markdown",
   "metadata": {},
   "source": [
    "### 572. [Subtree of Another Tree](https://leetcode.com/problems/subtree-of-another-tree/) (*Easy*)\n",
    "\n",
    "Given the roots of two binary trees `root` and `subRoot`, return `true` if there is a subtree of `root` with the same structure and node values of `subRoot` and `false` otherwise.\n",
    "\n",
    "A subtree of a binary tree `tree` is a tree that consists of a node in `tree` and all of this node's descendants. The tree `tree` could also be considered as a subtree of itself.\n",
    "\n",
    "#### Constraints\n",
    "\n",
    "- The number of nodes in the `root` tree is in the range `[1, 2000]`.\n",
    "- The number of nodes in the `subRoot` tree is in the range `[1, 1000]`.\n",
    "- `-1e4 <= root.val <= 1e4`\n",
    "- `-1e4 <= subRoot.val <= 1e4`"
   ]
  },
  {
   "cell_type": "code",
   "execution_count": 22,
   "metadata": {},
   "outputs": [
    {
     "data": {
      "text/plain": [
       "LC_572.Solution"
      ]
     },
     "execution_count": 22,
     "metadata": {},
     "output_type": "execute_result"
    }
   ],
   "source": [
    "package LC_572;\n",
    "\n",
    "import java.lang.Math;\n",
    "import java.util.*;\n",
    "import java.util.ArrayList;\n",
    "import java.util.Arrays.*;\n",
    "import java.util.Collections.*;\n",
    "import java.util.Map.Entry;\n",
    "\n",
    "// Time: O(mn)\n",
    "// Space: O(h)\n",
    "// Hint: Depth-First Traversal.\n",
    "class Solution {\n",
    "\n",
    "    public class TreeNode {\n",
    "        int val;\n",
    "        TreeNode left;\n",
    "        TreeNode right;\n",
    "        TreeNode() {}\n",
    "        TreeNode(int val) { this.val = val; }\n",
    "        TreeNode(int val, TreeNode left, TreeNode right) {\n",
    "            this.val = val;\n",
    "            this.left = left;\n",
    "            this.right = right;\n",
    "        }\n",
    "    }\n",
    "\n",
    "    public boolean isSubtree(TreeNode root, TreeNode subRoot) {\n",
    "        if (root == null) {\n",
    "            return false;\n",
    "        } else if (isSameTree(root, subRoot)) {\n",
    "            return true;\n",
    "        } else {\n",
    "            return isSubtree(root.left, subRoot) || isSubtree(root.right, subRoot);\n",
    "        }\n",
    "    }\n",
    "\n",
    "    private boolean isSameTree(TreeNode p, TreeNode q) {\n",
    "        if (p == null && q == null) {\n",
    "            return true;\n",
    "        } else if (p == null || q == null) {\n",
    "            return false;\n",
    "        } else if (p.val != q.val) {\n",
    "            return false;\n",
    "        } else {\n",
    "            final boolean leftCheck = isSameTree(p.left, q.left);\n",
    "            final boolean rightCheck = isSameTree(p.right, q.right);\n",
    "            return leftCheck && rightCheck;\n",
    "        }\n",
    "    }\n",
    "\n",
    "}"
   ]
  },
  {
   "cell_type": "markdown",
   "metadata": {},
   "source": [
    "### 235. Lowest Common Ancestor of a Binary Search Tree (*Medium*) \n",
    "\n",
    "TODO."
   ]
  },
  {
   "cell_type": "markdown",
   "metadata": {},
   "source": [
    "### 102. Binary Tree Level Order Traversal (*Medium*)\n",
    "\n",
    "TODO."
   ]
  },
  {
   "cell_type": "markdown",
   "metadata": {},
   "source": [
    "### 98. Validate Binary Search Tree (*Medium*)\n",
    "\n",
    "TODO."
   ]
  },
  {
   "cell_type": "markdown",
   "metadata": {},
   "source": [
    "### 230. Kth Smallest Element in a BST (*Medium*)\n",
    "\n",
    "TODO."
   ]
  },
  {
   "cell_type": "markdown",
   "metadata": {},
   "source": [
    "### 105. Construct Binary Tree from Preorder and Inorder Traversal (*Medium*)\n",
    "\n",
    "TODO."
   ]
  },
  {
   "cell_type": "markdown",
   "metadata": {},
   "source": [
    "### 124. Binary Tree Maximum Path Sum (*Hard*)\n",
    "\n",
    "TODO."
   ]
  },
  {
   "cell_type": "markdown",
   "metadata": {},
   "source": [
    "### 297. Serialize and Deserialize Binary Tree (*Hard*)\n",
    "\n",
    "TODO."
   ]
  },
  {
   "cell_type": "markdown",
   "metadata": {},
   "source": [
    "## Tries"
   ]
  },
  {
   "cell_type": "markdown",
   "metadata": {},
   "source": [
    "### 208. Implement Trie (Prefix Tree) (*Medium*)\n",
    "\n",
    "TODO."
   ]
  },
  {
   "cell_type": "markdown",
   "metadata": {},
   "source": [
    "### 211. Design Add and Search Words Data Structure (*Medium*)\n",
    "\n",
    "TODO."
   ]
  },
  {
   "cell_type": "markdown",
   "metadata": {},
   "source": [
    "### 212. Word Search II (*Hard*)\n",
    "\n",
    "TODO."
   ]
  },
  {
   "cell_type": "markdown",
   "metadata": {},
   "source": [
    "## Heap / Priority Queue"
   ]
  },
  {
   "cell_type": "markdown",
   "metadata": {},
   "source": [
    "### 295. Find Median from Data Stream (*Hard*)\n",
    "\n",
    "TODO."
   ]
  },
  {
   "cell_type": "markdown",
   "metadata": {},
   "source": [
    "## Backtracking"
   ]
  },
  {
   "cell_type": "markdown",
   "metadata": {},
   "source": [
    "### 39. Combination Sum (*Medium*)\n",
    "\n",
    "TODO."
   ]
  },
  {
   "cell_type": "markdown",
   "metadata": {},
   "source": [
    "### 79. Word Search (*Medium*)\n",
    "\n",
    "TODO."
   ]
  },
  {
   "cell_type": "markdown",
   "metadata": {},
   "source": [
    "## Graphs"
   ]
  },
  {
   "cell_type": "markdown",
   "metadata": {},
   "source": [
    "### 200. Number of Islands (*Medium*)\n",
    "\n",
    "TODO."
   ]
  },
  {
   "cell_type": "markdown",
   "metadata": {},
   "source": [
    "### 133. Clone Graph (*Medium*)\n",
    "\n",
    "TODO."
   ]
  },
  {
   "cell_type": "markdown",
   "metadata": {},
   "source": [
    "### 417. Pacific Atlantic Water Flow (*Medium*)\n",
    "\n",
    "TODO."
   ]
  },
  {
   "cell_type": "markdown",
   "metadata": {},
   "source": [
    "### 207. Course Schedule (*Medium*)\n",
    "\n",
    "TODO."
   ]
  },
  {
   "cell_type": "markdown",
   "metadata": {},
   "source": [
    "## 1-D Dynamic Programming"
   ]
  },
  {
   "cell_type": "markdown",
   "metadata": {},
   "source": [
    "### 70. [Climbing Stairs](https://leetcode.com/problems/climbing-stairs/) (*Easy*)\n",
    "\n",
    "You are climbing a staircase. It takes `n` steps to reach the top.\n",
    "\n",
    "Each time you can either climb `1` or `2` steps. In how many distinct ways can you climb to the top?\n",
    "\n",
    "#### Constraints\n",
    "\n",
    "- `1 <= n <= 45`"
   ]
  },
  {
   "cell_type": "code",
   "execution_count": 23,
   "metadata": {},
   "outputs": [
    {
     "data": {
      "text/plain": [
       "LC_70.Solution"
      ]
     },
     "execution_count": 23,
     "metadata": {},
     "output_type": "execute_result"
    }
   ],
   "source": [
    "package LC_70;\n",
    "\n",
    "import java.lang.Math;\n",
    "import java.util.*;\n",
    "import java.util.ArrayList;\n",
    "import java.util.Arrays.*;\n",
    "import java.util.Collections.*;\n",
    "import java.util.Map.Entry;\n",
    "\n",
    "// Time: O(n)\n",
    "// Space: O(1)\n",
    "// Hint: Recurrence Relation: climbStairs(n) = climbStairs(n - 1) + climbStairs(n - 2)\n",
    "class Solution {\n",
    "\n",
    "    public int climbStairs(int n) {\n",
    "        // Base Case:\n",
    "        int dp1 = 1; // dp[i - 1]; // dp[0] = 1;\n",
    "        int dp2 = 1; // dp[i - 2]; // dp[1] = 1;\n",
    "        // Bottom-Up:\n",
    "        for (int number = 2; number <= n; number++) {\n",
    "            final int dp = dp1 + dp2;\n",
    "            // Shift Solutions.\n",
    "            dp2 = dp1;\n",
    "            dp1 = dp;\n",
    "        }\n",
    "        return dp1;\n",
    "    }\n",
    "\n",
    "}"
   ]
  },
  {
   "cell_type": "markdown",
   "metadata": {},
   "source": [
    "### 198. House Robber (*Medium*)\n",
    "\n",
    "TODO."
   ]
  },
  {
   "cell_type": "markdown",
   "metadata": {},
   "source": [
    "### 213. House Robber II (*Medium*)\n",
    "\n",
    "TODO."
   ]
  },
  {
   "cell_type": "markdown",
   "metadata": {},
   "source": [
    "### 5. Longest Palindromic Substring (*Medium*)\n",
    "\n",
    "TODO."
   ]
  },
  {
   "cell_type": "markdown",
   "metadata": {},
   "source": [
    "### 647. Palindromic Substrings (*Medium*)\n",
    "\n",
    "TODO."
   ]
  },
  {
   "cell_type": "markdown",
   "metadata": {},
   "source": [
    "### 91. Decode Ways (*Medium*)\n",
    "\n",
    "TODO."
   ]
  },
  {
   "cell_type": "markdown",
   "metadata": {},
   "source": [
    "### 322. Coin Change (*Medium*)\n",
    "\n",
    "TODO."
   ]
  },
  {
   "cell_type": "markdown",
   "metadata": {},
   "source": [
    "### 152. Maximum Product Subarray (*Medium*)\n",
    "\n",
    "TODO."
   ]
  },
  {
   "cell_type": "markdown",
   "metadata": {},
   "source": [
    "### 139. Word Break (*Medium*)\n",
    "\n",
    "TODO."
   ]
  },
  {
   "cell_type": "markdown",
   "metadata": {},
   "source": [
    "### 300. Longest Increasing Subsequence (*Medium*)\n",
    "\n",
    "TODO."
   ]
  },
  {
   "cell_type": "markdown",
   "metadata": {},
   "source": [
    "## 2-D Dynamic Programming"
   ]
  },
  {
   "cell_type": "markdown",
   "metadata": {},
   "source": [
    "### 62. Unique Paths (*Medium*)\n",
    "\n",
    "TODO."
   ]
  },
  {
   "cell_type": "markdown",
   "metadata": {},
   "source": [
    "### 1143. Longest Common Subsequence (*Medium*)\n",
    "\n",
    "TODO."
   ]
  },
  {
   "cell_type": "markdown",
   "metadata": {},
   "source": [
    "## Greedy"
   ]
  },
  {
   "cell_type": "markdown",
   "metadata": {},
   "source": [
    "### 53. Maximum Subarray (*Medium*)\n",
    "\n",
    "TODO."
   ]
  },
  {
   "cell_type": "markdown",
   "metadata": {},
   "source": [
    "### 55. Jump Game (*Medium*)\n",
    "\n",
    "TODO."
   ]
  },
  {
   "cell_type": "markdown",
   "metadata": {},
   "source": [
    "## Intervals"
   ]
  },
  {
   "cell_type": "markdown",
   "metadata": {},
   "source": [
    "### 57. Insert Interval (*Medium*)\n",
    "\n",
    "TODO."
   ]
  },
  {
   "cell_type": "markdown",
   "metadata": {},
   "source": [
    "### 56. Merge Intervals (*Medium*)\n",
    "\n",
    "TODO."
   ]
  },
  {
   "cell_type": "markdown",
   "metadata": {},
   "source": [
    "### 435. Non-overlapping Intervals (*Medium*)\n",
    "\n",
    "TODO."
   ]
  },
  {
   "cell_type": "markdown",
   "metadata": {},
   "source": [
    "## Math & Geometry"
   ]
  },
  {
   "cell_type": "markdown",
   "metadata": {},
   "source": [
    "### 48. Rotate Image (*Medium*)\n",
    "\n",
    "TODO."
   ]
  },
  {
   "cell_type": "markdown",
   "metadata": {},
   "source": [
    "### 54. Spiral Matrix (*Medium*)\n",
    "\n",
    "TODO."
   ]
  },
  {
   "cell_type": "markdown",
   "metadata": {},
   "source": [
    "### 73. Set Matrix Zeroes (*Medium*)\n",
    "\n",
    "TODO."
   ]
  },
  {
   "cell_type": "markdown",
   "metadata": {},
   "source": [
    "## Bit Manipulation"
   ]
  },
  {
   "cell_type": "markdown",
   "metadata": {},
   "source": [
    "### 191. Number of 1 Bits (*Easy*)\n",
    "\n",
    "TODO."
   ]
  },
  {
   "cell_type": "markdown",
   "metadata": {},
   "source": [
    "### 338. Counting Bits (*Easy*)\n",
    "\n",
    "TODO."
   ]
  },
  {
   "cell_type": "markdown",
   "metadata": {},
   "source": [
    "### 190. Reverse Bits (*Easy*)\n",
    "\n",
    "TODO."
   ]
  },
  {
   "cell_type": "markdown",
   "metadata": {},
   "source": [
    "### 268. Missing Number (*Easy*)\n",
    "\n",
    "TODO."
   ]
  },
  {
   "cell_type": "markdown",
   "metadata": {},
   "source": [
    "### 371. Sum of Two Integers (*Medium*)\n",
    "\n",
    "TODO."
   ]
  }
 ],
 "metadata": {
  "kernelspec": {
   "display_name": "Java",
   "language": "java",
   "name": "java"
  },
  "language_info": {
   "codemirror_mode": "text/x-java",
   "file_extension": ".java",
   "mimetype": "",
   "name": "Java",
   "nbconverter_exporter": "",
   "version": "1.8.0_152-release"
  },
  "toc": {
   "base_numbering": 1,
   "nav_menu": {},
   "number_sections": false,
   "sideBar": false,
   "skip_h1_title": false,
   "title_cell": "Table of Contents",
   "title_sidebar": "Contents",
   "toc_cell": false,
   "toc_position": {},
   "toc_section_display": false,
   "toc_window_display": false
  }
 },
 "nbformat": 4,
 "nbformat_minor": 2
}
