{
 "cells": [
  {
   "cell_type": "markdown",
   "metadata": {},
   "source": [
    "# References\n",
    "*Author: Jacob Park*"
   ]
  },
  {
   "cell_type": "markdown",
   "metadata": {},
   "source": [
    "## Fundamental Data Structures and Algorithms"
   ]
  },
  {
   "cell_type": "markdown",
   "metadata": {},
   "source": [
    "### Data Structures\n",
    "*[List of Data Structures](https://en.wikipedia.org/wiki/List_of_data_structures)*"
   ]
  },
  {
   "cell_type": "markdown",
   "metadata": {},
   "source": [
    "- [Arrays](https://en.wikipedia.org/wiki/Array_data_structure)\n",
    "- [Linked List](https://en.wikipedia.org/wiki/Linked_list)\n",
    "- [Stack](https://en.wikipedia.org/wiki/Stack_%28abstract_data_type%29)\n",
    "- [Queue](https://en.wikipedia.org/wiki/Queue_%28abstract_data_type%29)\n",
    "- [Hash Table](https://en.wikipedia.org/wiki/Hash_table)\n",
    "- [Binary Search Tree](https://en.wikipedia.org/wiki/Binary_search_tree)\n",
    "- [Priority Queue](https://en.wikipedia.org/wiki/Priority_queue)\n",
    "- [Set](https://en.wikipedia.org/wiki/Set_%28abstract_data_type%29)\n",
    "- [Graph](https://en.wikipedia.org/wiki/Graph_%28abstract_data_type%29)"
   ]
  },
  {
   "cell_type": "markdown",
   "metadata": {},
   "source": [
    "### Algorithms\n",
    "*[List of Algorithms](https://en.wikipedia.org/wiki/List_of_algorithms)*"
   ]
  },
  {
   "cell_type": "markdown",
   "metadata": {},
   "source": [
    "- [Sorting Algorithms](https://en.wikipedia.org/wiki/Sorting_algorithm)\n",
    "    - [Insertion Sort](https://en.wikipedia.org/wiki/Insertion_sort)\n",
    "    - [Merge Sort](https://en.wikipedia.org/wiki/Merge_sort)\n",
    "    - [Quick Sort](https://en.wikipedia.org/wiki/Quicksort)\n",
    "    - [Counting Sort](https://en.wikipedia.org/wiki/Counting_sort)\n",
    "    - [Radix Sort](https://en.wikipedia.org/wiki/Radix_sort)\n",
    "    - [Timsort](https://en.wikipedia.org/wiki/Timsort)\n",
    "- [Linear Search Algorithm](https://en.wikipedia.org/wiki/Linear_search)\n",
    "- [Binary Search Algorithm](https://en.wikipedia.org/wiki/Binary_search_algorithm)\n",
    "- [Divide-and-Conquer Algorithm](https://en.wikipedia.org/wiki/Divide-and-conquer_algorithm)\n",
    "- [Greedy Algorithm](https://en.wikipedia.org/wiki/Greedy_algorithm)\n",
    "- [Dynamic Programming](https://en.wikipedia.org/wiki/Dynamic_programming)\n",
    "- [Backtracking](https://en.wikipedia.org/wiki/Backtracking)\n",
    "    - [Branch and Bound Technique](https://en.wikipedia.org/wiki/Branch_and_bound)\n",
    "    - [Best-First Search Technique](https://en.wikipedia.org/wiki/Best-first_search)\n",
    "    - [Iterative Deepening Technique](https://en.wikipedia.org/wiki/Iterative_deepening_depth-first_search)\n",
    "- [Range Query](https://en.wikipedia.org/wiki/Range_query_%28data_structures%29)\n",
    "    - [Fenwick Tree](https://en.wikipedia.org/wiki/Fenwick_tree)\n",
    "    - [Segment Tree](https://en.wikipedia.org/wiki/Segment_tree)\n",
    "- Tree Algorithms\n",
    "    - [Tree Traversal](https://en.wikipedia.org/wiki/Tree_traversal)\n",
    "    - [Lowest Common Ancestor](https://en.wikipedia.org/wiki/Lowest_common_ancestor)\n",
    "    - [Prefix Tree](https://en.wikipedia.org/wiki/Trie)\n",
    "    - [Suffix Tree](https://en.wikipedia.org/wiki/Suffix_tree)\n",
    "    - [Threading](https://en.wikipedia.org/wiki/Tree_traversal#Morris_in-order_traversal_using_threading)\n",
    "- Graph Algorithms\n",
    "    - [Graph Traversal](https://en.wikipedia.org/wiki/Graph_traversal)\n",
    "    - [Bellman-Ford Algorithm](https://en.wikipedia.org/wiki/Bellman%E2%80%93Ford_algorithm): Shortest Path (All Weights)\n",
    "    - [Dijkstra's Algorithm](https://en.wikipedia.org/wiki/Dijkstra%27s_algorithm): Shortest Path (Positive Weights)\n",
    "    - [Floyd-Warshall Algorithm](https://en.wikipedia.org/wiki/Floyd%E2%80%93Warshall_algorithm): All-Pairs Shortest Paths\n",
    "    - [Topological Sort](https://en.wikipedia.org/wiki/Topological_sorting)\n",
    "    - [Kruskal's Algorithm](https://en.wikipedia.org/wiki/Kruskal%27s_algorithm): Minimum Spanning Tree\n",
    "        - [Disjoint Set](https://en.wikipedia.org/wiki/Disjoint-set_data_structure)\n",
    "    - [Kosaraju's Algorithm](https://en.wikipedia.org/wiki/Kosaraju%27s_algorithm): Strongly Connected Components\n",
    "    - [Hierholzer's Algorithm](https://en.wikipedia.org/wiki/Eulerian_path): Eulerian Path\n",
    "    - [Ford-Fulkerson Algorithm](https://en.wikipedia.org/wiki/Ford%E2%80%93Fulkerson_algorithm): Maximum Flow\n",
    "- Optimizations\n",
    "    - Bit Masks\n",
    "    - Square Root Sized Blocks\n",
    "    - Two Pointers"
   ]
  },
  {
   "cell_type": "markdown",
   "metadata": {},
   "source": [
    "## Advanced Topics in Data Structures and Algorithms"
   ]
  },
  {
   "cell_type": "markdown",
   "metadata": {},
   "source": [
    "### Hashing"
   ]
  },
  {
   "cell_type": "markdown",
   "metadata": {},
   "source": [
    "- [Hash Function](https://en.wikipedia.org/wiki/Hash_function)\n",
    "- [Hash Table](https://en.wikipedia.org/wiki/Hash_table)\n",
    "    - [Chaining](https://en.wikipedia.org/wiki/Hash_table#Separate_chaining)\n",
    "    - [Open Addressing](https://en.wikipedia.org/wiki/Open_addressing)\n",
    "    - [Cuckoo Hashing](https://en.wikipedia.org/wiki/Cuckoo_hashing)\n",
    "- [Universal Hashing](https://en.wikipedia.org/wiki/Universal_hashing)\n",
    "- [Locality-Sensitive Hashing](https://en.wikipedia.org/wiki/Locality-sensitive_hashing)\n",
    "- [Consistent Hashing](https://en.wikipedia.org/wiki/Consistent_hashing)\n",
    "- [MurmurHash](https://en.wikipedia.org/wiki/MurmurHash)\n",
    "- [MinHash](https://en.wikipedia.org/wiki/MinHash)\n",
    "- [Merkle Tree](https://en.wikipedia.org/wiki/Merkle_tree)\n",
    "- **Survey**: *Hashing Techniques: A Survey and Taxonomy*\n",
    ">Chi, Lianhua, and Xingquan Zhu. \"Hashing techniques: A survey and taxonomy.\" ACM Computing Surveys (CSUR) 50.1 (2017): 11."
   ]
  },
  {
   "cell_type": "markdown",
   "metadata": {},
   "source": [
    "### Probabilistic Data Structures / Randomized Algorithms"
   ]
  },
  {
   "cell_type": "markdown",
   "metadata": {},
   "source": [
    "- [Bloom Filter](https://en.wikipedia.org/wiki/Bloom_filter): Approximate Set Membership\n",
    "- [Count-Min Sketch](https://en.wikipedia.org/wiki/Count%E2%80%93min_sketch): Approximate Frequency Counting\n",
    "- [HyperLogLog](https://en.wikipedia.org/wiki/HyperLogLog): Approximate Set Cardinality\n",
    "- [Reservoir Sampling](https://en.wikipedia.org/wiki/Reservoir_sampling): $k$-Sampling without Replacement\n",
    "- [Treap](https://en.wikipedia.org/wiki/Treap): Randomized Binary Search Tree"
   ]
  },
  {
   "cell_type": "markdown",
   "metadata": {},
   "source": [
    "### Succinct Data Structures"
   ]
  },
  {
   "cell_type": "markdown",
   "metadata": {},
   "source": [
    "- [Succinct Data Structures](https://en.wikipedia.org/wiki/Succinct_data_structure)\n",
    "- [Left-Child Right-Sibling Binary Tree](https://en.wikipedia.org/wiki/Left-child_right-sibling_binary_tree)\n",
    "- **Interface**: *Parallel Implementation of Tree Skeletons*\n",
    ">Skillicorn, David B. \"Parallel implementation of tree skeletons.\" Journal of Parallel and Distributed Computing 39.2 (1996): 115-125.\n",
    "- **Implementation**: *Practical Implementation of Rank and Select Queries*\n",
    ">González, Rodrigo, et al. \"Practical implementation of rank and select queries.\" Poster Proc. Volume of 4th Workshop on Efficient and Experimental Algorithms (WEA). 2005."
   ]
  },
  {
   "cell_type": "markdown",
   "metadata": {},
   "source": [
    "## Object-Oriented Design Patterns"
   ]
  },
  {
   "cell_type": "markdown",
   "metadata": {},
   "source": [
    "### SOLID Principles"
   ]
  },
  {
   "cell_type": "markdown",
   "metadata": {},
   "source": [
    "- [Single Responsibility Principle](https://en.wikipedia.org/wiki/Single_responsibility_principle)\n",
    "- [Open-Closed Principle](https://en.wikipedia.org/wiki/Open%E2%80%93closed_principle)\n",
    "- [Liskov Substitution Principle](https://en.wikipedia.org/wiki/Liskov_substitution_principle)\n",
    "- [Interface Segregation Principle](https://en.wikipedia.org/wiki/Interface_segregation_principle)\n",
    "- [Dependency Inversion Principle](https://en.wikipedia.org/wiki/Dependency_inversion_principle)"
   ]
  },
  {
   "cell_type": "markdown",
   "metadata": {},
   "source": [
    "### Creational Patterns"
   ]
  },
  {
   "cell_type": "markdown",
   "metadata": {},
   "source": [
    "- [Abstract Factory Pattern](https://en.wikipedia.org/wiki/Abstract_factory_pattern)\n",
    "- [Builder Pattern](https://en.wikipedia.org/wiki/Builder_pattern)\n",
    "- [Factory Method Pattern](https://en.wikipedia.org/wiki/Factory_method_pattern)\n",
    "- [Prototype Pattern](https://en.wikipedia.org/wiki/Prototype_pattern)\n",
    "- [Singleton Pattern](https://en.wikipedia.org/wiki/Singleton_pattern)"
   ]
  },
  {
   "cell_type": "markdown",
   "metadata": {},
   "source": [
    "### Structural Patterns"
   ]
  },
  {
   "cell_type": "markdown",
   "metadata": {},
   "source": [
    "- [Adapter Pattern](https://en.wikipedia.org/wiki/Adapter_pattern)\n",
    "- [Bridge Pattern](https://en.wikipedia.org/wiki/Bridge_pattern)\n",
    "- [Composite Pattern](https://en.wikipedia.org/wiki/Composite_pattern)\n",
    "- [Decorator Pattern](https://en.wikipedia.org/wiki/Decorator_pattern)\n",
    "- [Facade Pattern](https://en.wikipedia.org/wiki/Facade_pattern)\n",
    "- [Flyweight Pattern](https://en.wikipedia.org/wiki/Flyweight_pattern)\n",
    "- [Proxy Pattern](https://en.wikipedia.org/wiki/Proxy_pattern)"
   ]
  },
  {
   "cell_type": "markdown",
   "metadata": {},
   "source": [
    "### Behavioral Patterns"
   ]
  },
  {
   "cell_type": "markdown",
   "metadata": {},
   "source": [
    "- [Chain of Responsibility Pattern](https://en.wikipedia.org/wiki/Chain-of-responsibility_pattern)\n",
    "- [Command Pattern](https://en.wikipedia.org/wiki/Command_pattern)\n",
    "- [Interpreter Pattern](https://en.wikipedia.org/wiki/Interpreter_pattern)\n",
    "- [Iterator Pattern](https://en.wikipedia.org/wiki/Iterator_pattern)\n",
    "- [Mediator Pattern](https://en.wikipedia.org/wiki/Mediator_pattern)\n",
    "- [Memento Pattern](https://en.wikipedia.org/wiki/Memento_pattern)\n",
    "- [Observer Pattern](https://en.wikipedia.org/wiki/Observer_pattern)\n",
    "- [State Pattern](https://en.wikipedia.org/wiki/State_pattern)\n",
    "- [Strategy Pattern](https://en.wikipedia.org/wiki/Strategy_pattern)\n",
    "- [Template Method Pattern](https://en.wikipedia.org/wiki/Template_method_pattern)\n",
    "- [Visitor Pattern](https://en.wikipedia.org/wiki/Visitor_pattern)"
   ]
  },
  {
   "cell_type": "markdown",
   "metadata": {},
   "source": [
    "## Functional Design Patterns"
   ]
  },
  {
   "cell_type": "markdown",
   "metadata": {},
   "source": [
    "- [Higher-Order Function](https://en.wikipedia.org/wiki/Higher-order_function)\n",
    "    - [Fold](https://en.wikipedia.org/wiki/Fold_%28higher-order_function%29)\n",
    "    - [Map](https://en.wikipedia.org/wiki/Map_%28higher-order_function%29)\n",
    "    - [Filter](https://en.wikipedia.org/wiki/Filter_%28higher-order_function%29)\n",
    "- [Composition](https://en.wikipedia.org/wiki/Function_composition_%28computer_science%29)\n",
    "- [Currying](https://en.wikipedia.org/wiki/Currying)\n",
    "- [Recursion](https://en.wikipedia.org/wiki/Recursion_%28computer_science%29)\n",
    "    - [Tail Recursion](https://en.wikipedia.org/wiki/Tail_call)\n",
    "    - [Structural Recursion](https://en.wikipedia.org/wiki/Recursive_data_type)\n",
    "- [Lazy Evaluation](https://en.wikipedia.org/wiki/Lazy_evaluation)\n",
    "- [Pattern Matching](https://en.wikipedia.org/wiki/Pattern_matching)\n",
    "- [Algebraic Data Type](https://en.wikipedia.org/wiki/Algebraic_data_type)\n",
    "- [Monoid](https://en.wikipedia.org/wiki/Monoid)\n",
    "- [Monad](https://en.wikipedia.org/wiki/Monad_%28functional_programming%29)\n",
    "    - [I/O](https://en.wikibooks.org/wiki/Haskell/Understanding_monads/IO)\n",
    "    - [State](https://en.wikibooks.org/wiki/Haskell/Understanding_monads/State)\n",
    "- [Applicative Functor](https://en.wikipedia.org/wiki/Applicative_functor)\n",
    "- [Arrow](https://en.wikipedia.org/wiki/Arrow_%28computer_science%29)\n",
    "- [Zipper](https://en.wikipedia.org/wiki/Zipper_%28data_structure%29)\n",
    "- [Lenses](https://en.wikibooks.org/wiki/Haskell/Lenses_and_functional_references)"
   ]
  },
  {
   "cell_type": "markdown",
   "metadata": {},
   "source": [
    "## Enterprise Integration Patterns"
   ]
  },
  {
   "cell_type": "markdown",
   "metadata": {},
   "source": [
    "### Channel Patterns"
   ]
  },
  {
   "cell_type": "markdown",
   "metadata": {},
   "source": [
    "- [Message Channel](https://www.enterpriseintegrationpatterns.com/patterns/messaging/MessageChannel.html)\n",
    "- [Point-to-Point Channel](https://www.enterpriseintegrationpatterns.com/patterns/messaging/PointToPointChannel.html)\n",
    "- [Publish-Subscribe Channel](https://www.enterpriseintegrationpatterns.com/patterns/messaging/PublishSubscribeChannel.html)\n",
    "- [Datatype Channel](https://www.enterpriseintegrationpatterns.com/patterns/messaging/DatatypeChannel.html)\n",
    "- [Invalid Message Channel](https://www.enterpriseintegrationpatterns.com/patterns/messaging/InvalidMessageChannel.html)\n",
    "- [Dead Letter Channel](https://www.enterpriseintegrationpatterns.com/patterns/messaging/DeadLetterChannel.html)\n",
    "- [Guaranteed Delivery](https://www.enterpriseintegrationpatterns.com/patterns/messaging/GuaranteedMessaging.html)\n",
    "- [Channel Adapter](https://www.enterpriseintegrationpatterns.com/patterns/messaging/ChannelAdapter.html)\n",
    "- [Messaging Bridge](https://www.enterpriseintegrationpatterns.com/patterns/messaging/MessagingBridge.html)\n",
    "- [Message Bus](https://www.enterpriseintegrationpatterns.com/patterns/messaging/MessageBus.html)"
   ]
  },
  {
   "cell_type": "markdown",
   "metadata": {},
   "source": [
    "### Message Construction Patterns"
   ]
  },
  {
   "cell_type": "markdown",
   "metadata": {},
   "source": [
    "- [Message](https://www.enterpriseintegrationpatterns.com/patterns/messaging/Message.html)\n",
    "- [Command Message](https://www.enterpriseintegrationpatterns.com/patterns/messaging/CommandMessage.html)\n",
    "- [Document Message](https://www.enterpriseintegrationpatterns.com/patterns/messaging/DocumentMessage.html)\n",
    "- [Event Message](https://www.enterpriseintegrationpatterns.com/patterns/messaging/EventMessage.html)\n",
    "- [Request Reply](https://www.enterpriseintegrationpatterns.com/patterns/messaging/RequestReply.html)\n",
    "- [Return Address](https://www.enterpriseintegrationpatterns.com/patterns/messaging/ReturnAddress.html)\n",
    "- [Correlation Identifier](https://www.enterpriseintegrationpatterns.com/patterns/messaging/CorrelationIdentifier.html)\n",
    "- [Message Sequence](https://www.enterpriseintegrationpatterns.com/patterns/messaging/MessageSequence.html)\n",
    "- [Message Expiration](https://www.enterpriseintegrationpatterns.com/patterns/messaging/MessageExpiration.html)\n",
    "- [Format Indicator](https://www.enterpriseintegrationpatterns.com/patterns/messaging/FormatIndicator.html)"
   ]
  },
  {
   "cell_type": "markdown",
   "metadata": {},
   "source": [
    "### Routing Patterns"
   ]
  },
  {
   "cell_type": "markdown",
   "metadata": {},
   "source": [
    "- [Pipes and Filters](https://www.enterpriseintegrationpatterns.com/patterns/messaging/PipesAndFilters.html)\n",
    "- [Message Router](https://www.enterpriseintegrationpatterns.com/patterns/messaging/MessageRouter.html)\n",
    "- [Content-Based Router](https://www.enterpriseintegrationpatterns.com/patterns/messaging/ContentBasedRouter.html)\n",
    "- [Message Filter](https://www.enterpriseintegrationpatterns.com/patterns/messaging/Filter.html)\n",
    "- [Dynamic Router](https://www.enterpriseintegrationpatterns.com/patterns/messaging/DynamicRouter.html)\n",
    "- [Recipient List](https://www.enterpriseintegrationpatterns.com/patterns/messaging/RecipientList.html)\n",
    "- [Splitter](https://www.enterpriseintegrationpatterns.com/patterns/messaging/Sequencer.html)\n",
    "- [Aggregator](https://www.enterpriseintegrationpatterns.com/patterns/messaging/Aggregator.html)\n",
    "- [Resequencer](https://www.enterpriseintegrationpatterns.com/patterns/messaging/Resequencer.html)\n",
    "- [Composed Message Processor](https://www.enterpriseintegrationpatterns.com/patterns/messaging/DistributionAggregate.html)\n",
    "- [Scatter-Gather](https://www.enterpriseintegrationpatterns.com/patterns/messaging/BroadcastAggregate.html)\n",
    "- [Routing Slip](https://www.enterpriseintegrationpatterns.com/patterns/messaging/RoutingTable.html)\n",
    "- [Process Manager](https://www.enterpriseintegrationpatterns.com/patterns/messaging/ProcessManager.html)\n",
    "- [Message Broker](https://www.enterpriseintegrationpatterns.com/patterns/messaging/MessageBroker.html)"
   ]
  },
  {
   "cell_type": "markdown",
   "metadata": {},
   "source": [
    "### Transformation Patterns"
   ]
  },
  {
   "cell_type": "markdown",
   "metadata": {},
   "source": [
    "- [Message Translator](https://www.enterpriseintegrationpatterns.com/patterns/messaging/MessageTranslator.html)\n",
    "- [Envelope Wrapper](https://www.enterpriseintegrationpatterns.com/patterns/messaging/EnvelopeWrapper.html)\n",
    "- [Content Enricher](https://www.enterpriseintegrationpatterns.com/patterns/messaging/DataEnricher.html)\n",
    "- [Content Filter](https://www.enterpriseintegrationpatterns.com/patterns/messaging/ContentFilter.html)\n",
    "- [Claim Check](https://www.enterpriseintegrationpatterns.com/patterns/messaging/StoreInLibrary.html)\n",
    "- [Normalizer](https://www.enterpriseintegrationpatterns.com/patterns/messaging/Normalizer.html)\n",
    "- [Canonical Data Model](https://www.enterpriseintegrationpatterns.com/patterns/messaging/CanonicalDataModel.html)"
   ]
  },
  {
   "cell_type": "markdown",
   "metadata": {},
   "source": [
    "### Endpoint Patterns"
   ]
  },
  {
   "cell_type": "markdown",
   "metadata": {},
   "source": [
    "- [Message Endpoint](https://www.enterpriseintegrationpatterns.com/patterns/messaging/MessageEndpoint.html)\n",
    "- [Messaging Gateway](https://www.enterpriseintegrationpatterns.com/patterns/messaging/MessagingGateway.html)\n",
    "- [Messaging Mapper](https://www.enterpriseintegrationpatterns.com/patterns/messaging/MessagingMapper.html)\n",
    "- [Transactional Client](https://www.enterpriseintegrationpatterns.com/patterns/messaging/TransactionalClient.html)\n",
    "- [Polling Consumer](https://www.enterpriseintegrationpatterns.com/patterns/messaging/PollingConsumer.html)\n",
    "- [Event-Driven Consumer](https://www.enterpriseintegrationpatterns.com/patterns/messaging/EventDrivenConsumer.html)\n",
    "- [Competing Consumers](https://www.enterpriseintegrationpatterns.com/patterns/messaging/CompetingConsumers.html)\n",
    "- [Message Dispatcher](https://www.enterpriseintegrationpatterns.com/patterns/messaging/MessageDispatcher.html)\n",
    "- [Selective Consumer](https://www.enterpriseintegrationpatterns.com/patterns/messaging/MessageSelector.html)\n",
    "- [Durable Subscriber](https://www.enterpriseintegrationpatterns.com/patterns/messaging/DurableSubscription.html)\n",
    "- [Idempotent Receiver](https://www.enterpriseintegrationpatterns.com/patterns/messaging/IdempotentReceiver.html)\n",
    "- [Service Activator](https://www.enterpriseintegrationpatterns.com/patterns/messaging/MessagingAdapter.html)"
   ]
  },
  {
   "cell_type": "markdown",
   "metadata": {},
   "source": [
    "### System Management Patterns"
   ]
  },
  {
   "cell_type": "markdown",
   "metadata": {},
   "source": [
    "- [Control Bus](https://www.enterpriseintegrationpatterns.com/patterns/messaging/ControlBus.html)\n",
    "- [Detour](https://www.enterpriseintegrationpatterns.com/patterns/messaging/Detour.html)\n",
    "- [Wire Tap](https://www.enterpriseintegrationpatterns.com/patterns/messaging/WireTap.html)\n",
    "- [Message History](https://www.enterpriseintegrationpatterns.com/patterns/messaging/MessageHistory.html)\n",
    "- [Message Store](https://www.enterpriseintegrationpatterns.com/patterns/messaging/MessageStore.html)\n",
    "- [Smart Proxy](https://www.enterpriseintegrationpatterns.com/patterns/messaging/SmartProxy.html)\n",
    "- [Test Message](https://www.enterpriseintegrationpatterns.com/patterns/messaging/TestMessage.html)\n",
    "- [Channel Purger](https://www.enterpriseintegrationpatterns.com/patterns/messaging/ChannelPurger.html)"
   ]
  },
  {
   "cell_type": "markdown",
   "metadata": {},
   "source": [
    "## Links"
   ]
  },
  {
   "cell_type": "markdown",
   "metadata": {},
   "source": [
    "- [Awwwards](https://www.awwwards.com/)\n",
    "- [Brendan Gregg's Performance Analysis](https://www.brendangregg.com/index.html)\n",
    "- [CSS Tricks](https://css-tricks.com/)\n",
    "- [Developer Roadmaps](https://roadmap.sh/)\n",
    "- [Green Tea Press: Free Books](https://greenteapress.com/wp/)\n",
    "- [Laws of UX](https://lawsofux.com/en/)\n",
    "- [Ops School Curriculum](https://www.opsschool.org/)\n",
    "- [System Design Primer](https://github.com/donnemartin/system-design-primer)\n",
    "- [The Architecture of Open Source Applications](http://aosabook.org/en/index.html)"
   ]
  }
 ],
 "metadata": {
  "kernelspec": {
   "display_name": "Python 3 (ipykernel)",
   "language": "python",
   "name": "python3"
  },
  "language_info": {
   "codemirror_mode": {
    "name": "ipython",
    "version": 3
   },
   "file_extension": ".py",
   "mimetype": "text/x-python",
   "name": "python",
   "nbconvert_exporter": "python",
   "pygments_lexer": "ipython3",
   "version": "3.9.12"
  },
  "toc": {
   "base_numbering": 1,
   "nav_menu": {},
   "number_sections": false,
   "sideBar": false,
   "skip_h1_title": false,
   "title_cell": "Table of Contents",
   "title_sidebar": "Contents",
   "toc_cell": false,
   "toc_position": {},
   "toc_section_display": false,
   "toc_window_display": false
  }
 },
 "nbformat": 4,
 "nbformat_minor": 2
}
