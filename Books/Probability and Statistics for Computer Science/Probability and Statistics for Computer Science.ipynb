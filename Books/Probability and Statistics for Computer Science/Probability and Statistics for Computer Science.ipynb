{
 "cells": [
  {
   "cell_type": "markdown",
   "metadata": {},
   "source": [
    "# Probability and Statistics for Computer Science\n",
    "\n",
    "*Authors: David Forsyth*\n",
    "\n",
    "**ISBN: 978-3-319-64410-3**"
   ]
  },
  {
   "cell_type": "markdown",
   "metadata": {},
   "source": [
    "## Notation"
   ]
  },
  {
   "cell_type": "markdown",
   "metadata": {},
   "source": [
    "- $\\{x\\}$ - **Dataset**\n",
    "- $x_i$ -***i*th Data Item**\n",
    "- $x_i^{(j)}$ - ***j*th Component of *i*th Data Item**\n",
    "- $\\text{mean}(\\{x\\})$ - **Mean**\n",
    "- $\\text{std}(\\{x\\})$ - **Standard Deviation**\n",
    "- $\\text{var}(\\{x\\})$ - **Variance**\n",
    "- $\\text{median}(\\{x\\})$ - **Median**\n",
    "- $\\text{percentile}(\\{x\\}, k)$ - **$k\\%$ Percentile**\n",
    "- $\\text{iqr}(\\{x\\})$ - **Interquartile Range**\n",
    "- $\\{\\hat{x}\\}$ - **Dataset Transformed to Standard Coordinates**\n",
    "- $\\text{corr}(\\{(x, y)\\})$ - **Correlation**\n",
    "- $\\emptyset$ - **Empty Set**\n",
    "- $\\Omega$ - **Set of All Possible Experiment Outcomes**\n",
    "- $\\mathcal{A}$ - **Set**\n",
    "- $\\mathcal{A}^c = \\Omega - \\mathcal{A}$ - **Set Complement**\n",
    "- $\\mathcal{E}$ - **Event**\n",
    "- $P(\\{\\mathcal{E}\\})$ - **Probability of Event $\\mathcal{E}$**\n",
    "- $P(\\{\\mathcal{E}\\} \\vert \\{\\mathcal{F}\\})$ - **Probability of Event $\\mathcal{E}$, Conditioned on Event $\\mathcal{F}$**\n",
    "- $p(x)$ - **Probability That Random Variable $X$ Equals Value $x$**\n",
    "- $p(x, y)$ - **Probability That Random Variable $X$ Equals Value $x$ And Random Variable $Y$ Equals Value $y$**\n",
    "- $\\max_{x} f(x)$ - **Value of $x$ That Maximizes $f(x)$**\n",
    "- $\\min_{x} f(x)$ - **Value of $x$ That Minimizes $f(x)$**\n",
    "- $\\hat{\\theta}$ - **Estimated Value of $\\theta$**"
   ]
  },
  {
   "cell_type": "markdown",
   "metadata": {},
   "source": [
    "## 1. First Tools for Looking at Data"
   ]
  },
  {
   "cell_type": "markdown",
   "metadata": {},
   "source": [
    "### Datasets\n",
    "\n",
    "- **Dataset**: A collection of descriptions (or $d$-tuples) of different instances of the same phenomenon.\n",
    "    - *Categorical*\n",
    "    - *Continuous*"
   ]
  },
  {
   "cell_type": "markdown",
   "metadata": {},
   "source": [
    "### Summarizing 1D Data\n",
    "\n",
    "- A **location parameter** tells where the data lies along a number line.\n",
    "- A **scale parameter** tells how wide the spread of data is."
   ]
  },
  {
   "cell_type": "markdown",
   "metadata": {},
   "source": [
    "### Mean\n",
    "\n",
    "- Assume we have a dataset $\\{x\\}$ of $N$ data items, $x_1, ..., x_N$. The mean of this dataset is:\n",
    "$$\\text{mean}(\\{x\\}) = \\frac{1}{N} \\sum_{i = 1}^{N} x_i$$\n",
    "\n",
    "#### Properties of Mean\n",
    "\n",
    "- **Scaling**: $\\text{mean}(\\{k \\cdot x_i\\}) = k \\cdot \\text{mean}(\\{x_i\\})$\n",
    "    - *Yes Effect*\n",
    "- **Translation**: $\\text{mean}(\\{x_i + c\\}) = \\text{mean}(\\{x_i\\}) + c$\n",
    "    - *Yes Effect*\n",
    "- **Sum of Signed Differences**: $\\sum_{i = 1}^{N} \\left( x_i - \\text{mean}(\\{x_i\\}) \\right) = 0$\n",
    "- **Sum of Squared Distances to $\\mu$**: $\\min_{\\mu} \\sum_{i} \\left( x_i - \\mu \\right)^2 = \\text{mean}(\\{x_i\\})$\n",
    "    - *Mean*: $\\mu$\n",
    "\n",
    "#### Interpretation of Mean\n",
    "\n",
    "- The mean is a *location parameter* that summarizes the dataset with a value that is as close as possible to each datum."
   ]
  },
  {
   "cell_type": "markdown",
   "metadata": {},
   "source": [
    "### Standard Deviation\n",
    "\n",
    "- Assume we have a dataset $\\{x\\}$ of $N$ data items, $x_1, ..., x_N$. The standard deviation of this dataset is:\n",
    "$$\n",
    "\\begin{align}\n",
    "\\text{std}(\\{x\\}) \n",
    "& = \\sqrt{\\frac{1}{N} \\sum_{i = 1}^{N} \\left( x_i - \\text{mean}(\\{x\\}) \\right)^2} \\\\\n",
    "& = \\sqrt{\\text{mean}\\left( \\{ \\left( x_i - \\text{mean}(\\{x\\}) \\right)^2 \\} \\right)}\n",
    "\\end{align}\n",
    "$$\n",
    "\n",
    "#### Properties of Standard Deviation\n",
    "\n",
    "- **Scaling**: $\\text{std}(\\{k \\cdot x_i\\}) = k \\cdot \\text{std}(\\{x_i\\})$\n",
    "    - *Yes Effect*\n",
    "- **Translation**: $\\text{std}(\\{x_i + c\\}) = \\text{std}(\\{x_i\\})$\n",
    "    - *No Effect*\n",
    "- For any dataset, there can be only a few items that are many standard deviations away from the mean. For $N$ data items, $x_i$, whose standard deviation is $\\sigma$, there are at most $\\frac{1}{k^2}$ data points lying $k$ or more standard deviations away from the mean.\n",
    "- For any dataset, there must be at least one data item that is at least one standard deviation away from the mean.\n",
    "\n",
    "#### Interpretation of Standard Deviation\n",
    "\n",
    "- The standard deviation is the root mean square of the offsets from the mean.\n",
    "- The standard deviation is a *scale parameter* that measures the size of the average deviation from the mean for a dataset.\n",
    "- When the standard deviation is large, there are many items with values much larger than, or much smaller than, the mean.\n",
    "- When the standard deviation is small, most data items have values close to the mean."
   ]
  },
  {
   "cell_type": "markdown",
   "metadata": {},
   "source": [
    "### Variance\n",
    "\n",
    "- Assume we have a dataset $\\{x\\}$ of $N$ data items, $x_1, ..., x_N$. The variance of this dataset is:\n",
    "$$\n",
    "\\begin{align}\n",
    "\\text{var}(\\{x\\}) \n",
    "& = \\frac{1}{N} \\sum_{i = 1}^{N} \\left( x_i - \\text{mean}(\\{x\\}) \\right)^2 \\\\\n",
    "& = \\text{mean}\\left( \\{ \\left( x_i - \\text{mean}(\\{x\\}) \\right)^2 \\} \\right)\n",
    "\\end{align}\n",
    "$$\n",
    "\n",
    "#### Properties of Variance\n",
    "\n",
    "- **Scaling**: $\\text{var}(\\{k \\cdot x_i\\}) = k^2 \\cdot \\text{var}(\\{x_i\\})$\n",
    "    - *Yes Effect*\n",
    "- **Translation**: $\\text{var}(\\{x_i + c\\}) = \\text{var}(\\{x_i\\})$\n",
    "    - *No Effect*\n",
    "    \n",
    "#### Interpretation of Variance\n",
    "\n",
    "- Variance is the mean-square error you would incur if you replaced each data item with the mean."
   ]
  },
  {
   "cell_type": "markdown",
   "metadata": {},
   "source": [
    "### Median\n",
    "\n",
    "- Assume we have a dataset $\\{x\\}$ of $N$ data items, $x_1, ..., x_N$.\n",
    "    - If $N$ is odd, the median of this dataset is:\n",
    "$$\\text{median}(\\{x\\}) = \\text{sort}(\\{x\\})\\left[ \\frac{N}{2} \\right]$$\n",
    "    - If $N$ is even, the median of this dataset is:\n",
    "$$\\text{median}(\\{x\\}) = \\frac{1}{2} \\left( \\text{sort}(\\{x\\})\\left\\lceil \\frac{N}{2} \\right\\rceil + \\text{sort}(\\{x\\})\\left\\lfloor \\frac{N}{2} \\right\\rfloor \\right)$$\n",
    "\n",
    "#### Properties of Median\n",
    "\n",
    "- **Scaling**: $\\text{median}(\\{k \\cdot x_i\\}) = k \\cdot \\text{median}(\\{x_i\\})$\n",
    "    - *Yes Effect*\n",
    "- **Translation**: $\\text{median}(\\{x_i + c\\}) = \\text{median}(\\{x_i\\}) + c$\n",
    "    - *Yes Effect*\n",
    "\n",
    "#### Interpretation of Median\n",
    "\n",
    "- Generally, approximately half the data is smaller than the median, and approximately half the data is larger than the median.\n",
    "- The median is an alternative to the mean because it is also a *location parameter*."
   ]
  },
  {
   "cell_type": "markdown",
   "metadata": {},
   "source": [
    "### Interquartile Range\n",
    "\n",
    "- **Percentile**: The $k$'th percentile is the value such hat $k\\%$ of the data is less than or equal to that value.\n",
    "    - $\\text{percentile}(\\{x\\}, k)$\n",
    "- **Quartile**:\n",
    "    - The first quartile is the value such that $25\\%$ of the data is less than or equal to that value: $\\text{percentile}(\\{x\\}, 25)$.\n",
    "    - The second quartile is the value such that $50\\%$ of the data is less than or equal to that value: $\\text{percentile}(\\{x\\}, 50)$.\n",
    "    - The third quartile is the value such that $75\\%$ of the data is less than or equal to that value: $\\text{percentile}(\\{x\\}, 75)$.\n",
    "- **Interquartile Range**: The interquartile range of a dataset $\\{x\\}$ is:\n",
    "$$\\text{iqr}(\\{x\\}) = \\text{percentile}(\\{x\\}, 75) - \\text{percentile}(\\{x\\}, 25)$$\n",
    "\n",
    "#### Properties of Interquartile Range\n",
    "\n",
    "- **Scaling**: $\\text{iqr}(\\{k \\cdot x_i\\}) = k \\cdot \\text{iqr}(\\{x_i\\})$\n",
    "    - *Yes Effect*\n",
    "- **Translation**: $\\text{iqr}(\\{x_i + c\\}) = \\text{iqr}(\\{x_i\\})$\n",
    "    - *No Effect*\n",
    "    \n",
    "#### Interpretation of Interquartile Range\n",
    "\n",
    "- The interquartile range is an alternative to the standard deviation because it is also a *scale parameter*."
   ]
  },
  {
   "cell_type": "markdown",
   "metadata": {},
   "source": [
    "### Online Algorithms for Mean and Standard Deviation\n",
    "\n",
    "#### Mean\n",
    "\n",
    "- Let $\\hat{\\mu}_{k}$ be an estimate for the mean of the dataset after seeing $k$ elements.\n",
    "\n",
    "$$\n",
    "\\begin{align}\n",
    "\\hat{\\mu}_{1} &= x_1 \\\\\n",
    "\\hat{\\mu}_{k + 1} &= \\frac{\\hat{\\mu}_{k} + x_{k + 1}}{k + 1}\n",
    "\\end{align}\n",
    "$$\n",
    "\n",
    "#### Standard Deviation\n",
    "\n",
    "- Let $\\hat{\\sigma}_{k}$ be an estimate for the standard deviation of the dataset after seeing $k$ elements.\n",
    "\n",
    "$$\n",
    "\\begin{align}\n",
    "\\hat{\\sigma}_{1} &= 0 \\\\\n",
    "\\hat{\\sigma}_{k + 1} &= \\sqrt{\\frac{(k \\cdot \\hat{\\sigma}_{k}^2) + (x_{k + 1} - \\hat{\\mu}_{k + 1})^2}{k + 1}}\n",
    "\\end{align}\n",
    "$$"
   ]
  },
  {
   "cell_type": "markdown",
   "metadata": {},
   "source": [
    "### Mean vs. Median and Standard Deviation vs. Interquartile Range\n",
    "\n",
    "#### Mean and Standard Deviation\n",
    "\n",
    "- The mean and the standard deviation are strongly affected by **outliers**.\n",
    "- The mean and the standard deviation are inexpensive to exactly calculate.\n",
    "- Generally, The mean and the standard deviation are sensible for continuous data.\n",
    "\n",
    "#### Median and Interquartile Range\n",
    "\n",
    "- The median and the interquartile range are weakly affected by **outliers**.\n",
    "- The median and the interquartile range are expensive to exactly calculate.\n",
    "- Generally, The median and the interquartile range are sensible for categorical data."
   ]
  },
  {
   "cell_type": "markdown",
   "metadata": {},
   "source": [
    "### Histograms\n",
    "\n",
    "- **Bar Chart**: A set of bars, one per category, where the height of each bar is proportional to the number of items in that category.\n",
    "- **Histogram**: A generalization of a bar chart for continuous-valued data.\n",
    "    1. Divide the range of data into even or uneven intervals.\n",
    "    2. Associate each interval with a pigeonhole.\n",
    "    3. Associate each datum with a pigeonhole.\n",
    "    4. Visualize the histogram as a set of boxes, one per interval, in which each box sits on its interval on the horizontal axis, and its height is determined by the amount of data in the corresponding pigeonhole.\n",
    "- **Conditional Histogram**: A histogram that only plots part of a data set.\n",
    "\n",
    "#### Modes and Histograms\n",
    "\n",
    "- A histogram is **unimodal** if there is only one peak.\n",
    "- A histogram is **bimodal** if there is only two peaks.\n",
    "- A histogram is **multimodal** if there are many peaks.\n",
    "\n",
    "![Modes of Histogram](images/Figure_1_4.png)\n",
    "\n",
    "#### Skew and Histograms\n",
    "\n",
    "- The **tails** of a histogram are the relative uncommon values that are significantly larger or smaller than the value at the peak.\n",
    "- If the histogram is not symmetric, then the histogram is **skewed**.\n",
    "\n",
    "![Skew of Histogram](images/Figure_1_5.png)"
   ]
  },
  {
   "cell_type": "markdown",
   "metadata": {},
   "source": [
    "### Standard Coordinates and Normal Data\n",
    "\n",
    "- Assume we have a dataset $\\{x\\}$ of $N$ data items, $x_1, ..., x_N$, The standard coordinates of this dataset is:\n",
    "$$\\hat{x}_i = \\frac{x_i - \\text{mean}(\\{x\\})}{\\text{std}(\\{x\\})}$$\n",
    "- Data is **standard normal data** if, when we have a lot of data, the histogram of the data in standard coordinates is a close approximation to the **standard normal curve**:\n",
    "$$y(x) = \\frac{1}{\\sqrt{2\\pi}}e^{-x^2 / 2}$$\n",
    "- Data is **normal data** if, when we subtract the mean and divide by the standard deviation, it becomes the standard normal data.\n",
    "\n",
    "#### Interpretation of Standard Coordinates\n",
    "\n",
    "- A dataset expressed in standard coordinates is unitless with a mean of $0$ and a standard deviation of $1$.\n",
    "    - This allows different datasets to be compared if they are expressed in standard coordinates.\n",
    "- Many datasets expressed in standard coordinates are symmetric and unimodal, so they tend to be normal data.\n",
    "    \n",
    "#### Figure of Standard Normal Curve\n",
    "\n",
    "![Standard Normal Curve](images/Figure_1_7.png)\n",
    "\n",
    "#### Properties of Normal Data\n",
    "\n",
    "- Approximately 68% of data lie within one standard deviations of the mean.\n",
    "- Approximately 95% of data lie within two standard deviations of the mean.\n",
    "- Approximately 99% of data lie within three standard deviations of the mean."
   ]
  },
  {
   "cell_type": "markdown",
   "metadata": {},
   "source": [
    "### Box Plots\n",
    "\n",
    "- A **box plot** is a way to plot data that simplifies comparison.\n",
    "    - Dataset = Vertical Display.\n",
    "    - Vertical Box = Interquartile Range.\n",
    "    - Horizontal Line = Median.\n",
    "    - Whiskers = Range of Non-Outlier Data.\n",
    "    - Crosses = Outliers.\n",
    "    \n",
    "![Box Plot](images/Figure_1_8.png)"
   ]
  }
 ],
 "metadata": {
  "celltoolbar": "Initialization Cell",
  "kernelspec": {
   "display_name": "Python 3",
   "language": "python",
   "name": "python3"
  },
  "language_info": {
   "codemirror_mode": {
    "name": "ipython",
    "version": 3
   },
   "file_extension": ".py",
   "mimetype": "text/x-python",
   "name": "python",
   "nbconvert_exporter": "python",
   "pygments_lexer": "ipython3",
   "version": "3.6.5"
  }
 },
 "nbformat": 4,
 "nbformat_minor": 2
}
