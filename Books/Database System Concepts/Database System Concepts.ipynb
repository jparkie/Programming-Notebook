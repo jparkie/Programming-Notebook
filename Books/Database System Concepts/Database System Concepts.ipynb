{
 "cells": [
  {
   "cell_type": "markdown",
   "metadata": {},
   "source": [
    "# Database System Concepts\n",
    "\n",
    "*Authors: Abraham Silberschatz, Henry F. Korth, and S. Sudarshan*\n",
    "\n",
    "**ISBN: 978-0-07-352332-3**"
   ]
  },
  {
   "cell_type": "code",
   "execution_count": 1,
   "metadata": {},
   "outputs": [],
   "source": [
    "%defaultDatasource jdbc:h2:mem:db"
   ]
  },
  {
   "cell_type": "markdown",
   "metadata": {},
   "source": [
    "## Appendix A: Detailed University Schema"
   ]
  },
  {
   "cell_type": "markdown",
   "metadata": {},
   "source": [
    "![E-R Diagram for University](images/Figure_A_2.png)"
   ]
  },
  {
   "cell_type": "code",
   "execution_count": 2,
   "metadata": {},
   "outputs": [],
   "source": [
    "CREATE TABLE IF NOT EXISTS classroom (\n",
    "    building    VARCHAR(15),\n",
    "    roomNumber  VARCHAR(7),\n",
    "    capacity    NUMERIC(4,0),\n",
    "    PRIMARY KEY (building, roomNumber)\n",
    ");\n",
    "\n",
    "CREATE TABLE IF NOT EXISTS department (\n",
    "    deptName    VARCHAR(20),\n",
    "    building    VARCHAR(15),\n",
    "    budget      NUMERIC(12,2) CHECK (budget > 0),\n",
    "    PRIMARY KEY (deptName)\n",
    ");\n",
    "\n",
    "CREATE TABLE IF NOT EXISTS course (\n",
    "    courseId    VARCHAR(8),\n",
    "    title       VARCHAR(50),\n",
    "    deptName    VARCHAR(20),\n",
    "    credits     NUMERIC(2,0) CHECK (credits > 0),\n",
    "    PRIMARY KEY (courseId),\n",
    "    FOREIGN KEY (deptName) REFERENCES department ON DELETE SET NULL\n",
    ");\n",
    "\n",
    "CREATE TABLE IF NOT EXISTS instructor (\n",
    "    instructorId VARCHAR(5),\n",
    "    name         VARCHAR(20) NOT NULL,\n",
    "    deptName     VARCHAR(20),\n",
    "    salary       NUMERIC(8,2) CHECK (salary > 29000),\n",
    "    PRIMARY KEY (instructorId),\n",
    "    FOREIGN KEY (deptName) REFERENCES department ON DELETE SET NULL\n",
    ");\n",
    "\n",
    "CREATE TABLE IF NOT EXISTS section (\n",
    "    courseId    VARCHAR(8),\n",
    "    sectionId   VARCHAR(8),\n",
    "    semester    VARCHAR(6) CHECK (semester IN ('Fall', 'Winter', 'Spring', 'Summer')),\n",
    "    year        NUMERIC(4,0) CHECK (year > 1701 AND year < 2100),\n",
    "    building    VARCHAR(15),\n",
    "    roomNumber  VARCHAR(7),\n",
    "    timeSlotId  VARCHAR(4),\n",
    "    PRIMARY KEY (courseId, sectionId, semester, year),\n",
    "    FOREIGN KEY (courseId) REFERENCES course ON DELETE CASCADE,\n",
    "    FOREIGN KEY (building, roomNumber) REFERENCES classroom ON DELETE SET NULL\n",
    ");\n",
    "\n",
    "CREATE TABLE IF NOT EXISTS teaches (\n",
    "    instructorId VARCHAR(5),\n",
    "    courseId     VARCHAR(8),\n",
    "    sectionId    VARCHAR(8),\n",
    "    semester     VARCHAR(6),\n",
    "    year         NUMERIC(4,0),\n",
    "    PRIMARY KEY (instructorId, courseId, sectionId, semester, year),\n",
    "    FOREIGN KEY (courseId, sectionId, semester, year) REFERENCES section ON DELETE CASCADE,\n",
    "    FOREIGN KEY (instructorId) REFERENCES instructor ON DELETE CASCADE\n",
    ");\n",
    "\n",
    "CREATE TABLE IF NOT EXISTS student (\n",
    "    studentId   VARCHAR(5),\n",
    "    name        VARCHAR(20) NOT NULL,\n",
    "    deptName    VARCHAR(20),\n",
    "    totalCredit NUMERIC(3,0) CHECK (totalCredit >= 0),\n",
    "    PRIMARY KEY (studentId),\n",
    "    FOREIGN KEY (deptName) REFERENCES department ON DELETE SET NULL\n",
    ");\n",
    "\n",
    "CREATE TABLE IF NOT EXISTS takes (\n",
    "    studentId   VARCHAR(5),\n",
    "    courseId    VARCHAR(8),\n",
    "    sectionId   VARCHAR(8),\n",
    "    semester    VARCHAR(6),\n",
    "    year        NUMERIC(4,0),\n",
    "    grade       VARCHAR(2),\n",
    "    PRIMARY KEY (studentId, courseId, sectionId, semester, year),\n",
    "    FOREIGN KEY (courseId, sectionId, semester, year) REFERENCES section ON DELETE CASCADE,\n",
    "    FOREIGN KEY (studentID) REFERENCES student ON DELETE CASCADE\n",
    ");\n",
    "\n",
    "CREATE TABLE IF NOT EXISTS advisor (\n",
    "    studentId    VARCHAR(5),\n",
    "    instructorId VARCHAR(5),\n",
    "    PRIMARY KEY (studentId),\n",
    "    FOREIGN KEY (studentId) REFERENCES student ON DELETE CASCADE,\n",
    "    FOREIGN KEY (instructorId) REFERENCES instructor ON DELETE SET NULL\n",
    ");\n",
    "\n",
    "CREATE TABLE IF NOT EXISTS prereq (\n",
    "    courseId    VARCHAR(8),\n",
    "    prereqId    VARCHAR(8),\n",
    "    PRIMARY KEY (courseId, prereqId),\n",
    "    FOREIGN KEY (courseId) REFERENCES course ON DELETE CASCADE,\n",
    "    FOREIGN KEY (prereqId) REFERENCES course\n",
    ");\n",
    "\n",
    "CREATE TABLE timeSlot (\n",
    "    timeSlotId  VARCHAR(4),\n",
    "    day         VARCHAR(1),\n",
    "    startHr     NUMERIC(2) CHECK (startHr >= 0 AND startHr < 24),\n",
    "    startMin    NUMERIC(2) CHECK (startMin >= 0 AND startMin < 60),\n",
    "    endHr       NUMERIC(2) CHECK (endHr >= 0 AND endHr < 24),\n",
    "    endMin      NUMERIC(2) CHECK (endMin >= 0 AND endMin < 60),\n",
    "    PRIMARY KEY (timeSlotId, day, startHr, startMin)\n",
    ");"
   ]
  },
  {
   "cell_type": "code",
   "execution_count": 3,
   "metadata": {},
   "outputs": [],
   "source": [
    "-- Clear Tables\n",
    "DELETE FROM prereq;\n",
    "DELETE FROM timeSlot;\n",
    "DELETE FROM advisor;\n",
    "DELETE FROM takes;\n",
    "DELETE FROM student;\n",
    "DELETE FROM teaches;\n",
    "DELETE FROM section;\n",
    "DELETE FROM instructor;\n",
    "DELETE FROM course;\n",
    "DELETE FROM department;\n",
    "DELETE FROM classroom;\n",
    "-- Classroom\n",
    "INSERT INTO classroom VALUES ('Packard', '101', '500');\n",
    "INSERT INTO classroom VALUES ('Painter', '514', '10');\n",
    "INSERT INTO classroom VALUES ('Taylor', '3128', '70');\n",
    "INSERT INTO classroom VALUES ('Watson', '100', '30');\n",
    "INSERT INTO classroom VALUES ('Watson', '120', '50');\n",
    "-- Department\n",
    "INSERT INTO department VALUES ('Biology', 'Watson', '90000');\n",
    "INSERT INTO department VALUES ('Comp. Sci.', 'Taylor', '100000');\n",
    "INSERT INTO department VALUES ('Elec. Eng.', 'Taylor', '85000');\n",
    "INSERT INTO department VALUES ('Finance', 'Painter', '120000');\n",
    "INSERT INTO department VALUES ('History', 'Painter', '50000');\n",
    "INSERT INTO department VALUES ('Music', 'Packard', '80000');\n",
    "INSERT INTO department VALUES ('Physics', 'Watson', '70000');\n",
    "-- Course\n",
    "INSERT INTO course VALUES ('BIO-101', 'Intro. to Biology', 'Biology', '4');\n",
    "INSERT INTO course VALUES ('BIO-301', 'Genetics', 'Biology', '4');\n",
    "INSERT INTO course VALUES ('BIO-399', 'Computational Biology', 'Biology', '3');\n",
    "INSERT INTO course VALUES ('CS-101', 'Intro. to Computer Science', 'Comp. Sci.', '4');\n",
    "INSERT INTO course VALUES ('CS-190', 'Game Design', 'Comp. Sci.', '4');\n",
    "INSERT INTO course VALUES ('CS-315', 'Robotics', 'Comp. Sci.', '3');\n",
    "INSERT INTO course VALUES ('CS-319', 'Image Processing', 'Comp. Sci.', '3');\n",
    "INSERT INTO course VALUES ('CS-347', 'Database System Concepts', 'Comp. Sci.', '3');\n",
    "INSERT INTO course VALUES ('EE-181', 'Intro. to Digital Systems', 'Elec. Eng.', '3');\n",
    "INSERT INTO course VALUES ('FIN-201', 'Investment Banking', 'Finance', '3');\n",
    "INSERT INTO course VALUES ('HIS-351', 'World History', 'History', '3');\n",
    "INSERT INTO course VALUES ('MU-199', 'Music Video Production', 'Music', '3');\n",
    "INSERT INTO course VALUES ('PHY-101', 'Physical Principles', 'Physics', '4');\n",
    "-- Instructor\n",
    "INSERT INTO instructor VALUES ('10101', 'Srinivasan', 'Comp. Sci.', '65000');\n",
    "INSERT INTO instructor VALUES ('12121', 'Wu', 'Finance', '90000');\n",
    "INSERT INTO instructor VALUES ('15151', 'Mozart', 'Music', '40000');\n",
    "INSERT INTO instructor VALUES ('22222', 'Einstein', 'Physics', '95000');\n",
    "INSERT INTO instructor VALUES ('32343', 'El Said', 'History', '60000');\n",
    "INSERT INTO instructor VALUES ('33456', 'Gold', 'Physics', '87000');\n",
    "INSERT INTO instructor VALUES ('45565', 'Katz', 'Comp. Sci.', '75000');\n",
    "INSERT INTO instructor VALUES ('58583', 'Califieri', 'History', '62000');\n",
    "INSERT INTO instructor VALUES ('76543', 'Singh', 'Finance', '80000');\n",
    "INSERT INTO instructor VALUES ('76766', 'Crick', 'Biology', '72000');\n",
    "INSERT INTO instructor VALUES ('83821', 'Brandt', 'Comp. Sci.', '92000');\n",
    "INSERT INTO instructor VALUES ('98345', 'Kim', 'Elec. Eng.', '80000');\n",
    "-- Section\n",
    "INSERT INTO section VALUES ('BIO-101', '1', 'Summer', '2009', 'Painter', '514', 'B');\n",
    "INSERT INTO section VALUES ('BIO-301', '1', 'Summer', '2010', 'Painter', '514', 'A');\n",
    "INSERT INTO section VALUES ('CS-101', '1', 'Fall', '2009', 'Packard', '101', 'H');\n",
    "INSERT INTO section VALUES ('CS-101', '1', 'Spring', '2010', 'Packard', '101', 'F');\n",
    "INSERT INTO section VALUES ('CS-190', '1', 'Spring', '2009', 'Taylor', '3128', 'E');\n",
    "INSERT INTO section VALUES ('CS-190', '2', 'Spring', '2009', 'Taylor', '3128', 'A');\n",
    "INSERT INTO section VALUES ('CS-315', '1', 'Spring', '2010', 'Watson', '120', 'D');\n",
    "INSERT INTO section VALUES ('CS-319', '1', 'Spring', '2010', 'Watson', '100', 'B');\n",
    "INSERT INTO section VALUES ('CS-319', '2', 'Spring', '2010', 'Taylor', '3128', 'C');\n",
    "INSERT INTO section VALUES ('CS-347', '1', 'Fall', '2009', 'Taylor', '3128', 'A');\n",
    "INSERT INTO section VALUES ('EE-181', '1', 'Spring', '2009', 'Taylor', '3128', 'C');\n",
    "INSERT INTO section VALUES ('FIN-201', '1', 'Spring', '2010', 'Packard', '101', 'B');\n",
    "INSERT INTO section VALUES ('HIS-351', '1', 'Spring', '2010', 'Painter', '514', 'C');\n",
    "INSERT INTO section VALUES ('MU-199', '1', 'Spring', '2010', 'Packard', '101', 'D');\n",
    "INSERT INTO section VALUES ('PHY-101', '1', 'Fall', '2009', 'Watson', '100', 'A');\n",
    "-- Teaches\n",
    "INSERT INTO teaches VALUES ('10101', 'CS-101', '1', 'Fall', '2009');\n",
    "INSERT INTO teaches VALUES ('10101', 'CS-315', '1', 'Spring', '2010');\n",
    "INSERT INTO teaches VALUES ('10101', 'CS-347', '1', 'Fall', '2009');\n",
    "INSERT INTO teaches VALUES ('12121', 'FIN-201', '1', 'Spring', '2010');\n",
    "INSERT INTO teaches VALUES ('15151', 'MU-199', '1', 'Spring', '2010');\n",
    "INSERT INTO teaches VALUES ('22222', 'PHY-101', '1', 'Fall', '2009');\n",
    "INSERT INTO teaches VALUES ('32343', 'HIS-351', '1', 'Spring', '2010');\n",
    "INSERT INTO teaches VALUES ('45565', 'CS-101', '1', 'Spring', '2010');\n",
    "INSERT INTO teaches VALUES ('45565', 'CS-319', '1', 'Spring', '2010');\n",
    "INSERT INTO teaches VALUES ('76766', 'BIO-101', '1', 'Summer', '2009');\n",
    "INSERT INTO teaches VALUES ('76766', 'BIO-301', '1', 'Summer', '2010');\n",
    "INSERT INTO teaches VALUES ('83821', 'CS-190', '1', 'Spring', '2009');\n",
    "INSERT INTO teaches VALUES ('83821', 'CS-190', '2', 'Spring', '2009');\n",
    "INSERT INTO teaches VALUES ('83821', 'CS-319', '2', 'Spring', '2010');\n",
    "INSERT INTO teaches VALUES ('98345', 'EE-181', '1', 'Spring', '2009');\n",
    "-- Student\n",
    "INSERT INTO student VALUES ('00128', 'Zhang', 'Comp. Sci.', '102');\n",
    "INSERT INTO student VALUES ('12345', 'Shankar', 'Comp. Sci.', '32');\n",
    "INSERT INTO student VALUES ('19991', 'Brandt', 'History', '80');\n",
    "INSERT INTO student VALUES ('23121', 'Chavez', 'Finance', '110');\n",
    "INSERT INTO student VALUES ('44553', 'Peltier', 'Physics', '56');\n",
    "INSERT INTO student VALUES ('45678', 'Levy', 'Physics', '46');\n",
    "INSERT INTO student VALUES ('54321', 'Williams', 'Comp. Sci.', '54');\n",
    "INSERT INTO student VALUES ('55739', 'Sanchez', 'Music', '38');\n",
    "INSERT INTO student VALUES ('70557', 'Snow', 'Physics', '0');\n",
    "INSERT INTO student VALUES ('76543', 'Brown', 'Comp. Sci.', '58');\n",
    "INSERT INTO student VALUES ('76653', 'Aoi', 'Elec. Eng.', '60');\n",
    "INSERT INTO student VALUES ('98765', 'Bourikas', 'Elec. Eng.', '98');\n",
    "INSERT INTO student VALUES ('98988', 'Tanaka', 'Biology', '120');\n",
    "-- Takes\n",
    "INSERT INTO takes VALUES ('00128', 'CS-101', '1', 'Fall', '2009', 'A');\n",
    "INSERT INTO takes VALUES ('00128', 'CS-347', '1', 'Fall', '2009', 'A-');\n",
    "INSERT INTO takes VALUES ('12345', 'CS-101', '1', 'Fall', '2009', 'C');\n",
    "INSERT INTO takes VALUES ('12345', 'CS-190', '2', 'Spring', '2009', 'A');\n",
    "INSERT INTO takes VALUES ('12345', 'CS-315', '1', 'Spring', '2010', 'A');\n",
    "INSERT INTO takes VALUES ('12345', 'CS-347', '1', 'Fall', '2009', 'A');\n",
    "INSERT INTO takes VALUES ('19991', 'HIS-351', '1', 'Spring', '2010', 'B');\n",
    "INSERT INTO takes VALUES ('23121', 'FIN-201', '1', 'Spring', '2010', 'C+');\n",
    "INSERT INTO takes VALUES ('44553', 'PHY-101', '1', 'Fall', '2009', 'B-');\n",
    "INSERT INTO takes VALUES ('45678', 'CS-101', '1', 'Fall', '2009', 'F');\n",
    "INSERT INTO takes VALUES ('45678', 'CS-101', '1', 'Spring', '2010', 'B+');\n",
    "INSERT INTO takes VALUES ('45678', 'CS-319', '1', 'Spring', '2010', 'B');\n",
    "INSERT INTO takes VALUES ('54321', 'CS-101', '1', 'Fall', '2009', 'A-');\n",
    "INSERT INTO takes VALUES ('54321', 'CS-190', '2', 'Spring', '2009', 'B+');\n",
    "INSERT INTO takes VALUES ('55739', 'MU-199', '1', 'Spring', '2010', 'A-');\n",
    "INSERT INTO takes VALUES ('76543', 'CS-101', '1', 'Fall', '2009', 'A');\n",
    "INSERT INTO takes VALUES ('76543', 'CS-319', '2', 'Spring', '2010', 'A');\n",
    "INSERT INTO takes VALUES ('76653', 'EE-181', '1', 'Spring', '2009', 'C');\n",
    "INSERT INTO takes VALUES ('98765', 'CS-101', '1', 'Fall', '2009', 'C-');\n",
    "INSERT INTO takes VALUES ('98765', 'CS-315', '1', 'Spring', '2010', 'B');\n",
    "INSERT INTO takes VALUES ('98988', 'BIO-101', '1', 'Summer', '2009', 'A');\n",
    "INSERT INTO takes VALUES ('98988', 'BIO-301', '1', 'Summer', '2010', null);\n",
    "-- Advisor\n",
    "INSERT INTO advisor VALUES ('00128', '45565');\n",
    "INSERT INTO advisor VALUES ('12345', '10101');\n",
    "INSERT INTO advisor VALUES ('23121', '76543');\n",
    "INSERT INTO advisor VALUES ('44553', '22222');\n",
    "INSERT INTO advisor VALUES ('45678', '22222');\n",
    "INSERT INTO advisor VALUES ('76543', '45565');\n",
    "INSERT INTO advisor VALUES ('76653', '98345');\n",
    "INSERT INTO advisor VALUES ('98765', '98345');\n",
    "INSERT INTO advisor VALUES ('98988', '76766');\n",
    "-- Time Slot\n",
    "INSERT INTO timeSlot VALUES ('A', 'M', '8', '0', '8', '50');\n",
    "INSERT INTO timeSlot VALUES ('A', 'W', '8', '0', '8', '50');\n",
    "INSERT INTO timeSlot VALUES ('A', 'F', '8', '0', '8', '50');\n",
    "INSERT INTO timeSlot VALUES ('B', 'M', '9', '0', '9', '50');\n",
    "INSERT INTO timeSlot VALUES ('B', 'W', '9', '0', '9', '50');\n",
    "INSERT INTO timeSlot VALUES ('B', 'F', '9', '0', '9', '50');\n",
    "INSERT INTO timeSlot VALUES ('C', 'M', '11', '0', '11', '50');\n",
    "INSERT INTO timeSlot VALUES ('C', 'W', '11', '0', '11', '50');\n",
    "INSERT INTO timeSlot VALUES ('C', 'F', '11', '0', '11', '50');\n",
    "INSERT INTO timeSlot VALUES ('D', 'M', '13', '0', '13', '50');\n",
    "INSERT INTO timeSlot VALUES ('D', 'W', '13', '0', '13', '50');\n",
    "INSERT INTO timeSlot VALUES ('D', 'F', '13', '0', '13', '50');\n",
    "INSERT INTO timeSlot VALUES ('E', 'T', '10', '30', '11', '45 ');\n",
    "INSERT INTO timeSlot VALUES ('E', 'R', '10', '30', '11', '45 ');\n",
    "INSERT INTO timeSlot VALUES ('F', 'T', '14', '30', '15', '45 ');\n",
    "INSERT INTO timeSlot VALUES ('F', 'R', '14', '30', '15', '45 ');\n",
    "INSERT INTO timeSlot VALUES ('G', 'M', '16', '0', '16', '50');\n",
    "INSERT INTO timeSlot VALUES ('G', 'W', '16', '0', '16', '50');\n",
    "INSERT INTO timeSlot VALUES ('G', 'F', '16', '0', '16', '50');\n",
    "INSERT INTO timeSlot VALUES ('H', 'W', '10', '0', '12', '30');\n",
    "-- Prereq\n",
    "INSERT INTO prereq VALUES ('BIO-301', 'BIO-101');\n",
    "INSERT INTO prereq VALUES ('BIO-399', 'BIO-101');\n",
    "INSERT INTO prereq VALUES ('CS-190', 'CS-101');\n",
    "INSERT INTO prereq VALUES ('CS-315', 'CS-101');\n",
    "INSERT INTO prereq VALUES ('CS-319', 'CS-101');\n",
    "INSERT INTO prereq VALUES ('CS-347', 'CS-101');\n",
    "INSERT INTO prereq VALUES ('EE-181', 'PHY-101');"
   ]
  },
  {
   "cell_type": "markdown",
   "metadata": {},
   "source": [
    "## Chapter 1: Introduction"
   ]
  },
  {
   "cell_type": "markdown",
   "metadata": {},
   "source": [
    "- A **database-management system** (DBMS) consists of a collection of interrelated data and a collection of programs to access that data."
   ]
  },
  {
   "cell_type": "markdown",
   "metadata": {},
   "source": [
    "### 1.3 View of Data"
   ]
  },
  {
   "cell_type": "markdown",
   "metadata": {},
   "source": [
    "#### Data Abstraction\n",
    "\n",
    "- **Physical Level**: *How is the data stored in the database?*\n",
    "- **Logical Level**: *What is the data stored in the database?*\n",
    "- **View Level**: *How should users of the database interact with the data?*"
   ]
  },
  {
   "cell_type": "markdown",
   "metadata": {},
   "source": [
    "#### Instances and Schemas\n",
    "\n",
    "- **Instance**: A collection of information stored in the database at a particular moment.\n",
    "- **Schema**: The overall design of the database.\n",
    "    - **Physical Schema**: Describes the database design at the physical level.\n",
    "    - **Logical Schema**: Describes the database design at the logical level.\n",
    "- **Physical Data Independence**: The ability to modify the physical schema without changing the logical schema or the application.\n",
    "- **Logical Data Independence**: The ability to modify the logical schema without changing the application."
   ]
  },
  {
   "cell_type": "markdown",
   "metadata": {},
   "source": [
    "#### Data Models\n",
    "\n",
    "- **Data Model**: A collection of conceptual tools for describing data, data relationships, data semantics, and consistency constraints.\n",
    "    - Relational Model\n",
    "    - Entity-Relationship Model\n",
    "    - Object-Based Data Model\n",
    "    - Semistructured Data Model"
   ]
  },
  {
   "cell_type": "markdown",
   "metadata": {},
   "source": [
    "### 1.9 Database Architecture"
   ]
  },
  {
   "cell_type": "markdown",
   "metadata": {},
   "source": [
    "![Database Architecture](images/Figure_1_5.png)"
   ]
  },
  {
   "cell_type": "markdown",
   "metadata": {},
   "source": [
    "## Chapter 2: Introduction to the Relational Model"
   ]
  },
  {
   "cell_type": "markdown",
   "metadata": {},
   "source": [
    "### 2.1 Structure of Relational Databases"
   ]
  },
  {
   "cell_type": "markdown",
   "metadata": {},
   "source": [
    "- **Relation**: A set of tuples $\\left( A_1, A_2, ..., A_n \\right)$ in which each attribute $A_i$ is a member of the domain $D_i$.\n",
    "    - *Relation = Table*\n",
    "    - *Tuple = Row*\n",
    "    - *Attribute = Column*\n",
    "- **Relation Instance**: A specific set of tuples of a relation.\n",
    "- **Domain**: A set of permitted values of an attribute.\n",
    "- **Atomic**: A domain in which every element is semantically indivisible.\n",
    "- **Null**: A special value that signifies that the value is unknown or does not exist."
   ]
  },
  {
   "cell_type": "markdown",
   "metadata": {},
   "source": [
    "### 2.2 Database Schema\n",
    "\n",
    "- **Database Schema**: The logical design of a database.\n",
    "- **Database Instance**: A snapshot of the data in a database at a given instant in time.\n",
    "- **Relation Schema**: A list of attributes and their corresponding domains.\n",
    "\n",
    "$$R \\left( A_1, A_2, ..., A_n \\right)$$"
   ]
  },
  {
   "cell_type": "markdown",
   "metadata": {},
   "source": [
    "### 2.3 Keys\n",
    "\n",
    "- A **superkey** of a relation is a set of one or more attributes whose values are guaranteed to identify tuples in the relation uniquely\n",
    "- A **candidate key** is a minimal superkey, that is, a set of attributes that forms a superkey, but none of whose subsets is a superkey.\n",
    "- A **primary key** is one of the candidate keys of a relation.\n",
    "- A **foreign key** is a set of attributes in a referencing relation, such that for each tuple in the **referencing relation**, the values of the foreign key attributes are guaranteed to occur as the primary key value of a tuple in the **referenced relation**."
   ]
  },
  {
   "cell_type": "markdown",
   "metadata": {},
   "source": [
    "## Chapter 3: Introduction to SQL"
   ]
  },
  {
   "cell_type": "markdown",
   "metadata": {},
   "source": [
    "### 3.1 Overview of the SQL Query Language"
   ]
  },
  {
   "cell_type": "markdown",
   "metadata": {},
   "source": [
    "- **Data-Definition Language** (DDL) provides commands for defining relation schemas, deleting relations, and modifying relation schemas.\n",
    "- **Data-Manipulation Language** (DML) includes a query language and commands to insert tuples into, delete tuples from, and modify tuples in the database."
   ]
  },
  {
   "cell_type": "markdown",
   "metadata": {},
   "source": [
    "### 3.2 SQL Data Definition"
   ]
  },
  {
   "cell_type": "markdown",
   "metadata": {},
   "source": [
    "#### Basic Types"
   ]
  },
  {
   "cell_type": "code",
   "execution_count": 4,
   "metadata": {},
   "outputs": [],
   "source": [
    "-- INT\n",
    "-- BOOLEAN\n",
    "-- TINYINT\n",
    "-- SMALLINT\n",
    "-- BIGINT\n",
    "-- IDENTITY\n",
    "-- DECIMAL\n",
    "-- DOUBLE\n",
    "-- REAL\n",
    "-- TIME\n",
    "-- DATE\n",
    "-- TIMESTAMP\n",
    "-- TIMESTAMP WITH TIME ZONE\n",
    "-- BINARY\n",
    "-- OTHER\n",
    "-- VARCHAR\n",
    "-- VARCHAR_IGNORECASE\n",
    "-- CHAR\n",
    "-- BLOB\n",
    "-- CLOB\n",
    "-- UUID\n",
    "-- ARRAY\n",
    "-- ENUM\n",
    "-- GEOMETRY\n",
    "-- INTERVAL"
   ]
  },
  {
   "cell_type": "markdown",
   "metadata": {},
   "source": [
    "#### Basic Schema Definition"
   ]
  },
  {
   "cell_type": "code",
   "execution_count": 5,
   "metadata": {},
   "outputs": [],
   "source": [
    "-- Visit https://en.wikipedia.org/wiki/Data_definition_language\n",
    "-- for more information regarding DDL.\n",
    "-- CREATE TABLE r\n",
    "-- (\n",
    "-- Attribute1 Domain1,\n",
    "-- Attribute2 Domain2,\n",
    "-- ...\n",
    "-- AttributeN DomainN,\n",
    "-- (IntegrityConstraint1),\n",
    "-- ...\n",
    "-- (IntegrityConstraintk),\n",
    "-- );"
   ]
  },
  {
   "cell_type": "markdown",
   "metadata": {},
   "source": [
    "### 3.3 Basic Structure of SQL Queries"
   ]
  },
  {
   "cell_type": "markdown",
   "metadata": {},
   "source": [
    "#### Select Clause and From Clause\n",
    "\n",
    "- The **`SELECT`** clause specifies the attributes to project for the output.\n",
    "- The **`FROM`** clause specifies the relation from which to query."
   ]
  },
  {
   "cell_type": "code",
   "execution_count": 6,
   "metadata": {},
   "outputs": [
    {
     "data": {
      "application/vnd.jupyter.widget-view+json": {
       "model_id": "0c61f3fc-e810-4e16-be66-b3eb57184d36",
       "version_major": 2,
       "version_minor": 0
      },
      "method": "display_data"
     },
     "metadata": {},
     "output_type": "display_data"
    }
   ],
   "source": [
    "-- List attribute deptName of all relation instructor.\n",
    "SELECT deptName\n",
    "FROM instructor;"
   ]
  },
  {
   "cell_type": "code",
   "execution_count": 7,
   "metadata": {},
   "outputs": [
    {
     "data": {
      "application/vnd.jupyter.widget-view+json": {
       "model_id": "1b8663e1-7c81-425b-bc1d-acd2721a8326",
       "version_major": 2,
       "version_minor": 0
      },
      "method": "display_data"
     },
     "metadata": {},
     "output_type": "display_data"
    }
   ],
   "source": [
    "-- List attribute deptName of all relation instructor.\n",
    "-- Disallow Duplicates\n",
    "SELECT DISTINCT deptName\n",
    "FROM instructor;"
   ]
  },
  {
   "cell_type": "code",
   "execution_count": 8,
   "metadata": {},
   "outputs": [
    {
     "data": {
      "application/vnd.jupyter.widget-view+json": {
       "model_id": "1149db0a-c4eb-4ee1-826f-a77b71d53668",
       "version_major": 2,
       "version_minor": 0
      },
      "method": "display_data"
     },
     "metadata": {},
     "output_type": "display_data"
    }
   ],
   "source": [
    "-- List attribute deptName of all relation instructor.\n",
    "-- Allow Duplicates\n",
    "SELECT ALL deptName\n",
    "FROM instructor;"
   ]
  },
  {
   "cell_type": "markdown",
   "metadata": {},
   "source": [
    "#### Arithmetic Operations"
   ]
  },
  {
   "cell_type": "code",
   "execution_count": 9,
   "metadata": {},
   "outputs": [
    {
     "data": {
      "application/vnd.jupyter.widget-view+json": {
       "model_id": "80bd5f89-f52d-40af-8f5e-01e3af80943f",
       "version_major": 2,
       "version_minor": 0
      },
      "method": "display_data"
     },
     "metadata": {},
     "output_type": "display_data"
    },
    {
     "data": {
      "application/vnd.jupyter.widget-view+json": {
       "model_id": "d4fead04-aee3-4138-981b-0bd03c471ac7",
       "version_major": 2,
       "version_minor": 0
      },
      "method": "display_data"
     },
     "metadata": {},
     "output_type": "display_data"
    },
    {
     "data": {
      "application/vnd.jupyter.widget-view+json": {
       "model_id": "f65a461a-d8a1-42fc-a1b2-13aa302e7868",
       "version_major": 2,
       "version_minor": 0
      },
      "method": "display_data"
     },
     "metadata": {},
     "output_type": "display_data"
    },
    {
     "data": {
      "application/vnd.jupyter.widget-view+json": {
       "model_id": "e773490e-1665-4f45-b04c-ab1130538a54",
       "version_major": 2,
       "version_minor": 0
      },
      "method": "display_data"
     },
     "metadata": {},
     "output_type": "display_data"
    },
    {
     "data": {
      "application/vnd.jupyter.widget-view+json": {
       "model_id": "3e62ce9e-68d1-4472-a228-4fc0dbe2834b",
       "version_major": 2,
       "version_minor": 0
      },
      "method": "display_data"
     },
     "metadata": {},
     "output_type": "display_data"
    }
   ],
   "source": [
    "-- List 1.\n",
    "SELECT 1.0;\n",
    "\n",
    "-- List Addition.\n",
    "SELECT 1.0 + 1.0;\n",
    "\n",
    "-- List Subtraction\n",
    "SELECT 1.0 - 1.0;\n",
    "\n",
    "-- List Multiplication.\n",
    "SELECT 2.0 * 2.0;\n",
    "\n",
    "-- List Division;\n",
    "SELECT 1.0 / 2.0;"
   ]
  },
  {
   "cell_type": "markdown",
   "metadata": {},
   "source": [
    "**\\* Attribute**\n",
    "\n",
    "- The **`*`** symbol denotes all attributes."
   ]
  },
  {
   "cell_type": "code",
   "execution_count": 10,
   "metadata": {},
   "outputs": [
    {
     "data": {
      "application/vnd.jupyter.widget-view+json": {
       "model_id": "a94e3980-c8c7-4d8f-8d90-703a3650f988",
       "version_major": 2,
       "version_minor": 0
      },
      "method": "display_data"
     },
     "metadata": {},
     "output_type": "display_data"
    }
   ],
   "source": [
    "SELECT * FROM instructor;"
   ]
  },
  {
   "cell_type": "markdown",
   "metadata": {},
   "source": [
    "#### Where Clause\n",
    "\n",
    "- The **`WHERE`** clause specifies conditions by which the query should be filtered."
   ]
  },
  {
   "cell_type": "code",
   "execution_count": 11,
   "metadata": {},
   "outputs": [
    {
     "data": {
      "application/vnd.jupyter.widget-view+json": {
       "model_id": "c4fb11dd-b277-4783-9597-674d685ecd12",
       "version_major": 2,
       "version_minor": 0
      },
      "method": "display_data"
     },
     "metadata": {},
     "output_type": "display_data"
    }
   ],
   "source": [
    "-- Connectives: 'and', 'or', 'not'\n",
    "-- Operators: '<', '<=', '>', '>=', '=', '<>'\n",
    "SELECT name\n",
    "FROM instructor\n",
    "WHERE deptName = 'Comp. Sci.' AND salary > 70000;"
   ]
  },
  {
   "cell_type": "markdown",
   "metadata": {},
   "source": [
    "#### Cartesian Product\n",
    "\n",
    "- The **Cartesian product** outputs all pairs of rows from the two input relations (regardless of whether or not they have the same values on common attributes)."
   ]
  },
  {
   "cell_type": "code",
   "execution_count": 12,
   "metadata": {},
   "outputs": [
    {
     "data": {
      "application/vnd.jupyter.widget-view+json": {
       "model_id": "cf7b98eb-981a-4cf8-bf97-3e31e8775cd8",
       "version_major": 2,
       "version_minor": 0
      },
      "method": "display_data"
     },
     "metadata": {},
     "output_type": "display_data"
    }
   ],
   "source": [
    "SELECT name, courseId\n",
    "FROM instructor, teaches\n",
    "WHERE instructor.instructorId = teaches.instructorId \n",
    "    AND instructor.deptName = 'Comp. Sci.';"
   ]
  },
  {
   "cell_type": "markdown",
   "metadata": {},
   "source": [
    "#### Natural Join\n",
    "\n",
    "- The **natural join** outputs pairs of rows from the two input relations that have the same value on all attributes that have the same name."
   ]
  },
  {
   "cell_type": "code",
   "execution_count": 13,
   "metadata": {},
   "outputs": [
    {
     "data": {
      "application/vnd.jupyter.widget-view+json": {
       "model_id": "1c324e2f-661a-415b-b109-cedcd1e0ab6e",
       "version_major": 2,
       "version_minor": 0
      },
      "method": "display_data"
     },
     "metadata": {},
     "output_type": "display_data"
    }
   ],
   "source": [
    "SELECT name, courseId\n",
    "FROM instructor NATURAL JOIN teaches\n",
    "WHERE deptName = 'Comp. Sci.';"
   ]
  },
  {
   "cell_type": "markdown",
   "metadata": {},
   "source": [
    "### 3.4 Additional Basic Operations"
   ]
  },
  {
   "cell_type": "markdown",
   "metadata": {},
   "source": [
    "#### Rename Operation\n",
    "\n",
    "- The **`AS`** operation aliases attributes and relations for efficiency and disambiguity."
   ]
  },
  {
   "cell_type": "code",
   "execution_count": 14,
   "metadata": {},
   "outputs": [
    {
     "data": {
      "application/vnd.jupyter.widget-view+json": {
       "model_id": "4d20a478-7e48-490f-a655-8c79d537d1bf",
       "version_major": 2,
       "version_minor": 0
      },
      "method": "display_data"
     },
     "metadata": {},
     "output_type": "display_data"
    }
   ],
   "source": [
    "-- What are the names of all instructors whose salary \n",
    "-- is greater than at least one instructor in the Biology \n",
    "-- department?\n",
    "SELECT DISTINCT T.name\n",
    "FROM instructor AS T, instructor AS S\n",
    "WHERE T.salary > S.salary AND S.deptName = 'Biology';"
   ]
  },
  {
   "cell_type": "markdown",
   "metadata": {},
   "source": [
    "#### Order By Clause\n",
    "\n",
    "- The **`ORDER BY`** clause specifies the ordering by which the tuples in the result of a query should be sorted."
   ]
  },
  {
   "cell_type": "code",
   "execution_count": 15,
   "metadata": {},
   "outputs": [
    {
     "data": {
      "application/vnd.jupyter.widget-view+json": {
       "model_id": "4cd5328b-333b-42ae-85ae-51891e1af8ee",
       "version_major": 2,
       "version_minor": 0
      },
      "method": "display_data"
     },
     "metadata": {},
     "output_type": "display_data"
    },
    {
     "data": {
      "application/vnd.jupyter.widget-view+json": {
       "model_id": "eb8f9d7d-1f6b-4e74-9497-c1ac367b3406",
       "version_major": 2,
       "version_minor": 0
      },
      "method": "display_data"
     },
     "metadata": {},
     "output_type": "display_data"
    },
    {
     "data": {
      "application/vnd.jupyter.widget-view+json": {
       "model_id": "939d20c9-cc04-461e-bd92-c8a353c54ba1",
       "version_major": 2,
       "version_minor": 0
      },
      "method": "display_data"
     },
     "metadata": {},
     "output_type": "display_data"
    }
   ],
   "source": [
    "-- Alphabetically, what are the names of all instructors in the \n",
    "-- Physics department?\n",
    "SELECT name\n",
    "FROM instructor\n",
    "WHERE deptName = 'Physics'\n",
    "ORDER BY name;\n",
    "\n",
    "-- Ascending\n",
    "SELECT name\n",
    "FROM instructor\n",
    "WHERE deptName = 'Physics'\n",
    "ORDER BY name ASC;\n",
    "\n",
    "-- Descending\n",
    "SELECT name\n",
    "FROM instructor\n",
    "WHERE deptName = 'Physics'\n",
    "ORDER BY name DESC;"
   ]
  },
  {
   "cell_type": "markdown",
   "metadata": {},
   "source": [
    "#### Where Clause 'Between' Predicate"
   ]
  },
  {
   "cell_type": "code",
   "execution_count": 16,
   "metadata": {},
   "outputs": [
    {
     "data": {
      "application/vnd.jupyter.widget-view+json": {
       "model_id": "2b3e8517-dab8-4e6c-9e9e-66545716c1c5",
       "version_major": 2,
       "version_minor": 0
      },
      "method": "display_data"
     },
     "metadata": {},
     "output_type": "display_data"
    }
   ],
   "source": [
    "-- What are the names of instructors with salary amounts \n",
    "-- between $90,000 and $100,000?\n",
    "SELECT name\n",
    "FROM instructor\n",
    "WHERE salary BETWEEN 90000 AND 100000;"
   ]
  },
  {
   "cell_type": "markdown",
   "metadata": {},
   "source": [
    "#### Where Clause 'Tuple Equality' Predicate"
   ]
  },
  {
   "cell_type": "code",
   "execution_count": 17,
   "metadata": {},
   "outputs": [
    {
     "data": {
      "application/vnd.jupyter.widget-view+json": {
       "model_id": "b5200361-e010-41d8-b065-277998ec6ede",
       "version_major": 2,
       "version_minor": 0
      },
      "method": "display_data"
     },
     "metadata": {},
     "output_type": "display_data"
    }
   ],
   "source": [
    "-- What are the instructor names and the courses they taught \n",
    "-- for all instructors in the Biology department who have \n",
    "-- taught some course?\n",
    "SELECT name, courseId\n",
    "FROM instructor, teaches\n",
    "WHERE (instructor.instructorId, deptName) = (teaches.instructorId, 'Biology');"
   ]
  },
  {
   "cell_type": "markdown",
   "metadata": {},
   "source": [
    "### 3.5 Set Operations"
   ]
  },
  {
   "cell_type": "markdown",
   "metadata": {},
   "source": [
    "#### Union Operation"
   ]
  },
  {
   "cell_type": "code",
   "execution_count": 18,
   "metadata": {},
   "outputs": [
    {
     "data": {
      "application/vnd.jupyter.widget-view+json": {
       "model_id": "a0116b00-5630-4a1b-bc12-5f0d067b498b",
       "version_major": 2,
       "version_minor": 0
      },
      "method": "display_data"
     },
     "metadata": {},
     "output_type": "display_data"
    }
   ],
   "source": [
    "-- What are all the courses taught either in Fall 2009 or \n",
    "-- in Spring 2010, or both?\n",
    "-- Disallow Duplicates\n",
    "(SELECT courseId FROM section WHERE semester = 'Fall' AND year = 2009)\n",
    "UNION\n",
    "(SELECT courseId FROM section WHERE semester = 'Spring' AND year = 2010);"
   ]
  },
  {
   "cell_type": "code",
   "execution_count": 19,
   "metadata": {},
   "outputs": [
    {
     "data": {
      "application/vnd.jupyter.widget-view+json": {
       "model_id": "669995e9-1c4d-4b66-ba04-f17df20c8d84",
       "version_major": 2,
       "version_minor": 0
      },
      "method": "display_data"
     },
     "metadata": {},
     "output_type": "display_data"
    }
   ],
   "source": [
    "-- What are all the courses taught either in Fall 2009 or \n",
    "-- in Spring 2010, or both?\n",
    "-- Allow Duplicates\n",
    "(SELECT courseId FROM section WHERE semester = 'Fall' AND year = 2009)\n",
    "UNION ALL\n",
    "(SELECT courseId FROM section WHERE semester = 'Spring' AND year = 2010);"
   ]
  },
  {
   "cell_type": "markdown",
   "metadata": {},
   "source": [
    "#### Intersect Operation"
   ]
  },
  {
   "cell_type": "code",
   "execution_count": 20,
   "metadata": {},
   "outputs": [
    {
     "data": {
      "text/plain": [
       "CS-101"
      ]
     },
     "execution_count": 20,
     "metadata": {},
     "output_type": "execute_result"
    }
   ],
   "source": [
    "-- What are all the courses taught either in Fall 2009 and \n",
    "-- in Spring 2010?\n",
    "-- Disallow Duplicates\n",
    "(SELECT courseId FROM section WHERE semester = 'Fall' AND year = 2009)\n",
    "INTERSECT\n",
    "(SELECT courseId FROM section WHERE semester = 'Spring' AND year = 2010);"
   ]
  },
  {
   "cell_type": "markdown",
   "metadata": {},
   "source": [
    "#### Except Operation"
   ]
  },
  {
   "cell_type": "code",
   "execution_count": 21,
   "metadata": {},
   "outputs": [
    {
     "data": {
      "application/vnd.jupyter.widget-view+json": {
       "model_id": "10902bc1-eb78-4119-96b2-feace0f044bd",
       "version_major": 2,
       "version_minor": 0
      },
      "method": "display_data"
     },
     "metadata": {},
     "output_type": "display_data"
    }
   ],
   "source": [
    "-- What are all the courses taught either in Fall 2009 but not \n",
    "-- in Spring 2010?\n",
    "-- Disallow Duplicates\n",
    "(SELECT courseId FROM section WHERE semester = 'Fall' AND year = 2009)\n",
    "EXCEPT\n",
    "(SELECT courseId FROM section WHERE semester = 'Spring' AND year = 2010);"
   ]
  },
  {
   "cell_type": "markdown",
   "metadata": {},
   "source": [
    "### 3.6 Null Values"
   ]
  },
  {
   "cell_type": "code",
   "execution_count": 22,
   "metadata": {},
   "outputs": [
    {
     "data": {
      "application/vnd.jupyter.widget-view+json": {
       "model_id": "360839ff-4a86-4587-a8e5-5678a7ce80dc",
       "version_major": 2,
       "version_minor": 0
      },
      "method": "display_data"
     },
     "metadata": {},
     "output_type": "display_data"
    },
    {
     "data": {
      "application/vnd.jupyter.widget-view+json": {
       "model_id": "6a9d4da4-49b5-4b44-bd07-53c8847915af",
       "version_major": 2,
       "version_minor": 0
      },
      "method": "display_data"
     },
     "metadata": {},
     "output_type": "display_data"
    },
    {
     "data": {
      "application/vnd.jupyter.widget-view+json": {
       "model_id": "a17f1c4d-ecc7-4b7a-af89-0d51b3d8f90b",
       "version_major": 2,
       "version_minor": 0
      },
      "method": "display_data"
     },
     "metadata": {},
     "output_type": "display_data"
    },
    {
     "data": {
      "application/vnd.jupyter.widget-view+json": {
       "model_id": "11aa346a-d3cb-4010-aa06-63d6f5b084f2",
       "version_major": 2,
       "version_minor": 0
      },
      "method": "display_data"
     },
     "metadata": {},
     "output_type": "display_data"
    },
    {
     "data": {
      "application/vnd.jupyter.widget-view+json": {
       "model_id": "a2a480f4-f914-490a-87de-ae8b4a5ef368",
       "version_major": 2,
       "version_minor": 0
      },
      "method": "display_data"
     },
     "metadata": {},
     "output_type": "display_data"
    },
    {
     "data": {
      "application/vnd.jupyter.widget-view+json": {
       "model_id": "02f71430-11cb-4681-8ace-64ccb6c8e1f0",
       "version_major": 2,
       "version_minor": 0
      },
      "method": "display_data"
     },
     "metadata": {},
     "output_type": "display_data"
    },
    {
     "data": {
      "application/vnd.jupyter.widget-view+json": {
       "model_id": "360bd5e4-29ea-4994-871b-0649f3151ccc",
       "version_major": 2,
       "version_minor": 0
      },
      "method": "display_data"
     },
     "metadata": {},
     "output_type": "display_data"
    },
    {
     "data": {
      "application/vnd.jupyter.widget-view+json": {
       "model_id": "6c2d0ef2-a376-40ad-91cc-4ce7d20f657c",
       "version_major": 2,
       "version_minor": 0
      },
      "method": "display_data"
     },
     "metadata": {},
     "output_type": "display_data"
    }
   ],
   "source": [
    "SELECT NULL;\n",
    "\n",
    "-- Addition, All NULL\n",
    "-- SELECT NULL + NULL;\n",
    "-- SELECT 1.0 + NULL;\n",
    "-- SELECT NULL + 1.0;\n",
    "\n",
    "-- Subtraction, All NULL\n",
    "-- SELECT NULL - NULL;\n",
    "-- SELECT 1.0 - NULL;\n",
    "-- SELECT NULL - 1.0;\n",
    "\n",
    "-- Multiplication, All NULL\n",
    "-- SELECT NULL * NULL;\n",
    "-- SELECT 1.0 * NULL;\n",
    "-- SELECT NULL * 1.0;\n",
    "\n",
    "-- Division, All NULL\n",
    "-- SELECT NULL / NULL;\n",
    "-- SELECT 1.0 / NULL;\n",
    "-- SELECT NULL / 1.0;\n",
    "\n",
    "-- And\n",
    "SELECT NULL AND TRUE;\n",
    "SELECT NULL AND FALSE;\n",
    "\n",
    "-- Or\n",
    "SELECT NULL OR TRUE;\n",
    "SELECT NULL OR FALSE;\n",
    "\n",
    "-- Not\n",
    "SELECT NOT NULL;\n",
    "\n",
    "-- Is\n",
    "SELECT NULL IS NULL;\n",
    "SELECT NULL IS NOT NULL;"
   ]
  },
  {
   "cell_type": "markdown",
   "metadata": {},
   "source": [
    "### 3.7 Aggregate Functions"
   ]
  },
  {
   "cell_type": "markdown",
   "metadata": {},
   "source": [
    "#### Basic Aggregation"
   ]
  },
  {
   "cell_type": "code",
   "execution_count": 23,
   "metadata": {},
   "outputs": [
    {
     "data": {
      "application/vnd.jupyter.widget-view+json": {
       "model_id": "38497bcf-2321-40a9-ac6d-c40ad859ed2e",
       "version_major": 2,
       "version_minor": 0
      },
      "method": "display_data"
     },
     "metadata": {},
     "output_type": "display_data"
    },
    {
     "data": {
      "application/vnd.jupyter.widget-view+json": {
       "model_id": "64b391ff-8f2f-4ef3-83e6-c30f929bee37",
       "version_major": 2,
       "version_minor": 0
      },
      "method": "display_data"
     },
     "metadata": {},
     "output_type": "display_data"
    },
    {
     "data": {
      "application/vnd.jupyter.widget-view+json": {
       "model_id": "a690f871-7928-4f45-aefc-f66f2be43018",
       "version_major": 2,
       "version_minor": 0
      },
      "method": "display_data"
     },
     "metadata": {},
     "output_type": "display_data"
    },
    {
     "data": {
      "application/vnd.jupyter.widget-view+json": {
       "model_id": "1e18e8aa-74c8-4c0a-8f9b-fbf6edeafb4e",
       "version_major": 2,
       "version_minor": 0
      },
      "method": "display_data"
     },
     "metadata": {},
     "output_type": "display_data"
    },
    {
     "data": {
      "application/vnd.jupyter.widget-view+json": {
       "model_id": "e164fd2c-ec89-47fb-9863-e3582b2b55c6",
       "version_major": 2,
       "version_minor": 0
      },
      "method": "display_data"
     },
     "metadata": {},
     "output_type": "display_data"
    }
   ],
   "source": [
    "-- Average\n",
    "SELECT AVG(salary)\n",
    "FROM instructor;\n",
    "\n",
    "-- Minimum\n",
    "SELECT MIN(salary)\n",
    "FROM instructor;\n",
    "\n",
    "-- Maximum\n",
    "SELECT MAX(salary)\n",
    "FROM instructor;\n",
    "\n",
    "-- Sum\n",
    "SELECT SUM(salary)\n",
    "FROM instructor;\n",
    "\n",
    "-- Count\n",
    "SELECT COUNT(*)\n",
    "FROM instructor;"
   ]
  },
  {
   "cell_type": "markdown",
   "metadata": {},
   "source": [
    "#### Distinct Aggregation"
   ]
  },
  {
   "cell_type": "code",
   "execution_count": 24,
   "metadata": {},
   "outputs": [
    {
     "data": {
      "text/plain": [
       "6"
      ]
     },
     "execution_count": 24,
     "metadata": {},
     "output_type": "execute_result"
    }
   ],
   "source": [
    "-- What is the total number of instructors who teach a course \n",
    "-- in Spring 2010 semester?\n",
    "SELECT COUNT(DISTINCT instructorId)\n",
    "FROM teaches\n",
    "WHERE (semester, year) = ('Spring', 2010);"
   ]
  },
  {
   "cell_type": "markdown",
   "metadata": {},
   "source": [
    "#### Aggregation with  Grouping\n",
    "\n",
    "- The **`GROUP BY`** clause specifies attributes by which tuples with the same value on all specified attributes are placed in the same group."
   ]
  },
  {
   "cell_type": "code",
   "execution_count": 25,
   "metadata": {},
   "outputs": [
    {
     "data": {
      "application/vnd.jupyter.widget-view+json": {
       "model_id": "3d8ef454-4e06-4d72-912b-37736519edff",
       "version_major": 2,
       "version_minor": 0
      },
      "method": "display_data"
     },
     "metadata": {},
     "output_type": "display_data"
    }
   ],
   "source": [
    "-- What is the average salary in each department?\n",
    "SELECT deptName, AVG(salary) AS avgSalary\n",
    "FROM instructor\n",
    "GROUP BY deptName;"
   ]
  },
  {
   "cell_type": "markdown",
   "metadata": {},
   "source": [
    "#### Having Clause\n",
    "\n",
    "- The **`HAVING`** clause specifies conditions by which the query should be filtered after groups have been formed."
   ]
  },
  {
   "cell_type": "code",
   "execution_count": 26,
   "metadata": {},
   "outputs": [
    {
     "data": {
      "application/vnd.jupyter.widget-view+json": {
       "model_id": "eea07d2f-7c7a-47d1-b4e6-ada020758bdb",
       "version_major": 2,
       "version_minor": 0
      },
      "method": "display_data"
     },
     "metadata": {},
     "output_type": "display_data"
    }
   ],
   "source": [
    "-- What is the average salary in each department \n",
    "-- if the average salary is greater than $42,000?\n",
    "SELECT deptName, AVG(salary) AS avgSalary\n",
    "FROM instructor\n",
    "GROUP BY deptName\n",
    "HAVING AVG(salary) > 42000;"
   ]
  },
  {
   "cell_type": "markdown",
   "metadata": {},
   "source": [
    "#### Aggregation with Null Values\n",
    "\n",
    "- All aggregate functions except `COUNT(*)` ignore null values in their input collection."
   ]
  },
  {
   "cell_type": "markdown",
   "metadata": {},
   "source": [
    "### 3.8 Nested Subqueries"
   ]
  },
  {
   "cell_type": "markdown",
   "metadata": {},
   "source": [
    "- A **subquery** is a select-from-where expression that is nested within another query."
   ]
  },
  {
   "cell_type": "markdown",
   "metadata": {},
   "source": [
    "#### Set Membership\n",
    "\n",
    "- The **`IN`** connective tests set membership.\n",
    "- The **`NOT IN`** connective tests the absense of set membership."
   ]
  },
  {
   "cell_type": "code",
   "execution_count": 27,
   "metadata": {},
   "outputs": [
    {
     "data": {
      "text/plain": [
       "CS-101"
      ]
     },
     "execution_count": 27,
     "metadata": {},
     "output_type": "execute_result"
    }
   ],
   "source": [
    "-- What are all the courses taught either in Fall 2009 and \n",
    "-- in Spring 2010?\n",
    "SELECT DISTINCT courseId\n",
    "FROM section\n",
    "WHERE semester = 'Fall'\n",
    "    AND year = 2009\n",
    "    AND courseId IN (\n",
    "        SELECT courseId\n",
    "        FROM section\n",
    "        WHERE semester = 'Spring'\n",
    "            AND year = 2010\n",
    "    );"
   ]
  },
  {
   "cell_type": "markdown",
   "metadata": {},
   "source": [
    "#### Set Comparison\n",
    "\n",
    "- The **`SOME`** connective asserts a condition for any member of a set.\n",
    "- The **`ALL`** connective asserts a condition for all members of a set."
   ]
  },
  {
   "cell_type": "code",
   "execution_count": 28,
   "metadata": {},
   "outputs": [
    {
     "data": {
      "application/vnd.jupyter.widget-view+json": {
       "model_id": "9caf3b13-93bc-49a0-9f2a-31d626958f25",
       "version_major": 2,
       "version_minor": 0
      },
      "method": "display_data"
     },
     "metadata": {},
     "output_type": "display_data"
    },
    {
     "data": {
      "application/vnd.jupyter.widget-view+json": {
       "model_id": "959afb71-99ad-49f9-849a-75f05cc4fa59",
       "version_major": 2,
       "version_minor": 0
      },
      "method": "display_data"
     },
     "metadata": {},
     "output_type": "display_data"
    }
   ],
   "source": [
    "-- What are the names of all instructors whose salary \n",
    "-- is greater than at least one instructor in the Biology \n",
    "-- department?\n",
    "SELECT name\n",
    "FROM instructor\n",
    "WHERE salary > SOME (\n",
    "    SELECT salary\n",
    "    FROM instructor\n",
    "    WHERE deptName = 'Biology'\n",
    ");\n",
    "\n",
    "-- What are the names of all instructors whose salary \n",
    "-- is greater than all instructors in the Biology \n",
    "-- department?\n",
    "SELECT name\n",
    "FROM instructor\n",
    "WHERE salary > ALL (\n",
    "    SELECT salary\n",
    "    FROM instructor\n",
    "    WHERE deptName = 'Biology'\n",
    ");"
   ]
  },
  {
   "cell_type": "markdown",
   "metadata": {},
   "source": [
    "#### Existence Tests\n",
    "\n",
    "- The **`EXISTS`** connective asserts whether a set is empty.\n",
    "- The **`NOT EXISTS`** connective asserts whether a set is non-empty."
   ]
  },
  {
   "cell_type": "code",
   "execution_count": 29,
   "metadata": {},
   "outputs": [
    {
     "data": {
      "text/plain": [
       "CS-101"
      ]
     },
     "execution_count": 29,
     "metadata": {},
     "output_type": "execute_result"
    }
   ],
   "source": [
    "-- What are all the courses taught either in Fall 2009 and \n",
    "-- in Spring 2010?\n",
    "SELECT courseId\n",
    "FROM section AS S\n",
    "WHERE semester = 'Fall'\n",
    "    AND year = 2009\n",
    "    AND EXISTS (\n",
    "        SELECT *\n",
    "        FROM section AS T\n",
    "        WHERE semester = 'Spring'\n",
    "            AND year = 2010\n",
    "            AND S.courseId = T.courseId\n",
    "    );"
   ]
  },
  {
   "cell_type": "markdown",
   "metadata": {},
   "source": [
    "#### Uniqueness Tests\n",
    "\n",
    "- The **`UNIQUE`** connective asserts whether a set contains no duplicates.\n",
    "- The **`NOT UNIQUE`** connective asserts whether a set contains duplicates."
   ]
  },
  {
   "cell_type": "code",
   "execution_count": 30,
   "metadata": {},
   "outputs": [],
   "source": [
    "-- DOES NOT WORK WITH H2!\n",
    "-- What are all the courses that were offered at most once \n",
    "-- in 2009?\n",
    "-- SELECT T.courseId\n",
    "-- FROM course AS T\n",
    "-- WHERE UNIQUE (\n",
    "--     SELECT R.courseId\n",
    "--     FROM section AS R\n",
    "--     WHERE T.courseId = R.courseId\n",
    "--         AND R.year = 2009\n",
    "-- );"
   ]
  },
  {
   "cell_type": "markdown",
   "metadata": {},
   "source": [
    "#### With Clause\n",
    "\n",
    "- The **`WITH`** clause defines a temporary relation whose definition is available only to the query in which the clause occurs."
   ]
  },
  {
   "cell_type": "code",
   "execution_count": 31,
   "metadata": {},
   "outputs": [],
   "source": [
    "-- DOES NOT WORK WITH H2!\n",
    "-- What department has the maximum budget?\n",
    "-- WITH maxBudget(value) AS (\n",
    "--     SELECT MAX(budget) FROM department\n",
    "-- )\n",
    "-- SELECT budget\n",
    "-- FROM department, maxBudget\n",
    "-- WHERE department.budget = maxBudget.value;"
   ]
  },
  {
   "cell_type": "markdown",
   "metadata": {},
   "source": [
    "#### Scalary Subqueries\n",
    "\n",
    "- A **scalar subquery** is a subequery that returns only one tuple containing a single attribute.\n",
    "- A scalar subquery can be used wherever an expression returning a value is allowed."
   ]
  },
  {
   "cell_type": "code",
   "execution_count": 32,
   "metadata": {},
   "outputs": [
    {
     "data": {
      "application/vnd.jupyter.widget-view+json": {
       "model_id": "a5df4867-d4ec-4ec2-92b6-743140cd45fc",
       "version_major": 2,
       "version_minor": 0
      },
      "method": "display_data"
     },
     "metadata": {},
     "output_type": "display_data"
    }
   ],
   "source": [
    "-- What are all the departments along with the number of\n",
    "-- instructors in each department?\n",
    "SELECT deptName, (\n",
    "    SELECT COUNT(*)\n",
    "    FROM instructor\n",
    "    WHERE department.deptName = instructor.deptName\n",
    ") AS numInstructors\n",
    "FROM department;"
   ]
  },
  {
   "cell_type": "markdown",
   "metadata": {},
   "source": [
    "### 3.9 Modification of the Database"
   ]
  },
  {
   "cell_type": "markdown",
   "metadata": {},
   "source": [
    "#### Deletion\n",
    "\n",
    "- The **`DELETE`** statement deletes all tuples in a relation for which a given predicate is true."
   ]
  },
  {
   "cell_type": "code",
   "execution_count": 33,
   "metadata": {},
   "outputs": [
    {
     "data": {
      "application/vnd.jupyter.widget-view+json": {
       "model_id": "28c1206f-ad21-45a9-b4e0-6a8cbca4ef34",
       "version_major": 2,
       "version_minor": 0
      },
      "method": "display_data"
     },
     "metadata": {},
     "output_type": "display_data"
    },
    {
     "data": {
      "application/vnd.jupyter.widget-view+json": {
       "model_id": "158aa189-51b1-4056-8b06-dbd302a57fd1",
       "version_major": 2,
       "version_minor": 0
      },
      "method": "display_data"
     },
     "metadata": {},
     "output_type": "display_data"
    },
    {
     "data": {
      "application/vnd.jupyter.widget-view+json": {
       "model_id": "8fa1df92-db22-4669-8cce-bb2866d6bbbf",
       "version_major": 2,
       "version_minor": 0
      },
      "method": "display_data"
     },
     "metadata": {},
     "output_type": "display_data"
    },
    {
     "data": {
      "application/vnd.jupyter.widget-view+json": {
       "model_id": "671d2211-14bd-4af6-88c4-8ac9dd18d44b",
       "version_major": 2,
       "version_minor": 0
      },
      "method": "display_data"
     },
     "metadata": {},
     "output_type": "display_data"
    },
    {
     "data": {
      "application/vnd.jupyter.widget-view+json": {
       "model_id": "8119781d-5ee1-4c37-80f4-5b3b95701bcb",
       "version_major": 2,
       "version_minor": 0
      },
      "method": "display_data"
     },
     "metadata": {},
     "output_type": "display_data"
    },
    {
     "data": {
      "application/vnd.jupyter.widget-view+json": {
       "model_id": "a14f9916-86be-4a4c-b678-8f29ea3a5da0",
       "version_major": 2,
       "version_minor": 0
      },
      "method": "display_data"
     },
     "metadata": {},
     "output_type": "display_data"
    }
   ],
   "source": [
    "SET AUTOCOMMIT FALSE;\n",
    "\n",
    "SELECT CONCAT('Setup: ', COUNT(*))\n",
    "FROM instructor;\n",
    "\n",
    "-- \n",
    "DELETE FROM instructor;\n",
    "-- \n",
    "SELECT CONCAT('Test 1: ', COUNT(*)) \n",
    "FROM instructor;\n",
    "-- \n",
    "ROLLBACK;\n",
    "\n",
    "-- \n",
    "DELETE FROM instructor\n",
    "WHERE deptName = 'Finance';\n",
    "-- \n",
    "SELECT CONCAT('Test 2: ', COUNT(*))\n",
    "FROM instructor\n",
    "WHERE deptName = 'Finance';\n",
    "-- \n",
    "ROLLBACK;\n",
    "\n",
    "-- \n",
    "DELETE FROM instructor\n",
    "WHERE salary BETWEEN 13000 AND 15000;\n",
    "-- \n",
    "SELECT CONCAT('Test 3: ', COUNT(*)) \n",
    "FROM instructor\n",
    "WHERE salary BETWEEN 13000 AND 15000;\n",
    "-- \n",
    "ROLLBACK;\n",
    "\n",
    "-- \n",
    "DELETE FROM instructor\n",
    "WHERE deptName IN (\n",
    "    SELECT deptName\n",
    "    FROM department\n",
    "    WHERE building = 'Watson'\n",
    ");\n",
    "-- \n",
    "SELECT CONCAT('Test 4: ', COUNT(*)) \n",
    "FROM instructor\n",
    "WHERE deptName IN (\n",
    "    SELECT deptName\n",
    "    FROM department\n",
    "    WHERE building = 'Watson'\n",
    ");\n",
    "-- \n",
    "ROLLBACK;\n",
    "\n",
    "SELECT CONCAT('Teardown: ', COUNT(*))\n",
    "FROM instructor;\n",
    "\n",
    "SET AUTOCOMMIT TRUE;"
   ]
  },
  {
   "cell_type": "markdown",
   "metadata": {},
   "source": [
    "#### Insertion\n",
    "\n",
    "- The **`INSERT`** statement inserts tuples into a relation."
   ]
  },
  {
   "cell_type": "code",
   "execution_count": 34,
   "metadata": {},
   "outputs": [],
   "source": [
    "SET AUTOCOMMIT FALSE;\n",
    "\n",
    "SELECT CONCAT('Setup: ', COUNT(*))\n",
    "FROM course;\n",
    "\n",
    "-- \n",
    "INSERT INTO course\n",
    "VALUES ('CS-437', 'Database Systems', 'Comp. Sci.', 4);\n",
    "-- \n",
    "SELECT CONCAT('Test 1: ', COUNT(*)) \n",
    "FROM course;\n",
    "-- \n",
    "ROLLBACK;\n",
    "\n",
    "-- \n",
    "INSERT INTO course (courseId, title, deptName, credits)\n",
    "VALUES ('CS-437', 'Database Systems', 'Comp. Sci.', 4);\n",
    "-- \n",
    "SELECT CONCAT('Test 2: ', COUNT(*)) \n",
    "FROM course;\n",
    "-- \n",
    "ROLLBACK;\n",
    "\n",
    "SELECT CONCAT('Teardown: ', COUNT(*))\n",
    "FROM course;\n",
    "\n",
    "SET AUTOCOMMIT TRUE;"
   ]
  },
  {
   "cell_type": "markdown",
   "metadata": {},
   "source": [
    "#### Update\n",
    "\n",
    "- The **`UPDATE`** statement updates tuples of a relation."
   ]
  },
  {
   "cell_type": "code",
   "execution_count": 35,
   "metadata": {},
   "outputs": [],
   "source": [
    "SET AUTOCOMMIT FALSE;\n",
    "\n",
    "SELECT CONCAT('Setup: ', COUNT(*))\n",
    "FROM instructor;\n",
    "\n",
    "-- \n",
    "UPDATE instructor\n",
    "SET salary = salary * 1.05;\n",
    "-- \n",
    "ROLLBACK;\n",
    "\n",
    "-- \n",
    "UPDATE instructor\n",
    "SET salary = salary * 1.05\n",
    "WHERE salary < 70000;\n",
    "-- \n",
    "ROLLBACK;\n",
    "\n",
    "SELECT CONCAT('Teardown: ', COUNT(*))\n",
    "FROM instructor;\n",
    "\n",
    "SET AUTOCOMMIT TRUE;"
   ]
  },
  {
   "cell_type": "markdown",
   "metadata": {},
   "source": [
    "## Chapter 4: Intermediate SQL"
   ]
  },
  {
   "cell_type": "markdown",
   "metadata": {},
   "source": [
    "### 4.1 Join Expressions"
   ]
  },
  {
   "cell_type": "code",
   "execution_count": 36,
   "metadata": {},
   "outputs": [],
   "source": [
    "SELECT *\n",
    "FROM student NATURAL JOIN takes;"
   ]
  },
  {
   "cell_type": "markdown",
   "metadata": {},
   "source": [
    "#### Join Conditions\n",
    "\n",
    "- The **`JOIN ... USING`** clause specifies the required attributes to match for the join.\n",
    "- The **`JOIN ... ON <condition>`** clause specifies the required condition to satisfy for the join."
   ]
  },
  {
   "cell_type": "markdown",
   "metadata": {},
   "source": [
    "#### Inner Joins\n",
    "\n",
    "- The **`INNER JOIN`** do not preserve nonmatched tuples."
   ]
  },
  {
   "cell_type": "code",
   "execution_count": 37,
   "metadata": {},
   "outputs": [],
   "source": [
    "-- DOES NOT WORK WITH H2!\n",
    "-- SELECT * \n",
    "-- FROM student INNER JOIN takes USING (studentId);\n",
    "\n",
    "SELECT student.name, takes.courseId\n",
    "FROM student INNER JOIN takes\n",
    "    ON student.studentId = takes.studentId;"
   ]
  },
  {
   "cell_type": "markdown",
   "metadata": {},
   "source": [
    "#### Outer Joins\n",
    "\n",
    "- The **`LEFT OUTER JOIN`** preserves tuples only in the relation left of the *left outer join* operation.\n",
    "- The **`RIGHT OUTER JOIN`** preserves tuples only in the relation right of the *left outer join* operation.\n",
    "- The **`FULL OUTER JOIN`** preserves tuples in both relations."
   ]
  },
  {
   "cell_type": "code",
   "execution_count": 38,
   "metadata": {},
   "outputs": [],
   "source": [
    "SELECT student.name, takes.courseId\n",
    "FROM student LEFT OUTER JOIN takes\n",
    "    ON student.studentId = takes.studentId;\n",
    "    \n",
    "SELECT student.name, takes.courseId\n",
    "FROM student RIGHT OUTER JOIN takes\n",
    "    ON student.studentId = takes.studentId;\n",
    "    \n",
    "-- DOES NOT WORK WITH H2!\n",
    "-- SELECT student.name, takes.courseId\n",
    "-- FROM student FULL OUTER JOIN takes\n",
    "--     ON student.studentId = takes.studentId;"
   ]
  },
  {
   "cell_type": "markdown",
   "metadata": {},
   "source": [
    "## Chapter 6: Formal Relational Query Languages"
   ]
  },
  {
   "cell_type": "markdown",
   "metadata": {},
   "source": [
    "### 6.1 The Relational Algebra"
   ]
  },
  {
   "cell_type": "markdown",
   "metadata": {},
   "source": [
    "#### Assignment Operation\n",
    "\n",
    "- **Notation**: $tempVariable \\gets expression$\n",
    "- **Definition**: Assigns a relational-algebra expression into a temporary relation variable."
   ]
  },
  {
   "cell_type": "markdown",
   "metadata": {},
   "source": [
    "#### Select Operation\n",
    "\n",
    "- **Notation**: $\\sigma_{predicate}(r)$\n",
    "    - *And*: $\\wedge$\n",
    "    - *Or*: $\\vee$\n",
    "    - *Not*: $\\neg$\n",
    "- **Definition**: Return rows of the input relation that satisfy the predicate.\n",
    "$$\\sigma_{p}(r) = \\left\\{ t \\mid t \\in r \\wedge p(t) \\right\\}$$\n",
    "- **Example**: *What are all the instructors who are in the Physics department?*\n",
    "$$\\sigma_{deptName = 'Physics'}(instructor)$$"
   ]
  },
  {
   "cell_type": "markdown",
   "metadata": {},
   "source": [
    "#### Project Operation\n",
    "\n",
    "- **Notation**: $\\prod_{attribute_1, attribute_2, ..., attribute_k}(r)$\n",
    "- **Definition**: Output specfied attributes from all rows of the input relation. Remove duplicate tuples from the output.\n",
    "- **Example**: *What are the IDs, names, and salaries of all instructors?*\n",
    "$$\\prod_{instructorId, name, salary}(instructor)$$"
   ]
  },
  {
   "cell_type": "markdown",
   "metadata": {},
   "source": [
    "#### Union Operation\n",
    "\n",
    "- **Notation**: $r \\cup s$\n",
    "- **Definition**: Output the union of tuples from the two input relations.\n",
    "$$r \\cup s = \\left\\{ t \\mid t \\in r \\vee t \\in s \\right\\}$$\n",
    "- **Example**: *What are all the courses that are taught in Fall 2009 or in Spring 2010, or in both?*\n",
    "$$\\prod_{courseId}\\left( \\sigma_{semester = 'Fall' \\wedge year = 2009}(section) \\right) \\cup \\prod_{courseId}\\left( \\sigma_{semester = 'Spring' \\wedge year = 2010}(section) \\right)$$"
   ]
  },
  {
   "cell_type": "markdown",
   "metadata": {},
   "source": [
    "#### Set Difference Operation\n",
    "\n",
    "- **Notation**: $r - s$\n",
    "- **Definition**: Output the tuples that are contained in the first relation but not in the second relation.\n",
    "$$r - s = \\left\\{ t \\mid t \\in r \\wedge t \\notin s \\right\\}$$\n",
    "- **Example**: *What are all the courses that are taught in Fall 2009 but not in Spring 2010?*\n",
    "$$\\prod_{courseId}\\left( \\sigma_{semester = 'Fall' \\wedge year = 2009}(section) \\right) - \\prod_{courseId}\\left( \\sigma_{semester = 'Spring' \\wedge year = 2010}(section) \\right)$$"
   ]
  },
  {
   "cell_type": "markdown",
   "metadata": {},
   "source": [
    "#### Cartesian Product Operation\n",
    "\n",
    "- **Notation**: $r \\times s$\n",
    "- **Definition**: Output all pairs of rows from the two input relations.\n",
    "$$r \\times s = \\left\\{ tq \\mid t \\in r \\wedge q \\in s \\right\\}$$\n",
    "- **Example**: *What are all the courses that all the instructors who are in the Physics department teach?*\n",
    "$$I \\gets instructor$$\n",
    "$$T \\gets teaches$$\n",
    "$$\\prod_{name, courseId}\\left( \\sigma_{I.instructorId = T.instructorId}\\left( \\sigma_{deptName = 'Physics'}(I \\times T) \\right) \\right)$$"
   ]
  },
  {
   "cell_type": "markdown",
   "metadata": {},
   "source": [
    "#### Rename Operation\n",
    "\n",
    "- **Notation**: $\\rho_{relation(attribute_1, attribute_2, ..., attribute_k)}(r)$\n",
    "- **Definition**: Output the relation with a new relation name and a set of new attribute names. \n",
    "- **Example**: *What is the largest salary in the university?*\n",
    "$$\\prod_{salary} - \\prod_{instructor.salary}\\left( \\sigma_{instructor.salary < d.salary}\\left( instructor \\times \\rho_d(instructor) \\right) \\right)$$"
   ]
  },
  {
   "cell_type": "markdown",
   "metadata": {},
   "source": [
    "#### Set Intersection Operation\n",
    "\n",
    "- **Notation**: $r \\cap s$\n",
    "- **Definition**: Output the tuples that are contained in the first relation and in the second relation.\n",
    "$$r \\cap s = r - (r - s)$$\n",
    "- **Example**: *What are all the courses that are taught in Fall 2009 and in Spring 2010?*\n",
    "$$\\prod_{courseId}\\left( \\sigma_{semester = 'Fall' \\wedge year = 2009}(section) \\right) \\cap \\prod_{courseId}\\left( \\sigma_{semester = 'Spring' \\wedge year = 2010}(section) \\right)$$"
   ]
  },
  {
   "cell_type": "markdown",
   "metadata": {},
   "source": [
    "#### Set Division Operation\n",
    "\n",
    "- **Requirement**: Every attribute of schema $S$ is in schema $R$.\n",
    "- **Notation**: $r \\div s$\n",
    "- **Definition**: Outputs the largest relation $t(R - S)$ such that $t \\times s \\subseteq r$.\n",
    "$$r \\div s = \\prod_{R - S}(r) - \\prod_{R - S}\\left( \\left( \\prod_{R - S}(r) \\times s \\right) - r \\right)$$\n",
    "    - Relation $r \\div s$ is a relation on schema $R - S$.\n",
    "    - A tuple $t$ is in $r \\div s$ if and only if both conditions hold:\n",
    "        1. $t$ is in $\\prod_{R - S}(r)$\n",
    "        2. For every typle $t_s$ in $s$, there is a tuple $t_r$ in $r$ satisfying both of the following:\n",
    "            - $t_r[S] = t_s[S]$\n",
    "            - $t_r[R - S] = t$\n",
    "- **Example**: *What are all the students who have taken all courses in the Biology department?*\n",
    "$$\\prod_{studentId, courseId}(takes) \\div \\prod_{courseId}\\left( \\sigma_{deptName = 'Biology'}(course) \\right)$$\n",
    "\n",
    "##### Advice\n",
    "\n",
    "1. The set division operation is suited to queries that include the phrase \"for all\".\n",
    "2. The set division operation is analogous to the following:\n",
    "    1. Key $r$ by $R - S$ for groups of $t_r[R - S] \\rightarrow g$.\n",
    "    2. Output $t_r[R - S]$ for each $t_r[R - S] \\rightarrow g$ where $s \\subseteq g$."
   ]
  },
  {
   "cell_type": "markdown",
   "metadata": {},
   "source": [
    "#### Natural Join Operation\n",
    "\n",
    "- **Notation**: $r \\Join s$\n",
    "    - *Theta Join*: $\\Join_\\theta$\n",
    "    - *Left Outer Join*: $⟕$\n",
    "    - *Right Outer Join*: $⟖$\n",
    "    - *Full Outer Join*: $⟗$\n",
    "- **Definition**: Output all pairs of rows from the two input relations that have the same value on each of the attributes in $R \\cap S$.\n",
    "$$r \\Join s = \\prod_{r.A, r.B, r.C, r.D, s.E}\\left( \\sigma_{r.B = s.B \\wedge r.D = s.D}(r \\times s) \\right)$$\n",
    "- **Example**: *What are all the names of all instructors in the Physics department and all the courses that they teach?*\n",
    "$$\\prod_{name, title}\\left( \\sigma_{deptName = 'Physics'}(instructor \\Join teaches \\Join course) \\right)$$"
   ]
  },
  {
   "cell_type": "markdown",
   "metadata": {},
   "source": [
    "## Chapter 8: Relational Database Design"
   ]
  },
  {
   "cell_type": "markdown",
   "metadata": {},
   "source": [
    "### 8.1 Features of Good Relational Designs"
   ]
  },
  {
   "cell_type": "markdown",
   "metadata": {},
   "source": [
    "#### Bad Relational Database Design\n",
    "\n",
    "##### Repetition of Information\n",
    "\n",
    "- A condition where the values of one attribute are determined by the values of another attribute in the same relation, and both values are repeated throughout the relation.\n",
    "- **Problem**: Increases the storage required for the relation.\n",
    "- **Problem**: Makes updating the relation more difficult.\n",
    "\n",
    "##### Inability to Represent Information\n",
    "\n",
    "- A condition where a relationship exists among only a proper subset of the attributes in a relation.\n",
    "- **Problem**: All the unrelated attributes must be filled with null values otherwise a tuple without the unrelated information cannot be inserted into the relation.\n",
    "\n",
    "##### Loss of Information\n",
    "\n",
    "- A condition which results from the decomposition of one relation into two relations and which cannot be combined to recreate the original relation.\n",
    "- **Problem**: Certain queries cannot be answered using the reconstructed relation that could have been answered using the original relation."
   ]
  },
  {
   "cell_type": "markdown",
   "metadata": {},
   "source": [
    "#### Lossless-Join Decomposition\n",
    "\n",
    "- A decomposition of relational schema $R$ into relational schemas $R_1$ and $R_2$ such that for every instance $r(R)$ corresponding with instances $r_1(R_1)$ and $r_2(R_2)$, $r = r_1 \\Join r_2$ holds.\n",
    "- A decomposition $\\{ R_1, R_2 \\}$ is a lossless-join decomposition if $R_1 \\cap R_2 \\rightarrow R_1$ or $R_1 \\cap R_2 \\rightarrow R_2$."
   ]
  },
  {
   "cell_type": "markdown",
   "metadata": {},
   "source": [
    "### 8.2 Atomic Domains and First Normal Form"
   ]
  },
  {
   "cell_type": "markdown",
   "metadata": {},
   "source": [
    "- A domain is **atomic** if elements of the domain are considered to be indivisible units.\n",
    "- A relation schema $R$ is in **first normal form** (1NF) if the domains of all attributes of $R$ are atomic."
   ]
  },
  {
   "cell_type": "markdown",
   "metadata": {},
   "source": [
    "### 8.3 Decomposition Using Functional Dependencies"
   ]
  },
  {
   "cell_type": "markdown",
   "metadata": {},
   "source": [
    "#### Legal Instance and Superkey\n",
    "\n",
    "- A **legal instance** is an instance of a relation that satisfies all such real-world constraints.\n",
    "- A **superkey** $K$ of $r(R)$ is a subset of $R$ if, in any legal instance of $r(R)$, for all pairs $t_1$ and $t_2$ of tuples in the instance of $r$ if $t_1 \\neq t_2$, then $t_1[K] \\neq t_2[K]$."
   ]
  },
  {
   "cell_type": "markdown",
   "metadata": {},
   "source": [
    "#### Definition of Functional Dependency\n",
    "\n",
    "- A **functional dependency** expresses constraints that uniquely identify the values of certain attributes.\n",
    "$$\\alpha \\rightarrow \\beta$$\n",
    "- Given an instance of $r(R)$, the instance **satisfies** the functional dependency $\\alpha \\rightarrow \\beta$ if for all pairs of tuples $t_1$ and $t_2$ in the instance such that $t_1[\\alpha]$ and $t_2[\\alpha]$, it is also the case that $t_1[\\beta]$ and $t_2[\\beta]$.\n",
    "- The functional dependency $\\alpha \\rightarrow \\beta$ **holds** on schema $r(R)$ if, in every legal instance of $r(R)$ it satisfies the functional dependency.\n",
    "- A functional dependency is **trivial** if it is satisfied by all instances of a relation.\n",
    "    - If $\\beta \\subseteq \\alpha$, then $\\alpha \\rightarrow \\beta$ is trivial."
   ]
  },
  {
   "cell_type": "markdown",
   "metadata": {},
   "source": [
    "#### Uses of Functional Dependencies\n",
    "\n",
    "1. Test relations to see if they are legal under a given set of functional dependencies.\n",
    "2. Specify constraints on the set of legal relations."
   ]
  },
  {
   "cell_type": "markdown",
   "metadata": {},
   "source": [
    "#### Closure of a Set of Functional Dependencies\n",
    "\n",
    "- Given a relational schema $r(R)$, a functional dependency $f$ on $R$ is **logically implied** by a set of functional dependencies $F$ on $r$ if every instance of $r(R)$ that satisfies $F$ also satisfies $f$.\n",
    "- The **closure** of $F$, denoted $F^+$, is the set of all functional dependencies logically implied by $F$."
   ]
  },
  {
   "cell_type": "markdown",
   "metadata": {},
   "source": [
    "#### Dependency Preservation\n",
    "\n",
    "- A decomposition is **dependency preserving** if and only if $(F_1 \\cup F_2 \\cup ... \\cup F_n)^+ = F^+$."
   ]
  },
  {
   "cell_type": "markdown",
   "metadata": {},
   "source": [
    "#### Boyce-Codd Normal Form\n",
    "\n",
    "- A relation schema $R$ is in **Boyce-Codd normal form** (BCNF) with respect to a set $F$ of functional dependencies if for every dependency $\\alpha \\rightarrow \\beta$ in $F^+$ such that $\\alpha, \\beta \\subseteq R$, at least one of the following holds:\n",
    "    - $\\alpha \\rightarrow \\beta$ is trivial.\n",
    "    - $\\alpha$ is a superkey for $R$."
   ]
  },
  {
   "cell_type": "markdown",
   "metadata": {},
   "source": [
    "#### Third Normal Form\n",
    "\n",
    "- A relation schema $R$ is in **third normal form** (3NF) with respect to a set $F$ of functional dependencies if for every dependency $\\alpha \\rightarrow \\beta$ in $F^+$ such that $\\alpha, \\beta \\subseteq R$, at least one of the following holds\n",
    "    - $\\alpha \\rightarrow \\beta$ is trivial.\n",
    "    - $\\alpha$ is a superkey for $R$.\n",
    "    - Each attribute $B$ in $\\beta - \\alpha$ is contained in a candidate key for $R$."
   ]
  },
  {
   "cell_type": "markdown",
   "metadata": {},
   "source": [
    "#### Second Normal Form\n",
    "\n",
    "- A **non-prime attribute** of a relation schema $R$ is an attribute that is not a part of any candidate key of $R$.\n",
    "- A relation schema $R$ is in **second normal form** (2NF) with respect to a set $F$ of functional dependencies if:\n",
    "    - $R$ is in 1NF.\n",
    "    - $R$ depends on the whole of every candidate key.\n",
    "- If every candidate key in $R$ has only one attribute, then $R$ is automatically in 2NF."
   ]
  },
  {
   "cell_type": "markdown",
   "metadata": {},
   "source": [
    "### 8.4 Functional-Dependency Theory"
   ]
  },
  {
   "cell_type": "markdown",
   "metadata": {},
   "source": [
    "#### Armstrong's Axioms\n",
    "\n",
    "- **Reflexivity**: If $\\beta \\subseteq \\alpha$, then $\\alpha \\rightarrow \\beta$.\n",
    "- **Augmentation**: If $\\alpha \\rightarrow \\beta$, then $\\gamma\\alpha \\rightarrow \\gamma\\beta$.\n",
    "- **Transitivity**: If $\\alpha \\rightarrow \\beta$ and $\\beta \\rightarrow \\gamma$, then $\\alpha \\rightarrow \\gamma$."
   ]
  },
  {
   "cell_type": "markdown",
   "metadata": {},
   "source": [
    "#### Additional Inference Rules\n",
    "\n",
    "- **Union**: If $\\alpha \\rightarrow \\beta$ and $\\alpha \\rightarrow \\gamma$, then $\\alpha \\rightarrow \\beta\\gamma$.\n",
    "- **Decomposition**: If $\\alpha \\rightarrow \\beta\\gamma$, then $\\alpha \\rightarrow \\beta$ and $\\alpha \\rightarrow \\gamma$.\n",
    "- **Pseudotransitivity**: If $\\alpha \\rightarrow \\beta$ and $\\gamma\\beta \\rightarrow \\delta$, then $\\gamma\\alpha \\rightarrow \\delta$."
   ]
  },
  {
   "cell_type": "markdown",
   "metadata": {},
   "source": [
    "#### Computing $F^+$\n",
    "\n",
    "![Computing $F^+$](images/Figure_8_7.png)"
   ]
  },
  {
   "cell_type": "markdown",
   "metadata": {},
   "source": [
    "#### Closure of Attribute Sets\n",
    "\n",
    "- Given a set of attributes $\\alpha$, the **closure** of $\\alpha$ under $F$, denoted $\\alpha^+$, is the set of attributes that are functionally determined by $\\alpha$ under $F$."
   ]
  },
  {
   "cell_type": "markdown",
   "metadata": {},
   "source": [
    "#### Uses of Attribute Set Closure\n",
    "\n",
    "1. Test whether $\\alpha$ is a superkey of $R$ by computing $\\alpha^+$ and checking that $\\alpha^+$ contains all attributes of $R$.\n",
    "2. Test whether a functional dependency $\\alpha \\rightarrow \\beta$ holds on $R$, compute $\\alpha^+$ and check that $\\beta \\subseteq \\alpha^+$.\n",
    "3. Computing $F^+$:\n",
    "    1. For each $\\gamma \\subseteq R$,\n",
    "        1. Find the closure $\\gamma^+$.\n",
    "        2. For each $S \\subseteq \\gamma^+$, output the functional dependency $\\gamma \\rightarrow S$."
   ]
  },
  {
   "cell_type": "markdown",
   "metadata": {},
   "source": [
    "#### Computing $\\alpha^+$\n",
    "\n",
    "![Computing $\\alpha^+$](images/Figure_8_8.png)"
   ]
  },
  {
   "cell_type": "markdown",
   "metadata": {},
   "source": [
    "#### Canonical Cover\n",
    "\n",
    "- A **canonical cover** of $F$ is a minimal set of functional dependencies equivalent to $F$, having no redundant dependencies."
   ]
  },
  {
   "attachments": {},
   "cell_type": "markdown",
   "metadata": {},
   "source": [
    "#### Extraneous Attributes\n",
    "\n",
    "- Given a set $F$ of functional dependencies and a functional dependency $\\alpha \\rightarrow \\beta$ in $F$,\n",
    "- Attribute $A$ is **extraneous** in $\\alpha$ if $A \\in \\alpha$ and $F$ logically implies $\\left( F - \\{ \\alpha \\rightarrow \\beta \\} \\right) \\cup \\left\\{ (\\alpha - A) \\rightarrow \\beta \\right\\}$.\n",
    "    - Compute $(\\{ \\alpha \\} - A)^+$ using the functional dependencies in $F$.\n",
    "    - $A$ is extraneous in $\\alpha$ if and only if $(\\{ \\alpha \\} - A)^+$ contains $\\beta$.\n",
    "- Attribute $B$ is **extraneous** in $\\beta$ if $B \\in \\beta$ and $\\left( F - \\{ \\alpha \\rightarrow \\beta \\} \\right) \\cup \\left\\{ \\alpha \\rightarrow (\\beta - B) \\right\\}$ logically implies $F$.\n",
    "    - Compute $\\alpha^+$ using the functional dependencies in $\\left( F - \\{ \\alpha \\rightarrow \\beta \\} \\right) \\cup \\left\\{ \\alpha \\rightarrow (\\beta - B) \\right\\}$.\n",
    "    - $B$ is extraneous in $\\beta$ if and only if $\\alpha^+$ contains $B$."
   ]
  },
  {
   "cell_type": "markdown",
   "metadata": {},
   "source": [
    "#### Computing $F^C$\n",
    "\n",
    "![Computing $F^C$](images/Figure_8_9.png)"
   ]
  },
  {
   "cell_type": "markdown",
   "metadata": {},
   "source": [
    "### 8.5 Algorithms for Decomposition"
   ]
  },
  {
   "cell_type": "markdown",
   "metadata": {},
   "source": [
    "#### General Test for BCNF\n",
    "\n",
    "1. Given a relation schema $R$ and a set of functional dependencies $F$,\n",
    "2. Compute attribute closures for all subsets of attributes of $R$ with respect to $F$.\n",
    "3. Examine the attribute closures and look for a dependency $\\alpha \\rightarrow \\beta$ that violates BCNF.\n",
    "4. If no such dependency exists, then conclude that $R$ is in BCNF."
   ]
  },
  {
   "cell_type": "markdown",
   "metadata": {},
   "source": [
    "#### Alternative Test for BCNF\n",
    "\n",
    "1. If $F$ is a set of functional dependencies over **ONLY** the attributes of $R$,\n",
    "2. Examine each functional dependency $\\alpha \\rightarrow \\beta$ and check whether that violates BCNF."
   ]
  },
  {
   "cell_type": "markdown",
   "metadata": {},
   "source": [
    "#### BCNF Decomposition\n",
    "\n",
    "![BCNF Decomposition](images/Figure_8_11.png)"
   ]
  },
  {
   "attachments": {},
   "cell_type": "markdown",
   "metadata": {},
   "source": [
    "#### General Test for 3NF\n",
    "\n",
    "1. Given a relation schema $R$ and a set of functional dependencies $F$,\n",
    "2. Compute attribute closures for all subsets of attributes of $R$ with respect to $F$.\n",
    "3. Identify all candidate keys.\n",
    "4. Examine the attribute closures and look for a dependency $\\alpha \\rightarrow \\beta$ that violates 3NF.\n",
    "5. If no such dependency exists, then conclude that $R$ is in 3NF."
   ]
  },
  {
   "cell_type": "markdown",
   "metadata": {},
   "source": [
    "#### Alternative Test for 3NF\n",
    "\n",
    "1. If $F$ is a set of functional dependencies over **ONLY** the attributes of $R$,\n",
    "2. Identify all candidate keys.\n",
    "3. Examine each functional dependency $\\alpha \\rightarrow \\beta$ and check whether that violates 3NF."
   ]
  },
  {
   "cell_type": "markdown",
   "metadata": {},
   "source": [
    "#### 3NF Decomposition\n",
    "\n",
    "![3NF Decomposition](images/Figure_8_12.png)"
   ]
  },
  {
   "cell_type": "markdown",
   "metadata": {},
   "source": [
    "## Chapter 10: Storage and File Structure"
   ]
  },
  {
   "cell_type": "markdown",
   "metadata": {},
   "source": [
    "### 10.1 Overview of Physical Storage Media"
   ]
  },
  {
   "cell_type": "markdown",
   "metadata": {},
   "source": [
    "#### Storage Device Hierarchy\n",
    "\n",
    "1. Cache\n",
    "2. Main Memory\n",
    "3. Flash Memory\n",
    "4. Magnetic-Disk Storage\n",
    "5. Optical Storage\n",
    "6. Tape Storage"
   ]
  },
  {
   "cell_type": "markdown",
   "metadata": {},
   "source": [
    "#### Storage Types\n",
    "\n",
    "- **Primary Storage**: Cache, Main Memory\n",
    "- **Secondary Storage** (*Online Storage*): Flash Memory, Magnetic-Disk Storage\n",
    "- **Tertiary Storage** (*Offline Storage*): Optical Storage, Tape Storage\n",
    "- **Volatile Storage**: Losses Data without Power\n",
    "- **Nonvolatile Storage**: Preserves Data without Power"
   ]
  },
  {
   "cell_type": "markdown",
   "metadata": {},
   "source": [
    "### 10.2 Magnetic Disk and Flash Storage"
   ]
  },
  {
   "cell_type": "markdown",
   "metadata": {},
   "source": [
    "#### Magnetic Disk\n",
    "\n",
    "![Magnetic Disk](images/Figure_10_2.png)"
   ]
  },
  {
   "cell_type": "markdown",
   "metadata": {},
   "source": [
    "#### Performance Measures of Disks\n",
    "\n",
    "- **Access Time**: Time from when a read or write request is issued to when data transfer begins.\n",
    "- **Seek Time**: Time for repositioning the arm.\n",
    "- **Rotational Latency Time**: Time spent waiting for the sector to be accessed to appear under the head.\n",
    "- **Average Latency Time**: One-half the time for a full rotation of the disk.\n",
    "- **Data-Transfer Rate**: Rate at which data can be retrieved from or stored to the disk.\n",
    "- **Mean Time to Failure** (*MTTF*): Average time expected of the system to run continuously without any failure."
   ]
  },
  {
   "cell_type": "markdown",
   "metadata": {},
   "source": [
    "#### Optimization of Disk-Block Access\n",
    "\n",
    "- **Block**: A logical unit consisting of a fixed number of contiguous sectors, typically ~KBs.\n",
    "- **Sequential Access**: Successive Requests for Successive Block.\n",
    "    - $1 \\times Seek Time + N \\times Transfer Time$\n",
    "- **Random Access**: Successive Requests for Random Blocks.\n",
    "    - $N \\times Seek Time + N \\times Transfer Time$\n",
    "\n",
    "##### Techniques\n",
    "\n",
    "- Buffering\n",
    "- Read-Ahead\n",
    "- Disk-Arm-Scheduling Algorithms (Elevator Algorithm)\n",
    "- File Organization & Fragmentation\n",
    "- Nonvolatile Write Buffers (NVRAM)\n",
    "- Log Disk (Journaling File Systems)"
   ]
  },
  {
   "cell_type": "markdown",
   "metadata": {},
   "source": [
    "### 10.3 RAID"
   ]
  },
  {
   "cell_type": "markdown",
   "metadata": {},
   "source": [
    "- **RAID**: Redundant Arrays of Independent Disks"
   ]
  },
  {
   "cell_type": "markdown",
   "metadata": {},
   "source": [
    "#### Improvement of Reliability via Redundancy\n",
    "\n",
    "- **Mirroring**: Duplicate Disks"
   ]
  },
  {
   "cell_type": "markdown",
   "metadata": {},
   "source": [
    "#### Improvement in Performance via Parallelism\n",
    "\n",
    "- **Data Striping**: Write Data Across Multiple Disks\n",
    "- **Bit-Level Striping**: Bit $i$ to Disk $i$\n",
    "- **Block-Level Striping** Block $i$ to Disk $(i \\mod n) + 1$"
   ]
  },
  {
   "cell_type": "markdown",
   "metadata": {},
   "source": [
    "#### RAID Levels\n",
    "\n",
    "- **RAID Level 5**\n",
    "    - *Small Write Performance*: $\\frac{N}{N - 1} \\times$\n",
    "    - *Large Write Performance*: $(N - 1) \\times$\n",
    "    - *Small Read Performance*: $N \\times$\n",
    "    - *Large Read Performance*: $(N - 1) \\times$\n",
    "- **RAID Level 10**: RAID Level 1 + RAID Level 0\n",
    "    - *Write Performance*: $\\frac{N}{2} \\times$\n",
    "    - *Read Performance*: $N \\times$\n",
    "\n",
    "![RAID Levels](images/Figure_10_3.png)"
   ]
  },
  {
   "cell_type": "markdown",
   "metadata": {},
   "source": [
    "### 10.5 File Organization"
   ]
  },
  {
   "cell_type": "markdown",
   "metadata": {},
   "source": [
    "- **File**: Sequence of Records\n",
    "- **Block**: $\\text{File} \\rightarrow \\text{Fixed-Length Blocks}$"
   ]
  },
  {
   "cell_type": "markdown",
   "metadata": {},
   "source": [
    "#### Fixed-Length Records\n",
    "\n",
    "- Record $i$ to Bytes $n \\times (i - 1)$\n",
    "- **File Header**: Stores Address of First Deleted Record\n",
    "- **Free List**: Deleted Record $i$ $\\rightarrow$ Deleted Record $(i + 1)$"
   ]
  },
  {
   "cell_type": "markdown",
   "metadata": {},
   "source": [
    "#### Variable-Length Records\n",
    "\n",
    "- **Record** = &lt; Fixed Length Attributes, **Null Bitmap**, Variable Length Attributes &gt;\n",
    "    - *Variable Length Attributes*: Fixed Size (Offset, Length)\n",
    "- **Slotted-Page Structure**: Organizes Variable-Length Records via Header:\n",
    "    1. Number of Record Entries\n",
    "    2. End of Free Space in Block\n",
    "    3. Location & Size of Each Record"
   ]
  },
  {
   "cell_type": "markdown",
   "metadata": {},
   "source": [
    "### 10.6 Organization of Records in Files"
   ]
  },
  {
   "cell_type": "markdown",
   "metadata": {},
   "source": [
    "- **Heap File Organization**: Any record can be placed anywhere in the file where there is space for the record. There is no ordering of records.\n",
    "- **Sequential File Organization**: Records are stored in sequential order, according to the value of a \"search key\" of each record.\n",
    "- **Hashing File Organization**: A hash function is computed on some attribute of each record. The result of the hash function specifies in which block of the file the record should be placed.\n",
    "- **Multitable Clustering File Organization**: Records of several different relations are stored in the same file; further, related records of the different relations are stored on the same block, so that one I/O operation fetches related records from all the relations."
   ]
  },
  {
   "cell_type": "markdown",
   "metadata": {},
   "source": [
    "#### Sequential File Organization\n",
    "\n",
    "- **Search Key**: Any set of attributes by which a sequential file is sorted.\n",
    "- **Insertion**:\n",
    "    1. Locate the position where the record is to be inserted.\n",
    "        1. If free space, insert.\n",
    "        2. If no free space, insert into an **overflow block**.\n",
    "    2. Update the pointer chain.\n",
    "- **Deletion**: Pointer Chains"
   ]
  },
  {
   "cell_type": "markdown",
   "metadata": {},
   "source": [
    "### 10.7 Data-Dictionary Storage"
   ]
  },
  {
   "cell_type": "markdown",
   "metadata": {},
   "source": [
    "- The **data dictionary** (**system catalog**) keeps track of **metadata**, that is data about data, such as relation names, attribute names and types, storage information, integrity constraints, and user information."
   ]
  },
  {
   "cell_type": "markdown",
   "metadata": {},
   "source": [
    "### 10.8 Database Buffer"
   ]
  },
  {
   "cell_type": "markdown",
   "metadata": {},
   "source": [
    "- **Buffer**: A part of main memory available for storage of copies of disk blocks.\n",
    "- **Buffer Manager**: Subsystem responsible for the allocation of buffer space."
   ]
  },
  {
   "cell_type": "markdown",
   "metadata": {},
   "source": [
    "#### Buffer Manager\n",
    "\n",
    "- *Buffer Replacement Strategy*:\n",
    "    - Least Recently Used (LRU) for Sorting\n",
    "    - Most Recently Used (MRU) for Nested-Loop Joins\n",
    "- *Pinned Blocks*: No Write-Back During Updates\n",
    "- *Forced Output of Block*: Write-Back for Resiliency"
   ]
  }
 ],
 "metadata": {
  "kernelspec": {
   "display_name": "SQL",
   "language": "SQL",
   "name": "sql"
  },
  "language_info": {
   "codemirror_mode": "sql",
   "file_extension": ".sql",
   "mimetype": "",
   "name": "SQL",
   "nbconverter_exporter": "",
   "version": ""
  }
 },
 "nbformat": 4,
 "nbformat_minor": 2
}
