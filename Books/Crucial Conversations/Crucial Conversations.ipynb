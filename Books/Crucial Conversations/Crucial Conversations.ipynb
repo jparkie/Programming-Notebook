{
 "cells": [
  {
   "cell_type": "markdown",
   "metadata": {},
   "source": [
    "# Crucial Conversations"
   ]
  },
  {
   "cell_type": "markdown",
   "metadata": {},
   "source": [
    "*Authors: Kerry Patterson, Joseph Grenny, Ron McMillan, and Al Switzler*"
   ]
  },
  {
   "cell_type": "markdown",
   "metadata": {},
   "source": [
    "**ISBN: 978-0-7-177132-0**"
   ]
  },
  {
   "cell_type": "markdown",
   "metadata": {},
   "source": [
    "## What's a Crucial Conversation? - And Who Cares?"
   ]
  },
  {
   "cell_type": "markdown",
   "metadata": {},
   "source": [
    "> The single biggest problem in communication is the illusion that it has taken place. - George Bernard Shaw\n",
    "\n",
    "- A **crucial conversation** is a discussion between two or more people in which the following are true.\n",
    "    1. The opinions vary.\n",
    "    2. The stakes are high.\n",
    "    3. The emotions are strong."
   ]
  },
  {
   "cell_type": "markdown",
   "metadata": {},
   "source": [
    "### How Do We Typically Handle Crucial Conversations?\n",
    "\n",
    "1. We can avoid crucial conversations.\n",
    "2. We can face crucial conversations and handle them poorly.\n",
    "3. We can face crucial conversations and handle them well.\n",
    "\n",
    "#### When It Matters Most, We Do Out Worst\n",
    "\n",
    "1. Physiologically, the adrenal glands initiate a fight or flight response.\n",
    "2. Physiologically, the body prepares for the fight or flight response by diverting blood away from the logical parts of the body (i.e., the brain) to the physical parts of the body (i.e., the arms and the legs).\n",
    "3. Frequently, crucial conversations are spontaneous, so people enter them without preparation for success.\n",
    "4. Generally, people lack the knowledge and the skills necessary to engage in effective communication."
   ]
  },
  {
   "cell_type": "markdown",
   "metadata": {},
   "source": [
    "### Our Audacious Claim\n",
    "\n",
    "#### The Law of Crucial Conversations\n",
    "\n",
    "> At the heart of almost all chronic problems in our organizations, our teams, and our relationships lie crucial conversations - ones that we're either not holding or not holding well. Twenty years of research involving more than 100,000 people reveals that the key skill of effective leaders, teammates, parents, and loved ones is the capacity to skillfully address emotionally and politically risky issues.\n",
    "\n",
    "#### Improve Your Career/Organization/Relationships/Personal Health\n",
    "\n",
    "1. Crucial conversations allow people to be both effective and honest in their careers to gain influence.\n",
    "2. Crucial conversations allow people to be accountable to the success of organizational processes.\n",
    "3. Crucial conversations allow people to communicate more effectively in their relationships, instead of silently fuming or verbally threatening.\n",
    "4. Crucial conversations allow people to resolves problems before chronic psychological stress deteriorates their personal health."
   ]
  },
  {
   "cell_type": "markdown",
   "metadata": {},
   "source": [
    "## Mastering Crucial Conversations - The Power of Dialogue"
   ]
  },
  {
   "cell_type": "markdown",
   "metadata": {},
   "source": [
    "> Our lives begin to end the day we become silent about things that matter. - Martin Luther King Jr.\n",
    "\n",
    "- **Fool's Choice**: The misconception that in a crucial conversation that one must choose between maintaining honesty and maintaining relationships."
   ]
  },
  {
   "cell_type": "markdown",
   "metadata": {},
   "source": [
    "### Dialogue\n",
    "\n",
    "- **Dialogue** is the free flow of meaning between two or more people.\n",
    "\n",
    "#### Filling the Pool of Shared Meaning\n",
    "\n",
    "1. Everyone participates in a crucial conversation with their own individual opinions, facts, and feelings as their motivations.\n",
    "2. Effective dialogue creates conditions for everyone to feel safe in contributing their own meanings to a shared pool regardless of controversies and conflicts.\n",
    "3. Filling the **pool of shared meaning** improves the quality of actions stemming from the crucial conversation by exposing everyone to more accurate and relevant information."
   ]
  },
  {
   "cell_type": "markdown",
   "metadata": {},
   "source": [
    "## Start with Heart - How to Stay Focused on What You Really Want"
   ]
  },
  {
   "cell_type": "markdown",
   "metadata": {},
   "source": [
    "> Speak when you are angry and you will make the best speech you will ever regret. - Ambrose Bierce"
   ]
  },
  {
   "cell_type": "markdown",
   "metadata": {},
   "source": [
    "### Work on Me First, Us Second\n",
    "\n",
    "1. Frequently, it is everyone participating in the crucial conversation, instead of just others, that contribute to the conflict between everyone.\n",
    "2. Although you may want others to change, the only person that you can actually guarantee change is yourself.\n",
    "3. Thus, the best way to work on \"us\" is to start with \"me\"."
   ]
  },
  {
   "cell_type": "markdown",
   "metadata": {},
   "source": [
    "### Focus on What You Really Want\n",
    "\n",
    "1. When you find yourself moving towards *silence* or *violence*, stop and pay attention to your motives.\n",
    "2. Ask yourself: \"What does my behavior tell me about what my motives are?\"\n",
    "    1. *Winning* is not a healthy motive.\n",
    "    2. *Punishing* is not a healthy motive.\n",
    "    3. *Maintaining Status Quo* is not a healthy motive.\n",
    "3. Then, clarify what you really want. Ask yourself: \"What do I want for myself? For others? For the relationship?\"\n",
    "4. And finally, ask: \"How would I behave if this were what I really wanted?\"\n",
    "5. Until you have answered the respective questions, do not proceed with the crucial conversation until you established your focus.\n",
    "    a. Focusing provides a moment to relax.\n",
    "    b. Focusing provides a moment for the body to direct more blood back to the brain to solve these complex questions."
   ]
  },
  {
   "cell_type": "markdown",
   "metadata": {},
   "source": [
    "### Refuse the Fool's Choice\n",
    "\n",
    "1. As you consider what you want, notice when you start talking yourself into a Fool's Choice.\n",
    "2. Watch to see if you're telling yourself that you must choose between peace and honesty, between winning and losing, between right and wrong, and so on.\n",
    "3. Break free of these Fool's Choices by searching for the \"and\".\n",
    "4. Clarify what you don't want, add it to what you do want, and ask your brain to start searching for healthy options to bring you to dialogue."
   ]
  },
  {
   "cell_type": "markdown",
   "metadata": {},
   "source": [
    "## Learn to Look - How to Notice When Safety Is at Risk"
   ]
  },
  {
   "cell_type": "markdown",
   "metadata": {},
   "source": [
    "> I have known a thousand scamps; but I never met one who considered himself so. Self-knowledge isn't so common. - Ouida\n",
    "\n",
    "1. When conversations become crucial, watch the *content* and the *conditions* of the conversation.\n",
    "    1. **Content**: The topic of conversation.\n",
    "    2. **Conditions**: What and why are people doing in response to the conversation.\n",
    "2. If you notice the conditions of the conversation deteriorating, then you focus on restoring safety in dialogue."
   ]
  },
  {
   "cell_type": "markdown",
   "metadata": {},
   "source": [
    "### Watch for Conditions\n",
    "\n",
    "- The following are three conditions to watch in a crucial conversation.\n",
    "    1. The moment a conversation becomes crucial.\n",
    "    2. The signs that people don't feel safe: silence or violence.\n",
    "    3. Your own *Style Under Stress*."
   ]
  },
  {
   "cell_type": "markdown",
   "metadata": {},
   "source": [
    "### Learn to Spot Crucial Conversations\n",
    "\n",
    "1. Notice **Physical Signals**: tight stomach, dry eyes, dry mouth, ....\n",
    "2. Notice **Emotional Signals**: fear, anger, pain, ....\n",
    "3. Notice **Behavioral Signals**: raised voices, pointed fingers, crossed arms, tensed muscles, ...."
   ]
  },
  {
   "cell_type": "markdown",
   "metadata": {},
   "source": [
    "### Learn to Look for Safety Problems\n",
    "\n",
    "1. People rarely become defensive simply because of what you're saying; they only become defensive when they no longer feel safe.\n",
    "    1. **Fight**: You may start forcing meaning to the shared pool with *violence* if you fear you're not being respected in the conversation.\n",
    "    2. **Flight**: You may start withholding meaning from the shared pool with *silence* if you fear you're being threatened physically or emotionally in the conversation.\n",
    "2. *When it's safe, then you can say anything.*\n",
    "3. *When it's unsafe, then you start to go blind.*\n",
    "\n",
    "#### Silence\n",
    "\n",
    "- **Silence** is any act to purposefully withhold information from the pool of meaning.\n",
    "    1. **Masking** consists of understating or selectively showing our true opinions.\n",
    "        - e.g., Couching, Sarcasm, Sugarcoating.\n",
    "    2. **Avoiding** involves steering completely away from sensitive subjects. We talk, but without addressing the real issues.\n",
    "    3. **Withdrawing** involves exiting the social conversation or the physical space entirely.\n",
    "\n",
    "#### Violence\n",
    "\n",
    "- **Violence** is any physical and/or verbal strategy that attempts to convince, control, or compel others to your point of view.\n",
    "    1. **Controlling** consists of coercing others to your way of thinking.\n",
    "        - e.g., Forcing your views on others.\n",
    "        - e.g., Dominating the conversation.\n",
    "        - e.g., Cutting others off.\n",
    "        - e.g., Overstating your facts.\n",
    "        - e.g., Speaking in absolutes.\n",
    "        - e.g., Changing subjects.\n",
    "        - e.g., Using directive questions to control the conversation.\n",
    "    2. **Labeling** involves putting a label on people or ideas so we can dismiss them under a general stereotype or category.\n",
    "    3. **Attacking** involves abandoning the conversation to inflict suffering.\n",
    "        - e.g., Belittling, Threatening."
   ]
  },
  {
   "cell_type": "markdown",
   "metadata": {},
   "source": [
    "### Look for Your Style Under Stress\n",
    "\n",
    "- Notice how others react to you; when they react poorly, consider how you are behaving that might be prompting their reactions."
   ]
  },
  {
   "cell_type": "markdown",
   "metadata": {},
   "source": [
    "## Make It Safe - How to Make It Safe to Talk About Almost Anything"
   ]
  },
  {
   "cell_type": "markdown",
   "metadata": {},
   "source": [
    "> A word fitly spoken is like apples of gold in baskets of silver - Proverbs 25:11"
   ]
  },
  {
   "cell_type": "markdown",
   "metadata": {},
   "source": [
    "### Step Out. Make It Safe. Then Step Back In\n",
    "\n",
    "1. When others move to silence of violence, step out of the conversation, and make it safe.\n",
    "2. When safety is restored, go back to the issue at hand and continue the dialogue."
   ]
  },
  {
   "cell_type": "markdown",
   "metadata": {},
   "source": [
    "### Notice Which Condition is at Risk\n",
    "\n",
    "#### Mutual Purpose - The Entrance Condition: Why Talk in The First Place?\n",
    "\n",
    "1. **Mutual Purpose**: The first condition of safety in which others perceive that you're working toward a common outcome in the conversation, that you care about their goals, interests, and values; and vice versa.\n",
    "2. Mutual Purpose is the entrance condition of dialogue; find a shared goal, and you have both a good reason and a healthy climate for talking.\n",
    "3. Ask the following questions to determine when Mutual Purpose is at risk.\n",
    "    1. Do others believe I care about their goals in this conversation?\n",
    "    2. Do they trust my motives?\n",
    "4. *Risk Signs*:\n",
    "    - e.g., Debating, Defensiveness, Hidden Agendas, ....\n",
    "\n",
    "#### Mutual Respect - The Continuance Condition: Will We Be Able to Remain in Dialogue?\n",
    "\n",
    "1. **Mutual Respect**: The second condition of safety in which others perceive that you respect them to feel safe participating in dialogue.\n",
    "2. Mutual Respect is the continuance condition of dialogue; if others feel that they are not respected, then the conversation becomes unsafe, and dialogue halts.\n",
    "3. Ask the following questions to determine when Mutual Respect is at risk.\n",
    "    1. Do others believe I respect them?\n",
    "4. *Risk Signs*:\n",
    "    - e.g., Defending Dignity, Charged Emotions, Pouting, Name-Calling, Yelling, Threatening, ....\n",
    "\n",
    "#### Can You Respect People You Don't Respect?\n",
    "\n",
    "1. Some people fear that they can't maintain Mutual Purpose or Mutual Respect with those that they feel completely different.\n",
    "2. Appeal to other's basic humanity, and sympathize/empathize with others to establish some basis of commonality for dialogue."
   ]
  },
  {
   "cell_type": "markdown",
   "metadata": {},
   "source": [
    "### What to Do Once You Step Out?\n",
    "\n",
    "1. Apologize.\n",
    "2. Contrast.\n",
    "3. Create a Mutual Purpose.\n",
    "\n",
    "#### Apologize when Appropriate\n",
    "\n",
    "1. When you've clearly violated respect, apologize.\n",
    "2. In your apology, acknowledge your mistakes and express your regrets.\n",
    "3. In your apology, clearly indicate that you understand what you did that violated their respect.\n",
    "\n",
    "#### Contrast to Fix Misunderstanding\n",
    "\n",
    "1. When others misinterpret either your purpose or your intent, step out of the argument, and rebuild safety by using **Contrasting**.\n",
    "2. **Contrasing** is a don't/do statement that accomplishes the following:\n",
    "    1. Addresses others' concerns that you **DON'T** respect them or that you have a malicious purpose.\n",
    "    2. Confirms your respect or clarifies your real purpose.\n",
    "3. Contrasting is not apologizing.\n",
    "4. Contrasting provides context and proportion to clarify what you don't and do believe."
   ]
  },
  {
   "cell_type": "markdown",
   "metadata": {},
   "source": [
    "### CRIB to Create a Mutual Purpose\n",
    "\n",
    "1. **Commit to Seek Mutual Purpose**: Make a unilateral public commitment to stay in the conversation until you come up with something that serves everyone.\n",
    "    - \"It seems like we're both trying to force our view on each other. I commit to stay in this discussion until we have a solution that satisfies both of us.\"\n",
    "2. **Recognize the Purpose Behind the Strategy**: Ask people why they want what they're pushing for. Separate what they're demanding from the purpose it serves.\n",
    "3. **Invent a Mutual Purpose**: If after clarifying everyone's purposes you are still at odds, see if you can invent a higher or long-term purpose that is not motivating than the ones that keep you in conflict.\n",
    "4. **Brainstorm New Strategies**: With a clear Mutual Purpose, you can join forces in searching for a solution that serves everyone."
   ]
  },
  {
   "cell_type": "markdown",
   "metadata": {},
   "source": [
    "## Master My Stories - How to Stay in Dialogue When You're Angry, Scared, or Hurt"
   ]
  },
  {
   "cell_type": "markdown",
   "metadata": {},
   "source": [
    "> It's not how you play the game, it's how the game plays you."
   ]
  },
  {
   "cell_type": "markdown",
   "metadata": {},
   "source": [
    "### Emotions Don't Just Happen\n",
    "\n",
    "1. Others are not responsible for how you choose your own emotions.\n",
    "2. Thus, either you choose to act on your own emotions, or you choose to be acted by your own emotions."
   ]
  },
  {
   "cell_type": "markdown",
   "metadata": {},
   "source": [
    "### Stories Create Feelings\n",
    "\n",
    "- **The Path to Action**:\n",
    "    1. **See/Hear**: Situation → Observations.\n",
    "    2. **Tell Story**: Observations → Story Telling.\n",
    "    3. **Feel**: Story Telling → Feelings.\n",
    "    4. **Act**: Feelings → Actions."
   ]
  },
  {
   "cell_type": "markdown",
   "metadata": {},
   "source": [
    "### Our Stories\n",
    "\n",
    "1. Stories are theories used to explain the *whys*, *hows*, and *whats* of a situation that we observe.\n",
    "2. Both consciously and unconsciously, these *whys*, *hows*, and *whats* rationalizes how we will feel to how we will act.\n",
    "3. However, any set of facts can be used to tell an infinite number of stories with different *whys*, *hows*, and *whats* to rationalize different feelings and actions.\n",
    "4. Thus, if we control the stories that we tell ourselves, then we can control how we feel and how we act."
   ]
  },
  {
   "cell_type": "markdown",
   "metadata": {},
   "source": [
    "### Skills for Mastering Our Stories\n",
    "\n",
    "#### Retrace Your Path\n",
    "\n",
    "1. **Act**: Notice your behavior.\n",
    "    - Am I responding with silence or violence?\n",
    "2. **Feel**: Get in touch with your feelings.\n",
    "    - What emotions are influencing me to act this way?\n",
    "        1. e.g., Instead of being angry, are you actually embarrassed and surprised?\n",
    "        2. e.g., Instead of being upset, are you actually humiliated and cheated?\n",
    "3. **Tell Story**: Analyze your stories.\n",
    "    - What story is creating these emotions?\n",
    "        1. Challenge the illusion that what you're feeling is the only correct emotion under the circumstances.\n",
    "        2. Understand that stories are subjective, yet facts are objective, so stories are immutable.\n",
    "4. **See/Hear**: Get back to the facts.\n",
    "    - What evidence do I have to support this story?\n",
    "        1. Separate fact from story by focusing on behavior.\n",
    "        2. Spot the story by watching for emotionally descriptive words.\n",
    "\n",
    "#### Tell the Rest of the Story\n",
    "\n",
    "- We need to avoid stories that are inaccurate but justify our current bad behavior.\n",
    "\n",
    "##### Victim Story Trap\n",
    "\n",
    "1. **Victim Trap**: It's not my fault.\n",
    "    - You refuse to see how you contributed to the problem.\n",
    "2. **Remaining Story**: Turn **VICTIM** into **ACTOR**.\n",
    "    - What did you do or say that contributed to the problem?\n",
    "\n",
    "##### Villain Story Trap\n",
    "\n",
    "1. **Villain Trap**: It's all your fault.\n",
    "    - You overemphasize the other person's guilt.\n",
    "    - You use labels to dehumanize the other person.\n",
    "2. **Remaining Story**: Turn **VILLAIN** into **HUMAN**.\n",
    "    - What would motivate a reasonable, rational, and decent person to do what this person did or said?\n",
    "\n",
    "##### Helpless Story Trap\n",
    "\n",
    "1. **Helpless Trap**: There's nothing else that I can do.\n",
    "    - You claim to be powerless in the situation.\n",
    "    - Sometimes, we are a victim, someone is a villain, and we are helpless; however, that is usually not the case.\n",
    "    - We use those story traps to avoid accepting responsibility for our own actions and feelings.\n",
    "    - When we don't admit our errors, we seek ways to justify them.\n",
    "2. **Remaining Story**: Turn **HELPLESS** into **ABLE**.\n",
    "    - Remind yourself what you want for yourself, others, and the relationship.\n",
    "    - What would you do right now if you really wanted those results?"
   ]
  },
  {
   "cell_type": "markdown",
   "metadata": {},
   "source": [
    "## State My Path - How to Speak Persuasively, Not Abrasively"
   ]
  },
  {
   "cell_type": "markdown",
   "metadata": {},
   "source": [
    "> Outspoken by whom? - Dorothy Parker"
   ]
  },
  {
   "cell_type": "markdown",
   "metadata": {},
   "source": [
    "### Share Risky Meaning\n",
    "\n",
    "- Adding meaning to the pool of meaning can be difficult when the ideas contain controversial, delicate, or unattractive opinions."
   ]
  },
  {
   "cell_type": "markdown",
   "metadata": {},
   "source": [
    "### Maintain Safety\n",
    "\n",
    "- To speak honestly, it is paramount to maintain safety through confidence, humility, and skill.\n",
    "    1. **Confidence**: You need to have confidence to say what needs to be said to the person who needs to hear it.\n",
    "    2. **Humility**: You need to have humility to express your opinions, but to possibly change your opinions when confronted with new information.\n",
    "    3. **Skill**: You need to have skill to find a path that allows for both honesty and safety."
   ]
  },
  {
   "cell_type": "markdown",
   "metadata": {},
   "source": [
    "### State My Path\n",
    "\n",
    "\n",
    "- When you have a tough message to share, or when you are so convinced of your own rightness that you may push too hard, remember to *STATE* your path.\n",
    "\n",
    "\n",
    "1. **Share Your Facts**: Contribute your facts to the shared pool of meaning because facts are the least controversial, the least insulting, and the most persuasive.\n",
    "2. **Tell Your Story**: Although stories are concluded from facts, they are not facts, yet they promote dialogue and empathy regarding your *Path to Action*, so it is important to tell your stories without risking safety.\n",
    "3. **Ask for Other's Paths**: Encourage others to express their facts, stories, and feelings such that the expanding shared pool of meaning can be used to abandon or to reshape your own stories.\n",
    "4. **Talk Tentatively**: Balance *Confidence* and *Humility* to allow others to clarify and to contribute because abrasive communication does not foster effective dialogue.\n",
    "    - e.g., \"Perhaps....\"\n",
    "    - e.g., \"I was wondering if....\"\n",
    "    - e.g., \"It appears to me that....\"\n",
    "5. **Encourage Testing**: You can only argue your own opinions as vigorously as you encourage testing of those opinions. Thus, invite opposing views, and play the devil's advocate to persuasively encourage others into dialogue.\n",
    "    - e.g., \"Does anyone see it differently?\"\n",
    "    - e.g., \"What am I missing here?\"\n",
    "    - e.g., \"What if the opposite is true?\""
   ]
  },
  {
   "cell_type": "markdown",
   "metadata": {},
   "source": [
    "## Explore Other's Paths - How to Listen When Others Blow Up or Clam Up"
   ]
  },
  {
   "cell_type": "markdown",
   "metadata": {},
   "source": [
    "> One of the best ways to persuade others is with your ears - by listening to them. - Dean Rusk"
   ]
  },
  {
   "cell_type": "markdown",
   "metadata": {},
   "source": [
    "### Explore Other's Paths\n",
    "\n",
    "1. Be Sincere.\n",
    "2. Be Curious.\n",
    "3. Be Patient."
   ]
  },
  {
   "cell_type": "markdown",
   "metadata": {},
   "source": [
    "### Ask, Mirror, Paraphrase, or Prime (AMPP)\n",
    "\n",
    "1. **Ask to Get Things Rolling**: Express interest in the other person's views.\n",
    "    - e.g., \"Please let me know what you think.\"\n",
    "2. **Mirror to Confirm Feelings**: Respectfully acknowledge the other person's feeling.\n",
    "    - e.g., \"You say you're okay, but your tone of voice seems to indicate....\"\n",
    "3. **Paraphrase to Acknowledge the Story**: Restate so the other person knows you understand.\n",
    "    - e.g., \"Let me see if I understand you....\"\n",
    "4. **Prime When You're Getting Nowhere**: Take your best guess at what the other person is thinking and feeling.\n",
    "    - e.g., \"Are you thinking...?\""
   ]
  },
  {
   "cell_type": "markdown",
   "metadata": {},
   "source": [
    "### Remember Your ABCs\n",
    "\n",
    "1. **Agree**: Agree when you do, so actively look for points of agreement.\n",
    "2. **Build**: If others leave out something, then agree where you do and build from there.\n",
    "3. **Compare**: When you differ significantly, don't suggest that the other person is wrong; instead, compare your two views."
   ]
  }
 ],
 "metadata": {
  "kernelspec": {
   "display_name": "Python 3",
   "language": "python",
   "name": "python3"
  },
  "language_info": {
   "codemirror_mode": {
    "name": "ipython",
    "version": 3
   },
   "file_extension": ".py",
   "mimetype": "text/x-python",
   "name": "python",
   "nbconvert_exporter": "python",
   "pygments_lexer": "ipython3",
   "version": "3.7.3"
  },
  "toc": {
   "base_numbering": 1,
   "nav_menu": {},
   "number_sections": false,
   "sideBar": false,
   "skip_h1_title": false,
   "title_cell": "Table of Contents",
   "title_sidebar": "Contents",
   "toc_cell": false,
   "toc_position": {},
   "toc_section_display": false,
   "toc_window_display": false
  }
 },
 "nbformat": 4,
 "nbformat_minor": 2
}
