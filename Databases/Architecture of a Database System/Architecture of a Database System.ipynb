{
 "cells": [
  {
   "cell_type": "markdown",
   "metadata": {},
   "source": [
    "# Architecture of a Database System\n",
    "\n",
    "*Joseph M. Hellerstein, Michael Stonebraker, and James Hamilton*\n",
    "\n",
    "**DOI: 10.1561/1900000002**"
   ]
  },
  {
   "cell_type": "markdown",
   "metadata": {},
   "source": [
    ">Database Management Systems (DBMSs) are a ubiquitous and critical component of modern computing, and the result of decades of research and development in both academia and industry. Historically, DBMSs were among the earliest multi-user server systems to be developed, and thus pioneered many systems design techniques for scalability and reliability now in use in many other contexts. While many of the algorithms and abstractions used by a DBMS are textbook material, there has been relatively sparse coverage in the literature of the systems design issues that make a DBMS work. This paper presents an architectural discussion of DBMS design principles, including process models, parallel architecture, storage system design, transaction system implementation, query processor and optimizer architectures, and typical shared components and utilities. Successful commercial and open-source systems are used as points of reference, particularly when multiple alternative designs have been adopted by different groups."
   ]
  },
  {
   "cell_type": "markdown",
   "metadata": {},
   "source": [
    "## 1. Introduction"
   ]
  },
  {
   "cell_type": "markdown",
   "metadata": {},
   "source": [
    "### Relational Systems: The Life of a Query\n",
    "\n",
    "![Main Components of a DBMS](images/AOADS_1.png)\n",
    "\n",
    "1. A *Client Communications Manager* establishes and persists the connection state for the caller, executes SQL commands from the caller, and returns control messages and data to the caller.\n",
    "2. A *Process Manager* performs admission control after which it dispatches and schedules a \"thread of computation\" for the SQL commands from the *Client Communications Manager*.\n",
    "3. A *Relational Query Processor* parses a SQL command into a *Query Plan* which is first authorized, then rewritten, later optimized, and finally executed.\n",
    "4. A *Transactional Storage Manager* manages all data access and manipulation calls from the *Relational Query Processor*.\n",
    "    - *Access Methods* are algorithms and data structures for organizing and accessing data, such as tables and indexes, on disk.\n",
    "    - A *Buffer Manager* decides when and what data to transfer between disk and memory buffers.\n",
    "    - A *Lock Manager* ensures the correctness of concurrent execution by leasing locks before data are accessed.\n",
    "    - A *Log Manager* ensures that a transaction was durable if committed, and fully compensated if aborted.\n",
    "5. At the end of a query or a transaction, the stack of components consisting of the *Client Communication Manager*, *Process Manager*, *Relational Query Processor*, and *Transactional Storage Manager* is unwound to return results to the caller and to deallocate allocated resources.\n",
    "6. Aside, a *Catalog Manager* assists *Query Parsing and Authentication*, and *Query Optimization*.\n",
    "7. Aside, a *Memory Manager* dynamically allocates and deallocates memory whenever and wherever throughout a DBMS."
   ]
  },
  {
   "cell_type": "markdown",
   "metadata": {},
   "source": [
    "## 2. Process Models"
   ]
  },
  {
   "cell_type": "markdown",
   "metadata": {},
   "source": [
    "- An **Operating System Process** is a kernel-scheduled, OS program execution unit with a private address space, a set of resource handles, and a security context.\n",
    "- An **Operating System Thread** is a kernel-scheduled, OS program execution unit without a private address space.\n",
    "- A **Lightweight Thread Package** is an application-scheduled, thread of execution. Advantageously, a *Lightweight Thread* is faster than an *Operating System Thread*. Disadvantageously, a *Lightweight Thread* can block all other threads within the same user-space scheduler.\n",
    "- A **DBMS Client** is the API used to communicate with a DBMS.\n",
    "- A **DBMS Worker** is the thread of execution in a DBMS that does work on behalf of a *DBMS Client*."
   ]
  },
  {
   "cell_type": "markdown",
   "metadata": {},
   "source": [
    "### Uniprocessors and Lightweight Threads\n",
    "\n",
    "- **Assumption #1 - OS Thread Support**: Large Number of Kernel Threads + Small Memory Overhead + Inexpensive Context Switches.\n",
    "- **Assumption #2 - Uniprocessor Hardware**: Single Machine with Single CPU.\n",
    "\n",
    "\n",
    "#### Process per DBMS Worker\n",
    "\n",
    "- **Main Concept**: A *Dispatcher Process* forks an *Execution Process* per *DBMS Worker*.\n",
    "- **Advantage #1**: The OS provides isolation and scheduling of *DBMS Workers*.\n",
    "- **Disadvantage #1**: *Shared Components* must be explicitly allocated in OS-supported shared memory accessible across all DBMS processes.\n",
    "- **Disadvantage #2**: Because an *Operating System Process* is more expensive than an *Operating System Thread*, *Process per DBMS Worker* is more expensive to scale.\n",
    "\n",
    "#### Thread per DBMS Worker\n",
    "\n",
    "- **Main Concept**: A single multi-threaded process consists of a *Dispatcher Thread* allocating an *Execution Thread* per *DBMS Worker*.\n",
    "- **Advantage #1**: *Thread per DBMS Worker* scales better than *Process per DBMS Worker*.\n",
    "- **Disadvantage #1**: The OS does not provide any isolation of *DBMS Workers*.\n",
    "- **Disadvantage #2**: Debugging is difficult due to the shared execution and shared memory between threads.\n",
    "- **Disadvantage #3**: Different OSs may have different *Thread APIs*.\n",
    "\n",
    "#### Process Pool/Thread Pool\n",
    "\n",
    "- **Main Concept**: A fixed and bounded pool of processes or threads leases a process or a thread to a *DBMS Worker* to service requests.\n",
    "- **Advantage #1**: A pool is memory efficient by requiring fewer processes or threads.\n",
    "- **Advantage #2**: A pool can be resized dynamically according to request load.\n",
    "\n",
    "#### Shared Data and Process Boundaries\n",
    "\n",
    "- **Thread**: Shared Address Space.\n",
    "- **Process**: Shared Memory.\n",
    "- **Client/Server Process Communication**: *Disk I/O Buffers* & *Client Communication Buffers*.\n",
    "- **Database I/O Requests**: A **Buffer Pool** is a shared, in-memory data structure that stages all reads and writes for a *DBMS Worker* through the use of handles to frames.\n",
    "- **Log I/O Requests**: A **Log Tail** is a shared, in-memory queue that is periodically flushed by a separate process/thread acting as a *Log Manager*, yet it is appended by *DBMS Workers* through the use of inter-process communication or direct memory access.\n",
    "- **Lock Requests**: A **Lock Table** is a shared, in-memory data structure that implements database locking semantics; it is shared using similar semantics as a *Buffer Pool*.\n",
    "- **Client Communication Buffers**: A *DBMS Worker* enqueues tuples onto a socket to communicate results from a *Server Process* to a *Client Process*."
   ]
  },
  {
   "cell_type": "markdown",
   "metadata": {},
   "source": [
    "### DBMS Threads\n",
    "\n",
    "- **Assumption #1 - OS Thread Support**: Small Number of Kernel Threads + Large Memory Overhead + Expensive Context Switches.\n",
    "- **Assumption #2 - Uniprocessor Hardware**: Single Machine with Single CPU.\n",
    "\n",
    "#### DBMS Threads\n",
    "\n",
    "- A **DBMS Thread** is a *lightweight thread* programmed to manage its own state, to perform I/Os via non-blocking, asynchronous interfaces, and to frequently yield control to a dispatcher.\n",
    "- **Advantage #1**: *DBMS Threads* are more efficient than *OS Threads*.\n",
    "- **Advantage #2**: *DBMS Threads* are more portable to OSs with inefficient support for *OS Threads*.\n",
    "- **Disadvantage #1**: *DBMS Threads* have significant developer costs related to replicating OS logic."
   ]
  },
  {
   "cell_type": "markdown",
   "metadata": {},
   "source": [
    "### Standard Practice\n",
    "\n",
    "| Databases                | Process Per DBMS Worker | Thread Per DBMS Worker | Process Pool | Thread Pool |\n",
    "| ------------------------:|:-----------------------:|:----------------------:|:------------:|:-----------:|\n",
    "| **MySQL**                | No                      | Yes                    | No           | Yes         |\n",
    "| **PostgreSQL**           | Yes                     | No                     | No           | No          |\n",
    "| **IBM DB2**              | Yes                     | Yes                    | Yes          | Yes         |\n",
    "| **Oracle**               | Yes                     | No                     | Yes          | No          |\n",
    "| **Microsoft SQL Server** | No                      | Yes                    | No           | Yes         |"
   ]
  },
  {
   "cell_type": "markdown",
   "metadata": {},
   "source": [
    "### Admission Control\n",
    "\n",
    "- An **Admission Control Policy** rejects new requests until sufficient DBMS resources are available.\n",
    "    - Query Processing Techniques → Memory Pressure → Thrashing.\n",
    "    - Lock Contention → Transaction Failures → Thrashing.\n",
    "- The goal of an *Admission Control Policy* is to provide constant peak throughput while allowing transactional latencies to increase proportionally to the arrival rate.\n",
    "- **Tier 1 Admission Control Policy**: A *Dispatcher Process* can restrict the number of *DBMS Clients* and *DBMS Workers*.\n",
    "- **Tier 2 Admission Control Policy**: An *Execution Admission Controller* can estimate the resources that a query will require and the current availability of system resources to postpone or to restrict the query.\n",
    "    1. Estimate of I/O Load: Disk Devices + Random/Sequential I/O.\n",
    "    2. Estimate of CPU Load: Query Plan Operators.\n",
    "    3. Estimate of Memory Footprint: Internal Data Structures, Sorting, Hashing."
   ]
  },
  {
   "cell_type": "markdown",
   "metadata": {},
   "source": [
    "## 3. Parallel Architecture: Processes and Memory Coordination"
   ]
  },
  {
   "cell_type": "markdown",
   "metadata": {},
   "source": [
    "### Shared-Memory\n",
    "\n",
    "- A **Shared-Memory Parallel System** is a system in which all processors and cores can access the same RAM and disk with equal performance.\n",
    "- **Advantage #1**: All *Uniprocessor Process Models* support shared-memory hardware architectures to support the execution of multiple, independent SQL requests in parallel.\n",
    "- **Disadvantage #1**: The main challenge is to modify *Relational Query Processor* to parallelize a single query across multiple CPUs."
   ]
  },
  {
   "cell_type": "markdown",
   "metadata": {},
   "source": [
    "### Shared-Nothing\n",
    "\n",
    "- A **Shared-Nothing Parallel System** is a system in which a cluster of independent machines communicate over a high-speed network interconnect.\n",
    "- **Advantage #1**: Commonly, *Shared-Memory Process Models* are ran on each independent machine with the caveat of **Horizontal Data Partitioning**.\n",
    "- **Advantage #2**: The *Query Optimizer* decides how to logically partition workloads across each independent machine to minimize communication of intermediate results when satisfying a query; hence, minimizing required coordination.\n",
    "- **Disadvantage #1**: A significant burden is placed on the *Database Administrator* to choose intelligent partitioning schemes.\n",
    "- **Disadvantage #2**: As a *Distributed System*, *Shared-Nothing Parallel System* suffers common difficulties and problems such as availability-vs-consistency trade-offs, coordinated transaction completion, distributed deadlock detection, redundancy schemes, and partial failures."
   ]
  },
  {
   "cell_type": "markdown",
   "metadata": {},
   "source": [
    "### Shared-Disk\n",
    "\n",
    "- A **Shared-Disk Parallel System** is a system in which all processors can access the disks (e.g., Storage Area Networks) with equal performance, but are unable to access each other's RAM.\n",
    "- **Advantage #1**: *Shared-Disk Parallel Systems* have lower cost of administration.\n",
    "- **Advantage #2**: The failure of a single DBMS processing node does not affect the other nodes' ability to access the entire database.\n",
    "- **Disadvantage #1**: The storage subsystem is a single point of failure.\n",
    "- **Disadvantage #2**: Explicit coordination of data sharing across machines is needed to satisfy queries.\n",
    "    - *Distributed Lock Manager* + *Cache-Coherency Protocol for Distributed Buffer Pools*."
   ]
  },
  {
   "cell_type": "markdown",
   "metadata": {},
   "source": [
    "### NUMA\n",
    "\n",
    "- A **Non-Uniform Memory Access (NUMA) System** is a system in which a shared-memory programming model is provided over a cluster of systems with independent memories with non-uniform, local and remote memory access times.\n",
    "- **Advantage #1**: A *Non-Uniform Memory Access (NUMA) System* is a simpler combination between a *Shared-Memory Parallel System* and a *Shared-Nothing Parallel System*.\n",
    "- **Disadvantage #1**: Complex optimizations are required to avoid memory access bottlenecks."
   ]
  },
  {
   "cell_type": "markdown",
   "metadata": {},
   "source": [
    "### DBMS Threads and Multi-processors\n",
    "\n",
    "- When *DBMS Threads within Multiple Processes* are used on multi-processors, *DBMS Threads* must be distributed and migrated to maximize physical parallelism while minimizing the per-process memory overhead."
   ]
  },
  {
   "cell_type": "markdown",
   "metadata": {},
   "source": [
    "### Standard Practice\n",
    "\n",
    "- **Shared-Memory**: IBM DB2, Oracle, Microsoft SQL Server.\n",
    "- **Shared-Nothing**: IBM DB2, Informix, Tandem, NCR Teradata, Greenplum.\n",
    "- **Shared-Disk**: Oracle RAC, RDB, IBM DB2 for zSeries."
   ]
  },
  {
   "cell_type": "markdown",
   "metadata": {},
   "source": [
    "## 4. Relational Query Processor"
   ]
  },
  {
   "cell_type": "markdown",
   "metadata": {},
   "source": [
    "- A **Relational Query Processor** validates, optimizes, and executes a SQL statement through its *Logical/Physical Query Plan*.\n",
    "- Generally, a *Relational Query Processing* is a single-user, single-threaded task in which *Concurrency Control* is managed transparently by lower layers of the system.\n",
    "- Generally, *Data Manipulation Language* statements including *SELECT*, *INSERT*, *UPDATE*, and *DELETE* are processed by a *Relational Query Processor*.\n",
    "- Generally, *Data Definition Language* statements such as *CREATE TABLE* and *CREATE INDEX* are not processed by a *Relational Query Processor*; they are often implemented as explicit calls to the *Storage Engine* and the *Catalog Manager*."
   ]
  },
  {
   "cell_type": "markdown",
   "metadata": {},
   "source": [
    "### Query Parsing and Authorization\n",
    "\n",
    "1. Verify that the query is syntactically correct.\n",
    "2. Resolve names and references according to the *Catalog Manager*.\n",
    "    1. **Canonicalization**: The *SQL Parser* canonicalizes table aliases/names into a fully qualified name of the form `server.database.schema.table`.   \n",
    "    2. **Attribute References**: The *SQL Parser* invokes the *Catalog Manager* to ensure that attribute references are correct by disambiguating expressions and operators.\n",
    "3. Convert the query into a *Logical Query Plan* for the *Query Optimizer*.\n",
    "4. Verify that the user is authorized to execute the query.\n",
    "    1. **Partial Authorization**: The *SQL Parser* verifies that the user has appropriate DML/DDL permissions on the tables, functions, and other objects.\n",
    "    2. **Deferred Authorization**: The *SQL Parser* cannot enforce all security requirements such as row-level security without executing a *Query Plan*; thus, *Full Authorization* is often deferred."
   ]
  },
  {
   "cell_type": "markdown",
   "metadata": {},
   "source": [
    "### Query Rewrite\n",
    "\n",
    "- A **Query Rewriter** simplifies and normalizes a *Logical Query Plan* without changing its semantics by relying only on the *Catalog Manager*.\n",
    "- **View Expansion**: A *Query Rewriter* recursively replaces all view references with the columns, the tables, and the predicates referenced by the views.\n",
    "- **Constant Arithmetic Evaluation**: A *Query Rewriter* simplifies constant arithmetic expressions.\n",
    "- **Logical Rewriting of Predicates**: A *Query Rewriter* logically rewrites predicates to short-circuit the *Plan Executor* using a *SAT Solver*, to improve the relevance of predicates to indexes, and to introduce *Transitive Predicates* beneficial for the *Query Optimizer*.\n",
    "    - **Transitive Predicate**: `R.x < 10 AND R.x = S.y ⟹ R.x < 10 AND R.x = S.y AND S.y < 10`\n",
    "- **Semantic Optimization**: A *Query Rewriter* consults the *Catalog Manager* to rewrite a query per the integrity constraints on the tables being compatible with query predicates.\n",
    "- **Subquery Flattening and Other Heuristic Rewrites**: A *Query Rewriter* flattens subqueries and uses other heuristics to rewrite semantically equivalent *Logical Query Plans* to maximally expose opportunities for the *Query Optimizer*."
   ]
  },
  {
   "cell_type": "markdown",
   "metadata": {},
   "source": [
    "### Query Optimizer\n",
    "\n",
    "- A **Query Optimizer** transforms a *Logical Query Plan* into an efficient *Physical Query Plan* for execution.\n",
    "- A *Logical Query Plan* is decomposed into *SELECT-FROM-WHERE* query blocks which are individually optimized before recomposition.\n",
    "- A *Physical Query Plan* can be represented by the compilation of machine code (System R) or interpretation of physical operators (INGRES): a tradeoff between performance and portability.\n",
    "- **System R Optimizer**: P. G. Selinger, M. Astrahan, D. Chamberlin, R. Lorie, and T. Price, “Access path selection in a relational database management system,” in *Proceedings of ACM-SIGMOD International Conference on Management of Data*, pp. 22–34, Boston, June 1979.\n",
    "- **Plan Space**: The *System R Optimizer* neglected right-deep *Query Plans* and the early use of Cartesian products, unlike the state-of-the-art.\n",
    "- **Selectivity Estimation**: The *System R Optimizer* relied on naive table and index cardinalities; the state-of-the-art analyze, sample, and summarize distributions/statistics regarding attributes.\n",
    "- **Search Algorithms**: The *System R Optimizer* used dynamic programming to enumerate optimal *JOIN Orderings*; the state-of-the-art use goal-directed, top-down search algorithms.\n",
    "- **Parallelism**: The state-of-the-art support intra-query parallelism, so the state-of-the-art generally use a *Two-Phase Query Optimizer* to schedule sequential and parallel operators.\n",
    "    1. A *Single-System Query Optimizer* chooses the best *Single-System Physical Query Plan*.\n",
    "    2. The *Single-System Physical Query Plan* is scheduled across multiple processors or machines.\n",
    "- **Auto-Tuning**: The state-of-the-art supports the ability for a DBMS to make tuning decisions automatically.\n",
    "\n",
    "#### A Note on Query Compilation and Recompilation\n",
    "\n",
    "- **Preparation**: A SQL statement can be prepared such that a *Physical Query Plan* is cached for subsequent executions.\n",
    "- **Advantage #1**: *Preparation* improves the latency when executing a SQL statement.\n",
    "- **Disadvantage #1**: *Selectivity Estimation* is performed assuming \"typical\" values which may be adversarial to dynamic queries.\n",
    "- **Disadvantage #2**: Cached *Physical Query Plans* must be eventually re-optimized as the database changes over time."
   ]
  },
  {
   "cell_type": "markdown",
   "metadata": {},
   "source": [
    "### Query Executor\n",
    "\n",
    "- A **Query Executor** executes a *Physical Query Plan* by interpreting compiled, low-level op-codes (*Rare*) or invoking procedures for the operators encapsulated in a directed dataflow graph (*Common*).\n",
    "- The **Iterator** is a model for executing a directed dataflow graph by implementing all operators as subclasses of the classic object-oriented *Iterator*.\n",
    "\n",
    "```c\n",
    "// Abstract Iterator; Additional Optional Members in Descendants.\n",
    "typedef struct Iterator\n",
    "{\n",
    "    size_t inputsLen;\n",
    "    Iterator *inputs[];\n",
    "} Iterator;\n",
    "\n",
    "// Allocate Resources.\n",
    "void Iterator_Initialize(Iterator *iterator);\n",
    "\n",
    "// Deallocate Resources.\n",
    "void Iterator_Close(Iterator *iterator);\n",
    "\n",
    "// Null-Terminated Yield.\n",
    "TupleDescriptor *Iterator_Next(Iterator *iterator);\n",
    "```\n",
    "\n",
    "#### Iterator Discussion\n",
    "\n",
    "- **Advantage #1**: Every *Iterators*' logic is independent of its children and parents in the directed dataflow graph.\n",
    "- **Advantage #2**: *Iterators* combine the flow of data and the flow of control, so a single `Iterator_Next()` call on the root of the directed dataflow graph is sufficient; no intermediary queues or rate-matching between *Iterators* are required.\n",
    "- **Advantage #3**: At least one *Iterator* in a directed dataflow graph is always active; thus, resource utilization is maximized.\n",
    "- **Advantage #4**: To support parallel query execution, no fundamental changes are required to the *Iterator* model or query execution architecture. Parallelism and network communications can be encapsulated within *Exchange Iterators*.\n",
    "\n",
    "#### Where's the Data?\n",
    "\n",
    "- Generally, an *Iterator* is pre-allocated a fixed number of *Tuple Descriptors*, one for each of its inputs and outputs.\n",
    "- A **Tuple Descriptor** is an array of column references, where each column reference is composed of a reference to a tuple somewhere else in memory, and a column offset in that tuple.\n",
    "- A **BF-Tuple** is a tuple allocated on the *Buffer Pool* and referenced through the pin count of the tuple's page.\n",
    "- A **M-Tuple** is a tuple allocated on the *Heap* to support copying of *BF-Tuples* and evaluating expressions.\n",
    "\n",
    "#### Data Modification Statements\n",
    "\n",
    "- **Batch Read-Then-Write Scheme**: Interpose *Record-ID Materialization and Fetching Operators* between *Read Operators* and *Write Operators* to ensure a DML statement cannot see its own modifications (i.e., Halloween Problem).\n",
    "    1. The *Materialization and Fetching Operator* materializes the RIDs of all tuples from the prior *Read Operators* into a temporary file.\n",
    "    2. The *Materialization and Fetching Operator* fetches each physical tuple ID by RID for the later *Write Operators*."
   ]
  },
  {
   "cell_type": "markdown",
   "metadata": {},
   "source": [
    "### Access Methods\n",
    "\n",
    "- **Access Methods** are routines that manage access to various disk-based data structures the DBMS supports.\n",
    "    - e.g., Heap Files, B+-Tree Indexes, Hash Indexes, R-Tree Multi-Dimensional Indexes, RD-Tree Text Indexes, and Bloom Filter Indexes.\n",
    "- An *Access Method's* API is an extension of the *Iterator* API.\n",
    "\n",
    "#### Search Arguments (SARGs)\n",
    "\n",
    "- Traditionally, **Search Arguments** (*SARGs*) of the form `Column Operator Constant` are accepted by the `Iterator_Initialize()` routine.\n",
    "- By passing *SARGs* into the *Access Methods* layer, *SARGs* provide a clean architectural boundary between the *Storage Engine* and the *Relational Engine* while obtaining excellent performance (by improving indexes and avoiding pin/unpin or copy/delete calls).\n",
    "\n",
    "#### Row IDs (RIDs)\n",
    "\n",
    "- Traditionally, **Row IDs** (*RIDs*) are the physical disk addresses of the rows in base tables that allow indexes to reference rows.\n",
    "- By equating *RIDs* and physical disk addresses, *RIDs* are fast for referencing rows but slow for moving rows; *Row Movement* is prevalent when a page becomes full or a B+-tree is split.\n",
    "- DB2, Microsoft SQL Server and Oracle handle *Row Movement* by using some of the following methods: *Forwarding Pointers*, *Avoiding Physical Disk Addresses*, *Avoiding B+-Trees as Primary Storage*, *Allowing Rows to Span Multiple Pages*, and *Unique Row Primary Keys*."
   ]
  },
  {
   "cell_type": "markdown",
   "metadata": {},
   "source": [
    "### Data Warehouses\n",
    "\n",
    "- A **Data Warehouse** is a large historical database for decision-support that are loaded with new data on a periodic basis.\n",
    "\n",
    "#### Bitmap Indexes\n",
    "\n",
    "- For columns of small cardinalities, **Bitmap Indexes** can be succinctly constructed to be utilized in sophisticated bitmap arithmetic to improve the performance of common analytics queries.\n",
    "\n",
    "#### Fast Load\n",
    "\n",
    "- As a *Data Warehouse* loads a large batch of records, **Bulk Loaders** are provided to stream these records into storage without the full overhead of *Relational Query Processor*.\n",
    "- As a *Data Warehouse* loads a fast stream of records, *MVCC* is provided to avoid updates-in-place and to support historical queries.\n",
    "\n",
    "#### Materialized Views\n",
    "\n",
    "- A **Materialized View** is an actual table that corresponds to a logical view expression over the base tables.\n",
    "- **Advantage #1**: A *Materialized View* improves the performance of analytical queries by avoiding the runtime evaluation of the logical view expression.\n",
    "- **Disadvantage #1**: A Materialized View must be kept up to date as updates are performed.\n",
    "- The three aspects to the use of *Materialized Views* are the following: *Selecting Views*, *Maintaining Freshness*, and *Supporting Ad-hoc Queries*.\n",
    "\n",
    "#### OLAP and Ad-hoc Query Support\n",
    "\n",
    "- An **OLAP Cube** is a multi-dimensional materialized view of aggregates that provides high performance for predictable queries.\n",
    "\n",
    "#### Optimization of Snowflake Schema Queries\n",
    "\n",
    "- A **Fact Table** is a table of facts, measurements, or metrics.\n",
    "- A **Dimension Table** is a table of attributes that distinguish facts; these attributes are commonly categorical, geographical, nominal, ranged, or temporal.\n",
    "- A **Star Schema** consists of a central *Fact Table* surrounded by *Dimension Tables*, each with a 1-N primary-key-foreign-key relationship to the *Fact Table*.\n",
    "- A **Snowflake Schema** is multi-level *Star Schema* with hierarchical *Dimension Tables*.\n",
    "- *Data Warehouse* queries entail filtering one or more dimensions in a *Snowflake Schema* on some attributes in these tables, then joining the result to a *Fact Table*, grouping by some attributes in a *Fact Table* or a *Dimension Table*, and then computing an aggregate.\n",
    "\n",
    "#### Data Warehousing: Conclusions\n",
    "\n",
    "- A special purpose *Query Optimizer* should focus on aggregate queries over *Snowflake Schemas*.\n",
    "- A **Column Store** is a DBMS that stores each column of a row separately; *Column Stores* reduce I/O costs by accessing fewer columns and enabling better disk compression."
   ]
  },
  {
   "cell_type": "markdown",
   "metadata": {},
   "source": [
    "### Database Extensibility\n",
    "\n",
    "#### Abstract Data Types\n",
    "\n",
    "- *Abstract Data Types* can be supported by mapping types to methods in the *Catalog Manager* such that new types and methods can be registered without drastically affecting the *SQL Parser*.\n",
    "- *Abstract Data Types* can be efficient by postponing selections until after joins and allowing functional indexes on expressions over *ADTs*.\n",
    "\n",
    "#### Structured Types and XML\n",
    "\n",
    "- **Structured Types** refer to non-relational types such as arrays, sets, trees, and XML.\n",
    "- A DBMS can support *Structured Types* by the following three approaches: Custom DBMS, *Structured Types* as *ADTs*, *Normalizing Nested Structured Types*.\n",
    "\n",
    "#### Full-Text Search\n",
    "\n",
    "- Traditionally, a DBMS has poor support for *Full-Text Search* when compared to a *Text Indexing Engine*.\n",
    "- Most DBMSs contain a separate *Text Indexing Engine/Subsystem* that bypasses transactional logic.\n",
    "\n",
    "#### Additional Extensibility Issues\n",
    "\n",
    "- **Query Optimizers**: Proposals have rule-drive subsystems that generate or modify *Query Plans*, and allow new optimization rules to be registered independently.\n",
    "- **Remote Data Sources**: DBMSs have support for wrapping remote data sources like native tables."
   ]
  },
  {
   "cell_type": "markdown",
   "metadata": {},
   "source": [
    "### Standard Practice\n",
    "\n",
    "- All RDMBSs are similar to *System R*.\n",
    "- PostgreSQL has a sophisticated *Query Processor* with a traditional *Cost-Based Query Optimizer*.\n",
    "- MySQL has a simple *Query Processor* with a focus on nested-loop joins over indexes."
   ]
  },
  {
   "cell_type": "markdown",
   "metadata": {},
   "source": [
    "## 5. Storage Management"
   ]
  },
  {
   "cell_type": "markdown",
   "metadata": {},
   "source": [
    "1. A DBMS can interact directly with disks by using the low-level block-mode device drivers.\n",
    "2. A DBMS can interact indirectly with disks by using standard OS file system facilities."
   ]
  },
  {
   "cell_type": "markdown",
   "metadata": {},
   "source": [
    "### Spatial Control\n",
    "\n",
    "$$\n",
    "\\text{Sequential Access} \\gg \\text{Random Access}\n",
    "$$\n",
    "\n",
    "- As a DBMS can deeply analyze its workload access patterns, it should exercise full control over the spatial positioning of database blocks on disk.\n",
    "- If a DBMS interacts directly with disks by using the *Raw Disk Access Interfaces*, then it can have the best spatial locality of its data.\n",
    "- **Advantage #1**: *Raw Disk Addresses* correspond closely to physical proximity of storage locations.\n",
    "- **Disadvantage #1**: As entire disk partitions must be devoted to a DBMS, utilities that need a file system interface are unavailable.\n",
    "- **Disadvantage #2**: As raw disk access interfaces are OS-specific, a DBMS can become more difficult to port.\n",
    "- **Disadvantage #3**: As *Virtual Disk Devices* intercept calls to *Raw Disk Access Interfaces*, a DBMS has less control over the spatial positioning of database blocks on disk.\n",
    "- **Disadvantage #4**: As the offsets in a large file in an OS file system exhibits reasonably good spatial locality, the degradation between large file access and direct raw access is minimal."
   ]
  },
  {
   "cell_type": "markdown",
   "metadata": {},
   "source": [
    "### Temporal Control: Buffering\n",
    "\n",
    "- If a DBMS uses an OS file system, *OS Buffering* can silently postpone or reorder writes, negatively affecting the DBMS.\n",
    "- **Problem #1**: A DBMS cannot guarantee atomic recovery after software or hardware failure without explicitly controlling the timing and ordering of disk writes.\n",
    "- **Problem #2**: Predictive features such as *Read-Ahead* and *Write-Behind* provided by an OS file system are oblivious to the higher-level semantics of a DBMS, inhibiting performance optimizations.\n",
    "- **Problem #3**: *Double Buffering* -  a DBMS must perform its own buffering for correctness, so *OS Buffering* is redundant as *Memory Copying* is a major bottleneck."
   ]
  },
  {
   "cell_type": "markdown",
   "metadata": {},
   "source": [
    "### Buffer Management\n",
    "\n",
    "- A **Buffer Pool** is an array of **Frames**, a region of memory the size of a database disk block.\n",
    "- A *Buffer Pool* is associated with a *Hash Table*:\n",
    "    1. *Current Page Numbers* → *Frame Table Locations*.\n",
    "    2. *Current Page Numbers* → *Backing Disk Storage Page Locations*.\n",
    "    3. *Current Page Numbers* → *Page Metadata (Dirty Bit + Pin Count)*.\n",
    "        - A **Dirty Bit** indicates whether a page has changed since it was read from disk.\n",
    "        - A **Pin Count** indicates whether a page is eligible for the *Page-Replacement Policy*.\n",
    "- *OS Page-Replacement Policies* such as *LRU* and *CLOCK* perform poorly for many database access patterns.\n",
    "- Traditionally, DBMSs employ enhancements to LRU to account for degenerative database access patterns when the *Buffer Pool* is full.\n",
    "- **Advantage #1**: Blocks are copied in and out of memory without translation to avoid CPU bottlenecks.\n",
    "- **Advantage #2**: Blocks are fixed-size to avoid memory-management complexities of external fragmentation and compaction.\n",
    "- **Advantage #3**: Blocks can be pinned to improve the performance of the *Catalog Manager*."
   ]
  },
  {
   "cell_type": "markdown",
   "metadata": {},
   "source": [
    "### Standard Practice\n",
    "\n",
    "1. A DBA creates a file system on each logical volume in the DBMS.\n",
    "2. The DBMS allocates a single large file in each of the file systems and controls placement of data within that file with low-level interfaces like `mmap` suite.\n",
    "3. The DBMS treats each logical volume as a linear array of contiguous database pages."
   ]
  },
  {
   "cell_type": "markdown",
   "metadata": {},
   "source": [
    "## 6. Transactions: Concurrency Control and Recovery"
   ]
  },
  {
   "cell_type": "markdown",
   "metadata": {},
   "source": [
    "- The **Transactional Storage Manager** encompasses the following components.\n",
    "    1. A *Lock Manager* for concurrency control.\n",
    "    2. A *Log Manager* for recovery.\n",
    "    3. A *Buffer Pool* for staging database I/Os.\n",
    "    4. *Access Methods* for organizing data on disk.\n",
    "- **ARIES**: C. Mohan, D. J. Haderle, B. G. Lindsay, H. Pirahesh, and P. M. Schwarz, “Aries: A transaction recovery method supporting fine-granularity locking and partial rollbacks using write-ahead logging,” *ACM Transactions on Database Systems (TODS)*, vol. 17, pp. 94–162, 1992.\n",
    "- **Transaction Index Concurrency**: M. Kornacker, C. Mohan, and J. M. Hellerstein, “Concurrency and recovery in generalized search trees,” in *Proceedings of ACM SIGMOD International Conference on Management of Data*, pp. 62–72, Tucson, AZ, May 1997."
   ]
  },
  {
   "cell_type": "markdown",
   "metadata": {},
   "source": [
    "### A Note on ACID\n",
    "\n",
    "- **Atomicity**: Either all operations of the transactions are reflected properly in the database, or none are.\n",
    "    - Guaranteed by *Locking* + *Logging*.\n",
    "- **Consistency**: Execution of a transaction in isolation preserves the consistency of the database.\n",
    "    - Guaranteed by *Runtime Checks* in *Query Executor*.\n",
    "- **Isolation**: Even though multiple transactions may execute concurrently, the system guarantees that, for every pair of transactions $T_i$ and $T_j$, it appears $T_i$ that either $T_j$ finished execution before $T_i$ started or $T_j$ started execution after $T_i$ finished. Thus, each transaction is unaware of other transactions executing concurrently in the system.\n",
    "    - Guaranteed by *Locking* + *Logging*.\n",
    "- **Durability**: After a transaction completes successfully, the changes it has made to the database persist, even if there are system failures.\n",
    "    - Guaranteed by *Logging* + *Recovery*."
   ]
  },
  {
   "cell_type": "markdown",
   "metadata": {},
   "source": [
    "### A Brief Review of Serializability\n",
    "\n",
    "\n",
    "- **Serializability** guarantees that a sequence of interleaved actions for multiple committing transactions must correspond to some serial execution of the transactions.\n",
    "\n",
    "\n",
    "1. **Strict Two-Phase Locking (2PL)**: Transactions acquire a *Shared Lock per Read* and an *Exclusive Lock per Write* in a *Growing Phase*, then all locks are released in a *Shrinking Phase*.\n",
    "2. **Multi-Version Concurrency Control (MVCC)**: Transactions do not hold locks, but instead are guaranteed a consistent view of the database state at some time in the past, even if rows have changed since that fixed point in time.\n",
    "3. **Optimistic Concurrency Control (OCC)**: Multiple transactions are allowed to read and to update an item without blocking. Instead, transactions maintain histories of their reads and writes, and before committing a transaction checks their history for isolation conflicts they may have occurred; if any are found, one of the conflicting transactions is rolled back."
   ]
  },
  {
   "cell_type": "markdown",
   "metadata": {},
   "source": [
    "### Locking and Latching\n",
    "\n",
    "- A **Lock** allows a DBMS to register and to check for physical/logical items (e.g., *Disk Pages*, *Tuples*, *Tables*, *Indexes*) with a specified lock-mode, under a unique transaction ID.\n",
    "- A **Lock Manager** supports the following API.\n",
    "    - `lock(lockName, transactionId, mode)`\n",
    "    - `unlock(lockName, transactionId)`\n",
    "    - `upgrade(lockName, transactionId, newMode)`\n",
    "    - `conditionalLock(lockName, transactionId, mode)`\n",
    "    - `removeTransaction(transactionId)`\n",
    "- A *Lock Manager* uses a *Global Lock Table*, a *Transaction Table*, and a *Deadlock Detector*.\n",
    "- A **Global Lock Table** is a dynamic hash table of the following.\n",
    "    - *Lock Names* → *Lock Modes*.\n",
    "    - *Lock Names* → *Wait Queues of (Transaction ID, Lock Mode)*.\n",
    "- A **Transaction Table** is a dynamic hash table of the following.\n",
    "    - *Transaction IDs* → *Transaction's Thread States*.\n",
    "        - Facilitates Rescheduling.\n",
    "    - *Transaction IDs* → *Pointer List to Transaction's Lock Requests*.\n",
    "        - Facilitates Removal.\n",
    "- A **Deadlock Detector** is a DBMS thread that periodically examines the *Lock Table* to detect waits-for-cycles and to abort deadlocked transactions.\n",
    "- A **Latch** allows a DBMS to provide mutual exclusion for internal data structures.\n",
    "    - `latch(object, mode)`\n",
    "    - `unlatch(object, mode)`\n",
    "    - `conditionalLatch(object, mode)`\n",
    "\n",
    "#### Transaction Isolation Anomalies\n",
    "\n",
    "- **Phantom Read**: The results of a query in one transaction are changed by another transaction before the former commits.\n",
    "- **Non-Repeatable Read**: Repeated reads of the same record in one transaction return different values because of an update made by another transaction.\n",
    "- **Dirty Read**: One transaction reads a value written by another transaction that has not yet committed.\n",
    "\n",
    "#### Transaction Isolation Levels\n",
    "\n",
    "##### ANSI SQL Isolation Levels\n",
    "\n",
    "| Isolation Level  | Phantom Reads | Non-Repeatable Reads | Dirty Reads |\n",
    "| ----------------:|:-------------:|:--------------------:|:-----------:|\n",
    "| Read Uncommitted | Yes           | Yes                  | Yes         |\n",
    "| Read Committed   | Yes           | Yes                  | No          |\n",
    "| Repeatable Read  | Yes           | No                   | No          |\n",
    "| Serializable     | No            | No                   | No          |\n",
    "\n",
    "1. **READ UNCOMMITTED**: A transaction may read any version of data, committed or not.\n",
    "    - This is achieved by read requests proceeding without acquiring any locks.\n",
    "2. **READ COMMITTED**: A transaction may read any committed version of data. Repeated reads of an object may result in different committed versions.\n",
    "    - This is achieved by read requests acquiring a read lock before accessing an object, and unlocking it immediately after access.\n",
    "3. **REPEATABLE READ**: A transaction will read only one version of committed data; once the transaction reads an object, it will always read the same version of that object.\n",
    "    - This is achieved by read requests acquiring a read lock before accessing an object, and holding the lock until end-of-transaction.\n",
    "4. **SERIALIZABLE**: Full serializable access is guaranteed.\n",
    "\n",
    "##### Other Isolation Levels\n",
    "\n",
    "- **CURSOR STABILITY**: A transaction isolation level above *READ COMMITTED* that allows a transaction to do read-think-write sequences on individual items without intervening updates from other transactions.\n",
    "- **SNAPSHOT ISOLATION** (*MVCC*): A transaction isolation level above *REPEATABLE READ* that allows a transaction to operate on a version of the database as it existed at the time the transaction began.\n",
    "- **READ CONSISTENCY** (*MVCC*): A transaction isolation level similar to *REPEATABLE READ* that allows each statement in a transaction to see the most recently committed values as of the start of the statement."
   ]
  },
  {
   "cell_type": "markdown",
   "metadata": {},
   "source": [
    "### Log Manager\n",
    "\n",
    "- A **Log Manager** is responsible to maintain the durability of committed transactions, to facilitate the rollback of aborted transactions, to ensure atomicity, and to recover from system failure or non-orderly shutdown.\n",
    "- Traditionally, *Database Recovery* uses a **Write-Ahead Logging (WAL)** protocol.\n",
    "    1. Each modification to a database page should generate a *Log Record*, and the *Log Record* must be flushed to the log device before the database page is flushed.\n",
    "        - *Ensures Reversibility of Aborted Transactions*.\n",
    "    2. *Database Log Records* must be flushed in order; *Log Record* $R$ cannot be flushed until all *Log Records* preceding $R$ are flushed.\n",
    "        - *Ensures Durability of Committed Transactions*.\n",
    "    3. Upon a transaction commit request, a *Commit Log Record* must be flushed to the log device before the commit request returns successfully.\n",
    "        - *Ensures Durability of Committed Transactions*.\n",
    "- **Challenge #1**: Fast Commits.\n",
    "- **Challenge #2**: Fast Rollbacks.\n",
    "- **Challenge #3**: Fast Recovery.\n",
    "- Traditionally, DBMSs operate in **DIRECT, STEAL/NOT-FORCE** for $\\text{Fast Commits} \\gg \\text{Fast Rollbacks} + \\text{Fast Recovery}$.\n",
    "    1. Data objects are updated in place.\n",
    "    2. Unpinned buffer pool frames can be stolen even if they contain uncommitted data.\n",
    "    3. Buffer pool pages need not be forced (flushed) to the database before a commit request returns to the user.\n",
    "- Traditionally, DBMSs prefer *Physical Logging* over *Logical Logging*.\n",
    "- **Crash Recovery** is a process that restores the database to a consistent state after a system failure or non-orderly shutdown.\n",
    "    1. Start at the **Recovery Log Sequence Number** checkpointed as the oldest of the *Log Record* describing the earliest change to the oldest dirty page in the *Buffer Pool* and the *Log Record* representing the start of the oldest transaction.\n",
    "    2. **Redo Pass** (*Committed Transactions*): Using a *Log Record*, set the specified item to the new value.\n",
    "    3. **Undo Pass** (*Aborted/Incomplete Transactions*):  Using a *Log Record*, set the specified item to the old value."
   ]
  },
  {
   "cell_type": "markdown",
   "metadata": {},
   "source": [
    "### Locking and Logging in Indexes\n",
    "\n",
    "- **Indexes** are physical storage structures for accessing data in the database for consistency and efficiency.\n",
    "\n",
    "#### Latching in B+-Trees\n",
    "\n",
    "- **Conservative Schemes**: Multiple transactions wanting to access the same pages are allowed only if they can be guaranteed not to conflict in their use of a page's content.\n",
    "- **Latch-Coupling Schemes** (*Latch Crabbing*): The tree traversal logic latches each node before its visited, only unlatching a node when the next node to be visited has been successfully latched.\n",
    "- **Right-Link Schemes** (*B-Link Tree*): Simple additional structures are added to the B+-tree to minimize the requirement for latches and re-traversals.\n",
    "\n",
    "#### Logging for Physical Structures\n",
    "\n",
    "- Many changes to physical structures do not need to be undone when a transaction is aborted, so *Redo-Only Log Records* or *Nested Top Actions (Skipping)* can be employed to improve the performance of *Crash Recovery*.\n",
    "\n",
    "#### Next-Key Locking: Physical Surrogates for Logical Properties\n",
    "\n",
    "- **Main Challenge**: Provide full serializability while allowing for tuple-level locks and the use of indexes.\n",
    "- **Problem**: Phantoms can arise when a transaction accesses tuples via an index, and another transaction inserts new tuples after the accessed tuples.\n",
    "- **Solution**: *Next-Key Locking* requires that the insertion of a tuple with index key $K$ must allocate an exclusive lock on the next-key tuple that exists in the index, where the next-key tuple has the lowest key greater than $K$. *Next-Key Locking* requires read transactions to get a shared lock on the next-key tuple in the index as well.\n",
    "- **Key Insight**: A physical object (i.e., *Tuple*) becomes a surrogate for a logical object (i.e., *Predicate*)."
   ]
  },
  {
   "cell_type": "markdown",
   "metadata": {},
   "source": [
    "### Interdependencies of Transactional Storage\n",
    "\n",
    "$$\n",
    "\\text{Concurrency Control} \\Leftrightarrow \\text{Recovery Management} \\Leftrightarrow \\text{Access Methods}\n",
    "$$\n",
    "\n",
    "- *Recovery Management's* *WALs* make implicit assumptions about *Concurrency Control's* *Locking Protocol*.\n",
    "- *Access Methods* are difficult to implement abstractly and correctly with varying *Concurrency Control* and *Recovery Management*."
   ]
  },
  {
   "cell_type": "markdown",
   "metadata": {},
   "source": [
    "### Standard Practice\n",
    "\n",
    "- Traditionally, DBMSs support ACID transactions while using *Two-Phase Locking* for *Concurrency Control* and *Write-Ahead Logging* for *Durability*.\n",
    "- PostgreSQL and Oracle exclusively and partially support *Multi-Version Concurrency Control*, respectively.\n",
    "- MySQL supports various *Storage Managers* such as MyISAM and InnoDB."
   ]
  },
  {
   "cell_type": "markdown",
   "metadata": {},
   "source": [
    "## 7. Shared Components"
   ]
  },
  {
   "cell_type": "markdown",
   "metadata": {},
   "source": [
    "### Catalog Manager\n",
    "\n",
    "- A **Catalog** holds metadata about the users, schemas, tables, columns, and indexes within a DBMS.\n",
    "- Traditionally, a *Catalog* is stored as set of tables in a DBMS such that users can employ the same languages and tools used for regular data.\n",
    "- Traditionally, a *Catalog* is partially denormalized into a network of in-memory data structures for efficiency."
   ]
  },
  {
   "cell_type": "markdown",
   "metadata": {},
   "source": [
    "### Memory Allocator\n",
    "\n",
    "- A **Memory Context** is an in-memory data structure that maintains a list of regions of contiguous virtual memory (*Memory Pools*).\n",
    "- A *Memory Context's* region can have a small header that contains either a context label or a pointer to the context header structure.\n",
    "- A *Memory Context* has the following API.\n",
    "    1. **Create a Context with a Given Name/Type**: The type might advise the allocator how to efficiently handle memory.\n",
    "    2. **Allocate a Chunk of Memory within a Context**: This allocation will return a pointer to memory.\n",
    "    3. **Delete a Chunk of Memory within a Context**: This may or may not cause the context to delete the corresponding region.\n",
    "    4. **Delete a Context**: This first frees all of the regions associated with the context, and then delete the context header.\n",
    "    5. **Reset a Context**: This retains the context, but returns it to the state of original creation, typically by deallocating all previously allocated regions of memory.\n",
    "- **Advantage #1**: *Memory Contexts* are a low-level programmer-controllable alternative to garbage collection.\n",
    "- **Advantage #2**: *Memory Contexts* avoid traditional memory leaks by deallocating potential memory leaks upon deletion.\n",
    "- **Advantage #3**: *Memory Contexts* provide spatial control and temporal control to the programmer.\n",
    "- **Advantage #4**: Memory Contexts are more efficient on platforms in which the overhead for `malloc()` and `free()` is relatively high.\n",
    "\n",
    "#### A Note on Memory Allocation for Query Operators\n",
    "\n",
    "- Some DBMSs allow DBAs to specify the amount of RAM for *Query Operators*.\n",
    "- Some DBMSs manages allocations automatically without the intervention of DBAs. "
   ]
  },
  {
   "cell_type": "markdown",
   "metadata": {},
   "source": [
    "### Disk Management Subsystems\n",
    "\n",
    "- A **Disk Management Subsystem** manages the allocations of tables and other units of storage across physical volumes, logical volumes, or OS files.\n",
    "- A *Disk Management Subsystem* is responsible for mapping tables to devices/files, handling issues related to files being larger than disks, to the OS allowing too few OS files and OS file descriptors, and to the OS limiting the maximum OS file size.\n",
    "- A *Disk Management Subsystem* has to manage a DBMS's interactions with RAID systems and SAN systems."
   ]
  },
  {
   "cell_type": "markdown",
   "metadata": {},
   "source": [
    "### Replication Services\n",
    "\n",
    "1. **Physical Replication**: This scheme physically duplicates the entire database; however, it is difficult for this scheme to guarantee a transactionally consistent snapshot of the entire database.\n",
    "2. **Trigger-Based Replication**: This scheme has triggers on tables to capture and to replay DML statements from the primary database to a secondary database; however, it is difficult for this scheme to guarantee a transactionally consistent snapshot of the entire database.\n",
    "3. **Log-Based Replication**: This scheme has a *Log Sniffer* process to capture and to replay modifications of the *Write-Ahead-Log*; this scheme provides a low-overhead mechanism to guarantee a transactionally consistent snapshot of the entire database."
   ]
  },
  {
   "cell_type": "markdown",
   "metadata": {},
   "source": [
    "### Administration, Monitoring, and Utilities\n",
    "\n",
    "- **Optimizer Statistics Gathering**: DBMSs allow DBAs to scan tables to build optimizer statistics.\n",
    "- **Physical Reorganization and Index Construction**: DBMSs allow DBAs to request that tables to be reorganized/reclustered/repartitioned.\n",
    "- **Backup/Export**: DBMSs allow DBAs to physically backup and export a database to and from secondary storage.\n",
    "- **Bulk Load**: DBMSs allow DBAs to use an optimized utility to import large volumes of data.\n",
    "- **Monitoring, Tuning, and Resource Governors**: DBMSs allow DBAs to identify and to prevent SQL statements that consume more resources than desirable."
   ]
  }
 ],
 "metadata": {
  "kernelspec": {
   "display_name": "SQL",
   "language": "SQL",
   "name": "sql"
  },
  "language_info": {
   "codemirror_mode": "sql",
   "file_extension": ".sql",
   "mimetype": "",
   "name": "SQL",
   "nbconverter_exporter": "",
   "version": ""
  },
  "toc": {
   "base_numbering": 1,
   "nav_menu": {},
   "number_sections": false,
   "sideBar": false,
   "skip_h1_title": false,
   "title_cell": "Table of Contents",
   "title_sidebar": "Contents",
   "toc_cell": false,
   "toc_position": {},
   "toc_section_display": false,
   "toc_window_display": false
  }
 },
 "nbformat": 4,
 "nbformat_minor": 2
}
