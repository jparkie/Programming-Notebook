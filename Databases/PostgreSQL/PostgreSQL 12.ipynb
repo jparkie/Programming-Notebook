{
 "cells": [
  {
   "cell_type": "markdown",
   "metadata": {},
   "source": [
    "# PostgreSQL 12\n",
    "*Author: Jacob Park*"
   ]
  },
  {
   "cell_type": "markdown",
   "metadata": {},
   "source": [
    "> PostgreSQL is a powerful, open source object-relational database system with over 30 years of active development that has earned it a strong reputation for reliability, feature robustness, and performance."
   ]
  },
  {
   "cell_type": "markdown",
   "metadata": {},
   "source": [
    "## Documentation"
   ]
  },
  {
   "cell_type": "markdown",
   "metadata": {},
   "source": [
    "- [Website](https://www.postgresql.org/)\n",
    "- [PostgreSQL 12 Documentation](https://www.postgresql.org/docs/12/index.html)\n",
    "- [Coding Conventions](https://www.postgresql.org/docs/12/source.html)\n",
    "- [General FAQs](https://wiki.postgresql.org/wiki/FAQ)\n",
    "- [Developer FAQs](https://wiki.postgresql.org/wiki/Developer_FAQ)\n",
    "- [Developer Wiki](https://wiki.postgresql.org/wiki/Development_information)\n",
    "- [Git Repository](https://git.postgresql.org/gitweb/?p=postgresql.git;a=summary)\n",
    "- [GitHub Mirror](https://github.com/postgres/postgres/tree/REL_12_3)\n",
    "- [PostgreSQL Developer Mailing List: pgsql-hackers](https://www.postgresql.org/list/pgsql-hackers/)\n",
    "- [Doxygen Documentation](https://doxygen.postgresql.org/)\n",
    "- [LCOV Coverage](https://coverage.postgresql.org/)\n",
    "- [Bug List](https://www.postgresql.org/list/pgsql-bugs/)\n",
    "- [TODO List](https://wiki.postgresql.org/wiki/Todo)\n",
    "- [The Internals of PostgreSQL](http://www.interdb.jp/pg/index.html)"
   ]
  },
  {
   "cell_type": "markdown",
   "metadata": {},
   "source": [
    "## Presentations"
   ]
  },
  {
   "cell_type": "markdown",
   "metadata": {},
   "source": [
    "- [Bruce Momjian's PostgreSQL Internals Through Pictures](pdfs/PostgreSQL%20Internals%20Through%20Pictures.pdf) - [Video](https://www.youtube.com/watch?v=JFh22atXTRQ).\n",
    "- [Bruce Momjian's Explaining the Postgres Query Optimizer](pdfs/Explaining%20the%20Postgres%20Query%20Optimizer) - [Video](https://www.youtube.com/watch?v=xqTNceHxkIo).\n",
    "- [Bruce Momjian's MVCC Unmasked](pdfs/MVCC%20Unmasked.pdf) - [Video](https://www.youtube.com/watch?v=sq_aO34SWZc).\n",
    "- [Bruce Momjian's Unlocking the Postgres Lock Manager](pdfs/Unlocking%20the%20Postgres%20Lock%20Manager.pdf) - [Video](https://www.youtube.com/watch?v=s3ee0nuDDqs).\n",
    "- [Bruce Momjian's Inside PostgreSQL Shared Memory](pdfs/Inside%20PostgreSQL%20Shared%20Memory.pdf) - [Video](https://www.youtube.com/watch?v=BNDjonm7s7I).\n",
    "- [Bruce Momjian's PostgreSQL Performance Tuning](pdfs/PostgreSQL%20Performance%20Tuning.pdf) - [Video](https://www.youtube.com/watch?v=xqTNceHxkIo).\n",
    "- [Bruce Momjian's Will Postgres Live Forever?](pdfs/Will%20Postgres%20Live%20Forever%3F.pdf) - [Video](https://www.youtube.com/watch?v=-uqa36qVAZc).\n",
    "- [Chris Travers's Introduction to Memory Contexts](pdfs/Introduction%20to%20Memory%20Contexts.pdf) - [Video](https://www.youtube.com/watch?v=tP2pHbKz2R0).\n",
    "- [Melanie Plageman's Intro to Postgres Planner Hacking](pdfs/Intro%20to%20Postgres%20Planner%20Hacking.pdf) - [Video](https://www.youtube.com/watch?v=j7UPVU5UCV4).\n",
    "- *Peter Eisentraut's How does PostgreSQL actually work?* - [Video](https://www.youtube.com/watch?v=zkEhX0yOL3k).\n",
    "- [Stephen Frost's Hacking PostgreSQL](pdfs/Hacking%20PostgreSQL.pdf) - [Video](https://www.youtube.com/watch?v=51yez5gBFmI).\n",
    "- [Thomas Munro's Parallelism in PostgreSQL 11](pdfs/Parallelism%20in%20PostgreSQL%2011.pdf) - [Video](https://www.youtube.com/watch?v=jWIOZzezbb8)."
   ]
  },
  {
   "cell_type": "markdown",
   "metadata": {},
   "source": [
    "## Top-Level Directories"
   ]
  },
  {
   "cell_type": "markdown",
   "metadata": {},
   "source": [
    "### Root Directories - `/`\n",
    "\n",
    "- [/config](https://github.com/postgres/postgres/tree/REL_12_3/config) - This directory contains the configuration files (`*.m4`) for building PostgreSQL.\n",
    "- [/contrib](https://github.com/postgres/postgres/tree/REL_12_3/contrib) - This directory contains the source codes of extensions, tools, and utilities separate from the core of PostgreSQL.\n",
    "- [/doc](https://github.com/postgres/postgres/tree/REL_12_3/doc) - This directory contains the documentation files (`*.sgml`) for building the documentation of PostgreSQL.\n",
    "- [/src](https://github.com/postgres/postgres/tree/REL_12_3/src) - This directory contains the source codes of the core of PostgreSQL.\n",
    "\n",
    "### Source Directories - `/src`\n",
    "\n",
    "- [/src/backend](https://github.com/postgres/postgres/tree/REL_12_3/src/backend) - This directory contains the source codes of the server of PostgreSQL.\n",
    "- [/src/bin](https://github.com/postgres/postgres/tree/REL_12_3/src/bin) - This directory contains the source codes of the binaries that DBAs use to administer and to monitor installations of PostgreSQL.\n",
    "- [/src/common](https://github.com/postgres/postgres/tree/REL_12_3/src/common) - This directory contains the source codes common to PostgreSQL's *Backend* and *Frontend*.\n",
    "- [/src/fe_utils](https://github.com/postgres/postgres/tree/REL_12_3/src/fe_utils) - This directory contains the source codes auxiliary to PostgreSQL's *Frontend Utilities*.\n",
    "- [/src/include](https://github.com/postgres/postgres/tree/REL_12_3/src/include) - This directory contains the header files (`*.h`) of PostgreSQL's *Backend*.\n",
    "- [/src/interfaces](https://github.com/postgres/postgres/tree/REL_12_3/src/interfaces) - This directory contains the source codes of the clients of PostgreSQL: [libpq](https://www.postgresql.org/docs/12/libpq.html) and [ECPG](https://www.postgresql.org/docs/12/ecpg.html).\n",
    "- [/src/makefiles](https://github.com/postgres/postgres/tree/REL_12_3/src/makefiles) - This directory contains the `make` files (`Makefile.*`) for building PostgreSQL on various platforms.\n",
    "- [/src/pl](https://github.com/postgres/postgres/tree/REL_12_3/src/pl) - This directory contains the source codes of *Procedural Languages* supported by PostgreSQL: [PL/pgSQL](https://www.postgresql.org/docs/12/plpgsql.html), [PL/Tcl](https://www.postgresql.org/docs/12/pltcl.html), [PL/Perl](https://www.postgresql.org/docs/12/plperl.html), and [PL/Python](https://www.postgresql.org/docs/12/plpython.html).\n",
    "- [/src/port](https://github.com/postgres/postgres/tree/REL_12_3/src/port) - This directory contains the source codes of the special-behavior functions required to port PostgreSQL to various platforms.\n",
    "- [/src/template](https://github.com/postgres/postgres/tree/REL_12_3/src/template) - This directory contains the template files for configuring the PostgreSQL source tree for various platforms: [`configure`](https://github.com/postgres/postgres/blob/REL_12_3/configure).\n",
    "- [/src/test](https://github.com/postgres/postgres/tree/REL_12_3/src/test) - This directory contains the source codes of the testing infrastructure of PostgreSQL.\n",
    "- [/src/timezone](https://github.com/postgres/postgres/tree/REL_12_3/src/timezone) - This directory contains the source codes of PostgreSQL's fork of IANA's [Time Zone Database](https://www.iana.org/time-zones).\n",
    "- [/src/tools](https://github.com/postgres/postgres/tree/REL_12_3/src/tools) - This directory contains the Perl/Shell scripts intended to assist contributors.\n",
    "- [/src/tutorial](https://github.com/postgres/postgres/tree/REL_12_3/src/tutorial) - This directory contains the SQL scripts for [PostgreSQL 12's Tutorial](https://www.postgresql.org/docs/12/tutorial.html).\n",
    "\n",
    "### Backend Directories - `/src/backend`\n",
    "\n",
    "- [/src/backend/access](https://github.com/postgres/postgres/tree/REL_12_3/src/backend/access) - This directory contains the source codes related to the *Access Methods* of PostgreSQL: [Table Access Method Interface Definition](https://www.postgresql.org/docs/12/tableam.html) and [Index Access Method Interface Definition](https://www.postgresql.org/docs/12/indexam.html).\n",
    "- [/src/backend/bootstrap](https://github.com/postgres/postgres/tree/REL_12_3/src/backend/bootstrap) - This directory contains the source codes related to [`initdb`](https://www.postgresql.org/docs/12/app-initdb.html).\n",
    "- [/src/backend/catalog](https://github.com/postgres/postgres/tree/REL_12_3/src/backend/catalog) - This directory contains the source codes related to reading and writing the catalogs of PostgreSQL: [System Catalogs](https://www.postgresql.org/docs/12/catalogs.html).\n",
    "- [/src/backend/commands](https://github.com/postgres/postgres/tree/REL_12_3/src/backend/commands) - This directory contains the source codes related to user-level DDL statements: [SQL Commands](https://www.postgresql.org/docs/12/sql-commands.html).\n",
    "- [/src/backend/executor](https://github.com/postgres/postgres/tree/REL_12_3/src/backend/executor) - This directory contains the source codes related to the *Query Executor* of PostgreSQL: [Executor](https://www.postgresql.org/docs/12/executor.html).\n",
    "- [/src/backend/foreign](https://github.com/postgres/postgres/tree/REL_12_3/src/backend/foreign) - This directory contains the source codes related to the *Foreign Data Wrappers API* of PostgreSQL: [postgres_fdw](https://www.postgresql.org/docs/12/postgres-fdw.html).\n",
    "- [/src/backend/jit](https://github.com/postgres/postgres/tree/REL_12_3/src/backend/jit) - This directory contains the source codes related to the *Just-In-Time Compilation* infrastructure of PostgreSQL: [Just-in-Time Compilation (JIT)](https://www.postgresql.org/docs/12/jit.html).\n",
    "- [/src/backend/lib](https://github.com/postgres/postgres/tree/REL_12_3/src/backend/lib) - This directory contains the source codes of general purpose data structures available anywhere in `/src/backend`.\n",
    "- [/src/backend/libpq](https://github.com/postgres/postgres/tree/REL_12_3/src/backend/libpq) - This directory contains the source codes related to the *Frontend/Backend Protocol* of PostgreSQL: [How Connections Are Established](https://www.postgresql.org/docs/12/connect-estab.html) and [Frontend/Backend Protocol](https://www.postgresql.org/docs/12/protocol.html) .\n",
    "- [/src/backend/main](https://github.com/postgres/postgres/tree/REL_12_3/src/backend/main) - This directory contains the source codes related to the `main()` entrypoint of a `postgres`-affiliated process.\n",
    "- [/src/backend/nodes](https://github.com/postgres/postgres/tree/REL_12_3/src/backend/nodes) - This directory contains the source codes related to the *Nodes* infrastructure of PostgreSQL.\n",
    "- [/src/backend/optimizer](https://github.com/postgres/postgres/tree/REL_12_3/src/backend/optimizer) - This directory contains the source codes related to the *Query Optimizer* of PostgreSQL: [Planner/Optimizer](https://www.postgresql.org/docs/12/planner-optimizer.html) and [Genetic Query Optimizer](https://www.postgresql.org/docs/12/geqo.html).\n",
    "- [/src/backend/parser](https://github.com/postgres/postgres/tree/REL_12_3/src/backend/parser) - This directory contains the source codes related to the *SQL Parser* of PostgreSQL: [The Parser Stage](https://www.postgresql.org/docs/12/parser-stage.html).\n",
    "- [/src/backend/partitioning](https://github.com/postgres/postgres/tree/REL_12_3/src/backend/partitioning) - This directory contains the source codes related to *Declarative Partitioning* in PostgreSQL: [Table Partitioning](https://www.postgresql.org/docs/12/ddl-partitioning.html).\n",
    "- [/src/backend/po](https://github.com/postgres/postgres/tree/REL_12_3/src/backend/po) - This directory contains the translation files (`*.po`) for translating the *Backend* messages of PostgreSQL: [Native Language Support](https://www.postgresql.org/docs/12/nls.html).\n",
    "- [/src/backend/port](https://github.com/postgres/postgres/tree/REL_12_3/src/backend/port) - This directory contains the source codes related to *Backend*-specific, special-behavior functions required to port PostgreSQL to various platforms.\n",
    "- [/src/backend/postmaster](https://github.com/postgres/postgres/tree/REL_12_3/src/backend/postmaster) - This directory contains the source codes related to the *Dispatcher* of PostgreSQL: [`postmaster`](https://www.postgresql.org/docs/12/app-postmaster.html).\n",
    "- [/src/backend/regex](https://github.com/postgres/postgres/tree/REL_12_3/src/backend/regex) - This directory contains the source codes related to regular expressions.\n",
    "- [/src/backend/replication](https://github.com/postgres/postgres/tree/REL_12_3/src/backend/replication) - This directory contains the source codes related to the *Write-Ahead-Log Replication* of PostgreSQL: [Log-Shipping Standby Servers](https://www.postgresql.org/docs/12/warm-standby.html).\n",
    "- [/src/backend/rewrite](https://github.com/postgres/postgres/tree/REL_12_3/src/backend/rewrite) - This directory contains the source codes related to the *Query Rewriter* of PostgreSQL: [The PostgreSQL Rule System](https://www.postgresql.org/docs/12/rule-system.html).\n",
    "- [/src/backend/snowball](https://github.com/postgres/postgres/tree/REL_12_3/src/backend/snowball) - This directory contains the source codes related to *Snowball Stemming*: [Dictionaries: Snowball Dictionary](https://www.postgresql.org/docs/12/textsearch-dictionaries.html#TEXTSEARCH-SNOWBALL-DICTIONARY).\n",
    "- [/src/backend/statistics](https://github.com/postgres/postgres/tree/REL_12_3/src/backend/statistics) - This directory contains the source codes related to the *Optimizer Statistics Gathering* of PostgreSQL: [Statistics Used by the Planner](https://www.postgresql.org/docs/12/planner-stats.html) and [How the Planner Uses Statistics](https://www.postgresql.org/docs/12/planner-stats-details.html).\n",
    "- [/src/backend/storage](https://github.com/postgres/postgres/tree/REL_12_3/src/backend/storage) - This directory contains the source codes related to the *Transactional Storage Manager*: [Database Physical Storage](https://www.postgresql.org/docs/12/storage.html).\n",
    "- [/src/backend/tcop](https://github.com/postgres/postgres/tree/REL_12_3/src/backend/tcop) - This directory contains the source codes related to *Traffic Cop* which dispatches requests on behalf of the `postgres` process to the *SQL Parser*, *Query Optimizer*, *Query Executor*, and *Commands* of PostgreSQL.\n",
    "- [/src/backend/tsearch](https://github.com/postgres/postgres/tree/REL_12_3/src/backend/tsearch) - This directory contains the source codes related to *Full-Text Search* of PostgreSQL: [Full Text Search](https://www.postgresql.org/docs/12/textsearch.html).\n",
    "- [/src/backend/utils](https://github.com/postgres/postgres/tree/REL_12_3/src/backend/utils) - This directory contains the source codes related to various *Backend* utilities such as [*Abstract Data Types*](https://github.com/postgres/postgres/tree/REL_12_3/src/backend/utils/adt), [*Caches*](https://github.com/postgres/postgres/tree/REL_12_3/src/backend/utils/cache), [*Error Handling*](https://github.com/postgres/postgres/tree/REL_12_3/src/backend/utils/error), [*Function Manager*](https://github.com/postgres/postgres/tree/REL_12_3/src/backend/utils/fmgr), [*Hashing*](https://github.com/postgres/postgres/tree/REL_12_3/src/backend/utils/hash), [*Global Variables*](https://github.com/postgres/postgres/tree/REL_12_3/src/backend/utils/init), [*Strings*](https://github.com/postgres/postgres/tree/REL_12_3/src/backend/utils/mb), [*GUCs*](https://github.com/postgres/postgres/tree/REL_12_3/src/backend/utils/misc), [*Memory Contexts*](https://github.com/postgres/postgres/tree/REL_12_3/src/backend/utils/mmgr), [*Resource Owners*](https://github.com/postgres/postgres/tree/REL_12_3/src/backend/utils/resowner), [*Sorting*](https://github.com/postgres/postgres/tree/REL_12_3/src/backend/utils/sort), and [*Tuple Timestamps*](https://github.com/postgres/postgres/tree/REL_12_3/src/backend/utils/time)."
   ]
  },
  {
   "cell_type": "markdown",
   "metadata": {},
   "source": [
    "## Backend"
   ]
  },
  {
   "cell_type": "markdown",
   "metadata": {},
   "source": [
    "### READMEs\n",
    "\n",
    "- [/src/backend/access/brin/README](https://github.com/postgres/postgres/tree/REL_12_3/src/backend/access/brin/README)\n",
    "- [/src/backend/access/gin/README](https://github.com/postgres/postgres/tree/REL_12_3/src/backend/access/gin/README)\n",
    "- [/src/backend/access/gist/README](https://github.com/postgres/postgres/tree/REL_12_3/src/backend/access/gist/README)\n",
    "- [/src/backend/access/hash/README](https://github.com/postgres/postgres/tree/REL_12_3/src/backend/access/hash/README)\n",
    "- [/src/backend/access/heap/README.HOT](https://github.com/postgres/postgres/tree/REL_12_3/src/backend/access/heap/README.HOT)\n",
    "- [/src/backend/access/heap/README.tuplock](https://github.com/postgres/postgres/tree/REL_12_3/src/backend/access/heap/README.tuplock)\n",
    "- [/src/backend/access/nbtree/README](https://github.com/postgres/postgres/tree/REL_12_3/src/backend/access/nbtree/README)\n",
    "- [/src/backend/access/spgist/README](https://github.com/postgres/postgres/tree/REL_12_3/src/backend/access/spgist/README)\n",
    "- [/src/backend/access/transam/README](https://github.com/postgres/postgres/tree/REL_12_3/src/backend/access/transam/README)\n",
    "- [/src/backend/access/transam/README.parallel](https://github.com/postgres/postgres/tree/REL_12_3/src/backend/access/transam/README.parallel)\n",
    "- [/src/backend/executor/README](https://github.com/postgres/postgres/tree/REL_12_3/src/backend/executor/README)\n",
    "- [/src/backend/jit/README](https://github.com/postgres/postgres/tree/REL_12_3/src/backend/jit/README)\n",
    "- [/src/backend/lib/README](https://github.com/postgres/postgres/tree/REL_12_3/src/backend/lib/README)\n",
    "- [/src/backend/libpq/README.SSL](https://github.com/postgres/postgres/tree/REL_12_3/src/backend/libpq/README.SSL)\n",
    "- [/src/backend/nodes/README](https://github.com/postgres/postgres/tree/REL_12_3/src/backend/nodes/README)\n",
    "- [/src/backend/optimizer/README](https://github.com/postgres/postgres/tree/REL_12_3/src/backend/optimizer/README)\n",
    "- [/src/backend/optimizer/plan/README](https://github.com/postgres/postgres/tree/REL_12_3/src/backend/optimizer/plan/README)\n",
    "- [/src/backend/parser/README](https://github.com/postgres/postgres/tree/REL_12_3/src/backend/parser/README)\n",
    "- [/src/backend/regex/README](https://github.com/postgres/postgres/tree/REL_12_3/src/backend/regex/README)\n",
    "- [/src/backend/replication/README](https://github.com/postgres/postgres/tree/REL_12_3/src/backend/replication/README)\n",
    "- [/src/backend/snowball/README](https://github.com/postgres/postgres/tree/REL_12_3/src/backend/snowball/README)\n",
    "- [/src/backend/statistics/README](https://github.com/postgres/postgres/tree/REL_12_3/src/backend/statistics/README)\n",
    "- [/src/backend/statistics/README.dependencies](https://github.com/postgres/postgres/tree/REL_12_3/src/backend/statistics/README.dependencies)\n",
    "- [/src/backend/statistics/README.mcv](https://github.com/postgres/postgres/tree/REL_12_3/src/backend/statistics/README.mcv)\n",
    "- [/src/backend/storage/buffer/README](https://github.com/postgres/postgres/tree/REL_12_3/src/backend/storage/buffer/README)\n",
    "- [/src/backend/storage/freespace/README](https://github.com/postgres/postgres/tree/REL_12_3/src/backend/storage/freespace/README)\n",
    "- [/src/backend/storage/lmgr/README](https://github.com/postgres/postgres/tree/REL_12_3/src/backend/storage/lmgr/README)\n",
    "- [/src/backend/storage/lmgr/README-SSI](https://github.com/postgres/postgres/tree/REL_12_3/src/backend/storage/lmgr/README-SSI)\n",
    "- [/src/backend/storage/lmgr/README.barrier](https://github.com/postgres/postgres/tree/REL_12_3/src/backend/storage/lmgr/README.barrier)\n",
    "- [/src/backend/storage/page/README](https://github.com/postgres/postgres/tree/REL_12_3/src/backend/storage/page/README)\n",
    "- [/src/backend/storage/smgr/README](https://github.com/postgres/postgres/tree/REL_12_3/src/backend/storage/smgr/README)\n",
    "- [/src/backend/utils/fmgr/README](https://github.com/postgres/postgres/tree/REL_12_3/src/backend/utils/fmgr/README)\n",
    "- [/src/backend/utils/mb/README](https://github.com/postgres/postgres/tree/REL_12_3/src/backend/utils/mb/README)\n",
    "- [/src/backend/utils/mb/conversion_procs/README.euc_jp](https://github.com/postgres/postgres/tree/REL_12_3/src/backend/utils/mb/conversion_procs/README.euc_jp)\n",
    "- [/src/backend/utils/misc/README](https://github.com/postgres/postgres/tree/REL_12_3/src/backend/utils/misc/README)\n",
    "- [/src/backend/utils/mmgr/README](https://github.com/postgres/postgres/tree/REL_12_3/src/backend/utils/mmgr/README)\n",
    "- [/src/backend/utils/resowner/README](https://github.com/postgres/postgres/tree/REL_12_3/src/backend/utils/resowner/README)"
   ]
  },
  {
   "cell_type": "markdown",
   "metadata": {},
   "source": [
    "### Flowchart\n",
    "\n",
    "- [Backend Flowchart: Diagram](https://www.postgresql.org/developer/backend/)\n",
    "- [Backend Flowchart: Index](https://wiki.postgresql.org/wiki/Backend_flowchart)"
   ]
  },
  {
   "cell_type": "markdown",
   "metadata": {},
   "source": [
    "## Commons"
   ]
  },
  {
   "cell_type": "markdown",
   "metadata": {},
   "source": [
    "### Header Files\n",
    "\n",
    "- [/src/include/c.h](https://github.com/postgres/postgres/blob/REL_12_3/src/include/c.h) - *Functional C Definitions*.\n",
    "- [/src/include/postgres.h](https://github.com/postgres/postgres/blob/REL_12_3/src/include/postgres.h) - *Primary Server-Side Commons*.\n",
    "- [/src/include/postgres_fe.h](https://github.com/postgres/postgres/blob/REL_12_3/src/include/postgres_fe.h) - *Primary Client-Side Commons*.\n",
    "- [/src/include/postgres_ext.h](https://github.com/postgres/postgres/blob/REL_12_3/src/include/postgres_ext.h) - *Everywhere Commons*."
   ]
  },
  {
   "cell_type": "markdown",
   "metadata": {},
   "source": [
    "### Functional C Definitions: `c.h`\n",
    "\n",
    "#### C Standard Library\n",
    "\n",
    "- [#include <assert.h>](https://en.cppreference.com/w/c/error)\n",
    "- [#include <errno.h>](https://en.cppreference.com/w/c/error)\n",
    "- [#include <locale.h>](https://en.cppreference.com/w/c/locale)\n",
    "- [#include <stdarg.h>](https://en.cppreference.com/w/c/variadic)\n",
    "- [#include <stddef.h>](https://en.cppreference.com/w/c/types)\n",
    "- [#include <stdint.h>](https://en.cppreference.com/w/c/types/integer)\n",
    "- [#include <stdio.h>](https://en.cppreference.com/w/c/io)\n",
    "- [#include <stdlib.h>](https://en.cppreference.com/w/c/program)\n",
    "- [#include <string.h>](https://en.cppreference.com/w/c/string/byte)\n",
    "- [#include <sys/types.h>](https://pubs.opengroup.org/onlinepubs/007908775/xsh/systypes.h.html)\n",
    "\n",
    "#### Standard Types\n",
    "\n",
    "- `bool` - A Boolean type with `true` and `false` literal macros.\n",
    "- `int8` - An exact 8-bit signed integer type.\n",
    "- `int16` - An exact 16-bit signed integer type.\n",
    "- `int32` - An exact 32-bit signed integer type.\n",
    "- `int64` - An exact 64-bit signed integer type.\n",
    "- `int128` - An exact 128-bit signed integer type.\n",
    "- `uint8` - An exact 8-bit unsigned integer type.\n",
    "- `uint16` - An exact 16-bit unsigned integer type.\n",
    "- `uint32` - An exact 32-bit unsigned integer type.\n",
    "- `uint64` - An exact 64-bit unsigned integer type.\n",
    "- `uint128` - An exact 128-bit unsigned integer type.\n",
    "- `bits8` - A minimum 8-bit bitwise type.\n",
    "- `bits16` - A minimum 16-bit bitwise type.\n",
    "- `bits32` - A minimum 32-bit bitwise type.\n",
    "- `float4` - A minimum 4-byte floating-point decimal type.\n",
    "- `float8` - A minimum 8-byte floating-point decimal type.\n",
    "- `Pointer` - A type representing the address of any memory resident object.\n",
    "- `Size` - A type representing the size of any memory resident object.\n",
    "- `Index` - A type representing an index into any memory resident array; a `Index` is nonnegative.\n",
    "- `Offset` - A type representing an offset into any memory resident array; a `Offset` may be negative.\n",
    "\n",
    "#### PostgreSQL Types\n",
    "\n",
    "- `RegProcedure` - An *Object Identifer* type representing a function with arguments, per PostgreSQL's ADTs.\n",
    "- `TransactionId` - A 32-bit unsigned integer type representing a unique identifier per transaction.\n",
    "- `LocalTransactionId` - A 32-bit unsigned integer type representing a unique identifier per local transaction.\n",
    "- `SubTransactionId` - A 32-bit unsigned integer type representing a unique identifier per subtransaction.\n",
    "- `MultiXactId` - A 32-bit unsigned integer type representing a unique identifier per *multixact* (i.e., *Row Locking by Multiple Transactions*).\n",
    "- `MultiXactOffset` - A 32-bit unsigned integer type representing a unique offset to distinguish each transaction within a *multixact*.\n",
    "- `CommandId` - A 32-bit unsigned integer type representing a INSERT/DELETE ordering within a transaction.\n",
    "\n",
    "#### Assertions\n",
    "\n",
    "- `#define Assert(condition)` - A run-time general assertion; this assertion creates a trap with `errorType = \"FailedAssertion\"`.\n",
    "- `#define AssertMacro(p)` - A run-time macro assertion; this assertion creates a trap with `errorType = \"FailedAssertion\"`.\n",
    "- `#define AssertArg(condition)` - A run-time argument assertion; this assertion creates a trap with `errorType = \"BadArgument\"`.\n",
    "- `#define AssertState(condition)` - A run-time state assertion; this assertion creates a trap with `errorType = \"BadState\"`.\n",
    "- `#define AssertPointerAlignment(ptr, bndr)` - A run-time assertion that checks that `ptr` is `bndr` aligned; this assertion creates a trap with `errorType = \"UnalignedPointer\"`.\n",
    "- `#define StaticAssertStmt(condition, errmessage)` - A compile-time assertion statement.\n",
    "- `#define StaticAssertExpr(condition, errmessage)` - A compile-time assertion expression.\n",
    "- `#define AssertVariableIsOfType(varname, typename)` - A compile-time assertion statement that checks that a variable has the specified type.\n",
    "- `#define AssertVariableIsOfTypeMacro(varname, typename)` - A compile-time assertion expression that checks that a variable has the specified type.\n",
    "\n",
    "#### General Macros\n",
    "\n",
    "- `#define Max(x, y)` - Returns the maximum of two numbers.\n",
    "- `#define Min(x, y)` - Returns the minimum of two numbers.\n",
    "- `#define Abs(x)` - Return the absolute value of the argument.\n",
    "- `#define StrNCpy(dst,src,len)` - See [`strncpy()`](https://en.cppreference.com/w/c/string/byte/strncpy); this method macro guarantees that the result string will be null-terminated.\n",
    "- `#define MemSet(start, val, len)` - See [`memset()`](https://en.cppreference.com/w/c/string/byte/memset); this method macro is faster than its standard library counterpart.\n",
    "- `#define MemSetAligned(start, val, len)` - See [`memset()`](https://en.cppreference.com/w/c/string/byte/memset); this method macro omits the test to see if `start` is word-aligned.\n",
    "- `#define FLOAT4_FITS_IN_INT16(num)` - Checks whether a 4-byte floating-point decimal fits in a 16-bit signed integer range.\n",
    "- `#define FLOAT4_FITS_IN_INT32(num)` - Checks whether a 4-byte floating-point decimal fits in a 32-bit signed integer range.\n",
    "- `#define FLOAT4_FITS_IN_INT64(num)` - Checks whether a 4-byte floating-point decimal fits in a 64-bit signed integer range.\n",
    "- `#define FLOAT8_FITS_IN_INT16(num)` - Checks whether a 8-byte floating-point decimal fits in a 16-bit signed integer range.\n",
    "- `#define FLOAT8_FITS_IN_INT32(num)` - Checks whether a 8-byte floating-point decimal fits in a 32-bit signed integer range.\n",
    "- `#define FLOAT8_FITS_IN_INT64(num)` - Checks whether a 8-byte floating-point decimal fits in a 64-bit signed integer range.\n",
    "\n",
    "#### Miscellaneous\n",
    "\n",
    "- `PGAlignedBlock` - A type representing an aligned `BLCKSZ`-sized buffer.\n",
    "- `PGAlignedXLogBlock` - A type representing an aligned `XLOG_BLCK`-sized buffer."
   ]
  },
  {
   "cell_type": "markdown",
   "metadata": {},
   "source": [
    "### Server-Side: `postgres.h`\n",
    "\n",
    "TODO."
   ]
  },
  {
   "cell_type": "markdown",
   "metadata": {},
   "source": [
    "### Client-Side: `postgres_fe.h`\n",
    "\n",
    "TODO."
   ]
  },
  {
   "cell_type": "markdown",
   "metadata": {},
   "source": [
    "### Everywhere: `postgres_ext.h`\n",
    "\n",
    "#### PostgreSQL Types\n",
    "\n",
    "- `Oid` - An *Object Identifier*."
   ]
  }
 ],
 "metadata": {
  "kernelspec": {
   "display_name": "SQL",
   "language": "SQL",
   "name": "sql"
  },
  "language_info": {
   "codemirror_mode": "sql",
   "file_extension": ".sql",
   "mimetype": "",
   "name": "SQL",
   "nbconverter_exporter": "",
   "version": ""
  },
  "toc": {
   "base_numbering": 1,
   "nav_menu": {},
   "number_sections": false,
   "sideBar": false,
   "skip_h1_title": false,
   "title_cell": "Table of Contents",
   "title_sidebar": "Contents",
   "toc_cell": false,
   "toc_position": {},
   "toc_section_display": false,
   "toc_window_display": false
  }
 },
 "nbformat": 4,
 "nbformat_minor": 2
}
