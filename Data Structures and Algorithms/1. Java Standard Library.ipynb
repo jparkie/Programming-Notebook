{
 "cells": [
  {
   "cell_type": "markdown",
   "metadata": {},
   "source": [
    "# Java Standard Library\n",
    "*Author: Jacob Park*"
   ]
  },
  {
   "cell_type": "markdown",
   "metadata": {},
   "source": [
    "## Java™ Platform, Standard Edition 8 API Specification\n",
    "- [ArrayDeque](https://docs.oracle.com/javase/7/docs/api/java/util/ArrayDeque.html)\n",
    "- [ArrayList](https://docs.oracle.com/javase/8/docs/api/java/util/ArrayList.html)\n",
    "- [Arrays](https://docs.oracle.com/javase/8/docs/api/java/util/Arrays.html)\n",
    "- [BigInteger](https://docs.oracle.com/javase/8/docs/api/java/math/BigInteger.html)\n",
    "- [BitSet](https://docs.oracle.com/javase/8/docs/api/java/util/BitSet.html)\n",
    "- [Collections](https://docs.oracle.com/javase/8/docs/api/java/util/Collections.html)\n",
    "- [DoubleSummaryStatistics](https://docs.oracle.com/javase/8/docs/api/java/util/DoubleSummaryStatistics.html)\n",
    "- [HashMap](https://docs.oracle.com/javase/8/docs/api/java/util/HashMap.html)\n",
    "- [HashSet](https://docs.oracle.com/javase/8/docs/api/java/util/HashSet.html)\n",
    "- [LinkedList](https://docs.oracle.com/javase/8/docs/api/java/util/LinkedList.html)\n",
    "- [LongSummaryStatistics](https://docs.oracle.com/javase/8/docs/api/java/util/LongSummaryStatistics.html)\n",
    "- [Math](https://docs.oracle.com/javase/8/docs/api/java/lang/Math.html)\n",
    "- [MessageDigest](https://docs.oracle.com/javase/8/docs/api/java/security/MessageDigest.html)\n",
    "- [PriorityQueue](https://docs.oracle.com/javase/8/docs/api/java/util/PriorityQueue.html)\n",
    "- [Scanner](https://docs.oracle.com/javase/8/docs/api/java/util/Scanner.html)\n",
    "- [Stack](https://docs.oracle.com/javase/8/docs/api/java/util/Stack.html)\n",
    "- [StringBuffer](https://docs.oracle.com/javase/8/docs/api/java/lang/StringBuffer.html)\n",
    "- [TreeMap](https://docs.oracle.com/javase/8/docs/api/java/util/TreeMap.html)\n",
    "- [TreeSet](https://docs.oracle.com/javase/8/docs/api/java/util/TreeSet.html)"
   ]
  },
  {
   "cell_type": "markdown",
   "metadata": {},
   "source": [
    "## Recommended Imports"
   ]
  },
  {
   "cell_type": "code",
   "execution_count": 1,
   "metadata": {},
   "outputs": [
    {
     "data": {
      "text/plain": [
       "null"
      ]
     },
     "execution_count": 1,
     "metadata": {},
     "output_type": "execute_result"
    }
   ],
   "source": [
    "import java.lang.Math;\n",
    "import java.util.*;\n",
    "import java.util.Arrays.*;\n",
    "import java.util.Collections.*;"
   ]
  },
  {
   "cell_type": "markdown",
   "metadata": {},
   "source": [
    "## Recommended Console Input"
   ]
  },
  {
   "cell_type": "code",
   "execution_count": 2,
   "metadata": {},
   "outputs": [
    {
     "data": {
      "text/plain": [
       "null"
      ]
     },
     "execution_count": 2,
     "metadata": {},
     "output_type": "execute_result"
    }
   ],
   "source": [
    "import java.util.*;\n",
    "\n",
    "final Scanner scanner = new Scanner(System.in);"
   ]
  },
  {
   "cell_type": "markdown",
   "metadata": {},
   "source": [
    "## Recommended Console Output"
   ]
  },
  {
   "cell_type": "code",
   "execution_count": 3,
   "metadata": {},
   "outputs": [
    {
     "name": "stdout",
     "output_type": "stream",
     "text": [
      "Hello Jacob! It's 2018!\n"
     ]
    },
    {
     "data": {
      "text/plain": [
       "null"
      ]
     },
     "execution_count": 3,
     "metadata": {},
     "output_type": "execute_result"
    }
   ],
   "source": [
    "import java.util.*;\n",
    "\n",
    "System.out.println(String.format(\"Hello %s! It's %d!\", \"Jacob\", 2018));"
   ]
  }
 ],
 "metadata": {
  "kernelspec": {
   "display_name": "Java",
   "language": "java",
   "name": "java"
  },
  "language_info": {
   "codemirror_mode": "text/x-java",
   "file_extension": ".java",
   "mimetype": "",
   "name": "Java",
   "nbconverter_exporter": "",
   "version": "1.8.0_144"
  }
 },
 "nbformat": 4,
 "nbformat_minor": 2
}
