{
 "cells": [
  {
   "cell_type": "markdown",
   "metadata": {},
   "source": [
    "# Java Standard Library\n",
    "*Author: Jacob Park*"
   ]
  },
  {
   "cell_type": "markdown",
   "metadata": {},
   "source": [
    "## Java™ Platform, Standard Edition 8 API Specification\n",
    "- [ArrayDeque](https://docs.oracle.com/javase/7/docs/api/java/util/ArrayDeque.html)\n",
    "    - `offer(E e)` - Inserts the specified element at the end of this deque.\n",
    "    - `poll()` - Retrieves and removes the head of the queue represented by this deque.\n",
    "    - `peekFirst()` - Retrieves, but does not remove, the first element of this deque, or returns null if this deque is empty.\n",
    "    - `push(E e)` - Pushes an element onto the stack represented by this deque.\n",
    "    - `pop()` - Pops an element from the stack represented by this deque.\n",
    "    - `peekLast()` - Retrieves, but does not remove, the last element of this deque, or returns null if this deque is empty.\n",
    "- [ArrayList](https://docs.oracle.com/javase/8/docs/api/java/util/ArrayList.html)\n",
    "    - `add(E e)` - Appends the specified element to the end of this list.\n",
    "    - `add(int index, E element)` - Inserts the specified element at the specified position in this list.\n",
    "    - `get(int index)` - Returns the element at the specified position in this list.\n",
    "    - `remove(int index)` - Removes the element at the specified position in this list.\n",
    "    - `set(int index, E element)` - Replaces the element at the specified position in this list with the specified element.\n",
    "    - `subList(int fromIndex, int toIndex)` - Returns a view of the portion of this list between the specified fromIndex, inclusive, and toIndex, exclusive.\n",
    "- [Arrays](https://docs.oracle.com/javase/8/docs/api/java/util/Arrays.html)\n",
    "    - `asList(T... a)` - Returns a fixed-size list backed by the specified array.\n",
    "    - `binarySearch(int[] a, int key)` - Searches the specified array of ints for the specified value using the binary search algorithm.\n",
    "    - `binarySearch(int[] a, int fromIndex, int toIndex, int key)` - Searches a range of the specified array of ints for the specified value using the binary search algorithm.\n",
    "    - `copyOf(int[] original, int newLength)` - Copies the specified array, truncating or padding with zeros (if necessary) so the copy has the specified length.\n",
    "    - `copyOfRange(int[] original, int from, int to)` - Copies the specified range of the specified array into a new array.\n",
    "    - `equals(int[] a, int[] a2)` - Returns true if the two specified arrays of ints are equal to one another.\n",
    "    - `fill(int[] a, int val)` - Assigns the specified int value to each element of the specified array of ints.\n",
    "    - `fill(int[] a, int fromIndex, int toIndex, int val)` - Assigns the specified int value to each element of the specified range of the specified array of ints.\n",
    "    - `hashCode(int[] a)` - Returns a hash code based on the contents of the specified array.\n",
    "    - `sort(int[] a)` - Sorts the specified array into ascending numerical order.\n",
    "    - `sort(int[] a, int fromIndex, int toIndex)` - Sorts the specified range of the array into ascending order.\n",
    "    - `toString(int[] a)` - Returns a string representation of the contents of the specified array.\n",
    "- [BigInteger](https://docs.oracle.com/javase/8/docs/api/java/math/BigInteger.html)\n",
    "    - `gcd(BigInteger val)` - Returns a `BigInteger` whose value is the greatest common divisor of `abs(this)` and `abs(val)`.\n",
    "    - `isProbablePrime(int certainty)` - Returns true if this `BigInteger` is probably prime, false if it's definitely composite.\n",
    "    - `nextProbablePrime()` - Returns the first integer greater than this BigInteger that is probably prime.\n",
    "- [BitSet](https://docs.oracle.com/javase/8/docs/api/java/util/BitSet.html)\n",
    "    - `cardinality()` - Returns the number of bits set to true in this `BitSet`.\n",
    "    - `clear(int bitIndex)` - Sets the bit specified by the index to false.\n",
    "    - `flip(int bitIndex)` - Sets the bit at the specified index to the complement of its current value.\n",
    "    - `get(int bitIndex)` - Returns the value of the bit with the specified index.\n",
    "    - `nextClearBit(int fromIndex)` - Returns the index of the first bit that is set to false that occurs on or after the specified starting index.\n",
    "    - `nextSetBit(int fromIndex)` - Returns the index of the first bit that is set to true that occurs on or after the specified starting index.\n",
    "    - `previousClearBit(int fromIndex)` - Returns the index of the nearest bit that is set to false that occurs on or before the specified starting index.\n",
    "    - `previousSetBit(int fromIndex)` - Returns the index of the nearest bit that is set to true that occurs on or before the specified starting index.\n",
    "    - `set(int bitIndex)` - Sets the bit at the specified index to true.\n",
    "- [Collections](https://docs.oracle.com/javase/8/docs/api/java/util/Collections.html)\n",
    "    - `binarySearch(List<? extends Comparable<? super T>> list, T key)` - Searches the specified list for the specified object using the binary search algorithm.\n",
    "    - `copy(List<? super T> dest, List<? extends T> src)` - Copies all of the elements from one list into another.\n",
    "    - `disjoint(Collection<?> c1, Collection<?> c2)` - Returns true if the two specified collections have no elements in common.\n",
    "    - `fill(List<? super T> list, T obj)` - Replaces all of the elements of the specified list with the specified element.\n",
    "    - `frequency(Collection<?> c, Object o)` - Returns the number of elements in the specified collection equal to the specified object.\n",
    "    - `indexOfSubList(List<?> source, List<?> target)` - Returns the starting position of the first occurrence of the specified target list within the specified source list, or -1 if there is no such occurrence.\n",
    "    - `lastIndexOfSubList(List<?> source, List<?> target)` - Returns the starting position of the last occurrence of the specified target list within the specified source list, or -1 if there is no such occurrence.\n",
    "    - `max(Collection<? extends T> coll, Comparator<? super T> comp)` - Returns the maximum element of the given collection, according to the order induced by the specified comparator.\n",
    "    - `min(Collection<? extends T> coll, Comparator<? super T> comp)` - Returns the minimum element of the given collection, according to the order induced by the specified comparator.\n",
    "    - `reverse(List<?> list)` - Reverses the order of the elements in the specified list.\n",
    "    - `rotate(List<?> list, int distance)`- Rotates the elements in the specified list by the specified distance.\n",
    "    - `shuffle(List<?> list)` - Randomly permutes the specified list using a default source of randomness.\n",
    "    - `sort(List<T> list, Comparator<? super T> c)` - Sorts the specified list according to the order induced by the specified comparator.\n",
    "    - `swap(List<?> list, int i, int j)` - Swaps the elements at the specified positions in the specified list.\n",
    "- [DoubleSummaryStatistics](https://docs.oracle.com/javase/8/docs/api/java/util/DoubleSummaryStatistics.html)\n",
    "    - `accept(double value)` - Records another value into the summary information.\n",
    "    - `combine(DoubleSummaryStatistics other)` - Combines the state of another `DoubleSummaryStatistics` into this one.\n",
    "    - `getAverage()` - Returns the arithmetic mean of values recorded, or zero if no values have been recorded.\n",
    "    - `getCount()` - Return the count of values recorded.\n",
    "    - `getMax()` - Returns the maximum recorded value, `Double.NaN` if any recorded value was `NaN` or `Double.NEGATIVE_INFINITY` if no values were recorded.\n",
    "    - `getMin()` - Returns the minimum recorded value, `Double.NaN` if any recorded value was `NaN` or `Double.POSITIVE_INFINITY` if no values were recorded.\n",
    "    - `getSum()` - Returns the sum of values recorded, or zero if no values have been recorded.\n",
    "- [HashMap](https://docs.oracle.com/javase/8/docs/api/java/util/HashMap.html)\n",
    "    - `containsKey(Object key)` - Returns true if this map contains a mapping for the specified key.\n",
    "    - `get(Object key)` - Returns the value to which the specified key is mapped, or null if this map contains no mapping for the key.\n",
    "    - `put(K key, V value)` - Associates the specified value with the specified key in this map.\n",
    "    - `remove(Object key)` - Removes the mapping for the specified key from this map if present.\n",
    "- [HashSet](https://docs.oracle.com/javase/8/docs/api/java/util/HashSet.html)\n",
    "    - `add(E e)` - Adds the specified element to this set if it is not already present.\n",
    "    - `addAll(Collection<? extends E> c)` - Adds all of the elements in the specified collection to this set if they're not already present.\n",
    "    - `contains(Object o)` - Returns true if this set contains the specified element.\n",
    "    - `containsAll(Collection<?> c)` - Returns true if this set contains all of the elements of the specified collection.\n",
    "    - `remove(Object o)` - Removes the specified element from this set if it is present.\n",
    "    - `removeAll(Collection<?> c)` - Removes from this set all of its elements that are contained in the specified collection.\n",
    "    - `retainAll(Collection<?> c)` - Retains only the elements in this set that are contained in the specified collection.\n",
    "    - `size()` - Returns the number of elements in this set (its cardinality).\n",
    "- [LinkedList](https://docs.oracle.com/javase/8/docs/api/java/util/LinkedList.html)\n",
    "    - `addFirst(E e)` - Inserts the specified element at the beginning of this list.\n",
    "    - `addLast(E e)` - Appends the specified element to the end of this list.\n",
    "    - `getFirst()` - Returns the first element in this list.\n",
    "    - `getLast()` - Returns the last element in this list.\n",
    "    - `removeFirst()` - Removes and returns the first element from this list.\n",
    "    - `removeLast()` - Removes and returns the last element from this list.\n",
    "    - `descendingIterator()` - Returns an iterator over the elements in this deque in reverse sequential order.\n",
    "    - `iterator()` - Returns an iterator over elements of type `T`.\n",
    "- [Math](https://docs.oracle.com/javase/8/docs/api/java/lang/Math.html)\n",
    "    - `abs(double a)` - Returns the absolute value of a double value.\n",
    "    - `ceil(double a)` - Returns the smallest (closest to negative infinity) double value that is greater than or equal to the argument and is equal to a mathematical integer.\n",
    "    - `floor(double a)` - Returns the largest (closest to positive infinity) double value that is less than or equal to the argument and is equal to a mathematical integer.\n",
    "    - `max(double a, double b)` - Returns the greater of two double values.\n",
    "    - `min(double a, double b)` - Returns the smaller of two double values.\n",
    "    - `random()` - Returns a double value with a positive sign, greater than or equal to 0.0 and less than 1.0.\n",
    "    - `round(double a)` - Returns the closest long to the argument, with ties rounding to positive infinity.\n",
    "    - `signum(double d)` - Returns the signum function of the argument; zero if the argument is zero, 1.0 if the argument is greater than zero, -1.0 if the argument is less than zero.\n",
    "- [Objects](https://docs.oracle.com/javase/8/docs/api/java/util/Objects.html)\n",
    "    - `compare(T a, T b, Comparator<? super T> c)` - Returns 0 if the arguments are identical and `c.compare(a, b)` otherwise.\n",
    "    - `deepEquals(Object a, Object b)` - Returns true if the arguments are deeply equal to each other and false otherwise.\n",
    "    - `equals(Object a, Object b)` - Returns true if the arguments are equal to each other and false otherwise.\n",
    "    - `hash(Object... values)` - Generates a hash code for a sequence of input values.\n",
    "- [PriorityQueue](https://docs.oracle.com/javase/8/docs/api/java/util/PriorityQueue.html)\n",
    "    - `offer(E e)` - Inserts the specified element into this priority queue.\n",
    "    - `peek()` - Retrieves, but does not remove, the head of this queue, or returns null if this queue is empty.\n",
    "    - `poll()` - Retrieves and removes the head of this queue, or returns null if this queue is empty.\n",
    "- [Scanner](https://docs.oracle.com/javase/8/docs/api/java/util/Scanner.html)\n",
    "    - `findInLine(String pattern)` - Attempts to find the next occurrence of a pattern constructed from the specified string, ignoring delimiters.\n",
    "    - `hasNext(String pattern)` - Returns true if the next token matches the pattern constructed from the specified string.\n",
    "    - `next(String pattern)` - Returns the next token if it matches the pattern constructed from the specified string.\n",
    "    - `skip(String pattern)` - Skips input that matches a pattern constructed from the specified string.\n",
    "    - `useDelimiter(String pattern)` - Sets this scanner's delimiting pattern to a pattern constructed from the specified string.\n",
    "- [Stack](https://docs.oracle.com/javase/8/docs/api/java/util/Stack.html)\n",
    "    - `peek()` - Looks at the object at the top of this stack without removing it from the stack.\n",
    "    - `pop()` - Removes the object at the top of this stack and returns that object as the value of this function.\n",
    "    - `push(E item)` - Pushes an item onto the top of this stack.\n",
    "- [StringBuffer](https://docs.oracle.com/javase/8/docs/api/java/lang/StringBuffer.html)\n",
    "    - `append(CharSequence s)` - Appends the specified `CharSequence` to this character sequence.\n",
    "    - `delete(int start, int end)` - Removes the characters in a substring of this sequence.\n",
    "    - `indexOf(String str, int fromIndex)` - Returns the index within this string of the first occurrence of the specified substring, starting at the specified index.\n",
    "    - `insert(int dstOffset, CharSequence s, int start, int end)` - Inserts a subsequence of the specified `CharSequence` into this sequence.\n",
    "    - `reverse()` - Causes this character sequence to be replaced by the reverse of the sequence.\n",
    "    - `substring(int start, int end)` - Returns a new string that contains a subsequence of characters currently contained in this sequence.\n",
    "    - `toString()` - Returns a string representing the data in this sequence.\n",
    "- [TreeMap](https://docs.oracle.com/javase/8/docs/api/java/util/TreeMap.html)\n",
    "    - `containsKey(Object key)` - Returns true if this map contains a mapping for the specified key.\n",
    "    - `get(Object key)` - Returns the value to which the specified key is mapped, or null if this map contains no mapping for the key.\n",
    "    - `put(K key, V value)` - Associates the specified value with the specified key in this map.\n",
    "    - `remove(Object key)` - Removes the mapping for the specified key from this map if present.\n",
    "    - `ceilingEntry(K key)` - Returns a key-value mapping associated with the least key greater than or equal to the given key, or null if there is no such key.\n",
    "    - `floorEntry(K key)` - Returns a key-value mapping associated with the greatest key less than or equal to the given key, or null if there is no such key.\n",
    "    - `firstEntry()` - Returns a key-value mapping associated with the least key in this map, or null if the map is empty.\n",
    "    - `lastEntry()` - Returns a key-value mapping associated with the greatest key in this map, or null if the map is empty.\n",
    "    - `higherEntry(K key)` - Returns a key-value mapping associated with the least key strictly greater than the given key, or null if there is no such key.\n",
    "    - `lowerEntry(K key)` - Returns a key-value mapping associated with the greatest key strictly less than the given key, or null if there is no such key.\n",
    "    - `headMap(K toKey, boolean inclusive)` - Returns a view of the portion of this map whose keys are less than (or equal to, if inclusive is true) `toKey`.\n",
    "    - `tailMap(K fromKey, boolean inclusive)` - Returns a view of the portion of this map whose keys are greater than (or equal to, if inclusive is true) `fromKey`.\n",
    "    - `subMap(K fromKey, boolean fromInclusive, K toKey, boolean toInclusive)` - Returns a view of the portion of this map whose keys range from `fromKey` to `toKey`.\n",
    "- [TreeSet](https://docs.oracle.com/javase/8/docs/api/java/util/TreeSet.html)\n",
    "    - `add(E e)` - Adds the specified element to this set if it is not already present.\n",
    "    - `addAll(Collection<? extends E> c)` - Adds all of the elements in the specified collection to this set if they're not already present.\n",
    "    - `contains(Object o)` - Returns true if this set contains the specified element.\n",
    "    - `containsAll(Collection<?> c)` - Returns true if this set contains all of the elements of the specified collection.\n",
    "    - `remove(Object o)` - Removes the specified element from this set if it is present.\n",
    "    - `removeAll(Collection<?> c)` - Removes from this set all of its elements that are contained in the specified collection.\n",
    "    - `retainAll(Collection<?> c)` - Retains only the elements in this set that are contained in the specified collection.\n",
    "    - `size()` - Returns the number of elements in this set (its cardinality).\n",
    "    - `ceiling(E e)` - Returns the least element in this set greater than or equal to the given element, or null if there is no such element.\n",
    "    - `floor(E e)` - Returns the greatest element in this set less than or equal to the given element, or null if there is no such element.\n",
    "    - `first()` - Returns the first (lowest) element currently in this set.\n",
    "    - `last()` - Returns the last (highest) element currently in this set.\n",
    "    - `higher(E e)` - Returns the least element in this set strictly greater than the given element, or null if there is no such element.\n",
    "    - `lower(E e)` - Returns the greatest element in this set strictly less than the given element, or null if there is no such element.\n",
    "    - `headSet(E toElement, boolean inclusive)` - Returns a view of the portion of this set whose elements are less than (or equal to, if inclusive is true) `toElement`.\n",
    "    - `tailSet(E fromElement, boolean inclusive)` - Returns a view of the portion of this set whose elements are greater than (or equal to, if inclusive is true) `fromElement`.\n",
    "    - `subSet(E fromElement, boolean fromInclusive, E toElement, boolean toInclusive)` - Returns a view of the portion of this set whose elements range from `fromElement` to `toElement`."
   ]
  },
  {
   "cell_type": "markdown",
   "metadata": {},
   "source": [
    "## Recommended Imports"
   ]
  },
  {
   "cell_type": "code",
   "execution_count": 1,
   "metadata": {},
   "outputs": [
    {
     "data": {
      "text/plain": [
       "null"
      ]
     },
     "execution_count": 1,
     "metadata": {},
     "output_type": "execute_result"
    }
   ],
   "source": [
    "import java.lang.Math;\n",
    "import java.util.*;\n",
    "import java.util.Arrays.*;\n",
    "import java.util.Collections.*;"
   ]
  },
  {
   "cell_type": "markdown",
   "metadata": {},
   "source": [
    "## Recommended Console Input"
   ]
  },
  {
   "cell_type": "code",
   "execution_count": 2,
   "metadata": {},
   "outputs": [
    {
     "data": {
      "text/plain": [
       "null"
      ]
     },
     "execution_count": 2,
     "metadata": {},
     "output_type": "execute_result"
    }
   ],
   "source": [
    "import java.util.*;\n",
    "\n",
    "final Scanner scanner = new Scanner(System.in);"
   ]
  },
  {
   "cell_type": "markdown",
   "metadata": {},
   "source": [
    "## Recommended Console Output"
   ]
  },
  {
   "cell_type": "code",
   "execution_count": 3,
   "metadata": {},
   "outputs": [
    {
     "name": "stdout",
     "output_type": "stream",
     "text": [
      "Hello Jacob! It's 2018!\n"
     ]
    },
    {
     "data": {
      "text/plain": [
       "null"
      ]
     },
     "execution_count": 3,
     "metadata": {},
     "output_type": "execute_result"
    }
   ],
   "source": [
    "import java.util.*;\n",
    "\n",
    "System.out.println(String.format(\"Hello %s! It's %d!\", \"Jacob\", 2018));"
   ]
  }
 ],
 "metadata": {
  "kernelspec": {
   "display_name": "Java",
   "language": "java",
   "name": "java"
  },
  "language_info": {
   "codemirror_mode": "text/x-java",
   "file_extension": ".java",
   "mimetype": "",
   "name": "Java",
   "nbconverter_exporter": "",
   "version": "11.0.1"
  },
  "toc": {
   "base_numbering": 1,
   "nav_menu": {},
   "number_sections": false,
   "sideBar": false,
   "skip_h1_title": false,
   "title_cell": "Table of Contents",
   "title_sidebar": "Contents",
   "toc_cell": false,
   "toc_position": {},
   "toc_section_display": false,
   "toc_window_display": false
  }
 },
 "nbformat": 4,
 "nbformat_minor": 2
}
