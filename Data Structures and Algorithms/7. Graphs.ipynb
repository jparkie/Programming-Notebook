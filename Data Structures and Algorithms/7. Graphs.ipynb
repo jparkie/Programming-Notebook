{
 "cells": [
  {
   "cell_type": "markdown",
   "metadata": {},
   "source": [
    "# Graphs\n",
    "*Author: Jacob Park*"
   ]
  },
  {
   "cell_type": "markdown",
   "metadata": {},
   "source": [
    "A graph $G$ is a pair $(V, E)$ where $V$ is a set of vertices and $E$ is a set of edges.\n",
    "\n",
    "- **Adjacent**: When two vertices $v$ and $w$ share an edge.\n",
    "- **Degree**: The number of edges incident on a vertex.\n",
    "- **Path**: A sequence of vertices connecting vertices $v$ and $w$.\n",
    "- **Cycle**: A simple path where the last vertex equals the first vertex.\n",
    "- **Connected**: When every vertex in a graph is reachable from all the other vertices."
   ]
  },
  {
   "cell_type": "markdown",
   "metadata": {},
   "source": [
    "## Implementation with Adjacency Lists"
   ]
  },
  {
   "cell_type": "code",
   "execution_count": 1,
   "metadata": {},
   "outputs": [
    {
     "data": {
      "text/plain": [
       "graphs.ListGraph"
      ]
     },
     "execution_count": 1,
     "metadata": {},
     "output_type": "execute_result"
    }
   ],
   "source": [
    "package graphs;\n",
    "\n",
    "import java.util.*;\n",
    "\n",
    "public class ListGraph {\n",
    "    \n",
    "    private final ArrayList<LinkedList<Integer>> adjacencyList;\n",
    "    private final int vertices;\n",
    "    \n",
    "    public ListGraph(int vertices) {\n",
    "        this.adjacencyList = new ArrayList<>(vertices);\n",
    "        this.vertices = vertices;\n",
    "        for (int vertex = 0; vertex < vertices; vertex++) {\n",
    "            this.adjacencyList.add(new LinkedList<>());\n",
    "        }\n",
    "    }\n",
    "    \n",
    "    public void addEdge(int v, int w) {\n",
    "        adjacencyList.get(v).add(w);\n",
    "    }\n",
    "    \n",
    "    public int getVertices() {\n",
    "        return vertices;\n",
    "    }\n",
    "    \n",
    "    public Iterable<Integer> getAdjacents(int v) {\n",
    "        return adjacencyList.get(v);\n",
    "    }\n",
    "    \n",
    "}"
   ]
  },
  {
   "cell_type": "markdown",
   "metadata": {},
   "source": [
    "## Implementation with Adjacency Matrix"
   ]
  },
  {
   "cell_type": "code",
   "execution_count": 2,
   "metadata": {},
   "outputs": [
    {
     "data": {
      "text/plain": [
       "graphs.MatrixGraph"
      ]
     },
     "execution_count": 2,
     "metadata": {},
     "output_type": "execute_result"
    }
   ],
   "source": [
    "package graphs;\n",
    "\n",
    "import java.util.*;\n",
    "\n",
    "public class MatrixGraph {\n",
    "    \n",
    "    private final boolean[][] adjacencyMatrix;\n",
    "    private final int vertices;\n",
    "    \n",
    "    public MatrixGraph(int vertices) {\n",
    "        this.adjacencyMatrix = new boolean[vertices][vertices];\n",
    "        this.vertices = vertices;\n",
    "    }\n",
    "    \n",
    "    public void addEdge(int v, int w) {\n",
    "        adjacencyMatrix[v][w] = true;\n",
    "    }\n",
    "    \n",
    "    public int getVertices() {\n",
    "        return vertices;\n",
    "    }\n",
    "    \n",
    "    public Iterable<Integer> getAdjacents(int v) {\n",
    "        boolean[] adjacencyVector = adjacencyMatrix[v];\n",
    "        LinkedList<Integer> adjacencyList = new LinkedList<>();\n",
    "        for (int vertex = 0; vertex < vertices; vertex++) {\n",
    "            if (adjacencyVector[vertex]) {\n",
    "                adjacencyList.add(vertex);\n",
    "            }\n",
    "        }\n",
    "        return adjacencyList;\n",
    "    }\n",
    "    \n",
    "}"
   ]
  },
  {
   "cell_type": "markdown",
   "metadata": {},
   "source": [
    "## Implementation with Weighted Edges"
   ]
  },
  {
   "cell_type": "code",
   "execution_count": 3,
   "metadata": {},
   "outputs": [
    {
     "data": {
      "text/plain": [
       "graphs.WeightedEdge"
      ]
     },
     "execution_count": 3,
     "metadata": {},
     "output_type": "execute_result"
    }
   ],
   "source": [
    "package graphs;\n",
    "\n",
    "public class WeightedEdge implements Comparable<WeightedEdge> {\n",
    "\n",
    "    private final int v;\n",
    "    private final int w;\n",
    "    private final int weight;\n",
    "\n",
    "    public WeightedEdge(int v, int w, int weight) {\n",
    "        this.v = v;\n",
    "        this.w = w;\n",
    "        this.weight = weight;\n",
    "    }\n",
    "\n",
    "    public int getV() {\n",
    "        return v;\n",
    "    }\n",
    "\n",
    "    public int getW() {\n",
    "        return w;\n",
    "    }\n",
    "\n",
    "    public int getWeight() {\n",
    "        return weight;\n",
    "    }\n",
    "\n",
    "    @Override\n",
    "    public int compareTo(WeightedEdge other) {\n",
    "        return Integer.compare(this.weight, other.weight);\n",
    "    }\n",
    "    \n",
    "}"
   ]
  },
  {
   "cell_type": "code",
   "execution_count": 4,
   "metadata": {},
   "outputs": [
    {
     "data": {
      "text/plain": [
       "graphs.WeightedEdgeListGraph"
      ]
     },
     "execution_count": 4,
     "metadata": {},
     "output_type": "execute_result"
    }
   ],
   "source": [
    "package graphs;\n",
    "\n",
    "import java.util.*;\n",
    "\n",
    "public class WeightedEdgeListGraph {\n",
    "\n",
    "    private final ArrayList<LinkedList<WeightedEdge>> adjacencyList;\n",
    "    private final int vertices;\n",
    "\n",
    "    public WeightedEdgeListGraph(int vertices) {\n",
    "        this.adjacencyList = new ArrayList<>(vertices);\n",
    "        this.vertices = vertices;\n",
    "        for (int vertex = 0; vertex < vertices; vertex++) {\n",
    "            this.adjacencyList.add(new LinkedList<>());\n",
    "        }\n",
    "    }\n",
    "\n",
    "    public void addEdge(int v, int w, int weight) {\n",
    "        adjacencyList.get(v).add(new WeightedEdge(v, w, weight));\n",
    "    }\n",
    "\n",
    "    public int getVertices() {\n",
    "        return vertices;\n",
    "    }\n",
    "\n",
    "    public Iterable<WeightedEdge> getAdjacents(int v) {\n",
    "        return adjacencyList.get(v);\n",
    "    }\n",
    "\n",
    "    public Iterable<WeightedEdge> getEdges() {\n",
    "        LinkedList<WeightedEdge> edges = new LinkedList<>();\n",
    "        for (int vertex = 0; vertex < vertices; vertex++) {\n",
    "            edges.addAll(adjacencyList.get(vertex));\n",
    "        }\n",
    "        return edges;\n",
    "    }\n",
    "\n",
    "}"
   ]
  },
  {
   "cell_type": "code",
   "execution_count": 5,
   "metadata": {},
   "outputs": [
    {
     "data": {
      "text/plain": [
       "graphs.WeightedEdgeMatrixGraph"
      ]
     },
     "execution_count": 5,
     "metadata": {},
     "output_type": "execute_result"
    }
   ],
   "source": [
    "package graphs;\n",
    "\n",
    "import java.util.*;\n",
    "\n",
    "public class WeightedEdgeMatrixGraph {\n",
    "\n",
    "    private final WeightedEdge[][] adjacencyMatrix;\n",
    "    private final int vertices;\n",
    "\n",
    "    public WeightedEdgeMatrixGraph(int vertices) {\n",
    "        this.adjacencyMatrix = new WeightedEdge[vertices][vertices];\n",
    "        this.vertices = vertices;\n",
    "    }\n",
    "\n",
    "    public void addEdge(int v, int w, int weight) {\n",
    "        if (adjacencyMatrix[v][w] == null) {\n",
    "            adjacencyMatrix[v][w] = new WeightedEdge(v, w, weight);\n",
    "        }\n",
    "    }\n",
    "\n",
    "    public int getVertices() {\n",
    "        return vertices;\n",
    "    }\n",
    "\n",
    "    public Iterable<WeightedEdge> getAdjacents(int v) {\n",
    "        WeightedEdge[] adjacencyVector = adjacencyMatrix[v];\n",
    "        LinkedList<WeightedEdge> adjacencyList = new LinkedList<>();\n",
    "        for (int vertex = 0; vertex < vertices; vertex++) {\n",
    "            if (adjacencyVector[vertex] != null) {\n",
    "                adjacencyList.add(adjacencyVector[vertex]);\n",
    "            }\n",
    "        }\n",
    "        return adjacencyList;\n",
    "    }\n",
    "\n",
    "    public Iterable<WeightedEdge> getEdges() {\n",
    "        LinkedList<WeightedEdge> edges = new LinkedList<>();\n",
    "        for (int rowVertex = 0; rowVertex < vertices; rowVertex++) {\n",
    "            for (int colVertex = 0; colVertex < vertices; colVertex++) {\n",
    "                if (adjacencyMatrix[rowVertex][colVertex] != null) {\n",
    "                    edges.add(adjacencyMatrix[rowVertex][colVertex]);\n",
    "                }\n",
    "            }\n",
    "        }\n",
    "        return edges;\n",
    "    }\n",
    "\n",
    "}"
   ]
  },
  {
   "cell_type": "markdown",
   "metadata": {},
   "source": [
    "## Traversing with Depth-First Search"
   ]
  },
  {
   "cell_type": "code",
   "execution_count": 6,
   "metadata": {},
   "outputs": [
    {
     "data": {
      "text/plain": [
       "graphs.dfs.DepthFirstSearch"
      ]
     },
     "execution_count": 6,
     "metadata": {},
     "output_type": "execute_result"
    }
   ],
   "source": [
    "package graphs.dfs;\n",
    "\n",
    "import graphs.*;\n",
    "\n",
    "import java.util.*;\n",
    "import java.util.function.*;\n",
    "\n",
    "public class DepthFirstSearch {\n",
    "    \n",
    "    public static void depthFirstSearch(\n",
    "        ListGraph graph, \n",
    "        int v, \n",
    "        Consumer<Integer> action) {\n",
    "        Set<Integer> visitedSet = new HashSet<>();\n",
    "        Stack<Integer> stack = new Stack<>();\n",
    "        \n",
    "        stack.push(v);\n",
    "        \n",
    "        while (!stack.isEmpty()) {\n",
    "            int currentVertex = stack.pop();\n",
    "            \n",
    "            visitedSet.add(currentVertex);\n",
    "            \n",
    "            action.accept(currentVertex);\n",
    "            \n",
    "            Iterable<Integer> adjacents = graph.getAdjacents(currentVertex);\n",
    "            for (int adjacentVertex : adjacents) {\n",
    "                if (!visitedSet.contains(adjacentVertex)) {\n",
    "                    stack.push(adjacentVertex);\n",
    "                }\n",
    "            }\n",
    "        }\n",
    "    }\n",
    "    \n",
    "}"
   ]
  },
  {
   "cell_type": "code",
   "execution_count": 7,
   "metadata": {},
   "outputs": [
    {
     "name": "stdout",
     "output_type": "stream",
     "text": [
      "2\n",
      "3\n",
      "0\n",
      "1\n"
     ]
    },
    {
     "data": {
      "text/plain": [
       "null"
      ]
     },
     "execution_count": 7,
     "metadata": {},
     "output_type": "execute_result"
    }
   ],
   "source": [
    "package graphs.dfs;\n",
    "\n",
    "import graphs.*;\n",
    "\n",
    "ListGraph graph = new ListGraph(4);\n",
    "graph.addEdge(0, 1);\n",
    "graph.addEdge(0, 2);\n",
    "graph.addEdge(1, 2);\n",
    "graph.addEdge(2, 0);\n",
    "graph.addEdge(2, 3);\n",
    "graph.addEdge(3, 3);\n",
    "\n",
    "DepthFirstSearch.depthFirstSearch(graph, 2, (vertex) -> System.out.println(vertex));"
   ]
  },
  {
   "cell_type": "markdown",
   "metadata": {},
   "source": [
    "## Traversing with Breadth-First Search"
   ]
  },
  {
   "cell_type": "code",
   "execution_count": 8,
   "metadata": {},
   "outputs": [
    {
     "data": {
      "text/plain": [
       "graphs.bfs.BreadthFirstSearch"
      ]
     },
     "execution_count": 8,
     "metadata": {},
     "output_type": "execute_result"
    }
   ],
   "source": [
    "package graphs.bfs;\n",
    "\n",
    "import graphs.*;\n",
    "\n",
    "import java.util.*;\n",
    "import java.util.function.*;\n",
    "\n",
    "public class BreadthFirstSearch {\n",
    "    \n",
    "    public static void breadthFirstSearch(\n",
    "        ListGraph graph, \n",
    "        int v, \n",
    "        Consumer<Integer> action) {\n",
    "        Set<Integer> visitedSet = new HashSet<>();\n",
    "        Deque<Integer> queue = new ArrayDeque<>();\n",
    "        \n",
    "        queue.offer(v);\n",
    "        \n",
    "        while (!queue.isEmpty()) {\n",
    "            int currentVertex = queue.poll();\n",
    "            \n",
    "            visitedSet.add(currentVertex);\n",
    "            \n",
    "            action.accept(currentVertex);\n",
    "            \n",
    "            Iterable<Integer> adjacents = graph.getAdjacents(currentVertex);\n",
    "            for (int adjacentVertex : adjacents) {\n",
    "                if (!visitedSet.contains(adjacentVertex)) {\n",
    "                    queue.offer(adjacentVertex);\n",
    "                }\n",
    "            }\n",
    "        }\n",
    "    }\n",
    "    \n",
    "}"
   ]
  },
  {
   "cell_type": "code",
   "execution_count": 9,
   "metadata": {},
   "outputs": [
    {
     "name": "stdout",
     "output_type": "stream",
     "text": [
      "2\n",
      "0\n",
      "3\n",
      "1\n"
     ]
    },
    {
     "data": {
      "text/plain": [
       "null"
      ]
     },
     "execution_count": 9,
     "metadata": {},
     "output_type": "execute_result"
    }
   ],
   "source": [
    "package graphs.bfs;\n",
    "\n",
    "import graphs.*;\n",
    "\n",
    "ListGraph graph = new ListGraph(4);\n",
    "graph.addEdge(0, 1);\n",
    "graph.addEdge(0, 2);\n",
    "graph.addEdge(1, 2);\n",
    "graph.addEdge(2, 0);\n",
    "graph.addEdge(2, 3);\n",
    "graph.addEdge(3, 3);\n",
    "\n",
    "BreadthFirstSearch.breadthFirstSearch(graph, 2, (vertex) -> System.out.println(vertex));"
   ]
  },
  {
   "cell_type": "markdown",
   "metadata": {},
   "source": [
    "## Shortest Paths: Dijkstra's Algorithm ($O(|E|+|V|\\log(|V|))$)"
   ]
  },
  {
   "cell_type": "code",
   "execution_count": 10,
   "metadata": {},
   "outputs": [
    {
     "data": {
      "text/plain": [
       "graphs.dijkstra.Dijkstra"
      ]
     },
     "execution_count": 10,
     "metadata": {},
     "output_type": "execute_result"
    }
   ],
   "source": [
    "package graphs.dijkstra;\n",
    "\n",
    "import graphs.*;\n",
    "\n",
    "import java.util.*;\n",
    "\n",
    "public class Dijkstra {\n",
    "\n",
    "    public static class VertexDistancePair implements Comparable<VertexDistancePair> {\n",
    "\n",
    "        private final int vertex;\n",
    "        private final int distance;\n",
    "\n",
    "        public VertexDistancePair(int vertex, int distance) {\n",
    "            this.vertex = vertex;\n",
    "            this.distance = distance;\n",
    "        }\n",
    "\n",
    "        public int getVertex() {\n",
    "            return vertex;\n",
    "        }\n",
    "\n",
    "        public int getDistance() {\n",
    "            return distance;\n",
    "        }\n",
    "\n",
    "        @Override\n",
    "        public int compareTo(VertexDistancePair other) {\n",
    "            return Integer.compare(this.distance, other.distance);\n",
    "        }\n",
    "\n",
    "    }\n",
    "\n",
    "    /*\n",
    "     * Dijkstra's Algorithm:\n",
    "     * 1. Assume all vertices are an infinite distance from the source vertex.\n",
    "     * 2. Assume the source vertex is zero distance from itself.\n",
    "     * 3. Perform breadth-first search using a priority queue by distance.\n",
    "     * 4. For every adjacent vertex visited, relax its edge.\n",
    "     */\n",
    "    public static List<WeightedEdge> shortestPath(\n",
    "        WeightedEdgeListGraph graph,\n",
    "        int source,\n",
    "        int destination\n",
    "    ) {\n",
    "        Map<Integer, Integer> distanceTo = new HashMap<>();\n",
    "        Map<Integer, WeightedEdge> edgeTo = new HashMap<>();\n",
    "        Set<Integer> visitedSet = new HashSet<>();\n",
    "        PriorityQueue<VertexDistancePair> priorityQueue = new PriorityQueue<>();\n",
    "\n",
    "        for (int vertex = 0; vertex < graph.getVertices(); vertex++) {\n",
    "            distanceTo.put(vertex, Integer.MAX_VALUE);\n",
    "        }\n",
    "        distanceTo.put(source, 0);\n",
    "\n",
    "        priorityQueue.offer(new VertexDistancePair(source, distanceTo.get(source)));\n",
    "\n",
    "        while (!priorityQueue.isEmpty()) {\n",
    "            int minimumVertex = priorityQueue.poll().getVertex();\n",
    "\n",
    "            visitedSet.add(minimumVertex);\n",
    "\n",
    "            Iterable<WeightedEdge> adjacents = graph.getAdjacents(minimumVertex);\n",
    "            for (WeightedEdge adjacentEdge : adjacents) {\n",
    "                int v = adjacentEdge.getV();\n",
    "                int w = adjacentEdge.getW();\n",
    "                int weight = adjacentEdge.getWeight();\n",
    "                if (!visitedSet.contains(w)) {\n",
    "                    if (distanceTo.get(w) > distanceTo.get(v) + weight) {\n",
    "                        distanceTo.put(w, distanceTo.get(v) + weight);\n",
    "                        edgeTo.put(w, adjacentEdge);\n",
    "                        priorityQueue.offer(new VertexDistancePair(w, distanceTo.get(w)));\n",
    "                    }\n",
    "                }\n",
    "            }\n",
    "        }\n",
    "\n",
    "        return buildPath(edgeTo, destination);\n",
    "    }\n",
    "    \n",
    "    private static List<WeightedEdge> buildPath(\n",
    "        Map<Integer, WeightedEdge> edgeTo, \n",
    "        int destination\n",
    "    ) {\n",
    "        LinkedList<WeightedEdge> path = new LinkedList<>();\n",
    "        \n",
    "        int currentVertex = destination;\n",
    "        while (edgeTo.containsKey(currentVertex)) {\n",
    "            path.addFirst(edgeTo.get(currentVertex));\n",
    "            currentVertex = edgeTo.get(currentVertex).getV();\n",
    "        }\n",
    "        \n",
    "        return path;\n",
    "    }\n",
    "\n",
    "}"
   ]
  },
  {
   "cell_type": "code",
   "execution_count": 11,
   "metadata": {},
   "outputs": [
    {
     "name": "stdout",
     "output_type": "stream",
     "text": [
      "0 -> 4\n",
      "4 -> 1\n",
      "1 -> 2\n"
     ]
    },
    {
     "data": {
      "text/plain": [
       "null"
      ]
     },
     "execution_count": 11,
     "metadata": {},
     "output_type": "execute_result"
    }
   ],
   "source": [
    "package graphs.dijkstra;\n",
    "\n",
    "import graphs.*;\n",
    "\n",
    "import java.util.*;\n",
    "\n",
    "WeightedEdgeListGraph graph = new WeightedEdgeListGraph(5);\n",
    "graph.addEdge(0, 1, 10);\n",
    "graph.addEdge(0, 4, 5);\n",
    "graph.addEdge(1, 2, 1);\n",
    "graph.addEdge(1, 4, 2);\n",
    "graph.addEdge(2, 3, 4);\n",
    "graph.addEdge(3, 0, 7);\n",
    "graph.addEdge(3, 2, 6);\n",
    "graph.addEdge(4, 1, 3);\n",
    "graph.addEdge(4, 2, 9);\n",
    "graph.addEdge(4, 3, 2);\n",
    "\n",
    "List<WeightedEdge> path = Dijkstra.shortestPath(graph, 0, 2);\n",
    "\n",
    "path.forEach(edge -> {\n",
    "    System.out.println(String.format(\"%d -> %d\", edge.getV(), edge.getW()));\n",
    "});"
   ]
  },
  {
   "cell_type": "markdown",
   "metadata": {},
   "source": [
    "## Shortest Paths: Bellman-Ford Algorithm ($O(|V||E|)$)"
   ]
  },
  {
   "cell_type": "code",
   "execution_count": 12,
   "metadata": {},
   "outputs": [
    {
     "data": {
      "text/plain": [
       "graphs.bellman_ford.BellmanFord"
      ]
     },
     "execution_count": 12,
     "metadata": {},
     "output_type": "execute_result"
    }
   ],
   "source": [
    "package graphs.bellman_ford;\n",
    "\n",
    "import graphs.*;\n",
    "\n",
    "import java.util.*;\n",
    "\n",
    "public class BellmanFord {\n",
    "\n",
    "    /*\n",
    "     * Bellman-Ford Algorithm:\n",
    "     * 1. Assume all vertices are an infinite distance from the source vertex.\n",
    "     * 2. Assume the source vertex is zero distance from itself.\n",
    "     * 3. For every vertex, relax all the edges.\n",
    "     * 4. Check for negative-weight cycles.\n",
    "     */\n",
    "    public static List<WeightedEdge> shortestPath(\n",
    "        WeightedEdgeListGraph graph,\n",
    "        int source,\n",
    "        int destination\n",
    "    ) {\n",
    "        Map<Integer, Integer> distanceTo = new HashMap<>();\n",
    "        Map<Integer, WeightedEdge> edgeTo = new HashMap<>();\n",
    "\n",
    "        for (int vertex = 0; vertex < graph.getVertices(); vertex++) {\n",
    "            distanceTo.put(vertex, Integer.MAX_VALUE);\n",
    "        }\n",
    "        distanceTo.put(source, 0);\n",
    "        \n",
    "        for (int vertex = 0; vertex < graph.getVertices(); vertex++) {\n",
    "            Iterable<WeightedEdge> edges = graph.getEdges();\n",
    "            for (WeightedEdge edge : edges) {\n",
    "                int v = edge.getV();\n",
    "                int w = edge.getW();\n",
    "                int weight = edge.getWeight();\n",
    "                if (distanceTo.get(w) > distanceTo.get(v) + weight) {\n",
    "                    distanceTo.put(w, distanceTo.get(v) + weight);\n",
    "                    edgeTo.put(w, edge);\n",
    "                }\n",
    "            }\n",
    "        }\n",
    "\n",
    "        Iterable<WeightedEdge> edges = graph.getEdges();\n",
    "        for (WeightedEdge edge : edges) {\n",
    "            int v = edge.getV();\n",
    "            int w = edge.getW();\n",
    "            int weight = edge.getWeight();\n",
    "            if (distanceTo.get(w) > distanceTo.get(v) + weight) {\n",
    "                throw new IllegalStateException(\"Negative-Weight Cycle Detected!\");\n",
    "            }\n",
    "        }\n",
    "\n",
    "        return buildPath(edgeTo, destination);\n",
    "    }\n",
    "    \n",
    "    private static List<WeightedEdge> buildPath(\n",
    "        Map<Integer, WeightedEdge> edgeTo, \n",
    "        int destination\n",
    "    ) {\n",
    "        LinkedList<WeightedEdge> path = new LinkedList<>();\n",
    "        \n",
    "        int currentVertex = destination;\n",
    "        while (edgeTo.containsKey(currentVertex)) {\n",
    "            path.addFirst(edgeTo.get(currentVertex));\n",
    "            currentVertex = edgeTo.get(currentVertex).getV();\n",
    "        }\n",
    "        \n",
    "        return path;\n",
    "    }\n",
    "\n",
    "}"
   ]
  },
  {
   "cell_type": "code",
   "execution_count": 13,
   "metadata": {},
   "outputs": [
    {
     "name": "stdout",
     "output_type": "stream",
     "text": [
      "0 -> 4\n",
      "4 -> 1\n",
      "1 -> 2\n"
     ]
    },
    {
     "data": {
      "text/plain": [
       "null"
      ]
     },
     "execution_count": 13,
     "metadata": {},
     "output_type": "execute_result"
    }
   ],
   "source": [
    "package graphs.bellman_ford;\n",
    "\n",
    "import graphs.*;\n",
    "\n",
    "import java.util.*;\n",
    "\n",
    "WeightedEdgeListGraph graph = new WeightedEdgeListGraph(5);\n",
    "graph.addEdge(0, 1, 10);\n",
    "graph.addEdge(0, 4, 5);\n",
    "graph.addEdge(1, 2, 1);\n",
    "graph.addEdge(1, 4, 2);\n",
    "graph.addEdge(2, 3, 4);\n",
    "graph.addEdge(3, 0, 7);\n",
    "graph.addEdge(3, 2, 6);\n",
    "graph.addEdge(4, 1, 3);\n",
    "graph.addEdge(4, 2, 9);\n",
    "graph.addEdge(4, 3, 2);\n",
    "\n",
    "List<WeightedEdge> path = BellmanFord.shortestPath(graph, 0, 2);\n",
    "\n",
    "path.forEach(edge -> {\n",
    "    System.out.println(String.format(\"%d -> %d\", edge.getV(), edge.getW()));\n",
    "});"
   ]
  },
  {
   "cell_type": "markdown",
   "metadata": {},
   "source": [
    "## Minimum Spanning Trees: Disjoint-Set / Union-Find\n",
    "[See Link](https://algs4.cs.princeton.edu/15uf/)."
   ]
  },
  {
   "cell_type": "code",
   "execution_count": 14,
   "metadata": {},
   "outputs": [
    {
     "data": {
      "text/plain": [
       "graphs.disjoint_set.DisjointSet"
      ]
     },
     "execution_count": 14,
     "metadata": {},
     "output_type": "execute_result"
    }
   ],
   "source": [
    "package graphs.disjoint_set;\n",
    "\n",
    "public class DisjointSet {\n",
    "\n",
    "    private final int[] parent;\n",
    "    private final byte[] rank;\n",
    "    private int count;\n",
    "\n",
    "    public DisjointSet(int count) {\n",
    "        this.parent = new int[count];\n",
    "        this.rank = new byte[count];\n",
    "        this.count = count;\n",
    "        for (int i = 0; i < count; i++) {\n",
    "            this.parent[i] = i;\n",
    "            this.rank[i] = 0;\n",
    "        }\n",
    "    }\n",
    "\n",
    "    /*\n",
    "     * Merge components p and q by having the root of the smaller rank \n",
    "     * point to the root of the larger rank.\n",
    "     */\n",
    "    public void union(int p, int q) {\n",
    "        int rootP = find(p);\n",
    "        int rootQ = find(q);\n",
    "        if (rootP == rootQ) {\n",
    "            return;\n",
    "        }\n",
    "\n",
    "        if (rank[rootP] < rank[rootQ]) {\n",
    "            parent[rootP] = rootQ;\n",
    "        } else if (rank[rootP] > rank[rootQ]) {\n",
    "            parent[rootQ] = rootP;\n",
    "        } else {\n",
    "            parent[rootQ] = rootP;\n",
    "            rank[rootP]++;\n",
    "        }\n",
    "\n",
    "        count--;\n",
    "    }\n",
    "\n",
    "    /*\n",
    "     * Finds the root of component p by traversing the parents for \n",
    "     * a component who only points to themselves.\n",
    "     */\n",
    "    public int find(int p) {\n",
    "        while (p != parent[p]) {\n",
    "            parent[p] = parent[parent[p]];\n",
    "            p = parent[p];\n",
    "        }\n",
    "        return p;\n",
    "    }\n",
    "\n",
    "    /*\n",
    "     * Two components are connected if they have the same root.\n",
    "     */\n",
    "    public boolean connected(int p, int q) {\n",
    "        return find(p) == find(q);\n",
    "    }\n",
    "\n",
    "    /*\n",
    "     * The number of components.\n",
    "     */\n",
    "    public int count() {\n",
    "        return count;\n",
    "    }\n",
    "\n",
    "}"
   ]
  },
  {
   "cell_type": "markdown",
   "metadata": {},
   "source": [
    "## Minimum Spanning Trees: Kruskal's Algorithm ($O(|E|\\log(|V|))$)\n",
    "[See Link](https://algs4.cs.princeton.edu/43mst/)."
   ]
  },
  {
   "cell_type": "code",
   "execution_count": 15,
   "metadata": {},
   "outputs": [
    {
     "data": {
      "text/plain": [
       "graphs.kruskal.Kruskal"
      ]
     },
     "execution_count": 15,
     "metadata": {},
     "output_type": "execute_result"
    }
   ],
   "source": [
    "package graphs.kruskal;\n",
    "\n",
    "import graphs.*;\n",
    "import graphs.disjoint_set.*;\n",
    "\n",
    "import java.util.*;\n",
    "\n",
    "public class Kruskal {\n",
    "\n",
    "    /*\n",
    "     * Kruskal's Algorithm:\n",
    "     * 1. Assign every vertex into its own component.\n",
    "     * 2. Greedily, by increasing weight, connect two components by \n",
    "     *    including the connecting edge into the MST.\n",
    "     */\n",
    "    public static List<WeightedEdge> minimumSpanningTree(WeightedEdgeListGraph graph) {        \n",
    "        DisjointSet disjointSet = new DisjointSet(graph.getVertices());\n",
    "\n",
    "        PriorityQueue<WeightedEdge> priorityQueue = new PriorityQueue<>();\n",
    "        for (WeightedEdge edge : graph.getEdges()) {\n",
    "            priorityQueue.offer(edge);\n",
    "        }\n",
    "\n",
    "        LinkedList<WeightedEdge> mst = new LinkedList<>();\n",
    "        while (!priorityQueue.isEmpty() && mst.size() < graph.getVertices() - 1) {\n",
    "            WeightedEdge currentEdge = priorityQueue.poll();\n",
    "            if (!disjointSet.connected(currentEdge.getV(), currentEdge.getW())) {\n",
    "                disjointSet.union(currentEdge.getV(), currentEdge.getW());\n",
    "                mst.add(currentEdge);\n",
    "            }\n",
    "        }\n",
    "\n",
    "        return mst;\n",
    "    }\n",
    "\n",
    "}"
   ]
  },
  {
   "cell_type": "code",
   "execution_count": 16,
   "metadata": {},
   "outputs": [
    {
     "name": "stdout",
     "output_type": "stream",
     "text": [
      "2 -> 3\n",
      "0 -> 3\n",
      "0 -> 1\n"
     ]
    },
    {
     "data": {
      "text/plain": [
       "null"
      ]
     },
     "execution_count": 16,
     "metadata": {},
     "output_type": "execute_result"
    }
   ],
   "source": [
    "package graphs.kruskal;\n",
    "\n",
    "import graphs.*;\n",
    "\n",
    "import java.util.*;\n",
    "\n",
    "WeightedEdgeListGraph graph = new WeightedEdgeListGraph(4);\n",
    "graph.addEdge(0, 1, 10);\n",
    "graph.addEdge(0, 2, 6);\n",
    "graph.addEdge(0, 3, 5);\n",
    "graph.addEdge(1, 3, 15);\n",
    "graph.addEdge(2, 3, 4);\n",
    "\n",
    "List<WeightedEdge> mst = Kruskal.minimumSpanningTree(graph);\n",
    "\n",
    "mst.forEach(edge -> {\n",
    "    System.out.println(String.format(\"%d -> %d\", edge.getV(), edge.getW()));\n",
    "});"
   ]
  },
  {
   "cell_type": "markdown",
   "metadata": {},
   "source": [
    "## Topological Sort ($O(|V|+|E|)$)\n",
    "[See Link](https://algs4.cs.princeton.edu/42digraph/)."
   ]
  },
  {
   "cell_type": "code",
   "execution_count": 17,
   "metadata": {},
   "outputs": [
    {
     "data": {
      "text/plain": [
       "graphs.topological_sort.TopologicalSort"
      ]
     },
     "execution_count": 17,
     "metadata": {},
     "output_type": "execute_result"
    }
   ],
   "source": [
    "package graphs.topological_sort;\n",
    "\n",
    "import graphs.*;\n",
    "\n",
    "import java.util.*;\n",
    "\n",
    "public class TopologicalSort {\n",
    "\n",
    "    /*\n",
    "     * Given a directed graph, list the vertices in order such that all \n",
    "     * its directed edges point from a vertex earlier in the order to \n",
    "     * a vertex later in the order.\n",
    "     */\n",
    "    public static List<Integer> topologicalSort(ListGraph graph) {\n",
    "        LinkedList<Integer> topologicalOrder = new LinkedList<>();\n",
    "\n",
    "        Set<Integer> temporarySet = new HashSet<>();\n",
    "        Set<Integer> visitedSet = new HashSet<>();\n",
    "        for (int vertex = 0; vertex < graph.getVertices(); vertex++) {\n",
    "            if (!visitedSet.contains(vertex)) {\n",
    "                depthFirstSearch(graph, vertex, topologicalOrder, temporarySet, visitedSet);\n",
    "            }\n",
    "        }\n",
    "\n",
    "        return topologicalOrder;\n",
    "    }\n",
    "\n",
    "    private static void depthFirstSearch(\n",
    "        ListGraph graph,\n",
    "        int v,\n",
    "        LinkedList<Integer> topologicalOrder,\n",
    "        Set<Integer> temporarySet,\n",
    "        Set<Integer> visitedSet)\n",
    "    {\n",
    "        visitedSet.add(v);\n",
    "\n",
    "        temporarySet.add(v);\n",
    "\n",
    "        Iterable<Integer> adjacents = graph.getAdjacents(v);\n",
    "        for (int adjacentVertex : adjacents) {\n",
    "            if (!visitedSet.contains(adjacentVertex)) {\n",
    "                depthFirstSearch(graph, adjacentVertex, topologicalOrder, temporarySet, visitedSet);\n",
    "                continue;\n",
    "            }\n",
    "            if (temporarySet.contains(adjacentVertex)) {\n",
    "                throw new IllegalStateException(\"Cycle Detected!\");\n",
    "            }\n",
    "        }\n",
    "\n",
    "        temporarySet.remove(v);\n",
    "\n",
    "        topologicalOrder.addFirst(v);\n",
    "    }\n",
    "    \n",
    "}"
   ]
  },
  {
   "cell_type": "code",
   "execution_count": 18,
   "metadata": {},
   "outputs": [
    {
     "name": "stdout",
     "output_type": "stream",
     "text": [
      "[5, 4, 2, 3, 1, 0]\n"
     ]
    },
    {
     "data": {
      "text/plain": [
       "null"
      ]
     },
     "execution_count": 18,
     "metadata": {},
     "output_type": "execute_result"
    }
   ],
   "source": [
    "package graphs.topological_sort;\n",
    "\n",
    "import graphs.*;\n",
    "\n",
    "import java.util.*;\n",
    "\n",
    "ListGraph graph = new ListGraph(6);\n",
    "graph.addEdge(5, 2);\n",
    "graph.addEdge(5, 0);\n",
    "graph.addEdge(4, 0);\n",
    "graph.addEdge(4, 1);\n",
    "graph.addEdge(2, 3);\n",
    "graph.addEdge(3, 1);\n",
    "\n",
    "List<Integer> topologicalOrder = TopologicalSort.topologicalSort(graph);\n",
    "\n",
    "System.out.println(topologicalOrder.toString());"
   ]
  }
 ],
 "metadata": {
  "kernelspec": {
   "display_name": "Java",
   "language": "java",
   "name": "java"
  },
  "language_info": {
   "codemirror_mode": "text/x-java",
   "file_extension": ".java",
   "mimetype": "",
   "name": "Java",
   "nbconverter_exporter": "",
   "version": "1.8.0_144"
  }
 },
 "nbformat": 4,
 "nbformat_minor": 2
}
