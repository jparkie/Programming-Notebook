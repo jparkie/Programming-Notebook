{
 "cells": [
  {
   "cell_type": "markdown",
   "metadata": {},
   "source": [
    "# Graphs\n",
    "*Author: Jacob Park*"
   ]
  },
  {
   "cell_type": "markdown",
   "metadata": {},
   "source": [
    "A graph $G$ is a pair $(V, E)$ where $V$ is a set of vertices and $E$ is a set of edges.\n",
    "\n",
    "- **Adjacent**: When two vertices $v$ and $w$ share an edge.\n",
    "- **Degree**: The number of edges incident on a vertex.\n",
    "- **Path**: A sequence of vertices connecting vertices $v$ and $w$.\n",
    "- **Cycle**: A simple path where the last vertex equals the first vertex.\n",
    "- **Connected**: When every vertex in a graph is reachable from all the other vertices."
   ]
  },
  {
   "cell_type": "markdown",
   "metadata": {},
   "source": [
    "## Implementation with Adjacency Lists"
   ]
  },
  {
   "cell_type": "code",
   "execution_count": 1,
   "metadata": {},
   "outputs": [
    {
     "data": {
      "text/plain": [
       "graphs.ListGraph"
      ]
     },
     "execution_count": 1,
     "metadata": {},
     "output_type": "execute_result"
    }
   ],
   "source": [
    "package graphs;\n",
    "\n",
    "import java.util.*;\n",
    "\n",
    "public class ListGraph {\n",
    "    \n",
    "    private final ArrayList<LinkedList<Integer>> adjacencyList;\n",
    "    private final int vertices;\n",
    "    \n",
    "    public ListGraph(int vertices) {\n",
    "        this.adjacencyList = new ArrayList<>(vertices);\n",
    "        this.vertices = vertices;\n",
    "        for (int vertex = 0; vertex < vertices; vertex++) {\n",
    "            this.adjacencyList.add(new LinkedList<>());\n",
    "        }\n",
    "    }\n",
    "    \n",
    "    public void addEdge(int v, int w) {\n",
    "        adjacencyList.get(v).add(w);\n",
    "    }\n",
    "    \n",
    "    public int getVertices() {\n",
    "        return vertices;\n",
    "    }\n",
    "    \n",
    "    public Iterable<Integer> getAdjacents(int v) {\n",
    "        return adjacencyList.get(v);\n",
    "    }\n",
    "    \n",
    "}"
   ]
  },
  {
   "cell_type": "markdown",
   "metadata": {},
   "source": [
    "## Implementation with Adjacency Matrix"
   ]
  },
  {
   "cell_type": "code",
   "execution_count": 2,
   "metadata": {},
   "outputs": [
    {
     "data": {
      "text/plain": [
       "graphs.MatrixGraph"
      ]
     },
     "execution_count": 2,
     "metadata": {},
     "output_type": "execute_result"
    }
   ],
   "source": [
    "package graphs;\n",
    "\n",
    "import java.util.*;\n",
    "\n",
    "public class MatrixGraph {\n",
    "    \n",
    "    private final boolean[][] adjacencyMatrix;\n",
    "    private final int vertices;\n",
    "    \n",
    "    public MatrixGraph(int vertices) {\n",
    "        this.adjacencyMatrix = new boolean[vertices][vertices];\n",
    "        this.vertices = vertices;\n",
    "    }\n",
    "    \n",
    "    public void addEdge(int v, int w) {\n",
    "        adjacencyMatrix[v][w] = true;\n",
    "    }\n",
    "    \n",
    "    public int getVertices() {\n",
    "        return vertices;\n",
    "    }\n",
    "    \n",
    "    public Iterable<Integer> getAdjacents(int v) {\n",
    "        final boolean[] adjacencyVector = adjacencyMatrix[v];\n",
    "        final LinkedList<Integer> adjacencyList = new LinkedList<>();\n",
    "        for (int vertex = 0; vertex < vertices; vertex++) {\n",
    "            if (adjacencyVector[vertex]) {\n",
    "                adjacencyList.add(vertex);\n",
    "            }\n",
    "        }\n",
    "        return adjacencyList;\n",
    "    }\n",
    "    \n",
    "}"
   ]
  },
  {
   "cell_type": "markdown",
   "metadata": {},
   "source": [
    "## Implementation with Weighted Edges"
   ]
  },
  {
   "cell_type": "code",
   "execution_count": 3,
   "metadata": {},
   "outputs": [
    {
     "data": {
      "text/plain": [
       "graphs.WeightedEdge"
      ]
     },
     "execution_count": 3,
     "metadata": {},
     "output_type": "execute_result"
    }
   ],
   "source": [
    "package graphs;\n",
    "\n",
    "public class WeightedEdge implements Comparable<WeightedEdge> {\n",
    "\n",
    "    private final int v;\n",
    "    private final int w;\n",
    "    private final int weight;\n",
    "\n",
    "    public WeightedEdge(int v, int w, int weight) {\n",
    "        this.v = v;\n",
    "        this.w = w;\n",
    "        this.weight = weight;\n",
    "    }\n",
    "\n",
    "    public int getV() {\n",
    "        return v;\n",
    "    }\n",
    "\n",
    "    public int getW() {\n",
    "        return w;\n",
    "    }\n",
    "\n",
    "    public int getWeight() {\n",
    "        return weight;\n",
    "    }\n",
    "\n",
    "    @Override\n",
    "    public int compareTo(WeightedEdge other) {\n",
    "        return Integer.compare(this.weight, other.weight);\n",
    "    }\n",
    "    \n",
    "}"
   ]
  },
  {
   "cell_type": "code",
   "execution_count": 4,
   "metadata": {},
   "outputs": [
    {
     "data": {
      "text/plain": [
       "graphs.WeightedEdgeListGraph"
      ]
     },
     "execution_count": 4,
     "metadata": {},
     "output_type": "execute_result"
    }
   ],
   "source": [
    "package graphs;\n",
    "\n",
    "import java.util.*;\n",
    "\n",
    "public class WeightedEdgeListGraph {\n",
    "\n",
    "    private final ArrayList<LinkedList<WeightedEdge>> adjacencyList;\n",
    "    private final int vertices;\n",
    "\n",
    "    public WeightedEdgeListGraph(int vertices) {\n",
    "        this.adjacencyList = new ArrayList<>(vertices);\n",
    "        this.vertices = vertices;\n",
    "        for (int vertex = 0; vertex < vertices; vertex++) {\n",
    "            this.adjacencyList.add(new LinkedList<>());\n",
    "        }\n",
    "    }\n",
    "\n",
    "    public void addEdge(int v, int w, int weight) {\n",
    "        adjacencyList.get(v).add(new WeightedEdge(v, w, weight));\n",
    "    }\n",
    "\n",
    "    public int getVertices() {\n",
    "        return vertices;\n",
    "    }\n",
    "\n",
    "    public Iterable<WeightedEdge> getAdjacents(int v) {\n",
    "        return adjacencyList.get(v);\n",
    "    }\n",
    "\n",
    "    public Iterable<WeightedEdge> getEdges() {\n",
    "        final LinkedList<WeightedEdge> edges = new LinkedList<>();\n",
    "        for (int vertex = 0; vertex < vertices; vertex++) {\n",
    "            edges.addAll(adjacencyList.get(vertex));\n",
    "        }\n",
    "        return edges;\n",
    "    }\n",
    "\n",
    "}"
   ]
  },
  {
   "cell_type": "code",
   "execution_count": 5,
   "metadata": {},
   "outputs": [
    {
     "data": {
      "text/plain": [
       "graphs.WeightedEdgeMatrixGraph"
      ]
     },
     "execution_count": 5,
     "metadata": {},
     "output_type": "execute_result"
    }
   ],
   "source": [
    "package graphs;\n",
    "\n",
    "import java.util.*;\n",
    "\n",
    "public class WeightedEdgeMatrixGraph {\n",
    "\n",
    "    private final WeightedEdge[][] adjacencyMatrix;\n",
    "    private final int vertices;\n",
    "\n",
    "    public WeightedEdgeMatrixGraph(int vertices) {\n",
    "        this.adjacencyMatrix = new WeightedEdge[vertices][vertices];\n",
    "        this.vertices = vertices;\n",
    "    }\n",
    "\n",
    "    public void addEdge(int v, int w, int weight) {\n",
    "        if (adjacencyMatrix[v][w] == null) {\n",
    "            adjacencyMatrix[v][w] = new WeightedEdge(v, w, weight);\n",
    "        }\n",
    "    }\n",
    "\n",
    "    public int getVertices() {\n",
    "        return vertices;\n",
    "    }\n",
    "\n",
    "    public Iterable<WeightedEdge> getAdjacents(int v) {\n",
    "        final WeightedEdge[] adjacencyVector = adjacencyMatrix[v];\n",
    "        final LinkedList<WeightedEdge> adjacencyList = new LinkedList<>();\n",
    "        for (int vertex = 0; vertex < vertices; vertex++) {\n",
    "            if (adjacencyVector[vertex] != null) {\n",
    "                adjacencyList.add(adjacencyVector[vertex]);\n",
    "            }\n",
    "        }\n",
    "        return adjacencyList;\n",
    "    }\n",
    "\n",
    "    public Iterable<WeightedEdge> getEdges() {\n",
    "        final LinkedList<WeightedEdge> edges = new LinkedList<>();\n",
    "        for (int rowVertex = 0; rowVertex < vertices; rowVertex++) {\n",
    "            for (int colVertex = 0; colVertex < vertices; colVertex++) {\n",
    "                if (adjacencyMatrix[rowVertex][colVertex] != null) {\n",
    "                    edges.add(adjacencyMatrix[rowVertex][colVertex]);\n",
    "                }\n",
    "            }\n",
    "        }\n",
    "        return edges;\n",
    "    }\n",
    "\n",
    "}"
   ]
  },
  {
   "cell_type": "markdown",
   "metadata": {},
   "source": [
    "## Traversing with Depth-First Search ($O(|V|+|E|)$)"
   ]
  },
  {
   "cell_type": "code",
   "execution_count": 6,
   "metadata": {},
   "outputs": [
    {
     "data": {
      "text/plain": [
       "graphs.dfs.DepthFirstSearch"
      ]
     },
     "execution_count": 6,
     "metadata": {},
     "output_type": "execute_result"
    }
   ],
   "source": [
    "package graphs.dfs;\n",
    "\n",
    "import graphs.*;\n",
    "\n",
    "import java.util.*;\n",
    "import java.util.function.*;\n",
    "\n",
    "public class DepthFirstSearch {\n",
    "    \n",
    "    public static void depthFirstSearch(\n",
    "            ListGraph graph, \n",
    "            int v, \n",
    "            Consumer<Integer> action) {\n",
    "        final Set<Integer> visitedSet = new HashSet<>();\n",
    "        final Stack<Integer> stack = new Stack<>();\n",
    "        \n",
    "        stack.push(v);\n",
    "        \n",
    "        while (!stack.isEmpty()) {\n",
    "            final int currentVertex = stack.pop();\n",
    "            \n",
    "            visitedSet.add(currentVertex);\n",
    "            \n",
    "            action.accept(currentVertex);\n",
    "            \n",
    "            final Iterable<Integer> adjacents = graph.getAdjacents(currentVertex);\n",
    "            for (int adjacentVertex : adjacents) {\n",
    "                if (!visitedSet.contains(adjacentVertex)) {\n",
    "                    stack.push(adjacentVertex);\n",
    "                }\n",
    "            }\n",
    "        }\n",
    "    }\n",
    "    \n",
    "}"
   ]
  },
  {
   "cell_type": "code",
   "execution_count": 7,
   "metadata": {},
   "outputs": [
    {
     "name": "stdout",
     "output_type": "stream",
     "text": [
      "2\n",
      "3\n",
      "0\n",
      "1\n"
     ]
    },
    {
     "data": {
      "text/plain": [
       "null"
      ]
     },
     "execution_count": 7,
     "metadata": {},
     "output_type": "execute_result"
    }
   ],
   "source": [
    "package graphs.dfs;\n",
    "\n",
    "import graphs.*;\n",
    "\n",
    "final ListGraph graph = new ListGraph(4);\n",
    "graph.addEdge(0, 1);\n",
    "graph.addEdge(0, 2);\n",
    "graph.addEdge(1, 2);\n",
    "graph.addEdge(2, 0);\n",
    "graph.addEdge(2, 3);\n",
    "graph.addEdge(3, 3);\n",
    "\n",
    "DepthFirstSearch.depthFirstSearch(graph, 2, (vertex) -> System.out.println(vertex));"
   ]
  },
  {
   "cell_type": "markdown",
   "metadata": {},
   "source": [
    "## Traversing with Breadth-First Search ($O(|V|+|E|)$)"
   ]
  },
  {
   "cell_type": "code",
   "execution_count": 8,
   "metadata": {},
   "outputs": [
    {
     "data": {
      "text/plain": [
       "graphs.bfs.BreadthFirstSearch"
      ]
     },
     "execution_count": 8,
     "metadata": {},
     "output_type": "execute_result"
    }
   ],
   "source": [
    "package graphs.bfs;\n",
    "\n",
    "import graphs.*;\n",
    "\n",
    "import java.util.*;\n",
    "import java.util.function.*;\n",
    "\n",
    "public class BreadthFirstSearch {\n",
    "    \n",
    "    public static void breadthFirstSearch(\n",
    "            ListGraph graph, \n",
    "            int v, \n",
    "            Consumer<Integer> action) {\n",
    "        final Set<Integer> visitedSet = new HashSet<>();\n",
    "        final Deque<Integer> queue = new ArrayDeque<>();\n",
    "        \n",
    "        queue.offer(v);\n",
    "        \n",
    "        while (!queue.isEmpty()) {\n",
    "            final int currentVertex = queue.poll();\n",
    "            \n",
    "            visitedSet.add(currentVertex);\n",
    "            \n",
    "            action.accept(currentVertex);\n",
    "            \n",
    "            final Iterable<Integer> adjacents = graph.getAdjacents(currentVertex);\n",
    "            for (int adjacentVertex : adjacents) {\n",
    "                if (!visitedSet.contains(adjacentVertex)) {\n",
    "                    queue.offer(adjacentVertex);\n",
    "                }\n",
    "            }\n",
    "        }\n",
    "    }\n",
    "    \n",
    "}"
   ]
  },
  {
   "cell_type": "code",
   "execution_count": 9,
   "metadata": {},
   "outputs": [
    {
     "name": "stdout",
     "output_type": "stream",
     "text": [
      "2\n",
      "0\n",
      "3\n",
      "1\n"
     ]
    },
    {
     "data": {
      "text/plain": [
       "null"
      ]
     },
     "execution_count": 9,
     "metadata": {},
     "output_type": "execute_result"
    }
   ],
   "source": [
    "package graphs.bfs;\n",
    "\n",
    "import graphs.*;\n",
    "\n",
    "final ListGraph graph = new ListGraph(4);\n",
    "graph.addEdge(0, 1);\n",
    "graph.addEdge(0, 2);\n",
    "graph.addEdge(1, 2);\n",
    "graph.addEdge(2, 0);\n",
    "graph.addEdge(2, 3);\n",
    "graph.addEdge(3, 3);\n",
    "\n",
    "BreadthFirstSearch.breadthFirstSearch(graph, 2, (vertex) -> System.out.println(vertex));"
   ]
  },
  {
   "cell_type": "markdown",
   "metadata": {},
   "source": [
    "## Shortest Paths: Dijkstra's Algorithm ($O(|E|+|V|\\log(|V|))$)"
   ]
  },
  {
   "cell_type": "code",
   "execution_count": 10,
   "metadata": {},
   "outputs": [
    {
     "data": {
      "text/plain": [
       "graphs.dijkstra.Dijkstra"
      ]
     },
     "execution_count": 10,
     "metadata": {},
     "output_type": "execute_result"
    }
   ],
   "source": [
    "package graphs.dijkstra;\n",
    "\n",
    "import graphs.*;\n",
    "\n",
    "import java.util.*;\n",
    "\n",
    "public class Dijkstra {\n",
    "\n",
    "    public static class VertexDistancePair implements Comparable<VertexDistancePair> {\n",
    "\n",
    "        private final int vertex;\n",
    "        private final double distance;\n",
    "\n",
    "        public VertexDistancePair(int vertex, double distance) {\n",
    "            this.vertex = vertex;\n",
    "            this.distance = distance;\n",
    "        }\n",
    "\n",
    "        public int getVertex() {\n",
    "            return vertex;\n",
    "        }\n",
    "\n",
    "        public double getDistance() {\n",
    "            return distance;\n",
    "        }\n",
    "\n",
    "        @Override\n",
    "        public int compareTo(VertexDistancePair other) {\n",
    "            return Double.compare(this.distance, other.distance);\n",
    "        }\n",
    "\n",
    "    }\n",
    "\n",
    "    /*\n",
    "     * Dijkstra's Algorithm:\n",
    "     * 1. Assume all vertices are an infinite distance from the source vertex.\n",
    "     * 2. Assume the source vertex is zero distance from itself.\n",
    "     * 3. Perform breadth-first search using a priority queue by distance.\n",
    "     * 4. For every adjacent vertex visited, relax its edge.\n",
    "     */\n",
    "    public static List<WeightedEdge> shortestPath(\n",
    "            WeightedEdgeListGraph graph,\n",
    "            int source,\n",
    "            int destination) {\n",
    "        final Map<Integer, Double> distanceTo = new HashMap<>();\n",
    "        final Map<Integer, WeightedEdge> edgeTo = new HashMap<>();\n",
    "        final PriorityQueue<VertexDistancePair> priorityQueue = new PriorityQueue<>();\n",
    "\n",
    "        for (int vertex = 0; vertex < graph.getVertices(); vertex++) {\n",
    "            distanceTo.put(vertex, Double.POSITIVE_INFINITY);\n",
    "        }\n",
    "        distanceTo.put(source, 0.0);\n",
    "\n",
    "        priorityQueue.offer(new VertexDistancePair(source, distanceTo.get(source)));\n",
    "\n",
    "        while (!priorityQueue.isEmpty()) {\n",
    "            final int minimumVertex = priorityQueue.poll().getVertex();\n",
    "\n",
    "            final Iterable<WeightedEdge> adjacents = graph.getAdjacents(minimumVertex);\n",
    "            for (WeightedEdge adjacentEdge : adjacents) {\n",
    "                final int v = adjacentEdge.getV();\n",
    "                final int w = adjacentEdge.getW();\n",
    "                final int weight = adjacentEdge.getWeight();\n",
    "                if (distanceTo.get(w) > distanceTo.get(v) + weight) {\n",
    "                    distanceTo.put(w, distanceTo.get(v) + weight);\n",
    "                    edgeTo.put(w, adjacentEdge);\n",
    "                    priorityQueue.offer(new VertexDistancePair(w, distanceTo.get(w)));\n",
    "                }\n",
    "            }\n",
    "        }\n",
    "\n",
    "        return buildPath(edgeTo, destination);\n",
    "    }\n",
    "    \n",
    "    private static List<WeightedEdge> buildPath(\n",
    "            Map<Integer, WeightedEdge> edgeTo, \n",
    "            int destination) {\n",
    "        final LinkedList<WeightedEdge> path = new LinkedList<>();\n",
    "        \n",
    "        int currentVertex = destination;\n",
    "        while (edgeTo.containsKey(currentVertex)) {\n",
    "            path.addFirst(edgeTo.get(currentVertex));\n",
    "            currentVertex = edgeTo.get(currentVertex).getV();\n",
    "        }\n",
    "        \n",
    "        return path;\n",
    "    }\n",
    "\n",
    "}"
   ]
  },
  {
   "cell_type": "code",
   "execution_count": 11,
   "metadata": {},
   "outputs": [
    {
     "name": "stdout",
     "output_type": "stream",
     "text": [
      "0 -> 4\n",
      "4 -> 1\n",
      "1 -> 2\n"
     ]
    },
    {
     "data": {
      "text/plain": [
       "null"
      ]
     },
     "execution_count": 11,
     "metadata": {},
     "output_type": "execute_result"
    }
   ],
   "source": [
    "package graphs.dijkstra;\n",
    "\n",
    "import graphs.*;\n",
    "\n",
    "import java.util.*;\n",
    "\n",
    "final WeightedEdgeListGraph graph = new WeightedEdgeListGraph(5);\n",
    "graph.addEdge(0, 1, 10);\n",
    "graph.addEdge(0, 4, 5);\n",
    "graph.addEdge(1, 2, 1);\n",
    "graph.addEdge(1, 4, 2);\n",
    "graph.addEdge(2, 3, 4);\n",
    "graph.addEdge(3, 0, 7);\n",
    "graph.addEdge(3, 2, 6);\n",
    "graph.addEdge(4, 1, 3);\n",
    "graph.addEdge(4, 2, 9);\n",
    "graph.addEdge(4, 3, 2);\n",
    "\n",
    "final List<WeightedEdge> path = Dijkstra.shortestPath(graph, 0, 2);\n",
    "\n",
    "path.forEach(edge -> {\n",
    "    System.out.println(String.format(\"%d -> %d\", edge.getV(), edge.getW()));\n",
    "});"
   ]
  },
  {
   "cell_type": "markdown",
   "metadata": {},
   "source": [
    "## Shortest Paths: Bellman-Ford Algorithm ($O(|V||E|)$)"
   ]
  },
  {
   "cell_type": "code",
   "execution_count": 12,
   "metadata": {},
   "outputs": [
    {
     "data": {
      "text/plain": [
       "graphs.bellman_ford.BellmanFord"
      ]
     },
     "execution_count": 12,
     "metadata": {},
     "output_type": "execute_result"
    }
   ],
   "source": [
    "package graphs.bellman_ford;\n",
    "\n",
    "import graphs.*;\n",
    "\n",
    "import java.util.*;\n",
    "\n",
    "public class BellmanFord {\n",
    "\n",
    "    /*\n",
    "     * Bellman-Ford Algorithm:\n",
    "     * 1. Assume all vertices are an infinite distance from the source vertex.\n",
    "     * 2. Assume the source vertex is zero distance from itself.\n",
    "     * 3. For every vertex, relax all the edges.\n",
    "     * 4. Check for negative-weight cycles.\n",
    "     */\n",
    "    public static List<WeightedEdge> shortestPath(\n",
    "            WeightedEdgeListGraph graph,\n",
    "            int source,\n",
    "            int destination) {\n",
    "        final Map<Integer, Double> distanceTo = new HashMap<>();\n",
    "        final Map<Integer, WeightedEdge> edgeTo = new HashMap<>();\n",
    "\n",
    "        for (int vertex = 0; vertex < graph.getVertices(); vertex++) {\n",
    "            distanceTo.put(vertex, Double.POSITIVE_INFINITY);\n",
    "        }\n",
    "        distanceTo.put(source, 0.0);\n",
    "        \n",
    "        for (int vertex = 0; vertex < graph.getVertices(); vertex++) {\n",
    "            final Iterable<WeightedEdge> edges = graph.getEdges();\n",
    "            for (WeightedEdge edge : edges) {\n",
    "                final int v = edge.getV();\n",
    "                final int w = edge.getW();\n",
    "                final int weight = edge.getWeight();\n",
    "                if (distanceTo.get(w) > distanceTo.get(v) + weight) {\n",
    "                    distanceTo.put(w, distanceTo.get(v) + weight);\n",
    "                    edgeTo.put(w, edge);\n",
    "                }\n",
    "            }\n",
    "        }\n",
    "\n",
    "        final Iterable<WeightedEdge> edges = graph.getEdges();\n",
    "        for (WeightedEdge edge : edges) {\n",
    "            final int v = edge.getV();\n",
    "            final int w = edge.getW();\n",
    "            final int weight = edge.getWeight();\n",
    "            if (distanceTo.get(w) > distanceTo.get(v) + weight) {\n",
    "                throw new IllegalStateException(\"Negative-Weight Cycle Detected!\");\n",
    "            }\n",
    "        }\n",
    "\n",
    "        return buildPath(edgeTo, destination);\n",
    "    }\n",
    "    \n",
    "    private static List<WeightedEdge> buildPath(\n",
    "            Map<Integer, WeightedEdge> edgeTo, \n",
    "            int destination) {\n",
    "        final LinkedList<WeightedEdge> path = new LinkedList<>();\n",
    "        \n",
    "        int currentVertex = destination;\n",
    "        while (edgeTo.containsKey(currentVertex)) {\n",
    "            path.addFirst(edgeTo.get(currentVertex));\n",
    "            currentVertex = edgeTo.get(currentVertex).getV();\n",
    "        }\n",
    "        \n",
    "        return path;\n",
    "    }\n",
    "\n",
    "}"
   ]
  },
  {
   "cell_type": "code",
   "execution_count": 13,
   "metadata": {},
   "outputs": [
    {
     "name": "stdout",
     "output_type": "stream",
     "text": [
      "0 -> 4\n",
      "4 -> 1\n",
      "1 -> 2\n"
     ]
    },
    {
     "data": {
      "text/plain": [
       "null"
      ]
     },
     "execution_count": 13,
     "metadata": {},
     "output_type": "execute_result"
    }
   ],
   "source": [
    "package graphs.bellman_ford;\n",
    "\n",
    "import graphs.*;\n",
    "\n",
    "import java.util.*;\n",
    "\n",
    "final WeightedEdgeListGraph graph = new WeightedEdgeListGraph(5);\n",
    "graph.addEdge(0, 1, 10);\n",
    "graph.addEdge(0, 4, 5);\n",
    "graph.addEdge(1, 2, 1);\n",
    "graph.addEdge(1, 4, 2);\n",
    "graph.addEdge(2, 3, 4);\n",
    "graph.addEdge(3, 0, 7);\n",
    "graph.addEdge(3, 2, 6);\n",
    "graph.addEdge(4, 1, 3);\n",
    "graph.addEdge(4, 2, 9);\n",
    "graph.addEdge(4, 3, 2);\n",
    "\n",
    "final List<WeightedEdge> path = BellmanFord.shortestPath(graph, 0, 2);\n",
    "\n",
    "path.forEach(edge -> {\n",
    "    System.out.println(String.format(\"%d -> %d\", edge.getV(), edge.getW()));\n",
    "});"
   ]
  },
  {
   "cell_type": "markdown",
   "metadata": {},
   "source": [
    "## All-Pairs Shortest Paths: Floyd-Warshall Algorithm ($O(|V|^3)$)"
   ]
  },
  {
   "cell_type": "code",
   "execution_count": 14,
   "metadata": {},
   "outputs": [
    {
     "data": {
      "text/plain": [
       "graphs.floyd_warshall.FloydWarshall"
      ]
     },
     "execution_count": 14,
     "metadata": {},
     "output_type": "execute_result"
    }
   ],
   "source": [
    "package graphs.floyd_warshall;\n",
    "\n",
    "import graphs.*;\n",
    "\n",
    "import java.util.*;\n",
    "\n",
    "public class FloydWarshall {\n",
    "\n",
    "    private final WeightedEdgeListGraph graph;\n",
    "    private final double[][] distanceTo;\n",
    "    private final WeightedEdge[][] edgeTo;\n",
    "\n",
    "    /*\n",
    "     * Floyd-Warshall Algorithm:\n",
    "     * 1. Assume all pairs of vertices have an infinite distance from each other.\n",
    "     * 2. Initialize the distance of each pair of vertices of an edge to the weight.\n",
    "     * 3. Initialize the distance of each pair of identical vertices to zero.\n",
    "     * 4. For every intermediary vertex, relax all pairs of vertices through a\n",
    "     *    path with the intermediary vertex.\n",
    "     */\n",
    "    public FloydWarshall(WeightedEdgeListGraph graph) {\n",
    "        this.graph = graph;\n",
    "        this.distanceTo = new double[graph.getVertices()][graph.getVertices()];\n",
    "        this.edgeTo = new WeightedEdge[graph.getVertices()][graph.getVertices()];\n",
    "\n",
    "        for (int vVertex = 0; vVertex < graph.getVertices(); vVertex++) {\n",
    "            for (int wVertex = 0; wVertex < graph.getVertices(); wVertex++) {\n",
    "                distanceTo[vVertex][wVertex] = Double.POSITIVE_INFINITY;\n",
    "            }\n",
    "        }\n",
    "        \n",
    "        for (WeightedEdge edge : graph.getEdges()) {\n",
    "            distanceTo[edge.getV()][edge.getW()] = edge.getWeight();\n",
    "            edgeTo[edge.getV()][edge.getW()] = edge;\n",
    "        }\n",
    "\n",
    "        for (int vertex = 0; vertex < graph.getVertices(); vertex++) {\n",
    "            distanceTo[vertex][vertex] = 0.0;\n",
    "            edgeTo[vertex][vertex] = null;\n",
    "        }\n",
    "\n",
    "        for (int iVertex = 0; iVertex < graph.getVertices(); iVertex++) {\n",
    "            for (int vVertex = 0; vVertex < graph.getVertices(); vVertex++) {\n",
    "                if (edgeTo[vVertex][iVertex] == null) {\n",
    "                    continue;\n",
    "                }\n",
    "                for (int wVertex = 0; wVertex < graph.getVertices(); wVertex++) {\n",
    "                    if (distanceTo[vVertex][wVertex] >\n",
    "                            distanceTo[vVertex][iVertex] + distanceTo[iVertex][wVertex]) {\n",
    "                        distanceTo[vVertex][wVertex] =\n",
    "                            distanceTo[vVertex][iVertex] + distanceTo[iVertex][wVertex];\n",
    "                        edgeTo[vVertex][wVertex] = edgeTo[iVertex][wVertex];\n",
    "                    }\n",
    "                }\n",
    "                if (distanceTo[vVertex][vVertex] < 0.0) {\n",
    "                    throw new IllegalStateException(\"Negative-Weight Cycle Detected!\");\n",
    "                }\n",
    "            }\n",
    "        }\n",
    "    }\n",
    "\n",
    "    public List<WeightedEdge> shortestPath(int source, int destination) {\n",
    "        final LinkedList<WeightedEdge> path = new LinkedList<>();\n",
    "\n",
    "        if (distanceTo[source][destination] < Double.POSITIVE_INFINITY) {\n",
    "            for (WeightedEdge edge = edgeTo[source][destination];\n",
    "                 edge != null;\n",
    "                 edge = edgeTo[source][edge.getV()]) {\n",
    "                path.addFirst(edge);   \n",
    "            }\n",
    "        }\n",
    "\n",
    "        return path;\n",
    "    }\n",
    "\n",
    "}"
   ]
  },
  {
   "cell_type": "code",
   "execution_count": 15,
   "metadata": {},
   "outputs": [
    {
     "name": "stdout",
     "output_type": "stream",
     "text": [
      "0 -> 4\n",
      "4 -> 1\n",
      "1 -> 2\n"
     ]
    },
    {
     "data": {
      "text/plain": [
       "null"
      ]
     },
     "execution_count": 15,
     "metadata": {},
     "output_type": "execute_result"
    }
   ],
   "source": [
    "package graphs.floyd_warshall;\n",
    "\n",
    "import graphs.*;\n",
    "\n",
    "import java.util.*;\n",
    "\n",
    "final WeightedEdgeListGraph graph = new WeightedEdgeListGraph(5);\n",
    "graph.addEdge(0, 1, 10);\n",
    "graph.addEdge(0, 4, 5);\n",
    "graph.addEdge(1, 2, 1);\n",
    "graph.addEdge(1, 4, 2);\n",
    "graph.addEdge(2, 3, 4);\n",
    "graph.addEdge(3, 0, 7);\n",
    "graph.addEdge(3, 2, 6);\n",
    "graph.addEdge(4, 1, 3);\n",
    "graph.addEdge(4, 2, 9);\n",
    "graph.addEdge(4, 3, 2);\n",
    "\n",
    "final FloydWarshall floydWarshall = new FloydWarshall(graph);\n",
    "final List<WeightedEdge> path = floydWarshall.shortestPath(0, 2);\n",
    "\n",
    "path.forEach(edge -> {\n",
    "    System.out.println(String.format(\"%d -> %d\", edge.getV(), edge.getW()));\n",
    "});"
   ]
  },
  {
   "cell_type": "markdown",
   "metadata": {},
   "source": [
    "## Minimum Spanning Trees: Disjoint-Set / Union-Find\n",
    "[See Link](https://algs4.cs.princeton.edu/15uf/)."
   ]
  },
  {
   "cell_type": "code",
   "execution_count": 16,
   "metadata": {},
   "outputs": [
    {
     "data": {
      "text/plain": [
       "graphs.disjoint_set.DisjointSet"
      ]
     },
     "execution_count": 16,
     "metadata": {},
     "output_type": "execute_result"
    }
   ],
   "source": [
    "package graphs.disjoint_set;\n",
    "\n",
    "public class DisjointSet {\n",
    "\n",
    "    private final int[] parent;\n",
    "    private final byte[] rank;\n",
    "    private int count;\n",
    "\n",
    "    public DisjointSet(int count) {\n",
    "        this.parent = new int[count];\n",
    "        this.rank = new byte[count];\n",
    "        this.count = count;\n",
    "        for (int i = 0; i < count; i++) {\n",
    "            this.parent[i] = i;\n",
    "            this.rank[i] = 0;\n",
    "        }\n",
    "    }\n",
    "\n",
    "    /*\n",
    "     * Merge components p and q by having the root of the smaller rank \n",
    "     * point to the root of the larger rank.\n",
    "     */\n",
    "    public void union(int p, int q) {\n",
    "        final int rootP = find(p);\n",
    "        final int rootQ = find(q);\n",
    "        if (rootP == rootQ) {\n",
    "            return;\n",
    "        }\n",
    "\n",
    "        if (rank[rootP] < rank[rootQ]) {\n",
    "            parent[rootP] = rootQ;\n",
    "        } else if (rank[rootP] > rank[rootQ]) {\n",
    "            parent[rootQ] = rootP;\n",
    "        } else {\n",
    "            parent[rootQ] = rootP;\n",
    "            rank[rootP]++;\n",
    "        }\n",
    "\n",
    "        count--;\n",
    "    }\n",
    "\n",
    "    /*\n",
    "     * Finds the root of component p by traversing the parents for \n",
    "     * a component who only points to themselves.\n",
    "     */\n",
    "    public int find(int p) {\n",
    "        while (p != parent[p]) {\n",
    "            parent[p] = parent[parent[p]];\n",
    "            p = parent[p];\n",
    "        }\n",
    "        return p;\n",
    "    }\n",
    "\n",
    "    /*\n",
    "     * Two components are connected if they have the same root.\n",
    "     */\n",
    "    public boolean connected(int p, int q) {\n",
    "        return find(p) == find(q);\n",
    "    }\n",
    "\n",
    "    /*\n",
    "     * The number of components.\n",
    "     */\n",
    "    public int count() {\n",
    "        return count;\n",
    "    }\n",
    "\n",
    "}"
   ]
  },
  {
   "cell_type": "markdown",
   "metadata": {},
   "source": [
    "## Minimum Spanning Trees: Kruskal's Algorithm ($O(|E|\\log(|V|))$)\n",
    "[See Link](https://algs4.cs.princeton.edu/43mst/)."
   ]
  },
  {
   "cell_type": "code",
   "execution_count": 17,
   "metadata": {},
   "outputs": [
    {
     "data": {
      "text/plain": [
       "graphs.kruskal.Kruskal"
      ]
     },
     "execution_count": 17,
     "metadata": {},
     "output_type": "execute_result"
    }
   ],
   "source": [
    "package graphs.kruskal;\n",
    "\n",
    "import graphs.*;\n",
    "import graphs.disjoint_set.*;\n",
    "\n",
    "import java.util.*;\n",
    "\n",
    "public class Kruskal {\n",
    "\n",
    "    /*\n",
    "     * Kruskal's Algorithm:\n",
    "     * 1. Assign every vertex into its own component.\n",
    "     * 2. Greedily, by increasing weight, connect two components by \n",
    "     *    including the connecting edge into the MST.\n",
    "     */\n",
    "    public static List<WeightedEdge> minimumSpanningTree(\n",
    "            WeightedEdgeListGraph graph) {        \n",
    "        final DisjointSet disjointSet = new DisjointSet(graph.getVertices());\n",
    "\n",
    "        final PriorityQueue<WeightedEdge> priorityQueue = new PriorityQueue<>();\n",
    "        for (WeightedEdge edge : graph.getEdges()) {\n",
    "            priorityQueue.offer(edge);\n",
    "        }\n",
    "\n",
    "        final LinkedList<WeightedEdge> mst = new LinkedList<>();\n",
    "        while (!priorityQueue.isEmpty() && mst.size() < graph.getVertices() - 1) {\n",
    "            final WeightedEdge currentEdge = priorityQueue.poll();\n",
    "            if (!disjointSet.connected(currentEdge.getV(), currentEdge.getW())) {\n",
    "                disjointSet.union(currentEdge.getV(), currentEdge.getW());\n",
    "                mst.add(currentEdge);\n",
    "            }\n",
    "        }\n",
    "\n",
    "        return mst;\n",
    "    }\n",
    "\n",
    "}"
   ]
  },
  {
   "cell_type": "code",
   "execution_count": 18,
   "metadata": {},
   "outputs": [
    {
     "name": "stdout",
     "output_type": "stream",
     "text": [
      "2 -> 3\n",
      "0 -> 3\n",
      "0 -> 1\n"
     ]
    },
    {
     "data": {
      "text/plain": [
       "null"
      ]
     },
     "execution_count": 18,
     "metadata": {},
     "output_type": "execute_result"
    }
   ],
   "source": [
    "package graphs.kruskal;\n",
    "\n",
    "import graphs.*;\n",
    "\n",
    "import java.util.*;\n",
    "\n",
    "final WeightedEdgeListGraph graph = new WeightedEdgeListGraph(4);\n",
    "graph.addEdge(0, 1, 10);\n",
    "graph.addEdge(0, 2, 6);\n",
    "graph.addEdge(0, 3, 5);\n",
    "graph.addEdge(1, 3, 15);\n",
    "graph.addEdge(2, 3, 4);\n",
    "\n",
    "final List<WeightedEdge> mst = Kruskal.minimumSpanningTree(graph);\n",
    "\n",
    "mst.forEach(edge -> {\n",
    "    System.out.println(String.format(\"%d -> %d\", edge.getV(), edge.getW()));\n",
    "});"
   ]
  },
  {
   "cell_type": "markdown",
   "metadata": {},
   "source": [
    "## Topological Sort ($O(|V|+|E|)$)\n",
    "[See Link](https://algs4.cs.princeton.edu/42digraph/)."
   ]
  },
  {
   "cell_type": "code",
   "execution_count": 19,
   "metadata": {},
   "outputs": [
    {
     "data": {
      "text/plain": [
       "graphs.topological_sort.TopologicalSort"
      ]
     },
     "execution_count": 19,
     "metadata": {},
     "output_type": "execute_result"
    }
   ],
   "source": [
    "package graphs.topological_sort;\n",
    "\n",
    "import graphs.*;\n",
    "\n",
    "import java.util.*;\n",
    "\n",
    "public class TopologicalSort {\n",
    "\n",
    "    /*\n",
    "     * Given a directed graph, list the vertices in order such that all \n",
    "     * its directed edges point from a vertex earlier in the order to \n",
    "     * a vertex later in the order.\n",
    "     */\n",
    "    public static List<Integer> topologicalSort(ListGraph graph) {\n",
    "        final LinkedList<Integer> topologicalOrder = new LinkedList<>();\n",
    "\n",
    "        final Set<Integer> temporarySet = new HashSet<>();\n",
    "        final Set<Integer> visitedSet = new HashSet<>();\n",
    "        for (int vertex = 0; vertex < graph.getVertices(); vertex++) {\n",
    "            if (!visitedSet.contains(vertex)) {\n",
    "                depthFirstSearch(\n",
    "                    graph,\n",
    "                    vertex,\n",
    "                    topologicalOrder,\n",
    "                    temporarySet,\n",
    "                    visitedSet);\n",
    "            }\n",
    "        }\n",
    "\n",
    "        return topologicalOrder;\n",
    "    }\n",
    "\n",
    "    private static void depthFirstSearch(\n",
    "            ListGraph graph,\n",
    "            int v,\n",
    "            LinkedList<Integer> topologicalOrder,\n",
    "            Set<Integer> temporarySet,\n",
    "            Set<Integer> visitedSet) {\n",
    "        visitedSet.add(v);\n",
    "\n",
    "        temporarySet.add(v);\n",
    "\n",
    "        final Iterable<Integer> adjacents = graph.getAdjacents(v);\n",
    "        for (int adjacentVertex : adjacents) {\n",
    "            if (!visitedSet.contains(adjacentVertex)) {\n",
    "                depthFirstSearch(\n",
    "                    graph,\n",
    "                    adjacentVertex,\n",
    "                    topologicalOrder,\n",
    "                    temporarySet,\n",
    "                    visitedSet);\n",
    "                continue;\n",
    "            }\n",
    "            if (temporarySet.contains(adjacentVertex)) {\n",
    "                throw new IllegalStateException(\"Cycle Detected!\");\n",
    "            }\n",
    "        }\n",
    "\n",
    "        temporarySet.remove(v);\n",
    "\n",
    "        topologicalOrder.addFirst(v);\n",
    "    }\n",
    "    \n",
    "}"
   ]
  },
  {
   "cell_type": "code",
   "execution_count": 20,
   "metadata": {},
   "outputs": [
    {
     "name": "stdout",
     "output_type": "stream",
     "text": [
      "[5, 4, 2, 3, 1, 0]\n"
     ]
    },
    {
     "data": {
      "text/plain": [
       "null"
      ]
     },
     "execution_count": 20,
     "metadata": {},
     "output_type": "execute_result"
    }
   ],
   "source": [
    "package graphs.topological_sort;\n",
    "\n",
    "import graphs.*;\n",
    "\n",
    "import java.util.*;\n",
    "\n",
    "final ListGraph graph = new ListGraph(6);\n",
    "graph.addEdge(5, 2);\n",
    "graph.addEdge(5, 0);\n",
    "graph.addEdge(4, 0);\n",
    "graph.addEdge(4, 1);\n",
    "graph.addEdge(2, 3);\n",
    "graph.addEdge(3, 1);\n",
    "\n",
    "final List<Integer> topologicalOrder = TopologicalSort.topologicalSort(graph);\n",
    "\n",
    "System.out.println(topologicalOrder.toString());"
   ]
  },
  {
   "cell_type": "markdown",
   "metadata": {},
   "source": [
    "## Strongly Connected Components: Kosaraju's Algorithm ($O(|V|+|E|)$)\n",
    "[See Link](https://algs4.cs.princeton.edu/42digraph/)."
   ]
  },
  {
   "cell_type": "code",
   "execution_count": 21,
   "metadata": {},
   "outputs": [
    {
     "data": {
      "text/plain": [
       "graphs.kosaraju.Kosaraju"
      ]
     },
     "execution_count": 21,
     "metadata": {},
     "output_type": "execute_result"
    }
   ],
   "source": [
    "package graphs.kosaraju;\n",
    "\n",
    "import graphs.*;\n",
    "\n",
    "import java.util.*;\n",
    "\n",
    "public class Kosaraju {\n",
    "    \n",
    "    /*\n",
    "     * Kosaraju's Algorithm:\n",
    "     * 1. Construct the reverse post-order, depth-first search ordering\n",
    "     *    of the directed graph.\n",
    "     * 2. Construct the reverse of the directed graph.\n",
    "     * 3. For every vertex in 1., if the current vertex does not belong\n",
    "     *    to any component, create a new component and fill it\n",
    "     *    with the vertices visited from a depth-first search starting\n",
    "     *    from the current vertex.\n",
    "     */\n",
    "    public static List<List<Integer>> stronglyConnectedComponents(ListGraph graph) {\n",
    "        final List<List<Integer>> components = new LinkedList<>();\n",
    "\n",
    "        final List<Integer> reversePostOrderVertices = reversePostOrder(graph);\n",
    "        final ListGraph reverseGraph = reverse(graph);\n",
    "        final Set<Integer> visitedSet = new HashSet<>();\n",
    "        for (int currentVertex : reversePostOrderVertices) {\n",
    "            if (!visitedSet.contains(currentVertex)) {\n",
    "                final LinkedList<Integer> component = new LinkedList<>();\n",
    "                reversePostOrderDepthFirstSearch(\n",
    "                    reverseGraph,\n",
    "                    currentVertex,\n",
    "                    visitedSet,\n",
    "                    component);\n",
    "                components.add(component);\n",
    "                visitedSet.addAll(component);\n",
    "            }\n",
    "        }\n",
    "\n",
    "        return components;\n",
    "    }\n",
    "\n",
    "    private static LinkedList<Integer> reversePostOrder(ListGraph graph) {\n",
    "        final LinkedList<Integer> results = new LinkedList<>();\n",
    "\n",
    "        final Set<Integer> visitedSet = new HashSet<>();\n",
    "        for (int vertex = 0; vertex < graph.getVertices(); vertex++) {\n",
    "            if (!visitedSet.contains(vertex)) {\n",
    "                reversePostOrderDepthFirstSearch(graph, vertex, visitedSet, results);\n",
    "            }\n",
    "        }\n",
    "\n",
    "        return results;\n",
    "    }\n",
    "    \n",
    "    private static void reversePostOrderDepthFirstSearch(\n",
    "            ListGraph graph, \n",
    "            int v, \n",
    "            Set<Integer> visitedSet, \n",
    "            LinkedList<Integer> results) {\n",
    "        visitedSet.add(v);\n",
    "\n",
    "        final Iterable<Integer> adjacents = graph.getAdjacents(v);\n",
    "        for (int adjacentVertex : adjacents) {\n",
    "            if (!visitedSet.contains(adjacentVertex)) {\n",
    "                reversePostOrderDepthFirstSearch(\n",
    "                    graph,\n",
    "                    adjacentVertex,\n",
    "                    visitedSet,\n",
    "                    results);\n",
    "            }\n",
    "        }\n",
    "\n",
    "        results.addFirst(v);\n",
    "    }\n",
    "    \n",
    "    private static ListGraph reverse(ListGraph graph) {\n",
    "        final ListGraph reversedGraph = new ListGraph(graph.getVertices());\n",
    "\n",
    "        for (int v = 0; v < graph.getVertices(); v++) {\n",
    "            for (int w : graph.getAdjacents(v)) {\n",
    "                reversedGraph.addEdge(w, v);\n",
    "            }\n",
    "        }\n",
    "\n",
    "        return reversedGraph;\n",
    "    }\n",
    "    \n",
    "}"
   ]
  },
  {
   "cell_type": "code",
   "execution_count": 22,
   "metadata": {},
   "outputs": [
    {
     "name": "stdout",
     "output_type": "stream",
     "text": [
      "[2, 5, 6]\n",
      "[0, 1]\n",
      "[4]\n",
      "[3]\n"
     ]
    },
    {
     "data": {
      "text/plain": [
       "null"
      ]
     },
     "execution_count": 22,
     "metadata": {},
     "output_type": "execute_result"
    }
   ],
   "source": [
    "package graphs.kosaraju;\n",
    "\n",
    "import graphs.*;\n",
    "\n",
    "import java.util.*;\n",
    "\n",
    "final ListGraph graph = new ListGraph(7);\n",
    "graph.addEdge(0, 1);\n",
    "graph.addEdge(0, 3);\n",
    "graph.addEdge(1, 0);\n",
    "graph.addEdge(1, 4);\n",
    "graph.addEdge(2, 1);\n",
    "graph.addEdge(2, 6);\n",
    "graph.addEdge(4, 3);\n",
    "graph.addEdge(5, 2);\n",
    "graph.addEdge(5, 4);\n",
    "graph.addEdge(6, 5);\n",
    "\n",
    "final List<List<Integer>> stronglyConnectedComponents =\n",
    "    Kosaraju.stronglyConnectedComponents(graph);\n",
    "\n",
    "stronglyConnectedComponents.forEach(component -> {\n",
    "    System.out.println(component.toString());\n",
    "});"
   ]
  },
  {
   "cell_type": "markdown",
   "metadata": {},
   "source": [
    "## Maximum Flow and Minimum Cut: Ford-Fulkerson Algorithm ($O(|E|^2 \\times |V|)$)\n",
    "[See Link](https://algs4.cs.princeton.edu/64maxflow/)."
   ]
  },
  {
   "cell_type": "code",
   "execution_count": 23,
   "metadata": {},
   "outputs": [
    {
     "data": {
      "text/plain": [
       "graphs.maximum_flow.FlowEdge"
      ]
     },
     "execution_count": 23,
     "metadata": {},
     "output_type": "execute_result"
    }
   ],
   "source": [
    "package graphs.maximum_flow;\n",
    "\n",
    "public class FlowEdge {\n",
    "\n",
    "    private static final double EPSILON = 1E-10;\n",
    "\n",
    "    private final int v;\n",
    "    private final int w;\n",
    "    private final double capacity;\n",
    "\n",
    "    private double flow;\n",
    "\n",
    "    public FlowEdge(int v, int w, double capacity) {\n",
    "        if (v == w) {\n",
    "            throw new IllegalArgumentException(\n",
    "                String.format(\"No Self Loops (v, w): (%d, %d)\", v, w));\n",
    "        }\n",
    "        if (capacity < 0.0) {\n",
    "            throw new IllegalArgumentException(\n",
    "                String.format(\"Positive Capacity Only: %f\", capacity));\n",
    "        }\n",
    "        this.v = v;\n",
    "        this.w = w;\n",
    "        this.capacity = capacity;\n",
    "        this.flow = 0.0;\n",
    "    }\n",
    "\n",
    "    public int getV() {\n",
    "        return v;\n",
    "    }\n",
    "\n",
    "    public int getW() {\n",
    "        return w;\n",
    "    }\n",
    "\n",
    "    public double getCapacity() {\n",
    "        return capacity;\n",
    "    }\n",
    "\n",
    "    public double getFlow() {\n",
    "        return flow;\n",
    "    }\n",
    "\n",
    "    public int getOther(int vertex) {\n",
    "        if (vertex == v) {\n",
    "            return w;\n",
    "        } else if (vertex == w) {\n",
    "            return v;\n",
    "        } else {\n",
    "            throw new IllegalArgumentException(\n",
    "                String.format(\"Illegal Vertex: %d\", vertex));\n",
    "        }\n",
    "    }\n",
    "\n",
    "    public double getResidualCapacityTo(int vertex) {\n",
    "        if (vertex == v) {\n",
    "            return flow;\n",
    "        } else if (vertex == w) {\n",
    "            return capacity - flow;\n",
    "        } else {\n",
    "            throw new IllegalArgumentException(\n",
    "                String.format(\"Illegal Vertex: %d\", vertex));\n",
    "        }\n",
    "    }\n",
    "\n",
    "    public void addResidualFlowTo(int vertex, double delta) {\n",
    "        if (delta < 0.0) {\n",
    "            throw new IllegalArgumentException(\n",
    "                String.format(\"Positive Delta Only: %f\", delta));\n",
    "        }\n",
    "        // Mutation:\n",
    "        if (vertex == v) {\n",
    "            flow -= delta;\n",
    "        } else if (vertex == w) {\n",
    "            flow += delta;\n",
    "        } else {\n",
    "            throw new IllegalArgumentException(\n",
    "                String.format(\"Illegal Vertex: %d\", vertex));\n",
    "        }\n",
    "        // Rounding:\n",
    "        if (Math.abs(flow) <= EPSILON) {\n",
    "            flow = 0;\n",
    "        }\n",
    "        if (Math.abs(flow - capacity) <= EPSILON) {\n",
    "            flow = capacity;\n",
    "        }\n",
    "    }\n",
    "\n",
    "}"
   ]
  },
  {
   "cell_type": "code",
   "execution_count": 24,
   "metadata": {},
   "outputs": [
    {
     "data": {
      "text/plain": [
       "graphs.maximum_flow.FlowNetwork"
      ]
     },
     "execution_count": 24,
     "metadata": {},
     "output_type": "execute_result"
    }
   ],
   "source": [
    "package graphs.maximum_flow;\n",
    "\n",
    "import java.util.*;\n",
    "\n",
    "public class FlowNetwork {\n",
    "\n",
    "    private final ArrayList<LinkedList<FlowEdge>> adjacencyList;\n",
    "    private final int vertices;\n",
    "\n",
    "    public FlowNetwork(int vertices) {\n",
    "        this.adjacencyList = new ArrayList<>(vertices);\n",
    "        this.vertices = vertices;\n",
    "        for (int vertex = 0; vertex < vertices; vertex++) {\n",
    "            this.adjacencyList.add(new LinkedList<>());\n",
    "        }\n",
    "    }\n",
    "\n",
    "    public void addEdge(int v, int w, double capacity) {\n",
    "        final FlowEdge flowEdge = new FlowEdge(v, w, capacity);\n",
    "        adjacencyList.get(v).add(flowEdge);\n",
    "        adjacencyList.get(w).add(flowEdge);\n",
    "    }\n",
    "\n",
    "    public int getVertices() {\n",
    "        return vertices;\n",
    "    }\n",
    "\n",
    "    public Iterable<FlowEdge> getAdjacents(int v) {\n",
    "        return adjacencyList.get(v);\n",
    "    }\n",
    "\n",
    "    public Iterable<FlowEdge> getEdges() {\n",
    "        final LinkedList<FlowEdge> edges = new LinkedList<>();\n",
    "        for (int vertex = 0; vertex < vertices; vertex++) {\n",
    "            edges.addAll(adjacencyList.get(vertex));\n",
    "        }\n",
    "        return edges;\n",
    "    }\n",
    "\n",
    "}"
   ]
  },
  {
   "cell_type": "code",
   "execution_count": 25,
   "metadata": {},
   "outputs": [
    {
     "data": {
      "text/plain": [
       "graphs.maximum_flow.FordFulkerson"
      ]
     },
     "execution_count": 25,
     "metadata": {},
     "output_type": "execute_result"
    }
   ],
   "source": [
    "package graphs.maximum_flow;\n",
    "\n",
    "import java.util.*;\n",
    "\n",
    "public class FordFulkerson {\n",
    "\n",
    "    /*\n",
    "     * Ford-Fulkerson Algorithm:\n",
    "     * 1. Given a capacitated network in which every original edge has a reverse edge,\n",
    "     *    the residual capacity of a original edge is the initial capacity\n",
    "     *    while the residual capacity of a reverse edge is zero.\n",
    "     * 2. Calculate the initial flow to the destination.\n",
    "     * 3. Execute breadth-first search to find a path from the source to the destination.\n",
    "     * 4. Traverse the breadth-first search path to find the bottleneck capacity.\n",
    "     * 5. Modify the network along the breadth-first search path by\n",
    "     *    increasing the flow of the original edge while decreasing the flow of the\n",
    "     *    reverse edge.\n",
    "     *\n",
    "     * Key Idea:\n",
    "     * The idea is that increasing the flow decreases the amount of flow that can go \n",
    "     * through the edges in the future. On the other hand, it is possible to cancel flow\n",
    "     * later using the reverse edges if it turns out that it would be beneficial to route the flow \n",
    "     * in another way. The algorithm increases the flow as long as there is a path from\n",
    "     * the source to the sink through positive-weight edges. Then, if there are no such\n",
    "     * paths, the algorithm terminates and the maximum flow has been found.\n",
    "     *\n",
    "     * Minimum Cut:\n",
    "     * - Let A be the vertices that can be reached from the source using the original\n",
    "     *   edges.\n",
    "     * - Let B be the vertices that can reach the destination using the original edges.\n",
    "     * - Thus, the minimum cut is the set of edges starting from A and ending in B.\n",
    "     * 1. Perform a depth-first search on a maximum-flow network, to determine partitions\n",
    "     *    A and B.\n",
    "     * 2. Construct the minimum cut as the edges starting from A and ending in B.\n",
    "     */\n",
    "    public static double maximumFlow(\n",
    "        FlowNetwork network, \n",
    "        int source, \n",
    "        int destination, \n",
    "        Set<FlowEdge> minimumCut\n",
    "    ) {\n",
    "        double maximumFlow = initialFlow(network, destination);\n",
    "\n",
    "        final Map<Integer, FlowEdge> edgeTo = new HashMap<>();\n",
    "        while (hasBreadthFirstSearchPath(network, source, destination, edgeTo)) {\n",
    "            // 1. Find Bottleneck Capacity by Traversing Path\n",
    "            double bottleneckCapacity = Double.POSITIVE_INFINITY;\n",
    "            for (int vertex = destination;\n",
    "                 vertex != source;\n",
    "                 vertex = edgeTo.get(vertex).getOther(vertex)) {\n",
    "                bottleneckCapacity = Math.min(\n",
    "                    bottleneckCapacity,\n",
    "                    edgeTo.get(vertex).getResidualCapacityTo(vertex));\n",
    "            }\n",
    "            // 2. Modify Flow Network by Traversing Path\n",
    "            for (int vertex = destination;\n",
    "                 vertex != source;\n",
    "                 vertex = edgeTo.get(vertex).getOther(vertex)) {\n",
    "                edgeTo.get(vertex).addResidualFlowTo(vertex, bottleneckCapacity);\n",
    "            }\n",
    "            // 3. Update Maximum Flow\n",
    "            maximumFlow += bottleneckCapacity;\n",
    "        }\n",
    "        \n",
    "        // Calculate Minimum Cut\n",
    "        minimumCut(network, source, minimumCut);\n",
    "    \n",
    "        return maximumFlow;\n",
    "    }\n",
    "\n",
    "    private static double initialFlow(\n",
    "            FlowNetwork network,\n",
    "            int vertex) {\n",
    "        double flow = 0.0;\n",
    "        final Iterable<FlowEdge> adjacents = network.getAdjacents(vertex);\n",
    "        for (FlowEdge adjacentEdge : adjacents) {\n",
    "            if (vertex == adjacentEdge.getV())  {\n",
    "                flow -= adjacentEdge.getFlow();\n",
    "            } else if (vertex == adjacentEdge.getW()) {\n",
    "                flow += adjacentEdge.getFlow();\n",
    "            } else {\n",
    "                throw new IllegalArgumentException(\n",
    "                    String.format(\"Illegal Vertex: %d\", vertex));\n",
    "            }\n",
    "        }\n",
    "        return flow;\n",
    "    }\n",
    "\n",
    "    private static boolean hasBreadthFirstSearchPath(\n",
    "            FlowNetwork network, \n",
    "            int source, \n",
    "            int destination, \n",
    "            Map<Integer, FlowEdge> edgeTo) {\n",
    "        // Clear When Finding New Path\n",
    "        edgeTo.clear();\n",
    "\n",
    "        final Set<Integer> visitedSet = new HashSet<>();\n",
    "        final Deque<Integer> queue = new ArrayDeque<>();\n",
    "\n",
    "        queue.offer(source);\n",
    "\n",
    "        while (!queue.isEmpty()) {\n",
    "            final int currentVertex = queue.poll();\n",
    "\n",
    "            visitedSet.add(currentVertex);\n",
    "\n",
    "            // Quit Eagerly If Path Found\n",
    "            if (visitedSet.contains(destination)) {\n",
    "                break;\n",
    "            }\n",
    "\n",
    "            final Iterable<FlowEdge> adjacents = network.getAdjacents(currentVertex);\n",
    "            for (FlowEdge adjacentEdge : adjacents) {\n",
    "                final int otherVertex = adjacentEdge.getOther(currentVertex);\n",
    "                if (!visitedSet.contains(otherVertex)) {\n",
    "                    // Path Exists Only If Capacity Is Available\n",
    "                    if (adjacentEdge.getResidualCapacityTo(otherVertex) > 0) {\n",
    "                        edgeTo.put(otherVertex, adjacentEdge);\n",
    "                        queue.offer(otherVertex);\n",
    "                    }\n",
    "                }\n",
    "            }\n",
    "        }\n",
    "\n",
    "        return visitedSet.contains(destination);\n",
    "    }\n",
    "    \n",
    "    private static void minimumCut(\n",
    "            FlowNetwork network,\n",
    "            int source,\n",
    "            Set<FlowEdge> minimumCut) {\n",
    "        final Set<Integer> visitedSet = new HashSet<>();\n",
    "\n",
    "        depthFirstSearch(network, source, visitedSet);\n",
    "\n",
    "        for (int vertex = 0; vertex < network.getVertices(); vertex++) {\n",
    "            final Iterable<FlowEdge> adjacents = network.getAdjacents(vertex);\n",
    "            for (FlowEdge adjacentEdge : adjacents) {\n",
    "                final boolean isOriginalEdge = vertex == adjacentEdge.getV();\n",
    "                final boolean inA = visitedSet.contains(adjacentEdge.getV());\n",
    "                final boolean inB = !visitedSet.contains(adjacentEdge.getW());\n",
    "                if (isOriginalEdge && inA && inB) {\n",
    "                    minimumCut.add(adjacentEdge);\n",
    "                }\n",
    "            }\n",
    "        }\n",
    "    }\n",
    "    \n",
    "    private static void depthFirstSearch(\n",
    "            FlowNetwork network,\n",
    "            int v,\n",
    "            Set<Integer> visitedSet) {\n",
    "        visitedSet.add(v);\n",
    "\n",
    "        final Iterable<FlowEdge> adjacents = network.getAdjacents(v);\n",
    "        for (FlowEdge adjacentEdge : adjacents) {\n",
    "            final int otherVertex = adjacentEdge.getOther(v);\n",
    "            if (!visitedSet.contains(otherVertex)) {\n",
    "                if (adjacentEdge.getResidualCapacityTo(otherVertex) > 0) {\n",
    "                    depthFirstSearch(network, otherVertex, visitedSet);\n",
    "                }\n",
    "            }\n",
    "        }\n",
    "    }\n",
    "\n",
    "}"
   ]
  },
  {
   "cell_type": "code",
   "execution_count": 26,
   "metadata": {},
   "outputs": [
    {
     "name": "stdout",
     "output_type": "stream",
     "text": [
      "Maximum Flow: 7.000000\n",
      "Minimum Cut:\n",
      "1 -> 2\n",
      "3 -> 4\n"
     ]
    },
    {
     "data": {
      "text/plain": [
       "null"
      ]
     },
     "execution_count": 26,
     "metadata": {},
     "output_type": "execute_result"
    }
   ],
   "source": [
    "package graphs.maximum_flow;\n",
    "\n",
    "import java.util.*;\n",
    "\n",
    "final FlowNetwork network = new FlowNetwork(6);\n",
    "network.addEdge(0, 1, 5.0);\n",
    "network.addEdge(0, 3, 4.0);\n",
    "network.addEdge(1, 2, 6.0);\n",
    "network.addEdge(2, 4, 8.0);\n",
    "network.addEdge(2, 5, 5.0);\n",
    "network.addEdge(3, 1, 3.0);\n",
    "network.addEdge(3, 4, 1.0);\n",
    "network.addEdge(4, 5, 2.0);\n",
    "\n",
    "final Set<FlowEdge> minimumCut = new HashSet<>();\n",
    "final double maximumFlow = FordFulkerson.maximumFlow(network, 0, 5, minimumCut);\n",
    "\n",
    "System.out.println(String.format(\"Maximum Flow: %f\", maximumFlow));\n",
    "System.out.println(\"Minimum Cut:\");\n",
    "minimumCut.forEach(edge -> {\n",
    "    System.out.println(String.format(\"%d -> %d\", edge.getV(), edge.getW()));\n",
    "});"
   ]
  }
 ],
 "metadata": {
  "kernelspec": {
   "display_name": "Java",
   "language": "java",
   "name": "java"
  },
  "language_info": {
   "codemirror_mode": "text/x-java",
   "file_extension": ".java",
   "mimetype": "",
   "name": "Java",
   "nbconverter_exporter": "",
   "version": "1.8.0_152-release"
  },
  "toc": {
   "base_numbering": 1,
   "nav_menu": {},
   "number_sections": false,
   "sideBar": false,
   "skip_h1_title": false,
   "title_cell": "Table of Contents",
   "title_sidebar": "Contents",
   "toc_cell": false,
   "toc_position": {},
   "toc_section_display": false,
   "toc_window_display": false
  }
 },
 "nbformat": 4,
 "nbformat_minor": 2
}
