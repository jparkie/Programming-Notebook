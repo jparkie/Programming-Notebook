{
 "cells": [
  {
   "cell_type": "markdown",
   "metadata": {},
   "source": [
    "# Data Structures\n",
    "*Author: Jacob Park*"
   ]
  },
  {
   "cell_type": "markdown",
   "metadata": {},
   "source": [
    "## Arrays\n",
    "\n",
    "### Use\n",
    "- Constant Random Access.\n",
    "- Fixed Size.\n",
    "\n",
    "### See Also\n",
    "- [ArrayList](https://docs.oracle.com/javase/8/docs/api/java/util/ArrayList.html)\n",
    "- [Arrays](https://docs.oracle.com/javase/8/docs/api/java/util/Arrays.html)"
   ]
  },
  {
   "cell_type": "markdown",
   "metadata": {},
   "source": [
    "## Doubly Linked Lists\n",
    "- Constant Splicing.\n",
    "- Dynamic Size.\n",
    "\n",
    "### Operations\n",
    "- `Insert(x,l)` ($O(1)$): Insert item `x` into doubly linked list `l`.\n",
    "- `Delete(x,l)` ($O(1)$): Remove item `x` from doubly linked list `l`.\n",
    "- `Search(x,l)` ($O(n)$): Return a node with item `x` if one exists in doubly linked list `l`.\n",
    "\n",
    "### See Also\n",
    "- [Collections](https://docs.oracle.com/javase/8/docs/api/java/util/Collections.html)\n",
    "- [LinkedList](https://docs.oracle.com/javase/8/docs/api/java/util/LinkedList.html)"
   ]
  },
  {
   "cell_type": "markdown",
   "metadata": {},
   "source": [
    "## Stacks (LIFO)\n",
    "\n",
    "### Use\n",
    "- Position-Based Retrieval.\n",
    "- Order Does Not Matter.\n",
    "- Nested (Recursive) Structure.\n",
    "\n",
    "### Operations\n",
    "- `Push(x,s)` ($O(1)$): Insert item `x` at the top of stack `s`.\n",
    "- `Pop(s)` ($O(1)$): Return and remove the top item of stack `s`.\n",
    "\n",
    "### See Also\n",
    "- [Stack](https://docs.oracle.com/javase/8/docs/api/java/util/Stack.html)"
   ]
  },
  {
   "cell_type": "markdown",
   "metadata": {},
   "source": [
    "## Queues (FIFO)\n",
    "\n",
    "### Use\n",
    "- Position-Based Retrieval.\n",
    "- Order Does Matter.\n",
    "- Linear Structure.\n",
    "\n",
    "### Operations\n",
    "- `Enqueue(x,q)` ($O(1)$): Insert item `x` at the back of queue `q`.\n",
    "- `Dequeue(x,q)` ($O(1)$): Return and remove the front item from queue `q`.\n",
    "\n",
    "### See Also\n",
    "- [ArrayDeque](https://docs.oracle.com/javase/7/docs/api/java/util/ArrayDeque.html)"
   ]
  },
  {
   "cell_type": "markdown",
   "metadata": {},
   "source": [
    "## Dictionaries\n",
    "\n",
    "### Use\n",
    "- Content-Based Retrieval.\n",
    "- *Hash-Based*: Unordered with $O(1)$.\n",
    "    - Caching.\n",
    "    - Lookup/Symbol Table.\n",
    "- *Tree-Based*: Ordered with $O(\\log(n))$.\n",
    "    - Sorted Traversal.\n",
    "    - Ceiling Query: Find an item with the least key greater than or equal to the given key.\n",
    "    - Flooring Query: Find an item with the greatest key lesser than or equal to the given key.\n",
    "    - Minimum Query: Find an item with the smallest key.\n",
    "    - Maximum Query: Find an item with the largest key.\n",
    "    - Higher Neighbour Query: Find an item with the least key strictly greater than the given key.\n",
    "    - Lower Neighbour Query: Find an item with the greatest key strictly lower than the given key.\n",
    "\n",
    "### Operations\n",
    "- `Insert(x,d)` (*Hash-Based:* $O(1)$; *Tree-Based:* $O(\\log(n))$): Insert item `x` into dictionary `d`.\n",
    "- `Delete(x,d)` (*Hash-Based:* $O(1)$; *Tree-Based:* $O(\\log(n))$): Remove item `x` (or the item pointed to by `x`) from dictionary `d`.\n",
    "- `Search(x,d)` (*Hash-Based:* $O(1)$; *Tree-Based:* $O(\\log(n))$): Return an item with key `k` if one exists in dictionary `d`.\n",
    "\n",
    "### See Also\n",
    "- [HashMap](https://docs.oracle.com/javase/8/docs/api/java/util/HashMap.html)\n",
    "- [TreeMap](https://docs.oracle.com/javase/8/docs/api/java/util/TreeMap.html)"
   ]
  },
  {
   "cell_type": "markdown",
   "metadata": {},
   "source": [
    "## Priority Queues\n",
    "\n",
    "### Use\n",
    "- Constant Minimum/Maximum Query.\n",
    "- $O(n \\log(n))$ In-Place Heap Sort.\n",
    "\n",
    "### Operations\n",
    "- `Insert(x,p)` ($O(\\log(n))$): Insert item `x` into priority queue `p`.\n",
    "- `Maximum(p)` ($O(1)$): Return the item with the largest key in priority queue `p`.\n",
    "- `ExtractMax(p)` ($O(\\log(n))$): Return and remove the item with the largest key in `p`.\n",
    "\n",
    "### See Also\n",
    "- [PriorityQueue](https://docs.oracle.com/javase/8/docs/api/java/util/PriorityQueue.html)"
   ]
  },
  {
   "cell_type": "markdown",
   "metadata": {},
   "source": [
    "## Sets\n",
    "\n",
    "### Use\n",
    "- Filtering Duplicates.\n",
    "- Testing Membership.\n",
    "- *Hash-Based*: Unordered with $O(1)$.\n",
    "- *Tree-Based*: Ordered with $O(\\log(n))$.\n",
    "\n",
    "### Operations\n",
    "- `Insert(x,S)` (*Hash-Based:* $O(1)$; *Tree-Based:* $O(\\log(n))$): Insert element `x` into set `S`.\n",
    "- `Delete(x,S)` (*Hash-Based:* $O(1)$; *Tree-Based:* $O(\\log(n))$): Delete element `x` from set `S`.\n",
    "- `Member(x,S)` (*Hash-Based:* $O(1)$; *Tree-Based:* $O(\\log(n))$): Is an item `x` an element of set `S`?\n",
    "- `Union(A,B)`: Construct a subset of `A` and `B` of all elements in set `A` or in set `B`.\n",
    "- `Intersection(A,B)`: Construct a subset of `A` and `B` of all elements in set `A` and in set `B`.\n",
    "\n",
    "### See Also\n",
    "- [HashSet](https://docs.oracle.com/javase/8/docs/api/java/util/HashSet.html)\n",
    "- [TreeSet](https://docs.oracle.com/javase/8/docs/api/java/util/TreeSet.html)"
   ]
  }
 ],
 "metadata": {
  "kernelspec": {
   "display_name": "Java",
   "language": "java",
   "name": "java"
  },
  "language_info": {
   "codemirror_mode": "text/x-java",
   "file_extension": ".java",
   "mimetype": "",
   "name": "Java",
   "nbconverter_exporter": "",
   "version": "1.8.0_144"
  }
 },
 "nbformat": 4,
 "nbformat_minor": 2
}
