{
 "cells": [
  {
   "cell_type": "markdown",
   "metadata": {},
   "source": [
    "# Trees\n",
    "*Author: Jacob Park*"
   ]
  },
  {
   "cell_type": "markdown",
   "metadata": {},
   "source": [
    "A tree is a connected acyclic graph that consists of $n$ nodes and $n - 1$ edges.\n",
    "\n",
    "- **Degree**: The number of children of a node $x$ in a rooted tree $T$.\n",
    "- **Depth**: The length of the simple path from the root $r$ to a node $x$.\n",
    "- **Height**: The number of edges on the longest simple downward path from the node to a leaf. The height of a tree is the height of its root."
   ]
  },
  {
   "cell_type": "markdown",
   "metadata": {},
   "source": [
    "## Binary Search Tree"
   ]
  },
  {
   "cell_type": "markdown",
   "metadata": {},
   "source": [
    "### Implementation of Node"
   ]
  },
  {
   "cell_type": "code",
   "execution_count": 1,
   "metadata": {},
   "outputs": [
    {
     "data": {
      "text/plain": [
       "trees.binary_search_tree.BinarySearchTreeNode"
      ]
     },
     "execution_count": 1,
     "metadata": {},
     "output_type": "execute_result"
    }
   ],
   "source": [
    "package trees.binary_search_tree;\n",
    "\n",
    "public class BinarySearchTreeNode {\n",
    "\n",
    "    private int key;\n",
    "    private int value;\n",
    "    private BinarySearchTreeNode parent;\n",
    "    private BinarySearchTreeNode left;\n",
    "    private BinarySearchTreeNode right;\n",
    "\n",
    "    public BinarySearchTreeNode(int key, int value) {\n",
    "        this.key = key;\n",
    "        this.value = value;\n",
    "    }\n",
    "\n",
    "    public int getKey() {\n",
    "        return key;\n",
    "    }\n",
    "\n",
    "    public void setKey(int key) {\n",
    "        this.key = key;\n",
    "    }\n",
    "\n",
    "    public int getValue() {\n",
    "        return value;\n",
    "    }\n",
    "\n",
    "    public void setValue(int value) {\n",
    "        this.value = value;\n",
    "    }\n",
    "\n",
    "    public BinarySearchTreeNode getParent() {\n",
    "        return parent;\n",
    "    }\n",
    "\n",
    "    public void setParent(BinarySearchTreeNode parent) {\n",
    "        this.parent = parent;\n",
    "    }\n",
    "\n",
    "    public BinarySearchTreeNode getLeft() {\n",
    "        return left;\n",
    "    }\n",
    "\n",
    "    public void setLeft(BinarySearchTreeNode left) {\n",
    "        this.left = left;\n",
    "    }\n",
    "\n",
    "    public BinarySearchTreeNode getRight() {\n",
    "        return right;\n",
    "    }\n",
    "\n",
    "    public void setRight(BinarySearchTreeNode right) {\n",
    "        this.right = right;\n",
    "    }\n",
    "\n",
    "}"
   ]
  },
  {
   "cell_type": "markdown",
   "metadata": {},
   "source": [
    "### Implementation of Pre-Order Traversal"
   ]
  },
  {
   "cell_type": "code",
   "execution_count": 2,
   "metadata": {},
   "outputs": [
    {
     "data": {
      "text/plain": [
       "trees.binary_search_tree.PreOrderTraversal"
      ]
     },
     "execution_count": 2,
     "metadata": {},
     "output_type": "execute_result"
    }
   ],
   "source": [
    "package trees.binary_search_tree;\n",
    "\n",
    "import java.util.function.*;\n",
    "\n",
    "public interface PreOrderTraversal {\n",
    "    \n",
    "    public default void preOrderTraversal(BinarySearchTreeNode node, BiConsumer<Integer, Integer> action) {\n",
    "        if (node == null) {\n",
    "            return;\n",
    "        }\n",
    "        action.accept(node.getKey(), node.getValue());\n",
    "        preOrderTraversal(node.getLeft(), action);\n",
    "        preOrderTraversal(node.getRight(), action);\n",
    "    }\n",
    "    \n",
    "}"
   ]
  },
  {
   "cell_type": "markdown",
   "metadata": {},
   "source": [
    "### Implementation of In-Order Traversal"
   ]
  },
  {
   "cell_type": "code",
   "execution_count": 3,
   "metadata": {},
   "outputs": [
    {
     "data": {
      "text/plain": [
       "trees.binary_search_tree.InOrderTraversal"
      ]
     },
     "execution_count": 3,
     "metadata": {},
     "output_type": "execute_result"
    }
   ],
   "source": [
    "package trees.binary_search_tree;\n",
    "\n",
    "import java.util.function.*;\n",
    "\n",
    "public interface InOrderTraversal {\n",
    "    \n",
    "    public default void inOrderTraversal(BinarySearchTreeNode node, BiConsumer<Integer, Integer> action) {\n",
    "        if (node == null) {\n",
    "            return;\n",
    "        }\n",
    "        inOrderTraversal(node.getLeft(), action);\n",
    "        action.accept(node.getKey(), node.getValue());\n",
    "        inOrderTraversal(node.getRight(), action);\n",
    "    }\n",
    "    \n",
    "}"
   ]
  },
  {
   "cell_type": "markdown",
   "metadata": {},
   "source": [
    "### Implementation of Post-Order Traversal"
   ]
  },
  {
   "cell_type": "code",
   "execution_count": 4,
   "metadata": {},
   "outputs": [
    {
     "data": {
      "text/plain": [
       "trees.binary_search_tree.PostOrderTraversal"
      ]
     },
     "execution_count": 4,
     "metadata": {},
     "output_type": "execute_result"
    }
   ],
   "source": [
    "package trees.binary_search_tree;\n",
    "\n",
    "import java.util.function.*;\n",
    "\n",
    "public interface PostOrderTraversal {\n",
    "    \n",
    "    public default void postOrderTraversal(BinarySearchTreeNode node, BiConsumer<Integer, Integer> action) {\n",
    "        if (node == null) {\n",
    "            return;\n",
    "        }\n",
    "        postOrderTraversal(node.getLeft(), action);\n",
    "        postOrderTraversal(node.getRight(), action);\n",
    "        action.accept(node.getKey(), node.getValue());\n",
    "    }\n",
    "    \n",
    "}"
   ]
  },
  {
   "cell_type": "markdown",
   "metadata": {},
   "source": [
    "### Implementation of Morris Traversal (Threaded In-Order Traversal)"
   ]
  },
  {
   "cell_type": "code",
   "execution_count": 5,
   "metadata": {},
   "outputs": [
    {
     "data": {
      "text/plain": [
       "trees.binary_search_tree.ForwardMorrisTraversal"
      ]
     },
     "execution_count": 5,
     "metadata": {},
     "output_type": "execute_result"
    }
   ],
   "source": [
    "package trees.binary_search_tree;\n",
    "\n",
    "import java.util.function.*;\n",
    "\n",
    "public interface ForwardMorrisTraversal {\n",
    "    \n",
    "    public default void forwardMorrisTraversal(BinarySearchTreeNode node, BiConsumer<Integer, Integer> action) {\n",
    "        // Forward In-Order Traversal: Left, Visit, Right, Left,....\n",
    "        // Threading: Given a node, its predecessor's right child should thread to the node.\n",
    "        // Space: O(1) and No Parent References.\n",
    "        while (node != null) {\n",
    "            if (node.getLeft() == null) {\n",
    "                // Case 1: Iteratively Equivalent to Recursive Exhaustion of Left. \n",
    "                // Visit:\n",
    "                action.accept(node.getKey(), node.getValue());\n",
    "                // Right:\n",
    "                node = node.getRight();\n",
    "            } else {\n",
    "                // Case 2:\n",
    "                // A. Find Predecessor to Thread:\n",
    "                // Note 1: If the left child exists, then the predecessor is the maximum/rightmost leaf of the left subtree.\n",
    "                // Note 2: If the candidate predecessor's right child already points to the node, then we have already threaded.\n",
    "                BinarySearchTreeNode predecessorNode = node.getLeft();\n",
    "                while (predecessorNode.getRight() != null && predecessorNode.getRight() != node) {\n",
    "                    predecessorNode = predecessorNode.getRight();\n",
    "                }\n",
    "                // B. Thread Predecessor to Node:\n",
    "                if (predecessorNode.getRight() == null) {\n",
    "                    // Right:\n",
    "                    predecessorNode.setRight(node);\n",
    "                    // Left:\n",
    "                    node = node.getLeft();\n",
    "                }\n",
    "                // C. Consume Thread to Successor:\n",
    "                else {\n",
    "                    // Consume Thread:\n",
    "                    predecessorNode.setRight(null);\n",
    "                    // Visit:\n",
    "                    action.accept(node.getKey(), node.getValue());\n",
    "                    // Right:\n",
    "                    node = node.getRight();\n",
    "                }\n",
    "            }\n",
    "        }\n",
    "    }\n",
    "    \n",
    "}"
   ]
  },
  {
   "cell_type": "code",
   "execution_count": 6,
   "metadata": {},
   "outputs": [
    {
     "data": {
      "text/plain": [
       "trees.binary_search_tree.BackwardMorrisTraversal"
      ]
     },
     "execution_count": 6,
     "metadata": {},
     "output_type": "execute_result"
    }
   ],
   "source": [
    "package trees.binary_search_tree;\n",
    "\n",
    "import java.util.function.*;\n",
    "\n",
    "public interface BackwardMorrisTraversal {\n",
    "    \n",
    "    public default void backwardMorrisTraversal(BinarySearchTreeNode node, BiConsumer<Integer, Integer> action) {\n",
    "        // Backward In-Order Traversal: Right, Visit, Left, Right,....\n",
    "        // Threading: Given a node, its successor's left child should thread to the node.\n",
    "        // Space: O(1) and No Parent References.\n",
    "        while (node != null) {\n",
    "            if (node.getRight() == null) {\n",
    "                // Case 1: Iteratively Equivalent to Recursive Exhaustion of Right. \n",
    "                // Visit:\n",
    "                action.accept(node.getKey(), node.getValue());\n",
    "                // Left:\n",
    "                node = node.getLeft();\n",
    "            } else {\n",
    "                // Case 2:\n",
    "                // A. Find Successor to Thread:\n",
    "                // Note 1: If the right child exists, then the successor is the minimum/leftmost leaf of the right subtree.\n",
    "                // Note 2: If the candidate successor's left child already points to the node, then we have already threaded.\n",
    "                BinarySearchTreeNode successorNode = node.getRight();\n",
    "                while (successorNode.getLeft() != null && successorNode.getLeft() != node) {\n",
    "                    successorNode = successorNode.getLeft();\n",
    "                }\n",
    "                // B. Thread Predecessor to Node:\n",
    "                if (successorNode.getLeft() == null) {\n",
    "                    // Left:\n",
    "                    successorNode.setLeft(node);\n",
    "                    // Right:\n",
    "                    node = node.getRight();\n",
    "                }\n",
    "                // C. Consume Thread to Predecessor:\n",
    "                else {\n",
    "                    // Consume Thread:\n",
    "                    successorNode.setLeft(null);\n",
    "                    // Visit:\n",
    "                    action.accept(node.getKey(), node.getValue());\n",
    "                    // Left:\n",
    "                    node = node.getLeft();\n",
    "                }\n",
    "            }\n",
    "        }\n",
    "    }\n",
    "    \n",
    "}"
   ]
  },
  {
   "cell_type": "markdown",
   "metadata": {},
   "source": [
    "### Implementation of Search"
   ]
  },
  {
   "cell_type": "code",
   "execution_count": 7,
   "metadata": {},
   "outputs": [
    {
     "data": {
      "text/plain": [
       "trees.binary_search_tree.Search"
      ]
     },
     "execution_count": 7,
     "metadata": {},
     "output_type": "execute_result"
    }
   ],
   "source": [
    "package trees.binary_search_tree;\n",
    "\n",
    "import java.util.*;\n",
    "\n",
    "public interface Search {\n",
    "    \n",
    "    public default BinarySearchTreeNode searchNode(BinarySearchTreeNode node, int key) {\n",
    "        if (node == null) {\n",
    "            throw new NoSuchElementException();\n",
    "        }\n",
    "        if (key == node.getKey()) {\n",
    "            return node;\n",
    "        }\n",
    "        if (key < node.getKey()) {\n",
    "            return searchNode(node.getLeft(), key);\n",
    "        } else {\n",
    "            return searchNode(node.getRight(), key);\n",
    "        }\n",
    "    }\n",
    "    \n",
    "}"
   ]
  },
  {
   "cell_type": "markdown",
   "metadata": {},
   "source": [
    "### Implementation of Minimum"
   ]
  },
  {
   "cell_type": "code",
   "execution_count": 8,
   "metadata": {},
   "outputs": [
    {
     "data": {
      "text/plain": [
       "trees.binary_search_tree.Minimum"
      ]
     },
     "execution_count": 8,
     "metadata": {},
     "output_type": "execute_result"
    }
   ],
   "source": [
    "package trees.binary_search_tree;\n",
    "\n",
    "import java.util.*;\n",
    "\n",
    "public interface Minimum {\n",
    "    \n",
    "    public default BinarySearchTreeNode minimumNode(BinarySearchTreeNode node) {\n",
    "        if (node == null) {\n",
    "            throw new NoSuchElementException();\n",
    "        }\n",
    "        while (node.getLeft() != null) {\n",
    "            node = node.getLeft();\n",
    "        }\n",
    "        return node;\n",
    "    }\n",
    "    \n",
    "}"
   ]
  },
  {
   "cell_type": "markdown",
   "metadata": {},
   "source": [
    "### Implementation of Maximum"
   ]
  },
  {
   "cell_type": "code",
   "execution_count": 9,
   "metadata": {},
   "outputs": [
    {
     "data": {
      "text/plain": [
       "trees.binary_search_tree.Maximum"
      ]
     },
     "execution_count": 9,
     "metadata": {},
     "output_type": "execute_result"
    }
   ],
   "source": [
    "package trees.binary_search_tree;\n",
    "\n",
    "import java.util.*;\n",
    "\n",
    "public interface Maximum {\n",
    "    \n",
    "    public default BinarySearchTreeNode maximumNode(BinarySearchTreeNode node) {\n",
    "        if (node == null) {\n",
    "            throw new NoSuchElementException();\n",
    "        }\n",
    "        while (node.getRight() != null) {\n",
    "            node = node.getRight();\n",
    "        }\n",
    "        return node;\n",
    "    }\n",
    "    \n",
    "}"
   ]
  },
  {
   "cell_type": "markdown",
   "metadata": {},
   "source": [
    "### Implementation of Successor"
   ]
  },
  {
   "cell_type": "code",
   "execution_count": 10,
   "metadata": {},
   "outputs": [
    {
     "data": {
      "text/plain": [
       "trees.binary_search_tree.Successor"
      ]
     },
     "execution_count": 10,
     "metadata": {},
     "output_type": "execute_result"
    }
   ],
   "source": [
    "package trees.binary_search_tree;\n",
    "\n",
    "import java.util.*;\n",
    "\n",
    "public interface Successor extends Minimum {\n",
    "    \n",
    "    public default BinarySearchTreeNode successorNode(BinarySearchTreeNode node) {\n",
    "        if (node == null) {\n",
    "            throw new NoSuchElementException();\n",
    "        }\n",
    "        if (node.getRight() != null) {\n",
    "            return minimumNode(node.getRight());\n",
    "        }\n",
    "        BinarySearchTreeNode parentNode = node.getParent();\n",
    "        BinarySearchTreeNode currentNode = node;\n",
    "        while (parentNode != null && currentNode == parentNode.getRight()) {\n",
    "            currentNode = parentNode;\n",
    "            parentNode = parentNode.getParent();\n",
    "        }\n",
    "        return parentNode;\n",
    "    }\n",
    "    \n",
    "}"
   ]
  },
  {
   "cell_type": "markdown",
   "metadata": {},
   "source": [
    "### Implementation of Predecessor"
   ]
  },
  {
   "cell_type": "code",
   "execution_count": 11,
   "metadata": {},
   "outputs": [
    {
     "data": {
      "text/plain": [
       "trees.binary_search_tree.Predecessor"
      ]
     },
     "execution_count": 11,
     "metadata": {},
     "output_type": "execute_result"
    }
   ],
   "source": [
    "package trees.binary_search_tree;\n",
    "\n",
    "import java.util.*;\n",
    "\n",
    "public interface Predecessor extends Maximum {\n",
    "    \n",
    "    public default BinarySearchTreeNode predecessorNode(BinarySearchTreeNode node) {\n",
    "        if (node == null) {\n",
    "            throw new NoSuchElementException();\n",
    "        }\n",
    "        if (node.getLeft() != null) {\n",
    "            return maximumNode(node.getLeft());\n",
    "        }\n",
    "        BinarySearchTreeNode parentNode = node.getParent();\n",
    "        BinarySearchTreeNode currentNode = node;\n",
    "        while (parentNode != null && currentNode == parentNode.getLeft()) {\n",
    "            currentNode = parentNode;\n",
    "            parentNode = parentNode.getParent();\n",
    "        }\n",
    "        return parentNode;\n",
    "    }\n",
    "    \n",
    "}"
   ]
  },
  {
   "cell_type": "markdown",
   "metadata": {},
   "source": [
    "### Implementation of Insert"
   ]
  },
  {
   "cell_type": "code",
   "execution_count": 12,
   "metadata": {},
   "outputs": [
    {
     "data": {
      "text/plain": [
       "trees.binary_search_tree.Insert"
      ]
     },
     "execution_count": 12,
     "metadata": {},
     "output_type": "execute_result"
    }
   ],
   "source": [
    "package trees.binary_search_tree;\n",
    "\n",
    "import java.util.*;\n",
    "\n",
    "public interface Insert {\n",
    "    \n",
    "    public default BinarySearchTreeNode insertNode(BinarySearchTreeNode rootNode, int key, int value) {\n",
    "        if (rootNode == null) {\n",
    "            return new BinarySearchTreeNode(key, value);\n",
    "        }\n",
    "        if (key < rootNode.getKey()) {\n",
    "            rootNode.setLeft(insertNode(rootNode.getLeft(), key, value));\n",
    "            rootNode.getLeft().setParent(rootNode);\n",
    "        } else {\n",
    "            rootNode.setRight(insertNode(rootNode.getRight(), key, value));\n",
    "            rootNode.getRight().setParent(rootNode);\n",
    "        }\n",
    "        return rootNode;\n",
    "    }\n",
    "    \n",
    "}"
   ]
  },
  {
   "cell_type": "markdown",
   "metadata": {},
   "source": [
    "### Implementation of Delete"
   ]
  },
  {
   "cell_type": "code",
   "execution_count": 13,
   "metadata": {},
   "outputs": [
    {
     "data": {
      "text/plain": [
       "trees.binary_search_tree.Delete"
      ]
     },
     "execution_count": 13,
     "metadata": {},
     "output_type": "execute_result"
    }
   ],
   "source": [
    "package trees.binary_search_tree;\n",
    "\n",
    "import java.util.*;\n",
    "\n",
    "public interface Delete extends Minimum {\n",
    "    \n",
    "    public default BinarySearchTreeNode deleteNode(BinarySearchTreeNode rootNode, int key) {\n",
    "        if (rootNode == null) {\n",
    "            throw new NoSuchElementException();\n",
    "        }\n",
    "        if (key < rootNode.getKey()) {\n",
    "            rootNode.setLeft(deleteNode(rootNode.getLeft(), key));\n",
    "            if (rootNode.getLeft() != null) {\n",
    "                rootNode.getLeft().setParent(rootNode);\n",
    "            }\n",
    "            return rootNode;\n",
    "        } else if (key > rootNode.getKey()) {\n",
    "            rootNode.setRight(deleteNode(rootNode.getRight(), key));\n",
    "            if (rootNode.getRight() != null) {\n",
    "                rootNode.getRight().setParent(rootNode);\n",
    "            }\n",
    "            return rootNode;\n",
    "        } else {\n",
    "            if (rootNode.getLeft() == null && rootNode.getRight() == null) {\n",
    "                // Case 1: No Children / Leaf Node => Delete Self.\n",
    "                return null;\n",
    "            } else if (rootNode.getLeft() == null) {\n",
    "                // Case 2a: One Right Child => Replace Self with Right Child.\n",
    "                return rootNode.getRight();\n",
    "            } else if (rootNode.getRight() == null) {\n",
    "                // Case 2b: One Left Child => Replace Self with Left Child.\n",
    "                return rootNode.getLeft();\n",
    "            } else {\n",
    "                // Case 3: Two Children => Replace Self with Successor.\n",
    "                final BinarySearchTreeNode successorNode = minimumNode(rootNode.getRight());\n",
    "                rootNode.setKey(successorNode.getKey());\n",
    "                rootNode.setValue(successorNode.getValue());\n",
    "                rootNode.setRight(deleteNode(rootNode.getRight(), rootNode.getKey()));\n",
    "                if (rootNode.getRight() != null) {\n",
    "                    rootNode.getRight().setParent(rootNode);\n",
    "                }\n",
    "                return rootNode;\n",
    "            }\n",
    "        }\n",
    "    }\n",
    "    \n",
    "}"
   ]
  },
  {
   "cell_type": "markdown",
   "metadata": {},
   "source": [
    "### Implementation of Merge Disjoint"
   ]
  },
  {
   "cell_type": "code",
   "execution_count": 14,
   "metadata": {},
   "outputs": [
    {
     "data": {
      "text/plain": [
       "trees.binary_search_tree.MergeDisjoint"
      ]
     },
     "execution_count": 14,
     "metadata": {},
     "output_type": "execute_result"
    }
   ],
   "source": [
    "package trees.binary_search_tree;\n",
    "\n",
    "import java.util.*;\n",
    "\n",
    "public interface MergeDisjoint extends Minimum, Maximum, Delete {\n",
    "    \n",
    "    public default BinarySearchTreeNode mergeDisjointNodes(BinarySearchTreeNode leftNode, BinarySearchTreeNode rightNode) {\n",
    "        if (leftNode == null && rightNode == null) {\n",
    "            return null;\n",
    "        } else if (leftNode == null) {\n",
    "            return rightNode;\n",
    "        } else if (rightNode == null) {\n",
    "            return leftNode;\n",
    "        } else {\n",
    "            // Assert Left <<< Right\n",
    "            final BinarySearchTreeNode leftMaximum = maximumNode(leftNode);\n",
    "            final BinarySearchTreeNode rightMinimum = minimumNode(rightNode);\n",
    "            if (leftMaximum.getKey() > rightMinimum.getKey()) {\n",
    "                throw new IllegalStateException();\n",
    "            }\n",
    "            deleteNode(leftNode, leftMaximum.getKey());\n",
    "            final BinarySearchTreeNode rootNode = new BinarySearchTreeNode(leftMaximum.getKey(), leftMaximum.getValue());\n",
    "            rootNode.setLeft(leftNode);\n",
    "            rootNode.setRight(rightNode);\n",
    "            return rootNode;\n",
    "        }\n",
    "    }\n",
    "    \n",
    "}"
   ]
  },
  {
   "cell_type": "markdown",
   "metadata": {},
   "source": [
    "### Implementation of Binary Search Tree"
   ]
  },
  {
   "cell_type": "code",
   "execution_count": 15,
   "metadata": {},
   "outputs": [
    {
     "data": {
      "text/plain": [
       "trees.binary_search_tree.BinarySearchTree"
      ]
     },
     "execution_count": 15,
     "metadata": {},
     "output_type": "execute_result"
    }
   ],
   "source": [
    "package trees.binary_search_tree;\n",
    "\n",
    "import java.util.*;\n",
    "import java.util.function.*;\n",
    "\n",
    "public class BinarySearchTree implements \n",
    "    PreOrderTraversal, \n",
    "    InOrderTraversal, \n",
    "    PostOrderTraversal, \n",
    "    ForwardMorrisTraversal, \n",
    "    BackwardMorrisTraversal, \n",
    "    Search, \n",
    "    Minimum, \n",
    "    Maximum, \n",
    "    Successor, \n",
    "    Predecessor, \n",
    "    Insert, \n",
    "    Delete,\n",
    "    MergeDisjoint {\n",
    "\n",
    "    private BinarySearchTreeNode root;\n",
    "\n",
    "    public BinarySearchTree() { }\n",
    "\n",
    "    public void preOrderTraversal(BiConsumer<Integer, Integer> action) {\n",
    "        preOrderTraversal(root, action);\n",
    "    }\n",
    "\n",
    "    public void inOrderTraversal(BiConsumer<Integer, Integer> action) {\n",
    "        inOrderTraversal(root, action);\n",
    "    }\n",
    "\n",
    "    public void postOrderTraversal(BiConsumer<Integer, Integer> action) {\n",
    "        postOrderTraversal(root, action);\n",
    "    }\n",
    "\n",
    "    public void forwardMorrisTraversal(BiConsumer<Integer, Integer> action) {\n",
    "        forwardMorrisTraversal(root, action);\n",
    "    }\n",
    "\n",
    "    public void backwardMorrisTraversal(BiConsumer<Integer, Integer> action) {\n",
    "        backwardMorrisTraversal(root, action);\n",
    "    }\n",
    "\n",
    "    public int searchValue(int key) {\n",
    "        return searchNode(root, key).getValue();\n",
    "    }\n",
    "\n",
    "    public int minimumValue() {\n",
    "        return minimumNode(root).getValue();\n",
    "    }\n",
    "\n",
    "    public int maximumValue() {\n",
    "        return maximumNode(root).getValue();\n",
    "    }\n",
    "\n",
    "    public int successorKey(int key) {\n",
    "        final BinarySearchTreeNode resultNode = successorNode(searchNode(root, key));\n",
    "        if (resultNode == null) {\n",
    "            throw new NoSuchElementException();\n",
    "        }\n",
    "        return resultNode.getKey();\n",
    "    }\n",
    "\n",
    "    public int predecessorKey(int key) {\n",
    "        final BinarySearchTreeNode resultNode = predecessorNode(searchNode(root, key));\n",
    "        if (resultNode == null) {\n",
    "            throw new NoSuchElementException();\n",
    "        }\n",
    "        return resultNode.getKey();\n",
    "    }\n",
    "\n",
    "    public void insert(int key, int value) {\n",
    "        root = insertNode(root, key, value);\n",
    "    }\n",
    "\n",
    "    public void delete(int key) {\n",
    "        deleteNode(root, key);\n",
    "    }\n",
    "\n",
    "}"
   ]
  },
  {
   "cell_type": "code",
   "execution_count": 16,
   "metadata": {},
   "outputs": [
    {
     "name": "stdout",
     "output_type": "stream",
     "text": [
      "Pre-Order Traversal: 50,30,20,40,70,60,80,Nil\n",
      "In-Order Traversal: 20,30,40,50,60,70,80,Nil\n",
      "Post-Order Traversal: 20,40,30,60,80,70,50,Nil\n",
      "Forward Morris Traversal: 20,30,40,50,60,70,80,Nil\n",
      "Backward Morris Traversal: 80,70,60,50,40,30,20,Nil\n",
      "Search Value 40: 40\n",
      "Minimum Value: 20\n",
      "Maximum Value: 80\n",
      "Successor Key 40: 50\n",
      "Predecessor Key 40: 30\n",
      "Delete Key 20: 50,30,40,70,60,80,Nil\n",
      "Delete Key 30: 50,40,70,60,80,Nil\n",
      "Delete Key 50: 60,40,70,80,Nil\n"
     ]
    },
    {
     "data": {
      "text/plain": [
       "null"
      ]
     },
     "execution_count": 16,
     "metadata": {},
     "output_type": "execute_result"
    }
   ],
   "source": [
    "package trees.binary_search_tree;\n",
    "\n",
    "BinarySearchTree tree = new BinarySearchTree();\n",
    "\n",
    "tree.insert(50, 50);\n",
    "tree.insert(30, 30);\n",
    "tree.insert(20, 20);\n",
    "tree.insert(40, 40);\n",
    "tree.insert(70, 70);\n",
    "tree.insert(60, 60);\n",
    "tree.insert(80, 80);\n",
    "\n",
    "System.out.print(\"Pre-Order Traversal: \");\n",
    "tree.preOrderTraversal((k,v) -> System.out.print(String.format(\"%d,\", k)));\n",
    "System.out.println(\"Nil\");\n",
    "\n",
    "System.out.print(\"In-Order Traversal: \");\n",
    "tree.inOrderTraversal((k,v) -> System.out.print(String.format(\"%d,\", k)));\n",
    "System.out.println(\"Nil\");\n",
    "\n",
    "System.out.print(\"Post-Order Traversal: \");\n",
    "tree.postOrderTraversal((k,v) -> System.out.print(String.format(\"%d,\", k)));\n",
    "System.out.println(\"Nil\");\n",
    "\n",
    "System.out.print(\"Forward Morris Traversal: \");\n",
    "tree.forwardMorrisTraversal((k,v) -> System.out.print(String.format(\"%d,\", k)));\n",
    "System.out.println(\"Nil\");\n",
    "\n",
    "System.out.print(\"Backward Morris Traversal: \");\n",
    "tree.backwardMorrisTraversal((k,v) -> System.out.print(String.format(\"%d,\", k)));\n",
    "System.out.println(\"Nil\");\n",
    "\n",
    "System.out.println(String.format(\"Search Value 40: %d\", tree.searchValue(40)));\n",
    "\n",
    "System.out.println(String.format(\"Minimum Value: %d\", tree.minimumValue()));\n",
    "\n",
    "System.out.println(String.format(\"Maximum Value: %d\", tree.maximumValue()));\n",
    "\n",
    "System.out.println(String.format(\"Successor Key 40: %d\", tree.successorKey(40)));\n",
    "\n",
    "System.out.println(String.format(\"Predecessor Key 40: %d\", tree.predecessorKey(40)));\n",
    "\n",
    "System.out.print(\"Delete Key 20: \");\n",
    "tree.delete(20);\n",
    "tree.preOrderTraversal((k,v) -> System.out.print(String.format(\"%d,\", k)));\n",
    "System.out.println(\"Nil\");\n",
    "\n",
    "System.out.print(\"Delete Key 30: \");\n",
    "tree.delete(30);\n",
    "tree.preOrderTraversal((k,v) -> System.out.print(String.format(\"%d,\", k)));\n",
    "System.out.println(\"Nil\");\n",
    "\n",
    "System.out.print(\"Delete Key 50: \");\n",
    "tree.delete(50);\n",
    "tree.preOrderTraversal((k,v) -> System.out.print(String.format(\"%d,\", k)));\n",
    "System.out.println(\"Nil\");"
   ]
  },
  {
   "cell_type": "markdown",
   "metadata": {},
   "source": [
    "## Fenwick Tree (Cumulative Queries)\n",
    "[See Link](https://en.wikipedia.org/wiki/Fenwick_tree)."
   ]
  },
  {
   "cell_type": "markdown",
   "metadata": {},
   "source": [
    "- A Fenwick Tree (or a Binary Indexed Tree) is used to answer cumulative queries about a data set.\n",
    "- In a Fenwick Tree, each position is responsible for storing the cumulative summary of `Integer.lowestOneBit(position)` number of previous positions. \n",
    "\n",
    "**It is represented by a 1-indexed array.**"
   ]
  },
  {
   "cell_type": "code",
   "execution_count": 17,
   "metadata": {},
   "outputs": [
    {
     "data": {
      "text/plain": [
       "trees.fenwick_tree.FenwickTree"
      ]
     },
     "execution_count": 17,
     "metadata": {},
     "output_type": "execute_result"
    }
   ],
   "source": [
    "package trees.fenwick_tree;\n",
    "\n",
    "import java.util.*;\n",
    "\n",
    "public class FenwickTree {\n",
    "\n",
    "    private final int[] array;\n",
    "\n",
    "    public FenwickTree(int size) {\n",
    "        this.array = new int[size + 1];\n",
    "    }\n",
    "\n",
    "    public void add(int position, int value) {\n",
    "        if (position < 1) {\n",
    "            throw new IllegalArgumentException(\"position must start from 1\");\n",
    "        }\n",
    "        while (position < array.length) {\n",
    "            array[position] += value;\n",
    "            position += Integer.lowestOneBit(position);\n",
    "        }\n",
    "    }\n",
    "\n",
    "    public int sum(int position) {\n",
    "        if (position < 1) {\n",
    "            throw new IllegalArgumentException(\"position must start from 1\");\n",
    "        }\n",
    "        int sum = 0;\n",
    "        while (position > 0) {\n",
    "            sum += array[position];\n",
    "            position -= Integer.lowestOneBit(position);\n",
    "        }\n",
    "        return sum;\n",
    "    }\n",
    "\n",
    "}"
   ]
  },
  {
   "cell_type": "code",
   "execution_count": 18,
   "metadata": {},
   "outputs": [
    {
     "name": "stdout",
     "output_type": "stream",
     "text": [
      "Sum to Position 1: 1\n",
      "Sum to Position 2: 3\n",
      "Sum to Position 3: 6\n",
      "Sum to Position 4: 10\n",
      "Sum to Position 5: 15\n",
      "Sum to Position 6: 21\n",
      "Sum to Position 7: 28\n",
      "Sum to Position 8: 36\n"
     ]
    },
    {
     "data": {
      "text/plain": [
       "null"
      ]
     },
     "execution_count": 18,
     "metadata": {},
     "output_type": "execute_result"
    }
   ],
   "source": [
    "package trees.fenwick_tree;\n",
    "\n",
    "int[] array = new int[] {1, 2, 3, 4, 5, 6, 7, 8};\n",
    "\n",
    "FenwickTree tree = new FenwickTree(array.length);\n",
    "\n",
    "for (int position = 1; position <= array.length; position++) {\n",
    "    tree.add(position, array[position - 1]);\n",
    "}\n",
    "\n",
    "System.out.println(String.format(\"Sum to Position 1: %d\", tree.sum(1)));\n",
    "System.out.println(String.format(\"Sum to Position 2: %d\", tree.sum(2)));\n",
    "System.out.println(String.format(\"Sum to Position 3: %d\", tree.sum(3)));\n",
    "System.out.println(String.format(\"Sum to Position 4: %d\", tree.sum(4)));\n",
    "System.out.println(String.format(\"Sum to Position 5: %d\", tree.sum(5)));\n",
    "System.out.println(String.format(\"Sum to Position 6: %d\", tree.sum(6)));\n",
    "System.out.println(String.format(\"Sum to Position 7: %d\", tree.sum(7)));\n",
    "System.out.println(String.format(\"Sum to Position 8: %d\", tree.sum(8)));"
   ]
  },
  {
   "cell_type": "markdown",
   "metadata": {},
   "source": [
    "## Segment Tree (Range Queries)\n",
    "[See Link](https://en.wikipedia.org/wiki/Segment_tree)."
   ]
  },
  {
   "cell_type": "markdown",
   "metadata": {},
   "source": [
    "- A Segment Tree is used to answer range queries about a data set.\n",
    "- A Segment Tree is structured like a binary heap such that parent nodes store the cummulative summary of their children.\n",
    "- The leaves are the original values. Thus, an array of size $2n$ is sufficient to construct a Segment Tree. In this construction, index 1 represents the root while indices $n$ to $2n-1$ represent the original values.\n",
    "\n",
    "**It is represented by a 0-indexed array.**"
   ]
  },
  {
   "cell_type": "code",
   "execution_count": 19,
   "metadata": {},
   "outputs": [
    {
     "data": {
      "text/plain": [
       "trees.segment_tree.SegmentTree"
      ]
     },
     "execution_count": 19,
     "metadata": {},
     "output_type": "execute_result"
    }
   ],
   "source": [
    "package trees.segment_tree;\n",
    "\n",
    "import java.util.*;\n",
    "\n",
    "public class SegmentTree {\n",
    "\n",
    "    private final int[] array;\n",
    "    private final int size;\n",
    "\n",
    "    public SegmentTree(int size) {\n",
    "        this.array = new int[2 * size];\n",
    "        this.size = size;\n",
    "    }\n",
    "\n",
    "    public void add(int position, int value) {\n",
    "        final int leafPosition = position + size;\n",
    "        array[leafPosition] += value;\n",
    "        for (int parentPosition = leafPosition / 2; parentPosition >= 1; parentPosition /= 2) {\n",
    "            final int leftChildPosition = 2 * parentPosition;\n",
    "            final int rightChildPosition = 2 * parentPosition + 1;\n",
    "            array[parentPosition] = array[leftChildPosition] + array[rightChildPosition];\n",
    "        }\n",
    "    }\n",
    "\n",
    "    public int sum(int fromPosition, int toPosition) {\n",
    "        int fromLeafPosition = fromPosition + size;\n",
    "        int toLeafPosition = toPosition + size;\n",
    "        int sum = 0;\n",
    "        while (fromLeafPosition <= toLeafPosition) {\n",
    "            if (fromLeafPosition % 2 == 1) {\n",
    "                sum += array[fromLeafPosition++];\n",
    "            }\n",
    "            if (toLeafPosition % 2 == 0) {\n",
    "                sum += array[toLeafPosition--];\n",
    "            }\n",
    "            fromLeafPosition /= 2;\n",
    "            toLeafPosition /= 2;\n",
    "        }\n",
    "        return sum;\n",
    "    }\n",
    "\n",
    "}"
   ]
  },
  {
   "cell_type": "code",
   "execution_count": 20,
   "metadata": {},
   "outputs": [
    {
     "name": "stdout",
     "output_type": "stream",
     "text": [
      "Sum from Position 0 to Position 0: 1\n",
      "Sum from Position 0 to Position 3: 10\n",
      "Sum from Position 4 to Position 7: 26\n",
      "Sum from Position 0 to Position 7: 36\n"
     ]
    },
    {
     "data": {
      "text/plain": [
       "null"
      ]
     },
     "execution_count": 20,
     "metadata": {},
     "output_type": "execute_result"
    }
   ],
   "source": [
    "package trees.segment_tree;\n",
    "\n",
    "int[] array = new int[] {1, 2, 3, 4, 5, 6, 7, 8};\n",
    "\n",
    "SegmentTree tree = new SegmentTree(array.length);\n",
    "\n",
    "for (int position = 0; position < array.length; position++) {\n",
    "    tree.add(position, array[position]);\n",
    "}\n",
    "\n",
    "System.out.println(String.format(\"Sum from Position 0 to Position 0: %d\", tree.sum(0, 0)));\n",
    "System.out.println(String.format(\"Sum from Position 0 to Position 3: %d\", tree.sum(0, 3)));\n",
    "System.out.println(String.format(\"Sum from Position 4 to Position 7: %d\", tree.sum(4, 7)));\n",
    "System.out.println(String.format(\"Sum from Position 0 to Position 7: %d\", tree.sum(0, 7)));"
   ]
  },
  {
   "cell_type": "markdown",
   "metadata": {},
   "source": [
    "## Tournament Tree (Merge Heap) ($O(n\\log(k))$)\n",
    "[See Link](https://www.tutorialspoint.com/tournament-trees-winner-trees-and-loser-trees-in-data-structure)."
   ]
  },
  {
   "cell_type": "markdown",
   "metadata": {},
   "source": [
    "- A Tournament Tree is used to merge a set of sorted iterators into a single sorted iterator.\n",
    "- A Winner Tree is structured like a binary heap such that parent nodes store the lesser key of their children.\n",
    "- The leaves are the heads of each sorted iterator."
   ]
  },
  {
   "cell_type": "code",
   "execution_count": 21,
   "metadata": {},
   "outputs": [
    {
     "data": {
      "text/plain": [
       "trees.tournament.WinnerTree"
      ]
     },
     "execution_count": 21,
     "metadata": {},
     "output_type": "execute_result"
    }
   ],
   "source": [
    "package trees.tournament;\n",
    "\n",
    "import java.util.*;\n",
    "\n",
    "public class WinnerTree implements Iterator<Integer> {\n",
    "\n",
    "    private final PriorityQueue<Leaf> winnerTree;\n",
    "\n",
    "    public WinnerTree(List<Iterator<Integer>> iterators) {\n",
    "        this.winnerTree = new PriorityQueue<>();\n",
    "        for (Iterator<Integer> iterator : iterators) {\n",
    "            final Leaf leaf = new Leaf(iterator);\n",
    "            if (leaf.isEmpty()) {\n",
    "                continue;\n",
    "            }\n",
    "            this.winnerTree.offer(leaf);\n",
    "        }\n",
    "    }\n",
    "\n",
    "    @Override\n",
    "    public boolean hasNext() {\n",
    "        return !winnerTree.isEmpty();\n",
    "    }\n",
    "\n",
    "    @Override\n",
    "    public Integer next() {\n",
    "        if (winnerTree.isEmpty()) {\n",
    "            throw new NoSuchElementException();\n",
    "        }\n",
    "        final Leaf winnerLeaf = winnerTree.poll();\n",
    "        final int winnerValue = winnerLeaf.poll();\n",
    "        if (!winnerLeaf.isEmpty()) {\n",
    "            winnerTree.offer(winnerLeaf);\n",
    "        }\n",
    "        return winnerValue;\n",
    "    }\n",
    "\n",
    "    private static class Leaf implements Comparable<Leaf> {\n",
    "\n",
    "        private final Iterator<Integer> iterator;\n",
    "        private Integer head;\n",
    "\n",
    "        public Leaf(Iterator<Integer> iterator) {\n",
    "            this.iterator = iterator;\n",
    "            this.head = iterator.hasNext() ? iterator.next() : null;\n",
    "        }\n",
    "\n",
    "        public Integer peek() {\n",
    "            if (head == null) {\n",
    "                throw new NoSuchElementException();\n",
    "            }\n",
    "            return head;\n",
    "        }\n",
    "\n",
    "        public Integer poll() {\n",
    "            final Integer currentHead = head;\n",
    "            head = iterator.hasNext() ? iterator.next() : null;\n",
    "            return currentHead;\n",
    "        }\n",
    "\n",
    "        public boolean isEmpty() {\n",
    "            return head == null;\n",
    "        }\n",
    "\n",
    "        @Override\n",
    "        public int compareTo(Leaf that) {\n",
    "            return Integer.compare(this.peek(), that.peek());\n",
    "        }\n",
    "\n",
    "    }\n",
    "\n",
    "}"
   ]
  },
  {
   "cell_type": "code",
   "execution_count": 22,
   "metadata": {},
   "outputs": [
    {
     "name": "stdout",
     "output_type": "stream",
     "text": [
      "1,2,3,4,5,6,7,8,9,10,Nil\n"
     ]
    },
    {
     "data": {
      "text/plain": [
       "null"
      ]
     },
     "execution_count": 22,
     "metadata": {},
     "output_type": "execute_result"
    }
   ],
   "source": [
    "package trees.tournament;\n",
    "\n",
    "import java.util.*;\n",
    "\n",
    "WinnerTree winnerTree = new WinnerTree(Arrays.asList(\n",
    "    Arrays.asList(2, 5, 7, 9, 10).iterator(),\n",
    "    Arrays.asList(1, 3, 4).iterator(),\n",
    "    Arrays.asList(6, 8).iterator()\n",
    "));\n",
    "\n",
    "winnerTree.forEachRemaining(k -> System.out.print(String.format(\"%d,\", k)));\n",
    "System.out.println(\"Nil\");"
   ]
  },
  {
   "cell_type": "markdown",
   "metadata": {},
   "source": [
    "## Trie (String Queries)\n",
    "[See Link](https://en.wikipedia.org/wiki/Trie)."
   ]
  },
  {
   "cell_type": "markdown",
   "metadata": {},
   "source": [
    "- A Trie (or a Prefix Tree) is a rooted tree that maintains a set of strings.\n",
    "- Each string is stored as a character chain that starts at the root node.\n",
    "- If two strings have a common prefix, they also have a common chain in the tree."
   ]
  },
  {
   "cell_type": "code",
   "execution_count": 23,
   "metadata": {},
   "outputs": [
    {
     "data": {
      "text/plain": [
       "trees.trie.Trie"
      ]
     },
     "execution_count": 23,
     "metadata": {},
     "output_type": "execute_result"
    }
   ],
   "source": [
    "package trees.trie;\n",
    "\n",
    "import java.util.*;\n",
    "\n",
    "public class Trie {\n",
    "\n",
    "    private static class TrieNode {\n",
    "\n",
    "        private final HashMap<Character, TrieNode> children;\n",
    "        private boolean isString;\n",
    "\n",
    "        public TrieNode() {\n",
    "            this.children = new HashMap<>();\n",
    "        }\n",
    "\n",
    "    }\n",
    "\n",
    "    private final TrieNode root;\n",
    "\n",
    "    public Trie() {\n",
    "        this.root = new TrieNode();\n",
    "    }\n",
    "\n",
    "    public void insert(String word) {\n",
    "        HashMap<Character, TrieNode> children = root.children;\n",
    "        for (int index = 0; index < word.length(); index++) {\n",
    "            final char currentCharacter = word.charAt(index);\n",
    "            if (!children.containsKey(currentCharacter)) {\n",
    "                children.put(currentCharacter, new TrieNode());\n",
    "            }\n",
    "\n",
    "            final TrieNode currentNode = children.get(currentCharacter);\n",
    "            if (index == word.length() - 1) {\n",
    "                currentNode.isString = true;\n",
    "            }\n",
    "\n",
    "            children = currentNode.children;\n",
    "        }\n",
    "    }\n",
    "\n",
    "    public boolean search(String word) {\n",
    "        HashMap<Character, TrieNode> children = root.children;\n",
    "        for (int index = 0; index < word.length(); index++) {\n",
    "            final char currentCharacter = word.charAt(index);\n",
    "            if (!children.containsKey(currentCharacter)) {\n",
    "                break;\n",
    "            }\n",
    "\n",
    "            final TrieNode currentNode = children.get(currentCharacter);\n",
    "            if (index == word.length() - 1) {\n",
    "                return currentNode.isString;\n",
    "            }\n",
    "\n",
    "            children = currentNode.children;\n",
    "        }\n",
    "        return false;\n",
    "    }\n",
    "\n",
    "    public boolean startsWith(String prefix) {\n",
    "        HashMap<Character, TrieNode> children = root.children;\n",
    "        for (int index = 0; index < prefix.length(); index++) {\n",
    "            final char currentCharacter = prefix.charAt(index);\n",
    "            if (!children.containsKey(currentCharacter)) {\n",
    "                break;\n",
    "            }\n",
    "            \n",
    "            final TrieNode currentNode = children.get(currentCharacter);\n",
    "            if (index == prefix.length() - 1) {\n",
    "                return true;\n",
    "            }\n",
    "\n",
    "            children = currentNode.children;\n",
    "        }\n",
    "        return false;\n",
    "    }\n",
    "\n",
    "}"
   ]
  },
  {
   "cell_type": "code",
   "execution_count": 24,
   "metadata": {},
   "outputs": [
    {
     "name": "stdout",
     "output_type": "stream",
     "text": [
      "Search(CANAL): true\n",
      "Search(CANDY): true\n",
      "Search(CANON): false\n",
      "StartsWith(CAN): true\n"
     ]
    },
    {
     "data": {
      "text/plain": [
       "null"
      ]
     },
     "execution_count": 24,
     "metadata": {},
     "output_type": "execute_result"
    }
   ],
   "source": [
    "package trees.trie;\n",
    "\n",
    "Trie trie = new Trie();\n",
    "\n",
    "trie.insert(\"CANAL\");\n",
    "trie.insert(\"CANDY\");\n",
    "\n",
    "System.out.println(String.format(\"Search(CANAL): %b\", trie.search(\"CANAL\")));\n",
    "System.out.println(String.format(\"Search(CANDY): %b\", trie.search(\"CANDY\")));\n",
    "System.out.println(String.format(\"Search(CANON): %b\", trie.search(\"CANON\")));\n",
    "System.out.println(String.format(\"StartsWith(CAN): %b\", trie.startsWith(\"CAN\")));"
   ]
  }
 ],
 "metadata": {
  "kernelspec": {
   "display_name": "Java",
   "language": "java",
   "name": "java"
  },
  "language_info": {
   "codemirror_mode": "text/x-java",
   "file_extension": ".java",
   "mimetype": "",
   "name": "Java",
   "nbconverter_exporter": "",
   "version": "1.8.0_121"
  },
  "toc": {
   "base_numbering": 1,
   "nav_menu": {},
   "number_sections": false,
   "sideBar": false,
   "skip_h1_title": false,
   "title_cell": "Table of Contents",
   "title_sidebar": "Contents",
   "toc_cell": false,
   "toc_position": {},
   "toc_section_display": false,
   "toc_window_display": false
  }
 },
 "nbformat": 4,
 "nbformat_minor": 2
}
