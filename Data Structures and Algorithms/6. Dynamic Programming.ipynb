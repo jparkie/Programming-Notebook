{
 "cells": [
  {
   "cell_type": "markdown",
   "metadata": {},
   "source": [
    "# Dynamic Programming\n",
    "*Author: Jacob Park*"
   ]
  },
  {
   "cell_type": "markdown",
   "metadata": {},
   "source": [
    "A dynamic programming algorithm is an algorithm that solves problems by combining the solutions to overlapping subproblems without repetition."
   ]
  },
  {
   "cell_type": "markdown",
   "metadata": {},
   "source": [
    "## Procedure\n",
    "1. **Characterize the structure of an optimal solution.**\n",
    "2. **Recursively define the value of an optimal solution.**\n",
    "3. **Compute the value of an optimal solution in a bottom-up fashion.**\n",
    "    1. Identify the subproblems.\n",
    "    2. Analyze time complexity and space complexity.\n",
    "    3. Choose a data structure to memoize intermediate results.\n",
    "    4. Identify dependencies between subproblems.\n",
    "    5. Order the subproblems such that each subproblem comes after the subproblem it depends on.\n",
    "4. **Construct an optimal solution from computed information.**"
   ]
  },
  {
   "cell_type": "markdown",
   "metadata": {},
   "source": [
    "## Hints\n",
    "\n",
    "### Common Subproblems\n",
    "1. **The input is $x_{1}, x_{2}, ..., x_{n}$ and a subproblem is $x_{1}, x_{2}, ..., x_{i}$.**\n",
    "\n",
    "    $$[x_{1}, x_{2}, x_{3}, x_{4}, x_{5}, x_{6}], x_{7}, x_{8}, x_{9}, x_{10}$$\n",
    "    \n",
    "    The number of subproblems is $O(n)$.\n",
    "\n",
    "2. **The input is $x_{1}, x_{2}, ..., x_{n}$ and $y_{1}, y_{2}, ..., y_{m}$. A subproblem is $x_{1}, x_{2}, ..., x_{i}$ and $y_{1}, y_{2}, ..., y_{j}$.**\n",
    "\n",
    "    $$[x_{1}, x_{2}, x_{3}, x_{4}, x_{5}, x_{6}], x_{7}, x_{8}, x_{9}, x_{10}$$\n",
    "    $$[y_{1}, y_{2}, y_{3}, x_{4}, y_{5}], y_{6}, y_{7}, y_{8}$$\n",
    "    \n",
    "    The number of subproblems is $O(nm)$.\n",
    "\n",
    "3. **The input is $x_{1}, x_{2}, ..., x_{n}$ and a subproblem is $x_{i}, x_{i + 1}, ..., x_{j}$.**\n",
    "\n",
    "    $$x_{1}, x_{2}, [x_{3}, x_{4}, x_{5}, x_{6}], x_{7}, x_{8}, x_{9}, x_{10}$$\n",
    "    \n",
    "    The number of subproblems is $O(n^2)$.\n",
    "    \n",
    "4. **The input is a rooted tree. A subproblem is a rooted subtree.**\n",
    "\n",
    "### Common Subproblem Parameterization\n",
    "- If the subproblem involves an integer constraint, have one parameter as the integer constraint.\n",
    "- If the subproblem involves a combination, have one parameter as the index up to which elements have been considered.\n",
    "- If the subproblem involves a permutation, have one parameter as the index up to which positions have been considered."
   ]
  },
  {
   "cell_type": "markdown",
   "metadata": {},
   "source": [
    "## Dynamic Programming Example: Fibonacci Number\n",
    "[See Link](https://www.geeksforgeeks.org/program-for-nth-fibonacci-number/)."
   ]
  },
  {
   "cell_type": "code",
   "execution_count": 1,
   "metadata": {},
   "outputs": [
    {
     "data": {
      "text/plain": [
       "dynamic_programming.example.fibonacci_number.FibonacciNumber"
      ]
     },
     "execution_count": 1,
     "metadata": {},
     "output_type": "execute_result"
    }
   ],
   "source": [
    "package dynamic_programming.example.fibonacci_number;\n",
    "\n",
    "import java.util.*;\n",
    "\n",
    "public class FibonacciNumber {\n",
    "\n",
    "    /*\n",
    "     * Recursive Definition:\n",
    "     * F(0) = 0\n",
    "     * F(1) = 1\n",
    "     * F(x) = F(x - 1) + F(x - 2)\n",
    "     */\n",
    "    public static int fibonacci(int n) {\n",
    "        final Map<Integer, Integer> solutions = new HashMap<>();\n",
    "        solutions.put(0, 0);\n",
    "        solutions.put(1, 1);\n",
    "\n",
    "        for (int currentN = 2; currentN <= n; currentN++) {\n",
    "            final int previousSolution1 = solutions.get(currentN - 1);\n",
    "            final int previousSolution2 = solutions.get(currentN - 2);\n",
    "            final int currentSolution = previousSolution1 + previousSolution2;\n",
    "            solutions.put(currentN, currentSolution);\n",
    "        }\n",
    "\n",
    "        return solutions.get(n);\n",
    "    }\n",
    "\n",
    "}"
   ]
  },
  {
   "cell_type": "code",
   "execution_count": 2,
   "metadata": {},
   "outputs": [
    {
     "name": "stdout",
     "output_type": "stream",
     "text": [
      "10th Fibonacci Number: 55\n"
     ]
    },
    {
     "data": {
      "text/plain": [
       "null"
      ]
     },
     "execution_count": 2,
     "metadata": {},
     "output_type": "execute_result"
    }
   ],
   "source": [
    "package dynamic_programming.example.fibonacci_number;\n",
    "\n",
    "System.out.println(String.format(\"10th Fibonacci Number: %d\", FibonacciNumber.fibonacci(10)));"
   ]
  },
  {
   "cell_type": "markdown",
   "metadata": {},
   "source": [
    "## Dynamic Programming Example: Change-Making\n",
    "[See Link](https://www.geeksforgeeks.org/dynamic-programming-set-7-coin-change/)."
   ]
  },
  {
   "cell_type": "code",
   "execution_count": 3,
   "metadata": {},
   "outputs": [
    {
     "data": {
      "text/plain": [
       "dynamic_programming.example.change_making.ChangeMaking"
      ]
     },
     "execution_count": 3,
     "metadata": {},
     "output_type": "execute_result"
    }
   ],
   "source": [
    "package dynamic_programming.example.change_making;\n",
    "\n",
    "import java.util.*;\n",
    "\n",
    "public class ChangeMaking {\n",
    "    \n",
    "    /*\n",
    "     * Recursive Definition:\n",
    "     * MNOC(0) = 0\n",
    "     * MNOC(1) = MNOC(5) = MNOC(10) = MNOC(25) = 1\n",
    "     * MNOC(x) = 1 + Minimum(MNOC(x - 1), MNOC(x - 5), MNOC(x - 10), MNOC(x - 25).\n",
    "     */\n",
    "    public static int minimumNumberOfCoins(int n) {\n",
    "        final Map<Integer, Integer> solutions = new HashMap<>();\n",
    "        solutions.put(0, 0);\n",
    "        solutions.put(1, 1);\n",
    "        solutions.put(5, 1);\n",
    "        solutions.put(10, 1);\n",
    "        solutions.put(25, 1);\n",
    "\n",
    "        for (int currentN = 2; currentN <= n; currentN++) {\n",
    "            final List<Integer> validSolutions = new LinkedList<>();\n",
    "            if (currentN - 1 >= 0) {\n",
    "                validSolutions.add(solutions.get(currentN - 1));\n",
    "            }\n",
    "            if (currentN - 5 >= 0) {\n",
    "                validSolutions.add(solutions.get(currentN - 5));\n",
    "            }\n",
    "            if (currentN - 10 >= 0) {\n",
    "                validSolutions.add(solutions.get(currentN - 10));\n",
    "            }\n",
    "            if (currentN - 25 >= 0) {\n",
    "                validSolutions.add(solutions.get(currentN - 25));\n",
    "            }\n",
    "            final int currentSolution = 1 + Collections.min(validSolutions);\n",
    "            solutions.put(currentN, currentSolution);\n",
    "        }\n",
    "\n",
    "        return solutions.get(n);\n",
    "    }\n",
    "\n",
    "}"
   ]
  },
  {
   "cell_type": "code",
   "execution_count": 4,
   "metadata": {},
   "outputs": [
    {
     "name": "stdout",
     "output_type": "stream",
     "text": [
      "Minimum Number of Coins: 7\n"
     ]
    },
    {
     "data": {
      "text/plain": [
       "null"
      ]
     },
     "execution_count": 4,
     "metadata": {},
     "output_type": "execute_result"
    }
   ],
   "source": [
    "package dynamic_programming.example.change_making;\n",
    "\n",
    "System.out.println(String.format(\"Minimum Number of Coins: %d\", ChangeMaking.minimumNumberOfCoins(49)));"
   ]
  },
  {
   "cell_type": "markdown",
   "metadata": {},
   "source": [
    "## Dynamic Programming Example: Maximum Size Square Sub-Matrix with All 1s\n",
    "[See Link](https://www.geeksforgeeks.org/maximum-size-sub-matrix-with-all-1s-in-a-binary-matrix/)."
   ]
  },
  {
   "cell_type": "code",
   "execution_count": 5,
   "metadata": {},
   "outputs": [
    {
     "data": {
      "text/plain": [
       "dynamic_programming.example.maximum_size_square_sub_matrix.MaximumSizeSquareSubMatrix"
      ]
     },
     "execution_count": 5,
     "metadata": {},
     "output_type": "execute_result"
    }
   ],
   "source": [
    "package dynamic_programming.example.maximum_size_square_sub_matrix;\n",
    "\n",
    "import java.util.*;\n",
    "\n",
    "public class MaximumSizeSquareSubMatrix {\n",
    "\n",
    "    private static class Position {\n",
    "\n",
    "        private final int indexX;\n",
    "        private final int indexY;\n",
    "\n",
    "        public Position(int indexX, int indexY) {\n",
    "            this.indexX = indexX;\n",
    "            this.indexY = indexY;\n",
    "        }\n",
    "\n",
    "        @Override\n",
    "        public boolean equals(Object o) {\n",
    "            if (this == o) {\n",
    "                return true;\n",
    "            }\n",
    "            if (o == null || getClass() != o.getClass()) {\n",
    "                return false;\n",
    "            }\n",
    "            final Position position = (Position) o;\n",
    "            return indexX == position.indexX && indexY == position.indexY;\n",
    "        }\n",
    "\n",
    "        @Override\n",
    "        public int hashCode() {\n",
    "            return Objects.hash(indexX, indexY);\n",
    "        }\n",
    "\n",
    "    }\n",
    "\n",
    "    /*\n",
    "     * Recursive Definition:\n",
    "     * MSSSM(x, 0) = M[x][0] == 1 ? 1 : 0\n",
    "     * MSSSM(0, y) = M[0][y] == 1 ? 1 : 0\n",
    "     * MSSSM(x, y) = M[x][y] == 1 ? 1 + Minimum(MSSSM(x - 1, y), MSSSM(x, y - 1), MSSSM(x - 1, y - 1)) : 0\n",
    "     */\n",
    "    public static int maximumSizeSquareSubMatrix(int[][] matrix) {\n",
    "        final Map<Position, Integer> solutions = new HashMap<>();\n",
    "\n",
    "        int currentMaxLength = 0;\n",
    "\n",
    "        for (int indexX = 0; indexX < matrix.length; indexX++) {\n",
    "            final Position currentPosition = new Position(indexX, 0);\n",
    "            final int currentSolution = matrix[indexX][0] == 1 ? 1 : 0;\n",
    "            solutions.put(currentPosition, currentSolution);\n",
    "\n",
    "            if (currentMaxLength < currentSolution) {\n",
    "                currentMaxLength = currentSolution;\n",
    "            }\n",
    "        }\n",
    "        for (int indexY = 0; indexY < matrix[0].length; indexY++) {\n",
    "            final Position currentPosition = new Position(0, indexY);\n",
    "            final int currentSolution = matrix[0][indexY] == 1 ? 1 : 0;\n",
    "            solutions.put(currentPosition, currentSolution);\n",
    "\n",
    "            if (currentMaxLength < currentSolution) {\n",
    "                currentMaxLength = currentSolution;\n",
    "            }\n",
    "        }\n",
    "\n",
    "        for (int indexX = 1; indexX < matrix.length; indexX++) {\n",
    "            for (int indexY = 1; indexY < matrix[0].length; indexY++) {\n",
    "                final Position currentPosition = new Position(indexX, indexY);\n",
    "                final int leftPosition = solutions.get(new Position(indexX - 1, indexY));\n",
    "                final int topPosition = solutions.get(new Position(indexX, indexY - 1));\n",
    "                final int topLeftPosition = solutions.get(new Position(indexX - 1, indexY - 1));\n",
    "                final int minimumLength = Collections.min(Arrays.asList(leftPosition, topPosition, topLeftPosition));\n",
    "                final int currentSolution = matrix[indexX][indexY] == 1 ? 1 + minimumLength : 0;\n",
    "                solutions.put(currentPosition, currentSolution);\n",
    "\n",
    "                if (currentMaxLength < currentSolution) {\n",
    "                    currentMaxLength = currentSolution;\n",
    "                }\n",
    "            }\n",
    "        }\n",
    "\n",
    "        return currentMaxLength * currentMaxLength;\n",
    "    }\n",
    "\n",
    "}"
   ]
  },
  {
   "cell_type": "code",
   "execution_count": 6,
   "metadata": {},
   "outputs": [
    {
     "name": "stdout",
     "output_type": "stream",
     "text": [
      "Maximum Size Square Sub-Matrix: 4\n"
     ]
    },
    {
     "data": {
      "text/plain": [
       "null"
      ]
     },
     "execution_count": 6,
     "metadata": {},
     "output_type": "execute_result"
    }
   ],
   "source": [
    "package dynamic_programming.example.maximum_size_square_sub_matrix;\n",
    "\n",
    "final int[][] matrix = new int[][] {\n",
    "        new int[] {0, 1, 0, 0},\n",
    "        new int[] {1, 1, 1, 1},\n",
    "        new int[] {0, 1, 1, 0}\n",
    "};\n",
    "\n",
    "System.out.println(String.format(\"Maximum Size Square Sub-Matrix: %d\", MaximumSizeSquareSubMatrix.maximumSizeSquareSubMatrix(matrix)));"
   ]
  },
  {
   "cell_type": "markdown",
   "metadata": {},
   "source": [
    "## Dynamic Programming Example: 0-1 Knapsack Problem\n",
    "[See Link](https://www.geeksforgeeks.org/knapsack-problem/)."
   ]
  },
  {
   "cell_type": "code",
   "execution_count": 7,
   "metadata": {},
   "outputs": [
    {
     "data": {
      "text/plain": [
       "dynamic_programming.example.zero_one_knapsack.ZeroOneKnapsack"
      ]
     },
     "execution_count": 7,
     "metadata": {},
     "output_type": "execute_result"
    }
   ],
   "source": [
    "package dynamic_programming.example.zero_one_knapsack;\n",
    "\n",
    "import java.util.*;\n",
    "\n",
    "public class ZeroOneKnapsack {\n",
    "\n",
    "    public static class Item {\n",
    "\n",
    "        private final int value;\n",
    "        private final int weight;\n",
    "\n",
    "        public Item(int value, int weight) {\n",
    "            this.value = value;\n",
    "            this.weight = weight;\n",
    "        }\n",
    "\n",
    "        public int getValue() {\n",
    "            return value;\n",
    "        }\n",
    "\n",
    "        public int getWeight() {\n",
    "            return weight;\n",
    "        }\n",
    "\n",
    "    }\n",
    "\n",
    "    private static class ItemWeightPair {\n",
    "\n",
    "        private final int item;\n",
    "        private final int weight;\n",
    "\n",
    "        public ItemWeightPair(int item, int weight) {\n",
    "            this.item = item;\n",
    "            this.weight = weight;\n",
    "        }\n",
    "\n",
    "        @Override\n",
    "        public boolean equals(Object o) {\n",
    "            if (this == o) {\n",
    "                return true;\n",
    "            }\n",
    "            if (o == null || getClass() != o.getClass()) {\n",
    "                return false;\n",
    "            }\n",
    "            final ItemWeightPair that = (ItemWeightPair) o;\n",
    "            return item == that.item && weight == that.weight;\n",
    "        }\n",
    "\n",
    "        @Override\n",
    "        public int hashCode() {\n",
    "            return Objects.hash(item, weight);\n",
    "        }\n",
    "\n",
    "    }\n",
    "\n",
    "    /*\n",
    "     * Recursive Definition:\n",
    "     * MVK(-1, w) = 0\n",
    "     * MVK(i, w) = weight(i) <= w ? Maximum(MVK(i - 1, w), value(i) + MVK(i - 1, w - weight(i))) : MVK(i - 1, w)\n",
    "     */\n",
    "    public static int maximumValueKnapsack(int weight, Item[] items) {\n",
    "        final Map<ItemWeightPair, Integer> solutions = new HashMap<>();\n",
    "        for (int currentWeight = 0; currentWeight <= weight; currentWeight++) {\n",
    "            solutions.put(new ItemWeightPair(-1, currentWeight), 0);\n",
    "        }\n",
    "\n",
    "        // The optimal structure requires choosing an optimal combination, \n",
    "        // so consider whether the inclusion or the exclusion of \n",
    "        // the item satisfies the constraint, for all items, for all constraints.\n",
    "        for (int currentItem = 0; currentItem < items.length; currentItem++) {\n",
    "            for (int currentWeight = 0; currentWeight <= weight; currentWeight++) {\n",
    "                final int currentItemValue = items[currentItem].getValue();\n",
    "                final int currentItemWeight = items[currentItem].getWeight();\n",
    "                // If you can't include it, ignore the current solution.\n",
    "                // Else, make an optimal choice between including it and not including it.\n",
    "                if (currentItemWeight > currentWeight) {\n",
    "                    final int previousSolution = solutions.get(new ItemWeightPair(currentItem - 1, currentWeight));\n",
    "                    solutions.put(new ItemWeightPair(currentItem, currentWeight), previousSolution);\n",
    "                } else {\n",
    "                    final int previousSolutionWithoutItem = solutions.get(new ItemWeightPair(currentItem - 1, currentWeight));\n",
    "                    final int previousSolutionWithItem = currentItemValue + solutions.get(new ItemWeightPair(currentItem - 1, currentWeight - currentItemWeight));\n",
    "                    final int currentSolution = Math.max(previousSolutionWithoutItem, previousSolutionWithItem);\n",
    "                    solutions.put(new ItemWeightPair(currentItem, currentWeight), currentSolution);\n",
    "                }\n",
    "            }\n",
    "        }\n",
    "\n",
    "        return solutions.get(new ItemWeightPair(items.length - 1, weight));\n",
    "    }\n",
    "\n",
    "}"
   ]
  },
  {
   "cell_type": "code",
   "execution_count": 8,
   "metadata": {},
   "outputs": [
    {
     "name": "stdout",
     "output_type": "stream",
     "text": [
      "Max Value of Knapsack: 22\n"
     ]
    },
    {
     "data": {
      "text/plain": [
       "null"
      ]
     },
     "execution_count": 8,
     "metadata": {},
     "output_type": "execute_result"
    }
   ],
   "source": [
    "package dynamic_programming.example.zero_one_knapsack;\n",
    "\n",
    "final ZeroOneKnapsack.Item[] items = new ZeroOneKnapsack.Item[] {\n",
    "    new ZeroOneKnapsack.Item(6, 2),\n",
    "    new ZeroOneKnapsack.Item(10, 2),\n",
    "    new ZeroOneKnapsack.Item(12, 3)\n",
    "};\n",
    "\n",
    "System.out.println(String.format(\"Max Value of Knapsack: %d\", ZeroOneKnapsack.maximumValueKnapsack(5, items)));"
   ]
  },
  {
   "cell_type": "markdown",
   "metadata": {},
   "source": [
    "## Dynamic Programming Example: Subset Sum Problem\n",
    "[See Link](https://www.geeksforgeeks.org/dynamic-programming-subset-sum-problem/)."
   ]
  },
  {
   "cell_type": "code",
   "execution_count": 9,
   "metadata": {},
   "outputs": [
    {
     "data": {
      "text/plain": [
       "dynamic_programming.example.subset_sum.SubsetSum"
      ]
     },
     "execution_count": 9,
     "metadata": {},
     "output_type": "execute_result"
    }
   ],
   "source": [
    "package dynamic_programming.example.subset_sum;\n",
    "\n",
    "import java.util.*;\n",
    "\n",
    "public class SubsetSum {\n",
    "\n",
    "    private static class IndexSumPair {\n",
    "\n",
    "        private final int index;\n",
    "        private final int sum;\n",
    "\n",
    "        public IndexSumPair(int index, int sum) {\n",
    "            this.index = index;\n",
    "            this.sum = sum;\n",
    "        }\n",
    "\n",
    "        @Override\n",
    "        public boolean equals(Object o) {\n",
    "            if (this == o) {\n",
    "                return true;\n",
    "            }\n",
    "            if (o == null || getClass() != o.getClass()) {\n",
    "                return false;\n",
    "            }\n",
    "            final IndexSumPair that = (IndexSumPair) o;\n",
    "            return index == that.index && sum == that.sum;\n",
    "        }\n",
    "\n",
    "        @Override\n",
    "        public int hashCode() {\n",
    "            return Objects.hash(index, sum);\n",
    "        }\n",
    "\n",
    "    }\n",
    "\n",
    "    /*\n",
    "     * Recursive Definition:\n",
    "     * ISS(-1, s) = false\n",
    "     * ISS(-1, 0) = true\n",
    "     * ISS(i, s) = value(i) <= s ? ISS(i - 1, s) || ISS(i - 1, s - value(i)) : ISS(i - 1, s)\n",
    "     */\n",
    "    public static boolean isSubsetSum(int[] set, int sum) {\n",
    "        final Map<IndexSumPair, Boolean> solutions = new HashMap<>();\n",
    "        for (int currentSum = 0; currentSum <= sum; currentSum++) {\n",
    "            solutions.put(new IndexSumPair(-1, currentSum), false);\n",
    "        }\n",
    "        solutions.put(new IndexSumPair(-1, 0), true);\n",
    "\n",
    "        // The optimal structure requires choosing an optimal combination, \n",
    "        // so consider whether the inclusion or the exclusion of \n",
    "        // the item satisfies the constraint, for all items, for all constraints.\n",
    "        for (int currentItemIndex = 0; currentItemIndex < set.length; currentItemIndex++) {\n",
    "            for (int currentSum = 0; currentSum <= sum; currentSum++) {\n",
    "                final int currentItem = set[currentItemIndex];\n",
    "                // If you can't include it, ignore the current solution.\n",
    "                // Else, make an optimal choice between including it and not including it.\n",
    "                if (currentItem > currentSum) {\n",
    "                    final boolean previousSolution = solutions.get(new IndexSumPair(currentItemIndex - 1, currentSum));\n",
    "                    solutions.put(new IndexSumPair(currentItemIndex, currentSum), previousSolution);\n",
    "                } else {\n",
    "                    final boolean previousSolutionWithoutItem = solutions.get(new IndexSumPair(currentItemIndex - 1, currentSum));\n",
    "                    final boolean previousSolutionWithItem = solutions.get(new IndexSumPair(currentItemIndex - 1, currentSum - currentItem));\n",
    "                    final boolean currentSolution = previousSolutionWithoutItem || previousSolutionWithItem;\n",
    "                    solutions.put(new IndexSumPair(currentItemIndex, currentSum), currentSolution);\n",
    "                }\n",
    "            }\n",
    "        }\n",
    "\n",
    "        return solutions.get(new IndexSumPair(set.length - 1, sum));\n",
    "    }\n",
    "\n",
    "}"
   ]
  },
  {
   "cell_type": "code",
   "execution_count": 10,
   "metadata": {},
   "outputs": [
    {
     "name": "stdout",
     "output_type": "stream",
     "text": [
      "Is Subset Sum: true\n"
     ]
    },
    {
     "data": {
      "text/plain": [
       "null"
      ]
     },
     "execution_count": 10,
     "metadata": {},
     "output_type": "execute_result"
    }
   ],
   "source": [
    "package dynamic_programming.example.subset_sum;\n",
    "\n",
    "final int[] set = new int[] {3, 34, 4, 12, 5, 2};\n",
    "\n",
    "System.out.println(String.format(\"Is Subset Sum: %b\", SubsetSum.isSubsetSum(set, 9)));"
   ]
  },
  {
   "cell_type": "markdown",
   "metadata": {},
   "source": [
    "## Dynamic Programming Example: Longest Common Subsequence\n",
    "[See Link](https://www.geeksforgeeks.org/longest-common-subsequence/)."
   ]
  },
  {
   "cell_type": "code",
   "execution_count": 11,
   "metadata": {},
   "outputs": [
    {
     "data": {
      "text/plain": [
       "dynamic_programming.example.longest_common_subsequence.LongestCommonSubsequence"
      ]
     },
     "execution_count": 11,
     "metadata": {},
     "output_type": "execute_result"
    }
   ],
   "source": [
    "package dynamic_programming.example.longest_common_subsequence;\n",
    "\n",
    "import java.util.*;\n",
    "\n",
    "public class LongestCommonSubsequence {\n",
    "    \n",
    "    private static class ABPair {\n",
    "        \n",
    "        private final int a;\n",
    "        private final int b;\n",
    "        \n",
    "        public ABPair(int a, int b) {\n",
    "            this.a = a;\n",
    "            this.b = b;\n",
    "        }\n",
    "        \n",
    "        @Override\n",
    "        public boolean equals(Object o) {\n",
    "            if (this == o) {\n",
    "                return true;\n",
    "            }\n",
    "            if (o == null || getClass() != o.getClass()) {\n",
    "                return false;\n",
    "            }\n",
    "            final ABPair abPair = (ABPair) o;\n",
    "            return a == abPair.a && b == abPair.b;\n",
    "        }\n",
    "        \n",
    "        @Override\n",
    "        public int hashCode() {\n",
    "            return Objects.hash(a, b);\n",
    "        }\n",
    "        \n",
    "    }\n",
    "    \n",
    "    /*\n",
    "     * Recursive Definition:\n",
    "     * LCS(a, 0) = 0\n",
    "     * LCS(0, b) = 0\n",
    "     * LCS(a, b) = A[a - 1] == B[b - 1] ? 1 + LCS(a - 1, b - 1) : Maximum(LCS(a, b - 1), LCS(a - 1, b))\n",
    "     */\n",
    "    public static int longestCommonSubsequence(String a, String b) {\n",
    "        final Map<ABPair, Integer> solutions = new HashMap<>();\n",
    "        for (int aLength = 0; aLength <= a.length(); aLength++) {\n",
    "            solutions.put(new ABPair(aLength, 0), 0);\n",
    "        }\n",
    "        for (int bLength = 0; bLength <= b.length(); bLength++) {\n",
    "            solutions.put(new ABPair(0, bLength), 0);\n",
    "        }\n",
    "\n",
    "        for (int aLength = 1; aLength <= a.length(); aLength++) {\n",
    "            for (int bLength = 1; bLength <= b.length(); bLength++) {\n",
    "                if (a.charAt(aLength - 1) == b.charAt(bLength - 1)) {\n",
    "                    final int previousSolutionWithoutAB = solutions.get(new ABPair(aLength - 1, bLength - 1));\n",
    "                    final int currentSolution = 1 + previousSolutionWithoutAB;\n",
    "                    solutions.put(new ABPair(aLength, bLength), currentSolution);\n",
    "                } else {\n",
    "                    final int previousSolutionWithoutA = solutions.get(new ABPair(aLength, bLength - 1));\n",
    "                    final int previousSolutionWithoutB = solutions.get(new ABPair(aLength - 1, bLength));\n",
    "                    final int currentSolution = Math.max(previousSolutionWithoutA, previousSolutionWithoutB);\n",
    "                    solutions.put(new ABPair(aLength, bLength), currentSolution);\n",
    "                }\n",
    "            }\n",
    "        }\n",
    "\n",
    "        return solutions.get(new ABPair(a.length(), b.length()));\n",
    "    }\n",
    "    \n",
    "}"
   ]
  },
  {
   "cell_type": "code",
   "execution_count": 12,
   "metadata": {},
   "outputs": [
    {
     "name": "stdout",
     "output_type": "stream",
     "text": [
      "Length of Longest Common Subsequence: 2\n"
     ]
    },
    {
     "data": {
      "text/plain": [
       "null"
      ]
     },
     "execution_count": 12,
     "metadata": {},
     "output_type": "execute_result"
    }
   ],
   "source": [
    "package dynamic_programming.example.longest_common_subsequence;\n",
    "\n",
    "final String a = \"ABCD\";\n",
    "final String b = \"EACB\";\n",
    "\n",
    "System.out.println(String.format(\"Length of Longest Common Subsequence: %d\", LongestCommonSubsequence.longestCommonSubsequence(a, b)));"
   ]
  },
  {
   "cell_type": "markdown",
   "metadata": {},
   "source": [
    "## Dynamic Programming Example: Edit Distance\n",
    "[See Link](https://www.geeksforgeeks.org/dynamic-programming-set-5-edit-distance/)."
   ]
  },
  {
   "cell_type": "code",
   "execution_count": 13,
   "metadata": {},
   "outputs": [
    {
     "data": {
      "text/plain": [
       "dynamic_programming.example.edit_distance.EditDistance"
      ]
     },
     "execution_count": 13,
     "metadata": {},
     "output_type": "execute_result"
    }
   ],
   "source": [
    "package dynamic_programming.example.edit_distance;\n",
    "\n",
    "import java.util.*;\n",
    "\n",
    "public class EditDistance {\n",
    "    \n",
    "    private static class ABPair {\n",
    "        \n",
    "        private final int a;\n",
    "        private final int b;\n",
    "        \n",
    "        public ABPair(int a, int b) {\n",
    "            this.a = a;\n",
    "            this.b = b;\n",
    "        }\n",
    "        \n",
    "        @Override\n",
    "        public boolean equals(Object o) {\n",
    "            if (this == o) {\n",
    "                return true;\n",
    "            }\n",
    "            if (o == null || getClass() != o.getClass()) {\n",
    "                return false;\n",
    "            }\n",
    "            final ABPair abPair = (ABPair) o;\n",
    "            return a == abPair.a && b == abPair.b;\n",
    "        }\n",
    "        \n",
    "        @Override\n",
    "        public int hashCode() {\n",
    "            return Objects.hash(a, b);\n",
    "        }\n",
    "        \n",
    "    }\n",
    "    \n",
    "    /*\n",
    "     * Recursive Definition:\n",
    "     * MED(a, 0) = a\n",
    "     * MED(0, b) = b\n",
    "     * MED(a, b) = A[a - 1] == B[b - 1] ? MED(a - 1, b - 1) : Minimum(MED(a, b - 1), MED(a - 1, b), MED(a - 1, b - 1))\n",
    "     */\n",
    "    public static int minimumEditDistance(String a, String b) {\n",
    "        final Map<ABPair, Integer> solutions = new HashMap<>();\n",
    "        \n",
    "        for (int aLength = 0; aLength <= a.length(); aLength++) {\n",
    "            for (int bLength = 0; bLength <= b.length(); bLength++) {\n",
    "                if (aLength == 0) {\n",
    "                    solutions.put(new ABPair(aLength, bLength), bLength);\n",
    "                } else if (bLength == 0) {\n",
    "                    solutions.put(new ABPair(aLength, bLength), aLength);\n",
    "                } else if (a.charAt(aLength - 1) == b.charAt(bLength - 1)) {\n",
    "                    final int previousSolution = solutions.get(new ABPair(aLength - 1, bLength - 1));\n",
    "                    solutions.put(new ABPair(aLength, bLength), previousSolution);\n",
    "                } else {\n",
    "                    final int previousSolutionInsert = solutions.get(new ABPair(aLength, bLength - 1));\n",
    "                    final int previousSolutionDelete = solutions.get(new ABPair(aLength - 1, bLength));\n",
    "                    final int previousSolutionReplace = solutions.get(new ABPair(aLength - 1, bLength - 1));\n",
    "                    final int currentSolution = 1 + Collections.min(\n",
    "                        Arrays.asList(\n",
    "                            previousSolutionInsert, \n",
    "                            previousSolutionDelete, \n",
    "                            previousSolutionReplace));\n",
    "                    solutions.put(new ABPair(aLength, bLength), currentSolution);\n",
    "                }\n",
    "            }\n",
    "        }\n",
    "        \n",
    "        return solutions.get(new ABPair(a.length(), b.length()));\n",
    "    }\n",
    "    \n",
    "}"
   ]
  },
  {
   "cell_type": "code",
   "execution_count": 14,
   "metadata": {},
   "outputs": [
    {
     "name": "stdout",
     "output_type": "stream",
     "text": [
      "Minimum Edit Distance: 3\n"
     ]
    },
    {
     "data": {
      "text/plain": [
       "null"
      ]
     },
     "execution_count": 14,
     "metadata": {},
     "output_type": "execute_result"
    }
   ],
   "source": [
    "package dynamic_programming.example.edit_distance;\n",
    "\n",
    "final String a = \"SUNDAY\";\n",
    "final String b = \"SATURDAY\";\n",
    "\n",
    "System.out.println(String.format(\"Minimum Edit Distance: %d\", EditDistance.minimumEditDistance(a, b)));"
   ]
  },
  {
   "cell_type": "markdown",
   "metadata": {},
   "source": [
    "## Dynamic Programming Example: Longest Increasing Subsequence\n",
    "[See Link](https://www.geeksforgeeks.org/longest-increasing-subsequence/)."
   ]
  },
  {
   "cell_type": "code",
   "execution_count": 15,
   "metadata": {},
   "outputs": [
    {
     "data": {
      "text/plain": [
       "dynamic_programming.example.longest_increasing_subsequence.LongestIncreasingSubsequence"
      ]
     },
     "execution_count": 15,
     "metadata": {},
     "output_type": "execute_result"
    }
   ],
   "source": [
    "package dynamic_programming.example.longest_increasing_subsequence;\n",
    "\n",
    "import java.util.*;\n",
    "\n",
    "public class LongestIncreasingSubsequence {\n",
    "    \n",
    "    /*\n",
    "     * Recursive Definition:\n",
    "     * LIS(e) = 1\n",
    "     * LIS(e) = S[s] < S[e] ? Maximum(1 + LIS(s), LIS(e))\n",
    "     */\n",
    "    public static int longestIncreasingSubsequence(int[] S) {\n",
    "        final Map<Integer, Integer> solutions = new HashMap<>();\n",
    "        for (int endIndex = 0; endIndex < S.length; endIndex++) {\n",
    "            solutions.put(endIndex, 1);\n",
    "        }\n",
    "        \n",
    "        for (int endIndex = 1; endIndex < S.length; endIndex++) {\n",
    "            for (int startIndex = 0; startIndex < endIndex; startIndex++) {\n",
    "                if (S[startIndex] < S[endIndex]) {\n",
    "                    final int previousSolution = solutions.get(endIndex);\n",
    "                    final int currentSolution = 1 + solutions.get(startIndex);\n",
    "                    solutions.put(endIndex, Math.max(previousSolution, currentSolution));\n",
    "                }\n",
    "            }\n",
    "        }\n",
    "        \n",
    "        int max = 0;\n",
    "        for (Integer currentLength : solutions.values()) {\n",
    "            if (currentLength > max) {\n",
    "                max = currentLength;\n",
    "            }\n",
    "        }\n",
    "        return max;\n",
    "    }\n",
    "    \n",
    "}"
   ]
  },
  {
   "cell_type": "code",
   "execution_count": 16,
   "metadata": {},
   "outputs": [
    {
     "name": "stdout",
     "output_type": "stream",
     "text": [
      "Longest Increasing Subsequence Length: 3\n"
     ]
    },
    {
     "data": {
      "text/plain": [
       "null"
      ]
     },
     "execution_count": 16,
     "metadata": {},
     "output_type": "execute_result"
    }
   ],
   "source": [
    "package dynamic_programming.example.longest_increasing_subsequence;\n",
    "\n",
    "System.out.println(String.format(\"Longest Increasing Subsequence Length: %d\", LongestIncreasingSubsequence.longestIncreasingSubsequence(new int[] {3, 10, 2, 1, 20})));"
   ]
  }
 ],
 "metadata": {
  "kernelspec": {
   "display_name": "Java",
   "language": "java",
   "name": "java"
  },
  "language_info": {
   "codemirror_mode": "text/x-java",
   "file_extension": ".java",
   "mimetype": "",
   "name": "Java",
   "nbconverter_exporter": "",
   "version": "11.0.1"
  },
  "toc": {
   "base_numbering": 1,
   "nav_menu": {},
   "number_sections": false,
   "sideBar": false,
   "skip_h1_title": false,
   "title_cell": "Table of Contents",
   "title_sidebar": "Contents",
   "toc_cell": false,
   "toc_position": {},
   "toc_section_display": false,
   "toc_window_display": false
  }
 },
 "nbformat": 4,
 "nbformat_minor": 2
}
