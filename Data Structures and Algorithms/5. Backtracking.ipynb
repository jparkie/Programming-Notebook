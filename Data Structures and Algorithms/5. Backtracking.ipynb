{
 "cells": [
  {
   "cell_type": "markdown",
   "metadata": {},
   "source": [
    "# Backtracking\n",
    "*Author: Jacob Park*"
   ]
  },
  {
   "cell_type": "markdown",
   "metadata": {},
   "source": [
    "A backtracking algorithm is an algorithm that enumerates a set of *partial candidates* that could be completed through various extensions to give all the possible solutions to the given problem. The completion is done incrementally, by a sequence of *candidate extension steps*."
   ]
  },
  {
   "cell_type": "markdown",
   "metadata": {},
   "source": [
    "## Pseudocode"
   ]
  },
  {
   "cell_type": "code",
   "execution_count": 1,
   "metadata": {},
   "outputs": [
    {
     "data": {
      "text/plain": [
       "backtracking.pseudocode.Backtracking"
      ]
     },
     "execution_count": 1,
     "metadata": {},
     "output_type": "execute_result"
    }
   ],
   "source": [
    "package backtracking.pseudocode;\n",
    "\n",
    "import java.util.*;\n",
    "\n",
    "class Backtracking {\n",
    "    \n",
    "    public static class Problem {\n",
    "        \n",
    "        public Problem() {\n",
    "            throw new UnsupportedOperationException();\n",
    "        }\n",
    "        \n",
    "    }\n",
    "    \n",
    "    public static class Candidate {\n",
    "        \n",
    "        public Candidate() {\n",
    "            throw new UnsupportedOperationException();\n",
    "        }\n",
    "        \n",
    "    }\n",
    "    \n",
    "    public static void backtrack(Problem p) {\n",
    "        backtrack(p, initialCandidate(p));\n",
    "    }\n",
    "    \n",
    "    private static void backtrack(Problem p, Candidate c) {\n",
    "        if (rejectCandidate(p, c)) {\n",
    "            return;\n",
    "        }\n",
    "        if (acceptCandidate(p, c)) {\n",
    "            outputSolution(p, c);\n",
    "            return;\n",
    "        }\n",
    "        \n",
    "        final Iterable<Candidate> extensions = extendCandidate(p, c);\n",
    "        \n",
    "        for (Candidate e : extensions) {\n",
    "            backtrack(p, e);\n",
    "        }\n",
    "    }\n",
    "    \n",
    "    private static Candidate initialCandidate(Problem p) {\n",
    "        throw new UnsupportedOperationException();\n",
    "    }\n",
    "    \n",
    "    private static boolean rejectCandidate(Problem p, Candidate c) {\n",
    "        throw new UnsupportedOperationException();\n",
    "    }\n",
    "    \n",
    "    private static boolean acceptCandidate(Problem p, Candidate c) {\n",
    "        throw new UnsupportedOperationException();\n",
    "    }\n",
    "    \n",
    "    private static void outputSolution(Problem p, Candidate c) {\n",
    "        throw new UnsupportedOperationException();\n",
    "    }\n",
    "    \n",
    "    private static Iterable<Candidate> extendCandidate(Problem p, Candidate c) {\n",
    "        return new Iterable<Candidate>() {\n",
    "            @Override\n",
    "            public Iterator<Candidate> iterator() {\n",
    "                return new Iterator<Candidate>() {\n",
    "                    @Override\n",
    "                    public boolean hasNext() {\n",
    "                        throw new UnsupportedOperationException();\n",
    "                    }\n",
    "\n",
    "                    @Override\n",
    "                    public Candidate next() {\n",
    "                        throw new UnsupportedOperationException();\n",
    "                    }\n",
    "                };\n",
    "            }  \n",
    "        };\n",
    "    }\n",
    "    \n",
    "}"
   ]
  },
  {
   "cell_type": "markdown",
   "metadata": {},
   "source": [
    "## Backtracking Example: Eight Queens Puzzle\n",
    "[See Link](https://en.wikipedia.org/wiki/Eight_queens_puzzle)."
   ]
  },
  {
   "cell_type": "code",
   "execution_count": 2,
   "metadata": {},
   "outputs": [
    {
     "data": {
      "text/plain": [
       "backtracking.example.eight_queens_puzzle.EightQueensPuzzle"
      ]
     },
     "execution_count": 2,
     "metadata": {},
     "output_type": "execute_result"
    }
   ],
   "source": [
    "package backtracking.example.eight_queens_puzzle;\n",
    "\n",
    "import java.lang.Math;\n",
    "import java.util.*;\n",
    "\n",
    "class EightQueensPuzzle {\n",
    "    \n",
    "    private static class Position {\n",
    "\n",
    "        private final int row;\n",
    "        private final int column;\n",
    "\n",
    "        public Position(int row, int column) {\n",
    "            this.row = row;\n",
    "            this.column = column;\n",
    "        }\n",
    "\n",
    "        public int getRow() {\n",
    "            return row;\n",
    "        }\n",
    "\n",
    "        public int getColumn() {\n",
    "            return column;\n",
    "        }\n",
    "\n",
    "    }\n",
    "\n",
    "    public static int countSolutions(int n) {\n",
    "        return countSolutions(n, initialCandidate(n));\n",
    "    }\n",
    "\n",
    "    private static int countSolutions(int n, ArrayList<Position> candidate) {\n",
    "        if (rejectCandidate(n, candidate)) {\n",
    "            return 0;\n",
    "        }\n",
    "        if (acceptCandidate(n, candidate)) {\n",
    "            return 1;\n",
    "        }\n",
    "\n",
    "        int currentCount = 0;\n",
    "\n",
    "        final int row = candidate.size() + 1;\n",
    "        for (int column = 1; column <= n; column++) {\n",
    "            final ArrayList<Position> extension = new ArrayList<>(candidate);\n",
    "\n",
    "            extension.add(new Position(row, column));\n",
    "\n",
    "            currentCount += countSolutions(n, extension);\n",
    "        }\n",
    "\n",
    "        return currentCount;\n",
    "    }\n",
    "\n",
    "    private static ArrayList<Position> initialCandidate(int n) {\n",
    "        return new ArrayList<>(n);\n",
    "    }\n",
    "\n",
    "    private static boolean rejectCandidate(int n, ArrayList<Position> candidate) {\n",
    "        if (candidate.size() > n) {\n",
    "            return true;\n",
    "        }\n",
    "\n",
    "        for (int index = 0; index < candidate.size() - 1; index++) {\n",
    "            final Position lastPosition = candidate.get(candidate.size() - 1);\n",
    "            final Position currentPosition = candidate.get(index);\n",
    "\n",
    "            if (currentPosition.getRow() == lastPosition.getRow()) {\n",
    "                return true;\n",
    "            }\n",
    "            if (currentPosition.getColumn() == lastPosition.getColumn()) {\n",
    "                return true;\n",
    "            }\n",
    "            if (Math.abs(currentPosition.getColumn() - lastPosition.getColumn()) == Math.abs(currentPosition.getRow() - lastPosition.getRow())) {\n",
    "                return true;\n",
    "            }\n",
    "        }\n",
    "\n",
    "        return false;\n",
    "    }\n",
    "\n",
    "    private static boolean acceptCandidate(int n, ArrayList<Position> candidate) {\n",
    "        return n == candidate.size();\n",
    "    }\n",
    "    \n",
    "}"
   ]
  },
  {
   "cell_type": "code",
   "execution_count": 3,
   "metadata": {},
   "outputs": [
    {
     "name": "stdout",
     "output_type": "stream",
     "text": [
      "Number of Solutions for Eight Queens: 92\n"
     ]
    },
    {
     "data": {
      "text/plain": [
       "null"
      ]
     },
     "execution_count": 3,
     "metadata": {},
     "output_type": "execute_result"
    }
   ],
   "source": [
    "package backtracking.example.eight_queens_puzzle;\n",
    "\n",
    "System.out.println(String.format(\"Number of Solutions for Eight Queens: %d\", EightQueensPuzzle.countSolutions(8)));"
   ]
  }
 ],
 "metadata": {
  "kernelspec": {
   "display_name": "Java",
   "language": "java",
   "name": "java"
  },
  "language_info": {
   "codemirror_mode": "text/x-java",
   "file_extension": ".java",
   "mimetype": "",
   "name": "Java",
   "nbconverter_exporter": "",
   "version": "11.0.1"
  },
  "toc": {
   "base_numbering": 1,
   "nav_menu": {},
   "number_sections": false,
   "sideBar": false,
   "skip_h1_title": false,
   "title_cell": "Table of Contents",
   "title_sidebar": "Contents",
   "toc_cell": false,
   "toc_position": {},
   "toc_section_display": false,
   "toc_window_display": false
  }
 },
 "nbformat": 4,
 "nbformat_minor": 2
}
