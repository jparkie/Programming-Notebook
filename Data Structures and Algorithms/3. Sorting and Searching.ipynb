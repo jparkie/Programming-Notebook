{
 "cells": [
  {
   "cell_type": "markdown",
   "metadata": {},
   "source": [
    "# Sorting and Searching\n",
    "*Author: Jacob Park*"
   ]
  },
  {
   "cell_type": "markdown",
   "metadata": {},
   "source": [
    "## Insertion Sort ($O(n^2)$)"
   ]
  },
  {
   "cell_type": "code",
   "execution_count": 1,
   "metadata": {},
   "outputs": [
    {
     "data": {
      "text/plain": [
       "sorting.insertion_sort.InsertionSort"
      ]
     },
     "execution_count": 1,
     "metadata": {},
     "output_type": "execute_result"
    }
   ],
   "source": [
    "package sorting.insertion_sort;\n",
    "\n",
    "class InsertionSort {\n",
    "\n",
    "    public static void insertionSort(int[] S) {\n",
    "        // For every element,\n",
    "        for (int index = 0; index < S.length; index++) {\n",
    "            /*\n",
    "             * Sink the element leftwards to the head \n",
    "             * such that the array is sorted.\n",
    "             */\n",
    "            for (int subIndex = index; subIndex > 0 && S[subIndex] < S[subIndex - 1]; subIndex--) {\n",
    "                final int temporary = S[subIndex];\n",
    "                S[subIndex] = S[subIndex - 1];\n",
    "                S[subIndex - 1] = temporary;\n",
    "            }\n",
    "        }\n",
    "    }\n",
    "\n",
    "}"
   ]
  },
  {
   "cell_type": "code",
   "execution_count": 2,
   "metadata": {},
   "outputs": [
    {
     "name": "stdout",
     "output_type": "stream",
     "text": [
      "[0, 1, 2, 2, 4, 5, 6, 7]\n"
     ]
    },
    {
     "data": {
      "text/plain": [
       "null"
      ]
     },
     "execution_count": 2,
     "metadata": {},
     "output_type": "execute_result"
    }
   ],
   "source": [
    "package sorting.insertion_sort;\n",
    "\n",
    "import java.util.Arrays;\n",
    "\n",
    "int[] S = new int[] {7, 5, 0, 1, 6, 2, 4, 2};\n",
    "\n",
    "InsertionSort.insertionSort(S);\n",
    "\n",
    "System.out.println(Arrays.toString(S));"
   ]
  },
  {
   "cell_type": "markdown",
   "metadata": {},
   "source": [
    "## Merge Sort ($O(n\\log(n))$)"
   ]
  },
  {
   "cell_type": "code",
   "execution_count": 3,
   "metadata": {},
   "outputs": [
    {
     "data": {
      "text/plain": [
       "sorting.merge_sort.MergeSort"
      ]
     },
     "execution_count": 3,
     "metadata": {},
     "output_type": "execute_result"
    }
   ],
   "source": [
    "package sorting.merge_sort;\n",
    "\n",
    "class MergeSort {\n",
    "    \n",
    "    public static void mergeSort(\n",
    "        int[] S, \n",
    "        int[] buffer, \n",
    "        int headIndex, \n",
    "        int tailIndex\n",
    "    ) {\n",
    "        if (headIndex >= tailIndex) {\n",
    "            return;\n",
    "        }\n",
    "        \n",
    "        final int medianIndex = headIndex + (tailIndex - headIndex) / 2;\n",
    "        mergeSort(S, buffer, headIndex, medianIndex);\n",
    "        mergeSort(S, buffer, medianIndex + 1, tailIndex);\n",
    "        merge(S, buffer, headIndex, medianIndex, tailIndex);\n",
    "    }\n",
    "    \n",
    "    private static void merge(\n",
    "        int[] S, \n",
    "        int[] buffer, \n",
    "        int headIndex, \n",
    "        int medianIndex, \n",
    "        int tailIndex\n",
    "    ) {\n",
    "        // Copy the left and the right slices into buffer.\n",
    "        for (int index = headIndex; index <= tailIndex; index++) {\n",
    "            buffer[index] = S[index];\n",
    "        }\n",
    "        \n",
    "        int lowerIndex = headIndex;\n",
    "        int upperIndex = medianIndex + 1;\n",
    "        int index = headIndex;\n",
    "        \n",
    "        /*\n",
    "         * Take the minimum of the left and the right slice \n",
    "         * until one is empty.\n",
    "         */\n",
    "        while (lowerIndex <= medianIndex && upperIndex <= tailIndex) {\n",
    "            if (buffer[lowerIndex] <= buffer[upperIndex]) {\n",
    "                S[index++] = buffer[lowerIndex++];\n",
    "            } else {\n",
    "                S[index++] = buffer[upperIndex++];\n",
    "            }\n",
    "        }\n",
    "        \n",
    "        // Flush the left slice.\n",
    "        while (lowerIndex <= medianIndex) {\n",
    "            S[index++] = buffer[lowerIndex++];\n",
    "        }\n",
    "        \n",
    "        // Flush the right slice.\n",
    "        while (upperIndex <= tailIndex) {\n",
    "            S[index++] = buffer[upperIndex++];\n",
    "        }\n",
    "    }\n",
    "    \n",
    "}"
   ]
  },
  {
   "cell_type": "code",
   "execution_count": 4,
   "metadata": {},
   "outputs": [
    {
     "name": "stdout",
     "output_type": "stream",
     "text": [
      "[0, 1, 2, 2, 4, 5, 6, 7]\n"
     ]
    },
    {
     "data": {
      "text/plain": [
       "null"
      ]
     },
     "execution_count": 4,
     "metadata": {},
     "output_type": "execute_result"
    }
   ],
   "source": [
    "package sorting.merge_sort;\n",
    "\n",
    "import java.util.Arrays;\n",
    "\n",
    "int[] S = new int[] {7, 5, 0, 1, 6, 2, 4, 2};\n",
    "int[] buffer = new int[S.length];\n",
    "\n",
    "MergeSort.mergeSort(S, buffer, 0, S.length - 1);\n",
    "\n",
    "System.out.println(Arrays.toString(S));"
   ]
  },
  {
   "cell_type": "markdown",
   "metadata": {},
   "source": [
    "## Quick Sort ($O(n\\log(n))$)"
   ]
  },
  {
   "cell_type": "code",
   "execution_count": 5,
   "metadata": {},
   "outputs": [
    {
     "data": {
      "text/plain": [
       "sorting.quick_sort.QuickSort"
      ]
     },
     "execution_count": 5,
     "metadata": {},
     "output_type": "execute_result"
    }
   ],
   "source": [
    "package sorting.quick_sort;\n",
    "\n",
    "class QuickSort {\n",
    "    \n",
    "    public static void quickSort(int[] S, int headIndex, int tailIndex) {\n",
    "        if (headIndex >= tailIndex) {\n",
    "            return;\n",
    "        }\n",
    "        \n",
    "        final int pivotIndex = partition(S, headIndex, tailIndex);\n",
    "        quickSort(S, headIndex, pivotIndex - 1);\n",
    "        quickSort(S, pivotIndex + 1, tailIndex);\n",
    "    }\n",
    "    \n",
    "    /*\n",
    "     * Partition the array with the sentinel as the pivot.\n",
    "     * All elements before the sentinel should be less \n",
    "     * than the sentinel.\n",
    "     * All elements after the sentinel should be greater \n",
    "     * than the sentinel.\n",
    "     */\n",
    "    private static int partition(int[] S, int headIndex, int tailIndex) {\n",
    "        // Choose the head as the sentinel.\n",
    "        final int sentinel = S[headIndex];\n",
    "\n",
    "        int lowerIndex = headIndex;\n",
    "        int upperIndex = tailIndex + 1;\n",
    "        while (true) {\n",
    "            /*\n",
    "             * Find the first element starting up from lower index \n",
    "             * that is greater than the sentinel.\n",
    "             */\n",
    "            while (S[++lowerIndex] < sentinel && lowerIndex < tailIndex);\n",
    "            \n",
    "            /*\n",
    "             * Find the first element starting down from upper index \n",
    "             * that is lesser than the sentinel.\n",
    "             */\n",
    "            while (S[--upperIndex] > sentinel && upperIndex > headIndex);\n",
    "            \n",
    "            if (lowerIndex >= upperIndex) {\n",
    "                break;\n",
    "            }\n",
    "            \n",
    "            /*\n",
    "             * Swap an element lesser than the sentinel with \n",
    "             * an element greater than the sentinel.\n",
    "             */\n",
    "            final int temporary = S[lowerIndex];\n",
    "            S[lowerIndex] = S[upperIndex];\n",
    "            S[upperIndex] = temporary;\n",
    "        }\n",
    "        \n",
    "        // Swap sentinel to its pivot location.\n",
    "        S[headIndex] = S[upperIndex];\n",
    "        S[upperIndex] = sentinel;\n",
    "        \n",
    "        return upperIndex;\n",
    "    }\n",
    "    \n",
    "}"
   ]
  },
  {
   "cell_type": "code",
   "execution_count": 6,
   "metadata": {},
   "outputs": [
    {
     "name": "stdout",
     "output_type": "stream",
     "text": [
      "[0, 1, 2, 2, 4, 5, 6, 7]\n"
     ]
    },
    {
     "data": {
      "text/plain": [
       "null"
      ]
     },
     "execution_count": 6,
     "metadata": {},
     "output_type": "execute_result"
    }
   ],
   "source": [
    "package sorting.quick_sort;\n",
    "\n",
    "import java.util.Arrays;\n",
    "\n",
    "int[] S = new int[] {7, 5, 0, 1, 6, 2, 4, 2};\n",
    "\n",
    "QuickSort.quickSort(S, 0, S.length - 1);\n",
    "\n",
    "System.out.println(Arrays.toString(S));"
   ]
  },
  {
   "cell_type": "markdown",
   "metadata": {},
   "source": [
    "## Counting Sort ($O(n)$)"
   ]
  },
  {
   "cell_type": "code",
   "execution_count": 7,
   "metadata": {},
   "outputs": [
    {
     "data": {
      "text/plain": [
       "sorting.counting_sort.CountingSort"
      ]
     },
     "execution_count": 7,
     "metadata": {},
     "output_type": "execute_result"
    }
   ],
   "source": [
    "package sorting.counting_sort;\n",
    "\n",
    "class CountingSort {\n",
    "    \n",
    "    public static void countingSort(int[] S, int cardinality) {\n",
    "        final int[] counts = new int[cardinality];\n",
    "        final int[] buffer = new int[S.length];\n",
    "        \n",
    "        // Count all distinct elements in S.\n",
    "        for (int index = 0; index < S.length; index++) {\n",
    "            counts[S[index]]++;\n",
    "        }\n",
    "        \n",
    "        /*\n",
    "         * Inductively, augment counts to contain the sorted positions.\n",
    "         *\n",
    "         * Intuition: You can only be inserted into the sorted array,\n",
    "         * until after all values smaller than you have been inserted.\n",
    "         */\n",
    "        for (int index = 1; index < cardinality; index++) {\n",
    "            counts[index] += counts[index - 1];\n",
    "        }\n",
    "        \n",
    "        // Map S to its sorted positions into buffer.\n",
    "        for (int index = 0; index < S.length; index++) {\n",
    "            /*\n",
    "             * Decrement because counts start from 1, \n",
    "             * and array indices start from 0.\n",
    "             */\n",
    "            buffer[--counts[S[index]]] = S[index];\n",
    "        }\n",
    "        \n",
    "        // Flush the buffer into S.\n",
    "        for (int index = 0; index < S.length; index++) {\n",
    "            S[index] = buffer[index];\n",
    "        }\n",
    "    }\n",
    "    \n",
    "}"
   ]
  },
  {
   "cell_type": "code",
   "execution_count": 8,
   "metadata": {},
   "outputs": [
    {
     "name": "stdout",
     "output_type": "stream",
     "text": [
      "[0, 1, 2, 2, 4, 5, 6, 7]\n"
     ]
    },
    {
     "data": {
      "text/plain": [
       "null"
      ]
     },
     "execution_count": 8,
     "metadata": {},
     "output_type": "execute_result"
    }
   ],
   "source": [
    "package sorting.counting_sort;\n",
    "\n",
    "import java.util.Arrays;\n",
    "\n",
    "int[] S = new int[] {7, 5, 0, 1, 6, 2, 4, 2};\n",
    "\n",
    "CountingSort.countingSort(S, 8);\n",
    "\n",
    "System.out.println(Arrays.toString(S));"
   ]
  },
  {
   "cell_type": "markdown",
   "metadata": {},
   "source": [
    "## Radix Sort ($O(n)$)"
   ]
  },
  {
   "cell_type": "code",
   "execution_count": 9,
   "metadata": {},
   "outputs": [
    {
     "data": {
      "text/plain": [
       "sorting.radix_sort.RadixSort"
      ]
     },
     "execution_count": 9,
     "metadata": {},
     "output_type": "execute_result"
    }
   ],
   "source": [
    "package sorting.radix_sort;\n",
    "\n",
    "import java.util.Arrays;\n",
    "import java.util.Collections;\n",
    "\n",
    "class RadixSort {\n",
    "    \n",
    "    /*\n",
    "     * Because counting sort is stable, \n",
    "     * we can sort S by digits of 10 from 1s to 10...0s.\n",
    "     */\n",
    "    public static void radixSort(int[] S) {\n",
    "        int maximum = S[0];\n",
    "        \n",
    "        for (int index = 0; index < S.length; index++) {\n",
    "            if (maximum < S[index]) {\n",
    "                maximum = S[index];\n",
    "            }\n",
    "        }\n",
    "        \n",
    "        for (int exp = 1; (maximum / exp) > 0; exp *= 10) {\n",
    "            countingSort(S, exp);\n",
    "        }\n",
    "    }\n",
    "    \n",
    "    private static void countingSort(int[] S, int exp) {\n",
    "        final int[] counts = new int[10];\n",
    "        final int[] buffer = new int[S.length];\n",
    "        \n",
    "        for (int index = 0; index < S.length; index++) {\n",
    "            counts[(S[index] / exp) % 10]++;\n",
    "        }\n",
    "        \n",
    "        for (int index = 1; index < 10; index++) {\n",
    "            counts[index] += counts[index - 1];\n",
    "        }\n",
    "        \n",
    "        for (int index = 0; index < S.length; index++) {\n",
    "            buffer[--counts[(S[index] / exp) % 10]] = S[index];\n",
    "        }\n",
    "        \n",
    "        for (int index = 0; index < S.length; index++) {\n",
    "            S[index] = buffer[index];\n",
    "        }\n",
    "    }\n",
    "    \n",
    "}"
   ]
  },
  {
   "cell_type": "code",
   "execution_count": 10,
   "metadata": {},
   "outputs": [
    {
     "name": "stdout",
     "output_type": "stream",
     "text": [
      "[0, 1, 2, 2, 4, 5, 6, 7]\n"
     ]
    },
    {
     "data": {
      "text/plain": [
       "null"
      ]
     },
     "execution_count": 10,
     "metadata": {},
     "output_type": "execute_result"
    }
   ],
   "source": [
    "package sorting.radix_sort;\n",
    "\n",
    "import java.util.Arrays;\n",
    "\n",
    "int[] S = new int[] {7, 5, 0, 1, 6, 2, 4, 2};\n",
    "\n",
    "RadixSort.radixSort(S);\n",
    "\n",
    "System.out.println(Arrays.toString(S));"
   ]
  },
  {
   "cell_type": "markdown",
   "metadata": {},
   "source": [
    "## Binary Search\n",
    "If an array is sorted, binary search can test whether an element exists in $O(\\log(n)$ time."
   ]
  },
  {
   "cell_type": "code",
   "execution_count": 11,
   "metadata": {},
   "outputs": [
    {
     "data": {
      "text/plain": [
       "sorting.binary_search.BinarySearch"
      ]
     },
     "execution_count": 11,
     "metadata": {},
     "output_type": "execute_result"
    }
   ],
   "source": [
    "package sorting.binary_search;\n",
    "\n",
    "class BinarySearch {\n",
    "\n",
    "    // Classic:\n",
    "    public static int binarySearch(int[] S, int key) {\n",
    "        int headIndex = 0;\n",
    "        int tailIndex = S.length - 1;\n",
    "\n",
    "        while (headIndex <= tailIndex) {\n",
    "            final int medianIndex = headIndex + (tailIndex - headIndex) / 2;\n",
    "\n",
    "            if (key < S[medianIndex]) {\n",
    "                tailIndex = medianIndex - 1;\n",
    "            } else if (key > S[medianIndex]) {\n",
    "                headIndex = medianIndex + 1;\n",
    "            } else {\n",
    "                return medianIndex;\n",
    "            }\n",
    "        }\n",
    "\n",
    "        return -1;\n",
    "    }\n",
    "    \n",
    "    // Alternative:\n",
    "    // Advantage: Returns where key should be inserted.\n",
    "    public static int alternativeSearch(int[] S, int key) {\n",
    "        int index = 0;\n",
    "        \n",
    "        for (int offset = S.length / 2; offset >= 1; offset /= 2) {\n",
    "            while ((index + offset) < S.length && S[index + offset] <= key) {\n",
    "                index += offset;\n",
    "            }\n",
    "        }\n",
    "        \n",
    "        return index;\n",
    "    }\n",
    "\n",
    "}"
   ]
  },
  {
   "cell_type": "markdown",
   "metadata": {},
   "source": [
    "## Application: Uniqueness Testing\n",
    "1. Sort a collection by increasing order such that any repeated items will be adjacent to each other.\n",
    "2. Traverse through the collection testing if `S[i - 1] == S[i]` to find duplicates."
   ]
  },
  {
   "cell_type": "code",
   "execution_count": 12,
   "metadata": {},
   "outputs": [
    {
     "name": "stdout",
     "output_type": "stream",
     "text": [
      "Not Unique\n"
     ]
    },
    {
     "data": {
      "text/plain": [
       "null"
      ]
     },
     "execution_count": 12,
     "metadata": {},
     "output_type": "execute_result"
    }
   ],
   "source": [
    "import java.util.Arrays;\n",
    "\n",
    "int[] S = new int[] {7, 5, 0, 1, 6, 2, 4, 2};\n",
    "\n",
    "Arrays.sort(S);\n",
    "\n",
    "for (int i = 1; i < S.length; i++) {\n",
    "    if (S[i - 1] == S[i]) {\n",
    "        System.out.println(\"Not Unique\");\n",
    "    }\n",
    "}"
   ]
  },
  {
   "cell_type": "markdown",
   "metadata": {},
   "source": [
    "## Applications: Deleting Duplicates\n",
    "1. Sort a collection by increasing order such that any repeated items will be adjacent to each other.\n",
    "2. Traverse through the collection testing if `S[back] != S[i]`.\n",
    "3. If `S[back] != S[i]`, increment `back` and copy `S[i]` to `S[back]`."
   ]
  },
  {
   "cell_type": "code",
   "execution_count": 13,
   "metadata": {},
   "outputs": [
    {
     "name": "stdout",
     "output_type": "stream",
     "text": [
      "[0, 1, 2, 4, 5, 6, 7]\n"
     ]
    },
    {
     "data": {
      "text/plain": [
       "null"
      ]
     },
     "execution_count": 13,
     "metadata": {},
     "output_type": "execute_result"
    }
   ],
   "source": [
    "import java.util.Arrays;\n",
    "\n",
    "int[] S = new int[] {7, 5, 0, 1, 6, 2, 4, 2};\n",
    "\n",
    "Arrays.sort(S);\n",
    "\n",
    "int back = 0;\n",
    "int length = S.length;\n",
    "\n",
    "for (int i = 1; i < S.length; i++) {\n",
    "    if (S[back] != S[i]) {\n",
    "        back++;\n",
    "        S[back] = S[i];\n",
    "    } else {\n",
    "        length--;\n",
    "    }\n",
    "}\n",
    "\n",
    "S = Arrays.copyOf(S, length);\n",
    "\n",
    "System.out.println(Arrays.toString(S));"
   ]
  },
  {
   "cell_type": "markdown",
   "metadata": {},
   "source": [
    "## Applications: Prioritizing Events\n",
    "1. Sort the events by increasing deadlines.\n",
    "    - Although a priority queue can be used, sorting is sufficient if the set of events does not change during execution."
   ]
  },
  {
   "cell_type": "code",
   "execution_count": 14,
   "metadata": {},
   "outputs": [
    {
     "data": {
      "text/plain": [
       "sorting.prioritizing_events.Event"
      ]
     },
     "execution_count": 14,
     "metadata": {},
     "output_type": "execute_result"
    }
   ],
   "source": [
    "package sorting.prioritizing_events;\n",
    "\n",
    "class Event {\n",
    "    public int date;\n",
    "    public int item;\n",
    "    \n",
    "    public Event(int date, int item) {\n",
    "        this.date = date;\n",
    "        this.item = item;\n",
    "    }\n",
    "    \n",
    "    @Override\n",
    "    public String toString() {\n",
    "        return String.format(\n",
    "            \"Event(date=%d,item=%d)\", \n",
    "            this.date, \n",
    "            this.item\n",
    "        );\n",
    "    }\n",
    "}"
   ]
  },
  {
   "cell_type": "code",
   "execution_count": 15,
   "metadata": {},
   "outputs": [
    {
     "data": {
      "text/plain": [
       "sorting.prioritizing_events.EventDateComparator"
      ]
     },
     "execution_count": 15,
     "metadata": {},
     "output_type": "execute_result"
    }
   ],
   "source": [
    "package sorting.prioritizing_events;\n",
    "\n",
    "import java.lang.Integer;\n",
    "import java.util.Comparator;\n",
    "\n",
    "class EventDateComparator implements Comparator<Event> {\n",
    "    \n",
    "    @Override\n",
    "    public int compare(Event o1, Event o2) {\n",
    "        return Integer.compare(o1.date, o2.date);\n",
    "    }\n",
    "    \n",
    "}"
   ]
  },
  {
   "cell_type": "code",
   "execution_count": 16,
   "metadata": {},
   "outputs": [
    {
     "name": "stdout",
     "output_type": "stream",
     "text": [
      "[Event(date=0,item=1), Event(date=4,item=2), Event(date=6,item=2), Event(date=7,item=5)]\n"
     ]
    },
    {
     "data": {
      "text/plain": [
       "null"
      ]
     },
     "execution_count": 16,
     "metadata": {},
     "output_type": "execute_result"
    }
   ],
   "source": [
    "package sorting.prioritizing_events;\n",
    "\n",
    "import java.util.Arrays;\n",
    "\n",
    "Event[] S = new Event[] {\n",
    "    new Event(7, 5), \n",
    "    new Event(0, 1), \n",
    "    new Event(6, 2), \n",
    "    new Event(4, 2)\n",
    "};\n",
    "\n",
    "Arrays.sort(S, new EventDateComparator());\n",
    "\n",
    "System.out.println(Arrays.toString(S));"
   ]
  },
  {
   "cell_type": "markdown",
   "metadata": {},
   "source": [
    "## Applications: Median/Selection\n",
    "1. Sort a collection by increasing order to retrieve the $k$th largest item."
   ]
  },
  {
   "cell_type": "code",
   "execution_count": 17,
   "metadata": {},
   "outputs": [
    {
     "name": "stdout",
     "output_type": "stream",
     "text": [
      "Minimum: 0\n",
      "Maximum: 7\n",
      "Median: 4\n"
     ]
    },
    {
     "data": {
      "text/plain": [
       "null"
      ]
     },
     "execution_count": 17,
     "metadata": {},
     "output_type": "execute_result"
    }
   ],
   "source": [
    "import java.util.Arrays;\n",
    "\n",
    "int[] S = new int[] {7, 5, 0, 1, 6, 2, 4, 2};\n",
    "\n",
    "Arrays.sort(S);\n",
    "\n",
    "System.out.println(String.format(\"Minimum: %d\", S[0]));\n",
    "System.out.println(String.format(\"Maximum: %d\", S[S.length - 1]));\n",
    "System.out.println(String.format(\"Median: %d\", S[S.length / 2]));"
   ]
  },
  {
   "cell_type": "markdown",
   "metadata": {},
   "source": [
    "## Applications: Frequency Counting\n",
    "1. Sort a collection by increasing order such that any repeated items will be adjacent to each other.\n",
    "2. Traverse through the collection testing if `S[i - 1] == S[i]` to maintain a running count or frequency of the item until `S[i - 1] != S[i]`."
   ]
  },
  {
   "cell_type": "code",
   "execution_count": 18,
   "metadata": {},
   "outputs": [
    {
     "name": "stdout",
     "output_type": "stream",
     "text": [
      "Frequency of 0: 2\n",
      "Frequency of 1: 5\n",
      "Frequency of 2: 1\n",
      "Frequency of 3: 1\n",
      "Frequency of 4: 4\n",
      "Frequency of 5: 1\n",
      "Frequency of 6: 1\n",
      "Frequency of 7: 1\n"
     ]
    },
    {
     "data": {
      "text/plain": [
       "null"
      ]
     },
     "execution_count": 18,
     "metadata": {},
     "output_type": "execute_result"
    }
   ],
   "source": [
    "import java.util.Arrays;\n",
    "\n",
    "int[] S = new int[] {4, 4, 1, 2, 0, 1, 3, 6, 5, 1, 0, 7, 1, 4, 1, 4};\n",
    "\n",
    "Arrays.sort(S);\n",
    "\n",
    "int frequency = 1;\n",
    "\n",
    "for (int i = 1; i < S.length; i++) {\n",
    "    if (S[i - 1] != S[i]) {\n",
    "        System.out.println(\n",
    "            String.format(\"Frequency of %d: %d\", S[i - 1], frequency)\n",
    "        );\n",
    "        frequency = 1;\n",
    "    } else {\n",
    "        frequency++;\n",
    "    }\n",
    "}\n",
    "\n",
    "System.out.println(\n",
    "    String.format(\"Frequency of %d: %d\", S[S.length - 1], frequency)\n",
    ");"
   ]
  },
  {
   "cell_type": "markdown",
   "metadata": {},
   "source": [
    "## Applications: Set Intersection/Union\n",
    "1. If both sets have been sorted, they can be merged by repeatedly taking the smaller of the two head elements, placing them into the new set if desired, and then deleting the head from the appropriate list."
   ]
  },
  {
   "cell_type": "code",
   "execution_count": 19,
   "metadata": {},
   "outputs": [
    {
     "name": "stdout",
     "output_type": "stream",
     "text": [
      "Union: [0, 1, 2, 3, 4, 5, 6, 7]\n"
     ]
    },
    {
     "data": {
      "text/plain": [
       "null"
      ]
     },
     "execution_count": 19,
     "metadata": {},
     "output_type": "execute_result"
    }
   ],
   "source": [
    "import java.util.Arrays;\n",
    "\n",
    "int[] A = new int[] {7, 4, 5, 0, 6, 3};\n",
    "int[] B = new int[] {5, 0, 4, 1, 7, 2};\n",
    "int[] C = new int[A.length + B.length];\n",
    "\n",
    "Arrays.sort(A);\n",
    "Arrays.sort(B);\n",
    "\n",
    "int i = 0;\n",
    "int j = 0;\n",
    "int k = 0;\n",
    "\n",
    "while (i < A.length && j < B.length) {\n",
    "    if (A[i] < B[j]) {\n",
    "        C[k++] = A[i++];\n",
    "    } else if (A[i] > B[j]) {\n",
    "        C[k++] = B[j++];\n",
    "    } else {\n",
    "        C[k++] = A[i];\n",
    "        i++;\n",
    "        j++;\n",
    "    }\n",
    "}\n",
    "\n",
    "while (i < A.length) {\n",
    "    C[k++] = A[i++];\n",
    "}\n",
    "\n",
    "while (i < B.length) {\n",
    "    C[k++] = B[j++];\n",
    "}\n",
    "\n",
    "C = Arrays.copyOf(C, k);\n",
    "\n",
    "System.out.println(String.format(\"Union: %s\", Arrays.toString(C)));"
   ]
  },
  {
   "cell_type": "code",
   "execution_count": 20,
   "metadata": {},
   "outputs": [
    {
     "name": "stdout",
     "output_type": "stream",
     "text": [
      "Intersection: [0, 4, 5, 7]\n"
     ]
    },
    {
     "data": {
      "text/plain": [
       "null"
      ]
     },
     "execution_count": 20,
     "metadata": {},
     "output_type": "execute_result"
    }
   ],
   "source": [
    "import java.lang.Math;\n",
    "import java.util.Arrays;\n",
    "\n",
    "int[] A = new int[] {7, 4, 5, 0, 6, 3};\n",
    "int[] B = new int[] {5, 0, 4, 1, 7, 2};\n",
    "int[] C = new int[Math.min(A.length, B.length)];\n",
    "\n",
    "Arrays.sort(A);\n",
    "Arrays.sort(B);\n",
    "\n",
    "int i = 0;\n",
    "int j = 0;\n",
    "int k = 0;\n",
    "\n",
    "while (i < A.length && j < B.length) {\n",
    "    if (A[i] < B[j]) {\n",
    "        i++;\n",
    "    } else if (A[i] > B[j]) {\n",
    "        j++;\n",
    "    } else {\n",
    "        C[k++] = A[i];\n",
    "        i++;\n",
    "        j++;\n",
    "    }\n",
    "}\n",
    "\n",
    "C = Arrays.copyOf(C, k);\n",
    "\n",
    "System.out.println(String.format(\"Intersection: %s\", Arrays.toString(C)));"
   ]
  },
  {
   "cell_type": "markdown",
   "metadata": {},
   "source": [
    "## Applications: Finding a Target Pair (`x + y == z`)\n",
    "1. Sort a collection by increasing order.\n",
    "2. Traverse through the collection.\n",
    "3. As `S[i]` increases with `i`, decrease `j` such that `(S[i] + S[j]) == z`."
   ]
  },
  {
   "cell_type": "code",
   "execution_count": 21,
   "metadata": {},
   "outputs": [
    {
     "name": "stdout",
     "output_type": "stream",
     "text": [
      "0 + 3 = 3\n"
     ]
    },
    {
     "data": {
      "text/plain": [
       "null"
      ]
     },
     "execution_count": 21,
     "metadata": {},
     "output_type": "execute_result"
    }
   ],
   "source": [
    "import java.util.Arrays;\n",
    "\n",
    "int[] S = new int[] {7, 5, 0, 1, 6, 3, 4, 2};\n",
    "\n",
    "Arrays.sort(S);\n",
    "\n",
    "int i = 0;\n",
    "int j = S.length - 1;\n",
    "while (i < S.length && j >= 0) {\n",
    "    if ((S[i] + S[j]) == 3) {\n",
    "        System.out.println(String.format(\"%d + %d = 3\", S[i], S[j]));\n",
    "        break;\n",
    "    } else if ((S[i] + S[j]) > 3) {\n",
    "        j--;\n",
    "    } else {\n",
    "        i++;\n",
    "    }\n",
    "}"
   ]
  },
  {
   "cell_type": "markdown",
   "metadata": {},
   "source": [
    "## Applications: Efficient Searching\n",
    "1. Sort a collection by increasing order.\n",
    "2. Use binary search to test whether an element exists."
   ]
  },
  {
   "cell_type": "code",
   "execution_count": 22,
   "metadata": {},
   "outputs": [
    {
     "name": "stdout",
     "output_type": "stream",
     "text": [
      "Exists: true\n"
     ]
    },
    {
     "data": {
      "text/plain": [
       "null"
      ]
     },
     "execution_count": 22,
     "metadata": {},
     "output_type": "execute_result"
    }
   ],
   "source": [
    "import java.util.Arrays;\n",
    "\n",
    "int[] S = new int[] {7, 5, 0, 1, 6, 2, 4, 2};\n",
    "\n",
    "Arrays.sort(S);\n",
    "\n",
    "System.out.println(\n",
    "    String.format(\"Exists: %b\", S[Arrays.binarySearch(S, 1)] == S[1])\n",
    ");"
   ]
  }
 ],
 "metadata": {
  "kernelspec": {
   "display_name": "Java",
   "language": "java",
   "name": "java"
  },
  "language_info": {
   "codemirror_mode": "text/x-java",
   "file_extension": ".java",
   "mimetype": "",
   "name": "Java",
   "nbconverter_exporter": "",
   "version": "11.0.1"
  },
  "toc": {
   "base_numbering": 1,
   "nav_menu": {},
   "number_sections": false,
   "sideBar": false,
   "skip_h1_title": false,
   "title_cell": "Table of Contents",
   "title_sidebar": "Contents",
   "toc_cell": false,
   "toc_position": {},
   "toc_section_display": false,
   "toc_window_display": false
  }
 },
 "nbformat": 4,
 "nbformat_minor": 2
}
