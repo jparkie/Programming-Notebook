{
 "cells": [
  {
   "cell_type": "markdown",
   "metadata": {},
   "source": [
    "# Bit Hacks\n",
    "*Author: Jacob Park*"
   ]
  },
  {
   "cell_type": "markdown",
   "metadata": {},
   "source": [
    "## Bit Array"
   ]
  },
  {
   "cell_type": "code",
   "execution_count": 1,
   "metadata": {},
   "outputs": [
    {
     "data": {
      "text/plain": [
       "bit_hacks.bit_array.BitArray"
      ]
     },
     "execution_count": 1,
     "metadata": {},
     "output_type": "execute_result"
    }
   ],
   "source": [
    "package bit_hacks.bit_array;\n",
    "\n",
    "import java.io.DataInputStream;\n",
    "import java.io.DataOutputStream;\n",
    "import java.io.IOException;\n",
    "import java.util.Arrays;\n",
    "\n",
    "public final class BitArray {\n",
    "    \n",
    "    private final long[] data;\n",
    "    private long bitCount;\n",
    "\n",
    "    public BitArray(long numBits) {\n",
    "        this(new long[numWords(numBits)]);\n",
    "    }\n",
    "\n",
    "    private BitArray(long[] data) {\n",
    "        this.data = data;\n",
    "        long bitCount = 0;\n",
    "        for (long word : data) {\n",
    "            bitCount += Long.bitCount(word);\n",
    "        }\n",
    "        this.bitCount = bitCount;\n",
    "    }\n",
    "\n",
    "    private static int numWords(long numBits) {\n",
    "        if (numBits <= 0) {\n",
    "            final String error = String.format(\n",
    "                \"numBits must be positive, but got %d\", numBits);\n",
    "            throw new IllegalArgumentException(error);\n",
    "        }\n",
    "        final long numWords = (long) Math.ceil(numBits / 64D);\n",
    "        if (numWords > Integer.MAX_VALUE) {\n",
    "            final String error = String.format(\n",
    "                \"Cannot allocate enough space for %d bits\", numBits);\n",
    "            throw new IllegalArgumentException(error);\n",
    "        }\n",
    "        return (int) numWords;\n",
    "    }\n",
    "\n",
    "    public boolean get(long index) {\n",
    "        final int arrayIndex = (int)(index >>> 6);\n",
    "        final long bitMask = 1L << index;\n",
    "        return (data[arrayIndex] & bitMask) != 0;\n",
    "    }\n",
    "\n",
    "    public boolean set(long index) {\n",
    "        final int arrayIndex = (int)(index >>> 6);\n",
    "        final long bitMask = 1L << index;\n",
    "        if ((data[arrayIndex] & bitMask) == 0) {\n",
    "            data[arrayIndex] |= bitMask;\n",
    "            bitCount++;\n",
    "            return true;\n",
    "        }\n",
    "        return false;\n",
    "    }\n",
    "\n",
    "    public boolean clear(long index) {\n",
    "        final int arrayIndex = (int)(index >>> 6);\n",
    "        final long bitMask = 1L << index;\n",
    "        if ((data[arrayIndex] & bitMask) != 0) {\n",
    "            data[arrayIndex] &= ~bitMask;\n",
    "            bitCount--;\n",
    "            return true;\n",
    "        }\n",
    "        return false;\n",
    "    }\n",
    "\n",
    "    public long bitSize() {\n",
    "        return (long) data.length * Long.SIZE;\n",
    "    }\n",
    "\n",
    "    public long bitCount() {\n",
    "        return bitCount;\n",
    "    }\n",
    "\n",
    "    public void putAll(BitArray array) {\n",
    "        if (data.length != array.data.length) {\n",
    "            final String error = String.format(\n",
    "                    \"BitArrays must be of equal length (%d != %d)\",\n",
    "                    data.length,\n",
    "                    array.data.length);\n",
    "            throw new IllegalArgumentException(error);\n",
    "        }\n",
    "        long bitCount = 0;\n",
    "        for (int i = 0; i < data.length; i++) {\n",
    "            data[i] |= array.data[i];\n",
    "            bitCount += Long.bitCount(data[i]);\n",
    "        }\n",
    "        this.bitCount = bitCount;\n",
    "    }\n",
    "    \n",
    "    public void writeTo(DataOutputStream out) throws IOException {\n",
    "        out.writeInt(data.length);\n",
    "        for (long datum : data) {\n",
    "            out.writeLong(datum);\n",
    "        }\n",
    "    }\n",
    "\n",
    "    public static BitArray readFrom(DataInputStream in) throws IOException {\n",
    "        final int numWords = in.readInt();\n",
    "        long[] data = new long[numWords];\n",
    "        for (int i = 0; i < numWords; i++) {\n",
    "            data[i] = in.readLong();\n",
    "        }\n",
    "        return new BitArray(data);\n",
    "    }\n",
    "\n",
    "    @Override\n",
    "    public boolean equals(Object other) {\n",
    "        if (this == other) {\n",
    "            return true;\n",
    "        }\n",
    "        if (other == null || getClass() != other.getClass()) {\n",
    "            return false;\n",
    "        }\n",
    "        final BitArray that = (BitArray) other;\n",
    "        return Arrays.equals(data, that.data);\n",
    "    }\n",
    "\n",
    "    @Override\n",
    "    public int hashCode() {\n",
    "        return Arrays.hashCode(data);\n",
    "    }\n",
    "    \n",
    "}"
   ]
  },
  {
   "cell_type": "markdown",
   "metadata": {},
   "source": [
    "## Standard Library API\n",
    "[See Link](https://docs.oracle.com/javase/8/docs/api/?java/lang/Integer.html).<br/>\n",
    "[See Link](https://docs.oracle.com/javase/8/docs/api/java/lang/Long.html).<br/>"
   ]
  },
  {
   "cell_type": "markdown",
   "metadata": {},
   "source": [
    "### Bit Count\n",
    "\n",
    "- Returns the number of one-bits in the two's complement binary representation of the specified value."
   ]
  },
  {
   "cell_type": "code",
   "execution_count": 2,
   "metadata": {},
   "outputs": [
    {
     "name": "stdout",
     "output_type": "stream",
     "text": [
      "2\n",
      "2\n"
     ]
    },
    {
     "data": {
      "text/plain": [
       "null"
      ]
     },
     "execution_count": 2,
     "metadata": {},
     "output_type": "execute_result"
    }
   ],
   "source": [
    "package bit_hacks.bit_count;\n",
    "\n",
    "System.out.println(Integer.bitCount(3));\n",
    "System.out.println(Long.bitCount(3));"
   ]
  },
  {
   "cell_type": "markdown",
   "metadata": {},
   "source": [
    "### Highest One Bit\n",
    "\n",
    "- Returns a value with at most a single one-bit, in the position of the highest-order (\"leftmost\") one-bit in the specified value."
   ]
  },
  {
   "cell_type": "code",
   "execution_count": 3,
   "metadata": {},
   "outputs": [
    {
     "name": "stdout",
     "output_type": "stream",
     "text": [
      "2\n",
      "2\n"
     ]
    },
    {
     "data": {
      "text/plain": [
       "null"
      ]
     },
     "execution_count": 3,
     "metadata": {},
     "output_type": "execute_result"
    }
   ],
   "source": [
    "package bit_hacks.highest_one_bit;\n",
    "\n",
    "System.out.println(Integer.highestOneBit(3));\n",
    "System.out.println(Long.highestOneBit(3));"
   ]
  },
  {
   "cell_type": "markdown",
   "metadata": {},
   "source": [
    "### Lowest One Bit\n",
    "\n",
    "- Returns a value with at most a single one-bit, in the position of the lowest-order (\"rightmost\") one-bit in the specified value."
   ]
  },
  {
   "cell_type": "code",
   "execution_count": 4,
   "metadata": {},
   "outputs": [
    {
     "name": "stdout",
     "output_type": "stream",
     "text": [
      "1\n",
      "1\n"
     ]
    },
    {
     "data": {
      "text/plain": [
       "null"
      ]
     },
     "execution_count": 4,
     "metadata": {},
     "output_type": "execute_result"
    }
   ],
   "source": [
    "package bit_hacks.lowest_one_bit;\n",
    "\n",
    "System.out.println(Integer.lowestOneBit(3));\n",
    "System.out.println(Long.lowestOneBit(3));"
   ]
  },
  {
   "cell_type": "markdown",
   "metadata": {},
   "source": [
    "### Number of Leading Zeros\n",
    "\n",
    "- Returns the number of zero bits preceding the highest-order (\"leftmost\") one-bit in the two's complement binary representation of the specified value."
   ]
  },
  {
   "cell_type": "code",
   "execution_count": 5,
   "metadata": {},
   "outputs": [
    {
     "name": "stdout",
     "output_type": "stream",
     "text": [
      "30\n",
      "62\n"
     ]
    },
    {
     "data": {
      "text/plain": [
       "null"
      ]
     },
     "execution_count": 5,
     "metadata": {},
     "output_type": "execute_result"
    }
   ],
   "source": [
    "package bit_hacks.number_of_leading_zeros;\n",
    "\n",
    "System.out.println(Integer.numberOfLeadingZeros(3));\n",
    "System.out.println(Long.numberOfLeadingZeros(3));"
   ]
  },
  {
   "cell_type": "markdown",
   "metadata": {},
   "source": [
    "### Number of Trailing Zeros\n",
    "\n",
    "- Returns the number of zero bits following the lowest-order (\"rightmost\") one-bit in the two's complement binary representation of the specified value."
   ]
  },
  {
   "cell_type": "code",
   "execution_count": 6,
   "metadata": {},
   "outputs": [
    {
     "name": "stdout",
     "output_type": "stream",
     "text": [
      "0\n",
      "0\n"
     ]
    },
    {
     "data": {
      "text/plain": [
       "null"
      ]
     },
     "execution_count": 6,
     "metadata": {},
     "output_type": "execute_result"
    }
   ],
   "source": [
    "package bit_hacks.number_of_trailing_zeros;\n",
    "\n",
    "System.out.println(Integer.numberOfTrailingZeros(3));\n",
    "System.out.println(Long.numberOfTrailingZeros(3));"
   ]
  },
  {
   "cell_type": "markdown",
   "metadata": {},
   "source": [
    "### Reverse\n",
    "\n",
    "- Returns the value obtained by reversing the order of the bits in the two's complement binary representation of the specified value."
   ]
  },
  {
   "cell_type": "code",
   "execution_count": 7,
   "metadata": {},
   "outputs": [
    {
     "name": "stdout",
     "output_type": "stream",
     "text": [
      "-1073741824\n",
      "-4611686018427387904\n"
     ]
    },
    {
     "data": {
      "text/plain": [
       "null"
      ]
     },
     "execution_count": 7,
     "metadata": {},
     "output_type": "execute_result"
    }
   ],
   "source": [
    "package bit_hacks.reverse;\n",
    "\n",
    "System.out.println(Integer.reverse(3));\n",
    "System.out.println(Long.reverse(3));"
   ]
  },
  {
   "cell_type": "markdown",
   "metadata": {},
   "source": [
    "### Reverse Bytes\n",
    "\n",
    "- Returns the value obtained by reversing the order of the bytes in the two's complement representation of the specified value."
   ]
  },
  {
   "cell_type": "code",
   "execution_count": 8,
   "metadata": {},
   "outputs": [
    {
     "name": "stdout",
     "output_type": "stream",
     "text": [
      "50331648\n",
      "216172782113783808\n"
     ]
    },
    {
     "data": {
      "text/plain": [
       "null"
      ]
     },
     "execution_count": 8,
     "metadata": {},
     "output_type": "execute_result"
    }
   ],
   "source": [
    "package bit_hacks.reverse_bytes;\n",
    "\n",
    "System.out.println(Integer.reverseBytes(3));\n",
    "System.out.println(Long.reverseBytes(3));"
   ]
  },
  {
   "cell_type": "markdown",
   "metadata": {},
   "source": [
    "### Rotate Left\n",
    "\n",
    "- Returns the value obtained by rotating the two's complement binary representation of the specified value left by the specified number of bits."
   ]
  },
  {
   "cell_type": "code",
   "execution_count": 9,
   "metadata": {},
   "outputs": [
    {
     "name": "stdout",
     "output_type": "stream",
     "text": [
      "12\n",
      "12\n"
     ]
    },
    {
     "data": {
      "text/plain": [
       "null"
      ]
     },
     "execution_count": 9,
     "metadata": {},
     "output_type": "execute_result"
    }
   ],
   "source": [
    "package bit_hacks.rotate_left;\n",
    "\n",
    "System.out.println(Integer.rotateLeft(3, 2));\n",
    "System.out.println(Long.rotateLeft(3, 2));"
   ]
  },
  {
   "cell_type": "markdown",
   "metadata": {},
   "source": [
    "### Rotate Right\n",
    "\n",
    "- Returns the value obtained by rotating the two's complement binary representation of the specified value right by the specified number of bits."
   ]
  },
  {
   "cell_type": "code",
   "execution_count": 10,
   "metadata": {},
   "outputs": [
    {
     "name": "stdout",
     "output_type": "stream",
     "text": [
      "-1073741824\n",
      "-4611686018427387904\n"
     ]
    },
    {
     "data": {
      "text/plain": [
       "null"
      ]
     },
     "execution_count": 10,
     "metadata": {},
     "output_type": "execute_result"
    }
   ],
   "source": [
    "package bit_hacks.rotate_right;\n",
    "\n",
    "System.out.println(Integer.rotateRight(3, 2));\n",
    "System.out.println(Long.rotateRight(3, 2));"
   ]
  },
  {
   "cell_type": "markdown",
   "metadata": {},
   "source": [
    "## Miscellaneous Hacks"
   ]
  },
  {
   "cell_type": "markdown",
   "metadata": {},
   "source": [
    "### Signed/Unsigned Multiplication and Division by 2"
   ]
  },
  {
   "cell_type": "code",
   "execution_count": 11,
   "metadata": {},
   "outputs": [
    {
     "name": "stdout",
     "output_type": "stream",
     "text": [
      "true\n",
      "true\n",
      "true\n",
      "true\n"
     ]
    },
    {
     "data": {
      "text/plain": [
       "null"
      ]
     },
     "execution_count": 11,
     "metadata": {},
     "output_type": "execute_result"
    }
   ],
   "source": [
    "package bit_hacks.miscellaneous_hack_1;\n",
    "\n",
    "System.out.println(1 * 4 == 1 << 2);\n",
    "System.out.println(4 / 2 == 4 >> 1);\n",
    "System.out.println(-1 * 4 == -1 << 2);\n",
    "System.out.println(-4 / 2 == -4 >> 1);"
   ]
  },
  {
   "cell_type": "markdown",
   "metadata": {},
   "source": [
    "### Unsigned Modulo Power of 2"
   ]
  },
  {
   "cell_type": "code",
   "execution_count": 12,
   "metadata": {},
   "outputs": [
    {
     "name": "stdout",
     "output_type": "stream",
     "text": [
      "true\n"
     ]
    },
    {
     "data": {
      "text/plain": [
       "null"
      ]
     },
     "execution_count": 12,
     "metadata": {},
     "output_type": "execute_result"
    }
   ],
   "source": [
    "package bit_hacks.miscellaneous_hack_2;\n",
    "\n",
    "System.out.println((1337 % 32) == (1337 & (32 - 1)));"
   ]
  },
  {
   "cell_type": "markdown",
   "metadata": {},
   "source": [
    "### Signed/Unsigned At Least One Zero"
   ]
  },
  {
   "cell_type": "code",
   "execution_count": 13,
   "metadata": {},
   "outputs": [
    {
     "name": "stdout",
     "output_type": "stream",
     "text": [
      "true\n",
      "true\n",
      "false\n"
     ]
    },
    {
     "data": {
      "text/plain": [
       "null"
      ]
     },
     "execution_count": 13,
     "metadata": {},
     "output_type": "execute_result"
    }
   ],
   "source": [
    "package bit_hacks.miscellaneous_hack_3;\n",
    "\n",
    "final int A = 0;\n",
    "final int B = 0;\n",
    "System.out.println((A & B) == 0);\n",
    "final int C = 0;\n",
    "final int D = 2;\n",
    "System.out.println((C & D) == 0);\n",
    "final int E = 2;\n",
    "final int F = 2;\n",
    "System.out.println((E & F) == 0);"
   ]
  },
  {
   "cell_type": "markdown",
   "metadata": {},
   "source": [
    "### Signed/Unsigned Both Zero"
   ]
  },
  {
   "cell_type": "code",
   "execution_count": 14,
   "metadata": {},
   "outputs": [
    {
     "name": "stdout",
     "output_type": "stream",
     "text": [
      "true\n",
      "false\n",
      "false\n"
     ]
    },
    {
     "data": {
      "text/plain": [
       "null"
      ]
     },
     "execution_count": 14,
     "metadata": {},
     "output_type": "execute_result"
    }
   ],
   "source": [
    "package bit_hacks.miscellaneous_hack_4;\n",
    "\n",
    "final int A = 0;\n",
    "final int B = 0;\n",
    "System.out.println((A | B) == 0);\n",
    "final int C = 0;\n",
    "final int D = 2;\n",
    "System.out.println((C | D) == 0);\n",
    "final int E = 2;\n",
    "final int F = 2;\n",
    "System.out.println((E | F) == 0);"
   ]
  },
  {
   "cell_type": "markdown",
   "metadata": {},
   "source": [
    "### Unsigned Floor Average of 2 Numbers"
   ]
  },
  {
   "cell_type": "code",
   "execution_count": 15,
   "metadata": {},
   "outputs": [
    {
     "name": "stdout",
     "output_type": "stream",
     "text": [
      "1\n",
      "1\n"
     ]
    },
    {
     "data": {
      "text/plain": [
       "null"
      ]
     },
     "execution_count": 15,
     "metadata": {},
     "output_type": "execute_result"
    }
   ],
   "source": [
    "package bit_hacks.miscellaneous_hack_5;\n",
    "\n",
    "final int A = 1;\n",
    "final int B = 2;\n",
    "System.out.println((int) Math.floor((A + B) / 2.0));\n",
    "System.out.println((A & B) + ((A ^ B) >> 1));"
   ]
  },
  {
   "cell_type": "markdown",
   "metadata": {},
   "source": [
    "### Unsigned Ceil Average of 2 Numbers"
   ]
  },
  {
   "cell_type": "code",
   "execution_count": 16,
   "metadata": {},
   "outputs": [
    {
     "name": "stdout",
     "output_type": "stream",
     "text": [
      "2\n",
      "2\n"
     ]
    },
    {
     "data": {
      "text/plain": [
       "null"
      ]
     },
     "execution_count": 16,
     "metadata": {},
     "output_type": "execute_result"
    }
   ],
   "source": [
    "package bit_hacks.miscellaneous_hack_6;\n",
    "\n",
    "final int A = 1;\n",
    "final int B = 2;\n",
    "System.out.println((int) Math.ceil((A + B) / 2.0));\n",
    "System.out.println((A | B) - ((A ^ B) >> 1));"
   ]
  },
  {
   "cell_type": "markdown",
   "metadata": {},
   "source": [
    "### Signed/Unsigned Toggling Between A or B"
   ]
  },
  {
   "cell_type": "code",
   "execution_count": 17,
   "metadata": {},
   "outputs": [
    {
     "name": "stdout",
     "output_type": "stream",
     "text": [
      "2\n",
      "1\n",
      "2\n"
     ]
    },
    {
     "data": {
      "text/plain": [
       "null"
      ]
     },
     "execution_count": 17,
     "metadata": {},
     "output_type": "execute_result"
    }
   ],
   "source": [
    "package bit_hacks.miscellaneous_hack_7;\n",
    "\n",
    "final int A = 1;\n",
    "final int B = 2;\n",
    "final int T = A ^ B;\n",
    "System.out.println(A ^ T);\n",
    "System.out.println((A ^ T) ^ T);\n",
    "System.out.println(((A ^ T) ^ T) ^ T);"
   ]
  },
  {
   "cell_type": "markdown",
   "metadata": {},
   "source": [
    "### Signed/Unsigned Next/Previous Even/Odd Value"
   ]
  },
  {
   "cell_type": "code",
   "execution_count": 18,
   "metadata": {},
   "outputs": [
    {
     "name": "stdout",
     "output_type": "stream",
     "text": [
      "Next Even: 2\n",
      "Previous Even: 0\n",
      "Next Odd: 3\n",
      "Previous Odd: -1\n"
     ]
    },
    {
     "data": {
      "text/plain": [
       "null"
      ]
     },
     "execution_count": 18,
     "metadata": {},
     "output_type": "execute_result"
    }
   ],
   "source": [
    "package bit_hacks.miscellaneous_hack_8;\n",
    "\n",
    "final int X = 1;\n",
    "System.out.println(String.format(\"Next Even: %d\", (X | 1) + 1));\n",
    "System.out.println(String.format(\"Previous Even: %d\", (X - 1) & ~1));\n",
    "System.out.println(String.format(\"Next Odd: %d\", (X + 1) | 1));\n",
    "System.out.println(String.format(\"Previous Odd: %d\", (X & ~1) - 1));"
   ]
  }
 ],
 "metadata": {
  "kernelspec": {
   "display_name": "Java",
   "language": "java",
   "name": "java"
  },
  "language_info": {
   "codemirror_mode": "text/x-java",
   "file_extension": ".java",
   "mimetype": "",
   "name": "Java",
   "nbconverter_exporter": "",
   "version": "1.8.0_152-release"
  },
  "toc": {
   "base_numbering": 1,
   "nav_menu": {},
   "number_sections": false,
   "sideBar": false,
   "skip_h1_title": false,
   "title_cell": "Table of Contents",
   "title_sidebar": "Contents",
   "toc_cell": false,
   "toc_position": {},
   "toc_section_display": false,
   "toc_window_display": false
  }
 },
 "nbformat": 4,
 "nbformat_minor": 2
}
