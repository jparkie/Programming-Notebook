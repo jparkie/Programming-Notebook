{
 "cells": [
  {
   "cell_type": "markdown",
   "id": "f2175753",
   "metadata": {},
   "source": [
    "# Strings\n",
    "*Author: Jacob Park*"
   ]
  },
  {
   "cell_type": "markdown",
   "id": "f4894a6d",
   "metadata": {},
   "source": [
    "A string is a zero-indexed array of $n$ characters.\n",
    "\n",
    "- **Substring**: A consecutive sequence of characters in a string.\n",
    "    - e.g., 'TOM' is a substring of 'PSYCHOTOMIMETIC'.\n",
    "- **Subsequence**: A monotonic sequence of chracters in a string.\n",
    "    - e.g., 'TMM' is a subsequence of 'PSYCHOTOMIMETIC'.\n",
    "- **Prefix**: A substring containing the first character of a string.\n",
    "    - e.g., 'PSYCHO' is a prefix of 'PSYCHOTOMIMETIC'.\n",
    "- **Suffix**: A substring containing the last character of a string.\n",
    "    - e.g., 'MIMETIC' is a suffix of 'PSYCHOTOMIMETIC'."
   ]
  },
  {
   "cell_type": "markdown",
   "id": "d53629e4",
   "metadata": {},
   "source": [
    "## Polynomial Hashing\n",
    "[See Link](https://en.wikipedia.org/wiki/Rolling_hash).\n",
    "$$\n",
    "\\begin{align}\n",
    "H(\\text{s}) &= \\sum_{i=0}^{n-1} \\text{s}\\left[i\\right] \\cdot p^{i} \\pmod m \\\\\n",
    "\\text{h}\\left[0\\right] &= \\text{s}\\left[0\\right] \\\\\n",
    "\\text{h}\\left[k\\right] &= \\left(\\text{h}\\left[k-1\\right] \\cdot p + \\text{s}\\left[k\\right]\\right) \\pmod m\\\\\n",
    "\\text{p}\\left[0\\right] &= 1 \\\\\n",
    "\\text{p}\\left[k\\right] &= \\left(\\text{p}\\left[k-1\\right] \\cdot p\\right) \\pmod m \\\\\n",
    "H(\\text{s}\\left[a...b\\right]) &= \\left(\\text{h}\\left[b\\right] - \\text{h}\\left[a-1\\right] \\cdot \\text{p}\\left[b-a+1\\right]\\right) \\pmod m\n",
    "\\end{align}\n",
    "$$"
   ]
  },
  {
   "cell_type": "code",
   "execution_count": 1,
   "id": "2b9bf18f",
   "metadata": {},
   "outputs": [
    {
     "data": {
      "text/plain": [
       "strings.polynomial_hashing.PolynomialHasher"
      ]
     },
     "execution_count": 1,
     "metadata": {},
     "output_type": "execute_result"
    }
   ],
   "source": [
    "package strings.polynomial_hashing;\n",
    "\n",
    "import java.util.*;\n",
    "\n",
    "public class PolynomialHasher {\n",
    "\n",
    "    private static final long PA = 31;\n",
    "    private static final long PB = 37;\n",
    "    private static final long MA = (long) (1E9 + 7);\n",
    "    private static final long MB = (long)(1E9 + 9);\n",
    "\n",
    "    private final String string;\n",
    "    private final long[] powers;\n",
    "    private final long[] hashes;\n",
    "    private final long p;\n",
    "    private final long m;\n",
    "\n",
    "    public PolynomialHasher(String string, boolean alphaFlag) {\n",
    "        this.string = string;\n",
    "        this.powers = new long[string.length()];\n",
    "        this.hashes = new long[string.length()];\n",
    "        this.p = (alphaFlag) ? PA : PB;\n",
    "        this.m = (alphaFlag) ? MA : MB;\n",
    "        initialize();\n",
    "    }\n",
    "\n",
    "    private void initialize() {\n",
    "        if (string.isEmpty()) {\n",
    "            return;\n",
    "        }\n",
    "        powers[0] = 1;\n",
    "        hashes[0] = string.charAt(0);\n",
    "        for (int index = 1; index < string.length(); index++) {\n",
    "            powers[index] = (powers[index - 1] * p) % m;\n",
    "            hashes[index] = (hashes[index - 1] * p + string.charAt(index)) % m;\n",
    "        }\n",
    "    }\n",
    "\n",
    "    public long hash(int beginIndex, int endIndex) {\n",
    "        if (beginIndex < 0 || beginIndex > endIndex || endIndex > string.length()) {\n",
    "            throw new IllegalArgumentException();\n",
    "        }\n",
    "        if (string.isEmpty()) {\n",
    "            return 0;\n",
    "        }\n",
    "        if (beginIndex == 0) {\n",
    "            return hashes[endIndex];\n",
    "        } else {\n",
    "            // Note: Java's % operator returns the remainder which can be negative.\n",
    "            // Accordingly, A mod B == ((A % B) + B) % B\n",
    "            return ((hashes[endIndex] - hashes[beginIndex - 1] * powers[endIndex - beginIndex + 1]) % m + m) % m;\n",
    "        }\n",
    "    }\n",
    "}"
   ]
  },
  {
   "cell_type": "markdown",
   "id": "16b902c9",
   "metadata": {},
   "source": [
    "### Application: Pattern Matching ($O(n)$)\n",
    "1. Generate polynomial hashes of the pattern and the text with $O(n)$ space and time complexities.\n",
    "2. Slide the text's indices with a window length of the pattern, and if the hash of the text substring matches the hash of the pattern, then the pattern matched."
   ]
  },
  {
   "cell_type": "code",
   "execution_count": 2,
   "id": "49baeb24",
   "metadata": {},
   "outputs": [
    {
     "name": "stdout",
     "output_type": "stream",
     "text": [
      "Pattern Matched [beginIndex=14, endIndex=24]\n"
     ]
    },
    {
     "data": {
      "text/plain": [
       "null"
      ]
     },
     "execution_count": 2,
     "metadata": {},
     "output_type": "execute_result"
    }
   ],
   "source": [
    "package strings.polynomial_hashing;\n",
    "\n",
    "import java.util.*;\n",
    "\n",
    "final String pattern = \"abracadabra\";\n",
    "final String text = \"abacadabrabracabracadabrabrabracad\";\n",
    "\n",
    "final PolynomialHasher patternHasher = new PolynomialHasher(pattern, true);\n",
    "final PolynomialHasher textHasher = new PolynomialHasher(text, true);\n",
    "\n",
    "final long patternHash = patternHasher.hash(0, pattern.length() - 1);\n",
    "for (int beginIndex = 0; beginIndex <= text.length() - pattern.length(); beginIndex++) {\n",
    "    final int endIndex = beginIndex + pattern.length() - 1;\n",
    "    final long textSubstringHash = textHasher.hash(beginIndex, endIndex);\n",
    "    if (patternHash == textSubstringHash) {\n",
    "        System.out.println(String.format(\"Pattern Matched [beginIndex=%d, endIndex=%d]\", beginIndex, endIndex));\n",
    "        break;\n",
    "    }\n",
    "}"
   ]
  },
  {
   "cell_type": "markdown",
   "id": "6702b7ca",
   "metadata": {},
   "source": [
    "## Z Algorithm\n",
    "TODO."
   ]
  },
  {
   "cell_type": "markdown",
   "id": "d364f1bd",
   "metadata": {},
   "source": [
    "## Suffix Array\n",
    "TODO."
   ]
  }
 ],
 "metadata": {
  "kernelspec": {
   "display_name": "Java",
   "language": "java",
   "name": "java"
  },
  "language_info": {
   "codemirror_mode": "text/x-java",
   "file_extension": ".java",
   "mimetype": "",
   "name": "Java",
   "nbconverter_exporter": "",
   "version": "1.8.0_121"
  },
  "toc": {
   "base_numbering": 1,
   "nav_menu": {},
   "number_sections": false,
   "sideBar": false,
   "skip_h1_title": false,
   "title_cell": "Table of Contents",
   "title_sidebar": "Contents",
   "toc_cell": false,
   "toc_position": {},
   "toc_section_display": false,
   "toc_window_display": false
  }
 },
 "nbformat": 4,
 "nbformat_minor": 5
}
